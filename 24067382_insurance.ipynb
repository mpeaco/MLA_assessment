{
 "cells": [
  {
   "cell_type": "markdown",
   "metadata": {},
   "source": [
    "# Medical Cost Personal Dataset \n",
    "\n",
    "## Task\n",
    "\n",
    "**The Requirements for this assessment:**\n",
    "\n",
    "- based on the given dataset, identify stakeholders/audiences who could benefit from your study. Setup your goals together with relevant research questions and choose appropriate machine learning methods to achieve your goal. \n",
    "\n",
    "- Deliver your findings to your stakeholders/ audiences with critical insights.\n",
    "\n",
    "\n",
    "**For each dataset:** \n",
    "\n",
    "- follow machine learning pipeline, after EDA and Preprocessing, select, train,apply, evaluate and present at least two models using different machine learning techniques.\n",
    "\n",
    "- Describe and justify the selection of any appropriate hyper-parameters for each model. Compare the performances of the models. Along with the code cells (preferably with comments), you should use the appropriate markdown cells in the notebook to describe and justify your work.\n",
    "\n",
    "- Novelty: Explore and innovate new method(s) that cannot be found in literature.\n",
    "\n",
    "Based on your explorations across the three <span style=\"color: red; font-weight: bold;font-size: 12pt; text-decoration: underline\"> ??</span> projects, reflect on the insights gained throughout\n",
    "your learning journey. \n",
    "\n",
    "Consider how each dataset and the comparison of the three challenged\n",
    "your understanding and forced you to think critically about data analysis, feature extraction, and\n",
    "model performance. \n",
    "\n",
    "What new skills or concepts did you master that you previously found difficult\n",
    "or confusing? \n",
    "\n",
    "Reflect on how this learning experience has deepened your knowledge, not just\n",
    "technically, but also in terms of how you approach problem-solving. Think about how this process\n",
    "has influenced your behaviour, perhaps making you more detail-oriented, patient, or the balance\n",
    "between exploration and exploitation."
   ]
  },
  {
   "cell_type": "markdown",
   "metadata": {},
   "source": [
    "## What are the aims of this?\n",
    "\n",
    "**The Requirements for this assessment:** \n",
    "\n",
    "    based on the given dataset, identify stakeholders/audiences who could benefit from your study. Setup your goals together with relevant research questions and choose appropriate machine learning methods to achieve your goal. Deliver your findings to your stakeholders/ audiences with critical insights.\n",
    "\n",
    "- Predicting the charges that a patient may be expected to pay based upon 6 factors\n",
    "    - Sex\n",
    "    - Age\n",
    "    - BMI\n",
    "    - Children\n",
    "    - Smoker\n",
    "    - Region\n",
    "\n",
    "\n",
    "### For each dataset\n",
    "\n",
    "- Follow machine learning pipeline\n",
    "    - EDA\n",
    "    - Preprocessing\n",
    "    - Select\n",
    "    - Train (2 models)\n",
    "    - Apply \n",
    "    - Evaluate\n",
    "    - Present \n",
    "\n",
    "- Describe and justify the selection of any appropriate hyper-parameters for each model\n",
    "- Compare the performance of both models\n",
    "- Explore and innovate new methods that cannot be found in literature\n"
   ]
  },
  {
   "cell_type": "markdown",
   "metadata": {},
   "source": [
    "## Stakeholders\n",
    "- An insurance company that is creating a dynamic price plan that gives an accurate charge, \n",
    "\n",
    "    depending on certain factors that are asertained during the application\n",
    "\n",
    "## Goals\n",
    "- To be able to give certain factors and get a price based on these\n",
    "\n",
    "## Research Questions\n",
    "- What is the biggest impact on charge out of the variables given and why?\n",
    "\n",
    "- *Is there a difference between bmi when it comes to men and women?*\n",
    "\n",
    "BMI categories are the same for both men and women:\n",
    "- Underweight: BMI < 18.5\n",
    "- Normal weight: BMI 18.5 - 24.9\n",
    "- Overweight: BMI 25 - 29.9\n",
    "- Obesity: BMI 30 and above\n",
    "\n",
    "Is there a way to encode these based on these categories?"
   ]
  },
  {
   "cell_type": "markdown",
   "metadata": {},
   "source": [
    "## Imports\n"
   ]
  },
  {
   "cell_type": "code",
   "execution_count": null,
   "metadata": {},
   "outputs": [],
   "source": [
    "import os\n",
    "import numpy as np\n",
    "import pandas as pd\n",
    "import matplotlib.pyplot as plt\n",
    "import IPython.display as ipd\n",
    "import seaborn as sns\n",
    "\n",
    "%matplotlib inline\n",
    "import plotly.express as px\n",
    "from rich import pretty, print\n",
    "import ipywidgets as widgets\n",
    "from ipywidgets import interact\n",
    "import missingno as msno\n",
    "from sklearn.impute import KNNImputer\n",
    "from sklearn.preprocessing import OneHotEncoder\n",
    "from sklearn.compose import ColumnTransformer\n",
    "from sklearn.pipeline import Pipeline\n",
    "from sklearn.linear_model import LinearRegression\n",
    "from sklearn.model_selection import train_test_split\n",
    "from sklearn.metrics import mean_squared_error\n",
    "from sklearn.preprocessing import StandardScaler, MinMaxScaler\n",
    "import joblib\n",
    "import pandas as pd\n",
    "from sklearn.metrics import r2_score, mean_absolute_error, root_mean_squared_error\n",
    "from xgboost import XGBRegressor\n",
    "from lightgbm import LGBMRegressor\n",
    "from sklearn.ensemble import RandomForestRegressor\n",
    "from sklearn.tree import DecisionTreeRegressor\n",
    "from catboost import CatBoostRegressor\n",
    "from sklearn.model_selection import GridSearchCV\n",
    "import optuna\n",
    "from sklearn.model_selection import cross_val_score\n",
    "\n",
    "\n",
    "pretty.install()"
   ]
  },
  {
   "cell_type": "code",
   "execution_count": 2,
   "metadata": {},
   "outputs": [],
   "source": [
    "colours = sns.color_palette(\"Set3\")"
   ]
  },
  {
   "cell_type": "markdown",
   "metadata": {},
   "source": [
    "## Load the dataset"
   ]
  },
  {
   "cell_type": "code",
   "execution_count": 3,
   "metadata": {},
   "outputs": [
    {
     "data": {
      "text/html": [
       "<pre style=\"white-space:pre;overflow-x:auto;line-height:normal;font-family:Menlo,'DejaVu Sans Mono',consolas,'Courier New',monospace\"></pre>\n"
      ],
      "text/plain": []
     },
     "metadata": {},
     "output_type": "display_data"
    },
    {
     "data": {
      "text/html": [
       "<div>\n",
       "<style scoped>\n",
       "    .dataframe tbody tr th:only-of-type {\n",
       "        vertical-align: middle;\n",
       "    }\n",
       "\n",
       "    .dataframe tbody tr th {\n",
       "        vertical-align: top;\n",
       "    }\n",
       "\n",
       "    .dataframe thead th {\n",
       "        text-align: right;\n",
       "    }\n",
       "</style>\n",
       "<table border=\"1\" class=\"dataframe\">\n",
       "  <thead>\n",
       "    <tr style=\"text-align: right;\">\n",
       "      <th></th>\n",
       "      <th>age</th>\n",
       "      <th>sex</th>\n",
       "      <th>bmi</th>\n",
       "      <th>children</th>\n",
       "      <th>smoker</th>\n",
       "      <th>region</th>\n",
       "      <th>charges</th>\n",
       "    </tr>\n",
       "  </thead>\n",
       "  <tbody>\n",
       "    <tr>\n",
       "      <th>0</th>\n",
       "      <td>19.0</td>\n",
       "      <td>female</td>\n",
       "      <td>27.900</td>\n",
       "      <td>0</td>\n",
       "      <td>yes</td>\n",
       "      <td>southwest</td>\n",
       "      <td>16884.92400</td>\n",
       "    </tr>\n",
       "    <tr>\n",
       "      <th>1</th>\n",
       "      <td>18.0</td>\n",
       "      <td>male</td>\n",
       "      <td>33.770</td>\n",
       "      <td>1</td>\n",
       "      <td>no</td>\n",
       "      <td>southeast</td>\n",
       "      <td>1725.55230</td>\n",
       "    </tr>\n",
       "    <tr>\n",
       "      <th>2</th>\n",
       "      <td>28.0</td>\n",
       "      <td>male</td>\n",
       "      <td>33.000</td>\n",
       "      <td>3</td>\n",
       "      <td>no</td>\n",
       "      <td>southeast</td>\n",
       "      <td>4449.46200</td>\n",
       "    </tr>\n",
       "    <tr>\n",
       "      <th>3</th>\n",
       "      <td>33.0</td>\n",
       "      <td>male</td>\n",
       "      <td>22.705</td>\n",
       "      <td>0</td>\n",
       "      <td>no</td>\n",
       "      <td>northwest</td>\n",
       "      <td>21984.47061</td>\n",
       "    </tr>\n",
       "    <tr>\n",
       "      <th>4</th>\n",
       "      <td>32.0</td>\n",
       "      <td>male</td>\n",
       "      <td>28.880</td>\n",
       "      <td>0</td>\n",
       "      <td>no</td>\n",
       "      <td>northwest</td>\n",
       "      <td>3866.85520</td>\n",
       "    </tr>\n",
       "    <tr>\n",
       "      <th>5</th>\n",
       "      <td>NaN</td>\n",
       "      <td>female</td>\n",
       "      <td>25.740</td>\n",
       "      <td>0</td>\n",
       "      <td>no</td>\n",
       "      <td>southeast</td>\n",
       "      <td>3756.62160</td>\n",
       "    </tr>\n",
       "  </tbody>\n",
       "</table>\n",
       "</div>"
      ],
      "text/plain": [
       "\n",
       "    age     sex     bmi  children smoker     region      charges\n",
       "\u001b[1;36m0\u001b[0m  \u001b[1;36m19.0\u001b[0m  female  \u001b[1;36m27.900\u001b[0m         \u001b[1;36m0\u001b[0m    yes  southwest  \u001b[1;36m16884.92400\u001b[0m\n",
       "\u001b[1;36m1\u001b[0m  \u001b[1;36m18.0\u001b[0m    male  \u001b[1;36m33.770\u001b[0m         \u001b[1;36m1\u001b[0m     no  southeast   \u001b[1;36m1725.55230\u001b[0m\n",
       "\u001b[1;36m2\u001b[0m  \u001b[1;36m28.0\u001b[0m    male  \u001b[1;36m33.000\u001b[0m         \u001b[1;36m3\u001b[0m     no  southeast   \u001b[1;36m4449.46200\u001b[0m\n",
       "\u001b[1;36m3\u001b[0m  \u001b[1;36m33.0\u001b[0m    male  \u001b[1;36m22.705\u001b[0m         \u001b[1;36m0\u001b[0m     no  northwest  \u001b[1;36m21984.47061\u001b[0m\n",
       "\u001b[1;36m4\u001b[0m  \u001b[1;36m32.0\u001b[0m    male  \u001b[1;36m28.880\u001b[0m         \u001b[1;36m0\u001b[0m     no  northwest   \u001b[1;36m3866.85520\u001b[0m\n",
       "\u001b[1;36m5\u001b[0m   NaN  female  \u001b[1;36m25.740\u001b[0m         \u001b[1;36m0\u001b[0m     no  southeast   \u001b[1;36m3756.62160\u001b[0m"
      ]
     },
     "execution_count": 3,
     "metadata": {},
     "output_type": "execute_result"
    }
   ],
   "source": [
    "data_filepath = \"./Data/insurance-adapted.csv\"\n",
    "dataframe = pd.read_csv(data_filepath)\n",
    "dataframe.head(6)"
   ]
  },
  {
   "cell_type": "code",
   "execution_count": 4,
   "metadata": {},
   "outputs": [
    {
     "name": "stdout",
     "output_type": "stream",
     "text": [
      "<class 'pandas.core.frame.DataFrame'>\n",
      "RangeIndex: 1338 entries, 0 to 1337\n",
      "Data columns (total 7 columns):\n",
      " #   Column    Non-Null Count  Dtype  \n",
      "---  ------    --------------  -----  \n",
      " 0   age       1318 non-null   float64\n",
      " 1   sex       1338 non-null   object \n",
      " 2   bmi       1338 non-null   float64\n",
      " 3   children  1338 non-null   int64  \n",
      " 4   smoker    1338 non-null   object \n",
      " 5   region    1338 non-null   object \n",
      " 6   charges   1338 non-null   float64\n",
      "dtypes: float64(3), int64(1), object(3)\n",
      "memory usage: 73.3+ KB\n"
     ]
    }
   ],
   "source": [
    "dataframe.info()"
   ]
  },
  {
   "cell_type": "code",
   "execution_count": 5,
   "metadata": {},
   "outputs": [
    {
     "name": "stderr",
     "output_type": "stream",
     "text": [
      "/var/folders/xh/fvvnghrs13n5sqcsmprbn_c80000gn/T/ipykernel_29785/4074888093.py:2: UserWarning: Ignoring `palette` because no `hue` variable has been assigned.\n",
      "  sns.histplot(data=dataframe, x=\"charges\", palette=colours, bins=30, kde=True)\n"
     ]
    },
    {
     "data": {
      "text/html": [
       "<pre style=\"white-space:pre;overflow-x:auto;line-height:normal;font-family:Menlo,'DejaVu Sans Mono',consolas,'Courier New',monospace\"></pre>\n"
      ],
      "text/plain": []
     },
     "metadata": {},
     "output_type": "display_data"
    },
    {
     "data": {
      "image/png": "[encoded data removed]",
      "text/plain": [
       "\u001b[1m<\u001b[0m\u001b[1;95mFigure\u001b[0m\u001b[39m size 160\u001b[0m\u001b[1;36m0x600\u001b[0m\u001b[39m with \u001b[0m\u001b[1;36m1\u001b[0m\u001b[39m Axes\u001b[0m\u001b[1m>\u001b[0m"
      ]
     },
     "metadata": {},
     "output_type": "display_data"
    }
   ],
   "source": [
    "plt.figure(figsize=(16, 6))\n",
    "sns.histplot(data=dataframe, x=\"charges\", palette=colours, bins=30, kde=True)\n",
    "plt.title(\"Distribution of Target variable 'charges'\")\n",
    "plt.show()"
   ]
  },
  {
   "cell_type": "code",
   "execution_count": 6,
   "metadata": {},
   "outputs": [
    {
     "data": {
      "text/html": [
       "<pre style=\"white-space:pre;overflow-x:auto;line-height:normal;font-family:Menlo,'DejaVu Sans Mono',consolas,'Courier New',monospace\">age         <span style=\"color: #008080; text-decoration-color: #008080; font-weight: bold\">20</span>\n",
       "sex          <span style=\"color: #008080; text-decoration-color: #008080; font-weight: bold\">0</span>\n",
       "bmi          <span style=\"color: #008080; text-decoration-color: #008080; font-weight: bold\">0</span>\n",
       "children     <span style=\"color: #008080; text-decoration-color: #008080; font-weight: bold\">0</span>\n",
       "smoker       <span style=\"color: #008080; text-decoration-color: #008080; font-weight: bold\">0</span>\n",
       "region       <span style=\"color: #008080; text-decoration-color: #008080; font-weight: bold\">0</span>\n",
       "charges      <span style=\"color: #008080; text-decoration-color: #008080; font-weight: bold\">0</span>\n",
       "dtype: int64\n",
       "</pre>\n"
      ],
      "text/plain": [
       "age         \u001b[1;36m20\u001b[0m\n",
       "sex          \u001b[1;36m0\u001b[0m\n",
       "bmi          \u001b[1;36m0\u001b[0m\n",
       "children     \u001b[1;36m0\u001b[0m\n",
       "smoker       \u001b[1;36m0\u001b[0m\n",
       "region       \u001b[1;36m0\u001b[0m\n",
       "charges      \u001b[1;36m0\u001b[0m\n",
       "dtype: int64\n"
      ]
     },
     "metadata": {},
     "output_type": "display_data"
    }
   ],
   "source": [
    "null_vals = dataframe.isnull().sum()\n",
    "print(null_vals)"
   ]
  },
  {
   "cell_type": "code",
   "execution_count": 7,
   "metadata": {},
   "outputs": [
    {
     "data": {
      "text/html": [
       "<pre style=\"white-space:pre;overflow-x:auto;line-height:normal;font-family:Menlo,'DejaVu Sans Mono',consolas,'Courier New',monospace\">age         <span style=\"color: #008080; text-decoration-color: #008080; font-weight: bold\">20</span>\n",
       "sex          <span style=\"color: #008080; text-decoration-color: #008080; font-weight: bold\">0</span>\n",
       "bmi          <span style=\"color: #008080; text-decoration-color: #008080; font-weight: bold\">0</span>\n",
       "children     <span style=\"color: #008080; text-decoration-color: #008080; font-weight: bold\">0</span>\n",
       "smoker       <span style=\"color: #008080; text-decoration-color: #008080; font-weight: bold\">0</span>\n",
       "region       <span style=\"color: #008080; text-decoration-color: #008080; font-weight: bold\">0</span>\n",
       "charges      <span style=\"color: #008080; text-decoration-color: #008080; font-weight: bold\">0</span>\n",
       "dtype: int64\n",
       "</pre>\n"
      ],
      "text/plain": [
       "age         \u001b[1;36m20\u001b[0m\n",
       "sex          \u001b[1;36m0\u001b[0m\n",
       "bmi          \u001b[1;36m0\u001b[0m\n",
       "children     \u001b[1;36m0\u001b[0m\n",
       "smoker       \u001b[1;36m0\u001b[0m\n",
       "region       \u001b[1;36m0\u001b[0m\n",
       "charges      \u001b[1;36m0\u001b[0m\n",
       "dtype: int64\n"
      ]
     },
     "metadata": {},
     "output_type": "display_data"
    }
   ],
   "source": [
    "na_vals = dataframe.isna().sum()\n",
    "print(na_vals)"
   ]
  },
  {
   "cell_type": "code",
   "execution_count": null,
   "metadata": {},
   "outputs": [
    {
     "data": {
      "text/html": [
       "<pre style=\"white-space:pre;overflow-x:auto;line-height:normal;font-family:Menlo,'DejaVu Sans Mono',consolas,'Courier New',monospace\"></pre>\n"
      ],
      "text/plain": []
     },
     "metadata": {},
     "output_type": "display_data"
    },
    {
     "data": {
      "image/png": "[encoded data removed]",
      "text/plain": [
       "\u001b[1m<\u001b[0m\u001b[1;95mFigure\u001b[0m\u001b[39m size 250\u001b[0m\u001b[1;36m0x1000\u001b[0m\u001b[39m with \u001b[0m\u001b[1;36m2\u001b[0m\u001b[39m Axes\u001b[0m\u001b[1m>\u001b[0m"
      ]
     },
     "metadata": {},
     "output_type": "display_data"
    }
   ],
   "source": [
    "msno.matrix(dataframe, color=colours[0])\n",
    "plt.title(\"Missing Data Matrix\")\n",
    "plt.axis()\n",
    "plt.show()"
   ]
  },
  {
   "cell_type": "markdown",
   "metadata": {},
   "source": [
    "## Missing data:\n",
    "\n",
    "- 20 values missing in the age feature, how are we going to handle this?"
   ]
  },
  {
   "cell_type": "code",
   "execution_count": 9,
   "metadata": {},
   "outputs": [
    {
     "data": {
      "text/html": [
       "<pre style=\"white-space:pre;overflow-x:auto;line-height:normal;font-family:Menlo,'DejaVu Sans Mono',consolas,'Courier New',monospace\"></pre>\n"
      ],
      "text/plain": []
     },
     "metadata": {},
     "output_type": "display_data"
    },
    {
     "data": {
      "text/html": [
       "<div>\n",
       "<style scoped>\n",
       "    .dataframe tbody tr th:only-of-type {\n",
       "        vertical-align: middle;\n",
       "    }\n",
       "\n",
       "    .dataframe tbody tr th {\n",
       "        vertical-align: top;\n",
       "    }\n",
       "\n",
       "    .dataframe thead th {\n",
       "        text-align: right;\n",
       "    }\n",
       "</style>\n",
       "<table border=\"1\" class=\"dataframe\">\n",
       "  <thead>\n",
       "    <tr style=\"text-align: right;\">\n",
       "      <th></th>\n",
       "      <th>age</th>\n",
       "      <th>bmi</th>\n",
       "      <th>children</th>\n",
       "      <th>charges</th>\n",
       "    </tr>\n",
       "  </thead>\n",
       "  <tbody>\n",
       "    <tr>\n",
       "      <th>count</th>\n",
       "      <td>1318.000000</td>\n",
       "      <td>1338.000000</td>\n",
       "      <td>1338.000000</td>\n",
       "      <td>1338.000000</td>\n",
       "    </tr>\n",
       "    <tr>\n",
       "      <th>mean</th>\n",
       "      <td>39.216237</td>\n",
       "      <td>30.663397</td>\n",
       "      <td>1.094918</td>\n",
       "      <td>13270.422265</td>\n",
       "    </tr>\n",
       "    <tr>\n",
       "      <th>std</th>\n",
       "      <td>14.083151</td>\n",
       "      <td>6.098187</td>\n",
       "      <td>1.205493</td>\n",
       "      <td>12110.011237</td>\n",
       "    </tr>\n",
       "    <tr>\n",
       "      <th>min</th>\n",
       "      <td>18.000000</td>\n",
       "      <td>15.960000</td>\n",
       "      <td>0.000000</td>\n",
       "      <td>1121.873900</td>\n",
       "    </tr>\n",
       "    <tr>\n",
       "      <th>25%</th>\n",
       "      <td>26.000000</td>\n",
       "      <td>26.296250</td>\n",
       "      <td>0.000000</td>\n",
       "      <td>4740.287150</td>\n",
       "    </tr>\n",
       "    <tr>\n",
       "      <th>50%</th>\n",
       "      <td>39.000000</td>\n",
       "      <td>30.400000</td>\n",
       "      <td>1.000000</td>\n",
       "      <td>9382.033000</td>\n",
       "    </tr>\n",
       "    <tr>\n",
       "      <th>75%</th>\n",
       "      <td>51.000000</td>\n",
       "      <td>34.693750</td>\n",
       "      <td>2.000000</td>\n",
       "      <td>16639.912515</td>\n",
       "    </tr>\n",
       "    <tr>\n",
       "      <th>max</th>\n",
       "      <td>64.000000</td>\n",
       "      <td>53.130000</td>\n",
       "      <td>5.000000</td>\n",
       "      <td>63770.428010</td>\n",
       "    </tr>\n",
       "  </tbody>\n",
       "</table>\n",
       "</div>"
      ],
      "text/plain": [
       "\n",
       "               age          bmi     children       charges\n",
       "count  \u001b[1;36m1318.000000\u001b[0m  \u001b[1;36m1338.000000\u001b[0m  \u001b[1;36m1338.000000\u001b[0m   \u001b[1;36m1338.000000\u001b[0m\n",
       "mean     \u001b[1;36m39.216237\u001b[0m    \u001b[1;36m30.663397\u001b[0m     \u001b[1;36m1.094918\u001b[0m  \u001b[1;36m13270.422265\u001b[0m\n",
       "std      \u001b[1;36m14.083151\u001b[0m     \u001b[1;36m6.098187\u001b[0m     \u001b[1;36m1.205493\u001b[0m  \u001b[1;36m12110.011237\u001b[0m\n",
       "min      \u001b[1;36m18.000000\u001b[0m    \u001b[1;36m15.960000\u001b[0m     \u001b[1;36m0.000000\u001b[0m   \u001b[1;36m1121.873900\u001b[0m\n",
       "\u001b[1;36m25\u001b[0m%      \u001b[1;36m26.000000\u001b[0m    \u001b[1;36m26.296250\u001b[0m     \u001b[1;36m0.000000\u001b[0m   \u001b[1;36m4740.287150\u001b[0m\n",
       "\u001b[1;36m50\u001b[0m%      \u001b[1;36m39.000000\u001b[0m    \u001b[1;36m30.400000\u001b[0m     \u001b[1;36m1.000000\u001b[0m   \u001b[1;36m9382.033000\u001b[0m\n",
       "\u001b[1;36m75\u001b[0m%      \u001b[1;36m51.000000\u001b[0m    \u001b[1;36m34.693750\u001b[0m     \u001b[1;36m2.000000\u001b[0m  \u001b[1;36m16639.912515\u001b[0m\n",
       "max      \u001b[1;36m64.000000\u001b[0m    \u001b[1;36m53.130000\u001b[0m     \u001b[1;36m5.000000\u001b[0m  \u001b[1;36m63770.428010\u001b[0m"
      ]
     },
     "execution_count": 9,
     "metadata": {},
     "output_type": "execute_result"
    }
   ],
   "source": [
    "dataframe.describe()"
   ]
  },
  {
   "cell_type": "markdown",
   "metadata": {},
   "source": [
    "## Distribution of numeric features"
   ]
  },
  {
   "cell_type": "code",
   "execution_count": 10,
   "metadata": {},
   "outputs": [
    {
     "data": {
      "text/html": [
       "<pre style=\"white-space:pre;overflow-x:auto;line-height:normal;font-family:Menlo,'DejaVu Sans Mono',consolas,'Courier New',monospace\"></pre>\n"
      ],
      "text/plain": []
     },
     "metadata": {},
     "output_type": "display_data"
    },
    {
     "data": {
      "image/png": "[encoded data removed]",
      "text/plain": [
       "\u001b[1m<\u001b[0m\u001b[1;95mFigure\u001b[0m\u001b[39m size 150\u001b[0m\u001b[1;36m0x1000\u001b[0m\u001b[39m with \u001b[0m\u001b[1;36m4\u001b[0m\u001b[39m Axes\u001b[0m\u001b[1m>\u001b[0m"
      ]
     },
     "metadata": {},
     "output_type": "display_data"
    }
   ],
   "source": [
    "numeric_cols = dataframe.select_dtypes(include=\"number\").columns\n",
    "\n",
    "num_cols = len(numeric_cols)\n",
    "nrows = (num_cols + 2) // 3\n",
    "\n",
    "\n",
    "plt.figure(figsize=(15, 5 * nrows))\n",
    "for i, col in enumerate(numeric_cols):\n",
    "    plt.subplot(nrows, 3, i + 1)\n",
    "    sns.histplot(dataframe[col], color=colours[i], bins=10, kde=True)\n",
    "    plt.title(col)\n",
    "\n",
    "plt.tight_layout()\n",
    "plt.suptitle(\"Histogram Distribution of Numeric Features\", fontsize=16, y=1.002)\n",
    "plt.show()"
   ]
  },
  {
   "cell_type": "markdown",
   "metadata": {},
   "source": [
    "## Object columns\n",
    "\n",
    "Visualise using countplots"
   ]
  },
  {
   "cell_type": "code",
   "execution_count": 11,
   "metadata": {},
   "outputs": [
    {
     "data": {
      "text/html": [
       "<pre style=\"white-space:pre;overflow-x:auto;line-height:normal;font-family:Menlo,'DejaVu Sans Mono',consolas,'Courier New',monospace\"></pre>\n"
      ],
      "text/plain": []
     },
     "metadata": {},
     "output_type": "display_data"
    },
    {
     "data": {
      "image/png": "[encoded data removed]",
      "text/plain": [
       "\u001b[1m<\u001b[0m\u001b[1;95mFigure\u001b[0m\u001b[39m size 150\u001b[0m\u001b[1;36m0x500\u001b[0m\u001b[39m with \u001b[0m\u001b[1;36m3\u001b[0m\u001b[39m Axes\u001b[0m\u001b[1m>\u001b[0m"
      ]
     },
     "metadata": {},
     "output_type": "display_data"
    }
   ],
   "source": [
    "object_cols = dataframe.select_dtypes(include=\"object\").columns\n",
    "\n",
    "num_cols = len(object_cols)\n",
    "nrows = (num_cols + 2) // 3\n",
    "\n",
    "\n",
    "colours = sns.color_palette(\"Set3\", num_cols)\n",
    "\n",
    "plt.figure(figsize=(15, 5 * nrows))\n",
    "for i, col in enumerate(object_cols):\n",
    "    plt.subplot(nrows, 3, i + 1)\n",
    "    sns.countplot(x=dataframe[col], color=colours[i])\n",
    "    plt.title(col)\n",
    "\n",
    "plt.tight_layout()\n",
    "plt.suptitle(\"Histogram Distribution of Object Features\", fontsize=16, y=1.002)\n",
    "plt.show()"
   ]
  },
  {
   "cell_type": "markdown",
   "metadata": {},
   "source": [
    "## Any outliers?\n"
   ]
  },
  {
   "cell_type": "code",
   "execution_count": 12,
   "metadata": {},
   "outputs": [
    {
     "data": {
      "text/html": [
       "<pre style=\"white-space:pre;overflow-x:auto;line-height:normal;font-family:Menlo,'DejaVu Sans Mono',consolas,'Courier New',monospace\"></pre>\n"
      ],
      "text/plain": []
     },
     "metadata": {},
     "output_type": "display_data"
    },
    {
     "data": {
      "image/png": "[encoded data removed]",
      "text/plain": [
       "\u001b[1m<\u001b[0m\u001b[1;95mFigure\u001b[0m\u001b[39m size 150\u001b[0m\u001b[1;36m0x1000\u001b[0m\u001b[39m with \u001b[0m\u001b[1;36m4\u001b[0m\u001b[39m Axes\u001b[0m\u001b[1m>\u001b[0m"
      ]
     },
     "metadata": {},
     "output_type": "display_data"
    }
   ],
   "source": [
    "numeric_cols = dataframe.select_dtypes(include=\"number\").columns\n",
    "\n",
    "num_cols = len(numeric_cols)\n",
    "nrows = (num_cols + 2) // 3\n",
    "colours = sns.color_palette(\"Set3\", num_cols)\n",
    "\n",
    "plt.figure(figsize=(15, 5 * nrows))\n",
    "for i, col in enumerate(numeric_cols):\n",
    "    plt.subplot(nrows, 3, i + 1)  # Create subplot\n",
    "    sns.boxplot(x=dataframe[col], color=colours[i])\n",
    "    plt.title(f\"Outliers in {col}\")\n",
    "    plt.xlabel(col)\n",
    "\n",
    "plt.suptitle(\"Outliers in Numeric Data\", fontsize=16, y=1.002)\n",
    "plt.tight_layout()\n",
    "plt.show()"
   ]
  },
  {
   "cell_type": "markdown",
   "metadata": {},
   "source": [
    "## Correlation of features"
   ]
  },
  {
   "cell_type": "code",
   "execution_count": 13,
   "metadata": {},
   "outputs": [
    {
     "data": {
      "text/html": [
       "<pre style=\"white-space:pre;overflow-x:auto;line-height:normal;font-family:Menlo,'DejaVu Sans Mono',consolas,'Courier New',monospace\"></pre>\n"
      ],
      "text/plain": []
     },
     "metadata": {},
     "output_type": "display_data"
    },
    {
     "data": {
      "image/png": "[encoded data removed]",
      "text/plain": [
       "\u001b[1m<\u001b[0m\u001b[1;95mFigure\u001b[0m\u001b[39m size 120\u001b[0m\u001b[1;36m0x1200\u001b[0m\u001b[39m with \u001b[0m\u001b[1;36m2\u001b[0m\u001b[39m Axes\u001b[0m\u001b[1m>\u001b[0m"
      ]
     },
     "metadata": {},
     "output_type": "display_data"
    }
   ],
   "source": [
    "plt.figure(figsize=(12, 12))\n",
    "corr = dataframe.corr(numeric_only=True)\n",
    "ax = sns.heatmap(\n",
    "    corr,\n",
    "    vmin=-1,\n",
    "    vmax=1,\n",
    "    square=True,\n",
    "    linewidths=0.5,\n",
    "    cbar_kws={\"shrink\": 0.4},\n",
    "    cmap=\"BrBG\",\n",
    ")\n",
    "ax.set(xlabel=\"\", ylabel=\"\")\n",
    "plt.title(\"Correlation of Numerical Features\", fontsize=16)\n",
    "plt.show()"
   ]
  },
  {
   "cell_type": "markdown",
   "metadata": {},
   "source": [
    "## Preprocessing"
   ]
  },
  {
   "cell_type": "markdown",
   "metadata": {},
   "source": [
    "### Deal with missing values\n",
    "\n",
    "- As the age is an important factor as shown in the correlation matrix, and the dataset is small the rows cannot just be dropped\n",
    "- The best way to impute the values could be though working out what the age for these rows should be based on other data "
   ]
  },
  {
   "cell_type": "code",
   "execution_count": 14,
   "metadata": {},
   "outputs": [
    {
     "data": {
      "text/html": [
       "<pre style=\"white-space:pre;overflow-x:auto;line-height:normal;font-family:Menlo,'DejaVu Sans Mono',consolas,'Courier New',monospace\">      age     sex     bmi  children smoker     region      charges\n",
       "<span style=\"color: #008080; text-decoration-color: #008080; font-weight: bold\">5</span>     NaN  female  <span style=\"color: #008080; text-decoration-color: #008080; font-weight: bold\">25.740</span>         <span style=\"color: #008080; text-decoration-color: #008080; font-weight: bold\">0</span>     no  southeast   <span style=\"color: #008080; text-decoration-color: #008080; font-weight: bold\">3756.62160</span>\n",
       "<span style=\"color: #008080; text-decoration-color: #008080; font-weight: bold\">37</span>    NaN    male  <span style=\"color: #008080; text-decoration-color: #008080; font-weight: bold\">20.800</span>         <span style=\"color: #008080; text-decoration-color: #008080; font-weight: bold\">0</span>     no  southwest   <span style=\"color: #008080; text-decoration-color: #008080; font-weight: bold\">2302.30000</span>\n",
       "<span style=\"color: #008080; text-decoration-color: #008080; font-weight: bold\">135</span>   NaN  female  <span style=\"color: #008080; text-decoration-color: #008080; font-weight: bold\">28.050</span>         <span style=\"color: #008080; text-decoration-color: #008080; font-weight: bold\">0</span>     no  southeast   <span style=\"color: #008080; text-decoration-color: #008080; font-weight: bold\">2155.68150</span>\n",
       "<span style=\"color: #008080; text-decoration-color: #008080; font-weight: bold\">190</span>   NaN    male  <span style=\"color: #008080; text-decoration-color: #008080; font-weight: bold\">31.570</span>         <span style=\"color: #008080; text-decoration-color: #008080; font-weight: bold\">0</span>     no  southeast  <span style=\"color: #008080; text-decoration-color: #008080; font-weight: bold\">12557.60530</span>\n",
       "<span style=\"color: #008080; text-decoration-color: #008080; font-weight: bold\">264</span>   NaN  female  <span style=\"color: #008080; text-decoration-color: #008080; font-weight: bold\">38.060</span>         <span style=\"color: #008080; text-decoration-color: #008080; font-weight: bold\">3</span>     no  southeast  <span style=\"color: #008080; text-decoration-color: #008080; font-weight: bold\">20462.99766</span>\n",
       "<span style=\"color: #008080; text-decoration-color: #008080; font-weight: bold\">265</span>   NaN    male  <span style=\"color: #008080; text-decoration-color: #008080; font-weight: bold\">42.350</span>         <span style=\"color: #008080; text-decoration-color: #008080; font-weight: bold\">3</span>    yes  southeast  <span style=\"color: #008080; text-decoration-color: #008080; font-weight: bold\">46151.12450</span>\n",
       "<span style=\"color: #008080; text-decoration-color: #008080; font-weight: bold\">407</span>   NaN  female  <span style=\"color: #008080; text-decoration-color: #008080; font-weight: bold\">23.600</span>         <span style=\"color: #008080; text-decoration-color: #008080; font-weight: bold\">1</span>     no  southwest   <span style=\"color: #008080; text-decoration-color: #008080; font-weight: bold\">8539.67100</span>\n",
       "<span style=\"color: #008080; text-decoration-color: #008080; font-weight: bold\">409</span>   NaN    male  <span style=\"color: #008080; text-decoration-color: #008080; font-weight: bold\">30.030</span>         <span style=\"color: #008080; text-decoration-color: #008080; font-weight: bold\">1</span>     no  southeast   <span style=\"color: #008080; text-decoration-color: #008080; font-weight: bold\">4074.45370</span>\n",
       "<span style=\"color: #008080; text-decoration-color: #008080; font-weight: bold\">482</span>   NaN  female  <span style=\"color: #008080; text-decoration-color: #008080; font-weight: bold\">31.350</span>         <span style=\"color: #008080; text-decoration-color: #008080; font-weight: bold\">0</span>     no  southeast   <span style=\"color: #008080; text-decoration-color: #008080; font-weight: bold\">1622.18850</span>\n",
       "<span style=\"color: #008080; text-decoration-color: #008080; font-weight: bold\">496</span>   NaN  female  <span style=\"color: #008080; text-decoration-color: #008080; font-weight: bold\">23.600</span>         <span style=\"color: #008080; text-decoration-color: #008080; font-weight: bold\">2</span>     no  southwest   <span style=\"color: #008080; text-decoration-color: #008080; font-weight: bold\">4931.64700</span>\n",
       "<span style=\"color: #008080; text-decoration-color: #008080; font-weight: bold\">549</span>   NaN  female  <span style=\"color: #008080; text-decoration-color: #008080; font-weight: bold\">46.200</span>         <span style=\"color: #008080; text-decoration-color: #008080; font-weight: bold\">0</span>    yes  southeast  <span style=\"color: #008080; text-decoration-color: #008080; font-weight: bold\">45863.20500</span>\n",
       "<span style=\"color: #008080; text-decoration-color: #008080; font-weight: bold\">551</span>   NaN  female  <span style=\"color: #008080; text-decoration-color: #008080; font-weight: bold\">28.930</span>         <span style=\"color: #008080; text-decoration-color: #008080; font-weight: bold\">0</span>     no  southeast   <span style=\"color: #008080; text-decoration-color: #008080; font-weight: bold\">3972.92470</span>\n",
       "<span style=\"color: #008080; text-decoration-color: #008080; font-weight: bold\">674</span>   NaN  female  <span style=\"color: #008080; text-decoration-color: #008080; font-weight: bold\">43.890</span>         <span style=\"color: #008080; text-decoration-color: #008080; font-weight: bold\">2</span>    yes  southeast  <span style=\"color: #008080; text-decoration-color: #008080; font-weight: bold\">46200.98510</span>\n",
       "<span style=\"color: #008080; text-decoration-color: #008080; font-weight: bold\">777</span>   NaN    male  <span style=\"color: #008080; text-decoration-color: #008080; font-weight: bold\">39.805</span>         <span style=\"color: #008080; text-decoration-color: #008080; font-weight: bold\">0</span>     no  northeast   <span style=\"color: #008080; text-decoration-color: #008080; font-weight: bold\">7448.40395</span>\n",
       "<span style=\"color: #008080; text-decoration-color: #008080; font-weight: bold\">895</span>   NaN  female  <span style=\"color: #008080; text-decoration-color: #008080; font-weight: bold\">44.000</span>         <span style=\"color: #008080; text-decoration-color: #008080; font-weight: bold\">0</span>     no  southwest  <span style=\"color: #008080; text-decoration-color: #008080; font-weight: bold\">13063.88300</span>\n",
       "<span style=\"color: #008080; text-decoration-color: #008080; font-weight: bold\">988</span>   NaN    male  <span style=\"color: #008080; text-decoration-color: #008080; font-weight: bold\">34.675</span>         <span style=\"color: #008080; text-decoration-color: #008080; font-weight: bold\">0</span>     no  northeast   <span style=\"color: #008080; text-decoration-color: #008080; font-weight: bold\">4518.82625</span>\n",
       "<span style=\"color: #008080; text-decoration-color: #008080; font-weight: bold\">1066</span>  NaN    male  <span style=\"color: #008080; text-decoration-color: #008080; font-weight: bold\">37.290</span>         <span style=\"color: #008080; text-decoration-color: #008080; font-weight: bold\">2</span>     no  southeast   <span style=\"color: #008080; text-decoration-color: #008080; font-weight: bold\">8978.18510</span>\n",
       "<span style=\"color: #008080; text-decoration-color: #008080; font-weight: bold\">1153</span>  NaN  female  <span style=\"color: #008080; text-decoration-color: #008080; font-weight: bold\">35.815</span>         <span style=\"color: #008080; text-decoration-color: #008080; font-weight: bold\">1</span>     no  northwest   <span style=\"color: #008080; text-decoration-color: #008080; font-weight: bold\">5630.45785</span>\n",
       "<span style=\"color: #008080; text-decoration-color: #008080; font-weight: bold\">1249</span>  NaN    male  <span style=\"color: #008080; text-decoration-color: #008080; font-weight: bold\">33.630</span>         <span style=\"color: #008080; text-decoration-color: #008080; font-weight: bold\">1</span>    yes  northeast  <span style=\"color: #008080; text-decoration-color: #008080; font-weight: bold\">37607.52770</span>\n",
       "<span style=\"color: #008080; text-decoration-color: #008080; font-weight: bold\">1324</span>  NaN    male  <span style=\"color: #008080; text-decoration-color: #008080; font-weight: bold\">25.935</span>         <span style=\"color: #008080; text-decoration-color: #008080; font-weight: bold\">1</span>     no  northwest   <span style=\"color: #008080; text-decoration-color: #008080; font-weight: bold\">4239.89265</span>\n",
       "</pre>\n"
      ],
      "text/plain": [
       "      age     sex     bmi  children smoker     region      charges\n",
       "\u001b[1;36m5\u001b[0m     NaN  female  \u001b[1;36m25.740\u001b[0m         \u001b[1;36m0\u001b[0m     no  southeast   \u001b[1;36m3756.62160\u001b[0m\n",
       "\u001b[1;36m37\u001b[0m    NaN    male  \u001b[1;36m20.800\u001b[0m         \u001b[1;36m0\u001b[0m     no  southwest   \u001b[1;36m2302.30000\u001b[0m\n",
       "\u001b[1;36m135\u001b[0m   NaN  female  \u001b[1;36m28.050\u001b[0m         \u001b[1;36m0\u001b[0m     no  southeast   \u001b[1;36m2155.68150\u001b[0m\n",
       "\u001b[1;36m190\u001b[0m   NaN    male  \u001b[1;36m31.570\u001b[0m         \u001b[1;36m0\u001b[0m     no  southeast  \u001b[1;36m12557.60530\u001b[0m\n",
       "\u001b[1;36m264\u001b[0m   NaN  female  \u001b[1;36m38.060\u001b[0m         \u001b[1;36m3\u001b[0m     no  southeast  \u001b[1;36m20462.99766\u001b[0m\n",
       "\u001b[1;36m265\u001b[0m   NaN    male  \u001b[1;36m42.350\u001b[0m         \u001b[1;36m3\u001b[0m    yes  southeast  \u001b[1;36m46151.12450\u001b[0m\n",
       "\u001b[1;36m407\u001b[0m   NaN  female  \u001b[1;36m23.600\u001b[0m         \u001b[1;36m1\u001b[0m     no  southwest   \u001b[1;36m8539.67100\u001b[0m\n",
       "\u001b[1;36m409\u001b[0m   NaN    male  \u001b[1;36m30.030\u001b[0m         \u001b[1;36m1\u001b[0m     no  southeast   \u001b[1;36m4074.45370\u001b[0m\n",
       "\u001b[1;36m482\u001b[0m   NaN  female  \u001b[1;36m31.350\u001b[0m         \u001b[1;36m0\u001b[0m     no  southeast   \u001b[1;36m1622.18850\u001b[0m\n",
       "\u001b[1;36m496\u001b[0m   NaN  female  \u001b[1;36m23.600\u001b[0m         \u001b[1;36m2\u001b[0m     no  southwest   \u001b[1;36m4931.64700\u001b[0m\n",
       "\u001b[1;36m549\u001b[0m   NaN  female  \u001b[1;36m46.200\u001b[0m         \u001b[1;36m0\u001b[0m    yes  southeast  \u001b[1;36m45863.20500\u001b[0m\n",
       "\u001b[1;36m551\u001b[0m   NaN  female  \u001b[1;36m28.930\u001b[0m         \u001b[1;36m0\u001b[0m     no  southeast   \u001b[1;36m3972.92470\u001b[0m\n",
       "\u001b[1;36m674\u001b[0m   NaN  female  \u001b[1;36m43.890\u001b[0m         \u001b[1;36m2\u001b[0m    yes  southeast  \u001b[1;36m46200.98510\u001b[0m\n",
       "\u001b[1;36m777\u001b[0m   NaN    male  \u001b[1;36m39.805\u001b[0m         \u001b[1;36m0\u001b[0m     no  northeast   \u001b[1;36m7448.40395\u001b[0m\n",
       "\u001b[1;36m895\u001b[0m   NaN  female  \u001b[1;36m44.000\u001b[0m         \u001b[1;36m0\u001b[0m     no  southwest  \u001b[1;36m13063.88300\u001b[0m\n",
       "\u001b[1;36m988\u001b[0m   NaN    male  \u001b[1;36m34.675\u001b[0m         \u001b[1;36m0\u001b[0m     no  northeast   \u001b[1;36m4518.82625\u001b[0m\n",
       "\u001b[1;36m1066\u001b[0m  NaN    male  \u001b[1;36m37.290\u001b[0m         \u001b[1;36m2\u001b[0m     no  southeast   \u001b[1;36m8978.18510\u001b[0m\n",
       "\u001b[1;36m1153\u001b[0m  NaN  female  \u001b[1;36m35.815\u001b[0m         \u001b[1;36m1\u001b[0m     no  northwest   \u001b[1;36m5630.45785\u001b[0m\n",
       "\u001b[1;36m1249\u001b[0m  NaN    male  \u001b[1;36m33.630\u001b[0m         \u001b[1;36m1\u001b[0m    yes  northeast  \u001b[1;36m37607.52770\u001b[0m\n",
       "\u001b[1;36m1324\u001b[0m  NaN    male  \u001b[1;36m25.935\u001b[0m         \u001b[1;36m1\u001b[0m     no  northwest   \u001b[1;36m4239.89265\u001b[0m\n"
      ]
     },
     "metadata": {},
     "output_type": "display_data"
    }
   ],
   "source": [
    "missing_age_rows = dataframe[dataframe[\"age\"].isnull()]\n",
    "print(missing_age_rows)"
   ]
  },
  {
   "cell_type": "code",
   "execution_count": null,
   "metadata": {},
   "outputs": [
    {
     "data": {
      "text/html": [
       "<pre style=\"white-space:pre;overflow-x:auto;line-height:normal;font-family:Menlo,'DejaVu Sans Mono',consolas,'Courier New',monospace\">Empty DataFrame\n",
       "Columns: <span style=\"font-weight: bold\">[</span>age, sex, bmi, children, smoker, region, charges<span style=\"font-weight: bold\">]</span>\n",
       "Index: <span style=\"font-weight: bold\">[]</span>\n",
       "</pre>\n"
      ],
      "text/plain": [
       "Empty DataFrame\n",
       "Columns: \u001b[1m[\u001b[0mage, sex, bmi, children, smoker, region, charges\u001b[1m]\u001b[0m\n",
       "Index: \u001b[1m[\u001b[0m\u001b[1m]\u001b[0m\n"
      ]
     },
     "metadata": {},
     "output_type": "display_data"
    }
   ],
   "source": [
    "imputer = KNNImputer(n_neighbors=5)\n",
    "dataframe[[\"age\"]] = imputer.fit_transform(dataframe[[\"age\"]])\n",
    "\n",
    "# Check to make sure there are no missing values now after imputing the ages\n",
    "missing_age_rows = dataframe[dataframe[\"age\"].isnull()]\n",
    "print(missing_age_rows)"
   ]
  },
  {
   "cell_type": "code",
   "execution_count": 16,
   "metadata": {},
   "outputs": [
    {
     "data": {
      "text/html": [
       "<pre style=\"white-space:pre;overflow-x:auto;line-height:normal;font-family:Menlo,'DejaVu Sans Mono',consolas,'Courier New',monospace\"></pre>\n"
      ],
      "text/plain": []
     },
     "metadata": {},
     "output_type": "display_data"
    },
    {
     "data": {
      "text/html": [
       "<div>\n",
       "<style scoped>\n",
       "    .dataframe tbody tr th:only-of-type {\n",
       "        vertical-align: middle;\n",
       "    }\n",
       "\n",
       "    .dataframe tbody tr th {\n",
       "        vertical-align: top;\n",
       "    }\n",
       "\n",
       "    .dataframe thead th {\n",
       "        text-align: right;\n",
       "    }\n",
       "</style>\n",
       "<table border=\"1\" class=\"dataframe\">\n",
       "  <thead>\n",
       "    <tr style=\"text-align: right;\">\n",
       "      <th></th>\n",
       "      <th>age</th>\n",
       "      <th>sex</th>\n",
       "      <th>bmi</th>\n",
       "      <th>children</th>\n",
       "      <th>smoker</th>\n",
       "      <th>region</th>\n",
       "      <th>charges</th>\n",
       "    </tr>\n",
       "  </thead>\n",
       "  <tbody>\n",
       "    <tr>\n",
       "      <th>0</th>\n",
       "      <td>19.000000</td>\n",
       "      <td>female</td>\n",
       "      <td>27.900</td>\n",
       "      <td>0</td>\n",
       "      <td>yes</td>\n",
       "      <td>southwest</td>\n",
       "      <td>16884.92400</td>\n",
       "    </tr>\n",
       "    <tr>\n",
       "      <th>1</th>\n",
       "      <td>18.000000</td>\n",
       "      <td>male</td>\n",
       "      <td>33.770</td>\n",
       "      <td>1</td>\n",
       "      <td>no</td>\n",
       "      <td>southeast</td>\n",
       "      <td>1725.55230</td>\n",
       "    </tr>\n",
       "    <tr>\n",
       "      <th>2</th>\n",
       "      <td>28.000000</td>\n",
       "      <td>male</td>\n",
       "      <td>33.000</td>\n",
       "      <td>3</td>\n",
       "      <td>no</td>\n",
       "      <td>southeast</td>\n",
       "      <td>4449.46200</td>\n",
       "    </tr>\n",
       "    <tr>\n",
       "      <th>3</th>\n",
       "      <td>33.000000</td>\n",
       "      <td>male</td>\n",
       "      <td>22.705</td>\n",
       "      <td>0</td>\n",
       "      <td>no</td>\n",
       "      <td>northwest</td>\n",
       "      <td>21984.47061</td>\n",
       "    </tr>\n",
       "    <tr>\n",
       "      <th>4</th>\n",
       "      <td>32.000000</td>\n",
       "      <td>male</td>\n",
       "      <td>28.880</td>\n",
       "      <td>0</td>\n",
       "      <td>no</td>\n",
       "      <td>northwest</td>\n",
       "      <td>3866.85520</td>\n",
       "    </tr>\n",
       "    <tr>\n",
       "      <th>5</th>\n",
       "      <td>39.216237</td>\n",
       "      <td>female</td>\n",
       "      <td>25.740</td>\n",
       "      <td>0</td>\n",
       "      <td>no</td>\n",
       "      <td>southeast</td>\n",
       "      <td>3756.62160</td>\n",
       "    </tr>\n",
       "  </tbody>\n",
       "</table>\n",
       "</div>"
      ],
      "text/plain": [
       "\n",
       "         age     sex     bmi  children smoker     region      charges\n",
       "\u001b[1;36m0\u001b[0m  \u001b[1;36m19.000000\u001b[0m  female  \u001b[1;36m27.900\u001b[0m         \u001b[1;36m0\u001b[0m    yes  southwest  \u001b[1;36m16884.92400\u001b[0m\n",
       "\u001b[1;36m1\u001b[0m  \u001b[1;36m18.000000\u001b[0m    male  \u001b[1;36m33.770\u001b[0m         \u001b[1;36m1\u001b[0m     no  southeast   \u001b[1;36m1725.55230\u001b[0m\n",
       "\u001b[1;36m2\u001b[0m  \u001b[1;36m28.000000\u001b[0m    male  \u001b[1;36m33.000\u001b[0m         \u001b[1;36m3\u001b[0m     no  southeast   \u001b[1;36m4449.46200\u001b[0m\n",
       "\u001b[1;36m3\u001b[0m  \u001b[1;36m33.000000\u001b[0m    male  \u001b[1;36m22.705\u001b[0m         \u001b[1;36m0\u001b[0m     no  northwest  \u001b[1;36m21984.47061\u001b[0m\n",
       "\u001b[1;36m4\u001b[0m  \u001b[1;36m32.000000\u001b[0m    male  \u001b[1;36m28.880\u001b[0m         \u001b[1;36m0\u001b[0m     no  northwest   \u001b[1;36m3866.85520\u001b[0m\n",
       "\u001b[1;36m5\u001b[0m  \u001b[1;36m39.216237\u001b[0m  female  \u001b[1;36m25.740\u001b[0m         \u001b[1;36m0\u001b[0m     no  southeast   \u001b[1;36m3756.62160\u001b[0m"
      ]
     },
     "execution_count": 16,
     "metadata": {},
     "output_type": "execute_result"
    }
   ],
   "source": [
    "dataframe.head(6)"
   ]
  },
  {
   "cell_type": "markdown",
   "metadata": {},
   "source": [
    "### Encode the categorical variables"
   ]
  },
  {
   "cell_type": "markdown",
   "metadata": {},
   "source": [
    "## Feature engineering\n",
    "\n",
    "BMI is currently split into different categories so for this I am going to create column for bmi category \n",
    "\n",
    "BMI categories:\n",
    "\n",
    "- Underweight: BMI < 18.5\n",
    "- Normal weight: BMI 18.5 - 24.9\n",
    "- Overweight: BMI 25 - 29.9\n",
    "- Obesity: BMI 30 and above"
   ]
  },
  {
   "cell_type": "code",
   "execution_count": 17,
   "metadata": {},
   "outputs": [
    {
     "data": {
      "text/html": [
       "<pre style=\"white-space:pre;overflow-x:auto;line-height:normal;font-family:Menlo,'DejaVu Sans Mono',consolas,'Courier New',monospace\"></pre>\n"
      ],
      "text/plain": []
     },
     "metadata": {},
     "output_type": "display_data"
    },
    {
     "data": {
      "text/html": [
       "<div>\n",
       "<style scoped>\n",
       "    .dataframe tbody tr th:only-of-type {\n",
       "        vertical-align: middle;\n",
       "    }\n",
       "\n",
       "    .dataframe tbody tr th {\n",
       "        vertical-align: top;\n",
       "    }\n",
       "\n",
       "    .dataframe thead th {\n",
       "        text-align: right;\n",
       "    }\n",
       "</style>\n",
       "<table border=\"1\" class=\"dataframe\">\n",
       "  <thead>\n",
       "    <tr style=\"text-align: right;\">\n",
       "      <th></th>\n",
       "      <th>age</th>\n",
       "      <th>sex</th>\n",
       "      <th>bmi</th>\n",
       "      <th>children</th>\n",
       "      <th>smoker</th>\n",
       "      <th>region</th>\n",
       "      <th>charges</th>\n",
       "      <th>bmi_category</th>\n",
       "    </tr>\n",
       "  </thead>\n",
       "  <tbody>\n",
       "    <tr>\n",
       "      <th>0</th>\n",
       "      <td>19.0</td>\n",
       "      <td>female</td>\n",
       "      <td>27.900</td>\n",
       "      <td>0</td>\n",
       "      <td>yes</td>\n",
       "      <td>southwest</td>\n",
       "      <td>16884.92400</td>\n",
       "      <td>Overweight</td>\n",
       "    </tr>\n",
       "    <tr>\n",
       "      <th>1</th>\n",
       "      <td>18.0</td>\n",
       "      <td>male</td>\n",
       "      <td>33.770</td>\n",
       "      <td>1</td>\n",
       "      <td>no</td>\n",
       "      <td>southeast</td>\n",
       "      <td>1725.55230</td>\n",
       "      <td>Obesity</td>\n",
       "    </tr>\n",
       "    <tr>\n",
       "      <th>2</th>\n",
       "      <td>28.0</td>\n",
       "      <td>male</td>\n",
       "      <td>33.000</td>\n",
       "      <td>3</td>\n",
       "      <td>no</td>\n",
       "      <td>southeast</td>\n",
       "      <td>4449.46200</td>\n",
       "      <td>Obesity</td>\n",
       "    </tr>\n",
       "    <tr>\n",
       "      <th>3</th>\n",
       "      <td>33.0</td>\n",
       "      <td>male</td>\n",
       "      <td>22.705</td>\n",
       "      <td>0</td>\n",
       "      <td>no</td>\n",
       "      <td>northwest</td>\n",
       "      <td>21984.47061</td>\n",
       "      <td>Normal weight</td>\n",
       "    </tr>\n",
       "    <tr>\n",
       "      <th>4</th>\n",
       "      <td>32.0</td>\n",
       "      <td>male</td>\n",
       "      <td>28.880</td>\n",
       "      <td>0</td>\n",
       "      <td>no</td>\n",
       "      <td>northwest</td>\n",
       "      <td>3866.85520</td>\n",
       "      <td>Overweight</td>\n",
       "    </tr>\n",
       "  </tbody>\n",
       "</table>\n",
       "</div>"
      ],
      "text/plain": [
       "\n",
       "    age     sex     bmi  children smoker     region      charges  \\\n",
       "\u001b[1;36m0\u001b[0m  \u001b[1;36m19.0\u001b[0m  female  \u001b[1;36m27.900\u001b[0m         \u001b[1;36m0\u001b[0m    yes  southwest  \u001b[1;36m16884.92400\u001b[0m   \n",
       "\u001b[1;36m1\u001b[0m  \u001b[1;36m18.0\u001b[0m    male  \u001b[1;36m33.770\u001b[0m         \u001b[1;36m1\u001b[0m     no  southeast   \u001b[1;36m1725.55230\u001b[0m   \n",
       "\u001b[1;36m2\u001b[0m  \u001b[1;36m28.0\u001b[0m    male  \u001b[1;36m33.000\u001b[0m         \u001b[1;36m3\u001b[0m     no  southeast   \u001b[1;36m4449.46200\u001b[0m   \n",
       "\u001b[1;36m3\u001b[0m  \u001b[1;36m33.0\u001b[0m    male  \u001b[1;36m22.705\u001b[0m         \u001b[1;36m0\u001b[0m     no  northwest  \u001b[1;36m21984.47061\u001b[0m   \n",
       "\u001b[1;36m4\u001b[0m  \u001b[1;36m32.0\u001b[0m    male  \u001b[1;36m28.880\u001b[0m         \u001b[1;36m0\u001b[0m     no  northwest   \u001b[1;36m3866.85520\u001b[0m   \n",
       "\n",
       "    bmi_category  \n",
       "\u001b[1;36m0\u001b[0m     Overweight  \n",
       "\u001b[1;36m1\u001b[0m        Obesity  \n",
       "\u001b[1;36m2\u001b[0m        Obesity  \n",
       "\u001b[1;36m3\u001b[0m  Normal weight  \n",
       "\u001b[1;36m4\u001b[0m     Overweight  "
      ]
     },
     "execution_count": 17,
     "metadata": {},
     "output_type": "execute_result"
    }
   ],
   "source": [
    "# Define BMI categories\n",
    "bins = [0, 18.5, 24.9, 29.9, float(\"inf\")]  # Define the edges of the bins\n",
    "labels = [\n",
    "    \"Underweight\",\n",
    "    \"Normal weight\",\n",
    "    \"Overweight\",\n",
    "    \"Obesity\",\n",
    "]  # Labels for each range\n",
    "\n",
    "# Create a new 'bmi_category' column based on the defined ranges\n",
    "dataframe[\"bmi_category\"] = pd.cut(dataframe[\"bmi\"], bins=bins, labels=labels)\n",
    "\n",
    "dataframe.head()"
   ]
  },
  {
   "cell_type": "code",
   "execution_count": 18,
   "metadata": {},
   "outputs": [
    {
     "name": "stdout",
     "output_type": "stream",
     "text": [
      "<class 'pandas.core.frame.DataFrame'>\n",
      "RangeIndex: 1338 entries, 0 to 1337\n",
      "Data columns (total 8 columns):\n",
      " #   Column        Non-Null Count  Dtype   \n",
      "---  ------        --------------  -----   \n",
      " 0   age           1338 non-null   float64 \n",
      " 1   sex           1338 non-null   object  \n",
      " 2   bmi           1338 non-null   float64 \n",
      " 3   children      1338 non-null   int64   \n",
      " 4   smoker        1338 non-null   object  \n",
      " 5   region        1338 non-null   object  \n",
      " 6   charges       1338 non-null   float64 \n",
      " 7   bmi_category  1338 non-null   category\n",
      "dtypes: category(1), float64(3), int64(1), object(3)\n",
      "memory usage: 74.8+ KB\n"
     ]
    }
   ],
   "source": [
    "dataframe.info()"
   ]
  },
  {
   "cell_type": "markdown",
   "metadata": {},
   "source": [
    "## EDA summary\n",
    "\n",
    "### Observations\n",
    "\n",
    "- Target distribution is positively skewed\n",
    "\n",
    "**- 20 missing values in age column**\n",
    "  - Age is an important feature shown in the correlation matrix. It is also a small dataset\n",
    "  so it is important to deal with these missing values rather than just dropping them.\n",
    "  To do this I made use of a KNN imputer to try and give the best approximate age. \n",
    "\n",
    "**- numerical features distribution**\n",
    "  - age is positively skewed\n",
    "  - bmi is symmetrical \n",
    "  - children is positivelty skewed\n",
    "  - charges is positively skewed\n",
    "\n",
    "**- Object features distribution**\n",
    "  - Sex is symmetrical \n",
    "  - smoker is uneven distribution (around 800 more non-smokers)\n",
    "  - region is a fairly even distribution\n",
    "  \n",
    "#### Outliers\n",
    "- BMI and charges\n",
    "\n",
    "\n",
    "### Questions\n",
    "- Does the distribution of smokers respresent smokers vs non smokers in the general population?\n",
    "- As there is a high proportion of categorical features, what will be the best way to tuen these into numeric?"
   ]
  },
  {
   "cell_type": "markdown",
   "metadata": {},
   "source": [
    "## Create Training and test datasets\n",
    "\n",
    "#### Carry out the preprocessing as described above\n",
    "\n",
    "- One hot encode the categorical features\n",
    "- Scale the data, using either Min max scaler\n",
    "- Split into features and label (X and y) and then into train and test datasets\n",
    "- save the one hot encoder and scaler to be used for predictions"
   ]
  },
  {
   "cell_type": "code",
   "execution_count": null,
   "metadata": {},
   "outputs": [
    {
     "data": {
      "text/html": [
       "<pre style=\"white-space:pre;overflow-x:auto;line-height:normal;font-family:Menlo,'DejaVu Sans Mono',consolas,'Courier New',monospace\">Categorical columns: <span style=\"color: #800080; text-decoration-color: #800080; font-weight: bold\">Index</span><span style=\"font-weight: bold\">([</span><span style=\"color: #008000; text-decoration-color: #008000\">'sex'</span>, <span style=\"color: #008000; text-decoration-color: #008000\">'smoker'</span>, <span style=\"color: #008000; text-decoration-color: #008000\">'region'</span>, <span style=\"color: #008000; text-decoration-color: #008000\">'bmi_category'</span><span style=\"font-weight: bold\">]</span>, <span style=\"color: #808000; text-decoration-color: #808000\">dtype</span>=<span style=\"color: #008000; text-decoration-color: #008000\">'object'</span><span style=\"font-weight: bold\">)</span>\n",
       "</pre>\n"
      ],
      "text/plain": [
       "Categorical columns: \u001b[1;35mIndex\u001b[0m\u001b[1m(\u001b[0m\u001b[1m[\u001b[0m\u001b[32m'sex'\u001b[0m, \u001b[32m'smoker'\u001b[0m, \u001b[32m'region'\u001b[0m, \u001b[32m'bmi_category'\u001b[0m\u001b[1m]\u001b[0m, \u001b[33mdtype\u001b[0m=\u001b[32m'object'\u001b[0m\u001b[1m)\u001b[0m\n"
      ]
     },
     "metadata": {},
     "output_type": "display_data"
    },
    {
     "data": {
      "text/html": [
       "<pre style=\"white-space:pre;overflow-x:auto;line-height:normal;font-family:Menlo,'DejaVu Sans Mono',consolas,'Courier New',monospace\"></pre>\n"
      ],
      "text/plain": []
     },
     "metadata": {},
     "output_type": "display_data"
    },
    {
     "data": {
      "text/plain": [
       "\u001b[1m[\u001b[0m\u001b[32m'minmax_scaler.pkl'\u001b[0m\u001b[1m]\u001b[0m"
      ]
     },
     "execution_count": 19,
     "metadata": {},
     "output_type": "execute_result"
    }
   ],
   "source": [
    "# Select categorical columns (object and category types)\n",
    "object_cols = dataframe.select_dtypes(include=\"object\").columns\n",
    "category_cols = dataframe.select_dtypes(include=\"category\").columns\n",
    "object_cols = object_cols.append(category_cols)\n",
    "\n",
    "print(f\"Categorical columns: {object_cols}\")\n",
    "\n",
    "# Define the preprocessor (OneHotEncoding for categorical columns)\n",
    "preprocessor = ColumnTransformer(\n",
    "    transformers=[\n",
    "        (\n",
    "            \"cat\",\n",
    "            OneHotEncoder(),\n",
    "            object_cols,\n",
    "        )  # One-hot encoding for categorical columns\n",
    "    ],\n",
    "    remainder=\"passthrough\",  # Keep numeric columns as they are\n",
    ")\n",
    "\n",
    "X = dataframe.drop(columns=[\"charges\"])\n",
    "y = dataframe[\"charges\"]\n",
    "\n",
    "\n",
    "X_transformed = preprocessor.fit_transform(X)\n",
    "\n",
    "joblib.dump(preprocessor, \"col_transformer.pkl\")\n",
    "X_transformed_df = pd.DataFrame(\n",
    "    X_transformed, columns=preprocessor.get_feature_names_out()\n",
    ")\n",
    "\n",
    "# Split the data into training and testing sets\n",
    "X_train, X_test, y_train, y_test = train_test_split(\n",
    "    X_transformed_df, y, test_size=0.2, random_state=42\n",
    ")\n",
    "\n",
    "m_mScaler = MinMaxScaler()\n",
    "X_train_scaled = m_mScaler.fit_transform(X_train)\n",
    "\n",
    "X_test_scaled = m_mScaler.transform(X_test)\n",
    "\n",
    "joblib.dump(m_mScaler, \"minmax_scaler.pkl\")"
   ]
  },
  {
   "cell_type": "markdown",
   "metadata": {},
   "source": [
    "## Traing and testing models"
   ]
  },
  {
   "cell_type": "markdown",
   "metadata": {},
   "source": [
    "## Training function\n"
   ]
  },
  {
   "cell_type": "code",
   "execution_count": null,
   "metadata": {},
   "outputs": [],
   "source": [
    "# Create a function to fit and train models and show the predictions\n",
    "\n",
    "\n",
    "results_dict = {}  # Store the results from the models -> convert to pd.dataframe\n",
    "\n",
    "\n",
    "def fit_and_predict(X_train, X_test, y_train, y_test, model, model_name):\n",
    "    \"\"\"\n",
    "    Takes the training and test data\n",
    "    Fits the model given and gives metrics on how well it is doing\n",
    "\n",
    "    Args:\n",
    "        X_train (list): X training set\n",
    "        X_test (list): X test set\n",
    "        y_train (list): y train set\n",
    "        y_test (list): y test set\n",
    "        model (model): machine learning model to fit and predict\n",
    "        model_name (str): model name\n",
    "\n",
    "    Returns:\n",
    "        list, float, model: list of predictions, r2 score, trained model\n",
    "    \"\"\"\n",
    "\n",
    "    model = model\n",
    "    model.fit(X_train, y_train)\n",
    "    predictions = model.predict(X_test)\n",
    "    mse = mean_squared_error(y_test, predictions)\n",
    "    r2s = r2_score(y_test, predictions)\n",
    "    mae = mean_absolute_error(y_test, predictions)\n",
    "\n",
    "    results_dict[model_name] = r2s\n",
    "\n",
    "    print(\"Model: {}\".format(model_name))\n",
    "    print(f\"Mean Squared Error: {mse}\")\n",
    "    print(f\"Mean Absolute Error: {mae}\")\n",
    "    print(f\"r2 score: {r2s}\")\n",
    "\n",
    "    return predictions, r2s, model"
   ]
  },
  {
   "cell_type": "markdown",
   "metadata": {},
   "source": [
    "### Example of a training and looking at performance of model"
   ]
  },
  {
   "cell_type": "code",
   "execution_count": 21,
   "metadata": {},
   "outputs": [
    {
     "data": {
      "text/html": [
       "<pre style=\"white-space:pre;overflow-x:auto;line-height:normal;font-family:Menlo,'DejaVu Sans Mono',consolas,'Courier New',monospace\">Model: Linear regression\n",
       "</pre>\n"
      ],
      "text/plain": [
       "Model: Linear regression\n"
      ]
     },
     "metadata": {},
     "output_type": "display_data"
    },
    {
     "data": {
      "text/html": [
       "<pre style=\"white-space:pre;overflow-x:auto;line-height:normal;font-family:Menlo,'DejaVu Sans Mono',consolas,'Courier New',monospace\">Mean Squared Error: <span style=\"color: #008080; text-decoration-color: #008080; font-weight: bold\">34274462.74529583</span>\n",
       "</pre>\n"
      ],
      "text/plain": [
       "Mean Squared Error: \u001b[1;36m34274462.74529583\u001b[0m\n"
      ]
     },
     "metadata": {},
     "output_type": "display_data"
    },
    {
     "data": {
      "text/html": [
       "<pre style=\"white-space:pre;overflow-x:auto;line-height:normal;font-family:Menlo,'DejaVu Sans Mono',consolas,'Courier New',monospace\">Mean Absolute Error: <span style=\"color: #008080; text-decoration-color: #008080; font-weight: bold\">4362.88710943194</span>\n",
       "</pre>\n"
      ],
      "text/plain": [
       "Mean Absolute Error: \u001b[1;36m4362.88710943194\u001b[0m\n"
      ]
     },
     "metadata": {},
     "output_type": "display_data"
    },
    {
     "data": {
      "text/html": [
       "<pre style=\"white-space:pre;overflow-x:auto;line-height:normal;font-family:Menlo,'DejaVu Sans Mono',consolas,'Courier New',monospace\">r2 score: <span style=\"color: #008080; text-decoration-color: #008080; font-weight: bold\">0.7792287098518933</span>\n",
       "</pre>\n"
      ],
      "text/plain": [
       "r2 score: \u001b[1;36m0.7792287098518933\u001b[0m\n"
      ]
     },
     "metadata": {},
     "output_type": "display_data"
    }
   ],
   "source": [
    "preds, mse, trained_model_1 = fit_and_predict(\n",
    "    X_train=X_train,\n",
    "    X_test=X_test,\n",
    "    y_train=y_train,\n",
    "    y_test=y_test,\n",
    "    model=LinearRegression(),\n",
    "    model_name=\"Linear regression\",\n",
    ")"
   ]
  },
  {
   "cell_type": "markdown",
   "metadata": {},
   "source": [
    "## Trying different models \n",
    "- without hyperparameter tuning\n",
    "- with hyperparameter tuning - **This is done in the below section**\n",
    "\n",
    "## Next step:\n",
    "- Save the best 2 models using joblib\n",
    "- Save the preprocessing objects such as scaler/onehotencoder\n",
    "- Use the models to demonstrate making predictions (Use ipywidgets for slider and input to easily adjust the persons information) "
   ]
  },
  {
   "cell_type": "code",
   "execution_count": null,
   "metadata": {},
   "outputs": [
    {
     "data": {
      "text/html": [
       "<pre style=\"white-space:pre;overflow-x:auto;line-height:normal;font-family:Menlo,'DejaVu Sans Mono',consolas,'Courier New',monospace\">Model: Linear regression\n",
       "</pre>\n"
      ],
      "text/plain": [
       "Model: Linear regression\n"
      ]
     },
     "metadata": {},
     "output_type": "display_data"
    },
    {
     "data": {
      "text/html": [
       "<pre style=\"white-space:pre;overflow-x:auto;line-height:normal;font-family:Menlo,'DejaVu Sans Mono',consolas,'Courier New',monospace\">Mean Squared Error: <span style=\"color: #008080; text-decoration-color: #008080; font-weight: bold\">34274462.74529583</span>\n",
       "</pre>\n"
      ],
      "text/plain": [
       "Mean Squared Error: \u001b[1;36m34274462.74529583\u001b[0m\n"
      ]
     },
     "metadata": {},
     "output_type": "display_data"
    },
    {
     "data": {
      "text/html": [
       "<pre style=\"white-space:pre;overflow-x:auto;line-height:normal;font-family:Menlo,'DejaVu Sans Mono',consolas,'Courier New',monospace\">Mean Absolute Error: <span style=\"color: #008080; text-decoration-color: #008080; font-weight: bold\">4362.88710943194</span>\n",
       "</pre>\n"
      ],
      "text/plain": [
       "Mean Absolute Error: \u001b[1;36m4362.88710943194\u001b[0m\n"
      ]
     },
     "metadata": {},
     "output_type": "display_data"
    },
    {
     "data": {
      "text/html": [
       "<pre style=\"white-space:pre;overflow-x:auto;line-height:normal;font-family:Menlo,'DejaVu Sans Mono',consolas,'Courier New',monospace\">r2 score: <span style=\"color: #008080; text-decoration-color: #008080; font-weight: bold\">0.7792287098518933</span>\n",
       "</pre>\n"
      ],
      "text/plain": [
       "r2 score: \u001b[1;36m0.7792287098518933\u001b[0m\n"
      ]
     },
     "metadata": {},
     "output_type": "display_data"
    },
    {
     "data": {
      "text/html": [
       "<pre style=\"white-space:pre;overflow-x:auto;line-height:normal;font-family:Menlo,'DejaVu Sans Mono',consolas,'Courier New',monospace\">Model: Random forest regressor\n",
       "</pre>\n"
      ],
      "text/plain": [
       "Model: Random forest regressor\n"
      ]
     },
     "metadata": {},
     "output_type": "display_data"
    },
    {
     "data": {
      "text/html": [
       "<pre style=\"white-space:pre;overflow-x:auto;line-height:normal;font-family:Menlo,'DejaVu Sans Mono',consolas,'Courier New',monospace\">Mean Squared Error: <span style=\"color: #008080; text-decoration-color: #008080; font-weight: bold\">21829212.1855292</span>\n",
       "</pre>\n"
      ],
      "text/plain": [
       "Mean Squared Error: \u001b[1;36m21829212.1855292\u001b[0m\n"
      ]
     },
     "metadata": {},
     "output_type": "display_data"
    },
    {
     "data": {
      "text/html": [
       "<pre style=\"white-space:pre;overflow-x:auto;line-height:normal;font-family:Menlo,'DejaVu Sans Mono',consolas,'Courier New',monospace\">Mean Absolute Error: <span style=\"color: #008080; text-decoration-color: #008080; font-weight: bold\">2591.421267133458</span>\n",
       "</pre>\n"
      ],
      "text/plain": [
       "Mean Absolute Error: \u001b[1;36m2591.421267133458\u001b[0m\n"
      ]
     },
     "metadata": {},
     "output_type": "display_data"
    },
    {
     "data": {
      "text/html": [
       "<pre style=\"white-space:pre;overflow-x:auto;line-height:normal;font-family:Menlo,'DejaVu Sans Mono',consolas,'Courier New',monospace\">r2 score: <span style=\"color: #008080; text-decoration-color: #008080; font-weight: bold\">0.8593920093531591</span>\n",
       "</pre>\n"
      ],
      "text/plain": [
       "r2 score: \u001b[1;36m0.8593920093531591\u001b[0m\n"
      ]
     },
     "metadata": {},
     "output_type": "display_data"
    },
    {
     "data": {
      "text/html": [
       "<pre style=\"white-space:pre;overflow-x:auto;line-height:normal;font-family:Menlo,'DejaVu Sans Mono',consolas,'Courier New',monospace\">Model: Decision tree regressor\n",
       "</pre>\n"
      ],
      "text/plain": [
       "Model: Decision tree regressor\n"
      ]
     },
     "metadata": {},
     "output_type": "display_data"
    },
    {
     "data": {
      "text/html": [
       "<pre style=\"white-space:pre;overflow-x:auto;line-height:normal;font-family:Menlo,'DejaVu Sans Mono',consolas,'Courier New',monospace\">Mean Squared Error: <span style=\"color: #008080; text-decoration-color: #008080; font-weight: bold\">21216112.081840526</span>\n",
       "</pre>\n"
      ],
      "text/plain": [
       "Mean Squared Error: \u001b[1;36m21216112.081840526\u001b[0m\n"
      ]
     },
     "metadata": {},
     "output_type": "display_data"
    },
    {
     "data": {
      "text/html": [
       "<pre style=\"white-space:pre;overflow-x:auto;line-height:normal;font-family:Menlo,'DejaVu Sans Mono',consolas,'Courier New',monospace\">Mean Absolute Error: <span style=\"color: #008080; text-decoration-color: #008080; font-weight: bold\">1939.0513658544776</span>\n",
       "</pre>\n"
      ],
      "text/plain": [
       "Mean Absolute Error: \u001b[1;36m1939.0513658544776\u001b[0m\n"
      ]
     },
     "metadata": {},
     "output_type": "display_data"
    },
    {
     "data": {
      "text/html": [
       "<pre style=\"white-space:pre;overflow-x:auto;line-height:normal;font-family:Menlo,'DejaVu Sans Mono',consolas,'Courier New',monospace\">r2 score: <span style=\"color: #008080; text-decoration-color: #008080; font-weight: bold\">0.863341156620241</span>\n",
       "</pre>\n"
      ],
      "text/plain": [
       "r2 score: \u001b[1;36m0.863341156620241\u001b[0m\n"
      ]
     },
     "metadata": {},
     "output_type": "display_data"
    },
    {
     "data": {
      "text/html": [
       "<pre style=\"white-space:pre;overflow-x:auto;line-height:normal;font-family:Menlo,'DejaVu Sans Mono',consolas,'Courier New',monospace\">Model: XGB regressor\n",
       "</pre>\n"
      ],
      "text/plain": [
       "Model: XGB regressor\n"
      ]
     },
     "metadata": {},
     "output_type": "display_data"
    },
    {
     "data": {
      "text/html": [
       "<pre style=\"white-space:pre;overflow-x:auto;line-height:normal;font-family:Menlo,'DejaVu Sans Mono',consolas,'Courier New',monospace\">Mean Squared Error: <span style=\"color: #008080; text-decoration-color: #008080; font-weight: bold\">18985819.502688237</span>\n",
       "</pre>\n"
      ],
      "text/plain": [
       "Mean Squared Error: \u001b[1;36m18985819.502688237\u001b[0m\n"
      ]
     },
     "metadata": {},
     "output_type": "display_data"
    },
    {
     "data": {
      "text/html": [
       "<pre style=\"white-space:pre;overflow-x:auto;line-height:normal;font-family:Menlo,'DejaVu Sans Mono',consolas,'Courier New',monospace\">Mean Absolute Error: <span style=\"color: #008080; text-decoration-color: #008080; font-weight: bold\">2630.6746676487287</span>\n",
       "</pre>\n"
      ],
      "text/plain": [
       "Mean Absolute Error: \u001b[1;36m2630.6746676487287\u001b[0m\n"
      ]
     },
     "metadata": {},
     "output_type": "display_data"
    },
    {
     "data": {
      "text/html": [
       "<pre style=\"white-space:pre;overflow-x:auto;line-height:normal;font-family:Menlo,'DejaVu Sans Mono',consolas,'Courier New',monospace\">r2 score: <span style=\"color: #008080; text-decoration-color: #008080; font-weight: bold\">0.8777070877149532</span>\n",
       "</pre>\n"
      ],
      "text/plain": [
       "r2 score: \u001b[1;36m0.8777070877149532\u001b[0m\n"
      ]
     },
     "metadata": {},
     "output_type": "display_data"
    },
    {
     "data": {
      "text/html": [
       "<pre style=\"white-space:pre;overflow-x:auto;line-height:normal;font-family:Menlo,'DejaVu Sans Mono',consolas,'Courier New',monospace\">Model: XGB regressorn hp optuna\n",
       "</pre>\n"
      ],
      "text/plain": [
       "Model: XGB regressorn hp optuna\n"
      ]
     },
     "metadata": {},
     "output_type": "display_data"
    },
    {
     "data": {
      "text/html": [
       "<pre style=\"white-space:pre;overflow-x:auto;line-height:normal;font-family:Menlo,'DejaVu Sans Mono',consolas,'Courier New',monospace\">Mean Squared Error: <span style=\"color: #008080; text-decoration-color: #008080; font-weight: bold\">18252609.91419815</span>\n",
       "</pre>\n"
      ],
      "text/plain": [
       "Mean Squared Error: \u001b[1;36m18252609.91419815\u001b[0m\n"
      ]
     },
     "metadata": {},
     "output_type": "display_data"
    },
    {
     "data": {
      "text/html": [
       "<pre style=\"white-space:pre;overflow-x:auto;line-height:normal;font-family:Menlo,'DejaVu Sans Mono',consolas,'Courier New',monospace\">Mean Absolute Error: <span style=\"color: #008080; text-decoration-color: #008080; font-weight: bold\">2443.9542167887703</span>\n",
       "</pre>\n"
      ],
      "text/plain": [
       "Mean Absolute Error: \u001b[1;36m2443.9542167887703\u001b[0m\n"
      ]
     },
     "metadata": {},
     "output_type": "display_data"
    },
    {
     "data": {
      "text/html": [
       "<pre style=\"white-space:pre;overflow-x:auto;line-height:normal;font-family:Menlo,'DejaVu Sans Mono',consolas,'Courier New',monospace\">r2 score: <span style=\"color: #008080; text-decoration-color: #008080; font-weight: bold\">0.8824298933794165</span>\n",
       "</pre>\n"
      ],
      "text/plain": [
       "r2 score: \u001b[1;36m0.8824298933794165\u001b[0m\n"
      ]
     },
     "metadata": {},
     "output_type": "display_data"
    },
    {
     "name": "stdout",
     "output_type": "stream",
     "text": [
      "0:\tlearn: 11874.8374633\ttotal: 55.6ms\tremaining: 22.2s\n",
      "1:\tlearn: 11737.2022435\ttotal: 56ms\tremaining: 11.2s\n",
      "2:\tlearn: 11604.4683017\ttotal: 56.3ms\tremaining: 7.45s\n",
      "3:\tlearn: 11471.5000708\ttotal: 56.5ms\tremaining: 5.6s\n",
      "4:\tlearn: 11343.1159921\ttotal: 56.9ms\tremaining: 4.5s\n",
      "5:\tlearn: 11217.8297348\ttotal: 57.1ms\tremaining: 3.75s\n",
      "6:\tlearn: 11093.7636672\ttotal: 57.3ms\tremaining: 3.22s\n",
      "7:\tlearn: 10969.3116154\ttotal: 57.5ms\tremaining: 2.82s\n",
      "8:\tlearn: 10846.1077512\ttotal: 57.8ms\tremaining: 2.51s\n",
      "9:\tlearn: 10725.8128409\ttotal: 58ms\tremaining: 2.26s\n",
      "10:\tlearn: 10608.5913768\ttotal: 58.3ms\tremaining: 2.06s\n",
      "11:\tlearn: 10491.7136430\ttotal: 58.5ms\tremaining: 1.89s\n",
      "12:\tlearn: 10378.9722953\ttotal: 58.7ms\tremaining: 1.75s\n",
      "13:\tlearn: 10265.6425799\ttotal: 58.9ms\tremaining: 1.62s\n",
      "14:\tlearn: 10153.5976052\ttotal: 59.2ms\tremaining: 1.52s\n",
      "15:\tlearn: 10044.5705605\ttotal: 59.4ms\tremaining: 1.43s\n",
      "16:\tlearn: 9938.4919778\ttotal: 59.6ms\tremaining: 1.34s\n",
      "17:\tlearn: 9831.9689276\ttotal: 59.8ms\tremaining: 1.27s\n",
      "18:\tlearn: 9727.8526009\ttotal: 60.1ms\tremaining: 1.2s\n",
      "19:\tlearn: 9626.9597192\ttotal: 60.2ms\tremaining: 1.14s\n",
      "20:\tlearn: 9528.0018033\ttotal: 60.4ms\tremaining: 1.09s\n",
      "21:\tlearn: 9428.4898322\ttotal: 60.6ms\tremaining: 1.04s\n",
      "22:\tlearn: 9333.1033831\ttotal: 60.8ms\tremaining: 997ms\n",
      "23:\tlearn: 9237.3532503\ttotal: 61ms\tremaining: 956ms\n",
      "24:\tlearn: 9144.5790291\ttotal: 61.2ms\tremaining: 918ms\n",
      "25:\tlearn: 9054.0332812\ttotal: 61.4ms\tremaining: 884ms\n",
      "26:\tlearn: 8965.2953490\ttotal: 61.6ms\tremaining: 852ms\n",
      "27:\tlearn: 8875.5810712\ttotal: 61.9ms\tremaining: 822ms\n",
      "28:\tlearn: 8787.6856274\ttotal: 62.1ms\tremaining: 794ms\n",
      "29:\tlearn: 8702.4940868\ttotal: 62.3ms\tremaining: 768ms\n",
      "30:\tlearn: 8617.8627220\ttotal: 62.6ms\tremaining: 745ms\n",
      "31:\tlearn: 8534.3145357\ttotal: 62.7ms\tremaining: 721ms\n",
      "32:\tlearn: 8454.2116178\ttotal: 62.9ms\tremaining: 700ms\n",
      "33:\tlearn: 8373.4246918\ttotal: 63.2ms\tremaining: 680ms\n",
      "34:\tlearn: 8295.1622049\ttotal: 63.3ms\tremaining: 660ms\n",
      "35:\tlearn: 8216.1191014\ttotal: 63.7ms\tremaining: 644ms\n",
      "36:\tlearn: 8139.5497601\ttotal: 63.9ms\tremaining: 626ms\n",
      "37:\tlearn: 8064.4676046\ttotal: 64.1ms\tremaining: 610ms\n",
      "38:\tlearn: 7991.4571705\ttotal: 64.3ms\tremaining: 595ms\n",
      "39:\tlearn: 7918.6209598\ttotal: 64.6ms\tremaining: 581ms\n",
      "40:\tlearn: 7846.3204736\ttotal: 64.8ms\tremaining: 567ms\n",
      "41:\tlearn: 7776.5759535\ttotal: 65ms\tremaining: 554ms\n",
      "42:\tlearn: 7708.0926118\ttotal: 65.2ms\tremaining: 542ms\n",
      "43:\tlearn: 7642.3289556\ttotal: 65.4ms\tremaining: 530ms\n",
      "44:\tlearn: 7577.8926067\ttotal: 65.6ms\tremaining: 518ms\n",
      "45:\tlearn: 7514.1643334\ttotal: 65.9ms\tremaining: 507ms\n",
      "46:\tlearn: 7452.5588561\ttotal: 66.1ms\tremaining: 496ms\n",
      "47:\tlearn: 7391.6285471\ttotal: 66.2ms\tremaining: 486ms\n",
      "48:\tlearn: 7329.4613843\ttotal: 66.5ms\tremaining: 477ms\n",
      "49:\tlearn: 7268.5714742\ttotal: 66.8ms\tremaining: 468ms\n",
      "50:\tlearn: 7208.9748598\ttotal: 67.1ms\tremaining: 459ms\n",
      "51:\tlearn: 7152.3991215\ttotal: 67.3ms\tremaining: 450ms\n",
      "52:\tlearn: 7095.2218899\ttotal: 67.5ms\tremaining: 442ms\n",
      "53:\tlearn: 7039.2380791\ttotal: 67.7ms\tremaining: 434ms\n",
      "54:\tlearn: 6984.1823397\ttotal: 67.9ms\tremaining: 426ms\n",
      "55:\tlearn: 6931.1041293\ttotal: 68.2ms\tremaining: 419ms\n",
      "56:\tlearn: 6879.0971901\ttotal: 68.6ms\tremaining: 413ms\n",
      "57:\tlearn: 6828.4552572\ttotal: 68.8ms\tremaining: 406ms\n",
      "58:\tlearn: 6777.7049638\ttotal: 69.1ms\tremaining: 399ms\n",
      "59:\tlearn: 6728.9610046\ttotal: 69.4ms\tremaining: 393ms\n",
      "60:\tlearn: 6680.8951771\ttotal: 69.6ms\tremaining: 387ms\n",
      "61:\tlearn: 6632.6130040\ttotal: 70ms\tremaining: 382ms\n",
      "62:\tlearn: 6584.9943104\ttotal: 70.2ms\tremaining: 376ms\n",
      "63:\tlearn: 6537.8411057\ttotal: 70.4ms\tremaining: 370ms\n",
      "64:\tlearn: 6492.6773131\ttotal: 70.6ms\tremaining: 364ms\n",
      "65:\tlearn: 6447.8963247\ttotal: 70.8ms\tremaining: 359ms\n",
      "66:\tlearn: 6404.2675148\ttotal: 71ms\tremaining: 353ms\n",
      "67:\tlearn: 6362.7488933\ttotal: 71.2ms\tremaining: 348ms\n",
      "68:\tlearn: 6321.4088416\ttotal: 71.4ms\tremaining: 342ms\n",
      "69:\tlearn: 6281.3505022\ttotal: 71.7ms\tremaining: 338ms\n",
      "70:\tlearn: 6240.8783127\ttotal: 71.9ms\tremaining: 333ms\n",
      "71:\tlearn: 6201.9935004\ttotal: 72.1ms\tremaining: 328ms\n",
      "72:\tlearn: 6164.0968456\ttotal: 72.4ms\tremaining: 324ms\n",
      "73:\tlearn: 6126.6644625\ttotal: 72.6ms\tremaining: 320ms\n",
      "74:\tlearn: 6089.1282180\ttotal: 72.8ms\tremaining: 315ms\n",
      "75:\tlearn: 6051.9695411\ttotal: 73.7ms\tremaining: 314ms\n",
      "76:\tlearn: 6017.4432423\ttotal: 73.9ms\tremaining: 310ms\n",
      "77:\tlearn: 5981.4808375\ttotal: 74.2ms\tremaining: 306ms\n",
      "78:\tlearn: 5949.2497946\ttotal: 74.4ms\tremaining: 302ms\n",
      "79:\tlearn: 5916.2377417\ttotal: 74.6ms\tremaining: 298ms\n",
      "80:\tlearn: 5882.6838608\ttotal: 74.8ms\tremaining: 294ms\n",
      "81:\tlearn: 5850.9852022\ttotal: 75ms\tremaining: 291ms\n",
      "82:\tlearn: 5818.7421148\ttotal: 75.4ms\tremaining: 288ms\n",
      "83:\tlearn: 5787.3369274\ttotal: 75.6ms\tremaining: 284ms\n",
      "84:\tlearn: 5757.4384629\ttotal: 75.8ms\tremaining: 281ms\n",
      "85:\tlearn: 5728.7224312\ttotal: 76ms\tremaining: 278ms\n",
      "86:\tlearn: 5700.0039935\ttotal: 76.2ms\tremaining: 274ms\n",
      "87:\tlearn: 5670.7679596\ttotal: 76.4ms\tremaining: 271ms\n",
      "88:\tlearn: 5643.0341499\ttotal: 76.6ms\tremaining: 268ms\n",
      "89:\tlearn: 5616.2787029\ttotal: 76.7ms\tremaining: 264ms\n",
      "90:\tlearn: 5589.6045507\ttotal: 76.9ms\tremaining: 261ms\n",
      "91:\tlearn: 5563.8961598\ttotal: 77.1ms\tremaining: 258ms\n",
      "92:\tlearn: 5538.6984237\ttotal: 77.3ms\tremaining: 255ms\n",
      "93:\tlearn: 5513.3771853\ttotal: 77.5ms\tremaining: 252ms\n",
      "94:\tlearn: 5489.6045160\ttotal: 77.7ms\tremaining: 250ms\n",
      "95:\tlearn: 5466.5084937\ttotal: 78ms\tremaining: 247ms\n",
      "96:\tlearn: 5444.1197674\ttotal: 78.2ms\tremaining: 244ms\n",
      "97:\tlearn: 5421.3618218\ttotal: 78.4ms\tremaining: 242ms\n",
      "98:\tlearn: 5398.8991824\ttotal: 78.8ms\tremaining: 239ms\n",
      "99:\tlearn: 5376.9500830\ttotal: 79ms\tremaining: 237ms\n",
      "100:\tlearn: 5356.2788572\ttotal: 79.2ms\tremaining: 234ms\n",
      "101:\tlearn: 5335.5665570\ttotal: 79.3ms\tremaining: 232ms\n",
      "102:\tlearn: 5315.5687917\ttotal: 79.5ms\tremaining: 229ms\n",
      "103:\tlearn: 5295.9751670\ttotal: 79.8ms\tremaining: 227ms\n",
      "104:\tlearn: 5276.4801245\ttotal: 80ms\tremaining: 225ms\n",
      "105:\tlearn: 5256.9669491\ttotal: 80.2ms\tremaining: 222ms\n",
      "106:\tlearn: 5238.6053009\ttotal: 80.4ms\tremaining: 220ms\n",
      "107:\tlearn: 5221.0987434\ttotal: 80.6ms\tremaining: 218ms\n",
      "108:\tlearn: 5203.5668495\ttotal: 80.8ms\tremaining: 216ms\n",
      "109:\tlearn: 5185.7106630\ttotal: 81ms\tremaining: 214ms\n",
      "110:\tlearn: 5168.9258525\ttotal: 81.2ms\tremaining: 212ms\n",
      "111:\tlearn: 5151.6132618\ttotal: 81.4ms\tremaining: 209ms\n",
      "112:\tlearn: 5136.0252965\ttotal: 81.7ms\tremaining: 207ms\n",
      "113:\tlearn: 5120.0739360\ttotal: 81.8ms\tremaining: 205ms\n",
      "114:\tlearn: 5103.9664236\ttotal: 82ms\tremaining: 203ms\n",
      "115:\tlearn: 5088.8666733\ttotal: 82.3ms\tremaining: 201ms\n",
      "116:\tlearn: 5073.6954968\ttotal: 82.5ms\tremaining: 199ms\n",
      "117:\tlearn: 5059.0465837\ttotal: 82.7ms\tremaining: 198ms\n",
      "118:\tlearn: 5044.1882918\ttotal: 82.9ms\tremaining: 196ms\n",
      "119:\tlearn: 5030.6045209\ttotal: 83.2ms\tremaining: 194ms\n",
      "120:\tlearn: 5017.0957765\ttotal: 83.4ms\tremaining: 192ms\n",
      "121:\tlearn: 5003.1507476\ttotal: 83.8ms\tremaining: 191ms\n",
      "122:\tlearn: 4989.6116400\ttotal: 84.2ms\tremaining: 190ms\n",
      "123:\tlearn: 4976.5687798\ttotal: 84.6ms\tremaining: 188ms\n",
      "124:\tlearn: 4963.8856403\ttotal: 84.7ms\tremaining: 186ms\n",
      "125:\tlearn: 4951.2198670\ttotal: 85ms\tremaining: 185ms\n",
      "126:\tlearn: 4939.5108831\ttotal: 85.2ms\tremaining: 183ms\n",
      "127:\tlearn: 4927.5597504\ttotal: 85.4ms\tremaining: 182ms\n",
      "128:\tlearn: 4916.6479826\ttotal: 85.7ms\tremaining: 180ms\n",
      "129:\tlearn: 4905.6053002\ttotal: 85.9ms\tremaining: 178ms\n",
      "130:\tlearn: 4894.4291700\ttotal: 86.2ms\tremaining: 177ms\n",
      "131:\tlearn: 4883.4007988\ttotal: 86.3ms\tremaining: 175ms\n",
      "132:\tlearn: 4872.9717432\ttotal: 86.7ms\tremaining: 174ms\n",
      "133:\tlearn: 4862.3999998\ttotal: 87.1ms\tremaining: 173ms\n",
      "134:\tlearn: 4852.4298978\ttotal: 87.2ms\tremaining: 171ms\n",
      "135:\tlearn: 4842.3439067\ttotal: 87.5ms\tremaining: 170ms\n",
      "136:\tlearn: 4832.5616887\ttotal: 87.7ms\tremaining: 168ms\n",
      "137:\tlearn: 4822.9052209\ttotal: 87.9ms\tremaining: 167ms\n",
      "138:\tlearn: 4813.4965626\ttotal: 88.3ms\tremaining: 166ms\n",
      "139:\tlearn: 4804.5316410\ttotal: 88.5ms\tremaining: 164ms\n",
      "140:\tlearn: 4795.5864743\ttotal: 88.7ms\tremaining: 163ms\n",
      "141:\tlearn: 4787.0595908\ttotal: 88.9ms\tremaining: 161ms\n",
      "142:\tlearn: 4778.6815194\ttotal: 89.1ms\tremaining: 160ms\n",
      "143:\tlearn: 4769.7856640\ttotal: 89.3ms\tremaining: 159ms\n",
      "144:\tlearn: 4761.2426608\ttotal: 89.5ms\tremaining: 157ms\n",
      "145:\tlearn: 4753.2987838\ttotal: 89.7ms\tremaining: 156ms\n",
      "146:\tlearn: 4745.7641256\ttotal: 89.9ms\tremaining: 155ms\n",
      "147:\tlearn: 4737.9742266\ttotal: 90.1ms\tremaining: 153ms\n",
      "148:\tlearn: 4730.4527984\ttotal: 90.4ms\tremaining: 152ms\n",
      "149:\tlearn: 4723.3257470\ttotal: 90.5ms\tremaining: 151ms\n",
      "150:\tlearn: 4715.9430076\ttotal: 90.7ms\tremaining: 150ms\n",
      "151:\tlearn: 4709.1022142\ttotal: 90.9ms\tremaining: 148ms\n",
      "152:\tlearn: 4702.4732580\ttotal: 91.1ms\tremaining: 147ms\n",
      "153:\tlearn: 4696.2388447\ttotal: 91.5ms\tremaining: 146ms\n",
      "154:\tlearn: 4689.6817729\ttotal: 91.7ms\tremaining: 145ms\n",
      "155:\tlearn: 4683.3406944\ttotal: 91.9ms\tremaining: 144ms\n",
      "156:\tlearn: 4676.9137257\ttotal: 92.1ms\tremaining: 143ms\n",
      "157:\tlearn: 4670.5298662\ttotal: 92.3ms\tremaining: 141ms\n",
      "158:\tlearn: 4664.7228655\ttotal: 92.4ms\tremaining: 140ms\n",
      "159:\tlearn: 4658.5057922\ttotal: 92.6ms\tremaining: 139ms\n",
      "160:\tlearn: 4652.8115364\ttotal: 93ms\tremaining: 138ms\n",
      "161:\tlearn: 4646.4366092\ttotal: 93.2ms\tremaining: 137ms\n",
      "162:\tlearn: 4640.5188315\ttotal: 93.5ms\tremaining: 136ms\n",
      "163:\tlearn: 4634.7681909\ttotal: 93.7ms\tremaining: 135ms\n",
      "164:\tlearn: 4628.9331152\ttotal: 93.9ms\tremaining: 134ms\n",
      "165:\tlearn: 4623.8719630\ttotal: 94.1ms\tremaining: 133ms\n",
      "166:\tlearn: 4618.2122148\ttotal: 94.3ms\tremaining: 132ms\n",
      "167:\tlearn: 4613.0857211\ttotal: 94.5ms\tremaining: 130ms\n",
      "168:\tlearn: 4607.8355119\ttotal: 94.7ms\tremaining: 129ms\n",
      "169:\tlearn: 4603.0331460\ttotal: 94.9ms\tremaining: 128ms\n",
      "170:\tlearn: 4598.3532305\ttotal: 95.1ms\tremaining: 127ms\n",
      "171:\tlearn: 4593.6297662\ttotal: 95.4ms\tremaining: 126ms\n",
      "172:\tlearn: 4589.1033561\ttotal: 95.6ms\tremaining: 125ms\n",
      "173:\tlearn: 4584.2924844\ttotal: 96ms\tremaining: 125ms\n",
      "174:\tlearn: 4579.7419521\ttotal: 96.2ms\tremaining: 124ms\n",
      "175:\tlearn: 4575.3994926\ttotal: 96.4ms\tremaining: 123ms\n",
      "176:\tlearn: 4570.8894425\ttotal: 96.7ms\tremaining: 122ms\n",
      "177:\tlearn: 4566.3667345\ttotal: 96.9ms\tremaining: 121ms\n",
      "178:\tlearn: 4561.9322078\ttotal: 97.1ms\tremaining: 120ms\n",
      "179:\tlearn: 4557.6286572\ttotal: 97.2ms\tremaining: 119ms\n",
      "180:\tlearn: 4553.5787451\ttotal: 97.4ms\tremaining: 118ms\n",
      "181:\tlearn: 4549.5758362\ttotal: 97.6ms\tremaining: 117ms\n",
      "182:\tlearn: 4545.8242678\ttotal: 97.8ms\tremaining: 116ms\n",
      "183:\tlearn: 4541.5597676\ttotal: 98ms\tremaining: 115ms\n",
      "184:\tlearn: 4538.0397309\ttotal: 98.2ms\tremaining: 114ms\n",
      "185:\tlearn: 4533.8087275\ttotal: 98.4ms\tremaining: 113ms\n",
      "186:\tlearn: 4530.3411224\ttotal: 98.6ms\tremaining: 112ms\n",
      "187:\tlearn: 4526.4073426\ttotal: 98.9ms\tremaining: 112ms\n",
      "188:\tlearn: 4522.6663521\ttotal: 99.1ms\tremaining: 111ms\n",
      "189:\tlearn: 4519.4235904\ttotal: 99.3ms\tremaining: 110ms\n",
      "190:\tlearn: 4516.0218251\ttotal: 99.4ms\tremaining: 109ms\n",
      "191:\tlearn: 4512.4567392\ttotal: 99.6ms\tremaining: 108ms\n",
      "192:\tlearn: 4508.8410275\ttotal: 99.8ms\tremaining: 107ms\n",
      "193:\tlearn: 4505.4872729\ttotal: 100ms\tremaining: 106ms\n",
      "194:\tlearn: 4502.4261947\ttotal: 100ms\tremaining: 105ms\n",
      "195:\tlearn: 4499.3163500\ttotal: 100ms\tremaining: 104ms\n",
      "196:\tlearn: 4495.8554389\ttotal: 101ms\tremaining: 104ms\n",
      "197:\tlearn: 4492.7328724\ttotal: 101ms\tremaining: 103ms\n",
      "198:\tlearn: 4489.6763806\ttotal: 101ms\tremaining: 102ms\n",
      "199:\tlearn: 4486.8069501\ttotal: 101ms\tremaining: 101ms\n",
      "200:\tlearn: 4483.7644308\ttotal: 101ms\tremaining: 100ms\n",
      "201:\tlearn: 4481.1805835\ttotal: 102ms\tremaining: 99.6ms\n",
      "202:\tlearn: 4478.4259460\ttotal: 102ms\tremaining: 98.9ms\n",
      "203:\tlearn: 4475.5147165\ttotal: 102ms\tremaining: 98.1ms\n",
      "204:\tlearn: 4472.6762539\ttotal: 102ms\tremaining: 97.3ms\n",
      "205:\tlearn: 4470.1011802\ttotal: 103ms\tremaining: 96.6ms\n",
      "206:\tlearn: 4467.5653332\ttotal: 103ms\tremaining: 95.8ms\n",
      "207:\tlearn: 4464.9272012\ttotal: 103ms\tremaining: 95.1ms\n",
      "208:\tlearn: 4462.3161222\ttotal: 103ms\tremaining: 94.3ms\n",
      "209:\tlearn: 4459.5544634\ttotal: 103ms\tremaining: 93.6ms\n",
      "210:\tlearn: 4457.0951867\ttotal: 104ms\tremaining: 92.8ms\n",
      "211:\tlearn: 4454.5872260\ttotal: 104ms\tremaining: 92.1ms\n",
      "212:\tlearn: 4452.5155009\ttotal: 104ms\tremaining: 91.3ms\n",
      "213:\tlearn: 4450.0966811\ttotal: 104ms\tremaining: 90.6ms\n",
      "214:\tlearn: 4447.6874574\ttotal: 104ms\tremaining: 89.8ms\n",
      "215:\tlearn: 4445.3330391\ttotal: 105ms\tremaining: 89.1ms\n",
      "216:\tlearn: 4443.1514696\ttotal: 105ms\tremaining: 88.4ms\n",
      "217:\tlearn: 4441.0047830\ttotal: 105ms\tremaining: 87.6ms\n",
      "218:\tlearn: 4438.6666155\ttotal: 105ms\tremaining: 86.9ms\n",
      "219:\tlearn: 4436.5405779\ttotal: 105ms\tremaining: 86.2ms\n",
      "220:\tlearn: 4434.7140991\ttotal: 106ms\tremaining: 85.5ms\n",
      "221:\tlearn: 4432.7519010\ttotal: 106ms\tremaining: 84.8ms\n",
      "222:\tlearn: 4430.5240535\ttotal: 106ms\tremaining: 84ms\n",
      "223:\tlearn: 4428.3381825\ttotal: 106ms\tremaining: 83.4ms\n",
      "224:\tlearn: 4426.3224060\ttotal: 106ms\tremaining: 82.7ms\n",
      "225:\tlearn: 4424.3530242\ttotal: 106ms\tremaining: 82ms\n",
      "226:\tlearn: 4422.3501269\ttotal: 107ms\tremaining: 81.3ms\n",
      "227:\tlearn: 4420.6458503\ttotal: 107ms\tremaining: 80.6ms\n",
      "228:\tlearn: 4418.7072629\ttotal: 107ms\tremaining: 79.9ms\n",
      "229:\tlearn: 4417.0809184\ttotal: 107ms\tremaining: 79.2ms\n",
      "230:\tlearn: 4415.3898268\ttotal: 107ms\tremaining: 78.5ms\n",
      "231:\tlearn: 4413.5571969\ttotal: 108ms\tremaining: 78ms\n",
      "232:\tlearn: 4411.4178880\ttotal: 108ms\tremaining: 77.4ms\n",
      "233:\tlearn: 4409.6407410\ttotal: 108ms\tremaining: 76.7ms\n",
      "234:\tlearn: 4407.6475015\ttotal: 108ms\tremaining: 76.1ms\n",
      "235:\tlearn: 4405.4794325\ttotal: 109ms\tremaining: 75.4ms\n",
      "236:\tlearn: 4403.3137531\ttotal: 109ms\tremaining: 74.8ms\n",
      "237:\tlearn: 4401.4977227\ttotal: 109ms\tremaining: 74.1ms\n",
      "238:\tlearn: 4399.7955060\ttotal: 109ms\tremaining: 73.6ms\n",
      "239:\tlearn: 4398.1968141\ttotal: 109ms\tremaining: 73ms\n",
      "240:\tlearn: 4396.5001746\ttotal: 110ms\tremaining: 72.4ms\n",
      "241:\tlearn: 4394.3929914\ttotal: 110ms\tremaining: 71.8ms\n",
      "242:\tlearn: 4392.7711936\ttotal: 110ms\tremaining: 71.2ms\n",
      "243:\tlearn: 4391.1546733\ttotal: 110ms\tremaining: 70.5ms\n",
      "244:\tlearn: 4389.5234646\ttotal: 111ms\tremaining: 69.9ms\n",
      "245:\tlearn: 4387.6045627\ttotal: 111ms\tremaining: 69.3ms\n",
      "246:\tlearn: 4385.8986669\ttotal: 111ms\tremaining: 68.8ms\n",
      "247:\tlearn: 4384.1452636\ttotal: 111ms\tremaining: 68.1ms\n",
      "248:\tlearn: 4382.5921930\ttotal: 111ms\tremaining: 67.5ms\n",
      "249:\tlearn: 4381.0427514\ttotal: 111ms\tremaining: 66.9ms\n",
      "250:\tlearn: 4379.4702539\ttotal: 112ms\tremaining: 66.3ms\n",
      "251:\tlearn: 4378.1184584\ttotal: 112ms\tremaining: 65.7ms\n",
      "252:\tlearn: 4376.4585986\ttotal: 112ms\tremaining: 65.1ms\n",
      "253:\tlearn: 4374.6548214\ttotal: 112ms\tremaining: 64.5ms\n",
      "254:\tlearn: 4373.4040736\ttotal: 113ms\tremaining: 64ms\n",
      "255:\tlearn: 4371.8948663\ttotal: 113ms\tremaining: 63.4ms\n",
      "256:\tlearn: 4370.4171073\ttotal: 113ms\tremaining: 62.8ms\n",
      "257:\tlearn: 4368.9980454\ttotal: 113ms\tremaining: 62.3ms\n",
      "258:\tlearn: 4367.6423111\ttotal: 113ms\tremaining: 61.7ms\n",
      "259:\tlearn: 4366.2639541\ttotal: 114ms\tremaining: 61.1ms\n",
      "260:\tlearn: 4365.0692733\ttotal: 114ms\tremaining: 60.6ms\n",
      "261:\tlearn: 4363.8847188\ttotal: 114ms\tremaining: 60.1ms\n",
      "262:\tlearn: 4362.6347288\ttotal: 114ms\tremaining: 59.5ms\n",
      "263:\tlearn: 4361.4196999\ttotal: 114ms\tremaining: 58.9ms\n",
      "264:\tlearn: 4360.4169719\ttotal: 115ms\tremaining: 58.4ms\n",
      "265:\tlearn: 4359.1365987\ttotal: 115ms\tremaining: 58ms\n",
      "266:\tlearn: 4357.5840419\ttotal: 115ms\tremaining: 57.4ms\n",
      "267:\tlearn: 4356.2006248\ttotal: 115ms\tremaining: 56.9ms\n",
      "268:\tlearn: 4355.1659110\ttotal: 116ms\tremaining: 56.4ms\n",
      "269:\tlearn: 4353.6828067\ttotal: 116ms\tremaining: 55.9ms\n",
      "270:\tlearn: 4352.4401164\ttotal: 116ms\tremaining: 55.4ms\n",
      "271:\tlearn: 4351.2222814\ttotal: 116ms\tremaining: 54.8ms\n",
      "272:\tlearn: 4350.0202692\ttotal: 117ms\tremaining: 54.3ms\n",
      "273:\tlearn: 4348.7497419\ttotal: 117ms\tremaining: 53.8ms\n",
      "274:\tlearn: 4345.8790768\ttotal: 117ms\tremaining: 53.2ms\n",
      "275:\tlearn: 4344.6970969\ttotal: 117ms\tremaining: 52.7ms\n",
      "276:\tlearn: 4343.6201763\ttotal: 117ms\tremaining: 52.1ms\n",
      "277:\tlearn: 4342.4132556\ttotal: 118ms\tremaining: 51.6ms\n",
      "278:\tlearn: 4341.3741097\ttotal: 118ms\tremaining: 51.2ms\n",
      "279:\tlearn: 4340.4082638\ttotal: 118ms\tremaining: 50.6ms\n",
      "280:\tlearn: 4338.8714670\ttotal: 118ms\tremaining: 50.1ms\n",
      "281:\tlearn: 4337.6421928\ttotal: 119ms\tremaining: 49.6ms\n",
      "282:\tlearn: 4336.3951691\ttotal: 119ms\tremaining: 49.1ms\n",
      "283:\tlearn: 4335.2524718\ttotal: 119ms\tremaining: 48.6ms\n",
      "284:\tlearn: 4334.1952924\ttotal: 119ms\tremaining: 48.1ms\n",
      "285:\tlearn: 4332.8861286\ttotal: 119ms\tremaining: 47.6ms\n",
      "286:\tlearn: 4331.4038953\ttotal: 120ms\tremaining: 47.1ms\n",
      "287:\tlearn: 4329.9341634\ttotal: 120ms\tremaining: 46.6ms\n",
      "288:\tlearn: 4328.7239707\ttotal: 120ms\tremaining: 46.1ms\n",
      "289:\tlearn: 4327.8165451\ttotal: 120ms\tremaining: 45.6ms\n",
      "290:\tlearn: 4326.6558872\ttotal: 120ms\tremaining: 45.1ms\n",
      "291:\tlearn: 4325.5878443\ttotal: 121ms\tremaining: 44.6ms\n",
      "292:\tlearn: 4324.6195810\ttotal: 121ms\tremaining: 44.2ms\n",
      "293:\tlearn: 4323.5060332\ttotal: 121ms\tremaining: 43.7ms\n",
      "294:\tlearn: 4322.5417746\ttotal: 121ms\tremaining: 43.2ms\n",
      "295:\tlearn: 4321.5927577\ttotal: 121ms\tremaining: 42.7ms\n",
      "296:\tlearn: 4320.7933023\ttotal: 122ms\tremaining: 42.2ms\n",
      "297:\tlearn: 4319.6983410\ttotal: 122ms\tremaining: 41.7ms\n",
      "298:\tlearn: 4318.6218047\ttotal: 122ms\tremaining: 41.2ms\n",
      "299:\tlearn: 4317.5841810\ttotal: 122ms\tremaining: 40.8ms\n",
      "300:\tlearn: 4316.5171891\ttotal: 122ms\tremaining: 40.3ms\n",
      "301:\tlearn: 4315.7811576\ttotal: 123ms\tremaining: 39.8ms\n",
      "302:\tlearn: 4314.3606003\ttotal: 123ms\tremaining: 39.4ms\n",
      "303:\tlearn: 4313.1730115\ttotal: 123ms\tremaining: 38.9ms\n",
      "304:\tlearn: 4312.4146246\ttotal: 123ms\tremaining: 38.4ms\n",
      "305:\tlearn: 4311.4381314\ttotal: 124ms\tremaining: 38ms\n",
      "306:\tlearn: 4310.7323152\ttotal: 124ms\tremaining: 37.5ms\n",
      "307:\tlearn: 4309.9112148\ttotal: 124ms\tremaining: 37ms\n",
      "308:\tlearn: 4309.1190046\ttotal: 124ms\tremaining: 36.6ms\n",
      "309:\tlearn: 4308.0265765\ttotal: 124ms\tremaining: 36.1ms\n",
      "310:\tlearn: 4307.1182723\ttotal: 124ms\tremaining: 35.6ms\n",
      "311:\tlearn: 4306.3368943\ttotal: 125ms\tremaining: 35.2ms\n",
      "312:\tlearn: 4304.8053136\ttotal: 125ms\tremaining: 34.7ms\n",
      "313:\tlearn: 4303.8562153\ttotal: 125ms\tremaining: 34.3ms\n",
      "314:\tlearn: 4303.0535487\ttotal: 125ms\tremaining: 33.8ms\n",
      "315:\tlearn: 4301.4165471\ttotal: 126ms\tremaining: 33.4ms\n",
      "316:\tlearn: 4300.3075583\ttotal: 126ms\tremaining: 32.9ms\n",
      "317:\tlearn: 4299.3154950\ttotal: 126ms\tremaining: 32.5ms\n",
      "318:\tlearn: 4298.4509030\ttotal: 127ms\tremaining: 32.2ms\n",
      "319:\tlearn: 4297.5685588\ttotal: 127ms\tremaining: 31.8ms\n",
      "320:\tlearn: 4296.0428112\ttotal: 127ms\tremaining: 31.3ms\n",
      "321:\tlearn: 4294.9883045\ttotal: 127ms\tremaining: 30.9ms\n",
      "322:\tlearn: 4294.0011828\ttotal: 128ms\tremaining: 30.4ms\n",
      "323:\tlearn: 4291.3829160\ttotal: 128ms\tremaining: 30ms\n",
      "324:\tlearn: 4289.9726304\ttotal: 128ms\tremaining: 29.5ms\n",
      "325:\tlearn: 4289.1710353\ttotal: 128ms\tremaining: 29.1ms\n",
      "326:\tlearn: 4288.3281072\ttotal: 128ms\tremaining: 28.7ms\n",
      "327:\tlearn: 4285.7701192\ttotal: 129ms\tremaining: 28.2ms\n",
      "328:\tlearn: 4285.0292322\ttotal: 129ms\tremaining: 27.8ms\n",
      "329:\tlearn: 4284.3413501\ttotal: 129ms\tremaining: 27.4ms\n",
      "330:\tlearn: 4283.5341979\ttotal: 129ms\tremaining: 26.9ms\n",
      "331:\tlearn: 4282.1221361\ttotal: 129ms\tremaining: 26.5ms\n",
      "332:\tlearn: 4280.9998827\ttotal: 130ms\tremaining: 26.1ms\n",
      "333:\tlearn: 4279.9631512\ttotal: 130ms\tremaining: 25.7ms\n",
      "334:\tlearn: 4279.1577725\ttotal: 130ms\tremaining: 25.3ms\n",
      "335:\tlearn: 4278.5256253\ttotal: 130ms\tremaining: 24.8ms\n",
      "336:\tlearn: 4277.9451332\ttotal: 131ms\tremaining: 24.4ms\n",
      "337:\tlearn: 4277.0611812\ttotal: 131ms\tremaining: 24ms\n",
      "338:\tlearn: 4275.7469415\ttotal: 131ms\tremaining: 23.6ms\n",
      "339:\tlearn: 4274.8812266\ttotal: 131ms\tremaining: 23.2ms\n",
      "340:\tlearn: 4274.1926883\ttotal: 131ms\tremaining: 22.7ms\n",
      "341:\tlearn: 4273.5589398\ttotal: 132ms\tremaining: 22.3ms\n",
      "342:\tlearn: 4272.7396770\ttotal: 132ms\tremaining: 21.9ms\n",
      "343:\tlearn: 4271.8070341\ttotal: 132ms\tremaining: 21.5ms\n",
      "344:\tlearn: 4271.0866579\ttotal: 132ms\tremaining: 21.1ms\n",
      "345:\tlearn: 4270.3857464\ttotal: 132ms\tremaining: 20.6ms\n",
      "346:\tlearn: 4269.3417330\ttotal: 132ms\tremaining: 20.2ms\n",
      "347:\tlearn: 4268.6664649\ttotal: 133ms\tremaining: 19.8ms\n",
      "348:\tlearn: 4268.0901112\ttotal: 133ms\tremaining: 19.4ms\n",
      "349:\tlearn: 4267.4422258\ttotal: 133ms\tremaining: 19ms\n",
      "350:\tlearn: 4266.8650951\ttotal: 133ms\tremaining: 18.6ms\n",
      "351:\tlearn: 4266.1187027\ttotal: 134ms\tremaining: 18.2ms\n",
      "352:\tlearn: 4265.3816931\ttotal: 134ms\tremaining: 17.8ms\n",
      "353:\tlearn: 4264.3498312\ttotal: 134ms\tremaining: 17.4ms\n",
      "354:\tlearn: 4263.9057855\ttotal: 134ms\tremaining: 17ms\n",
      "355:\tlearn: 4263.2191925\ttotal: 134ms\tremaining: 16.6ms\n",
      "356:\tlearn: 4262.6208070\ttotal: 135ms\tremaining: 16.2ms\n",
      "357:\tlearn: 4262.1011080\ttotal: 135ms\tremaining: 15.8ms\n",
      "358:\tlearn: 4260.9046059\ttotal: 135ms\tremaining: 15.4ms\n",
      "359:\tlearn: 4260.1540071\ttotal: 135ms\tremaining: 15ms\n",
      "360:\tlearn: 4259.2479295\ttotal: 135ms\tremaining: 14.6ms\n",
      "361:\tlearn: 4258.5191954\ttotal: 136ms\tremaining: 14.2ms\n",
      "362:\tlearn: 4257.8047725\ttotal: 136ms\tremaining: 13.8ms\n",
      "363:\tlearn: 4257.0958997\ttotal: 136ms\tremaining: 13.5ms\n",
      "364:\tlearn: 4256.3073532\ttotal: 136ms\tremaining: 13.1ms\n",
      "365:\tlearn: 4255.6599011\ttotal: 136ms\tremaining: 12.7ms\n",
      "366:\tlearn: 4254.2436005\ttotal: 137ms\tremaining: 12.3ms\n",
      "367:\tlearn: 4253.3706131\ttotal: 137ms\tremaining: 11.9ms\n",
      "368:\tlearn: 4252.0060285\ttotal: 137ms\tremaining: 11.5ms\n",
      "369:\tlearn: 4250.9952367\ttotal: 137ms\tremaining: 11.1ms\n",
      "370:\tlearn: 4250.3691887\ttotal: 137ms\tremaining: 10.7ms\n",
      "371:\tlearn: 4249.1993671\ttotal: 138ms\tremaining: 10.4ms\n",
      "372:\tlearn: 4248.4269182\ttotal: 138ms\tremaining: 9.97ms\n",
      "373:\tlearn: 4247.1273086\ttotal: 138ms\tremaining: 9.59ms\n",
      "374:\tlearn: 4246.4873840\ttotal: 138ms\tremaining: 9.21ms\n",
      "375:\tlearn: 4245.7158175\ttotal: 138ms\tremaining: 8.83ms\n",
      "376:\tlearn: 4244.8981512\ttotal: 139ms\tremaining: 8.45ms\n",
      "377:\tlearn: 4244.3915683\ttotal: 139ms\tremaining: 8.07ms\n",
      "378:\tlearn: 4243.7440055\ttotal: 139ms\tremaining: 7.7ms\n",
      "379:\tlearn: 4243.0197172\ttotal: 139ms\tremaining: 7.32ms\n",
      "380:\tlearn: 4241.8045659\ttotal: 139ms\tremaining: 6.95ms\n",
      "381:\tlearn: 4241.4661662\ttotal: 140ms\tremaining: 6.58ms\n",
      "382:\tlearn: 4239.1302301\ttotal: 140ms\tremaining: 6.21ms\n",
      "383:\tlearn: 4237.8962491\ttotal: 140ms\tremaining: 5.84ms\n",
      "384:\tlearn: 4237.3275045\ttotal: 140ms\tremaining: 5.47ms\n",
      "385:\tlearn: 4236.7592085\ttotal: 141ms\tremaining: 5.1ms\n",
      "386:\tlearn: 4236.1562872\ttotal: 141ms\tremaining: 4.73ms\n",
      "387:\tlearn: 4235.3190959\ttotal: 141ms\tremaining: 4.36ms\n",
      "388:\tlearn: 4234.4882209\ttotal: 141ms\tremaining: 3.99ms\n",
      "389:\tlearn: 4233.8079363\ttotal: 141ms\tremaining: 3.63ms\n",
      "390:\tlearn: 4233.2011210\ttotal: 142ms\tremaining: 3.26ms\n",
      "391:\tlearn: 4232.3224476\ttotal: 142ms\tremaining: 2.89ms\n",
      "392:\tlearn: 4231.4857087\ttotal: 142ms\tremaining: 2.53ms\n",
      "393:\tlearn: 4230.8162934\ttotal: 142ms\tremaining: 2.17ms\n",
      "394:\tlearn: 4229.7901586\ttotal: 143ms\tremaining: 1.8ms\n",
      "395:\tlearn: 4228.7192545\ttotal: 143ms\tremaining: 1.44ms\n",
      "396:\tlearn: 4227.1334491\ttotal: 143ms\tremaining: 1.08ms\n",
      "397:\tlearn: 4226.4934639\ttotal: 143ms\tremaining: 718us\n",
      "398:\tlearn: 4225.3003556\ttotal: 143ms\tremaining: 359us\n",
      "399:\tlearn: 4224.7587272\ttotal: 143ms\tremaining: 0us\n"
     ]
    },
    {
     "data": {
      "text/html": [
       "<pre style=\"white-space:pre;overflow-x:auto;line-height:normal;font-family:Menlo,'DejaVu Sans Mono',consolas,'Courier New',monospace\">Model: catboost regressor optuna hp\n",
       "</pre>\n"
      ],
      "text/plain": [
       "Model: catboost regressor optuna hp\n"
      ]
     },
     "metadata": {},
     "output_type": "display_data"
    },
    {
     "data": {
      "text/html": [
       "<pre style=\"white-space:pre;overflow-x:auto;line-height:normal;font-family:Menlo,'DejaVu Sans Mono',consolas,'Courier New',monospace\">Mean Squared Error: <span style=\"color: #008080; text-decoration-color: #008080; font-weight: bold\">18637106.059977632</span>\n",
       "</pre>\n"
      ],
      "text/plain": [
       "Mean Squared Error: \u001b[1;36m18637106.059977632\u001b[0m\n"
      ]
     },
     "metadata": {},
     "output_type": "display_data"
    },
    {
     "data": {
      "text/html": [
       "<pre style=\"white-space:pre;overflow-x:auto;line-height:normal;font-family:Menlo,'DejaVu Sans Mono',consolas,'Courier New',monospace\">Mean Absolute Error: <span style=\"color: #008080; text-decoration-color: #008080; font-weight: bold\">2458.115189351549</span>\n",
       "</pre>\n"
      ],
      "text/plain": [
       "Mean Absolute Error: \u001b[1;36m2458.115189351549\u001b[0m\n"
      ]
     },
     "metadata": {},
     "output_type": "display_data"
    },
    {
     "data": {
      "text/html": [
       "<pre style=\"white-space:pre;overflow-x:auto;line-height:normal;font-family:Menlo,'DejaVu Sans Mono',consolas,'Courier New',monospace\">r2 score: <span style=\"color: #008080; text-decoration-color: #008080; font-weight: bold\">0.8799532474056627</span>\n",
       "</pre>\n"
      ],
      "text/plain": [
       "r2 score: \u001b[1;36m0.8799532474056627\u001b[0m\n"
      ]
     },
     "metadata": {},
     "output_type": "display_data"
    },
    {
     "name": "stdout",
     "output_type": "stream",
     "text": [
      "[LightGBM] [Warning] Found whitespace in feature_names, replace with underlines\n",
      "[LightGBM] [Info] Auto-choosing row-wise multi-threading, the overhead of testing was 0.000924 seconds.\n",
      "You can set `force_row_wise=true` to remove the overhead.\n",
      "And if memory is not enough, you can set `force_col_wise=true`.\n",
      "[LightGBM] [Info] Total Bins 332\n",
      "[LightGBM] [Info] Number of data points in the train set: 1070, number of used features: 14\n",
      "[LightGBM] [Info] Start training from score 13346.089733\n",
      "[LightGBM] [Warning] No further splits with positive gain, best gain: -inf\n",
      "[LightGBM] [Warning] No further splits with positive gain, best gain: -inf\n",
      "[LightGBM] [Warning] No further splits with positive gain, best gain: -inf\n",
      "[LightGBM] [Warning] No further splits with positive gain, best gain: -inf\n",
      "[LightGBM] [Warning] No further splits with positive gain, best gain: -inf\n",
      "[LightGBM] [Warning] No further splits with positive gain, best gain: -inf\n",
      "[LightGBM] [Warning] No further splits with positive gain, best gain: -inf\n",
      "[LightGBM] [Warning] No further splits with positive gain, best gain: -inf\n",
      "[LightGBM] [Warning] No further splits with positive gain, best gain: -inf\n",
      "[LightGBM] [Warning] No further splits with positive gain, best gain: -inf\n",
      "[LightGBM] [Warning] No further splits with positive gain, best gain: -inf\n",
      "[LightGBM] [Warning] No further splits with positive gain, best gain: -inf\n",
      "[LightGBM] [Warning] No further splits with positive gain, best gain: -inf\n",
      "[LightGBM] [Warning] No further splits with positive gain, best gain: -inf\n",
      "[LightGBM] [Warning] No further splits with positive gain, best gain: -inf\n",
      "[LightGBM] [Warning] No further splits with positive gain, best gain: -inf\n",
      "[LightGBM] [Warning] No further splits with positive gain, best gain: -inf\n",
      "[LightGBM] [Warning] No further splits with positive gain, best gain: -inf\n",
      "[LightGBM] [Warning] No further splits with positive gain, best gain: -inf\n",
      "[LightGBM] [Warning] No further splits with positive gain, best gain: -inf\n",
      "[LightGBM] [Warning] No further splits with positive gain, best gain: -inf\n",
      "[LightGBM] [Warning] No further splits with positive gain, best gain: -inf\n",
      "[LightGBM] [Warning] No further splits with positive gain, best gain: -inf\n",
      "[LightGBM] [Warning] No further splits with positive gain, best gain: -inf\n",
      "[LightGBM] [Warning] No further splits with positive gain, best gain: -inf\n",
      "[LightGBM] [Warning] No further splits with positive gain, best gain: -inf\n",
      "[LightGBM] [Warning] No further splits with positive gain, best gain: -inf\n",
      "[LightGBM] [Warning] No further splits with positive gain, best gain: -inf\n",
      "[LightGBM] [Warning] No further splits with positive gain, best gain: -inf\n",
      "[LightGBM] [Warning] No further splits with positive gain, best gain: -inf\n",
      "[LightGBM] [Warning] No further splits with positive gain, best gain: -inf\n",
      "[LightGBM] [Warning] No further splits with positive gain, best gain: -inf\n",
      "[LightGBM] [Warning] No further splits with positive gain, best gain: -inf\n",
      "[LightGBM] [Warning] No further splits with positive gain, best gain: -inf\n",
      "[LightGBM] [Warning] No further splits with positive gain, best gain: -inf\n",
      "[LightGBM] [Warning] No further splits with positive gain, best gain: -inf\n",
      "[LightGBM] [Warning] No further splits with positive gain, best gain: -inf\n",
      "[LightGBM] [Warning] No further splits with positive gain, best gain: -inf\n",
      "[LightGBM] [Warning] No further splits with positive gain, best gain: -inf\n",
      "[LightGBM] [Warning] No further splits with positive gain, best gain: -inf\n",
      "[LightGBM] [Warning] No further splits with positive gain, best gain: -inf\n",
      "[LightGBM] [Warning] No further splits with positive gain, best gain: -inf\n",
      "[LightGBM] [Warning] No further splits with positive gain, best gain: -inf\n",
      "[LightGBM] [Warning] No further splits with positive gain, best gain: -inf\n",
      "[LightGBM] [Warning] No further splits with positive gain, best gain: -inf\n",
      "[LightGBM] [Warning] No further splits with positive gain, best gain: -inf\n",
      "[LightGBM] [Warning] No further splits with positive gain, best gain: -inf\n",
      "[LightGBM] [Warning] No further splits with positive gain, best gain: -inf\n",
      "[LightGBM] [Warning] No further splits with positive gain, best gain: -inf\n",
      "[LightGBM] [Warning] No further splits with positive gain, best gain: -inf\n",
      "[LightGBM] [Warning] No further splits with positive gain, best gain: -inf\n",
      "[LightGBM] [Warning] No further splits with positive gain, best gain: -inf\n",
      "[LightGBM] [Warning] No further splits with positive gain, best gain: -inf\n",
      "[LightGBM] [Warning] No further splits with positive gain, best gain: -inf\n",
      "[LightGBM] [Warning] No further splits with positive gain, best gain: -inf\n",
      "[LightGBM] [Warning] No further splits with positive gain, best gain: -inf\n",
      "[LightGBM] [Warning] No further splits with positive gain, best gain: -inf\n",
      "[LightGBM] [Warning] No further splits with positive gain, best gain: -inf\n",
      "[LightGBM] [Warning] No further splits with positive gain, best gain: -inf\n",
      "[LightGBM] [Warning] No further splits with positive gain, best gain: -inf\n",
      "[LightGBM] [Warning] No further splits with positive gain, best gain: -inf\n",
      "[LightGBM] [Warning] No further splits with positive gain, best gain: -inf\n",
      "[LightGBM] [Warning] No further splits with positive gain, best gain: -inf\n",
      "[LightGBM] [Warning] No further splits with positive gain, best gain: -inf\n",
      "[LightGBM] [Warning] No further splits with positive gain, best gain: -inf\n",
      "[LightGBM] [Warning] No further splits with positive gain, best gain: -inf\n",
      "[LightGBM] [Warning] No further splits with positive gain, best gain: -inf\n",
      "[LightGBM] [Warning] No further splits with positive gain, best gain: -inf\n",
      "[LightGBM] [Warning] No further splits with positive gain, best gain: -inf\n",
      "[LightGBM] [Warning] No further splits with positive gain, best gain: -inf\n",
      "[LightGBM] [Warning] No further splits with positive gain, best gain: -inf\n",
      "[LightGBM] [Warning] No further splits with positive gain, best gain: -inf\n",
      "[LightGBM] [Warning] No further splits with positive gain, best gain: -inf\n",
      "[LightGBM] [Warning] No further splits with positive gain, best gain: -inf\n",
      "[LightGBM] [Warning] No further splits with positive gain, best gain: -inf\n",
      "[LightGBM] [Warning] No further splits with positive gain, best gain: -inf\n",
      "[LightGBM] [Warning] No further splits with positive gain, best gain: -inf\n",
      "[LightGBM] [Warning] No further splits with positive gain, best gain: -inf\n",
      "[LightGBM] [Warning] No further splits with positive gain, best gain: -inf\n",
      "[LightGBM] [Warning] No further splits with positive gain, best gain: -inf\n",
      "[LightGBM] [Warning] No further splits with positive gain, best gain: -inf\n",
      "[LightGBM] [Warning] No further splits with positive gain, best gain: -inf\n",
      "[LightGBM] [Warning] No further splits with positive gain, best gain: -inf\n",
      "[LightGBM] [Warning] No further splits with positive gain, best gain: -inf\n",
      "[LightGBM] [Warning] No further splits with positive gain, best gain: -inf\n",
      "[LightGBM] [Warning] No further splits with positive gain, best gain: -inf\n",
      "[LightGBM] [Warning] No further splits with positive gain, best gain: -inf\n",
      "[LightGBM] [Warning] No further splits with positive gain, best gain: -inf\n",
      "[LightGBM] [Warning] No further splits with positive gain, best gain: -inf\n",
      "[LightGBM] [Warning] No further splits with positive gain, best gain: -inf\n",
      "[LightGBM] [Warning] No further splits with positive gain, best gain: -inf\n",
      "[LightGBM] [Warning] No further splits with positive gain, best gain: -inf\n",
      "[LightGBM] [Warning] No further splits with positive gain, best gain: -inf\n",
      "[LightGBM] [Warning] No further splits with positive gain, best gain: -inf\n",
      "[LightGBM] [Warning] No further splits with positive gain, best gain: -inf\n",
      "[LightGBM] [Warning] No further splits with positive gain, best gain: -inf\n",
      "[LightGBM] [Warning] No further splits with positive gain, best gain: -inf\n",
      "[LightGBM] [Warning] No further splits with positive gain, best gain: -inf\n",
      "[LightGBM] [Warning] No further splits with positive gain, best gain: -inf\n",
      "[LightGBM] [Warning] No further splits with positive gain, best gain: -inf\n",
      "[LightGBM] [Warning] No further splits with positive gain, best gain: -inf\n",
      "[LightGBM] [Warning] No further splits with positive gain, best gain: -inf\n",
      "[LightGBM] [Warning] No further splits with positive gain, best gain: -inf\n",
      "[LightGBM] [Warning] No further splits with positive gain, best gain: -inf\n",
      "[LightGBM] [Warning] No further splits with positive gain, best gain: -inf\n",
      "[LightGBM] [Warning] No further splits with positive gain, best gain: -inf\n",
      "[LightGBM] [Warning] No further splits with positive gain, best gain: -inf\n",
      "[LightGBM] [Warning] No further splits with positive gain, best gain: -inf\n",
      "[LightGBM] [Warning] No further splits with positive gain, best gain: -inf\n",
      "[LightGBM] [Warning] No further splits with positive gain, best gain: -inf\n",
      "[LightGBM] [Warning] No further splits with positive gain, best gain: -inf\n",
      "[LightGBM] [Warning] No further splits with positive gain, best gain: -inf\n",
      "[LightGBM] [Warning] No further splits with positive gain, best gain: -inf\n",
      "[LightGBM] [Warning] No further splits with positive gain, best gain: -inf\n",
      "[LightGBM] [Warning] No further splits with positive gain, best gain: -inf\n",
      "[LightGBM] [Warning] No further splits with positive gain, best gain: -inf\n",
      "[LightGBM] [Warning] No further splits with positive gain, best gain: -inf\n",
      "[LightGBM] [Warning] No further splits with positive gain, best gain: -inf\n",
      "[LightGBM] [Warning] No further splits with positive gain, best gain: -inf\n",
      "[LightGBM] [Warning] No further splits with positive gain, best gain: -inf\n",
      "[LightGBM] [Warning] No further splits with positive gain, best gain: -inf\n",
      "[LightGBM] [Warning] No further splits with positive gain, best gain: -inf\n",
      "[LightGBM] [Warning] No further splits with positive gain, best gain: -inf\n",
      "[LightGBM] [Warning] No further splits with positive gain, best gain: -inf\n",
      "[LightGBM] [Warning] No further splits with positive gain, best gain: -inf\n",
      "[LightGBM] [Warning] No further splits with positive gain, best gain: -inf\n",
      "[LightGBM] [Warning] No further splits with positive gain, best gain: -inf\n",
      "[LightGBM] [Warning] No further splits with positive gain, best gain: -inf\n",
      "[LightGBM] [Warning] No further splits with positive gain, best gain: -inf\n",
      "[LightGBM] [Warning] No further splits with positive gain, best gain: -inf\n",
      "[LightGBM] [Warning] No further splits with positive gain, best gain: -inf\n",
      "[LightGBM] [Warning] No further splits with positive gain, best gain: -inf\n",
      "[LightGBM] [Warning] No further splits with positive gain, best gain: -inf\n",
      "[LightGBM] [Warning] No further splits with positive gain, best gain: -inf\n",
      "[LightGBM] [Warning] No further splits with positive gain, best gain: -inf\n",
      "[LightGBM] [Warning] No further splits with positive gain, best gain: -inf\n",
      "[LightGBM] [Warning] No further splits with positive gain, best gain: -inf\n",
      "[LightGBM] [Warning] No further splits with positive gain, best gain: -inf\n",
      "[LightGBM] [Warning] No further splits with positive gain, best gain: -inf\n",
      "[LightGBM] [Warning] No further splits with positive gain, best gain: -inf\n",
      "[LightGBM] [Warning] No further splits with positive gain, best gain: -inf\n",
      "[LightGBM] [Warning] No further splits with positive gain, best gain: -inf\n",
      "[LightGBM] [Warning] No further splits with positive gain, best gain: -inf\n",
      "[LightGBM] [Warning] No further splits with positive gain, best gain: -inf\n",
      "[LightGBM] [Warning] No further splits with positive gain, best gain: -inf\n",
      "[LightGBM] [Warning] No further splits with positive gain, best gain: -inf\n",
      "[LightGBM] [Warning] No further splits with positive gain, best gain: -inf\n",
      "[LightGBM] [Warning] No further splits with positive gain, best gain: -inf\n",
      "[LightGBM] [Warning] No further splits with positive gain, best gain: -inf\n",
      "[LightGBM] [Warning] No further splits with positive gain, best gain: -inf\n",
      "[LightGBM] [Warning] No further splits with positive gain, best gain: -inf\n",
      "[LightGBM] [Warning] No further splits with positive gain, best gain: -inf\n",
      "[LightGBM] [Warning] No further splits with positive gain, best gain: -inf\n",
      "[LightGBM] [Warning] No further splits with positive gain, best gain: -inf\n",
      "[LightGBM] [Warning] No further splits with positive gain, best gain: -inf\n",
      "[LightGBM] [Warning] No further splits with positive gain, best gain: -inf\n",
      "[LightGBM] [Warning] No further splits with positive gain, best gain: -inf\n",
      "[LightGBM] [Warning] No further splits with positive gain, best gain: -inf\n",
      "[LightGBM] [Warning] No further splits with positive gain, best gain: -inf\n",
      "[LightGBM] [Warning] No further splits with positive gain, best gain: -inf\n",
      "[LightGBM] [Warning] No further splits with positive gain, best gain: -inf\n",
      "[LightGBM] [Warning] No further splits with positive gain, best gain: -inf\n",
      "[LightGBM] [Warning] No further splits with positive gain, best gain: -inf\n",
      "[LightGBM] [Warning] No further splits with positive gain, best gain: -inf\n",
      "[LightGBM] [Warning] No further splits with positive gain, best gain: -inf\n",
      "[LightGBM] [Warning] No further splits with positive gain, best gain: -inf\n",
      "[LightGBM] [Warning] No further splits with positive gain, best gain: -inf\n",
      "[LightGBM] [Warning] No further splits with positive gain, best gain: -inf\n",
      "[LightGBM] [Warning] No further splits with positive gain, best gain: -inf\n",
      "[LightGBM] [Warning] No further splits with positive gain, best gain: -inf\n",
      "[LightGBM] [Warning] No further splits with positive gain, best gain: -inf\n",
      "[LightGBM] [Warning] No further splits with positive gain, best gain: -inf\n",
      "[LightGBM] [Warning] No further splits with positive gain, best gain: -inf\n",
      "[LightGBM] [Warning] No further splits with positive gain, best gain: -inf\n",
      "[LightGBM] [Warning] No further splits with positive gain, best gain: -inf\n",
      "[LightGBM] [Warning] No further splits with positive gain, best gain: -inf\n",
      "[LightGBM] [Warning] No further splits with positive gain, best gain: -inf\n",
      "[LightGBM] [Warning] No further splits with positive gain, best gain: -inf\n",
      "[LightGBM] [Warning] No further splits with positive gain, best gain: -inf\n",
      "[LightGBM] [Warning] No further splits with positive gain, best gain: -inf\n",
      "[LightGBM] [Warning] No further splits with positive gain, best gain: -inf\n",
      "[LightGBM] [Warning] No further splits with positive gain, best gain: -inf\n",
      "[LightGBM] [Warning] No further splits with positive gain, best gain: -inf\n",
      "[LightGBM] [Warning] No further splits with positive gain, best gain: -inf\n",
      "[LightGBM] [Warning] No further splits with positive gain, best gain: -inf\n",
      "[LightGBM] [Warning] No further splits with positive gain, best gain: -inf\n",
      "[LightGBM] [Warning] No further splits with positive gain, best gain: -inf\n",
      "[LightGBM] [Warning] No further splits with positive gain, best gain: -inf\n",
      "[LightGBM] [Warning] No further splits with positive gain, best gain: -inf\n",
      "[LightGBM] [Warning] No further splits with positive gain, best gain: -inf\n",
      "[LightGBM] [Warning] No further splits with positive gain, best gain: -inf\n",
      "[LightGBM] [Warning] No further splits with positive gain, best gain: -inf\n",
      "[LightGBM] [Warning] No further splits with positive gain, best gain: -inf\n",
      "[LightGBM] [Warning] No further splits with positive gain, best gain: -inf\n",
      "[LightGBM] [Warning] No further splits with positive gain, best gain: -inf\n",
      "[LightGBM] [Warning] No further splits with positive gain, best gain: -inf\n",
      "[LightGBM] [Warning] No further splits with positive gain, best gain: -inf\n",
      "[LightGBM] [Warning] No further splits with positive gain, best gain: -inf\n",
      "[LightGBM] [Warning] No further splits with positive gain, best gain: -inf\n",
      "[LightGBM] [Warning] No further splits with positive gain, best gain: -inf\n",
      "[LightGBM] [Warning] No further splits with positive gain, best gain: -inf\n",
      "[LightGBM] [Warning] No further splits with positive gain, best gain: -inf\n",
      "[LightGBM] [Warning] No further splits with positive gain, best gain: -inf\n",
      "[LightGBM] [Warning] No further splits with positive gain, best gain: -inf\n",
      "[LightGBM] [Warning] No further splits with positive gain, best gain: -inf\n",
      "[LightGBM] [Warning] No further splits with positive gain, best gain: -inf\n",
      "[LightGBM] [Warning] No further splits with positive gain, best gain: -inf\n",
      "[LightGBM] [Warning] No further splits with positive gain, best gain: -inf\n",
      "[LightGBM] [Warning] No further splits with positive gain, best gain: -inf\n",
      "[LightGBM] [Warning] No further splits with positive gain, best gain: -inf\n",
      "[LightGBM] [Warning] No further splits with positive gain, best gain: -inf\n",
      "[LightGBM] [Warning] No further splits with positive gain, best gain: -inf\n",
      "[LightGBM] [Warning] No further splits with positive gain, best gain: -inf\n",
      "[LightGBM] [Warning] No further splits with positive gain, best gain: -inf\n",
      "[LightGBM] [Warning] No further splits with positive gain, best gain: -inf\n",
      "[LightGBM] [Warning] No further splits with positive gain, best gain: -inf\n",
      "[LightGBM] [Warning] No further splits with positive gain, best gain: -inf\n",
      "[LightGBM] [Warning] No further splits with positive gain, best gain: -inf\n",
      "[LightGBM] [Warning] No further splits with positive gain, best gain: -inf\n",
      "[LightGBM] [Warning] No further splits with positive gain, best gain: -inf\n",
      "[LightGBM] [Warning] No further splits with positive gain, best gain: -inf\n",
      "[LightGBM] [Warning] No further splits with positive gain, best gain: -inf\n",
      "[LightGBM] [Warning] No further splits with positive gain, best gain: -inf\n",
      "[LightGBM] [Warning] No further splits with positive gain, best gain: -inf\n",
      "[LightGBM] [Warning] No further splits with positive gain, best gain: -inf\n",
      "[LightGBM] [Warning] No further splits with positive gain, best gain: -inf\n",
      "[LightGBM] [Warning] No further splits with positive gain, best gain: -inf\n",
      "[LightGBM] [Warning] No further splits with positive gain, best gain: -inf\n",
      "[LightGBM] [Warning] No further splits with positive gain, best gain: -inf\n",
      "[LightGBM] [Warning] No further splits with positive gain, best gain: -inf\n",
      "[LightGBM] [Warning] No further splits with positive gain, best gain: -inf\n",
      "[LightGBM] [Warning] No further splits with positive gain, best gain: -inf\n",
      "[LightGBM] [Warning] No further splits with positive gain, best gain: -inf\n",
      "[LightGBM] [Warning] No further splits with positive gain, best gain: -inf\n",
      "[LightGBM] [Warning] No further splits with positive gain, best gain: -inf\n",
      "[LightGBM] [Warning] No further splits with positive gain, best gain: -inf\n",
      "[LightGBM] [Warning] No further splits with positive gain, best gain: -inf\n",
      "[LightGBM] [Warning] No further splits with positive gain, best gain: -inf\n",
      "[LightGBM] [Warning] No further splits with positive gain, best gain: -inf\n",
      "[LightGBM] [Warning] No further splits with positive gain, best gain: -inf\n",
      "[LightGBM] [Warning] No further splits with positive gain, best gain: -inf\n",
      "[LightGBM] [Warning] No further splits with positive gain, best gain: -inf\n",
      "[LightGBM] [Warning] No further splits with positive gain, best gain: -inf\n",
      "[LightGBM] [Warning] No further splits with positive gain, best gain: -inf\n",
      "[LightGBM] [Warning] No further splits with positive gain, best gain: -inf\n",
      "[LightGBM] [Warning] No further splits with positive gain, best gain: -inf\n",
      "[LightGBM] [Warning] No further splits with positive gain, best gain: -inf\n",
      "[LightGBM] [Warning] No further splits with positive gain, best gain: -inf\n",
      "[LightGBM] [Warning] No further splits with positive gain, best gain: -inf\n",
      "[LightGBM] [Warning] No further splits with positive gain, best gain: -inf\n",
      "[LightGBM] [Warning] No further splits with positive gain, best gain: -inf\n",
      "[LightGBM] [Warning] No further splits with positive gain, best gain: -inf\n",
      "[LightGBM] [Warning] No further splits with positive gain, best gain: -inf\n",
      "[LightGBM] [Warning] No further splits with positive gain, best gain: -inf\n",
      "[LightGBM] [Warning] No further splits with positive gain, best gain: -inf\n",
      "[LightGBM] [Warning] No further splits with positive gain, best gain: -inf\n",
      "[LightGBM] [Warning] No further splits with positive gain, best gain: -inf\n",
      "[LightGBM] [Warning] No further splits with positive gain, best gain: -inf\n",
      "[LightGBM] [Warning] No further splits with positive gain, best gain: -inf\n",
      "[LightGBM] [Warning] No further splits with positive gain, best gain: -inf\n",
      "[LightGBM] [Warning] No further splits with positive gain, best gain: -inf\n",
      "[LightGBM] [Warning] No further splits with positive gain, best gain: -inf\n",
      "[LightGBM] [Warning] No further splits with positive gain, best gain: -inf\n",
      "[LightGBM] [Warning] No further splits with positive gain, best gain: -inf\n",
      "[LightGBM] [Warning] No further splits with positive gain, best gain: -inf\n",
      "[LightGBM] [Warning] No further splits with positive gain, best gain: -inf\n",
      "[LightGBM] [Warning] No further splits with positive gain, best gain: -inf\n",
      "[LightGBM] [Warning] No further splits with positive gain, best gain: -inf\n",
      "[LightGBM] [Warning] No further splits with positive gain, best gain: -inf\n",
      "[LightGBM] [Warning] No further splits with positive gain, best gain: -inf\n",
      "[LightGBM] [Warning] No further splits with positive gain, best gain: -inf\n",
      "[LightGBM] [Warning] No further splits with positive gain, best gain: -inf\n",
      "[LightGBM] [Warning] No further splits with positive gain, best gain: -inf\n",
      "[LightGBM] [Warning] No further splits with positive gain, best gain: -inf\n",
      "[LightGBM] [Warning] No further splits with positive gain, best gain: -inf\n",
      "[LightGBM] [Warning] No further splits with positive gain, best gain: -inf\n",
      "[LightGBM] [Warning] No further splits with positive gain, best gain: -inf\n",
      "[LightGBM] [Warning] No further splits with positive gain, best gain: -inf\n",
      "[LightGBM] [Warning] No further splits with positive gain, best gain: -inf\n",
      "[LightGBM] [Warning] No further splits with positive gain, best gain: -inf\n",
      "[LightGBM] [Warning] No further splits with positive gain, best gain: -inf\n",
      "[LightGBM] [Warning] No further splits with positive gain, best gain: -inf\n",
      "[LightGBM] [Warning] No further splits with positive gain, best gain: -inf\n",
      "[LightGBM] [Warning] No further splits with positive gain, best gain: -inf\n",
      "[LightGBM] [Warning] No further splits with positive gain, best gain: -inf\n",
      "[LightGBM] [Warning] No further splits with positive gain, best gain: -inf\n",
      "[LightGBM] [Warning] No further splits with positive gain, best gain: -inf\n",
      "[LightGBM] [Warning] No further splits with positive gain, best gain: -inf\n",
      "[LightGBM] [Warning] No further splits with positive gain, best gain: -inf\n",
      "[LightGBM] [Warning] No further splits with positive gain, best gain: -inf\n",
      "[LightGBM] [Warning] No further splits with positive gain, best gain: -inf\n",
      "[LightGBM] [Warning] No further splits with positive gain, best gain: -inf\n",
      "[LightGBM] [Warning] No further splits with positive gain, best gain: -inf\n",
      "[LightGBM] [Warning] No further splits with positive gain, best gain: -inf\n",
      "[LightGBM] [Warning] No further splits with positive gain, best gain: -inf\n",
      "[LightGBM] [Warning] No further splits with positive gain, best gain: -inf\n",
      "[LightGBM] [Warning] No further splits with positive gain, best gain: -inf\n",
      "[LightGBM] [Warning] No further splits with positive gain, best gain: -inf\n",
      "[LightGBM] [Warning] No further splits with positive gain, best gain: -inf\n",
      "[LightGBM] [Warning] No further splits with positive gain, best gain: -inf\n",
      "[LightGBM] [Warning] No further splits with positive gain, best gain: -inf\n",
      "[LightGBM] [Warning] No further splits with positive gain, best gain: -inf\n",
      "[LightGBM] [Warning] No further splits with positive gain, best gain: -inf\n",
      "[LightGBM] [Warning] No further splits with positive gain, best gain: -inf\n",
      "[LightGBM] [Warning] No further splits with positive gain, best gain: -inf\n",
      "[LightGBM] [Warning] No further splits with positive gain, best gain: -inf\n",
      "[LightGBM] [Warning] No further splits with positive gain, best gain: -inf\n",
      "[LightGBM] [Warning] No further splits with positive gain, best gain: -inf\n",
      "[LightGBM] [Warning] No further splits with positive gain, best gain: -inf\n",
      "[LightGBM] [Warning] No further splits with positive gain, best gain: -inf\n",
      "[LightGBM] [Warning] No further splits with positive gain, best gain: -inf\n",
      "[LightGBM] [Warning] No further splits with positive gain, best gain: -inf\n",
      "[LightGBM] [Warning] No further splits with positive gain, best gain: -inf\n",
      "[LightGBM] [Warning] No further splits with positive gain, best gain: -inf\n",
      "[LightGBM] [Warning] No further splits with positive gain, best gain: -inf\n",
      "[LightGBM] [Warning] No further splits with positive gain, best gain: -inf\n",
      "[LightGBM] [Warning] No further splits with positive gain, best gain: -inf\n",
      "[LightGBM] [Warning] No further splits with positive gain, best gain: -inf\n",
      "[LightGBM] [Warning] No further splits with positive gain, best gain: -inf\n",
      "[LightGBM] [Warning] No further splits with positive gain, best gain: -inf\n",
      "[LightGBM] [Warning] No further splits with positive gain, best gain: -inf\n",
      "[LightGBM] [Warning] No further splits with positive gain, best gain: -inf\n",
      "[LightGBM] [Warning] No further splits with positive gain, best gain: -inf\n",
      "[LightGBM] [Warning] No further splits with positive gain, best gain: -inf\n",
      "[LightGBM] [Warning] No further splits with positive gain, best gain: -inf\n",
      "[LightGBM] [Warning] No further splits with positive gain, best gain: -inf\n",
      "[LightGBM] [Warning] No further splits with positive gain, best gain: -inf\n",
      "[LightGBM] [Warning] No further splits with positive gain, best gain: -inf\n",
      "[LightGBM] [Warning] No further splits with positive gain, best gain: -inf\n",
      "[LightGBM] [Warning] No further splits with positive gain, best gain: -inf\n",
      "[LightGBM] [Warning] No further splits with positive gain, best gain: -inf\n",
      "[LightGBM] [Warning] No further splits with positive gain, best gain: -inf\n",
      "[LightGBM] [Warning] No further splits with positive gain, best gain: -inf\n",
      "[LightGBM] [Warning] No further splits with positive gain, best gain: -inf\n",
      "[LightGBM] [Warning] No further splits with positive gain, best gain: -inf\n",
      "[LightGBM] [Warning] No further splits with positive gain, best gain: -inf\n",
      "[LightGBM] [Warning] No further splits with positive gain, best gain: -inf\n",
      "[LightGBM] [Warning] No further splits with positive gain, best gain: -inf\n",
      "[LightGBM] [Warning] No further splits with positive gain, best gain: -inf\n",
      "[LightGBM] [Warning] No further splits with positive gain, best gain: -inf\n",
      "[LightGBM] [Warning] No further splits with positive gain, best gain: -inf\n",
      "[LightGBM] [Warning] No further splits with positive gain, best gain: -inf\n",
      "[LightGBM] [Warning] No further splits with positive gain, best gain: -inf\n",
      "[LightGBM] [Warning] No further splits with positive gain, best gain: -inf\n",
      "[LightGBM] [Warning] No further splits with positive gain, best gain: -inf\n",
      "[LightGBM] [Warning] No further splits with positive gain, best gain: -inf\n",
      "[LightGBM] [Warning] No further splits with positive gain, best gain: -inf\n",
      "[LightGBM] [Warning] No further splits with positive gain, best gain: -inf\n",
      "[LightGBM] [Warning] No further splits with positive gain, best gain: -inf\n",
      "[LightGBM] [Warning] No further splits with positive gain, best gain: -inf\n",
      "[LightGBM] [Warning] No further splits with positive gain, best gain: -inf\n",
      "[LightGBM] [Warning] No further splits with positive gain, best gain: -inf\n",
      "[LightGBM] [Warning] No further splits with positive gain, best gain: -inf\n",
      "[LightGBM] [Warning] No further splits with positive gain, best gain: -inf\n",
      "[LightGBM] [Warning] No further splits with positive gain, best gain: -inf\n",
      "[LightGBM] [Warning] No further splits with positive gain, best gain: -inf\n",
      "[LightGBM] [Warning] No further splits with positive gain, best gain: -inf\n",
      "[LightGBM] [Warning] No further splits with positive gain, best gain: -inf\n",
      "[LightGBM] [Warning] No further splits with positive gain, best gain: -inf\n",
      "[LightGBM] [Warning] No further splits with positive gain, best gain: -inf\n",
      "[LightGBM] [Warning] No further splits with positive gain, best gain: -inf\n",
      "[LightGBM] [Warning] No further splits with positive gain, best gain: -inf\n",
      "[LightGBM] [Warning] No further splits with positive gain, best gain: -inf\n",
      "[LightGBM] [Warning] No further splits with positive gain, best gain: -inf\n",
      "[LightGBM] [Warning] No further splits with positive gain, best gain: -inf\n",
      "[LightGBM] [Warning] No further splits with positive gain, best gain: -inf\n",
      "[LightGBM] [Warning] No further splits with positive gain, best gain: -inf\n",
      "[LightGBM] [Warning] No further splits with positive gain, best gain: -inf\n",
      "[LightGBM] [Warning] No further splits with positive gain, best gain: -inf\n",
      "[LightGBM] [Warning] No further splits with positive gain, best gain: -inf\n",
      "[LightGBM] [Warning] No further splits with positive gain, best gain: -inf\n",
      "[LightGBM] [Warning] No further splits with positive gain, best gain: -inf\n",
      "[LightGBM] [Warning] No further splits with positive gain, best gain: -inf\n",
      "[LightGBM] [Warning] No further splits with positive gain, best gain: -inf\n",
      "[LightGBM] [Warning] No further splits with positive gain, best gain: -inf\n",
      "[LightGBM] [Warning] No further splits with positive gain, best gain: -inf\n",
      "[LightGBM] [Warning] No further splits with positive gain, best gain: -inf\n",
      "[LightGBM] [Warning] No further splits with positive gain, best gain: -inf\n",
      "[LightGBM] [Warning] No further splits with positive gain, best gain: -inf\n",
      "[LightGBM] [Warning] No further splits with positive gain, best gain: -inf\n",
      "[LightGBM] [Warning] No further splits with positive gain, best gain: -inf\n",
      "[LightGBM] [Warning] No further splits with positive gain, best gain: -inf\n",
      "[LightGBM] [Warning] No further splits with positive gain, best gain: -inf\n",
      "[LightGBM] [Warning] No further splits with positive gain, best gain: -inf\n",
      "[LightGBM] [Warning] No further splits with positive gain, best gain: -inf\n",
      "[LightGBM] [Warning] No further splits with positive gain, best gain: -inf\n",
      "[LightGBM] [Warning] No further splits with positive gain, best gain: -inf\n",
      "[LightGBM] [Warning] No further splits with positive gain, best gain: -inf\n",
      "[LightGBM] [Warning] No further splits with positive gain, best gain: -inf\n",
      "[LightGBM] [Warning] No further splits with positive gain, best gain: -inf\n",
      "[LightGBM] [Warning] No further splits with positive gain, best gain: -inf\n",
      "[LightGBM] [Warning] No further splits with positive gain, best gain: -inf\n",
      "[LightGBM] [Warning] No further splits with positive gain, best gain: -inf\n",
      "[LightGBM] [Warning] No further splits with positive gain, best gain: -inf\n",
      "[LightGBM] [Warning] No further splits with positive gain, best gain: -inf\n",
      "[LightGBM] [Warning] No further splits with positive gain, best gain: -inf\n",
      "[LightGBM] [Warning] No further splits with positive gain, best gain: -inf\n",
      "[LightGBM] [Warning] No further splits with positive gain, best gain: -inf\n",
      "[LightGBM] [Warning] No further splits with positive gain, best gain: -inf\n",
      "[LightGBM] [Warning] No further splits with positive gain, best gain: -inf\n",
      "[LightGBM] [Warning] No further splits with positive gain, best gain: -inf\n",
      "[LightGBM] [Warning] No further splits with positive gain, best gain: -inf\n",
      "[LightGBM] [Warning] No further splits with positive gain, best gain: -inf\n",
      "[LightGBM] [Warning] No further splits with positive gain, best gain: -inf\n",
      "[LightGBM] [Warning] No further splits with positive gain, best gain: -inf\n",
      "[LightGBM] [Warning] No further splits with positive gain, best gain: -inf\n",
      "[LightGBM] [Warning] No further splits with positive gain, best gain: -inf\n",
      "[LightGBM] [Warning] No further splits with positive gain, best gain: -inf\n",
      "[LightGBM] [Warning] No further splits with positive gain, best gain: -inf\n",
      "[LightGBM] [Warning] No further splits with positive gain, best gain: -inf\n",
      "[LightGBM] [Warning] No further splits with positive gain, best gain: -inf\n",
      "[LightGBM] [Warning] No further splits with positive gain, best gain: -inf\n",
      "[LightGBM] [Warning] No further splits with positive gain, best gain: -inf\n",
      "[LightGBM] [Warning] No further splits with positive gain, best gain: -inf\n",
      "[LightGBM] [Warning] No further splits with positive gain, best gain: -inf\n",
      "[LightGBM] [Warning] No further splits with positive gain, best gain: -inf\n",
      "[LightGBM] [Warning] No further splits with positive gain, best gain: -inf\n",
      "[LightGBM] [Warning] No further splits with positive gain, best gain: -inf\n",
      "[LightGBM] [Warning] No further splits with positive gain, best gain: -inf\n",
      "[LightGBM] [Warning] No further splits with positive gain, best gain: -inf\n",
      "[LightGBM] [Warning] No further splits with positive gain, best gain: -inf\n",
      "[LightGBM] [Warning] No further splits with positive gain, best gain: -inf\n",
      "[LightGBM] [Warning] No further splits with positive gain, best gain: -inf\n",
      "[LightGBM] [Warning] No further splits with positive gain, best gain: -inf\n",
      "[LightGBM] [Warning] No further splits with positive gain, best gain: -inf\n",
      "[LightGBM] [Warning] No further splits with positive gain, best gain: -inf\n",
      "[LightGBM] [Warning] No further splits with positive gain, best gain: -inf\n",
      "[LightGBM] [Warning] No further splits with positive gain, best gain: -inf\n",
      "[LightGBM] [Warning] No further splits with positive gain, best gain: -inf\n",
      "[LightGBM] [Warning] No further splits with positive gain, best gain: -inf\n",
      "[LightGBM] [Warning] No further splits with positive gain, best gain: -inf\n",
      "[LightGBM] [Warning] No further splits with positive gain, best gain: -inf\n",
      "[LightGBM] [Warning] No further splits with positive gain, best gain: -inf\n",
      "[LightGBM] [Warning] No further splits with positive gain, best gain: -inf\n",
      "[LightGBM] [Warning] No further splits with positive gain, best gain: -inf\n",
      "[LightGBM] [Warning] No further splits with positive gain, best gain: -inf\n",
      "[LightGBM] [Warning] No further splits with positive gain, best gain: -inf\n",
      "[LightGBM] [Warning] No further splits with positive gain, best gain: -inf\n",
      "[LightGBM] [Warning] No further splits with positive gain, best gain: -inf\n",
      "[LightGBM] [Warning] No further splits with positive gain, best gain: -inf\n",
      "[LightGBM] [Warning] No further splits with positive gain, best gain: -inf\n",
      "[LightGBM] [Warning] No further splits with positive gain, best gain: -inf\n",
      "[LightGBM] [Warning] No further splits with positive gain, best gain: -inf\n",
      "[LightGBM] [Warning] No further splits with positive gain, best gain: -inf\n",
      "[LightGBM] [Warning] No further splits with positive gain, best gain: -inf\n",
      "[LightGBM] [Warning] No further splits with positive gain, best gain: -inf\n",
      "[LightGBM] [Warning] No further splits with positive gain, best gain: -inf\n",
      "[LightGBM] [Warning] No further splits with positive gain, best gain: -inf\n",
      "[LightGBM] [Warning] No further splits with positive gain, best gain: -inf\n",
      "[LightGBM] [Warning] No further splits with positive gain, best gain: -inf\n",
      "[LightGBM] [Warning] No further splits with positive gain, best gain: -inf\n",
      "[LightGBM] [Warning] No further splits with positive gain, best gain: -inf\n",
      "[LightGBM] [Warning] No further splits with positive gain, best gain: -inf\n",
      "[LightGBM] [Warning] No further splits with positive gain, best gain: -inf\n",
      "[LightGBM] [Warning] No further splits with positive gain, best gain: -inf\n",
      "[LightGBM] [Warning] No further splits with positive gain, best gain: -inf\n",
      "[LightGBM] [Warning] No further splits with positive gain, best gain: -inf\n",
      "[LightGBM] [Warning] No further splits with positive gain, best gain: -inf\n",
      "[LightGBM] [Warning] No further splits with positive gain, best gain: -inf\n",
      "[LightGBM] [Warning] No further splits with positive gain, best gain: -inf\n",
      "[LightGBM] [Warning] No further splits with positive gain, best gain: -inf\n",
      "[LightGBM] [Warning] No further splits with positive gain, best gain: -inf\n",
      "[LightGBM] [Warning] No further splits with positive gain, best gain: -inf\n",
      "[LightGBM] [Warning] No further splits with positive gain, best gain: -inf\n",
      "[LightGBM] [Warning] No further splits with positive gain, best gain: -inf\n",
      "[LightGBM] [Warning] No further splits with positive gain, best gain: -inf\n",
      "[LightGBM] [Warning] No further splits with positive gain, best gain: -inf\n",
      "[LightGBM] [Warning] No further splits with positive gain, best gain: -inf\n",
      "[LightGBM] [Warning] No further splits with positive gain, best gain: -inf\n",
      "[LightGBM] [Warning] No further splits with positive gain, best gain: -inf\n",
      "[LightGBM] [Warning] No further splits with positive gain, best gain: -inf\n",
      "[LightGBM] [Warning] No further splits with positive gain, best gain: -inf\n",
      "[LightGBM] [Warning] No further splits with positive gain, best gain: -inf\n",
      "[LightGBM] [Warning] No further splits with positive gain, best gain: -inf\n",
      "[LightGBM] [Warning] No further splits with positive gain, best gain: -inf\n",
      "[LightGBM] [Warning] No further splits with positive gain, best gain: -inf\n",
      "[LightGBM] [Warning] No further splits with positive gain, best gain: -inf\n",
      "[LightGBM] [Warning] No further splits with positive gain, best gain: -inf\n",
      "[LightGBM] [Warning] No further splits with positive gain, best gain: -inf\n",
      "[LightGBM] [Warning] No further splits with positive gain, best gain: -inf\n",
      "[LightGBM] [Warning] No further splits with positive gain, best gain: -inf\n",
      "[LightGBM] [Warning] No further splits with positive gain, best gain: -inf\n",
      "[LightGBM] [Warning] No further splits with positive gain, best gain: -inf\n",
      "[LightGBM] [Warning] No further splits with positive gain, best gain: -inf\n",
      "[LightGBM] [Warning] No further splits with positive gain, best gain: -inf\n",
      "[LightGBM] [Warning] No further splits with positive gain, best gain: -inf\n",
      "[LightGBM] [Warning] No further splits with positive gain, best gain: -inf\n",
      "[LightGBM] [Warning] No further splits with positive gain, best gain: -inf\n",
      "[LightGBM] [Warning] No further splits with positive gain, best gain: -inf\n",
      "[LightGBM] [Warning] No further splits with positive gain, best gain: -inf\n",
      "[LightGBM] [Warning] No further splits with positive gain, best gain: -inf\n",
      "[LightGBM] [Warning] No further splits with positive gain, best gain: -inf\n",
      "[LightGBM] [Warning] No further splits with positive gain, best gain: -inf\n",
      "[LightGBM] [Warning] No further splits with positive gain, best gain: -inf\n",
      "[LightGBM] [Warning] No further splits with positive gain, best gain: -inf\n",
      "[LightGBM] [Warning] No further splits with positive gain, best gain: -inf\n",
      "[LightGBM] [Warning] No further splits with positive gain, best gain: -inf\n",
      "[LightGBM] [Warning] No further splits with positive gain, best gain: -inf\n",
      "[LightGBM] [Warning] No further splits with positive gain, best gain: -inf\n",
      "[LightGBM] [Warning] No further splits with positive gain, best gain: -inf\n",
      "[LightGBM] [Warning] No further splits with positive gain, best gain: -inf\n",
      "[LightGBM] [Warning] No further splits with positive gain, best gain: -inf\n",
      "[LightGBM] [Warning] No further splits with positive gain, best gain: -inf\n",
      "[LightGBM] [Warning] No further splits with positive gain, best gain: -inf\n",
      "[LightGBM] [Warning] No further splits with positive gain, best gain: -inf\n",
      "[LightGBM] [Warning] No further splits with positive gain, best gain: -inf\n",
      "[LightGBM] [Warning] No further splits with positive gain, best gain: -inf\n",
      "[LightGBM] [Warning] No further splits with positive gain, best gain: -inf\n",
      "[LightGBM] [Warning] No further splits with positive gain, best gain: -inf\n",
      "[LightGBM] [Warning] No further splits with positive gain, best gain: -inf\n",
      "[LightGBM] [Warning] No further splits with positive gain, best gain: -inf\n",
      "[LightGBM] [Warning] No further splits with positive gain, best gain: -inf\n",
      "[LightGBM] [Warning] No further splits with positive gain, best gain: -inf\n",
      "[LightGBM] [Warning] No further splits with positive gain, best gain: -inf\n",
      "[LightGBM] [Warning] No further splits with positive gain, best gain: -inf\n",
      "[LightGBM] [Warning] No further splits with positive gain, best gain: -inf\n",
      "[LightGBM] [Warning] No further splits with positive gain, best gain: -inf\n",
      "[LightGBM] [Warning] No further splits with positive gain, best gain: -inf\n",
      "[LightGBM] [Warning] No further splits with positive gain, best gain: -inf\n",
      "[LightGBM] [Warning] No further splits with positive gain, best gain: -inf\n",
      "[LightGBM] [Warning] No further splits with positive gain, best gain: -inf\n",
      "[LightGBM] [Warning] No further splits with positive gain, best gain: -inf\n",
      "[LightGBM] [Warning] No further splits with positive gain, best gain: -inf\n",
      "[LightGBM] [Warning] No further splits with positive gain, best gain: -inf\n",
      "[LightGBM] [Warning] No further splits with positive gain, best gain: -inf\n",
      "[LightGBM] [Warning] No further splits with positive gain, best gain: -inf\n",
      "[LightGBM] [Warning] No further splits with positive gain, best gain: -inf\n",
      "[LightGBM] [Warning] No further splits with positive gain, best gain: -inf\n",
      "[LightGBM] [Warning] No further splits with positive gain, best gain: -inf\n",
      "[LightGBM] [Warning] No further splits with positive gain, best gain: -inf\n",
      "[LightGBM] [Warning] No further splits with positive gain, best gain: -inf\n",
      "[LightGBM] [Warning] No further splits with positive gain, best gain: -inf\n",
      "[LightGBM] [Warning] No further splits with positive gain, best gain: -inf\n",
      "[LightGBM] [Warning] No further splits with positive gain, best gain: -inf\n",
      "[LightGBM] [Warning] No further splits with positive gain, best gain: -inf\n",
      "[LightGBM] [Warning] No further splits with positive gain, best gain: -inf\n",
      "[LightGBM] [Warning] No further splits with positive gain, best gain: -inf\n",
      "[LightGBM] [Warning] No further splits with positive gain, best gain: -inf\n",
      "[LightGBM] [Warning] No further splits with positive gain, best gain: -inf\n",
      "[LightGBM] [Warning] No further splits with positive gain, best gain: -inf\n",
      "[LightGBM] [Warning] No further splits with positive gain, best gain: -inf\n",
      "[LightGBM] [Warning] No further splits with positive gain, best gain: -inf\n",
      "[LightGBM] [Warning] No further splits with positive gain, best gain: -inf\n",
      "[LightGBM] [Warning] No further splits with positive gain, best gain: -inf\n",
      "[LightGBM] [Warning] No further splits with positive gain, best gain: -inf\n",
      "[LightGBM] [Warning] No further splits with positive gain, best gain: -inf\n",
      "[LightGBM] [Warning] No further splits with positive gain, best gain: -inf\n",
      "[LightGBM] [Warning] No further splits with positive gain, best gain: -inf\n",
      "[LightGBM] [Warning] No further splits with positive gain, best gain: -inf\n",
      "[LightGBM] [Warning] No further splits with positive gain, best gain: -inf\n",
      "[LightGBM] [Warning] No further splits with positive gain, best gain: -inf\n",
      "[LightGBM] [Warning] No further splits with positive gain, best gain: -inf\n",
      "[LightGBM] [Warning] No further splits with positive gain, best gain: -inf\n",
      "[LightGBM] [Warning] No further splits with positive gain, best gain: -inf\n",
      "[LightGBM] [Warning] No further splits with positive gain, best gain: -inf\n",
      "[LightGBM] [Warning] No further splits with positive gain, best gain: -inf\n",
      "[LightGBM] [Warning] No further splits with positive gain, best gain: -inf\n",
      "[LightGBM] [Warning] No further splits with positive gain, best gain: -inf\n",
      "[LightGBM] [Warning] No further splits with positive gain, best gain: -inf\n",
      "[LightGBM] [Warning] No further splits with positive gain, best gain: -inf\n",
      "[LightGBM] [Warning] No further splits with positive gain, best gain: -inf\n",
      "[LightGBM] [Warning] No further splits with positive gain, best gain: -inf\n",
      "[LightGBM] [Warning] No further splits with positive gain, best gain: -inf\n",
      "[LightGBM] [Warning] No further splits with positive gain, best gain: -inf\n",
      "[LightGBM] [Warning] No further splits with positive gain, best gain: -inf\n",
      "[LightGBM] [Warning] No further splits with positive gain, best gain: -inf\n",
      "[LightGBM] [Warning] No further splits with positive gain, best gain: -inf\n",
      "[LightGBM] [Warning] No further splits with positive gain, best gain: -inf\n",
      "[LightGBM] [Warning] No further splits with positive gain, best gain: -inf\n",
      "[LightGBM] [Warning] No further splits with positive gain, best gain: -inf\n",
      "[LightGBM] [Warning] No further splits with positive gain, best gain: -inf\n",
      "[LightGBM] [Warning] No further splits with positive gain, best gain: -inf\n",
      "[LightGBM] [Warning] No further splits with positive gain, best gain: -inf\n",
      "[LightGBM] [Warning] No further splits with positive gain, best gain: -inf\n",
      "[LightGBM] [Warning] No further splits with positive gain, best gain: -inf\n",
      "[LightGBM] [Warning] No further splits with positive gain, best gain: -inf\n",
      "[LightGBM] [Warning] No further splits with positive gain, best gain: -inf\n",
      "[LightGBM] [Warning] No further splits with positive gain, best gain: -inf\n",
      "[LightGBM] [Warning] No further splits with positive gain, best gain: -inf\n",
      "[LightGBM] [Warning] No further splits with positive gain, best gain: -inf\n",
      "[LightGBM] [Warning] No further splits with positive gain, best gain: -inf\n",
      "[LightGBM] [Warning] No further splits with positive gain, best gain: -inf\n",
      "[LightGBM] [Warning] No further splits with positive gain, best gain: -inf\n",
      "[LightGBM] [Warning] No further splits with positive gain, best gain: -inf\n",
      "[LightGBM] [Warning] No further splits with positive gain, best gain: -inf\n",
      "[LightGBM] [Warning] No further splits with positive gain, best gain: -inf\n",
      "[LightGBM] [Warning] No further splits with positive gain, best gain: -inf\n",
      "[LightGBM] [Warning] No further splits with positive gain, best gain: -inf\n",
      "[LightGBM] [Warning] No further splits with positive gain, best gain: -inf\n",
      "[LightGBM] [Warning] No further splits with positive gain, best gain: -inf\n",
      "[LightGBM] [Warning] No further splits with positive gain, best gain: -inf\n",
      "[LightGBM] [Warning] No further splits with positive gain, best gain: -inf\n",
      "[LightGBM] [Warning] No further splits with positive gain, best gain: -inf\n",
      "[LightGBM] [Warning] No further splits with positive gain, best gain: -inf\n",
      "[LightGBM] [Warning] No further splits with positive gain, best gain: -inf\n",
      "[LightGBM] [Warning] No further splits with positive gain, best gain: -inf\n",
      "[LightGBM] [Warning] No further splits with positive gain, best gain: -inf\n",
      "[LightGBM] [Warning] No further splits with positive gain, best gain: -inf\n",
      "[LightGBM] [Warning] No further splits with positive gain, best gain: -inf\n",
      "[LightGBM] [Warning] No further splits with positive gain, best gain: -inf\n"
     ]
    },
    {
     "data": {
      "text/html": [
       "<pre style=\"white-space:pre;overflow-x:auto;line-height:normal;font-family:Menlo,'DejaVu Sans Mono',consolas,'Courier New',monospace\">Model: LGBM regressor hp optuna\n",
       "</pre>\n"
      ],
      "text/plain": [
       "Model: LGBM regressor hp optuna\n"
      ]
     },
     "metadata": {},
     "output_type": "display_data"
    },
    {
     "data": {
      "text/html": [
       "<pre style=\"white-space:pre;overflow-x:auto;line-height:normal;font-family:Menlo,'DejaVu Sans Mono',consolas,'Courier New',monospace\">Mean Squared Error: <span style=\"color: #008080; text-decoration-color: #008080; font-weight: bold\">18759642.98263837</span>\n",
       "</pre>\n"
      ],
      "text/plain": [
       "Mean Squared Error: \u001b[1;36m18759642.98263837\u001b[0m\n"
      ]
     },
     "metadata": {},
     "output_type": "display_data"
    },
    {
     "data": {
      "text/html": [
       "<pre style=\"white-space:pre;overflow-x:auto;line-height:normal;font-family:Menlo,'DejaVu Sans Mono',consolas,'Courier New',monospace\">Mean Absolute Error: <span style=\"color: #008080; text-decoration-color: #008080; font-weight: bold\">2546.328595980066</span>\n",
       "</pre>\n"
      ],
      "text/plain": [
       "Mean Absolute Error: \u001b[1;36m2546.328595980066\u001b[0m\n"
      ]
     },
     "metadata": {},
     "output_type": "display_data"
    },
    {
     "data": {
      "text/html": [
       "<pre style=\"white-space:pre;overflow-x:auto;line-height:normal;font-family:Menlo,'DejaVu Sans Mono',consolas,'Courier New',monospace\">r2 score: <span style=\"color: #008080; text-decoration-color: #008080; font-weight: bold\">0.8791639532099338</span>\n",
       "</pre>\n"
      ],
      "text/plain": [
       "r2 score: \u001b[1;36m0.8791639532099338\u001b[0m\n"
      ]
     },
     "metadata": {},
     "output_type": "display_data"
    },
    {
     "data": {
      "text/html": [
       "<pre style=\"white-space:pre;overflow-x:auto;line-height:normal;font-family:Menlo,'DejaVu Sans Mono',consolas,'Courier New',monospace\">Model Results: \n",
       "</pre>\n"
      ],
      "text/plain": [
       "Model Results: \n"
      ]
     },
     "metadata": {},
     "output_type": "display_data"
    },
    {
     "data": {
      "text/html": [
       "<pre style=\"white-space:pre;overflow-x:auto;line-height:normal;font-family:Menlo,'DejaVu Sans Mono',consolas,'Courier New',monospace\"><span style=\"font-weight: bold\">{</span>\n",
       "    <span style=\"color: #008000; text-decoration-color: #008000\">'Linear regression'</span>: <span style=\"color: #008080; text-decoration-color: #008080; font-weight: bold\">0.7792287098518933</span>,\n",
       "    <span style=\"color: #008000; text-decoration-color: #008000\">'Random forest regressor'</span>: <span style=\"color: #008080; text-decoration-color: #008080; font-weight: bold\">0.8593920093531591</span>,\n",
       "    <span style=\"color: #008000; text-decoration-color: #008000\">'Decision tree regressor'</span>: <span style=\"color: #008080; text-decoration-color: #008080; font-weight: bold\">0.863341156620241</span>,\n",
       "    <span style=\"color: #008000; text-decoration-color: #008000\">'XGB regressor'</span>: <span style=\"color: #008080; text-decoration-color: #008080; font-weight: bold\">0.8777070877149532</span>,\n",
       "    <span style=\"color: #008000; text-decoration-color: #008000\">'XGB regressorn hp optuna'</span>: <span style=\"color: #008080; text-decoration-color: #008080; font-weight: bold\">0.8824298933794165</span>,\n",
       "    <span style=\"color: #008000; text-decoration-color: #008000\">'catboost regressor optuna hp'</span>: <span style=\"color: #008080; text-decoration-color: #008080; font-weight: bold\">0.8799532474056627</span>,\n",
       "    <span style=\"color: #008000; text-decoration-color: #008000\">'LGBM regressor hp optuna'</span>: <span style=\"color: #008080; text-decoration-color: #008080; font-weight: bold\">0.8791639532099338</span>\n",
       "<span style=\"font-weight: bold\">}</span>\n",
       "\n",
       "\n",
       "</pre>\n"
      ],
      "text/plain": [
       "\u001b[1m{\u001b[0m\n",
       "    \u001b[32m'Linear regression'\u001b[0m: \u001b[1;36m0.7792287098518933\u001b[0m,\n",
       "    \u001b[32m'Random forest regressor'\u001b[0m: \u001b[1;36m0.8593920093531591\u001b[0m,\n",
       "    \u001b[32m'Decision tree regressor'\u001b[0m: \u001b[1;36m0.863341156620241\u001b[0m,\n",
       "    \u001b[32m'XGB regressor'\u001b[0m: \u001b[1;36m0.8777070877149532\u001b[0m,\n",
       "    \u001b[32m'XGB regressorn hp optuna'\u001b[0m: \u001b[1;36m0.8824298933794165\u001b[0m,\n",
       "    \u001b[32m'catboost regressor optuna hp'\u001b[0m: \u001b[1;36m0.8799532474056627\u001b[0m,\n",
       "    \u001b[32m'LGBM regressor hp optuna'\u001b[0m: \u001b[1;36m0.8791639532099338\u001b[0m\n",
       "\u001b[1m}\u001b[0m\n",
       "\n",
       "\n"
      ]
     },
     "metadata": {},
     "output_type": "display_data"
    }
   ],
   "source": [
    "# Have hyperparameter tuned\n",
    "dtr = DecisionTreeRegressor(\n",
    "    criterion=\"absolute_error\",\n",
    "    max_depth=5,\n",
    "    max_features=None,\n",
    "    max_leaf_nodes=None,\n",
    "    min_samples_leaf=5,\n",
    "    min_samples_split=2,\n",
    ")\n",
    "xgr = XGBRegressor(\n",
    "    colsample_bytree=1.0,\n",
    "    learning_rate=0.01,\n",
    "    max_depth=3,\n",
    "    min_child_weight=5,\n",
    "    n_estimators=300,\n",
    "    subsample=0.8,\n",
    ")\n",
    "xgr_optunaed = XGBRegressor(\n",
    "    learning_rate=0.02320542296870936,\n",
    "    max_depth=2,\n",
    "    min_child_weight=4,\n",
    "    n_estimators=325,\n",
    "    subsample=0.7696763482800417,\n",
    "    colsample_bytree=0.6624305100711059,\n",
    "    gamma=1.0734011514931848e-08,\n",
    "    reg_alpha=1.0811494165849225,\n",
    "    reg_lambda=1.2373677652130754e-07,\n",
    ")\n",
    "\n",
    "catboost_params = {\n",
    "    \"iterations\": 400,\n",
    "    \"learning_rate\": 0.01431995298948914,\n",
    "    \"depth\": 4,\n",
    "    \"l2_leaf_reg\": 1.6098925842242227,\n",
    "    \"bagging_temperature\": 0.4944015913612306,\n",
    "    \"border_count\": 209,\n",
    "    \"random_strength\": 0.1533092449089928,\n",
    "}\n",
    "\n",
    "cbr_hp_tuned = CatBoostRegressor(**catboost_params)\n",
    "\n",
    "lgbm_r_best_params = {\n",
    "    \"boosting_type\": \"gbdt\",\n",
    "    \"num_leaves\": 34,\n",
    "    \"max_depth\": 15,\n",
    "    \"learning_rate\": 0.010704531622389239,\n",
    "    \"n_estimators\": 600,\n",
    "    \"subsample\": 0.7473064747491451,\n",
    "    \"colsample_bytree\": 0.6897083044869945,\n",
    "    \"reg_alpha\": 0.0008853899877183763,\n",
    "    \"reg_lambda\": 0.00022280132969950255,\n",
    "    \"min_child_samples\": 74,\n",
    "}\n",
    "\n",
    "lgb_hp = LGBMRegressor(**lgbm_r_best_params)\n",
    "\n",
    "\n",
    "# Models not tuned\n",
    "lr = LinearRegression()\n",
    "rfr = RandomForestRegressor()\n",
    "\n",
    "models = [\n",
    "    (\"Linear regression\", lr),\n",
    "    (\"Random forest regressor\", rfr),\n",
    "    (\"Decision tree regressor\", dtr),\n",
    "    (\"XGB regressor\", xgr),\n",
    "    (\"XGB regressorn hp optuna\", xgr_optunaed),\n",
    "    (\"catboost regressor optuna hp\", cbr_hp_tuned),\n",
    "    (\"LGBM regressor hp optuna\", lgb_hp),\n",
    "]\n",
    "\n",
    "for name, mod in models:\n",
    "    preds, r2_result, mod_t = fit_and_predict(\n",
    "        X_train, X_test, y_train, y_test, mod, name\n",
    "    )\n",
    "\n",
    "print(\"Model Results: \")\n",
    "print(results_dict, \"\\n\")"
   ]
  },
  {
   "cell_type": "markdown",
   "metadata": {},
   "source": [
    "## Hyperparameter Tuning\n",
    "\n",
    "#### The next step is hyperparameter tuning \n",
    "\n",
    "- Using grid search\n",
    "- Using optuna study\n",
    "\n",
    "The Metric used to assess the model performance is r2 score."
   ]
  },
  {
   "cell_type": "markdown",
   "metadata": {},
   "source": [
    "### XGBoost Gridsearch CV"
   ]
  },
  {
   "cell_type": "code",
   "execution_count": null,
   "metadata": {},
   "outputs": [
    {
     "data": {
      "text/html": [
       "<pre style=\"white-space:pre;overflow-x:auto;line-height:normal;font-family:Menlo,'DejaVu Sans Mono',consolas,'Courier New',monospace\"></pre>\n"
      ],
      "text/plain": []
     },
     "metadata": {},
     "output_type": "display_data"
    },
    {
     "data": {
      "text/plain": [
       "\u001b[32m'\\nparam_grid = \u001b[0m\u001b[32m{\u001b[0m\u001b[32m\\n    \\'n_estimators\\': \u001b[0m\u001b[32m[\u001b[0m\u001b[32m100, 200, 300\u001b[0m\u001b[32m]\u001b[0m\u001b[32m,\\n    \\'learning_rate\\': \u001b[0m\u001b[32m[\u001b[0m\u001b[32m0.01, 0.1, 0.2\u001b[0m\u001b[32m]\u001b[0m\u001b[32m,\\n    \\'max_depth\\': \u001b[0m\u001b[32m[\u001b[0m\u001b[32m3, 4, 5\u001b[0m\u001b[32m]\u001b[0m\u001b[32m,\\n    \\'min_child_weight\\': \u001b[0m\u001b[32m[\u001b[0m\u001b[32m1, 3, 5\u001b[0m\u001b[32m]\u001b[0m\u001b[32m,\\n    \\'subsample\\': \u001b[0m\u001b[32m[\u001b[0m\u001b[32m0.8, 0.9, 1.0\u001b[0m\u001b[32m]\u001b[0m\u001b[32m,\\n    \\'colsample_bytree\\': \u001b[0m\u001b[32m[\u001b[0m\u001b[32m0.8, 0.9, 1.0\u001b[0m\u001b[32m]\u001b[0m\u001b[32m\\n\u001b[0m\u001b[32m}\u001b[0m\u001b[32m\\n \\n# Create an XGBoost model\\nxgb_model = XGBRegressor\u001b[0m\u001b[32m(\u001b[0m\u001b[32m)\u001b[0m\u001b[32m\\n \\n# Perform GridSearchCV\\ngrid_search = GridSearchCV\u001b[0m\u001b[32m(\u001b[0m\u001b[32mxgb_model, param_grid, \u001b[0m\u001b[32mcv\u001b[0m\u001b[32m=\u001b[0m\u001b[32m5\u001b[0m\u001b[32m, \u001b[0m\u001b[32mscoring\u001b[0m\u001b[32m=\\'r2\\'\u001b[0m\u001b[32m)\u001b[0m\u001b[32m\\ngrid_search.fit\u001b[0m\u001b[32m(\u001b[0m\u001b[32mX_train, y_train\u001b[0m\u001b[32m)\u001b[0m\u001b[32m\\n \\n# Get the best hyperparameters\\nbest_params = grid_search.best_params_\\n \\n# Fit the model with the best hyperparameters on the entire dataset\\nbest_model = grid_search.best_estimator_\\nbest_model.fit\u001b[0m\u001b[32m(\u001b[0m\u001b[32mX_train, y_train\u001b[0m\u001b[32m)\u001b[0m\u001b[32m\\n \\n# Evaluate the best model on the test set\\nr2 = best_model.score\u001b[0m\u001b[32m(\u001b[0m\u001b[32mX_test, y_test\u001b[0m\u001b[32m)\u001b[0m\u001b[32m\\nprint\u001b[0m\u001b[32m(\u001b[0m\u001b[32mf\"Best Hyperparameters: \u001b[0m\u001b[32m{\u001b[0m\u001b[32mbest_params\u001b[0m\u001b[32m}\u001b[0m\u001b[32m\"\u001b[0m\u001b[32m)\u001b[0m\u001b[32m\\nprint\u001b[0m\u001b[32m(\u001b[0m\u001b[32mf\"Accuracy on test set: \u001b[0m\u001b[32m{\u001b[0m\u001b[32mr2:.2f\u001b[0m\u001b[32m}\u001b[0m\u001b[32m\"\u001b[0m\u001b[32m)\u001b[0m\u001b[32m'\u001b[0m"
      ]
     },
     "execution_count": 25,
     "metadata": {},
     "output_type": "execute_result"
    }
   ],
   "source": [
    "param_grid = {\n",
    "    \"n_estimators\": [100, 200, 300],\n",
    "    \"learning_rate\": [0.01, 0.1, 0.2],\n",
    "    \"max_depth\": [3, 4, 5],\n",
    "    \"min_child_weight\": [1, 3, 5],\n",
    "    \"subsample\": [0.8, 0.9, 1.0],\n",
    "    \"colsample_bytree\": [0.8, 0.9, 1.0],\n",
    "}\n",
    "\n",
    "xgb_model = XGBRegressor()\n",
    "\n",
    "grid_search = GridSearchCV(xgb_model, param_grid, cv=5, scoring=\"r2\")\n",
    "grid_search.fit(X_train, y_train)\n",
    "\n",
    "# best hyperparameters\n",
    "best_params = grid_search.best_params_\n",
    "\n",
    "# Fit the model with the best hyperparameters\n",
    "best_model = grid_search.best_estimator_\n",
    "best_model.fit(X_train, y_train)\n",
    "\n",
    "# Evaluate the best model on the test set\n",
    "r2 = best_model.score(X_test, y_test)\n",
    "print(\"Best Hyperparameters: {}\".format(best_params))\n",
    "print(\"Accuracy on test set: {}\".format(r2))"
   ]
  },
  {
   "cell_type": "markdown",
   "metadata": {},
   "source": [
    "### XGB regressor gave a good r2 score after hyperparameter tuning, can it be better?\n",
    "\n",
    "- Previous score: 0.8779103461244412\n",
    "- Optuna tuned: 0.8831712707099375\n",
    "\n",
    "Yes! A small increase!"
   ]
  },
  {
   "cell_type": "markdown",
   "metadata": {},
   "source": [
    "### Hyperparameter tuning with optuna "
   ]
  },
  {
   "cell_type": "code",
   "execution_count": null,
   "metadata": {},
   "outputs": [
    {
     "data": {
      "text/html": [
       "<pre style=\"white-space:pre;overflow-x:auto;line-height:normal;font-family:Menlo,'DejaVu Sans Mono',consolas,'Courier New',monospace\"></pre>\n"
      ],
      "text/plain": []
     },
     "metadata": {},
     "output_type": "display_data"
    },
    {
     "data": {
      "text/plain": [
       "\u001b[32m'try:\\n# Run the optimization\\n    study = optuna.create_study\u001b[0m\u001b[32m(\u001b[0m\u001b[32m\\n        \u001b[0m\u001b[32mdirection\u001b[0m\u001b[32m=\u001b[0m\u001b[32m\"maximize\"\u001b[0m\u001b[32m, \u001b[0m\u001b[32mstorage\u001b[0m\u001b[32m=\u001b[0m\u001b[32m\"sqlite\u001b[0m\u001b[32m:///XGBR_insurance_study.db\", \u001b[0m\u001b[32mstudy_name\u001b[0m\u001b[32m=\u001b[0m\u001b[32m\"XGBR_study\"\u001b[0m\u001b[32m\\n    \u001b[0m\u001b[32m)\u001b[0m\u001b[32m  # Create thw  study and save to a db\\n    study.optimize\u001b[0m\u001b[32m(\u001b[0m\u001b[32mobjective, \u001b[0m\u001b[32mn_trials\u001b[0m\u001b[32m=\u001b[0m\u001b[32m50\u001b[0m\u001b[32m)\u001b[0m\u001b[32m\\nexcept Exception as e:\\n    print\u001b[0m\u001b[32m(\u001b[0m\u001b[32m\"Error: \u001b[0m\u001b[32m{\u001b[0m\u001b[32m}\u001b[0m\u001b[32m\".format\u001b[0m\u001b[32m(\u001b[0m\u001b[32me\u001b[0m\u001b[32m)\u001b[0m\u001b[32m)\u001b[0m\u001b[32m\\n# Best parameters\\nprint\u001b[0m\u001b[32m(\u001b[0m\u001b[32mstudy.best_params\u001b[0m\u001b[32m)\u001b[0m\u001b[32m\\nprint\u001b[0m\u001b[32m(\u001b[0m\u001b[32mstudy.best_trial\u001b[0m\u001b[32m)\u001b[0m\u001b[32m'\u001b[0m"
      ]
     },
     "execution_count": 26,
     "metadata": {},
     "output_type": "execute_result"
    }
   ],
   "source": [
    "def objective(trial):\n",
    "\n",
    "    params = {\n",
    "        \"learning_rate\": trial.suggest_loguniform(\"learning_rate\", 0.005, 0.05),\n",
    "        \"max_depth\": trial.suggest_int(\"max_depth\", 2, 6),\n",
    "        \"min_child_weight\": trial.suggest_int(\"min_child_weight\", 1, 10),\n",
    "        \"n_estimators\": trial.suggest_int(\"n_estimators\", 100, 500),\n",
    "        \"subsample\": trial.suggest_uniform(\"subsample\", 0.5, 1.0),\n",
    "        \"colsample_bytree\": trial.suggest_uniform(\"colsample_bytree\", 0.6, 1.0),\n",
    "        \"gamma\": trial.suggest_loguniform(\"gamma\", 1e-8, 1.0),\n",
    "        \"reg_alpha\": trial.suggest_loguniform(\"reg_alpha\", 1e-8, 10.0),\n",
    "        \"reg_lambda\": trial.suggest_loguniform(\"reg_lambda\", 1e-8, 10.0),\n",
    "    }\n",
    "\n",
    "    model = XGBRegressor(**params)\n",
    "    score = cross_val_score(model, X_train, y_train, cv=3, scoring=\"r2\")\n",
    "    return score.mean()\n",
    "\n",
    "\n",
    "try:\n",
    "    # Run the optimization\n",
    "    study = optuna.create_study(\n",
    "        direction=\"maximize\",\n",
    "        storage=\"sqlite:///XGBR_insurance_study.db\",\n",
    "        study_name=\"XGBR_study\",\n",
    "    )  # Create thw  study and save to a db\n",
    "    study.optimize(objective, n_trials=50)\n",
    "except Exception as e:\n",
    "    print(\"Error: {}\".format(e))\n",
    "# Best parameters\n",
    "print(study.best_params)\n",
    "print(study.best_trial)"
   ]
  },
  {
   "cell_type": "markdown",
   "metadata": {},
   "source": [
    "Best Hyperparameters: {'colsample_bytree': 1.0, 'learning_rate': 0.01, 'max_depth': 3, 'min_child_weight': 5, \n",
    "'n_estimators': 300, 'subsample': 0.8}"
   ]
  },
  {
   "cell_type": "markdown",
   "metadata": {},
   "source": [
    "### Decision tree regressor Gridsearch CV"
   ]
  },
  {
   "cell_type": "code",
   "execution_count": null,
   "metadata": {},
   "outputs": [
    {
     "data": {
      "text/html": [
       "<pre style=\"white-space:pre;overflow-x:auto;line-height:normal;font-family:Menlo,'DejaVu Sans Mono',consolas,'Courier New',monospace\"></pre>\n"
      ],
      "text/plain": []
     },
     "metadata": {},
     "output_type": "display_data"
    },
    {
     "data": {
      "text/plain": [
       "\u001b[32m'param_grid = \u001b[0m\u001b[32m{\u001b[0m\u001b[32m\\n    \\'max_depth\\': \u001b[0m\u001b[32m[\u001b[0m\u001b[32mNone, 5, 10, 20, 30\u001b[0m\u001b[32m]\u001b[0m\u001b[32m,\\n    \\'min_samples_split\\': \u001b[0m\u001b[32m[\u001b[0m\u001b[32m2, 5, 10, 20\u001b[0m\u001b[32m]\u001b[0m\u001b[32m,\\n    \\'min_samples_leaf\\': \u001b[0m\u001b[32m[\u001b[0m\u001b[32m1, 5, 10, 20\u001b[0m\u001b[32m]\u001b[0m\u001b[32m,\\n    \\'max_features\\': \u001b[0m\u001b[32m[\u001b[0m\u001b[32mNone, \\'sqrt\\', \\'log2\\'\u001b[0m\u001b[32m]\u001b[0m\u001b[32m,\\n    \\'max_leaf_nodes\\': \u001b[0m\u001b[32m[\u001b[0m\u001b[32mNone, 10, 20, 50\u001b[0m\u001b[32m]\u001b[0m\u001b[32m,\\n    \\'criterion\\': \u001b[0m\u001b[32m[\u001b[0m\u001b[32m\\'squared_error\\', \\'friedman_mse\\', \\'absolute_error\\'\u001b[0m\u001b[32m]\u001b[0m\u001b[32m\\n\u001b[0m\u001b[32m}\u001b[0m\u001b[32m\\n# Create an XGBoost model\\ndtr_model = DecisionTreeRegressor\u001b[0m\u001b[32m(\u001b[0m\u001b[32m)\u001b[0m\u001b[32m\\n \\n# Perform GridSearchCV\\ngrid_search = GridSearchCV\u001b[0m\u001b[32m(\u001b[0m\u001b[32mdtr_model, param_grid, \u001b[0m\u001b[32mcv\u001b[0m\u001b[32m=\u001b[0m\u001b[32m5\u001b[0m\u001b[32m, \u001b[0m\u001b[32mscoring\u001b[0m\u001b[32m=\\'r2\\'\u001b[0m\u001b[32m)\u001b[0m\u001b[32m\\ngrid_search.fit\u001b[0m\u001b[32m(\u001b[0m\u001b[32mX_train, y_train\u001b[0m\u001b[32m)\u001b[0m\u001b[32m\\n \\n# Get the best hyperparameters\\nbest_params = grid_search.best_params_\\n \\n# Fit the model with the best hyperparameters on the entire dataset\\nbest_model = grid_search.best_estimator_\\nbest_model.fit\u001b[0m\u001b[32m(\u001b[0m\u001b[32mX_train, y_train\u001b[0m\u001b[32m)\u001b[0m\u001b[32m\\n \\n# Evaluate the best model on the test set\\nr2 = best_model.score\u001b[0m\u001b[32m(\u001b[0m\u001b[32mX_test, y_test\u001b[0m\u001b[32m)\u001b[0m\u001b[32m\\nprint\u001b[0m\u001b[32m(\u001b[0m\u001b[32mf\"Best Hyperparameters: \u001b[0m\u001b[32m{\u001b[0m\u001b[32mbest_params\u001b[0m\u001b[32m}\u001b[0m\u001b[32m\"\u001b[0m\u001b[32m)\u001b[0m\u001b[32m\\nprint\u001b[0m\u001b[32m(\u001b[0m\u001b[32mf\"R2 on test set: \u001b[0m\u001b[32m{\u001b[0m\u001b[32mr2:.2f\u001b[0m\u001b[32m}\u001b[0m\u001b[32m\"\u001b[0m\u001b[32m)\u001b[0m\u001b[32m'\u001b[0m"
      ]
     },
     "execution_count": 27,
     "metadata": {},
     "output_type": "execute_result"
    }
   ],
   "source": [
    "param_grid = {\n",
    "    \"max_depth\": [None, 5, 10, 20, 30],\n",
    "    \"min_samples_split\": [2, 5, 10, 20],\n",
    "    \"min_samples_leaf\": [1, 5, 10, 20],\n",
    "    \"max_features\": [None, \"sqrt\", \"log2\"],\n",
    "    \"max_leaf_nodes\": [None, 10, 20, 50],\n",
    "    \"criterion\": [\"squared_error\", \"friedman_mse\", \"absolute_error\"],\n",
    "}\n",
    "# Create an XGBoost model\n",
    "dtr_model = DecisionTreeRegressor()\n",
    "\n",
    "# Perform GridSearchCV with cross validation\n",
    "grid_search = GridSearchCV(dtr_model, param_grid, cv=5, scoring=\"r2\")\n",
    "grid_search.fit(X_train, y_train)\n",
    "\n",
    "# best params\n",
    "best_params = grid_search.best_params_\n",
    "\n",
    "# Fit the model with the best hparams\n",
    "best_model = grid_search.best_estimator_\n",
    "best_model.fit(X_train, y_train)\n",
    "\n",
    "# Evaluate the model\n",
    "r2 = best_model.score(X_test, y_test)\n",
    "print(\"Best Hyperparameters: {}\".format(best_params))\n",
    "print(\"R2 on test set: {}\".format(r2))"
   ]
  },
  {
   "cell_type": "markdown",
   "metadata": {},
   "source": [
    "### LGBMRegressor Gridsearch CV"
   ]
  },
  {
   "cell_type": "code",
   "execution_count": null,
   "metadata": {},
   "outputs": [
    {
     "data": {
      "text/html": [
       "<pre style=\"white-space:pre;overflow-x:auto;line-height:normal;font-family:Menlo,'DejaVu Sans Mono',consolas,'Courier New',monospace\"></pre>\n"
      ],
      "text/plain": []
     },
     "metadata": {},
     "output_type": "display_data"
    },
    {
     "data": {
      "text/plain": [
       "\u001b[32m'param_grid = \u001b[0m\u001b[32m{\u001b[0m\u001b[32m\\n    \\'n_estimators\\': \u001b[0m\u001b[32m[\u001b[0m\u001b[32m100, 200, 500, 1000\u001b[0m\u001b[32m]\u001b[0m\u001b[32m,\\n    \\'learning_rate\\': \u001b[0m\u001b[32m[\u001b[0m\u001b[32m0.01, 0.05, 0.1, 0.2\u001b[0m\u001b[32m]\u001b[0m\u001b[32m,\\n    \\'max_depth\\': \u001b[0m\u001b[32m[\u001b[0m\u001b[32m3, 5, 7, 10, -1\u001b[0m\u001b[32m]\u001b[0m\u001b[32m,\\n    \\'num_leaves\\': \u001b[0m\u001b[32m[\u001b[0m\u001b[32m15, 31, 63, 127\u001b[0m\u001b[32m]\u001b[0m\u001b[32m,\\n    \\'min_child_samples\\': \u001b[0m\u001b[32m[\u001b[0m\u001b[32m10, 20, 50, 100\u001b[0m\u001b[32m]\u001b[0m\u001b[32m,\\n    \\'min_child_weight\\': \u001b[0m\u001b[32m[\u001b[0m\u001b[32m1e-5, 1e-3, 1e-2, 0.1\u001b[0m\u001b[32m]\u001b[0m\u001b[32m,\\n    \\'subsample\\': \u001b[0m\u001b[32m[\u001b[0m\u001b[32m0.6, 0.8, 1.0\u001b[0m\u001b[32m]\u001b[0m\u001b[32m,\\n    \\'colsample_bytree\\': \u001b[0m\u001b[32m[\u001b[0m\u001b[32m0.6, 0.8, 1.0\u001b[0m\u001b[32m]\u001b[0m\u001b[32m,\\n    \\'reg_alpha\\': \u001b[0m\u001b[32m[\u001b[0m\u001b[32m0, 0.1, 1, 10\u001b[0m\u001b[32m]\u001b[0m\u001b[32m,\\n    \\'reg_lambda\\': \u001b[0m\u001b[32m[\u001b[0m\u001b[32m0, 0.1, 1, 10\u001b[0m\u001b[32m]\u001b[0m\u001b[32m,\\n\u001b[0m\u001b[32m}\u001b[0m\u001b[32m\\n \\n# Create an XGBoost model\\nlgb_model = LGBMRegressor\u001b[0m\u001b[32m(\u001b[0m\u001b[32m)\u001b[0m\u001b[32m\\n \\n# Perform GridSearchCV\\ngrid_search = GridSearchCV\u001b[0m\u001b[32m(\u001b[0m\u001b[32mlgb_model, param_grid, \u001b[0m\u001b[32mcv\u001b[0m\u001b[32m=\u001b[0m\u001b[32m5\u001b[0m\u001b[32m, \u001b[0m\u001b[32mscoring\u001b[0m\u001b[32m=\\'r2\\'\u001b[0m\u001b[32m)\u001b[0m\u001b[32m\\ngrid_search.fit\u001b[0m\u001b[32m(\u001b[0m\u001b[32mX_train, y_train\u001b[0m\u001b[32m)\u001b[0m\u001b[32m\\n \\n# Get the best hyperparameters\\nbest_params = grid_search.best_params_\\n \\n# Fit the model with the best hyperparameters on the entire dataset\\nbest_model = grid_search.best_estimator_\\nbest_model.fit\u001b[0m\u001b[32m(\u001b[0m\u001b[32mX_train, y_train\u001b[0m\u001b[32m)\u001b[0m\u001b[32m\\n \\n# Evaluate the best model on the test set\\nr2 = best_model.score\u001b[0m\u001b[32m(\u001b[0m\u001b[32mX_test, y_test\u001b[0m\u001b[32m)\u001b[0m\u001b[32m\\nprint\u001b[0m\u001b[32m(\u001b[0m\u001b[32mf\"Best Hyperparameters: \u001b[0m\u001b[32m{\u001b[0m\u001b[32mbest_params\u001b[0m\u001b[32m}\u001b[0m\u001b[32m\"\u001b[0m\u001b[32m)\u001b[0m\u001b[32m\\nprint\u001b[0m\u001b[32m(\u001b[0m\u001b[32mf\"Accuracy on test set: \u001b[0m\u001b[32m{\u001b[0m\u001b[32mr2:.2f\u001b[0m\u001b[32m}\u001b[0m\u001b[32m\"\u001b[0m\u001b[32m)\u001b[0m\u001b[32m'\u001b[0m"
      ]
     },
     "execution_count": 28,
     "metadata": {},
     "output_type": "execute_result"
    }
   ],
   "source": [
    "param_grid = {\n",
    "    \"n_estimators\": [100, 200, 500, 1000],\n",
    "    \"learning_rate\": [0.01, 0.05, 0.1, 0.2],\n",
    "    \"max_depth\": [3, 5, 7, 10, -1],\n",
    "    \"num_leaves\": [15, 31, 63, 127],\n",
    "    \"min_child_samples\": [10, 20, 50, 100],\n",
    "    \"min_child_weight\": [1e-5, 1e-3, 1e-2, 0.1],\n",
    "    \"subsample\": [0.6, 0.8, 1.0],\n",
    "    \"colsample_bytree\": [0.6, 0.8, 1.0],\n",
    "    \"reg_alpha\": [0, 0.1, 1, 10],\n",
    "    \"reg_lambda\": [0, 0.1, 1, 10],\n",
    "}\n",
    "\n",
    "lgb_model = LGBMRegressor()\n",
    "\n",
    "grid_search = GridSearchCV(lgb_model, param_grid, cv=5, scoring=\"r2\")\n",
    "grid_search.fit(X_train, y_train)\n",
    "\n",
    "best_params = grid_search.best_params_\n",
    "\n",
    "best_model = grid_search.best_estimator_\n",
    "best_model.fit(X_train, y_train)\n",
    "\n",
    "r2 = best_model.score(X_test, y_test)\n",
    "print(\"Best Hyperparameters: {}\".format(best_params))\n",
    "print(\"R2 on test set: {}\".format(r2))"
   ]
  },
  {
   "cell_type": "markdown",
   "metadata": {},
   "source": [
    "### Catboost hyperparameter tuning using optuna"
   ]
  },
  {
   "cell_type": "code",
   "execution_count": null,
   "metadata": {},
   "outputs": [
    {
     "data": {
      "text/html": [
       "<pre style=\"white-space:pre;overflow-x:auto;line-height:normal;font-family:Menlo,'DejaVu Sans Mono',consolas,'Courier New',monospace\"><span style=\"font-weight: bold\">&lt;</span><span style=\"color: #ff00ff; text-decoration-color: #ff00ff; font-weight: bold\">Client:</span><span style=\"color: #000000; text-decoration-color: #000000\"> </span><span style=\"color: #008000; text-decoration-color: #008000\">'tcp://127.0.0.1:62757'</span><span style=\"color: #000000; text-decoration-color: #000000\"> </span><span style=\"color: #808000; text-decoration-color: #808000\">processes</span><span style=\"color: #000000; text-decoration-color: #000000\">=</span><span style=\"color: #008080; text-decoration-color: #008080; font-weight: bold\">4</span><span style=\"color: #000000; text-decoration-color: #000000\"> </span><span style=\"color: #808000; text-decoration-color: #808000\">threads</span><span style=\"color: #000000; text-decoration-color: #000000\">=</span><span style=\"color: #008080; text-decoration-color: #008080; font-weight: bold\">8</span><span style=\"color: #000000; text-decoration-color: #000000\">, </span><span style=\"color: #808000; text-decoration-color: #808000\">memory</span><span style=\"color: #000000; text-decoration-color: #000000\">=</span><span style=\"color: #008080; text-decoration-color: #008080; font-weight: bold\">8.00</span><span style=\"color: #000000; text-decoration-color: #000000\"> GiB</span><span style=\"font-weight: bold\">&gt;</span>\n",
       "</pre>\n"
      ],
      "text/plain": [
       "\u001b[1m<\u001b[0m\u001b[1;95mClient:\u001b[0m\u001b[39m \u001b[0m\u001b[32m'tcp://127.0.0.1:62757'\u001b[0m\u001b[39m \u001b[0m\u001b[33mprocesses\u001b[0m\u001b[39m=\u001b[0m\u001b[1;36m4\u001b[0m\u001b[39m \u001b[0m\u001b[33mthreads\u001b[0m\u001b[39m=\u001b[0m\u001b[1;36m8\u001b[0m\u001b[39m, \u001b[0m\u001b[33mmemory\u001b[0m\u001b[39m=\u001b[0m\u001b[1;36m8\u001b[0m\u001b[1;36m.00\u001b[0m\u001b[39m GiB\u001b[0m\u001b[1m>\u001b[0m\n"
      ]
     },
     "metadata": {},
     "output_type": "display_data"
    },
    {
     "name": "stderr",
     "output_type": "stream",
     "text": [
      "/var/folders/xh/fvvnghrs13n5sqcsmprbn_c80000gn/T/ipykernel_29785/2217379153.py:15: ExperimentalWarning: DaskStorage is experimental (supported from v3.1.0). The interface can change in the future.\n",
      "  dask_storage = optuna.integration.DaskStorage(storage=backend_storage)\n",
      "[I 2024-12-11 16:36:56,367] A new study created in memory with name: CBR_insurance_study\n",
      "/Users/markpeacock/MSc_artificial_intelligence/Machine learning/Assessment/.venv/lib/python3.12/site-packages/distributed/protocol/pickle.py:90: ExperimentalWarning: DaskStorage is experimental (supported from v3.1.0). The interface can change in the future.\n",
      "  return pickle.loads(x, buffers=buffers)\n",
      "/Users/markpeacock/MSc_artificial_intelligence/Machine learning/Assessment/.venv/lib/python3.12/site-packages/distributed/protocol/pickle.py:90: ExperimentalWarning: DaskStorage is experimental (supported from v3.1.0). The interface can change in the future.\n",
      "  return pickle.loads(x, buffers=buffers)\n",
      "Best trial: 0. Best value: 0.842375:   2%|▏         | 1/50 [00:01<00:58,  1.19s/it]"
     ]
    },
    {
     "name": "stdout",
     "output_type": "stream",
     "text": [
      "[I 2024-12-11 16:36:58,237] Trial 0 finished with value: 0.8423754754559634 and parameters: {'iterations': 500, 'learning_rate': 0.01920907152493417, 'depth': 7, 'l2_leaf_reg': 4.542021592899341, 'bagging_temperature': 0.13930659771893095, 'border_count': 98, 'random_strength': 0.6780520935061376}. Best is trial 0 with value: 0.8423754754559634.\n"
     ]
    },
    {
     "name": "stderr",
     "output_type": "stream",
     "text": [
      "Best trial: 0. Best value: 0.842375:   4%|▍         | 2/50 [00:06<02:59,  3.74s/it]"
     ]
    },
    {
     "name": "stdout",
     "output_type": "stream",
     "text": [
      "[I 2024-12-11 16:37:03,758] Trial 1 finished with value: 0.8225303750213806 and parameters: {'iterations': 800, 'learning_rate': 0.027114039444953834, 'depth': 9, 'l2_leaf_reg': 2.4195171411714487, 'bagging_temperature': 0.9161830168310972, 'border_count': 206, 'random_strength': 0.0010950310722887835}. Best is trial 0 with value: 0.8423754754559634.\n"
     ]
    },
    {
     "name": "stderr",
     "output_type": "stream",
     "text": [
      "Best trial: 2. Best value: 0.845367:   6%|▌         | 3/50 [00:07<01:44,  2.23s/it]"
     ]
    },
    {
     "name": "stdout",
     "output_type": "stream",
     "text": [
      "[I 2024-12-11 16:37:04,199] Trial 2 finished with value: 0.8453671875468928 and parameters: {'iterations': 200, 'learning_rate': 0.021462754211712034, 'depth': 6, 'l2_leaf_reg': 0.06705057019563256, 'bagging_temperature': 0.434237238358154, 'border_count': 206, 'random_strength': 0.16471741425261288}. Best is trial 2 with value: 0.8453671875468928.\n"
     ]
    },
    {
     "name": "stderr",
     "output_type": "stream",
     "text": [
      "Best trial: 2. Best value: 0.845367:   8%|▊         | 4/50 [00:07<01:09,  1.51s/it]"
     ]
    },
    {
     "name": "stdout",
     "output_type": "stream",
     "text": [
      "[I 2024-12-11 16:37:04,606] Trial 3 finished with value: 0.8218361160570348 and parameters: {'iterations': 200, 'learning_rate': 0.09455508984670687, 'depth': 6, 'l2_leaf_reg': 0.05964211297740933, 'bagging_temperature': 0.6402998854426519, 'border_count': 161, 'random_strength': 0.003130040160644209}. Best is trial 2 with value: 0.8453671875468928.\n"
     ]
    },
    {
     "name": "stderr",
     "output_type": "stream",
     "text": [
      "Best trial: 2. Best value: 0.845367:  10%|█         | 5/50 [00:10<01:37,  2.16s/it]"
     ]
    },
    {
     "name": "stdout",
     "output_type": "stream",
     "text": [
      "[I 2024-12-11 16:37:07,928] Trial 4 finished with value: 0.8099498186458417 and parameters: {'iterations': 800, 'learning_rate': 0.07061913814822728, 'depth': 9, 'l2_leaf_reg': 0.011336790872874956, 'bagging_temperature': 0.8311491187734804, 'border_count': 96, 'random_strength': 5.440741753762641}. Best is trial 2 with value: 0.8453671875468928.\n"
     ]
    },
    {
     "name": "stderr",
     "output_type": "stream",
     "text": [
      "Best trial: 2. Best value: 0.845367:  12%|█▏        | 6/50 [00:11<01:11,  1.62s/it]"
     ]
    },
    {
     "name": "stdout",
     "output_type": "stream",
     "text": [
      "[I 2024-12-11 16:37:08,503] Trial 5 finished with value: 0.8347838928242798 and parameters: {'iterations': 200, 'learning_rate': 0.06413922528288624, 'depth': 7, 'l2_leaf_reg': 2.7667259292013515, 'bagging_temperature': 0.7409325015062025, 'border_count': 222, 'random_strength': 0.0073985592915215325}. Best is trial 2 with value: 0.8453671875468928.\n"
     ]
    },
    {
     "name": "stderr",
     "output_type": "stream",
     "text": [
      "Best trial: 2. Best value: 0.845367:  14%|█▍        | 7/50 [00:12<00:56,  1.30s/it]"
     ]
    },
    {
     "name": "stdout",
     "output_type": "stream",
     "text": [
      "[I 2024-12-11 16:37:09,146] Trial 6 finished with value: 0.8333289202438603 and parameters: {'iterations': 400, 'learning_rate': 0.04403133063647345, 'depth': 5, 'l2_leaf_reg': 0.3465307443028701, 'bagging_temperature': 0.16701606904688426, 'border_count': 237, 'random_strength': 0.7264422796420463}. Best is trial 2 with value: 0.8453671875468928.\n"
     ]
    },
    {
     "name": "stderr",
     "output_type": "stream",
     "text": [
      "Best trial: 2. Best value: 0.845367:  16%|█▌        | 8/50 [00:12<00:47,  1.14s/it]"
     ]
    },
    {
     "name": "stdout",
     "output_type": "stream",
     "text": [
      "[I 2024-12-11 16:37:09,943] Trial 7 finished with value: 0.8356325478719576 and parameters: {'iterations': 700, 'learning_rate': 0.04979934439741077, 'depth': 4, 'l2_leaf_reg': 3.5792974463280944, 'bagging_temperature': 0.5088161875031285, 'border_count': 121, 'random_strength': 0.05365293826008843}. Best is trial 2 with value: 0.8453671875468928.\n"
     ]
    },
    {
     "name": "stderr",
     "output_type": "stream",
     "text": [
      "Best trial: 2. Best value: 0.845367:  18%|█▊        | 9/50 [00:14<00:50,  1.24s/it]"
     ]
    },
    {
     "name": "stdout",
     "output_type": "stream",
     "text": [
      "[I 2024-12-11 16:37:11,410] Trial 8 finished with value: 0.833144648448717 and parameters: {'iterations': 300, 'learning_rate': 0.02223259409880959, 'depth': 10, 'l2_leaf_reg': 0.010778972880457436, 'bagging_temperature': 0.4458046436591657, 'border_count': 62, 'random_strength': 0.9683423413011162}. Best is trial 2 with value: 0.8453671875468928.\n"
     ]
    },
    {
     "name": "stderr",
     "output_type": "stream",
     "text": [
      "Best trial: 2. Best value: 0.845367:  22%|██▏       | 11/50 [00:15<00:30,  1.28it/s]"
     ]
    },
    {
     "name": "stdout",
     "output_type": "stream",
     "text": [
      "[I 2024-12-11 16:37:12,041] Trial 9 finished with value: 0.8444380944785527 and parameters: {'iterations': 300, 'learning_rate': 0.025000645645848207, 'depth': 6, 'l2_leaf_reg': 0.5121326857974267, 'bagging_temperature': 0.46368304863957754, 'border_count': 172, 'random_strength': 0.6869239475138066}. Best is trial 2 with value: 0.8453671875468928.\n",
      "[I 2024-12-11 16:37:12,203] Trial 10 finished with value: 0.7387987916698628 and parameters: {'iterations': 100, 'learning_rate': 0.010494127700884969, 'depth': 4, 'l2_leaf_reg': 0.06913117477956285, 'bagging_temperature': 0.2855343164283881, 'border_count': 255, 'random_strength': 0.038035719305179176}. Best is trial 2 with value: 0.8453671875468928.\n"
     ]
    },
    {
     "name": "stderr",
     "output_type": "stream",
     "text": [
      "Best trial: 2. Best value: 0.845367:  24%|██▍       | 12/50 [00:17<00:42,  1.13s/it]"
     ]
    },
    {
     "name": "stdout",
     "output_type": "stream",
     "text": [
      "[I 2024-12-11 16:37:14,123] Trial 11 finished with value: 0.7908067359913182 and parameters: {'iterations': 1000, 'learning_rate': 0.20193658073405987, 'depth': 6, 'l2_leaf_reg': 0.48586617424316947, 'bagging_temperature': 0.3893263560165424, 'border_count': 172, 'random_strength': 0.17936359958015813}. Best is trial 2 with value: 0.8453671875468928.\n"
     ]
    },
    {
     "name": "stderr",
     "output_type": "stream",
     "text": [
      "Best trial: 2. Best value: 0.845367:  26%|██▌       | 13/50 [00:17<00:37,  1.01s/it]"
     ]
    },
    {
     "name": "stdout",
     "output_type": "stream",
     "text": [
      "[I 2024-12-11 16:37:14,850] Trial 12 finished with value: 0.8451727328395016 and parameters: {'iterations': 400, 'learning_rate': 0.010278215454820662, 'depth': 6, 'l2_leaf_reg': 0.09271173914895695, 'bagging_temperature': 0.6129039287775632, 'border_count': 190, 'random_strength': 6.031328449083743}. Best is trial 2 with value: 0.8453671875468928.\n"
     ]
    },
    {
     "name": "stderr",
     "output_type": "stream",
     "text": [
      "Best trial: 2. Best value: 0.845367:  30%|███       | 15/50 [00:19<00:31,  1.11it/s]"
     ]
    },
    {
     "name": "stdout",
     "output_type": "stream",
     "text": [
      "[I 2024-12-11 16:37:16,540] Trial 13 finished with value: 0.8449451520546809 and parameters: {'iterations': 500, 'learning_rate': 0.01220711390712942, 'depth': 8, 'l2_leaf_reg': 0.08254297881480217, 'bagging_temperature': 0.6271306612411961, 'border_count': 200, 'random_strength': 2.242096280632073}. Best is trial 2 with value: 0.8453671875468928.\n",
      "[I 2024-12-11 16:37:16,711] Trial 14 finished with value: 0.7559841973884165 and parameters: {'iterations': 100, 'learning_rate': 0.01512381671705397, 'depth': 5, 'l2_leaf_reg': 0.1451357457285895, 'bagging_temperature': 0.017080820505936845, 'border_count': 194, 'random_strength': 9.524250948844427}. Best is trial 2 with value: 0.8453671875468928.\n"
     ]
    },
    {
     "name": "stderr",
     "output_type": "stream",
     "text": [
      "Best trial: 2. Best value: 0.845367:  32%|███▏      | 16/50 [00:20<00:30,  1.12it/s]"
     ]
    },
    {
     "name": "stdout",
     "output_type": "stream",
     "text": [
      "[I 2024-12-11 16:37:17,583] Trial 15 finished with value: 0.8265298606809509 and parameters: {'iterations': 600, 'learning_rate': 0.03209035947502083, 'depth': 5, 'l2_leaf_reg': 0.03305528475250473, 'bagging_temperature': 0.6221325354587302, 'border_count': 149, 'random_strength': 0.22250568564660608}. Best is trial 2 with value: 0.8453671875468928.\n"
     ]
    },
    {
     "name": "stderr",
     "output_type": "stream",
     "text": [
      "Best trial: 2. Best value: 0.845367:  34%|███▍      | 17/50 [00:21<00:31,  1.04it/s]"
     ]
    },
    {
     "name": "stdout",
     "output_type": "stream",
     "text": [
      "[I 2024-12-11 16:37:18,724] Trial 16 finished with value: 0.825175144692021 and parameters: {'iterations': 400, 'learning_rate': 0.01597296152728897, 'depth': 8, 'l2_leaf_reg': 0.026387887812127434, 'bagging_temperature': 0.3163975617058012, 'border_count': 34, 'random_strength': 0.016629364548108035}. Best is trial 2 with value: 0.8453671875468928.\n"
     ]
    },
    {
     "name": "stderr",
     "output_type": "stream",
     "text": [
      "Best trial: 2. Best value: 0.845367:  36%|███▌      | 18/50 [00:22<00:26,  1.20it/s]"
     ]
    },
    {
     "name": "stdout",
     "output_type": "stream",
     "text": [
      "[I 2024-12-11 16:37:19,252] Trial 17 finished with value: 0.8418167877584025 and parameters: {'iterations': 300, 'learning_rate': 0.010954338508511675, 'depth': 6, 'l2_leaf_reg': 1.1180956699421922, 'bagging_temperature': 0.5481238492057761, 'border_count': 137, 'random_strength': 2.9232999012694636}. Best is trial 2 with value: 0.8453671875468928.\n"
     ]
    },
    {
     "name": "stderr",
     "output_type": "stream",
     "text": [
      "Best trial: 2. Best value: 0.845367:  38%|███▊      | 19/50 [00:23<00:28,  1.10it/s]"
     ]
    },
    {
     "name": "stdout",
     "output_type": "stream",
     "text": [
      "[I 2024-12-11 16:37:20,341] Trial 18 finished with value: 0.7991750830313414 and parameters: {'iterations': 400, 'learning_rate': 0.2917566596354998, 'depth': 7, 'l2_leaf_reg': 0.1519698574904763, 'bagging_temperature': 0.7712535740841651, 'border_count': 186, 'random_strength': 0.198801064636275}. Best is trial 2 with value: 0.8453671875468928.\n"
     ]
    },
    {
     "name": "stderr",
     "output_type": "stream",
     "text": [
      "Best trial: 2. Best value: 0.845367:  40%|████      | 20/50 [00:24<00:25,  1.16it/s]"
     ]
    },
    {
     "name": "stdout",
     "output_type": "stream",
     "text": [
      "[I 2024-12-11 16:37:21,085] Trial 19 finished with value: 0.8436987175293928 and parameters: {'iterations': 200, 'learning_rate': 0.035101531645828715, 'depth': 8, 'l2_leaf_reg': 0.17163686262506844, 'bagging_temperature': 0.9929415169822631, 'border_count': 227, 'random_strength': 2.021457185278837}. Best is trial 2 with value: 0.8453671875468928.\n"
     ]
    },
    {
     "name": "stderr",
     "output_type": "stream",
     "text": [
      "Best trial: 2. Best value: 0.845367:  42%|████▏     | 21/50 [00:24<00:25,  1.13it/s]"
     ]
    },
    {
     "name": "stdout",
     "output_type": "stream",
     "text": [
      "[I 2024-12-11 16:37:22,023] Trial 20 finished with value: 0.8278452652040666 and parameters: {'iterations': 600, 'learning_rate': 0.12727899261870126, 'depth': 5, 'l2_leaf_reg': 9.844645359465426, 'bagging_temperature': 0.33154398751629927, 'border_count': 255, 'random_strength': 0.05217055220495545}. Best is trial 2 with value: 0.8453671875468928.\n"
     ]
    },
    {
     "name": "stderr",
     "output_type": "stream",
     "text": [
      "Best trial: 2. Best value: 0.845367:  44%|████▍     | 22/50 [00:26<00:31,  1.13s/it]"
     ]
    },
    {
     "name": "stdout",
     "output_type": "stream",
     "text": [
      "[I 2024-12-11 16:37:23,726] Trial 21 finished with value: 0.8446789973447185 and parameters: {'iterations': 500, 'learning_rate': 0.013385513093976776, 'depth': 8, 'l2_leaf_reg': 0.072002945903351, 'bagging_temperature': 0.6427681288914673, 'border_count': 207, 'random_strength': 3.2732033409314303}. Best is trial 2 with value: 0.8453671875468928.\n"
     ]
    },
    {
     "name": "stderr",
     "output_type": "stream",
     "text": [
      "Best trial: 22. Best value: 0.84629:  46%|████▌     | 23/50 [00:28<00:33,  1.24s/it]"
     ]
    },
    {
     "name": "stdout",
     "output_type": "stream",
     "text": [
      "[I 2024-12-11 16:37:25,219] Trial 22 finished with value: 0.8462901506527091 and parameters: {'iterations': 500, 'learning_rate': 0.010441042587058112, 'depth': 8, 'l2_leaf_reg': 0.029551146759249206, 'bagging_temperature': 0.5787238065495447, 'border_count': 191, 'random_strength': 9.7066742528698}. Best is trial 22 with value: 0.8462901506527091.\n"
     ]
    },
    {
     "name": "stderr",
     "output_type": "stream",
     "text": [
      "Best trial: 23. Best value: 0.84679:  48%|████▊     | 24/50 [00:29<00:30,  1.16s/it]"
     ]
    },
    {
     "name": "stdout",
     "output_type": "stream",
     "text": [
      "[I 2024-12-11 16:37:26,199] Trial 23 finished with value: 0.8467899328820898 and parameters: {'iterations': 400, 'learning_rate': 0.017557007886047443, 'depth': 7, 'l2_leaf_reg': 0.026568428199859735, 'bagging_temperature': 0.5612012502345147, 'border_count': 178, 'random_strength': 6.308556365586056}. Best is trial 23 with value: 0.8467899328820898.\n"
     ]
    },
    {
     "name": "stderr",
     "output_type": "stream",
     "text": [
      "Best trial: 23. Best value: 0.84679:  50%|█████     | 25/50 [00:32<00:41,  1.68s/it]"
     ]
    },
    {
     "name": "stdout",
     "output_type": "stream",
     "text": [
      "[I 2024-12-11 16:37:29,081] Trial 24 finished with value: 0.8321810886253923 and parameters: {'iterations': 700, 'learning_rate': 0.019545057509579467, 'depth': 9, 'l2_leaf_reg': 0.02929573768362211, 'bagging_temperature': 0.7206618871849184, 'border_count': 135, 'random_strength': 9.190422372891998}. Best is trial 23 with value: 0.8467899328820898.\n"
     ]
    },
    {
     "name": "stderr",
     "output_type": "stream",
     "text": [
      "Best trial: 23. Best value: 0.84679:  52%|█████▏    | 26/50 [00:32<00:33,  1.40s/it]"
     ]
    },
    {
     "name": "stdout",
     "output_type": "stream",
     "text": [
      "[I 2024-12-11 16:37:29,849] Trial 25 finished with value: 0.8457319391331992 and parameters: {'iterations': 300, 'learning_rate': 0.0169622064776979, 'depth': 7, 'l2_leaf_reg': 0.016259642868641563, 'bagging_temperature': 0.5285896131897496, 'border_count': 173, 'random_strength': 1.2448651586344899}. Best is trial 23 with value: 0.8467899328820898.\n"
     ]
    },
    {
     "name": "stderr",
     "output_type": "stream",
     "text": [
      "Best trial: 23. Best value: 0.84679:  54%|█████▍    | 27/50 [00:33<00:27,  1.20s/it]"
     ]
    },
    {
     "name": "stdout",
     "output_type": "stream",
     "text": [
      "[I 2024-12-11 16:37:30,565] Trial 26 finished with value: 0.8459540939319542 and parameters: {'iterations': 300, 'learning_rate': 0.015003495136709222, 'depth': 7, 'l2_leaf_reg': 0.01851399963046852, 'bagging_temperature': 0.541762718044607, 'border_count': 172, 'random_strength': 1.3016491061588125}. Best is trial 23 with value: 0.8467899328820898.\n"
     ]
    },
    {
     "name": "stderr",
     "output_type": "stream",
     "text": [
      "Best trial: 23. Best value: 0.84679:  56%|█████▌    | 28/50 [00:35<00:32,  1.48s/it]"
     ]
    },
    {
     "name": "stdout",
     "output_type": "stream",
     "text": [
      "[I 2024-12-11 16:37:32,718] Trial 27 finished with value: 0.8212801587281462 and parameters: {'iterations': 600, 'learning_rate': 0.036918205613955826, 'depth': 8, 'l2_leaf_reg': 0.018794529289356276, 'bagging_temperature': 0.5597706251095599, 'border_count': 154, 'random_strength': 0.39096204591523326}. Best is trial 23 with value: 0.8467899328820898.\n"
     ]
    },
    {
     "name": "stderr",
     "output_type": "stream",
     "text": [
      "Best trial: 23. Best value: 0.84679:  58%|█████▊    | 29/50 [00:37<00:36,  1.72s/it]"
     ]
    },
    {
     "name": "stdout",
     "output_type": "stream",
     "text": [
      "[I 2024-12-11 16:37:35,001] Trial 28 finished with value: 0.8416087808893422 and parameters: {'iterations': 500, 'learning_rate': 0.014283288483004284, 'depth': 10, 'l2_leaf_reg': 0.03811778804409509, 'bagging_temperature': 0.7038763275920112, 'border_count': 119, 'random_strength': 4.921350766497118}. Best is trial 23 with value: 0.8467899328820898.\n"
     ]
    },
    {
     "name": "stderr",
     "output_type": "stream",
     "text": [
      "Best trial: 23. Best value: 0.84679:  60%|██████    | 30/50 [00:38<00:29,  1.47s/it]"
     ]
    },
    {
     "name": "stdout",
     "output_type": "stream",
     "text": [
      "[I 2024-12-11 16:37:35,867] Trial 29 finished with value: 0.8443410272166604 and parameters: {'iterations': 400, 'learning_rate': 0.01773658968150121, 'depth': 7, 'l2_leaf_reg': 0.016929635861107413, 'bagging_temperature': 0.21983878832371762, 'border_count': 96, 'random_strength': 2.472260251813423}. Best is trial 23 with value: 0.8467899328820898.\n"
     ]
    },
    {
     "name": "stderr",
     "output_type": "stream",
     "text": [
      "Best trial: 23. Best value: 0.84679:  62%|██████▏   | 31/50 [00:41<00:35,  1.85s/it]"
     ]
    },
    {
     "name": "stdout",
     "output_type": "stream",
     "text": [
      "[I 2024-12-11 16:37:38,618] Trial 30 finished with value: 0.8251884327023296 and parameters: {'iterations': 500, 'learning_rate': 0.02955898921782205, 'depth': 9, 'l2_leaf_reg': 0.046382909916064856, 'bagging_temperature': 0.8254681523045355, 'border_count': 175, 'random_strength': 1.2858057315983862}. Best is trial 23 with value: 0.8467899328820898.\n"
     ]
    },
    {
     "name": "stderr",
     "output_type": "stream",
     "text": [
      "Best trial: 23. Best value: 0.84679:  64%|██████▍   | 32/50 [00:42<00:27,  1.51s/it]"
     ]
    },
    {
     "name": "stdout",
     "output_type": "stream",
     "text": [
      "[I 2024-12-11 16:37:39,332] Trial 31 finished with value: 0.8457877112215693 and parameters: {'iterations': 300, 'learning_rate': 0.018115704871944492, 'depth': 7, 'l2_leaf_reg': 0.016695453851468367, 'bagging_temperature': 0.5646719893067155, 'border_count': 165, 'random_strength': 1.6595946640555972}. Best is trial 23 with value: 0.8467899328820898.\n"
     ]
    },
    {
     "name": "stderr",
     "output_type": "stream",
     "text": [
      "Best trial: 23. Best value: 0.84679:  66%|██████▌   | 33/50 [00:43<00:23,  1.36s/it]"
     ]
    },
    {
     "name": "stdout",
     "output_type": "stream",
     "text": [
      "[I 2024-12-11 16:37:40,327] Trial 32 finished with value: 0.8424357304933938 and parameters: {'iterations': 400, 'learning_rate': 0.01326044660626647, 'depth': 7, 'l2_leaf_reg': 0.02012546838052384, 'bagging_temperature': 0.39886089884616627, 'border_count': 161, 'random_strength': 0.3442825881625307}. Best is trial 23 with value: 0.8467899328820898.\n"
     ]
    },
    {
     "name": "stderr",
     "output_type": "stream",
     "text": [
      "Best trial: 23. Best value: 0.84679:  68%|██████▊   | 34/50 [00:44<00:19,  1.24s/it]"
     ]
    },
    {
     "name": "stdout",
     "output_type": "stream",
     "text": [
      "[I 2024-12-11 16:37:41,290] Trial 33 finished with value: 0.8435858847330872 and parameters: {'iterations': 300, 'learning_rate': 0.0244094203523105, 'depth': 8, 'l2_leaf_reg': 0.01224268950001239, 'bagging_temperature': 0.5803320871556334, 'border_count': 182, 'random_strength': 3.9661669900061907}. Best is trial 23 with value: 0.8467899328820898.\n"
     ]
    },
    {
     "name": "stderr",
     "output_type": "stream",
     "text": [
      "Best trial: 23. Best value: 0.84679:  70%|███████   | 35/50 [00:44<00:15,  1.02s/it]"
     ]
    },
    {
     "name": "stdout",
     "output_type": "stream",
     "text": [
      "[I 2024-12-11 16:37:41,800] Trial 34 finished with value: 0.8450262936982578 and parameters: {'iterations': 200, 'learning_rate': 0.020706412132453125, 'depth': 7, 'l2_leaf_reg': 0.024138972685112062, 'bagging_temperature': 0.4865046287594365, 'border_count': 208, 'random_strength': 9.761990513566598}. Best is trial 23 with value: 0.8467899328820898.\n"
     ]
    },
    {
     "name": "stderr",
     "output_type": "stream",
     "text": [
      "Best trial: 23. Best value: 0.84679:  72%|███████▏  | 36/50 [00:45<00:14,  1.01s/it]"
     ]
    },
    {
     "name": "stdout",
     "output_type": "stream",
     "text": [
      "[I 2024-12-11 16:37:42,775] Trial 35 finished with value: 0.843985266021787 and parameters: {'iterations': 300, 'learning_rate': 0.018226587812609267, 'depth': 8, 'l2_leaf_reg': 0.04661304007640174, 'bagging_temperature': 0.6765850914620416, 'border_count': 162, 'random_strength': 1.5771683359784054}. Best is trial 23 with value: 0.8467899328820898.\n"
     ]
    },
    {
     "name": "stderr",
     "output_type": "stream",
     "text": [
      "Best trial: 23. Best value: 0.84679:  74%|███████▍  | 37/50 [00:48<00:19,  1.52s/it]"
     ]
    },
    {
     "name": "stdout",
     "output_type": "stream",
     "text": [
      "[I 2024-12-11 16:37:45,506] Trial 36 finished with value: 0.8382910792331326 and parameters: {'iterations': 1000, 'learning_rate': 0.012161456450553611, 'depth': 7, 'l2_leaf_reg': 0.014157993334365002, 'bagging_temperature': 0.3927852145043197, 'border_count': 219, 'random_strength': 5.8241540701061965}. Best is trial 23 with value: 0.8467899328820898.\n",
      "[I 2024-12-11 16:37:45,920] Trial 37 finished with value: 0.8418730989227807 and parameters: {'iterations': 200, 'learning_rate': 0.02818723652945138, 'depth': 6, 'l2_leaf_reg': 0.01001614012439878, 'bagging_temperature': 0.7832186352056418, 'border_count': 119, 'random_strength': 0.0012954654069427794}. Best is trial 23 with value: 0.8467899328820898.\n"
     ]
    },
    {
     "name": "stderr",
     "output_type": "stream",
     "text": [
      "Best trial: 23. Best value: 0.84679:  78%|███████▊  | 39/50 [00:51<00:18,  1.67s/it]"
     ]
    },
    {
     "name": "stdout",
     "output_type": "stream",
     "text": [
      "[I 2024-12-11 16:37:48,715] Trial 38 finished with value: 0.8061283046128412 and parameters: {'iterations': 500, 'learning_rate': 0.09126643960994177, 'depth': 9, 'l2_leaf_reg': 0.047296066690235665, 'bagging_temperature': 0.49965852141416933, 'border_count': 151, 'random_strength': 0.4753740592209287}. Best is trial 23 with value: 0.8467899328820898.\n"
     ]
    },
    {
     "name": "stderr",
     "output_type": "stream",
     "text": [
      "Best trial: 23. Best value: 0.84679:  80%|████████  | 40/50 [00:53<00:16,  1.67s/it]"
     ]
    },
    {
     "name": "stdout",
     "output_type": "stream",
     "text": [
      "[I 2024-12-11 16:37:50,392] Trial 39 finished with value: 0.820087667481938 and parameters: {'iterations': 700, 'learning_rate': 0.045116139681288005, 'depth': 7, 'l2_leaf_reg': 1.1466789391610948, 'bagging_temperature': 0.8937902276708745, 'border_count': 137, 'random_strength': 4.045515440741499}. Best is trial 23 with value: 0.8467899328820898.\n"
     ]
    },
    {
     "name": "stderr",
     "output_type": "stream",
     "text": [
      "Best trial: 23. Best value: 0.84679:  82%|████████▏ | 41/50 [00:53<00:12,  1.34s/it]"
     ]
    },
    {
     "name": "stdout",
     "output_type": "stream",
     "text": [
      "[I 2024-12-11 16:37:50,940] Trial 40 finished with value: 0.7876363339256136 and parameters: {'iterations': 100, 'learning_rate': 0.015003104854398121, 'depth': 9, 'l2_leaf_reg': 0.23479617492877483, 'bagging_temperature': 0.5790976201974525, 'border_count': 241, 'random_strength': 0.9024930783704217}. Best is trial 23 with value: 0.8467899328820898.\n"
     ]
    },
    {
     "name": "stderr",
     "output_type": "stream",
     "text": [
      "Best trial: 23. Best value: 0.84679:  84%|████████▍ | 42/50 [00:54<00:09,  1.17s/it]"
     ]
    },
    {
     "name": "stdout",
     "output_type": "stream",
     "text": [
      "[I 2024-12-11 16:37:51,720] Trial 41 finished with value: 0.8461446459827252 and parameters: {'iterations': 300, 'learning_rate': 0.01607975369043403, 'depth': 7, 'l2_leaf_reg': 0.016857814947583042, 'bagging_temperature': 0.5235967707597202, 'border_count': 178, 'random_strength': 1.0712339464647307}. Best is trial 23 with value: 0.8467899328820898.\n"
     ]
    },
    {
     "name": "stderr",
     "output_type": "stream",
     "text": [
      "Best trial: 23. Best value: 0.84679:  86%|████████▌ | 43/50 [00:55<00:07,  1.03s/it]"
     ]
    },
    {
     "name": "stdout",
     "output_type": "stream",
     "text": [
      "[I 2024-12-11 16:37:52,416] Trial 42 finished with value: 0.8458483711172061 and parameters: {'iterations': 300, 'learning_rate': 0.02211654135045659, 'depth': 7, 'l2_leaf_reg': 0.022261590571886453, 'bagging_temperature': 0.45244357621261155, 'border_count': 163, 'random_strength': 1.7225409676721166}. Best is trial 23 with value: 0.8467899328820898.\n"
     ]
    },
    {
     "name": "stderr",
     "output_type": "stream",
     "text": [
      "Best trial: 23. Best value: 0.84679:  88%|████████▊ | 44/50 [00:55<00:05,  1.19it/s]"
     ]
    },
    {
     "name": "stdout",
     "output_type": "stream",
     "text": [
      "[I 2024-12-11 16:37:52,821] Trial 43 finished with value: 0.8466715453119467 and parameters: {'iterations': 200, 'learning_rate': 0.02326605361180809, 'depth': 6, 'l2_leaf_reg': 0.029737720410767585, 'bagging_temperature': 0.4262026159597845, 'border_count': 186, 'random_strength': 6.34430826028558}. Best is trial 23 with value: 0.8467899328820898.\n"
     ]
    },
    {
     "name": "stderr",
     "output_type": "stream",
     "text": [
      "Best trial: 23. Best value: 0.84679:  90%|█████████ | 45/50 [00:56<00:03,  1.39it/s]"
     ]
    },
    {
     "name": "stdout",
     "output_type": "stream",
     "text": [
      "[I 2024-12-11 16:37:53,255] Trial 44 finished with value: 0.824141738815553 and parameters: {'iterations': 200, 'learning_rate': 0.011677282843242903, 'depth': 6, 'l2_leaf_reg': 0.03645095006725142, 'bagging_temperature': 0.42224037640823286, 'border_count': 215, 'random_strength': 5.920905122085441}. Best is trial 23 with value: 0.8467899328820898.\n"
     ]
    },
    {
     "name": "stderr",
     "output_type": "stream",
     "text": [
      "Best trial: 23. Best value: 0.84679:  92%|█████████▏| 46/50 [00:57<00:03,  1.25it/s]"
     ]
    },
    {
     "name": "stdout",
     "output_type": "stream",
     "text": [
      "[I 2024-12-11 16:37:54,254] Trial 45 finished with value: 0.8454283092499206 and parameters: {'iterations': 400, 'learning_rate': 0.010070655041429193, 'depth': 6, 'l2_leaf_reg': 0.09815082127437037, 'bagging_temperature': 0.5066514139023802, 'border_count': 180, 'random_strength': 0.11035866063955328}. Best is trial 23 with value: 0.8467899328820898.\n"
     ]
    },
    {
     "name": "stderr",
     "output_type": "stream",
     "text": [
      "Best trial: 46. Best value: 0.846835:  94%|█████████▍| 47/50 [00:57<00:02,  1.45it/s]"
     ]
    },
    {
     "name": "stdout",
     "output_type": "stream",
     "text": [
      "[I 2024-12-11 16:37:54,676] Trial 46 finished with value: 0.8468354259569484 and parameters: {'iterations': 200, 'learning_rate': 0.024847770481214806, 'depth': 6, 'l2_leaf_reg': 0.05439706326923235, 'bagging_temperature': 0.3328392900726684, 'border_count': 197, 'random_strength': 7.158500707871558}. Best is trial 46 with value: 0.8468354259569484.\n"
     ]
    },
    {
     "name": "stderr",
     "output_type": "stream",
     "text": [
      "Best trial: 46. Best value: 0.846835:  96%|█████████▌| 48/50 [00:57<00:01,  1.84it/s]"
     ]
    },
    {
     "name": "stdout",
     "output_type": "stream",
     "text": [
      "[I 2024-12-11 16:37:54,878] Trial 47 finished with value: 0.8263897409642251 and parameters: {'iterations': 100, 'learning_rate': 0.025164517427327653, 'depth': 5, 'l2_leaf_reg': 0.058017138452621464, 'bagging_temperature': 0.24020611038323972, 'border_count': 196, 'random_strength': 7.210989065354785}. Best is trial 46 with value: 0.8468354259569484.\n"
     ]
    },
    {
     "name": "stderr",
     "output_type": "stream",
     "text": [
      "Best trial: 46. Best value: 0.846835:  98%|█████████▊| 49/50 [00:58<00:00,  1.91it/s]"
     ]
    },
    {
     "name": "stdout",
     "output_type": "stream",
     "text": [
      "[I 2024-12-11 16:37:55,360] Trial 48 finished with value: 0.8397280733071015 and parameters: {'iterations': 200, 'learning_rate': 0.06101879282770354, 'depth': 6, 'l2_leaf_reg': 0.11119874350532864, 'bagging_temperature': 0.35260180529833535, 'border_count': 230, 'random_strength': 3.0755672931756544}. Best is trial 46 with value: 0.8468354259569484.\n",
      "[I 2024-12-11 16:37:55,779] Trial 49 finished with value: 0.84709016996106 and parameters: {'iterations': 200, 'learning_rate': 0.03970801218092837, 'depth': 6, 'l2_leaf_reg': 0.029856903146051363, 'bagging_temperature': 0.27869325386103855, 'border_count': 190, 'random_strength': 7.0686740165356}. Best is trial 49 with value: 0.84709016996106.\n"
     ]
    },
    {
     "name": "stderr",
     "output_type": "stream",
     "text": [
      "Best trial: 49. Best value: 0.84709: 100%|██████████| 50/50 [00:58<00:00,  1.17s/it] \n"
     ]
    },
    {
     "data": {
      "text/html": [
       "<pre style=\"white-space:pre;overflow-x:auto;line-height:normal;font-family:Menlo,'DejaVu Sans Mono',consolas,'Courier New',monospace\"><span style=\"font-weight: bold\">{</span>\n",
       "    <span style=\"color: #008000; text-decoration-color: #008000\">'iterations'</span>: <span style=\"color: #008080; text-decoration-color: #008080; font-weight: bold\">200</span>,\n",
       "    <span style=\"color: #008000; text-decoration-color: #008000\">'learning_rate'</span>: <span style=\"color: #008080; text-decoration-color: #008080; font-weight: bold\">0.03970801218092837</span>,\n",
       "    <span style=\"color: #008000; text-decoration-color: #008000\">'depth'</span>: <span style=\"color: #008080; text-decoration-color: #008080; font-weight: bold\">6</span>,\n",
       "    <span style=\"color: #008000; text-decoration-color: #008000\">'l2_leaf_reg'</span>: <span style=\"color: #008080; text-decoration-color: #008080; font-weight: bold\">0.029856903146051363</span>,\n",
       "    <span style=\"color: #008000; text-decoration-color: #008000\">'bagging_temperature'</span>: <span style=\"color: #008080; text-decoration-color: #008080; font-weight: bold\">0.27869325386103855</span>,\n",
       "    <span style=\"color: #008000; text-decoration-color: #008000\">'border_count'</span>: <span style=\"color: #008080; text-decoration-color: #008080; font-weight: bold\">190</span>,\n",
       "    <span style=\"color: #008000; text-decoration-color: #008000\">'random_strength'</span>: <span style=\"color: #008080; text-decoration-color: #008080; font-weight: bold\">7.0686740165356</span>\n",
       "<span style=\"font-weight: bold\">}</span>\n",
       "</pre>\n"
      ],
      "text/plain": [
       "\u001b[1m{\u001b[0m\n",
       "    \u001b[32m'iterations'\u001b[0m: \u001b[1;36m200\u001b[0m,\n",
       "    \u001b[32m'learning_rate'\u001b[0m: \u001b[1;36m0.03970801218092837\u001b[0m,\n",
       "    \u001b[32m'depth'\u001b[0m: \u001b[1;36m6\u001b[0m,\n",
       "    \u001b[32m'l2_leaf_reg'\u001b[0m: \u001b[1;36m0.029856903146051363\u001b[0m,\n",
       "    \u001b[32m'bagging_temperature'\u001b[0m: \u001b[1;36m0.27869325386103855\u001b[0m,\n",
       "    \u001b[32m'border_count'\u001b[0m: \u001b[1;36m190\u001b[0m,\n",
       "    \u001b[32m'random_strength'\u001b[0m: \u001b[1;36m7.0686740165356\u001b[0m\n",
       "\u001b[1m}\u001b[0m\n"
      ]
     },
     "metadata": {},
     "output_type": "display_data"
    },
    {
     "name": "stderr",
     "output_type": "stream",
     "text": [
      "2024-12-11 16:37:56,014 - distributed.worker - ERROR - Failed to communicate with scheduler during heartbeat.\n",
      "Traceback (most recent call last):\n",
      "  File \"/Users/markpeacock/MSc_artificial_intelligence/Machine learning/Assessment/.venv/lib/python3.12/site-packages/distributed/comm/tcp.py\", line 225, in read\n",
      "    frames_nosplit_nbytes_bin = await stream.read_bytes(fmt_size)\n",
      "                                ^^^^^^^^^^^^^^^^^^^^^^^^^^^^^^^^^\n",
      "tornado.iostream.StreamClosedError: Stream is closed\n",
      "\n",
      "The above exception was the direct cause of the following exception:\n",
      "\n",
      "Traceback (most recent call last):\n",
      "  File \"/Users/markpeacock/MSc_artificial_intelligence/Machine learning/Assessment/.venv/lib/python3.12/site-packages/distributed/worker.py\", line 1269, in heartbeat\n",
      "    response = await retry_operation(\n",
      "               ^^^^^^^^^^^^^^^^^^^^^^\n",
      "  File \"/Users/markpeacock/MSc_artificial_intelligence/Machine learning/Assessment/.venv/lib/python3.12/site-packages/distributed/utils_comm.py\", line 441, in retry_operation\n",
      "    return await retry(\n",
      "           ^^^^^^^^^^^^\n",
      "  File \"/Users/markpeacock/MSc_artificial_intelligence/Machine learning/Assessment/.venv/lib/python3.12/site-packages/distributed/utils_comm.py\", line 420, in retry\n",
      "    return await coro()\n",
      "           ^^^^^^^^^^^^\n",
      "  File \"/Users/markpeacock/MSc_artificial_intelligence/Machine learning/Assessment/.venv/lib/python3.12/site-packages/distributed/core.py\", line 1259, in send_recv_from_rpc\n",
      "    return await send_recv(comm=comm, op=key, **kwargs)\n",
      "           ^^^^^^^^^^^^^^^^^^^^^^^^^^^^^^^^^^^^^^^^^^^^\n",
      "  File \"/Users/markpeacock/MSc_artificial_intelligence/Machine learning/Assessment/.venv/lib/python3.12/site-packages/distributed/core.py\", line 1018, in send_recv\n",
      "    response = await comm.read(deserializers=deserializers)\n",
      "               ^^^^^^^^^^^^^^^^^^^^^^^^^^^^^^^^^^^^^^^^^^^^\n",
      "  File \"/Users/markpeacock/MSc_artificial_intelligence/Machine learning/Assessment/.venv/lib/python3.12/site-packages/distributed/comm/tcp.py\", line 236, in read\n",
      "    convert_stream_closed_error(self, e)\n",
      "  File \"/Users/markpeacock/MSc_artificial_intelligence/Machine learning/Assessment/.venv/lib/python3.12/site-packages/distributed/comm/tcp.py\", line 142, in convert_stream_closed_error\n",
      "    raise CommClosedError(f\"in {obj}: {exc}\") from exc\n",
      "distributed.comm.core.CommClosedError: in <TCP (closed) ConnectionPool.heartbeat_worker local=tcp://127.0.0.1:62787 remote=tcp://127.0.0.1:62757>: Stream is closed\n",
      "2024-12-11 16:37:56,118 - distributed.worker - ERROR - Failed to communicate with scheduler during heartbeat.\n",
      "Traceback (most recent call last):\n",
      "  File \"/Users/markpeacock/MSc_artificial_intelligence/Machine learning/Assessment/.venv/lib/python3.12/site-packages/distributed/comm/tcp.py\", line 225, in read\n",
      "    frames_nosplit_nbytes_bin = await stream.read_bytes(fmt_size)\n",
      "                                ^^^^^^^^^^^^^^^^^^^^^^^^^^^^^^^^^\n",
      "tornado.iostream.StreamClosedError: Stream is closed\n",
      "\n",
      "The above exception was the direct cause of the following exception:\n",
      "\n",
      "Traceback (most recent call last):\n",
      "  File \"/Users/markpeacock/MSc_artificial_intelligence/Machine learning/Assessment/.venv/lib/python3.12/site-packages/distributed/worker.py\", line 1269, in heartbeat\n",
      "    response = await retry_operation(\n",
      "               ^^^^^^^^^^^^^^^^^^^^^^\n",
      "  File \"/Users/markpeacock/MSc_artificial_intelligence/Machine learning/Assessment/.venv/lib/python3.12/site-packages/distributed/utils_comm.py\", line 441, in retry_operation\n",
      "    return await retry(\n",
      "           ^^^^^^^^^^^^\n",
      "  File \"/Users/markpeacock/MSc_artificial_intelligence/Machine learning/Assessment/.venv/lib/python3.12/site-packages/distributed/utils_comm.py\", line 420, in retry\n",
      "    return await coro()\n",
      "           ^^^^^^^^^^^^\n",
      "  File \"/Users/markpeacock/MSc_artificial_intelligence/Machine learning/Assessment/.venv/lib/python3.12/site-packages/distributed/core.py\", line 1259, in send_recv_from_rpc\n",
      "    return await send_recv(comm=comm, op=key, **kwargs)\n",
      "           ^^^^^^^^^^^^^^^^^^^^^^^^^^^^^^^^^^^^^^^^^^^^\n",
      "  File \"/Users/markpeacock/MSc_artificial_intelligence/Machine learning/Assessment/.venv/lib/python3.12/site-packages/distributed/core.py\", line 1018, in send_recv\n",
      "    response = await comm.read(deserializers=deserializers)\n",
      "               ^^^^^^^^^^^^^^^^^^^^^^^^^^^^^^^^^^^^^^^^^^^^\n",
      "  File \"/Users/markpeacock/MSc_artificial_intelligence/Machine learning/Assessment/.venv/lib/python3.12/site-packages/distributed/comm/tcp.py\", line 236, in read\n",
      "    convert_stream_closed_error(self, e)\n",
      "  File \"/Users/markpeacock/MSc_artificial_intelligence/Machine learning/Assessment/.venv/lib/python3.12/site-packages/distributed/comm/tcp.py\", line 142, in convert_stream_closed_error\n",
      "    raise CommClosedError(f\"in {obj}: {exc}\") from exc\n",
      "distributed.comm.core.CommClosedError: in <TCP (closed) ConnectionPool.heartbeat_worker local=tcp://127.0.0.1:62785 remote=tcp://127.0.0.1:62757>: Stream is closed\n",
      "2024-12-11 16:37:56,233 - distributed.scheduler - WARNING - Removing worker 'tcp://127.0.0.1:62768' caused the cluster to lose already computed task(s), which will be recomputed elsewhere: {'optimize-65a4e78b-06aa-4f38-9ff8-8d27fee736cb'} (stimulus_id='handle-worker-cleanup-1733935076.23297')\n"
     ]
    }
   ],
   "source": [
    "import optuna\n",
    "from sklearn.model_selection import cross_val_score\n",
    "from dask.distributed import wait\n",
    "import optuna_integration\n",
    "\n",
    "from dask.distributed import Client, LocalCluster, wait\n",
    "\n",
    "# Create a local cluster to experiment with dask to see if it speeds up the study\n",
    "cluster = LocalCluster()\n",
    "client = Client(cluster)\n",
    "\n",
    "print(client)\n",
    "\n",
    "backend_storage = optuna.storages.InMemoryStorage()\n",
    "dask_storage = optuna.integration.DaskStorage(storage=backend_storage)\n",
    "\n",
    "\n",
    "def objective(trial):\n",
    "\n",
    "    params = {\n",
    "        \"iterations\": trial.suggest_int(\"iterations\", 100, 1000, step=100),\n",
    "        \"learning_rate\": trial.suggest_float(\"learning_rate\", 0.01, 0.3, log=True),\n",
    "        \"depth\": trial.suggest_int(\"depth\", 4, 10),\n",
    "        \"l2_leaf_reg\": trial.suggest_float(\"l2_leaf_reg\", 1e-2, 10.0, log=True),\n",
    "        \"bagging_temperature\": trial.suggest_float(\"bagging_temperature\", 0.0, 1.0),\n",
    "        \"border_count\": trial.suggest_int(\"border_count\", 32, 255),\n",
    "        \"random_strength\": trial.suggest_float(\"random_strength\", 1e-3, 10.0, log=True),\n",
    "        \"verbose\": 0,  # Suppress output during training\n",
    "    }\n",
    "\n",
    "    model = CatBoostRegressor(**params)\n",
    "    model.fit(X_train, y_train)\n",
    "    score = cross_val_score(model, X_train, y_train, cv=5, scoring=\"r2\")\n",
    "    return score.mean()\n",
    "\n",
    "\n",
    "try:\n",
    "    # Run the optimization if a study has already been stored it will throw an error. This prevents it running again.\n",
    "    study_cbr = optuna.create_study(\n",
    "        direction=\"maximize\", storage=dask_storage, study_name=\"CBR_insurance_study\"\n",
    "    )\n",
    "    # study_lgbm.optimize(objective, n_trials=7,show_progress_bar=True, n_jobs=-1 ) # To run wihtout dask\n",
    "\n",
    "    futures = [\n",
    "        client.submit(\n",
    "            study_cbr.optimize,\n",
    "            objective,\n",
    "            n_trials=50,\n",
    "            pure=False,\n",
    "            show_progress_bar=True,\n",
    "        )\n",
    "    ]\n",
    "\n",
    "    _ = wait(futures)\n",
    "\n",
    "except Exception as e:\n",
    "    print(\"Error: {}\".format(e))\n",
    "\n",
    "cbr_best_prams = study_cbr.best_params\n",
    "print(cbr_best_prams)\n",
    "\n",
    "cluster.close()\n",
    "client.close()"
   ]
  },
  {
   "cell_type": "markdown",
   "metadata": {},
   "source": [
    "## LGBM Regressor hyperparameter tuning using optuna"
   ]
  },
  {
   "cell_type": "code",
   "execution_count": null,
   "metadata": {},
   "outputs": [
    {
     "data": {
      "text/html": [
       "<pre style=\"white-space:pre;overflow-x:auto;line-height:normal;font-family:Menlo,'DejaVu Sans Mono',consolas,'Courier New',monospace\"><span style=\"font-weight: bold\">&lt;</span><span style=\"color: #ff00ff; text-decoration-color: #ff00ff; font-weight: bold\">Client:</span><span style=\"color: #000000; text-decoration-color: #000000\"> </span><span style=\"color: #008000; text-decoration-color: #008000\">'tcp://127.0.0.1:62821'</span><span style=\"color: #000000; text-decoration-color: #000000\"> </span><span style=\"color: #808000; text-decoration-color: #808000\">processes</span><span style=\"color: #000000; text-decoration-color: #000000\">=</span><span style=\"color: #008080; text-decoration-color: #008080; font-weight: bold\">4</span><span style=\"color: #000000; text-decoration-color: #000000\"> </span><span style=\"color: #808000; text-decoration-color: #808000\">threads</span><span style=\"color: #000000; text-decoration-color: #000000\">=</span><span style=\"color: #008080; text-decoration-color: #008080; font-weight: bold\">8</span><span style=\"color: #000000; text-decoration-color: #000000\">, </span><span style=\"color: #808000; text-decoration-color: #808000\">memory</span><span style=\"color: #000000; text-decoration-color: #000000\">=</span><span style=\"color: #008080; text-decoration-color: #008080; font-weight: bold\">8.00</span><span style=\"color: #000000; text-decoration-color: #000000\"> GiB</span><span style=\"font-weight: bold\">&gt;</span>\n",
       "</pre>\n"
      ],
      "text/plain": [
       "\u001b[1m<\u001b[0m\u001b[1;95mClient:\u001b[0m\u001b[39m \u001b[0m\u001b[32m'tcp://127.0.0.1:62821'\u001b[0m\u001b[39m \u001b[0m\u001b[33mprocesses\u001b[0m\u001b[39m=\u001b[0m\u001b[1;36m4\u001b[0m\u001b[39m \u001b[0m\u001b[33mthreads\u001b[0m\u001b[39m=\u001b[0m\u001b[1;36m8\u001b[0m\u001b[39m, \u001b[0m\u001b[33mmemory\u001b[0m\u001b[39m=\u001b[0m\u001b[1;36m8\u001b[0m\u001b[1;36m.00\u001b[0m\u001b[39m GiB\u001b[0m\u001b[1m>\u001b[0m\n"
      ]
     },
     "metadata": {},
     "output_type": "display_data"
    },
    {
     "name": "stderr",
     "output_type": "stream",
     "text": [
      "/var/folders/xh/fvvnghrs13n5sqcsmprbn_c80000gn/T/ipykernel_29785/2040573342.py:15: ExperimentalWarning: DaskStorage is experimental (supported from v3.1.0). The interface can change in the future.\n",
      "  dask_storage = optuna.integration.DaskStorage(storage=backend_storage)\n",
      "[I 2024-12-11 16:37:57,596] A new study created in memory with name: LGBMR_insurance_study\n",
      "/Users/markpeacock/MSc_artificial_intelligence/Machine learning/Assessment/.venv/lib/python3.12/site-packages/distributed/protocol/pickle.py:90: ExperimentalWarning: DaskStorage is experimental (supported from v3.1.0). The interface can change in the future.\n",
      "  return pickle.loads(x, buffers=buffers)\n",
      "/Users/markpeacock/MSc_artificial_intelligence/Machine learning/Assessment/.venv/lib/python3.12/site-packages/distributed/protocol/pickle.py:90: ExperimentalWarning: DaskStorage is experimental (supported from v3.1.0). The interface can change in the future.\n",
      "  return pickle.loads(x, buffers=buffers)\n",
      "/Users/markpeacock/MSc_artificial_intelligence/Machine learning/Assessment/.venv/lib/python3.12/site-packages/dask/dataframe/__init__.py:49: FutureWarning: \n",
      "Dask dataframe query planning is disabled because dask-expr is not installed.\n",
      "\n",
      "You can install it with `pip install dask[dataframe]` or `conda install dask`.\n",
      "This will raise in a future version.\n",
      "\n",
      "  warnings.warn(msg, FutureWarning)\n",
      "Best trial: 0. Best value: 0.831739:   2%|▏         | 1/50 [00:31<25:54, 31.72s/it]"
     ]
    },
    {
     "name": "stdout",
     "output_type": "stream",
     "text": [
      "[I 2024-12-11 16:38:30,008] Trial 0 finished with value: 0.8317394538171387 and parameters: {'boosting_type': 'gbdt', 'num_leaves': 227, 'max_depth': 19, 'learning_rate': 0.005203681014329892, 'n_estimators': 1000, 'subsample': 0.7674495191771928, 'colsample_bytree': 0.6502727878513787, 'reg_alpha': 0.01475362587982344, 'reg_lambda': 0.034610501067991635, 'min_child_samples': 13}. Best is trial 0 with value: 0.8317394538171387.\n"
     ]
    },
    {
     "name": "stderr",
     "output_type": "stream",
     "text": [
      "Best trial: 0. Best value: 0.831739:   4%|▍         | 2/50 [00:33<11:07, 13.90s/it]"
     ]
    },
    {
     "name": "stdout",
     "output_type": "stream",
     "text": [
      "[I 2024-12-11 16:38:31,429] Trial 1 finished with value: 0.20609313777938326 and parameters: {'boosting_type': 'goss', 'num_leaves': 225, 'max_depth': 18, 'learning_rate': 0.0007106552329558155, 'n_estimators': 300, 'subsample': 0.7415699953473943, 'colsample_bytree': 0.6477614735426929, 'reg_alpha': 0.0007176106592653366, 'reg_lambda': 0.016780634512916146, 'min_child_samples': 94}. Best is trial 0 with value: 0.8317394538171387.\n"
     ]
    },
    {
     "name": "stderr",
     "output_type": "stream",
     "text": [
      "Best trial: 0. Best value: 0.831739:   6%|▌         | 3/50 [00:39<08:06, 10.34s/it]"
     ]
    },
    {
     "name": "stdout",
     "output_type": "stream",
     "text": [
      "[I 2024-12-11 16:38:37,544] Trial 2 finished with value: 0.8306860238391156 and parameters: {'boosting_type': 'goss', 'num_leaves': 34, 'max_depth': -1, 'learning_rate': 0.0265569964954063, 'n_estimators': 800, 'subsample': 0.5386163954326242, 'colsample_bytree': 0.9128772920423984, 'reg_alpha': 0.0026838778631130007, 'reg_lambda': 4.758490602126969, 'min_child_samples': 21}. Best is trial 0 with value: 0.8317394538171387.\n"
     ]
    },
    {
     "name": "stderr",
     "output_type": "stream",
     "text": [
      "Best trial: 3. Best value: 0.845123:   8%|▊         | 4/50 [00:41<05:32,  7.23s/it]"
     ]
    },
    {
     "name": "stdout",
     "output_type": "stream",
     "text": [
      "[I 2024-12-11 16:38:39,989] Trial 3 finished with value: 0.8451225635121442 and parameters: {'boosting_type': 'gbdt', 'num_leaves': 42, 'max_depth': 9, 'learning_rate': 0.01362838353951698, 'n_estimators': 400, 'subsample': 0.6834090157859805, 'colsample_bytree': 0.5858702242614485, 'reg_alpha': 1.6792102201270577e-05, 'reg_lambda': 1.3366139020853718, 'min_child_samples': 79}. Best is trial 3 with value: 0.8451225635121442.\n"
     ]
    },
    {
     "name": "stderr",
     "output_type": "stream",
     "text": [
      "Best trial: 3. Best value: 0.845123:  10%|█         | 5/50 [00:44<04:18,  5.75s/it]"
     ]
    },
    {
     "name": "stdout",
     "output_type": "stream",
     "text": [
      "[I 2024-12-11 16:38:43,118] Trial 4 finished with value: 0.1794514630604327 and parameters: {'boosting_type': 'gbdt', 'num_leaves': 148, 'max_depth': 17, 'learning_rate': 0.000438379174936442, 'n_estimators': 400, 'subsample': 0.9440471648948497, 'colsample_bytree': 0.5055175670998955, 'reg_alpha': 0.07878435466641678, 'reg_lambda': 0.000788192383364403, 'min_child_samples': 55}. Best is trial 3 with value: 0.8451225635121442.\n"
     ]
    },
    {
     "name": "stderr",
     "output_type": "stream",
     "text": [
      "Best trial: 3. Best value: 0.845123:  12%|█▏        | 6/50 [00:48<03:42,  5.05s/it]"
     ]
    },
    {
     "name": "stdout",
     "output_type": "stream",
     "text": [
      "[I 2024-12-11 16:38:46,812] Trial 5 finished with value: 0.01627013486055018 and parameters: {'boosting_type': 'gbdt', 'num_leaves': 138, 'max_depth': 7, 'learning_rate': 6.309949816340568e-05, 'n_estimators': 200, 'subsample': 0.8294079268795433, 'colsample_bytree': 0.8974185802476469, 'reg_alpha': 2.795028283577546, 'reg_lambda': 0.00020934830552562416, 'min_child_samples': 21}. Best is trial 3 with value: 0.8451225635121442.\n",
      "[I 2024-12-11 16:38:48,630] Trial 6 finished with value: 0.5430268484479723 and parameters: {'boosting_type': 'goss', 'num_leaves': 77, 'max_depth': 1, 'learning_rate': 0.0016013928168840564, 'n_estimators': 1000, 'subsample': 0.6107761371672675, 'colsample_bytree': 0.5070959094326831, 'reg_alpha': 0.044168531418893014, 'reg_lambda': 0.03190497480940424, 'min_child_samples': 63}. Best is trial 3 with value: 0.8451225635121442.\n"
     ]
    },
    {
     "name": "stderr",
     "output_type": "stream",
     "text": [
      "Best trial: 3. Best value: 0.845123:  16%|█▌        | 8/50 [01:02<04:33,  6.51s/it]"
     ]
    },
    {
     "name": "stdout",
     "output_type": "stream",
     "text": [
      "[I 2024-12-11 16:39:00,532] Trial 7 finished with value: -0.5366083976487224 and parameters: {'boosting_type': 'dart', 'num_leaves': 50, 'max_depth': 20, 'learning_rate': 0.0004959057938116743, 'n_estimators': 900, 'subsample': 0.4262723955949743, 'colsample_bytree': 0.40259244563334207, 'reg_alpha': 0.0044624883605982055, 'reg_lambda': 0.47490054768275924, 'min_child_samples': 85}. Best is trial 3 with value: 0.8451225635121442.\n"
     ]
    },
    {
     "name": "stderr",
     "output_type": "stream",
     "text": [
      "Best trial: 3. Best value: 0.845123:  18%|█▊        | 9/50 [01:05<03:46,  5.54s/it]"
     ]
    },
    {
     "name": "stdout",
     "output_type": "stream",
     "text": [
      "[I 2024-12-11 16:39:03,921] Trial 8 finished with value: 0.19133048060135974 and parameters: {'boosting_type': 'goss', 'num_leaves': 173, 'max_depth': 10, 'learning_rate': 0.00034840470694604843, 'n_estimators': 600, 'subsample': 0.7717158272337328, 'colsample_bytree': 0.4509725425590669, 'reg_alpha': 0.0012712711036670231, 'reg_lambda': 0.024157506318589726, 'min_child_samples': 75}. Best is trial 3 with value: 0.8451225635121442.\n"
     ]
    },
    {
     "name": "stderr",
     "output_type": "stream",
     "text": [
      "Best trial: 3. Best value: 0.845123:  20%|██        | 10/50 [01:07<02:59,  4.49s/it]"
     ]
    },
    {
     "name": "stdout",
     "output_type": "stream",
     "text": [
      "[I 2024-12-11 16:39:06,061] Trial 9 finished with value: 0.815806020990731 and parameters: {'boosting_type': 'goss', 'num_leaves': 145, 'max_depth': 18, 'learning_rate': 0.009239436049578765, 'n_estimators': 500, 'subsample': 0.9024494794723282, 'colsample_bytree': 0.9906294581037776, 'reg_alpha': 0.0013295397694682474, 'reg_lambda': 0.002026824087710387, 'min_child_samples': 56}. Best is trial 3 with value: 0.8451225635121442.\n"
     ]
    },
    {
     "name": "stderr",
     "output_type": "stream",
     "text": [
      "Best trial: 3. Best value: 0.845123:  22%|██▏       | 11/50 [01:08<02:12,  3.40s/it]"
     ]
    },
    {
     "name": "stdout",
     "output_type": "stream",
     "text": [
      "[I 2024-12-11 16:39:07,005] Trial 10 finished with value: 0.7957941666044156 and parameters: {'boosting_type': 'dart', 'num_leaves': 93, 'max_depth': 11, 'learning_rate': 0.0791530078021862, 'n_estimators': 100, 'subsample': 0.6222342198401202, 'colsample_bytree': 0.7369185708886251, 'reg_alpha': 1.1596093171556433e-05, 'reg_lambda': 8.942242575912818, 'min_child_samples': 39}. Best is trial 3 with value: 0.8451225635121442.\n"
     ]
    },
    {
     "name": "stderr",
     "output_type": "stream",
     "text": [
      "Best trial: 3. Best value: 0.845123:  24%|██▍       | 12/50 [01:27<05:09,  8.14s/it]"
     ]
    },
    {
     "name": "stdout",
     "output_type": "stream",
     "text": [
      "[I 2024-12-11 16:39:25,997] Trial 11 finished with value: 0.8287189729310009 and parameters: {'boosting_type': 'gbdt', 'num_leaves': 250, 'max_depth': 6, 'learning_rate': 0.006217342001762802, 'n_estimators': 700, 'subsample': 0.6785392518332529, 'colsample_bytree': 0.6469687229921811, 'reg_alpha': 1.83635039784206e-05, 'reg_lambda': 0.32057626696698766, 'min_child_samples': 2}. Best is trial 3 with value: 0.8451225635121442.\n"
     ]
    },
    {
     "name": "stderr",
     "output_type": "stream",
     "text": [
      "Best trial: 3. Best value: 0.845123:  26%|██▌       | 13/50 [01:33<04:37,  7.50s/it]"
     ]
    },
    {
     "name": "stdout",
     "output_type": "stream",
     "text": [
      "[I 2024-12-11 16:39:31,999] Trial 12 finished with value: 0.8316187733229714 and parameters: {'boosting_type': 'gbdt', 'num_leaves': 197, 'max_depth': 14, 'learning_rate': 0.004644002201872275, 'n_estimators': 500, 'subsample': 0.8217152547495314, 'colsample_bytree': 0.7239205578002426, 'reg_alpha': 0.7344988651215116, 'reg_lambda': 0.4502547683445223, 'min_child_samples': 34}. Best is trial 3 with value: 0.8451225635121442.\n"
     ]
    },
    {
     "name": "stderr",
     "output_type": "stream",
     "text": [
      "Best trial: 3. Best value: 0.845123:  28%|██▊       | 14/50 [02:38<14:55, 24.87s/it]"
     ]
    },
    {
     "name": "stdout",
     "output_type": "stream",
     "text": [
      "[I 2024-12-11 16:40:37,031] Trial 13 finished with value: 0.7996369067802511 and parameters: {'boosting_type': 'gbdt', 'num_leaves': 107, 'max_depth': 13, 'learning_rate': 0.06694963647305824, 'n_estimators': 1000, 'subsample': 0.5054096727322218, 'colsample_bytree': 0.5808056343812927, 'reg_alpha': 0.0001473491306428968, 'reg_lambda': 0.13755510199722507, 'min_child_samples': 2}. Best is trial 3 with value: 0.8451225635121442.\n"
     ]
    },
    {
     "name": "stderr",
     "output_type": "stream",
     "text": [
      "Best trial: 3. Best value: 0.845123:  30%|███       | 15/50 [02:43<10:53, 18.68s/it]"
     ]
    },
    {
     "name": "stdout",
     "output_type": "stream",
     "text": [
      "[I 2024-12-11 16:40:41,357] Trial 14 finished with value: 0.008320830906048049 and parameters: {'boosting_type': 'gbdt', 'num_leaves': 202, 'max_depth': 6, 'learning_rate': 1.1826890514374933e-05, 'n_estimators': 700, 'subsample': 0.6936608584499533, 'colsample_bytree': 0.7936617798152379, 'reg_alpha': 0.059972510033229655, 'reg_lambda': 1.795835112616284e-05, 'min_child_samples': 73}. Best is trial 3 with value: 0.8451225635121442.\n",
      "[I 2024-12-11 16:40:42,692] Trial 15 finished with value: 0.45328757323419494 and parameters: {'boosting_type': 'gbdt', 'num_leaves': 253, 'max_depth': 14, 'learning_rate': 0.0022802957362877407, 'n_estimators': 300, 'subsample': 0.9896509246831405, 'colsample_bytree': 0.5917546523631839, 'reg_alpha': 0.00019635066456948376, 'reg_lambda': 1.8819433045969034, 'min_child_samples': 95}. Best is trial 3 with value: 0.8451225635121442.\n"
     ]
    },
    {
     "name": "stderr",
     "output_type": "stream",
     "text": [
      "Best trial: 3. Best value: 0.845123:  34%|███▍      | 17/50 [02:47<05:45, 10.47s/it]"
     ]
    },
    {
     "name": "stdout",
     "output_type": "stream",
     "text": [
      "[I 2024-12-11 16:40:46,196] Trial 16 finished with value: 0.7980654570609628 and parameters: {'boosting_type': 'dart', 'num_leaves': 66, 'max_depth': 3, 'learning_rate': 0.018603582220595816, 'n_estimators': 400, 'subsample': 0.8303457576381759, 'colsample_bytree': 0.8108338315645968, 'reg_alpha': 0.014130281217377519, 'reg_lambda': 0.09202795234366869, 'min_child_samples': 40}. Best is trial 3 with value: 0.8451225635121442.\n"
     ]
    },
    {
     "name": "stderr",
     "output_type": "stream",
     "text": [
      "Best trial: 3. Best value: 0.845123:  36%|███▌      | 18/50 [03:00<05:59, 11.23s/it]"
     ]
    },
    {
     "name": "stdout",
     "output_type": "stream",
     "text": [
      "[I 2024-12-11 16:40:59,203] Trial 17 finished with value: 0.8187101287391029 and parameters: {'boosting_type': 'gbdt', 'num_leaves': 115, 'max_depth': 8, 'learning_rate': 0.024017463984758382, 'n_estimators': 800, 'subsample': 0.6180621258522351, 'colsample_bytree': 0.5633229654608645, 'reg_alpha': 0.26894156213532333, 'reg_lambda': 0.002889178285096664, 'min_child_samples': 18}. Best is trial 3 with value: 0.8451225635121442.\n"
     ]
    },
    {
     "name": "stderr",
     "output_type": "stream",
     "text": [
      "Best trial: 3. Best value: 0.845123:  38%|███▊      | 19/50 [03:04<04:32,  8.79s/it]"
     ]
    },
    {
     "name": "stdout",
     "output_type": "stream",
     "text": [
      "[I 2024-12-11 16:41:02,303] Trial 18 finished with value: 0.08009763168672257 and parameters: {'boosting_type': 'gbdt', 'num_leaves': 182, 'max_depth': 4, 'learning_rate': 0.0001000101080018628, 'n_estimators': 600, 'subsample': 0.7567519614951206, 'colsample_bytree': 0.6793733355008043, 'reg_alpha': 0.0001425716977398565, 'reg_lambda': 1.4078142984844821, 'min_child_samples': 76}. Best is trial 3 with value: 0.8451225635121442.\n",
      "[I 2024-12-11 16:41:03,251] Trial 19 finished with value: 0.27779122740289997 and parameters: {'boosting_type': 'gbdt', 'num_leaves': 220, 'max_depth': 12, 'learning_rate': 0.00307697215254659, 'n_estimators': 100, 'subsample': 0.5399402801433707, 'colsample_bytree': 0.5250403283895262, 'reg_alpha': 4.404756751922953, 'reg_lambda': 0.00563901205409517, 'min_child_samples': 47}. Best is trial 3 with value: 0.8451225635121442.\n"
     ]
    },
    {
     "name": "stderr",
     "output_type": "stream",
     "text": [
      "Best trial: 3. Best value: 0.845123:  42%|████▏     | 21/50 [03:09<02:49,  5.86s/it]"
     ]
    },
    {
     "name": "stdout",
     "output_type": "stream",
     "text": [
      "[I 2024-12-11 16:41:07,759] Trial 20 finished with value: 0.5367680176190663 and parameters: {'boosting_type': 'dart', 'num_leaves': 32, 'max_depth': 15, 'learning_rate': 0.007525961582730178, 'n_estimators': 400, 'subsample': 0.9047912383648735, 'colsample_bytree': 0.7866199414712812, 'reg_alpha': 0.015615928167723574, 'reg_lambda': 0.00015346496945984188, 'min_child_samples': 64}. Best is trial 3 with value: 0.8451225635121442.\n"
     ]
    },
    {
     "name": "stderr",
     "output_type": "stream",
     "text": [
      "Best trial: 3. Best value: 0.845123:  44%|████▍     | 22/50 [03:16<02:50,  6.10s/it]"
     ]
    },
    {
     "name": "stdout",
     "output_type": "stream",
     "text": [
      "[I 2024-12-11 16:41:14,426] Trial 21 finished with value: 0.8340225884594465 and parameters: {'boosting_type': 'gbdt', 'num_leaves': 192, 'max_depth': 15, 'learning_rate': 0.0048967377543007095, 'n_estimators': 500, 'subsample': 0.8359137126378645, 'colsample_bytree': 0.7227461818567541, 'reg_alpha': 0.5509081473494116, 'reg_lambda': 0.6876777774871705, 'min_child_samples': 30}. Best is trial 3 with value: 0.8451225635121442.\n"
     ]
    },
    {
     "name": "stderr",
     "output_type": "stream",
     "text": [
      "Best trial: 3. Best value: 0.845123:  46%|████▌     | 23/50 [03:21<02:34,  5.73s/it]"
     ]
    },
    {
     "name": "stdout",
     "output_type": "stream",
     "text": [
      "[I 2024-12-11 16:41:19,308] Trial 22 finished with value: 0.8396723444387308 and parameters: {'boosting_type': 'gbdt', 'num_leaves': 167, 'max_depth': 20, 'learning_rate': 0.013750583563491885, 'n_estimators': 300, 'subsample': 0.7924369451672983, 'colsample_bytree': 0.6335305076019843, 'reg_alpha': 0.38871641202941576, 'reg_lambda': 0.08293935872524134, 'min_child_samples': 26}. Best is trial 3 with value: 0.8451225635121442.\n"
     ]
    },
    {
     "name": "stderr",
     "output_type": "stream",
     "text": [
      "Best trial: 3. Best value: 0.845123:  48%|████▊     | 24/50 [03:25<02:15,  5.22s/it]"
     ]
    },
    {
     "name": "stdout",
     "output_type": "stream",
     "text": [
      "[I 2024-12-11 16:41:23,325] Trial 23 finished with value: 0.8420079641258937 and parameters: {'boosting_type': 'gbdt', 'num_leaves': 168, 'max_depth': 16, 'learning_rate': 0.014099958416010335, 'n_estimators': 300, 'subsample': 0.847499686745418, 'colsample_bytree': 0.6126984872592112, 'reg_alpha': 1.1435001448900306, 'reg_lambda': 1.0568582722290323, 'min_child_samples': 30}. Best is trial 3 with value: 0.8451225635121442.\n"
     ]
    },
    {
     "name": "stderr",
     "output_type": "stream",
     "text": [
      "Best trial: 3. Best value: 0.845123:  50%|█████     | 25/50 [03:29<02:07,  5.11s/it]"
     ]
    },
    {
     "name": "stdout",
     "output_type": "stream",
     "text": [
      "[I 2024-12-11 16:41:28,168] Trial 24 finished with value: 0.8258988759670643 and parameters: {'boosting_type': 'gbdt', 'num_leaves': 163, 'max_depth': 16, 'learning_rate': 0.04105082371585148, 'n_estimators': 300, 'subsample': 0.8915748782785687, 'colsample_bytree': 0.6182155337114216, 'reg_alpha': 1.4307313978813645, 'reg_lambda': 0.14952221728025802, 'min_child_samples': 28}. Best is trial 3 with value: 0.8451225635121442.\n"
     ]
    },
    {
     "name": "stderr",
     "output_type": "stream",
     "text": [
      "Best trial: 3. Best value: 0.845123:  52%|█████▏    | 26/50 [03:31<01:38,  4.09s/it]"
     ]
    },
    {
     "name": "stdout",
     "output_type": "stream",
     "text": [
      "[I 2024-12-11 16:41:29,902] Trial 25 finished with value: 0.8296335973231246 and parameters: {'boosting_type': 'gbdt', 'num_leaves': 129, 'max_depth': 20, 'learning_rate': 0.014748024646317921, 'n_estimators': 200, 'subsample': 0.6620855456642073, 'colsample_bytree': 0.5360259390187063, 'reg_alpha': 9.990192671113372, 'reg_lambda': 2.122382620559648, 'min_child_samples': 46}. Best is trial 3 with value: 0.8451225635121442.\n"
     ]
    },
    {
     "name": "stderr",
     "output_type": "stream",
     "text": [
      "Best trial: 3. Best value: 0.845123:  54%|█████▍    | 27/50 [03:35<01:31,  3.98s/it]"
     ]
    },
    {
     "name": "stdout",
     "output_type": "stream",
     "text": [
      "[I 2024-12-11 16:41:33,600] Trial 26 finished with value: 0.21521518769682163 and parameters: {'boosting_type': 'gbdt', 'num_leaves': 155, 'max_depth': 9, 'learning_rate': 0.0012454794687702384, 'n_estimators': 200, 'subsample': 0.713828046408425, 'colsample_bytree': 0.4547862360211603, 'reg_alpha': 0.2235061387504941, 'reg_lambda': 0.09165925901695589, 'min_child_samples': 15}. Best is trial 3 with value: 0.8451225635121442.\n"
     ]
    },
    {
     "name": "stderr",
     "output_type": "stream",
     "text": [
      "Best trial: 3. Best value: 0.845123:  56%|█████▌    | 28/50 [03:40<01:32,  4.20s/it]"
     ]
    },
    {
     "name": "stdout",
     "output_type": "stream",
     "text": [
      "[I 2024-12-11 16:41:38,309] Trial 27 finished with value: 0.8297929371986967 and parameters: {'boosting_type': 'gbdt', 'num_leaves': 173, 'max_depth': 17, 'learning_rate': 0.039066133199798785, 'n_estimators': 300, 'subsample': 0.7909952721044038, 'colsample_bytree': 0.6178799863560457, 'reg_alpha': 4.076545940172382e-05, 'reg_lambda': 7.168945304666163, 'min_child_samples': 26}. Best is trial 3 with value: 0.8451225635121442.\n"
     ]
    },
    {
     "name": "stderr",
     "output_type": "stream",
     "text": [
      "Best trial: 3. Best value: 0.845123:  58%|█████▊    | 29/50 [03:46<01:40,  4.79s/it]"
     ]
    },
    {
     "name": "stdout",
     "output_type": "stream",
     "text": [
      "[I 2024-12-11 16:41:44,500] Trial 28 finished with value: 0.6956822213956823 and parameters: {'boosting_type': 'dart', 'num_leaves': 120, 'max_depth': 11, 'learning_rate': 0.011871116081219843, 'n_estimators': 400, 'subsample': 0.8622819794587181, 'colsample_bytree': 0.6803580928598322, 'reg_alpha': 0.16217228970116232, 'reg_lambda': 1.1684274708068587, 'min_child_samples': 36}. Best is trial 3 with value: 0.8451225635121442.\n"
     ]
    },
    {
     "name": "stderr",
     "output_type": "stream",
     "text": [
      "Best trial: 3. Best value: 0.845123:  60%|██████    | 30/50 [03:52<01:46,  5.35s/it]"
     ]
    },
    {
     "name": "stdout",
     "output_type": "stream",
     "text": [
      "[I 2024-12-11 16:41:51,137] Trial 29 finished with value: 0.8075198301028126 and parameters: {'boosting_type': 'gbdt', 'num_leaves': 98, 'max_depth': 19, 'learning_rate': 0.09180523857451743, 'n_estimators': 200, 'subsample': 0.7280199633265181, 'colsample_bytree': 0.6024166707850783, 'reg_alpha': 1.1100684693515523, 'reg_lambda': 3.1731043883536207, 'min_child_samples': 10}. Best is trial 3 with value: 0.8451225635121442.\n"
     ]
    },
    {
     "name": "stderr",
     "output_type": "stream",
     "text": [
      "Best trial: 3. Best value: 0.845123:  62%|██████▏   | 31/50 [03:55<01:26,  4.58s/it]"
     ]
    },
    {
     "name": "stdout",
     "output_type": "stream",
     "text": [
      "[I 2024-12-11 16:41:53,917] Trial 30 finished with value: 0.28688117838937005 and parameters: {'boosting_type': 'gbdt', 'num_leaves': 216, 'max_depth': 20, 'learning_rate': 0.002754559537968005, 'n_estimators': 100, 'subsample': 0.7853163481786424, 'colsample_bytree': 0.46105839784121727, 'reg_alpha': 3.613189661846044, 'reg_lambda': 0.22479449784246436, 'min_child_samples': 10}. Best is trial 3 with value: 0.8451225635121442.\n"
     ]
    },
    {
     "name": "stderr",
     "output_type": "stream",
     "text": [
      "Best trial: 3. Best value: 0.845123:  64%|██████▍   | 32/50 [04:03<01:37,  5.42s/it]"
     ]
    },
    {
     "name": "stdout",
     "output_type": "stream",
     "text": [
      "[I 2024-12-11 16:42:01,308] Trial 31 finished with value: 0.8381215445321404 and parameters: {'boosting_type': 'gbdt', 'num_leaves': 194, 'max_depth': 16, 'learning_rate': 0.005839133373864917, 'n_estimators': 500, 'subsample': 0.8512653473579312, 'colsample_bytree': 0.7497456868384715, 'reg_alpha': 0.5524970527026237, 'reg_lambda': 0.7083005031487039, 'min_child_samples': 27}. Best is trial 3 with value: 0.8451225635121442.\n"
     ]
    },
    {
     "name": "stderr",
     "output_type": "stream",
     "text": [
      "Best trial: 3. Best value: 0.845123:  66%|██████▌   | 33/50 [04:05<01:14,  4.40s/it]"
     ]
    },
    {
     "name": "stdout",
     "output_type": "stream",
     "text": [
      "[I 2024-12-11 16:42:03,320] Trial 32 finished with value: 0.8257432937595167 and parameters: {'boosting_type': 'gbdt', 'num_leaves': 207, 'max_depth': 18, 'learning_rate': 0.011974498993525326, 'n_estimators': 400, 'subsample': 0.9481212928592837, 'colsample_bytree': 0.6532264263716022, 'reg_alpha': 0.49717833195582695, 'reg_lambda': 0.05981000976740383, 'min_child_samples': 87}. Best is trial 3 with value: 0.8451225635121442.\n",
      "[I 2024-12-11 16:42:08,099] Trial 33 finished with value: 0.8258396227753328 and parameters: {'boosting_type': 'gbdt', 'num_leaves': 237, 'max_depth': 16, 'learning_rate': 0.03595448220659628, 'n_estimators': 300, 'subsample': 0.8655303712990844, 'colsample_bytree': 0.7640914026436871, 'reg_alpha': 9.407233122044646, 'reg_lambda': 0.6800964391186335, 'min_child_samples': 26}. Best is trial 3 with value: 0.8451225635121442.\n"
     ]
    },
    {
     "name": "stderr",
     "output_type": "stream",
     "text": [
      "Best trial: 3. Best value: 0.845123:  70%|███████   | 35/50 [04:15<01:12,  4.82s/it]"
     ]
    },
    {
     "name": "stdout",
     "output_type": "stream",
     "text": [
      "[I 2024-12-11 16:42:13,650] Trial 34 finished with value: 0.8336042764581997 and parameters: {'boosting_type': 'gbdt', 'num_leaves': 163, 'max_depth': 13, 'learning_rate': 0.02481687380736715, 'n_estimators': 500, 'subsample': 0.7952850474833677, 'colsample_bytree': 0.8471922323253346, 'reg_alpha': 0.0248401848125972, 'reg_lambda': 0.01326262561514996, 'min_child_samples': 43}. Best is trial 3 with value: 0.8451225635121442.\n"
     ]
    },
    {
     "name": "stderr",
     "output_type": "stream",
     "text": [
      "Best trial: 3. Best value: 0.845123:  72%|███████▏  | 36/50 [04:18<00:59,  4.25s/it]"
     ]
    },
    {
     "name": "stdout",
     "output_type": "stream",
     "text": [
      "[I 2024-12-11 16:42:16,560] Trial 35 finished with value: 0.762936501948956 and parameters: {'boosting_type': 'goss', 'num_leaves': 182, 'max_depth': 17, 'learning_rate': 0.003710012045154106, 'n_estimators': 600, 'subsample': 0.7424758718379942, 'colsample_bytree': 0.5519562010022872, 'reg_alpha': 0.11173725302113344, 'reg_lambda': 3.8178599206611312, 'min_child_samples': 51}. Best is trial 3 with value: 0.8451225635121442.\n"
     ]
    },
    {
     "name": "stderr",
     "output_type": "stream",
     "text": [
      "Best trial: 3. Best value: 0.845123:  74%|███████▍  | 37/50 [04:23<00:57,  4.41s/it]"
     ]
    },
    {
     "name": "stdout",
     "output_type": "stream",
     "text": [
      "[I 2024-12-11 16:42:21,342] Trial 36 finished with value: 0.834954076746224 and parameters: {'boosting_type': 'gbdt', 'num_leaves': 134, 'max_depth': 9, 'learning_rate': 0.009710656615443784, 'n_estimators': 300, 'subsample': 0.9493732857995683, 'colsample_bytree': 0.6470989287142029, 'reg_alpha': 0.007398245957025717, 'reg_lambda': 0.9538707149634744, 'min_child_samples': 22}. Best is trial 3 with value: 0.8451225635121442.\n"
     ]
    },
    {
     "name": "stderr",
     "output_type": "stream",
     "text": [
      "Best trial: 3. Best value: 0.845123:  76%|███████▌  | 38/50 [04:28<00:56,  4.72s/it]"
     ]
    },
    {
     "name": "stdout",
     "output_type": "stream",
     "text": [
      "[I 2024-12-11 16:42:26,795] Trial 37 finished with value: 0.4310103013242113 and parameters: {'boosting_type': 'gbdt', 'num_leaves': 186, 'max_depth': 18, 'learning_rate': 0.0009920957093766552, 'n_estimators': 400, 'subsample': 0.6521206150964739, 'colsample_bytree': 0.696798537901604, 'reg_alpha': 1.5247631040737635, 'reg_lambda': 0.05235653332937487, 'min_child_samples': 32}. Best is trial 3 with value: 0.8451225635121442.\n"
     ]
    },
    {
     "name": "stderr",
     "output_type": "stream",
     "text": [
      "Best trial: 3. Best value: 0.845123:  78%|███████▊  | 39/50 [04:29<00:39,  3.60s/it]"
     ]
    },
    {
     "name": "stdout",
     "output_type": "stream",
     "text": [
      "[I 2024-12-11 16:42:27,765] Trial 38 finished with value: 0.7753758051373805 and parameters: {'boosting_type': 'goss', 'num_leaves': 156, 'max_depth': 19, 'learning_rate': 0.016962481127552168, 'n_estimators': 200, 'subsample': 0.585973819219298, 'colsample_bytree': 0.8532071199949572, 'reg_alpha': 0.3180226911673812, 'reg_lambda': 0.24150312359811874, 'min_child_samples': 62}. Best is trial 3 with value: 0.8451225635121442.\n"
     ]
    },
    {
     "name": "stderr",
     "output_type": "stream",
     "text": [
      "Best trial: 3. Best value: 0.845123:  80%|████████  | 40/50 [04:38<00:52,  5.28s/it]"
     ]
    },
    {
     "name": "stdout",
     "output_type": "stream",
     "text": [
      "[I 2024-12-11 16:42:36,965] Trial 39 finished with value: 0.8182731494212462 and parameters: {'boosting_type': 'gbdt', 'num_leaves': 230, 'max_depth': 11, 'learning_rate': 0.04569109743901264, 'n_estimators': 500, 'subsample': 0.8639910667111201, 'colsample_bytree': 0.4853221250209966, 'reg_alpha': 0.03650689789922334, 'reg_lambda': 3.802477798522335, 'min_child_samples': 21}. Best is trial 3 with value: 0.8451225635121442.\n"
     ]
    },
    {
     "name": "stderr",
     "output_type": "stream",
     "text": [
      "Best trial: 3. Best value: 0.845123:  82%|████████▏ | 41/50 [04:40<00:39,  4.36s/it]"
     ]
    },
    {
     "name": "stdout",
     "output_type": "stream",
     "text": [
      "[I 2024-12-11 16:42:39,182] Trial 40 finished with value: 0.5489171386923295 and parameters: {'boosting_type': 'goss', 'num_leaves': 168, 'max_depth': 16, 'learning_rate': 0.0017735912821467536, 'n_estimators': 400, 'subsample': 0.810345891114357, 'colsample_bytree': 0.6350202510295854, 'reg_alpha': 0.0004255617647335647, 'reg_lambda': 0.03598614517933794, 'min_child_samples': 86}. Best is trial 3 with value: 0.8451225635121442.\n"
     ]
    },
    {
     "name": "stderr",
     "output_type": "stream",
     "text": [
      "Best trial: 3. Best value: 0.845123:  84%|████████▍ | 42/50 [04:45<00:36,  4.51s/it]"
     ]
    },
    {
     "name": "stdout",
     "output_type": "stream",
     "text": [
      "[I 2024-12-11 16:42:44,046] Trial 41 finished with value: 0.8279812027887392 and parameters: {'boosting_type': 'gbdt', 'num_leaves': 49, 'max_depth': 9, 'learning_rate': 0.008099881187918838, 'n_estimators': 300, 'subsample': 0.9423423972707939, 'colsample_bytree': 0.6700850762684701, 'reg_alpha': 0.0026172975932683656, 'reg_lambda': 0.8429150621239372, 'min_child_samples': 23}. Best is trial 3 with value: 0.8451225635121442.\n"
     ]
    },
    {
     "name": "stderr",
     "output_type": "stream",
     "text": [
      "Best trial: 3. Best value: 0.845123:  86%|████████▌ | 43/50 [04:51<00:33,  4.83s/it]"
     ]
    },
    {
     "name": "stdout",
     "output_type": "stream",
     "text": [
      "[I 2024-12-11 16:42:49,615] Trial 42 finished with value: 0.8042673392945033 and parameters: {'boosting_type': 'gbdt', 'num_leaves': 137, 'max_depth': 8, 'learning_rate': 0.009601868925902304, 'n_estimators': 200, 'subsample': 0.9788006741809802, 'colsample_bytree': 0.5754517904747518, 'reg_alpha': 0.004882049771289789, 'reg_lambda': 0.3835815180715834, 'min_child_samples': 9}. Best is trial 3 with value: 0.8451225635121442.\n"
     ]
    },
    {
     "name": "stderr",
     "output_type": "stream",
     "text": [
      "Best trial: 3. Best value: 0.845123:  88%|████████▊ | 44/50 [04:54<00:25,  4.28s/it]"
     ]
    },
    {
     "name": "stdout",
     "output_type": "stream",
     "text": [
      "[I 2024-12-11 16:42:52,598] Trial 43 finished with value: 0.811532759356834 and parameters: {'boosting_type': 'gbdt', 'num_leaves': 80, 'max_depth': 10, 'learning_rate': 0.0058556098914454595, 'n_estimators': 300, 'subsample': 0.914141701024087, 'colsample_bytree': 0.7586390337126422, 'reg_alpha': 0.09600208995735847, 'reg_lambda': 1.1945437329830364, 'min_child_samples': 38}. Best is trial 3 with value: 0.8451225635121442.\n"
     ]
    },
    {
     "name": "stderr",
     "output_type": "stream",
     "text": [
      "Best trial: 3. Best value: 0.845123:  90%|█████████ | 45/50 [04:58<00:21,  4.35s/it]"
     ]
    },
    {
     "name": "stdout",
     "output_type": "stream",
     "text": [
      "[I 2024-12-11 16:42:57,130] Trial 44 finished with value: 0.8371806705608378 and parameters: {'boosting_type': 'gbdt', 'num_leaves': 146, 'max_depth': 7, 'learning_rate': 0.02239860425621471, 'n_estimators': 300, 'subsample': 0.9353422743422432, 'colsample_bytree': 0.713740681581467, 'reg_alpha': 4.4236354195336467e-05, 'reg_lambda': 8.077445862326789, 'min_child_samples': 16}. Best is trial 3 with value: 0.8451225635121442.\n"
     ]
    },
    {
     "name": "stderr",
     "output_type": "stream",
     "text": [
      "Best trial: 3. Best value: 0.845123:  92%|█████████▏| 46/50 [05:04<00:19,  4.75s/it]"
     ]
    },
    {
     "name": "stdout",
     "output_type": "stream",
     "text": [
      "[I 2024-12-11 16:43:02,814] Trial 45 finished with value: 0.8415088009760959 and parameters: {'boosting_type': 'dart', 'num_leaves': 147, 'max_depth': 4, 'learning_rate': 0.060036016297822556, 'n_estimators': 500, 'subsample': 0.7658250389345945, 'colsample_bytree': 0.7230587572629266, 'reg_alpha': 6.909862796293325e-05, 'reg_lambda': 9.707515243498278, 'min_child_samples': 16}. Best is trial 3 with value: 0.8451225635121442.\n",
      "[I 2024-12-11 16:43:34,673] Trial 46 finished with value: 0.8055714264010068 and parameters: {'boosting_type': 'dart', 'num_leaves': 155, 'max_depth': -1, 'learning_rate': 0.051449142637588235, 'n_estimators': 600, 'subsample': 0.6923308006616841, 'colsample_bytree': 0.9610863324761687, 'reg_alpha': 2.8411985044488722e-05, 'reg_lambda': 2.46045740168183, 'min_child_samples': 6}. Best is trial 3 with value: 0.8451225635121442.\n"
     ]
    },
    {
     "name": "stderr",
     "output_type": "stream",
     "text": [
      "Best trial: 3. Best value: 0.845123:  96%|█████████▌| 48/50 [05:44<00:22, 11.38s/it]"
     ]
    },
    {
     "name": "stdout",
     "output_type": "stream",
     "text": [
      "[I 2024-12-11 16:43:42,532] Trial 47 finished with value: 0.8068551472209847 and parameters: {'boosting_type': 'dart', 'num_leaves': 174, 'max_depth': 4, 'learning_rate': 0.06077080893812835, 'n_estimators': 700, 'subsample': 0.7696784090536182, 'colsample_bytree': 0.751118489326026, 'reg_alpha': 1.0872487256915478e-05, 'reg_lambda': 5.225634706127078, 'min_child_samples': 100}. Best is trial 3 with value: 0.8451225635121442.\n"
     ]
    },
    {
     "name": "stderr",
     "output_type": "stream",
     "text": [
      "Best trial: 3. Best value: 0.845123:  98%|█████████▊| 49/50 [05:48<00:09,  9.38s/it]"
     ]
    },
    {
     "name": "stdout",
     "output_type": "stream",
     "text": [
      "[I 2024-12-11 16:43:47,244] Trial 48 finished with value: 0.8408952441783164 and parameters: {'boosting_type': 'dart', 'num_leaves': 124, 'max_depth': 3, 'learning_rate': 0.028830524039058, 'n_estimators': 500, 'subsample': 0.743342974292585, 'colsample_bytree': 0.8246548163607713, 'reg_alpha': 2.1888801818389907, 'reg_lambda': 0.43125675822470044, 'min_child_samples': 32}. Best is trial 3 with value: 0.8451225635121442.\n",
      "[I 2024-12-11 16:43:49,469] Trial 49 finished with value: -0.6171228721979934 and parameters: {'boosting_type': 'dart', 'num_leaves': 58, 'max_depth': 2, 'learning_rate': 0.00021707157263691659, 'n_estimators': 400, 'subsample': 0.7484938909114088, 'colsample_bytree': 0.9032614914881965, 'reg_alpha': 7.008607249027453e-05, 'reg_lambda': 0.16519812714180848, 'min_child_samples': 56}. Best is trial 3 with value: 0.8451225635121442.\n"
     ]
    },
    {
     "name": "stderr",
     "output_type": "stream",
     "text": [
      "Best trial: 3. Best value: 0.845123: 100%|██████████| 50/50 [05:51<00:00,  7.02s/it]\n"
     ]
    },
    {
     "data": {
      "text/html": [
       "<pre style=\"white-space:pre;overflow-x:auto;line-height:normal;font-family:Menlo,'DejaVu Sans Mono',consolas,'Courier New',monospace\"><span style=\"font-weight: bold\">{</span>\n",
       "    <span style=\"color: #008000; text-decoration-color: #008000\">'boosting_type'</span>: <span style=\"color: #008000; text-decoration-color: #008000\">'gbdt'</span>,\n",
       "    <span style=\"color: #008000; text-decoration-color: #008000\">'num_leaves'</span>: <span style=\"color: #008080; text-decoration-color: #008080; font-weight: bold\">42</span>,\n",
       "    <span style=\"color: #008000; text-decoration-color: #008000\">'max_depth'</span>: <span style=\"color: #008080; text-decoration-color: #008080; font-weight: bold\">9</span>,\n",
       "    <span style=\"color: #008000; text-decoration-color: #008000\">'learning_rate'</span>: <span style=\"color: #008080; text-decoration-color: #008080; font-weight: bold\">0.01362838353951698</span>,\n",
       "    <span style=\"color: #008000; text-decoration-color: #008000\">'n_estimators'</span>: <span style=\"color: #008080; text-decoration-color: #008080; font-weight: bold\">400</span>,\n",
       "    <span style=\"color: #008000; text-decoration-color: #008000\">'subsample'</span>: <span style=\"color: #008080; text-decoration-color: #008080; font-weight: bold\">0.6834090157859805</span>,\n",
       "    <span style=\"color: #008000; text-decoration-color: #008000\">'colsample_bytree'</span>: <span style=\"color: #008080; text-decoration-color: #008080; font-weight: bold\">0.5858702242614485</span>,\n",
       "    <span style=\"color: #008000; text-decoration-color: #008000\">'reg_alpha'</span>: <span style=\"color: #008080; text-decoration-color: #008080; font-weight: bold\">1.6792102201270577e-05</span>,\n",
       "    <span style=\"color: #008000; text-decoration-color: #008000\">'reg_lambda'</span>: <span style=\"color: #008080; text-decoration-color: #008080; font-weight: bold\">1.3366139020853718</span>,\n",
       "    <span style=\"color: #008000; text-decoration-color: #008000\">'min_child_samples'</span>: <span style=\"color: #008080; text-decoration-color: #008080; font-weight: bold\">79</span>\n",
       "<span style=\"font-weight: bold\">}</span>\n",
       "</pre>\n"
      ],
      "text/plain": [
       "\u001b[1m{\u001b[0m\n",
       "    \u001b[32m'boosting_type'\u001b[0m: \u001b[32m'gbdt'\u001b[0m,\n",
       "    \u001b[32m'num_leaves'\u001b[0m: \u001b[1;36m42\u001b[0m,\n",
       "    \u001b[32m'max_depth'\u001b[0m: \u001b[1;36m9\u001b[0m,\n",
       "    \u001b[32m'learning_rate'\u001b[0m: \u001b[1;36m0.01362838353951698\u001b[0m,\n",
       "    \u001b[32m'n_estimators'\u001b[0m: \u001b[1;36m400\u001b[0m,\n",
       "    \u001b[32m'subsample'\u001b[0m: \u001b[1;36m0.6834090157859805\u001b[0m,\n",
       "    \u001b[32m'colsample_bytree'\u001b[0m: \u001b[1;36m0.5858702242614485\u001b[0m,\n",
       "    \u001b[32m'reg_alpha'\u001b[0m: \u001b[1;36m1.6792102201270577e-05\u001b[0m,\n",
       "    \u001b[32m'reg_lambda'\u001b[0m: \u001b[1;36m1.3366139020853718\u001b[0m,\n",
       "    \u001b[32m'min_child_samples'\u001b[0m: \u001b[1;36m79\u001b[0m\n",
       "\u001b[1m}\u001b[0m\n"
      ]
     },
     "metadata": {},
     "output_type": "display_data"
    },
    {
     "name": "stderr",
     "output_type": "stream",
     "text": [
      "2024-12-11 16:43:49,712 - distributed.worker - ERROR - Failed to communicate with scheduler during heartbeat.\n",
      "Traceback (most recent call last):\n",
      "  File \"/Users/markpeacock/MSc_artificial_intelligence/Machine learning/Assessment/.venv/lib/python3.12/site-packages/distributed/comm/tcp.py\", line 225, in read\n",
      "    frames_nosplit_nbytes_bin = await stream.read_bytes(fmt_size)\n",
      "                                ^^^^^^^^^^^^^^^^^^^^^^^^^^^^^^^^^\n",
      "tornado.iostream.StreamClosedError: Stream is closed\n",
      "\n",
      "The above exception was the direct cause of the following exception:\n",
      "\n",
      "Traceback (most recent call last):\n",
      "  File \"/Users/markpeacock/MSc_artificial_intelligence/Machine learning/Assessment/.venv/lib/python3.12/site-packages/distributed/worker.py\", line 1269, in heartbeat\n",
      "    response = await retry_operation(\n",
      "               ^^^^^^^^^^^^^^^^^^^^^^\n",
      "  File \"/Users/markpeacock/MSc_artificial_intelligence/Machine learning/Assessment/.venv/lib/python3.12/site-packages/distributed/utils_comm.py\", line 441, in retry_operation\n",
      "    return await retry(\n",
      "           ^^^^^^^^^^^^\n",
      "  File \"/Users/markpeacock/MSc_artificial_intelligence/Machine learning/Assessment/.venv/lib/python3.12/site-packages/distributed/utils_comm.py\", line 420, in retry\n",
      "    return await coro()\n",
      "           ^^^^^^^^^^^^\n",
      "  File \"/Users/markpeacock/MSc_artificial_intelligence/Machine learning/Assessment/.venv/lib/python3.12/site-packages/distributed/core.py\", line 1259, in send_recv_from_rpc\n",
      "    return await send_recv(comm=comm, op=key, **kwargs)\n",
      "           ^^^^^^^^^^^^^^^^^^^^^^^^^^^^^^^^^^^^^^^^^^^^\n",
      "  File \"/Users/markpeacock/MSc_artificial_intelligence/Machine learning/Assessment/.venv/lib/python3.12/site-packages/distributed/core.py\", line 1018, in send_recv\n",
      "    response = await comm.read(deserializers=deserializers)\n",
      "               ^^^^^^^^^^^^^^^^^^^^^^^^^^^^^^^^^^^^^^^^^^^^\n",
      "  File \"/Users/markpeacock/MSc_artificial_intelligence/Machine learning/Assessment/.venv/lib/python3.12/site-packages/distributed/comm/tcp.py\", line 236, in read\n",
      "    convert_stream_closed_error(self, e)\n",
      "  File \"/Users/markpeacock/MSc_artificial_intelligence/Machine learning/Assessment/.venv/lib/python3.12/site-packages/distributed/comm/tcp.py\", line 142, in convert_stream_closed_error\n",
      "    raise CommClosedError(f\"in {obj}: {exc}\") from exc\n",
      "distributed.comm.core.CommClosedError: in <TCP (closed) ConnectionPool.heartbeat_worker local=tcp://127.0.0.1:62849 remote=tcp://127.0.0.1:62821>: Stream is closed\n",
      "2024-12-11 16:43:49,818 - distributed.worker - ERROR - Failed to communicate with scheduler during heartbeat.\n",
      "Traceback (most recent call last):\n",
      "  File \"/Users/markpeacock/MSc_artificial_intelligence/Machine learning/Assessment/.venv/lib/python3.12/site-packages/distributed/comm/tcp.py\", line 225, in read\n",
      "    frames_nosplit_nbytes_bin = await stream.read_bytes(fmt_size)\n",
      "                                ^^^^^^^^^^^^^^^^^^^^^^^^^^^^^^^^^\n",
      "tornado.iostream.StreamClosedError: Stream is closed\n",
      "\n",
      "The above exception was the direct cause of the following exception:\n",
      "\n",
      "Traceback (most recent call last):\n",
      "  File \"/Users/markpeacock/MSc_artificial_intelligence/Machine learning/Assessment/.venv/lib/python3.12/site-packages/distributed/worker.py\", line 1269, in heartbeat\n",
      "    response = await retry_operation(\n",
      "               ^^^^^^^^^^^^^^^^^^^^^^\n",
      "  File \"/Users/markpeacock/MSc_artificial_intelligence/Machine learning/Assessment/.venv/lib/python3.12/site-packages/distributed/utils_comm.py\", line 441, in retry_operation\n",
      "    return await retry(\n",
      "           ^^^^^^^^^^^^\n",
      "  File \"/Users/markpeacock/MSc_artificial_intelligence/Machine learning/Assessment/.venv/lib/python3.12/site-packages/distributed/utils_comm.py\", line 420, in retry\n",
      "    return await coro()\n",
      "           ^^^^^^^^^^^^\n",
      "  File \"/Users/markpeacock/MSc_artificial_intelligence/Machine learning/Assessment/.venv/lib/python3.12/site-packages/distributed/core.py\", line 1259, in send_recv_from_rpc\n",
      "    return await send_recv(comm=comm, op=key, **kwargs)\n",
      "           ^^^^^^^^^^^^^^^^^^^^^^^^^^^^^^^^^^^^^^^^^^^^\n",
      "  File \"/Users/markpeacock/MSc_artificial_intelligence/Machine learning/Assessment/.venv/lib/python3.12/site-packages/distributed/core.py\", line 1018, in send_recv\n",
      "    response = await comm.read(deserializers=deserializers)\n",
      "               ^^^^^^^^^^^^^^^^^^^^^^^^^^^^^^^^^^^^^^^^^^^^\n",
      "  File \"/Users/markpeacock/MSc_artificial_intelligence/Machine learning/Assessment/.venv/lib/python3.12/site-packages/distributed/comm/tcp.py\", line 236, in read\n",
      "    convert_stream_closed_error(self, e)\n",
      "  File \"/Users/markpeacock/MSc_artificial_intelligence/Machine learning/Assessment/.venv/lib/python3.12/site-packages/distributed/comm/tcp.py\", line 142, in convert_stream_closed_error\n",
      "    raise CommClosedError(f\"in {obj}: {exc}\") from exc\n",
      "distributed.comm.core.CommClosedError: in <TCP (closed) ConnectionPool.heartbeat_worker local=tcp://127.0.0.1:62850 remote=tcp://127.0.0.1:62821>: Stream is closed\n",
      "2024-12-11 16:43:49,930 - distributed.scheduler - WARNING - Removing worker 'tcp://127.0.0.1:62832' caused the cluster to lose already computed task(s), which will be recomputed elsewhere: {'optimize-b3084604-c638-4b3c-97f4-6fc8a61b18eb'} (stimulus_id='handle-worker-cleanup-1733935429.9307258')\n"
     ]
    }
   ],
   "source": [
    "import optuna\n",
    "from sklearn.model_selection import cross_val_score\n",
    "from dask.distributed import wait\n",
    "import optuna_integration\n",
    "\n",
    "from dask.distributed import Client, LocalCluster, wait\n",
    "\n",
    "cluster = LocalCluster()\n",
    "client = Client(cluster)\n",
    "\n",
    "print(client)\n",
    "\n",
    "backend_storage = optuna.storages.InMemoryStorage()\n",
    "dask_storage = optuna.integration.DaskStorage(storage=backend_storage)\n",
    "\n",
    "\n",
    "def objective(trial):\n",
    "\n",
    "    params = {\n",
    "        \"objective\": \"regression\",\n",
    "        \"metric\": \"rmse\",  # Root Mean Squared Error (RMSE) metric\n",
    "        \"boosting_type\": trial.suggest_categorical(\n",
    "            \"boosting_type\", [\"gbdt\", \"dart\", \"goss\"]\n",
    "        ),\n",
    "        \"num_leaves\": trial.suggest_int(\"num_leaves\", 31, 255),\n",
    "        \"max_depth\": trial.suggest_int(\"max_depth\", -1, 20),  # -1 means no limit\n",
    "        \"learning_rate\": trial.suggest_float(\"learning_rate\", 1e-5, 0.1, log=True),\n",
    "        \"n_estimators\": trial.suggest_int(\"n_estimators\", 100, 1000, step=100),\n",
    "        \"subsample\": trial.suggest_float(\n",
    "            \"subsample\", 0.4, 1.0\n",
    "        ),  # Subsample ratio of the training set\n",
    "        \"colsample_bytree\": trial.suggest_float(\n",
    "            \"colsample_bytree\", 0.4, 1.0\n",
    "        ),  # Feature fraction\n",
    "        \"reg_alpha\": trial.suggest_float(\n",
    "            \"reg_alpha\", 1e-5, 10.0, log=True\n",
    "        ),  # L1 regularization\n",
    "        \"reg_lambda\": trial.suggest_float(\n",
    "            \"reg_lambda\", 1e-5, 10.0, log=True\n",
    "        ),  # L2 regularization\n",
    "        \"min_child_samples\": trial.suggest_int(\n",
    "            \"min_child_samples\", 1, 100\n",
    "        ),  # Minimum number of samples in a leaf\n",
    "        \"verbose\": -1,  # Suppress output during training\n",
    "    }\n",
    "\n",
    "    model = LGBMRegressor(**params)\n",
    "    model.fit(X_train, y_train)\n",
    "    score = cross_val_score(model, X_train, y_train, cv=5, scoring=\"r2\")\n",
    "    return score.mean()\n",
    "\n",
    "\n",
    "try:\n",
    "    study_lgbmr = optuna.create_study(\n",
    "        direction=\"maximize\", storage=dask_storage, study_name=\"LGBMR_insurance_study\"\n",
    "    )\n",
    "    # study_lgbm.optimize(objective, n_trials=7,show_progress_bar=True, n_jobs=-1 )\n",
    "\n",
    "    futures = [\n",
    "        client.submit(\n",
    "            study_lgbmr.optimize,\n",
    "            objective,\n",
    "            n_trials=50,\n",
    "            pure=False,\n",
    "            show_progress_bar=True,\n",
    "        )\n",
    "    ]\n",
    "\n",
    "    _ = wait(futures)\n",
    "\n",
    "except Exception as e:\n",
    "    print(\"Error: {}\".format(e))\n",
    "\n",
    "lgbmr_best_prams = study_lgbmr.best_params\n",
    "print(lgbmr_best_prams)\n",
    "\n",
    "cluster.close()\n",
    "client.close()"
   ]
  },
  {
   "cell_type": "markdown",
   "metadata": {},
   "source": [
    "## Look at results "
   ]
  },
  {
   "cell_type": "code",
   "execution_count": 31,
   "metadata": {},
   "outputs": [],
   "source": [
    "results_dataframe = pd.DataFrame(\n",
    "    list(results_dict.items()), columns=[\"Model\", \"R2 score\"]\n",
    ")\n",
    "results_dataframe = results_dataframe.sort_values(\n",
    "    by=\"R2 score\", ascending=False\n",
    ").reset_index(drop=True)\n",
    "results_dataframe.to_csv(\"insurance_model_results.csv\")  # Save to a .csv file"
   ]
  },
  {
   "cell_type": "code",
   "execution_count": 32,
   "metadata": {},
   "outputs": [
    {
     "data": {
      "text/html": [
       "<pre style=\"white-space:pre;overflow-x:auto;line-height:normal;font-family:Menlo,'DejaVu Sans Mono',consolas,'Courier New',monospace\"></pre>\n"
      ],
      "text/plain": []
     },
     "metadata": {},
     "output_type": "display_data"
    },
    {
     "data": {
      "text/html": [
       "<div>\n",
       "<style scoped>\n",
       "    .dataframe tbody tr th:only-of-type {\n",
       "        vertical-align: middle;\n",
       "    }\n",
       "\n",
       "    .dataframe tbody tr th {\n",
       "        vertical-align: top;\n",
       "    }\n",
       "\n",
       "    .dataframe thead th {\n",
       "        text-align: right;\n",
       "    }\n",
       "</style>\n",
       "<table border=\"1\" class=\"dataframe\">\n",
       "  <thead>\n",
       "    <tr style=\"text-align: right;\">\n",
       "      <th></th>\n",
       "      <th>Model</th>\n",
       "      <th>R2 score</th>\n",
       "    </tr>\n",
       "  </thead>\n",
       "  <tbody>\n",
       "    <tr>\n",
       "      <th>0</th>\n",
       "      <td>XGB regressorn hp optuna</td>\n",
       "      <td>0.882430</td>\n",
       "    </tr>\n",
       "    <tr>\n",
       "      <th>1</th>\n",
       "      <td>catboost regressor optuna hp</td>\n",
       "      <td>0.879953</td>\n",
       "    </tr>\n",
       "    <tr>\n",
       "      <th>2</th>\n",
       "      <td>LGBM regressor hp optuna</td>\n",
       "      <td>0.879164</td>\n",
       "    </tr>\n",
       "    <tr>\n",
       "      <th>3</th>\n",
       "      <td>XGB regressor</td>\n",
       "      <td>0.877707</td>\n",
       "    </tr>\n",
       "    <tr>\n",
       "      <th>4</th>\n",
       "      <td>Decision tree regressor</td>\n",
       "      <td>0.863341</td>\n",
       "    </tr>\n",
       "    <tr>\n",
       "      <th>5</th>\n",
       "      <td>Random forest regressor</td>\n",
       "      <td>0.859392</td>\n",
       "    </tr>\n",
       "    <tr>\n",
       "      <th>6</th>\n",
       "      <td>Linear regression</td>\n",
       "      <td>0.779229</td>\n",
       "    </tr>\n",
       "  </tbody>\n",
       "</table>\n",
       "</div>"
      ],
      "text/plain": [
       "\n",
       "                          Model  R2 score\n",
       "\u001b[1;36m0\u001b[0m      XGB regressorn hp optuna  \u001b[1;36m0.882430\u001b[0m\n",
       "\u001b[1;36m1\u001b[0m  catboost regressor optuna hp  \u001b[1;36m0.879953\u001b[0m\n",
       "\u001b[1;36m2\u001b[0m      LGBM regressor hp optuna  \u001b[1;36m0.879164\u001b[0m\n",
       "\u001b[1;36m3\u001b[0m                 XGB regressor  \u001b[1;36m0.877707\u001b[0m\n",
       "\u001b[1;36m4\u001b[0m       Decision tree regressor  \u001b[1;36m0.863341\u001b[0m\n",
       "\u001b[1;36m5\u001b[0m       Random forest regressor  \u001b[1;36m0.859392\u001b[0m\n",
       "\u001b[1;36m6\u001b[0m             Linear regression  \u001b[1;36m0.779229\u001b[0m"
      ]
     },
     "execution_count": 32,
     "metadata": {},
     "output_type": "execute_result"
    }
   ],
   "source": [
    "results_dataframe"
   ]
  },
  {
   "cell_type": "markdown",
   "metadata": {},
   "source": [
    "## Best models \n",
    "\n",
    "- XGB_regressor\n",
    "- Catboost regressor \n",
    "- LGBM regressor\n",
    "\n",
    "<hr/>\n",
    "\n",
    "### Next\n",
    "\n",
    "- Fit and save the final models using joblib\n",
    "- look at the three best scoring models and see if there is a way to further improve using methods such as ensemble. "
   ]
  },
  {
   "cell_type": "markdown",
   "metadata": {},
   "source": [
    "### Create function to fit the final models and store using joblib"
   ]
  },
  {
   "cell_type": "code",
   "execution_count": 33,
   "metadata": {},
   "outputs": [],
   "source": [
    "best_models_results_dict = (\n",
    "    {}\n",
    ")  # Store the results from the models -> convert to pd.dataframe\n",
    "\n",
    "\n",
    "def fit_and_predict(X_train, X_test, y_train, y_test, model, model_name, results_dict):\n",
    "\n",
    "    model = model\n",
    "    model.fit(X_train, y_train)\n",
    "    predictions = model.predict(X_test)\n",
    "    mse = mean_squared_error(y_test, predictions)\n",
    "    r2s = r2_score(y_test, predictions)\n",
    "    mae = mean_absolute_error(y_test, predictions)\n",
    "\n",
    "    results_dict[model_name] = r2s\n",
    "\n",
    "    print(\"Model: {}\".format(model_name))\n",
    "    print(f\"Mean Squared Error: {mse}\")\n",
    "    print(f\"Mean Absolute Error: {mae}\")\n",
    "    print(f\"r2 score: {r2s}\")\n",
    "\n",
    "    return model_name, model"
   ]
  },
  {
   "cell_type": "code",
   "execution_count": 34,
   "metadata": {},
   "outputs": [
    {
     "data": {
      "text/html": [
       "<pre style=\"white-space:pre;overflow-x:auto;line-height:normal;font-family:Menlo,'DejaVu Sans Mono',consolas,'Courier New',monospace\">Model: XGBRegressor\n",
       "</pre>\n"
      ],
      "text/plain": [
       "Model: XGBRegressor\n"
      ]
     },
     "metadata": {},
     "output_type": "display_data"
    },
    {
     "data": {
      "text/html": [
       "<pre style=\"white-space:pre;overflow-x:auto;line-height:normal;font-family:Menlo,'DejaVu Sans Mono',consolas,'Courier New',monospace\">Mean Squared Error: <span style=\"color: #008080; text-decoration-color: #008080; font-weight: bold\">18252609.91419815</span>\n",
       "</pre>\n"
      ],
      "text/plain": [
       "Mean Squared Error: \u001b[1;36m18252609.91419815\u001b[0m\n"
      ]
     },
     "metadata": {},
     "output_type": "display_data"
    },
    {
     "data": {
      "text/html": [
       "<pre style=\"white-space:pre;overflow-x:auto;line-height:normal;font-family:Menlo,'DejaVu Sans Mono',consolas,'Courier New',monospace\">Mean Absolute Error: <span style=\"color: #008080; text-decoration-color: #008080; font-weight: bold\">2443.9542167887703</span>\n",
       "</pre>\n"
      ],
      "text/plain": [
       "Mean Absolute Error: \u001b[1;36m2443.9542167887703\u001b[0m\n"
      ]
     },
     "metadata": {},
     "output_type": "display_data"
    },
    {
     "data": {
      "text/html": [
       "<pre style=\"white-space:pre;overflow-x:auto;line-height:normal;font-family:Menlo,'DejaVu Sans Mono',consolas,'Courier New',monospace\">r2 score: <span style=\"color: #008080; text-decoration-color: #008080; font-weight: bold\">0.8824298933794165</span>\n",
       "</pre>\n"
      ],
      "text/plain": [
       "r2 score: \u001b[1;36m0.8824298933794165\u001b[0m\n"
      ]
     },
     "metadata": {},
     "output_type": "display_data"
    },
    {
     "data": {
      "text/html": [
       "<pre style=\"white-space:pre;overflow-x:auto;line-height:normal;font-family:Menlo,'DejaVu Sans Mono',consolas,'Courier New',monospace\">XGBRegressor.pkl\n",
       "</pre>\n"
      ],
      "text/plain": [
       "XGBRegressor.pkl\n"
      ]
     },
     "metadata": {},
     "output_type": "display_data"
    },
    {
     "name": "stdout",
     "output_type": "stream",
     "text": [
      "0:\tlearn: 11874.8374633\ttotal: 1.06ms\tremaining: 424ms\n",
      "1:\tlearn: 11737.2022435\ttotal: 1.44ms\tremaining: 287ms\n",
      "2:\tlearn: 11604.4683017\ttotal: 1.6ms\tremaining: 212ms\n",
      "3:\tlearn: 11471.5000708\ttotal: 1.87ms\tremaining: 185ms\n",
      "4:\tlearn: 11343.1159921\ttotal: 2.07ms\tremaining: 164ms\n",
      "5:\tlearn: 11217.8297348\ttotal: 2.33ms\tremaining: 153ms\n",
      "6:\tlearn: 11093.7636672\ttotal: 2.51ms\tremaining: 141ms\n",
      "7:\tlearn: 10969.3116154\ttotal: 2.72ms\tremaining: 133ms\n",
      "8:\tlearn: 10846.1077512\ttotal: 2.88ms\tremaining: 125ms\n",
      "9:\tlearn: 10725.8128409\ttotal: 3.08ms\tremaining: 120ms\n",
      "10:\tlearn: 10608.5913768\ttotal: 3.33ms\tremaining: 118ms\n",
      "11:\tlearn: 10491.7136430\ttotal: 3.49ms\tremaining: 113ms\n",
      "12:\tlearn: 10378.9722953\ttotal: 3.72ms\tremaining: 111ms\n",
      "13:\tlearn: 10265.6425799\ttotal: 3.91ms\tremaining: 108ms\n",
      "14:\tlearn: 10153.5976052\ttotal: 4.08ms\tremaining: 105ms\n",
      "15:\tlearn: 10044.5705605\ttotal: 4.25ms\tremaining: 102ms\n",
      "16:\tlearn: 9938.4919778\ttotal: 4.44ms\tremaining: 100ms\n",
      "17:\tlearn: 9831.9689276\ttotal: 4.64ms\tremaining: 98.5ms\n",
      "18:\tlearn: 9727.8526009\ttotal: 4.8ms\tremaining: 96.3ms\n",
      "19:\tlearn: 9626.9597192\ttotal: 5.04ms\tremaining: 95.7ms\n",
      "20:\tlearn: 9528.0018033\ttotal: 5.19ms\tremaining: 93.6ms\n",
      "21:\tlearn: 9428.4898322\ttotal: 5.4ms\tremaining: 92.8ms\n",
      "22:\tlearn: 9333.1033831\ttotal: 5.59ms\tremaining: 91.6ms\n",
      "23:\tlearn: 9237.3532503\ttotal: 5.75ms\tremaining: 90.1ms\n",
      "24:\tlearn: 9144.5790291\ttotal: 5.92ms\tremaining: 88.7ms\n",
      "25:\tlearn: 9054.0332812\ttotal: 6.14ms\tremaining: 88.3ms\n",
      "26:\tlearn: 8965.2953490\ttotal: 6.29ms\tremaining: 86.8ms\n",
      "27:\tlearn: 8875.5810712\ttotal: 6.51ms\tremaining: 86.5ms\n",
      "28:\tlearn: 8787.6856274\ttotal: 6.67ms\tremaining: 85.4ms\n",
      "29:\tlearn: 8702.4940868\ttotal: 6.83ms\tremaining: 84.2ms\n",
      "30:\tlearn: 8617.8627220\ttotal: 7.08ms\tremaining: 84.2ms\n",
      "31:\tlearn: 8534.3145357\ttotal: 7.25ms\tremaining: 83.4ms\n",
      "32:\tlearn: 8454.2116178\ttotal: 7.42ms\tremaining: 82.5ms\n",
      "33:\tlearn: 8373.4246918\ttotal: 7.71ms\tremaining: 83ms\n",
      "34:\tlearn: 8295.1622049\ttotal: 7.91ms\tremaining: 82.5ms\n",
      "35:\tlearn: 8216.1191014\ttotal: 8.15ms\tremaining: 82.4ms\n",
      "36:\tlearn: 8139.5497601\ttotal: 8.33ms\tremaining: 81.7ms\n",
      "37:\tlearn: 8064.4676046\ttotal: 8.55ms\tremaining: 81.4ms\n",
      "38:\tlearn: 7991.4571705\ttotal: 8.74ms\tremaining: 80.9ms\n",
      "39:\tlearn: 7918.6209598\ttotal: 8.9ms\tremaining: 80.1ms\n",
      "40:\tlearn: 7846.3204736\ttotal: 9.14ms\tremaining: 80ms\n",
      "41:\tlearn: 7776.5759535\ttotal: 9.35ms\tremaining: 79.7ms\n",
      "42:\tlearn: 7708.0926118\ttotal: 9.51ms\tremaining: 78.9ms\n",
      "43:\tlearn: 7642.3289556\ttotal: 9.68ms\tremaining: 78.3ms\n",
      "44:\tlearn: 7577.8926067\ttotal: 9.84ms\tremaining: 77.6ms\n",
      "45:\tlearn: 7514.1643334\ttotal: 10ms\tremaining: 77.3ms\n",
      "46:\tlearn: 7452.5588561\ttotal: 10.2ms\tremaining: 76.8ms\n",
      "47:\tlearn: 7391.6285471\ttotal: 10.4ms\tremaining: 76.3ms\n",
      "48:\tlearn: 7329.4613843\ttotal: 10.7ms\tremaining: 76.6ms\n",
      "49:\tlearn: 7268.5714742\ttotal: 11ms\tremaining: 76.7ms\n",
      "50:\tlearn: 7208.9748598\ttotal: 11.2ms\tremaining: 76.3ms\n",
      "51:\tlearn: 7152.3991215\ttotal: 11.4ms\tremaining: 76.2ms\n",
      "52:\tlearn: 7095.2218899\ttotal: 11.6ms\tremaining: 75.9ms\n",
      "53:\tlearn: 7039.2380791\ttotal: 11.8ms\tremaining: 75.7ms\n",
      "54:\tlearn: 6984.1823397\ttotal: 12ms\tremaining: 75.4ms\n",
      "55:\tlearn: 6931.1041293\ttotal: 12.2ms\tremaining: 75.2ms\n",
      "56:\tlearn: 6879.0971901\ttotal: 12.6ms\tremaining: 75.6ms\n",
      "57:\tlearn: 6828.4552572\ttotal: 12.7ms\tremaining: 75.2ms\n",
      "58:\tlearn: 6777.7049638\ttotal: 13ms\tremaining: 75.1ms\n",
      "59:\tlearn: 6728.9610046\ttotal: 13.3ms\tremaining: 75.1ms\n",
      "60:\tlearn: 6680.8951771\ttotal: 13.5ms\tremaining: 75.3ms\n",
      "61:\tlearn: 6632.6130040\ttotal: 13.7ms\tremaining: 74.9ms\n",
      "62:\tlearn: 6584.9943104\ttotal: 14ms\tremaining: 74.6ms\n",
      "63:\tlearn: 6537.8411057\ttotal: 14.2ms\tremaining: 74.7ms\n",
      "64:\tlearn: 6492.6773131\ttotal: 15.2ms\tremaining: 78.6ms\n",
      "65:\tlearn: 6447.8963247\ttotal: 15.5ms\tremaining: 78.3ms\n",
      "66:\tlearn: 6404.2675148\ttotal: 15.7ms\tremaining: 78.1ms\n",
      "67:\tlearn: 6362.7488933\ttotal: 15.9ms\tremaining: 77.7ms\n",
      "68:\tlearn: 6321.4088416\ttotal: 16.2ms\tremaining: 77.6ms\n",
      "69:\tlearn: 6281.3505022\ttotal: 16.4ms\tremaining: 77.2ms\n",
      "70:\tlearn: 6240.8783127\ttotal: 16.6ms\tremaining: 76.7ms\n",
      "71:\tlearn: 6201.9935004\ttotal: 16.7ms\tremaining: 76.2ms\n",
      "72:\tlearn: 6164.0968456\ttotal: 17ms\tremaining: 76ms\n",
      "73:\tlearn: 6126.6644625\ttotal: 17.2ms\tremaining: 75.6ms\n",
      "74:\tlearn: 6089.1282180\ttotal: 17.4ms\tremaining: 75.3ms\n",
      "75:\tlearn: 6051.9695411\ttotal: 17.6ms\tremaining: 75.2ms\n",
      "76:\tlearn: 6017.4432423\ttotal: 17.9ms\tremaining: 74.9ms\n",
      "77:\tlearn: 5981.4808375\ttotal: 18ms\tremaining: 74.4ms\n",
      "78:\tlearn: 5949.2497946\ttotal: 18.2ms\tremaining: 74.1ms\n",
      "79:\tlearn: 5916.2377417\ttotal: 18.4ms\tremaining: 73.7ms\n",
      "80:\tlearn: 5882.6838608\ttotal: 18.6ms\tremaining: 73.3ms\n",
      "81:\tlearn: 5850.9852022\ttotal: 18.8ms\tremaining: 72.9ms\n",
      "82:\tlearn: 5818.7421148\ttotal: 19ms\tremaining: 72.6ms\n",
      "83:\tlearn: 5787.3369274\ttotal: 19.2ms\tremaining: 72.1ms\n",
      "84:\tlearn: 5757.4384629\ttotal: 19.4ms\tremaining: 71.8ms\n",
      "85:\tlearn: 5728.7224312\ttotal: 19.6ms\tremaining: 71.5ms\n",
      "86:\tlearn: 5700.0039935\ttotal: 19.7ms\tremaining: 71ms\n",
      "87:\tlearn: 5670.7679596\ttotal: 19.9ms\tremaining: 70.7ms\n",
      "88:\tlearn: 5643.0341499\ttotal: 20.2ms\tremaining: 70.5ms\n",
      "89:\tlearn: 5616.2787029\ttotal: 20.4ms\tremaining: 70.3ms\n",
      "90:\tlearn: 5589.6045507\ttotal: 20.6ms\tremaining: 69.9ms\n",
      "91:\tlearn: 5563.8961598\ttotal: 20.7ms\tremaining: 69.4ms\n",
      "92:\tlearn: 5538.6984237\ttotal: 20.9ms\tremaining: 69.1ms\n",
      "93:\tlearn: 5513.3771853\ttotal: 21.1ms\tremaining: 68.6ms\n",
      "94:\tlearn: 5489.6045160\ttotal: 21.3ms\tremaining: 68.3ms\n",
      "95:\tlearn: 5466.5084937\ttotal: 21.6ms\tremaining: 68.3ms\n",
      "96:\tlearn: 5444.1197674\ttotal: 21.8ms\tremaining: 68ms\n",
      "97:\tlearn: 5421.3618218\ttotal: 22ms\tremaining: 67.8ms\n",
      "98:\tlearn: 5398.8991824\ttotal: 22.2ms\tremaining: 67.5ms\n",
      "99:\tlearn: 5376.9500830\ttotal: 22.3ms\tremaining: 67ms\n",
      "100:\tlearn: 5356.2788572\ttotal: 22.6ms\tremaining: 66.8ms\n",
      "101:\tlearn: 5335.5665570\ttotal: 22.7ms\tremaining: 66.4ms\n",
      "102:\tlearn: 5315.5687917\ttotal: 22.9ms\tremaining: 66.2ms\n",
      "103:\tlearn: 5295.9751670\ttotal: 23.2ms\tremaining: 66.1ms\n",
      "104:\tlearn: 5276.4801245\ttotal: 23.5ms\tremaining: 66ms\n",
      "105:\tlearn: 5256.9669491\ttotal: 23.8ms\tremaining: 66ms\n",
      "106:\tlearn: 5238.6053009\ttotal: 24ms\tremaining: 65.6ms\n",
      "107:\tlearn: 5221.0987434\ttotal: 24.2ms\tremaining: 65.4ms\n",
      "108:\tlearn: 5203.5668495\ttotal: 24.4ms\tremaining: 65.2ms\n",
      "109:\tlearn: 5185.7106630\ttotal: 24.6ms\tremaining: 64.8ms\n",
      "110:\tlearn: 5168.9258525\ttotal: 24.8ms\tremaining: 64.5ms\n",
      "111:\tlearn: 5151.6132618\ttotal: 25ms\tremaining: 64.4ms\n",
      "112:\tlearn: 5136.0252965\ttotal: 25.3ms\tremaining: 64.1ms\n",
      "113:\tlearn: 5120.0739360\ttotal: 25.5ms\tremaining: 63.9ms\n",
      "114:\tlearn: 5103.9664236\ttotal: 25.6ms\tremaining: 63.5ms\n",
      "115:\tlearn: 5088.8666733\ttotal: 25.8ms\tremaining: 63.2ms\n",
      "116:\tlearn: 5073.6954968\ttotal: 26ms\tremaining: 62.9ms\n",
      "117:\tlearn: 5059.0465837\ttotal: 26.2ms\tremaining: 62.6ms\n",
      "118:\tlearn: 5044.1882918\ttotal: 26.4ms\tremaining: 62.4ms\n",
      "119:\tlearn: 5030.6045209\ttotal: 26.6ms\tremaining: 62.1ms\n",
      "120:\tlearn: 5017.0957765\ttotal: 26.9ms\tremaining: 62ms\n",
      "121:\tlearn: 5003.1507476\ttotal: 27.1ms\tremaining: 61.7ms\n",
      "122:\tlearn: 4989.6116400\ttotal: 27.4ms\tremaining: 61.8ms\n",
      "123:\tlearn: 4976.5687798\ttotal: 27.6ms\tremaining: 61.5ms\n",
      "124:\tlearn: 4963.8856403\ttotal: 27.8ms\tremaining: 61.2ms\n",
      "125:\tlearn: 4951.2198670\ttotal: 28.1ms\tremaining: 61ms\n",
      "126:\tlearn: 4939.5108831\ttotal: 28.2ms\tremaining: 60.7ms\n",
      "127:\tlearn: 4927.5597504\ttotal: 28.6ms\tremaining: 60.9ms\n",
      "128:\tlearn: 4916.6479826\ttotal: 29ms\tremaining: 61ms\n",
      "129:\tlearn: 4905.6053002\ttotal: 29.3ms\tremaining: 60.8ms\n",
      "130:\tlearn: 4894.4291700\ttotal: 29.5ms\tremaining: 60.6ms\n",
      "131:\tlearn: 4883.4007988\ttotal: 29.8ms\tremaining: 60.6ms\n",
      "132:\tlearn: 4872.9717432\ttotal: 30.1ms\tremaining: 60.4ms\n",
      "133:\tlearn: 4862.3999998\ttotal: 30.3ms\tremaining: 60.1ms\n",
      "134:\tlearn: 4852.4298978\ttotal: 30.5ms\tremaining: 59.8ms\n",
      "135:\tlearn: 4842.3439067\ttotal: 30.7ms\tremaining: 59.6ms\n",
      "136:\tlearn: 4832.5616887\ttotal: 30.9ms\tremaining: 59.2ms\n",
      "137:\tlearn: 4822.9052209\ttotal: 31.1ms\tremaining: 59ms\n",
      "138:\tlearn: 4813.4965626\ttotal: 31.3ms\tremaining: 58.8ms\n",
      "139:\tlearn: 4804.5316410\ttotal: 31.6ms\tremaining: 58.7ms\n",
      "140:\tlearn: 4795.5864743\ttotal: 31.8ms\tremaining: 58.3ms\n",
      "141:\tlearn: 4787.0595908\ttotal: 31.9ms\tremaining: 58ms\n",
      "142:\tlearn: 4778.6815194\ttotal: 32.1ms\tremaining: 57.7ms\n",
      "143:\tlearn: 4769.7856640\ttotal: 32.3ms\tremaining: 57.5ms\n",
      "144:\tlearn: 4761.2426608\ttotal: 32.5ms\tremaining: 57.2ms\n",
      "145:\tlearn: 4753.2987838\ttotal: 32.7ms\tremaining: 57ms\n",
      "146:\tlearn: 4745.7641256\ttotal: 33ms\tremaining: 56.7ms\n",
      "147:\tlearn: 4737.9742266\ttotal: 33.1ms\tremaining: 56.4ms\n",
      "148:\tlearn: 4730.4527984\ttotal: 33.3ms\tremaining: 56.1ms\n",
      "149:\tlearn: 4723.3257470\ttotal: 33.5ms\tremaining: 55.9ms\n",
      "150:\tlearn: 4715.9430076\ttotal: 33.7ms\tremaining: 55.6ms\n",
      "151:\tlearn: 4709.1022142\ttotal: 33.9ms\tremaining: 55.3ms\n",
      "152:\tlearn: 4702.4732580\ttotal: 34.1ms\tremaining: 55ms\n",
      "153:\tlearn: 4696.2388447\ttotal: 34.3ms\tremaining: 54.8ms\n",
      "154:\tlearn: 4689.6817729\ttotal: 34.5ms\tremaining: 54.5ms\n",
      "155:\tlearn: 4683.3406944\ttotal: 34.7ms\tremaining: 54.3ms\n",
      "156:\tlearn: 4676.9137257\ttotal: 35ms\tremaining: 54.2ms\n",
      "157:\tlearn: 4670.5298662\ttotal: 35.2ms\tremaining: 54ms\n",
      "158:\tlearn: 4664.7228655\ttotal: 35.4ms\tremaining: 53.7ms\n",
      "159:\tlearn: 4658.5057922\ttotal: 35.6ms\tremaining: 53.4ms\n",
      "160:\tlearn: 4652.8115364\ttotal: 35.9ms\tremaining: 53.2ms\n",
      "161:\tlearn: 4646.4366092\ttotal: 36.1ms\tremaining: 53ms\n",
      "162:\tlearn: 4640.5188315\ttotal: 36.3ms\tremaining: 52.8ms\n",
      "163:\tlearn: 4634.7681909\ttotal: 36.5ms\tremaining: 52.5ms\n",
      "164:\tlearn: 4628.9331152\ttotal: 36.7ms\tremaining: 52.2ms\n",
      "165:\tlearn: 4623.8719630\ttotal: 36.9ms\tremaining: 52ms\n",
      "166:\tlearn: 4618.2122148\ttotal: 37.1ms\tremaining: 51.7ms\n",
      "167:\tlearn: 4613.0857211\ttotal: 37.2ms\tremaining: 51.4ms\n",
      "168:\tlearn: 4607.8355119\ttotal: 37.4ms\tremaining: 51.2ms\n",
      "169:\tlearn: 4603.0331460\ttotal: 37.7ms\tremaining: 51ms\n",
      "170:\tlearn: 4598.3532305\ttotal: 37.8ms\tremaining: 50.7ms\n",
      "171:\tlearn: 4593.6297662\ttotal: 38.1ms\tremaining: 50.5ms\n",
      "172:\tlearn: 4589.1033561\ttotal: 38.3ms\tremaining: 50.3ms\n",
      "173:\tlearn: 4584.2924844\ttotal: 38.5ms\tremaining: 50ms\n",
      "174:\tlearn: 4579.7419521\ttotal: 38.7ms\tremaining: 49.8ms\n",
      "175:\tlearn: 4575.3994926\ttotal: 38.9ms\tremaining: 49.5ms\n",
      "176:\tlearn: 4570.8894425\ttotal: 39.1ms\tremaining: 49.3ms\n",
      "177:\tlearn: 4566.3667345\ttotal: 39.3ms\tremaining: 49ms\n",
      "178:\tlearn: 4561.9322078\ttotal: 39.5ms\tremaining: 48.8ms\n",
      "179:\tlearn: 4557.6286572\ttotal: 39.7ms\tremaining: 48.6ms\n",
      "180:\tlearn: 4553.5787451\ttotal: 39.9ms\tremaining: 48.3ms\n",
      "181:\tlearn: 4549.5758362\ttotal: 40.1ms\tremaining: 48.1ms\n",
      "182:\tlearn: 4545.8242678\ttotal: 40.3ms\tremaining: 47.8ms\n",
      "183:\tlearn: 4541.5597676\ttotal: 40.5ms\tremaining: 47.5ms\n",
      "184:\tlearn: 4538.0397309\ttotal: 40.7ms\tremaining: 47.3ms\n",
      "185:\tlearn: 4533.8087275\ttotal: 40.9ms\tremaining: 47.1ms\n",
      "186:\tlearn: 4530.3411224\ttotal: 41.1ms\tremaining: 46.8ms\n",
      "187:\tlearn: 4526.4073426\ttotal: 41.4ms\tremaining: 46.7ms\n",
      "188:\tlearn: 4522.6663521\ttotal: 41.6ms\tremaining: 46.4ms\n",
      "189:\tlearn: 4519.4235904\ttotal: 41.8ms\tremaining: 46.2ms\n",
      "190:\tlearn: 4516.0218251\ttotal: 42ms\tremaining: 45.9ms\n",
      "191:\tlearn: 4512.4567392\ttotal: 42.2ms\tremaining: 45.7ms\n",
      "192:\tlearn: 4508.8410275\ttotal: 42.4ms\tremaining: 45.5ms\n",
      "193:\tlearn: 4505.4872729\ttotal: 42.5ms\tremaining: 45.2ms\n",
      "194:\tlearn: 4502.4261947\ttotal: 42.7ms\tremaining: 44.9ms\n",
      "195:\tlearn: 4499.3163500\ttotal: 43ms\tremaining: 44.7ms\n",
      "196:\tlearn: 4495.8554389\ttotal: 43.2ms\tremaining: 44.5ms\n",
      "197:\tlearn: 4492.7328724\ttotal: 43.4ms\tremaining: 44.3ms\n",
      "198:\tlearn: 4489.6763806\ttotal: 43.6ms\tremaining: 44ms\n",
      "199:\tlearn: 4486.8069501\ttotal: 43.8ms\tremaining: 43.8ms\n",
      "200:\tlearn: 4483.7644308\ttotal: 44ms\tremaining: 43.6ms\n",
      "201:\tlearn: 4481.1805835\ttotal: 44.2ms\tremaining: 43.4ms\n",
      "202:\tlearn: 4478.4259460\ttotal: 44.6ms\tremaining: 43.2ms\n",
      "203:\tlearn: 4475.5147165\ttotal: 44.7ms\tremaining: 43ms\n",
      "204:\tlearn: 4472.6762539\ttotal: 45ms\tremaining: 42.8ms\n",
      "205:\tlearn: 4470.1011802\ttotal: 45.3ms\tremaining: 42.6ms\n",
      "206:\tlearn: 4467.5653332\ttotal: 45.4ms\tremaining: 42.4ms\n",
      "207:\tlearn: 4464.9272012\ttotal: 45.6ms\tremaining: 42.1ms\n",
      "208:\tlearn: 4462.3161222\ttotal: 45.8ms\tremaining: 41.8ms\n",
      "209:\tlearn: 4459.5544634\ttotal: 46ms\tremaining: 41.6ms\n",
      "210:\tlearn: 4457.0951867\ttotal: 46.3ms\tremaining: 41.5ms\n",
      "211:\tlearn: 4454.5872260\ttotal: 46.5ms\tremaining: 41.2ms\n",
      "212:\tlearn: 4452.5155009\ttotal: 46.8ms\tremaining: 41.1ms\n",
      "213:\tlearn: 4450.0966811\ttotal: 46.9ms\tremaining: 40.8ms\n",
      "214:\tlearn: 4447.6874574\ttotal: 47.1ms\tremaining: 40.5ms\n",
      "215:\tlearn: 4445.3330391\ttotal: 47.3ms\tremaining: 40.3ms\n",
      "216:\tlearn: 4443.1514696\ttotal: 47.6ms\tremaining: 40.1ms\n",
      "217:\tlearn: 4441.0047830\ttotal: 47.7ms\tremaining: 39.8ms\n",
      "218:\tlearn: 4438.6666155\ttotal: 48ms\tremaining: 39.7ms\n",
      "219:\tlearn: 4436.5405779\ttotal: 48.2ms\tremaining: 39.4ms\n",
      "220:\tlearn: 4434.7140991\ttotal: 48.4ms\tremaining: 39.2ms\n",
      "221:\tlearn: 4432.7519010\ttotal: 48.6ms\tremaining: 39ms\n",
      "222:\tlearn: 4430.5240535\ttotal: 48.8ms\tremaining: 38.7ms\n",
      "223:\tlearn: 4428.3381825\ttotal: 49.1ms\tremaining: 38.6ms\n",
      "224:\tlearn: 4426.3224060\ttotal: 49.3ms\tremaining: 38.4ms\n",
      "225:\tlearn: 4424.3530242\ttotal: 49.5ms\tremaining: 38.1ms\n",
      "226:\tlearn: 4422.3501269\ttotal: 49.7ms\tremaining: 37.9ms\n",
      "227:\tlearn: 4420.6458503\ttotal: 49.9ms\tremaining: 37.7ms\n",
      "228:\tlearn: 4418.7072629\ttotal: 50.1ms\tremaining: 37.4ms\n",
      "229:\tlearn: 4417.0809184\ttotal: 50.3ms\tremaining: 37.2ms\n",
      "230:\tlearn: 4415.3898268\ttotal: 50.6ms\tremaining: 37ms\n",
      "231:\tlearn: 4413.5571969\ttotal: 50.8ms\tremaining: 36.8ms\n",
      "232:\tlearn: 4411.4178880\ttotal: 51ms\tremaining: 36.6ms\n",
      "233:\tlearn: 4409.6407410\ttotal: 51.2ms\tremaining: 36.3ms\n",
      "234:\tlearn: 4407.6475015\ttotal: 51.4ms\tremaining: 36.1ms\n",
      "235:\tlearn: 4405.4794325\ttotal: 51.6ms\tremaining: 35.9ms\n",
      "236:\tlearn: 4403.3137531\ttotal: 51.9ms\tremaining: 35.7ms\n",
      "237:\tlearn: 4401.4977227\ttotal: 52ms\tremaining: 35.4ms\n",
      "238:\tlearn: 4399.7955060\ttotal: 52.3ms\tremaining: 35.2ms\n",
      "239:\tlearn: 4398.1968141\ttotal: 52.5ms\tremaining: 35ms\n",
      "240:\tlearn: 4396.5001746\ttotal: 52.7ms\tremaining: 34.8ms\n",
      "241:\tlearn: 4394.3929914\ttotal: 52.8ms\tremaining: 34.5ms\n",
      "242:\tlearn: 4392.7711936\ttotal: 53.1ms\tremaining: 34.3ms\n",
      "243:\tlearn: 4391.1546733\ttotal: 53.3ms\tremaining: 34.1ms\n",
      "244:\tlearn: 4389.5234646\ttotal: 53.5ms\tremaining: 33.9ms\n",
      "245:\tlearn: 4387.6045627\ttotal: 53.8ms\tremaining: 33.7ms\n",
      "246:\tlearn: 4385.8986669\ttotal: 54ms\tremaining: 33.4ms\n",
      "247:\tlearn: 4384.1452636\ttotal: 54.2ms\tremaining: 33.2ms\n",
      "248:\tlearn: 4382.5921930\ttotal: 54.4ms\tremaining: 33ms\n",
      "249:\tlearn: 4381.0427514\ttotal: 54.7ms\tremaining: 32.8ms\n",
      "250:\tlearn: 4379.4702539\ttotal: 54.9ms\tremaining: 32.6ms\n",
      "251:\tlearn: 4378.1184584\ttotal: 55.1ms\tremaining: 32.3ms\n",
      "252:\tlearn: 4376.4585986\ttotal: 55.3ms\tremaining: 32.1ms\n",
      "253:\tlearn: 4374.6548214\ttotal: 55.5ms\tremaining: 31.9ms\n",
      "254:\tlearn: 4373.4040736\ttotal: 55.6ms\tremaining: 31.6ms\n",
      "255:\tlearn: 4371.8948663\ttotal: 55.8ms\tremaining: 31.4ms\n",
      "256:\tlearn: 4370.4171073\ttotal: 56.1ms\tremaining: 31.2ms\n",
      "257:\tlearn: 4368.9980454\ttotal: 56.2ms\tremaining: 30.9ms\n",
      "258:\tlearn: 4367.6423111\ttotal: 56.4ms\tremaining: 30.7ms\n",
      "259:\tlearn: 4366.2639541\ttotal: 56.6ms\tremaining: 30.5ms\n",
      "260:\tlearn: 4365.0692733\ttotal: 56.8ms\tremaining: 30.3ms\n",
      "261:\tlearn: 4363.8847188\ttotal: 57ms\tremaining: 30ms\n",
      "262:\tlearn: 4362.6347288\ttotal: 57.2ms\tremaining: 29.8ms\n",
      "263:\tlearn: 4361.4196999\ttotal: 57.4ms\tremaining: 29.6ms\n",
      "264:\tlearn: 4360.4169719\ttotal: 57.6ms\tremaining: 29.3ms\n",
      "265:\tlearn: 4359.1365987\ttotal: 57.9ms\tremaining: 29.1ms\n",
      "266:\tlearn: 4357.5840419\ttotal: 58ms\tremaining: 28.9ms\n",
      "267:\tlearn: 4356.2006248\ttotal: 58.2ms\tremaining: 28.7ms\n",
      "268:\tlearn: 4355.1659110\ttotal: 58.4ms\tremaining: 28.4ms\n",
      "269:\tlearn: 4353.6828067\ttotal: 58.6ms\tremaining: 28.2ms\n",
      "270:\tlearn: 4352.4401164\ttotal: 59ms\tremaining: 28.1ms\n",
      "271:\tlearn: 4351.2222814\ttotal: 59.3ms\tremaining: 27.9ms\n",
      "272:\tlearn: 4350.0202692\ttotal: 59.5ms\tremaining: 27.7ms\n",
      "273:\tlearn: 4348.7497419\ttotal: 59.7ms\tremaining: 27.4ms\n",
      "274:\tlearn: 4345.8790768\ttotal: 59.9ms\tremaining: 27.2ms\n",
      "275:\tlearn: 4344.6970969\ttotal: 60.1ms\tremaining: 27ms\n",
      "276:\tlearn: 4343.6201763\ttotal: 60.3ms\tremaining: 26.8ms\n",
      "277:\tlearn: 4342.4132556\ttotal: 60.5ms\tremaining: 26.5ms\n",
      "278:\tlearn: 4341.3741097\ttotal: 60.7ms\tremaining: 26.3ms\n",
      "279:\tlearn: 4340.4082638\ttotal: 60.9ms\tremaining: 26.1ms\n",
      "280:\tlearn: 4338.8714670\ttotal: 61.1ms\tremaining: 25.9ms\n",
      "281:\tlearn: 4337.6421928\ttotal: 61.4ms\tremaining: 25.7ms\n",
      "282:\tlearn: 4336.3951691\ttotal: 61.6ms\tremaining: 25.5ms\n",
      "283:\tlearn: 4335.2524718\ttotal: 61.8ms\tremaining: 25.3ms\n",
      "284:\tlearn: 4334.1952924\ttotal: 62.1ms\tremaining: 25.1ms\n",
      "285:\tlearn: 4332.8861286\ttotal: 62.4ms\tremaining: 24.9ms\n",
      "286:\tlearn: 4331.4038953\ttotal: 62.7ms\tremaining: 24.7ms\n",
      "287:\tlearn: 4329.9341634\ttotal: 62.8ms\tremaining: 24.4ms\n",
      "288:\tlearn: 4328.7239707\ttotal: 63ms\tremaining: 24.2ms\n",
      "289:\tlearn: 4327.8165451\ttotal: 63.3ms\tremaining: 24ms\n",
      "290:\tlearn: 4326.6558872\ttotal: 63.5ms\tremaining: 23.8ms\n",
      "291:\tlearn: 4325.5878443\ttotal: 63.7ms\tremaining: 23.6ms\n",
      "292:\tlearn: 4324.6195810\ttotal: 63.9ms\tremaining: 23.3ms\n",
      "293:\tlearn: 4323.5060332\ttotal: 64.1ms\tremaining: 23.1ms\n",
      "294:\tlearn: 4322.5417746\ttotal: 64.4ms\tremaining: 22.9ms\n",
      "295:\tlearn: 4321.5927577\ttotal: 64.6ms\tremaining: 22.7ms\n",
      "296:\tlearn: 4320.7933023\ttotal: 64.8ms\tremaining: 22.5ms\n",
      "297:\tlearn: 4319.6983410\ttotal: 65ms\tremaining: 22.2ms\n",
      "298:\tlearn: 4318.6218047\ttotal: 65.1ms\tremaining: 22ms\n",
      "299:\tlearn: 4317.5841810\ttotal: 65.4ms\tremaining: 21.8ms\n",
      "300:\tlearn: 4316.5171891\ttotal: 65.5ms\tremaining: 21.6ms\n",
      "301:\tlearn: 4315.7811576\ttotal: 65.7ms\tremaining: 21.3ms\n",
      "302:\tlearn: 4314.3606003\ttotal: 65.9ms\tremaining: 21.1ms\n",
      "303:\tlearn: 4313.1730115\ttotal: 66.1ms\tremaining: 20.9ms\n",
      "304:\tlearn: 4312.4146246\ttotal: 66.3ms\tremaining: 20.6ms\n",
      "305:\tlearn: 4311.4381314\ttotal: 66.5ms\tremaining: 20.4ms\n",
      "306:\tlearn: 4310.7323152\ttotal: 66.7ms\tremaining: 20.2ms\n",
      "307:\tlearn: 4309.9112148\ttotal: 66.9ms\tremaining: 20ms\n",
      "308:\tlearn: 4309.1190046\ttotal: 67.1ms\tremaining: 19.8ms\n",
      "309:\tlearn: 4308.0265765\ttotal: 67.3ms\tremaining: 19.5ms\n",
      "310:\tlearn: 4307.1182723\ttotal: 67.5ms\tremaining: 19.3ms\n",
      "311:\tlearn: 4306.3368943\ttotal: 67.6ms\tremaining: 19.1ms\n",
      "312:\tlearn: 4304.8053136\ttotal: 67.9ms\tremaining: 18.9ms\n",
      "313:\tlearn: 4303.8562153\ttotal: 68ms\tremaining: 18.6ms\n",
      "314:\tlearn: 4303.0535487\ttotal: 68.2ms\tremaining: 18.4ms\n",
      "315:\tlearn: 4301.4165471\ttotal: 68.4ms\tremaining: 18.2ms\n",
      "316:\tlearn: 4300.3075583\ttotal: 68.6ms\tremaining: 18ms\n",
      "317:\tlearn: 4299.3154950\ttotal: 68.8ms\tremaining: 17.7ms\n",
      "318:\tlearn: 4298.4509030\ttotal: 69ms\tremaining: 17.5ms\n",
      "319:\tlearn: 4297.5685588\ttotal: 69.2ms\tremaining: 17.3ms\n",
      "320:\tlearn: 4296.0428112\ttotal: 69.4ms\tremaining: 17.1ms\n",
      "321:\tlearn: 4294.9883045\ttotal: 69.6ms\tremaining: 16.9ms\n",
      "322:\tlearn: 4294.0011828\ttotal: 69.8ms\tremaining: 16.6ms\n",
      "323:\tlearn: 4291.3829160\ttotal: 70.1ms\tremaining: 16.5ms\n",
      "324:\tlearn: 4289.9726304\ttotal: 70.3ms\tremaining: 16.2ms\n",
      "325:\tlearn: 4289.1710353\ttotal: 70.5ms\tremaining: 16ms\n",
      "326:\tlearn: 4288.3281072\ttotal: 70.7ms\tremaining: 15.8ms\n",
      "327:\tlearn: 4285.7701192\ttotal: 70.9ms\tremaining: 15.6ms\n",
      "328:\tlearn: 4285.0292322\ttotal: 71.1ms\tremaining: 15.3ms\n",
      "329:\tlearn: 4284.3413501\ttotal: 71.3ms\tremaining: 15.1ms\n",
      "330:\tlearn: 4283.5341979\ttotal: 71.6ms\tremaining: 14.9ms\n",
      "331:\tlearn: 4282.1221361\ttotal: 71.8ms\tremaining: 14.7ms\n",
      "332:\tlearn: 4280.9998827\ttotal: 72ms\tremaining: 14.5ms\n",
      "333:\tlearn: 4279.9631512\ttotal: 72.2ms\tremaining: 14.3ms\n",
      "334:\tlearn: 4279.1577725\ttotal: 72.3ms\tremaining: 14ms\n",
      "335:\tlearn: 4278.5256253\ttotal: 72.6ms\tremaining: 13.8ms\n",
      "336:\tlearn: 4277.9451332\ttotal: 72.8ms\tremaining: 13.6ms\n",
      "337:\tlearn: 4277.0611812\ttotal: 73.1ms\tremaining: 13.4ms\n",
      "338:\tlearn: 4275.7469415\ttotal: 73.3ms\tremaining: 13.2ms\n",
      "339:\tlearn: 4274.8812266\ttotal: 73.5ms\tremaining: 13ms\n",
      "340:\tlearn: 4274.1926883\ttotal: 73.8ms\tremaining: 12.8ms\n",
      "341:\tlearn: 4273.5589398\ttotal: 74ms\tremaining: 12.5ms\n",
      "342:\tlearn: 4272.7396770\ttotal: 74.2ms\tremaining: 12.3ms\n",
      "343:\tlearn: 4271.8070341\ttotal: 74.4ms\tremaining: 12.1ms\n",
      "344:\tlearn: 4271.0866579\ttotal: 74.5ms\tremaining: 11.9ms\n",
      "345:\tlearn: 4270.3857464\ttotal: 74.8ms\tremaining: 11.7ms\n",
      "346:\tlearn: 4269.3417330\ttotal: 75ms\tremaining: 11.5ms\n",
      "347:\tlearn: 4268.6664649\ttotal: 75.2ms\tremaining: 11.2ms\n",
      "348:\tlearn: 4268.0901112\ttotal: 75.5ms\tremaining: 11ms\n",
      "349:\tlearn: 4267.4422258\ttotal: 75.7ms\tremaining: 10.8ms\n",
      "350:\tlearn: 4266.8650951\ttotal: 75.9ms\tremaining: 10.6ms\n",
      "351:\tlearn: 4266.1187027\ttotal: 76.1ms\tremaining: 10.4ms\n",
      "352:\tlearn: 4265.3816931\ttotal: 76.3ms\tremaining: 10.2ms\n",
      "353:\tlearn: 4264.3498312\ttotal: 76.6ms\tremaining: 9.95ms\n",
      "354:\tlearn: 4263.9057855\ttotal: 76.8ms\tremaining: 9.73ms\n",
      "355:\tlearn: 4263.2191925\ttotal: 77ms\tremaining: 9.52ms\n",
      "356:\tlearn: 4262.6208070\ttotal: 77.1ms\tremaining: 9.29ms\n",
      "357:\tlearn: 4262.1011080\ttotal: 77.3ms\tremaining: 9.07ms\n",
      "358:\tlearn: 4260.9046059\ttotal: 77.5ms\tremaining: 8.86ms\n",
      "359:\tlearn: 4260.1540071\ttotal: 77.7ms\tremaining: 8.64ms\n",
      "360:\tlearn: 4259.2479295\ttotal: 77.9ms\tremaining: 8.42ms\n",
      "361:\tlearn: 4258.5191954\ttotal: 78.1ms\tremaining: 8.2ms\n",
      "362:\tlearn: 4257.8047725\ttotal: 78.3ms\tremaining: 7.98ms\n",
      "363:\tlearn: 4257.0958997\ttotal: 78.5ms\tremaining: 7.76ms\n",
      "364:\tlearn: 4256.3073532\ttotal: 78.7ms\tremaining: 7.54ms\n",
      "365:\tlearn: 4255.6599011\ttotal: 78.8ms\tremaining: 7.32ms\n",
      "366:\tlearn: 4254.2436005\ttotal: 79.1ms\tremaining: 7.11ms\n",
      "367:\tlearn: 4253.3706131\ttotal: 79.3ms\tremaining: 6.89ms\n",
      "368:\tlearn: 4252.0060285\ttotal: 79.5ms\tremaining: 6.68ms\n",
      "369:\tlearn: 4250.9952367\ttotal: 79.7ms\tremaining: 6.46ms\n",
      "370:\tlearn: 4250.3691887\ttotal: 79.8ms\tremaining: 6.24ms\n",
      "371:\tlearn: 4249.1993671\ttotal: 80.1ms\tremaining: 6.03ms\n",
      "372:\tlearn: 4248.4269182\ttotal: 80.4ms\tremaining: 5.82ms\n",
      "373:\tlearn: 4247.1273086\ttotal: 80.7ms\tremaining: 5.61ms\n",
      "374:\tlearn: 4246.4873840\ttotal: 80.9ms\tremaining: 5.39ms\n",
      "375:\tlearn: 4245.7158175\ttotal: 81.1ms\tremaining: 5.18ms\n",
      "376:\tlearn: 4244.8981512\ttotal: 81.3ms\tremaining: 4.96ms\n",
      "377:\tlearn: 4244.3915683\ttotal: 81.6ms\tremaining: 4.75ms\n",
      "378:\tlearn: 4243.7440055\ttotal: 81.7ms\tremaining: 4.53ms\n",
      "379:\tlearn: 4243.0197172\ttotal: 81.9ms\tremaining: 4.31ms\n",
      "380:\tlearn: 4241.8045659\ttotal: 82.1ms\tremaining: 4.09ms\n",
      "381:\tlearn: 4241.4661662\ttotal: 82.3ms\tremaining: 3.88ms\n",
      "382:\tlearn: 4239.1302301\ttotal: 82.5ms\tremaining: 3.66ms\n",
      "383:\tlearn: 4237.8962491\ttotal: 82.7ms\tremaining: 3.44ms\n",
      "384:\tlearn: 4237.3275045\ttotal: 82.9ms\tremaining: 3.23ms\n",
      "385:\tlearn: 4236.7592085\ttotal: 83.1ms\tremaining: 3.01ms\n",
      "386:\tlearn: 4236.1562872\ttotal: 83.3ms\tremaining: 2.8ms\n",
      "387:\tlearn: 4235.3190959\ttotal: 83.4ms\tremaining: 2.58ms\n",
      "388:\tlearn: 4234.4882209\ttotal: 83.6ms\tremaining: 2.36ms\n",
      "389:\tlearn: 4233.8079363\ttotal: 83.8ms\tremaining: 2.15ms\n",
      "390:\tlearn: 4233.2011210\ttotal: 83.9ms\tremaining: 1.93ms\n",
      "391:\tlearn: 4232.3224476\ttotal: 84.2ms\tremaining: 1.72ms\n",
      "392:\tlearn: 4231.4857087\ttotal: 84.4ms\tremaining: 1.5ms\n",
      "393:\tlearn: 4230.8162934\ttotal: 84.6ms\tremaining: 1.29ms\n",
      "394:\tlearn: 4229.7901586\ttotal: 84.7ms\tremaining: 1.07ms\n",
      "395:\tlearn: 4228.7192545\ttotal: 84.9ms\tremaining: 857us\n",
      "396:\tlearn: 4227.1334491\ttotal: 85.1ms\tremaining: 642us\n",
      "397:\tlearn: 4226.4934639\ttotal: 85.2ms\tremaining: 428us\n",
      "398:\tlearn: 4225.3003556\ttotal: 85.4ms\tremaining: 214us\n",
      "399:\tlearn: 4224.7587272\ttotal: 85.7ms\tremaining: 0us\n"
     ]
    },
    {
     "data": {
      "text/html": [
       "<pre style=\"white-space:pre;overflow-x:auto;line-height:normal;font-family:Menlo,'DejaVu Sans Mono',consolas,'Courier New',monospace\">Model: CatBoostRegressor\n",
       "</pre>\n"
      ],
      "text/plain": [
       "Model: CatBoostRegressor\n"
      ]
     },
     "metadata": {},
     "output_type": "display_data"
    },
    {
     "data": {
      "text/html": [
       "<pre style=\"white-space:pre;overflow-x:auto;line-height:normal;font-family:Menlo,'DejaVu Sans Mono',consolas,'Courier New',monospace\">Mean Squared Error: <span style=\"color: #008080; text-decoration-color: #008080; font-weight: bold\">18637106.059977632</span>\n",
       "</pre>\n"
      ],
      "text/plain": [
       "Mean Squared Error: \u001b[1;36m18637106.059977632\u001b[0m\n"
      ]
     },
     "metadata": {},
     "output_type": "display_data"
    },
    {
     "data": {
      "text/html": [
       "<pre style=\"white-space:pre;overflow-x:auto;line-height:normal;font-family:Menlo,'DejaVu Sans Mono',consolas,'Courier New',monospace\">Mean Absolute Error: <span style=\"color: #008080; text-decoration-color: #008080; font-weight: bold\">2458.115189351549</span>\n",
       "</pre>\n"
      ],
      "text/plain": [
       "Mean Absolute Error: \u001b[1;36m2458.115189351549\u001b[0m\n"
      ]
     },
     "metadata": {},
     "output_type": "display_data"
    },
    {
     "data": {
      "text/html": [
       "<pre style=\"white-space:pre;overflow-x:auto;line-height:normal;font-family:Menlo,'DejaVu Sans Mono',consolas,'Courier New',monospace\">r2 score: <span style=\"color: #008080; text-decoration-color: #008080; font-weight: bold\">0.8799532474056627</span>\n",
       "</pre>\n"
      ],
      "text/plain": [
       "r2 score: \u001b[1;36m0.8799532474056627\u001b[0m\n"
      ]
     },
     "metadata": {},
     "output_type": "display_data"
    },
    {
     "data": {
      "text/html": [
       "<pre style=\"white-space:pre;overflow-x:auto;line-height:normal;font-family:Menlo,'DejaVu Sans Mono',consolas,'Courier New',monospace\">CatBoostRegressor.pkl\n",
       "</pre>\n"
      ],
      "text/plain": [
       "CatBoostRegressor.pkl\n"
      ]
     },
     "metadata": {},
     "output_type": "display_data"
    },
    {
     "name": "stdout",
     "output_type": "stream",
     "text": [
      "[LightGBM] [Warning] Found whitespace in feature_names, replace with underlines\n",
      "[LightGBM] [Info] Auto-choosing row-wise multi-threading, the overhead of testing was 0.000207 seconds.\n",
      "You can set `force_row_wise=true` to remove the overhead.\n",
      "And if memory is not enough, you can set `force_col_wise=true`.\n",
      "[LightGBM] [Info] Total Bins 332\n",
      "[LightGBM] [Info] Number of data points in the train set: 1070, number of used features: 14\n",
      "[LightGBM] [Info] Start training from score 13346.089733\n",
      "[LightGBM] [Warning] No further splits with positive gain, best gain: -inf\n",
      "[LightGBM] [Warning] No further splits with positive gain, best gain: -inf\n",
      "[LightGBM] [Warning] No further splits with positive gain, best gain: -inf\n",
      "[LightGBM] [Warning] No further splits with positive gain, best gain: -inf\n",
      "[LightGBM] [Warning] No further splits with positive gain, best gain: -inf\n",
      "[LightGBM] [Warning] No further splits with positive gain, best gain: -inf\n",
      "[LightGBM] [Warning] No further splits with positive gain, best gain: -inf\n",
      "[LightGBM] [Warning] No further splits with positive gain, best gain: -inf\n",
      "[LightGBM] [Warning] No further splits with positive gain, best gain: -inf\n",
      "[LightGBM] [Warning] No further splits with positive gain, best gain: -inf\n",
      "[LightGBM] [Warning] No further splits with positive gain, best gain: -inf\n",
      "[LightGBM] [Warning] No further splits with positive gain, best gain: -inf\n",
      "[LightGBM] [Warning] No further splits with positive gain, best gain: -inf\n",
      "[LightGBM] [Warning] No further splits with positive gain, best gain: -inf\n",
      "[LightGBM] [Warning] No further splits with positive gain, best gain: -inf\n",
      "[LightGBM] [Warning] No further splits with positive gain, best gain: -inf\n",
      "[LightGBM] [Warning] No further splits with positive gain, best gain: -inf\n",
      "[LightGBM] [Warning] No further splits with positive gain, best gain: -inf\n",
      "[LightGBM] [Warning] No further splits with positive gain, best gain: -inf\n",
      "[LightGBM] [Warning] No further splits with positive gain, best gain: -inf\n",
      "[LightGBM] [Warning] No further splits with positive gain, best gain: -inf\n",
      "[LightGBM] [Warning] No further splits with positive gain, best gain: -inf\n",
      "[LightGBM] [Warning] No further splits with positive gain, best gain: -inf\n",
      "[LightGBM] [Warning] No further splits with positive gain, best gain: -inf\n",
      "[LightGBM] [Warning] No further splits with positive gain, best gain: -inf\n",
      "[LightGBM] [Warning] No further splits with positive gain, best gain: -inf\n",
      "[LightGBM] [Warning] No further splits with positive gain, best gain: -inf\n",
      "[LightGBM] [Warning] No further splits with positive gain, best gain: -inf\n",
      "[LightGBM] [Warning] No further splits with positive gain, best gain: -inf\n",
      "[LightGBM] [Warning] No further splits with positive gain, best gain: -inf\n",
      "[LightGBM] [Warning] No further splits with positive gain, best gain: -inf\n",
      "[LightGBM] [Warning] No further splits with positive gain, best gain: -inf\n",
      "[LightGBM] [Warning] No further splits with positive gain, best gain: -inf\n",
      "[LightGBM] [Warning] No further splits with positive gain, best gain: -inf\n",
      "[LightGBM] [Warning] No further splits with positive gain, best gain: -inf\n",
      "[LightGBM] [Warning] No further splits with positive gain, best gain: -inf\n",
      "[LightGBM] [Warning] No further splits with positive gain, best gain: -inf\n",
      "[LightGBM] [Warning] No further splits with positive gain, best gain: -inf\n",
      "[LightGBM] [Warning] No further splits with positive gain, best gain: -inf\n",
      "[LightGBM] [Warning] No further splits with positive gain, best gain: -inf\n",
      "[LightGBM] [Warning] No further splits with positive gain, best gain: -inf\n",
      "[LightGBM] [Warning] No further splits with positive gain, best gain: -inf\n",
      "[LightGBM] [Warning] No further splits with positive gain, best gain: -inf\n",
      "[LightGBM] [Warning] No further splits with positive gain, best gain: -inf\n",
      "[LightGBM] [Warning] No further splits with positive gain, best gain: -inf\n",
      "[LightGBM] [Warning] No further splits with positive gain, best gain: -inf\n",
      "[LightGBM] [Warning] No further splits with positive gain, best gain: -inf\n",
      "[LightGBM] [Warning] No further splits with positive gain, best gain: -inf\n",
      "[LightGBM] [Warning] No further splits with positive gain, best gain: -inf\n",
      "[LightGBM] [Warning] No further splits with positive gain, best gain: -inf\n",
      "[LightGBM] [Warning] No further splits with positive gain, best gain: -inf\n",
      "[LightGBM] [Warning] No further splits with positive gain, best gain: -inf\n",
      "[LightGBM] [Warning] No further splits with positive gain, best gain: -inf\n",
      "[LightGBM] [Warning] No further splits with positive gain, best gain: -inf\n",
      "[LightGBM] [Warning] No further splits with positive gain, best gain: -inf\n",
      "[LightGBM] [Warning] No further splits with positive gain, best gain: -inf\n",
      "[LightGBM] [Warning] No further splits with positive gain, best gain: -inf\n",
      "[LightGBM] [Warning] No further splits with positive gain, best gain: -inf\n",
      "[LightGBM] [Warning] No further splits with positive gain, best gain: -inf\n",
      "[LightGBM] [Warning] No further splits with positive gain, best gain: -inf\n",
      "[LightGBM] [Warning] No further splits with positive gain, best gain: -inf\n",
      "[LightGBM] [Warning] No further splits with positive gain, best gain: -inf\n",
      "[LightGBM] [Warning] No further splits with positive gain, best gain: -inf\n",
      "[LightGBM] [Warning] No further splits with positive gain, best gain: -inf\n",
      "[LightGBM] [Warning] No further splits with positive gain, best gain: -inf\n",
      "[LightGBM] [Warning] No further splits with positive gain, best gain: -inf\n",
      "[LightGBM] [Warning] No further splits with positive gain, best gain: -inf\n",
      "[LightGBM] [Warning] No further splits with positive gain, best gain: -inf\n",
      "[LightGBM] [Warning] No further splits with positive gain, best gain: -inf\n",
      "[LightGBM] [Warning] No further splits with positive gain, best gain: -inf\n",
      "[LightGBM] [Warning] No further splits with positive gain, best gain: -inf\n",
      "[LightGBM] [Warning] No further splits with positive gain, best gain: -inf\n",
      "[LightGBM] [Warning] No further splits with positive gain, best gain: -inf\n",
      "[LightGBM] [Warning] No further splits with positive gain, best gain: -inf\n",
      "[LightGBM] [Warning] No further splits with positive gain, best gain: -inf\n",
      "[LightGBM] [Warning] No further splits with positive gain, best gain: -inf\n",
      "[LightGBM] [Warning] No further splits with positive gain, best gain: -inf\n",
      "[LightGBM] [Warning] No further splits with positive gain, best gain: -inf\n",
      "[LightGBM] [Warning] No further splits with positive gain, best gain: -inf\n",
      "[LightGBM] [Warning] No further splits with positive gain, best gain: -inf\n",
      "[LightGBM] [Warning] No further splits with positive gain, best gain: -inf\n",
      "[LightGBM] [Warning] No further splits with positive gain, best gain: -inf\n",
      "[LightGBM] [Warning] No further splits with positive gain, best gain: -inf\n",
      "[LightGBM] [Warning] No further splits with positive gain, best gain: -inf\n",
      "[LightGBM] [Warning] No further splits with positive gain, best gain: -inf\n",
      "[LightGBM] [Warning] No further splits with positive gain, best gain: -inf\n",
      "[LightGBM] [Warning] No further splits with positive gain, best gain: -inf\n",
      "[LightGBM] [Warning] No further splits with positive gain, best gain: -inf\n",
      "[LightGBM] [Warning] No further splits with positive gain, best gain: -inf\n",
      "[LightGBM] [Warning] No further splits with positive gain, best gain: -inf\n",
      "[LightGBM] [Warning] No further splits with positive gain, best gain: -inf\n",
      "[LightGBM] [Warning] No further splits with positive gain, best gain: -inf\n",
      "[LightGBM] [Warning] No further splits with positive gain, best gain: -inf\n",
      "[LightGBM] [Warning] No further splits with positive gain, best gain: -inf\n",
      "[LightGBM] [Warning] No further splits with positive gain, best gain: -inf\n",
      "[LightGBM] [Warning] No further splits with positive gain, best gain: -inf\n",
      "[LightGBM] [Warning] No further splits with positive gain, best gain: -inf\n",
      "[LightGBM] [Warning] No further splits with positive gain, best gain: -inf\n",
      "[LightGBM] [Warning] No further splits with positive gain, best gain: -inf\n",
      "[LightGBM] [Warning] No further splits with positive gain, best gain: -inf\n",
      "[LightGBM] [Warning] No further splits with positive gain, best gain: -inf\n",
      "[LightGBM] [Warning] No further splits with positive gain, best gain: -inf\n",
      "[LightGBM] [Warning] No further splits with positive gain, best gain: -inf\n",
      "[LightGBM] [Warning] No further splits with positive gain, best gain: -inf\n",
      "[LightGBM] [Warning] No further splits with positive gain, best gain: -inf\n",
      "[LightGBM] [Warning] No further splits with positive gain, best gain: -inf\n",
      "[LightGBM] [Warning] No further splits with positive gain, best gain: -inf\n",
      "[LightGBM] [Warning] No further splits with positive gain, best gain: -inf\n",
      "[LightGBM] [Warning] No further splits with positive gain, best gain: -inf\n",
      "[LightGBM] [Warning] No further splits with positive gain, best gain: -inf\n",
      "[LightGBM] [Warning] No further splits with positive gain, best gain: -inf\n",
      "[LightGBM] [Warning] No further splits with positive gain, best gain: -inf\n",
      "[LightGBM] [Warning] No further splits with positive gain, best gain: -inf\n",
      "[LightGBM] [Warning] No further splits with positive gain, best gain: -inf\n",
      "[LightGBM] [Warning] No further splits with positive gain, best gain: -inf\n",
      "[LightGBM] [Warning] No further splits with positive gain, best gain: -inf\n",
      "[LightGBM] [Warning] No further splits with positive gain, best gain: -inf\n",
      "[LightGBM] [Warning] No further splits with positive gain, best gain: -inf\n",
      "[LightGBM] [Warning] No further splits with positive gain, best gain: -inf\n",
      "[LightGBM] [Warning] No further splits with positive gain, best gain: -inf\n",
      "[LightGBM] [Warning] No further splits with positive gain, best gain: -inf\n",
      "[LightGBM] [Warning] No further splits with positive gain, best gain: -inf\n",
      "[LightGBM] [Warning] No further splits with positive gain, best gain: -inf\n",
      "[LightGBM] [Warning] No further splits with positive gain, best gain: -inf\n",
      "[LightGBM] [Warning] No further splits with positive gain, best gain: -inf\n",
      "[LightGBM] [Warning] No further splits with positive gain, best gain: -inf\n",
      "[LightGBM] [Warning] No further splits with positive gain, best gain: -inf\n",
      "[LightGBM] [Warning] No further splits with positive gain, best gain: -inf\n",
      "[LightGBM] [Warning] No further splits with positive gain, best gain: -inf\n",
      "[LightGBM] [Warning] No further splits with positive gain, best gain: -inf\n",
      "[LightGBM] [Warning] No further splits with positive gain, best gain: -inf\n",
      "[LightGBM] [Warning] No further splits with positive gain, best gain: -inf\n",
      "[LightGBM] [Warning] No further splits with positive gain, best gain: -inf\n",
      "[LightGBM] [Warning] No further splits with positive gain, best gain: -inf\n",
      "[LightGBM] [Warning] No further splits with positive gain, best gain: -inf\n",
      "[LightGBM] [Warning] No further splits with positive gain, best gain: -inf\n",
      "[LightGBM] [Warning] No further splits with positive gain, best gain: -inf\n",
      "[LightGBM] [Warning] No further splits with positive gain, best gain: -inf\n",
      "[LightGBM] [Warning] No further splits with positive gain, best gain: -inf\n",
      "[LightGBM] [Warning] No further splits with positive gain, best gain: -inf\n",
      "[LightGBM] [Warning] No further splits with positive gain, best gain: -inf\n",
      "[LightGBM] [Warning] No further splits with positive gain, best gain: -inf\n",
      "[LightGBM] [Warning] No further splits with positive gain, best gain: -inf\n",
      "[LightGBM] [Warning] No further splits with positive gain, best gain: -inf\n",
      "[LightGBM] [Warning] No further splits with positive gain, best gain: -inf\n",
      "[LightGBM] [Warning] No further splits with positive gain, best gain: -inf\n",
      "[LightGBM] [Warning] No further splits with positive gain, best gain: -inf\n",
      "[LightGBM] [Warning] No further splits with positive gain, best gain: -inf\n",
      "[LightGBM] [Warning] No further splits with positive gain, best gain: -inf\n",
      "[LightGBM] [Warning] No further splits with positive gain, best gain: -inf\n",
      "[LightGBM] [Warning] No further splits with positive gain, best gain: -inf\n",
      "[LightGBM] [Warning] No further splits with positive gain, best gain: -inf\n",
      "[LightGBM] [Warning] No further splits with positive gain, best gain: -inf\n",
      "[LightGBM] [Warning] No further splits with positive gain, best gain: -inf\n",
      "[LightGBM] [Warning] No further splits with positive gain, best gain: -inf\n",
      "[LightGBM] [Warning] No further splits with positive gain, best gain: -inf\n",
      "[LightGBM] [Warning] No further splits with positive gain, best gain: -inf\n",
      "[LightGBM] [Warning] No further splits with positive gain, best gain: -inf\n",
      "[LightGBM] [Warning] No further splits with positive gain, best gain: -inf\n",
      "[LightGBM] [Warning] No further splits with positive gain, best gain: -inf\n",
      "[LightGBM] [Warning] No further splits with positive gain, best gain: -inf\n",
      "[LightGBM] [Warning] No further splits with positive gain, best gain: -inf\n",
      "[LightGBM] [Warning] No further splits with positive gain, best gain: -inf\n",
      "[LightGBM] [Warning] No further splits with positive gain, best gain: -inf\n",
      "[LightGBM] [Warning] No further splits with positive gain, best gain: -inf\n",
      "[LightGBM] [Warning] No further splits with positive gain, best gain: -inf\n",
      "[LightGBM] [Warning] No further splits with positive gain, best gain: -inf\n",
      "[LightGBM] [Warning] No further splits with positive gain, best gain: -inf\n",
      "[LightGBM] [Warning] No further splits with positive gain, best gain: -inf\n",
      "[LightGBM] [Warning] No further splits with positive gain, best gain: -inf\n",
      "[LightGBM] [Warning] No further splits with positive gain, best gain: -inf\n",
      "[LightGBM] [Warning] No further splits with positive gain, best gain: -inf\n",
      "[LightGBM] [Warning] No further splits with positive gain, best gain: -inf\n",
      "[LightGBM] [Warning] No further splits with positive gain, best gain: -inf\n",
      "[LightGBM] [Warning] No further splits with positive gain, best gain: -inf\n",
      "[LightGBM] [Warning] No further splits with positive gain, best gain: -inf\n",
      "[LightGBM] [Warning] No further splits with positive gain, best gain: -inf\n",
      "[LightGBM] [Warning] No further splits with positive gain, best gain: -inf\n",
      "[LightGBM] [Warning] No further splits with positive gain, best gain: -inf\n",
      "[LightGBM] [Warning] No further splits with positive gain, best gain: -inf\n",
      "[LightGBM] [Warning] No further splits with positive gain, best gain: -inf\n",
      "[LightGBM] [Warning] No further splits with positive gain, best gain: -inf\n",
      "[LightGBM] [Warning] No further splits with positive gain, best gain: -inf\n",
      "[LightGBM] [Warning] No further splits with positive gain, best gain: -inf\n",
      "[LightGBM] [Warning] No further splits with positive gain, best gain: -inf\n",
      "[LightGBM] [Warning] No further splits with positive gain, best gain: -inf\n",
      "[LightGBM] [Warning] No further splits with positive gain, best gain: -inf\n",
      "[LightGBM] [Warning] No further splits with positive gain, best gain: -inf\n",
      "[LightGBM] [Warning] No further splits with positive gain, best gain: -inf\n",
      "[LightGBM] [Warning] No further splits with positive gain, best gain: -inf\n",
      "[LightGBM] [Warning] No further splits with positive gain, best gain: -inf\n",
      "[LightGBM] [Warning] No further splits with positive gain, best gain: -inf\n",
      "[LightGBM] [Warning] No further splits with positive gain, best gain: -inf\n",
      "[LightGBM] [Warning] No further splits with positive gain, best gain: -inf\n",
      "[LightGBM] [Warning] No further splits with positive gain, best gain: -inf\n",
      "[LightGBM] [Warning] No further splits with positive gain, best gain: -inf\n",
      "[LightGBM] [Warning] No further splits with positive gain, best gain: -inf\n",
      "[LightGBM] [Warning] No further splits with positive gain, best gain: -inf\n",
      "[LightGBM] [Warning] No further splits with positive gain, best gain: -inf\n",
      "[LightGBM] [Warning] No further splits with positive gain, best gain: -inf\n",
      "[LightGBM] [Warning] No further splits with positive gain, best gain: -inf\n",
      "[LightGBM] [Warning] No further splits with positive gain, best gain: -inf\n",
      "[LightGBM] [Warning] No further splits with positive gain, best gain: -inf\n",
      "[LightGBM] [Warning] No further splits with positive gain, best gain: -inf\n",
      "[LightGBM] [Warning] No further splits with positive gain, best gain: -inf\n",
      "[LightGBM] [Warning] No further splits with positive gain, best gain: -inf\n",
      "[LightGBM] [Warning] No further splits with positive gain, best gain: -inf\n",
      "[LightGBM] [Warning] No further splits with positive gain, best gain: -inf\n",
      "[LightGBM] [Warning] No further splits with positive gain, best gain: -inf\n",
      "[LightGBM] [Warning] No further splits with positive gain, best gain: -inf\n",
      "[LightGBM] [Warning] No further splits with positive gain, best gain: -inf\n",
      "[LightGBM] [Warning] No further splits with positive gain, best gain: -inf\n",
      "[LightGBM] [Warning] No further splits with positive gain, best gain: -inf\n",
      "[LightGBM] [Warning] No further splits with positive gain, best gain: -inf\n",
      "[LightGBM] [Warning] No further splits with positive gain, best gain: -inf\n",
      "[LightGBM] [Warning] No further splits with positive gain, best gain: -inf\n",
      "[LightGBM] [Warning] No further splits with positive gain, best gain: -inf\n",
      "[LightGBM] [Warning] No further splits with positive gain, best gain: -inf\n",
      "[LightGBM] [Warning] No further splits with positive gain, best gain: -inf\n",
      "[LightGBM] [Warning] No further splits with positive gain, best gain: -inf\n",
      "[LightGBM] [Warning] No further splits with positive gain, best gain: -inf\n",
      "[LightGBM] [Warning] No further splits with positive gain, best gain: -inf\n",
      "[LightGBM] [Warning] No further splits with positive gain, best gain: -inf\n",
      "[LightGBM] [Warning] No further splits with positive gain, best gain: -inf\n",
      "[LightGBM] [Warning] No further splits with positive gain, best gain: -inf\n",
      "[LightGBM] [Warning] No further splits with positive gain, best gain: -inf\n",
      "[LightGBM] [Warning] No further splits with positive gain, best gain: -inf\n",
      "[LightGBM] [Warning] No further splits with positive gain, best gain: -inf\n",
      "[LightGBM] [Warning] No further splits with positive gain, best gain: -inf\n",
      "[LightGBM] [Warning] No further splits with positive gain, best gain: -inf\n",
      "[LightGBM] [Warning] No further splits with positive gain, best gain: -inf\n",
      "[LightGBM] [Warning] No further splits with positive gain, best gain: -inf\n",
      "[LightGBM] [Warning] No further splits with positive gain, best gain: -inf\n",
      "[LightGBM] [Warning] No further splits with positive gain, best gain: -inf\n",
      "[LightGBM] [Warning] No further splits with positive gain, best gain: -inf\n",
      "[LightGBM] [Warning] No further splits with positive gain, best gain: -inf\n",
      "[LightGBM] [Warning] No further splits with positive gain, best gain: -inf\n",
      "[LightGBM] [Warning] No further splits with positive gain, best gain: -inf\n",
      "[LightGBM] [Warning] No further splits with positive gain, best gain: -inf\n",
      "[LightGBM] [Warning] No further splits with positive gain, best gain: -inf\n",
      "[LightGBM] [Warning] No further splits with positive gain, best gain: -inf\n",
      "[LightGBM] [Warning] No further splits with positive gain, best gain: -inf\n",
      "[LightGBM] [Warning] No further splits with positive gain, best gain: -inf\n",
      "[LightGBM] [Warning] No further splits with positive gain, best gain: -inf\n",
      "[LightGBM] [Warning] No further splits with positive gain, best gain: -inf\n",
      "[LightGBM] [Warning] No further splits with positive gain, best gain: -inf\n",
      "[LightGBM] [Warning] No further splits with positive gain, best gain: -inf\n",
      "[LightGBM] [Warning] No further splits with positive gain, best gain: -inf\n",
      "[LightGBM] [Warning] No further splits with positive gain, best gain: -inf\n",
      "[LightGBM] [Warning] No further splits with positive gain, best gain: -inf\n",
      "[LightGBM] [Warning] No further splits with positive gain, best gain: -inf\n",
      "[LightGBM] [Warning] No further splits with positive gain, best gain: -inf\n",
      "[LightGBM] [Warning] No further splits with positive gain, best gain: -inf\n",
      "[LightGBM] [Warning] No further splits with positive gain, best gain: -inf\n",
      "[LightGBM] [Warning] No further splits with positive gain, best gain: -inf\n",
      "[LightGBM] [Warning] No further splits with positive gain, best gain: -inf\n",
      "[LightGBM] [Warning] No further splits with positive gain, best gain: -inf\n",
      "[LightGBM] [Warning] No further splits with positive gain, best gain: -inf\n",
      "[LightGBM] [Warning] No further splits with positive gain, best gain: -inf\n",
      "[LightGBM] [Warning] No further splits with positive gain, best gain: -inf\n",
      "[LightGBM] [Warning] No further splits with positive gain, best gain: -inf\n",
      "[LightGBM] [Warning] No further splits with positive gain, best gain: -inf\n",
      "[LightGBM] [Warning] No further splits with positive gain, best gain: -inf\n",
      "[LightGBM] [Warning] No further splits with positive gain, best gain: -inf\n",
      "[LightGBM] [Warning] No further splits with positive gain, best gain: -inf\n",
      "[LightGBM] [Warning] No further splits with positive gain, best gain: -inf\n",
      "[LightGBM] [Warning] No further splits with positive gain, best gain: -inf\n",
      "[LightGBM] [Warning] No further splits with positive gain, best gain: -inf\n",
      "[LightGBM] [Warning] No further splits with positive gain, best gain: -inf\n",
      "[LightGBM] [Warning] No further splits with positive gain, best gain: -inf\n",
      "[LightGBM] [Warning] No further splits with positive gain, best gain: -inf\n",
      "[LightGBM] [Warning] No further splits with positive gain, best gain: -inf\n",
      "[LightGBM] [Warning] No further splits with positive gain, best gain: -inf\n",
      "[LightGBM] [Warning] No further splits with positive gain, best gain: -inf\n",
      "[LightGBM] [Warning] No further splits with positive gain, best gain: -inf\n",
      "[LightGBM] [Warning] No further splits with positive gain, best gain: -inf\n",
      "[LightGBM] [Warning] No further splits with positive gain, best gain: -inf\n",
      "[LightGBM] [Warning] No further splits with positive gain, best gain: -inf\n",
      "[LightGBM] [Warning] No further splits with positive gain, best gain: -inf\n",
      "[LightGBM] [Warning] No further splits with positive gain, best gain: -inf\n",
      "[LightGBM] [Warning] No further splits with positive gain, best gain: -inf\n",
      "[LightGBM] [Warning] No further splits with positive gain, best gain: -inf\n",
      "[LightGBM] [Warning] No further splits with positive gain, best gain: -inf\n",
      "[LightGBM] [Warning] No further splits with positive gain, best gain: -inf\n",
      "[LightGBM] [Warning] No further splits with positive gain, best gain: -inf\n",
      "[LightGBM] [Warning] No further splits with positive gain, best gain: -inf\n",
      "[LightGBM] [Warning] No further splits with positive gain, best gain: -inf\n",
      "[LightGBM] [Warning] No further splits with positive gain, best gain: -inf\n",
      "[LightGBM] [Warning] No further splits with positive gain, best gain: -inf\n",
      "[LightGBM] [Warning] No further splits with positive gain, best gain: -inf\n",
      "[LightGBM] [Warning] No further splits with positive gain, best gain: -inf\n",
      "[LightGBM] [Warning] No further splits with positive gain, best gain: -inf\n",
      "[LightGBM] [Warning] No further splits with positive gain, best gain: -inf\n",
      "[LightGBM] [Warning] No further splits with positive gain, best gain: -inf\n",
      "[LightGBM] [Warning] No further splits with positive gain, best gain: -inf\n",
      "[LightGBM] [Warning] No further splits with positive gain, best gain: -inf\n",
      "[LightGBM] [Warning] No further splits with positive gain, best gain: -inf\n",
      "[LightGBM] [Warning] No further splits with positive gain, best gain: -inf\n",
      "[LightGBM] [Warning] No further splits with positive gain, best gain: -inf\n",
      "[LightGBM] [Warning] No further splits with positive gain, best gain: -inf\n",
      "[LightGBM] [Warning] No further splits with positive gain, best gain: -inf\n",
      "[LightGBM] [Warning] No further splits with positive gain, best gain: -inf\n",
      "[LightGBM] [Warning] No further splits with positive gain, best gain: -inf\n",
      "[LightGBM] [Warning] No further splits with positive gain, best gain: -inf\n",
      "[LightGBM] [Warning] No further splits with positive gain, best gain: -inf\n",
      "[LightGBM] [Warning] No further splits with positive gain, best gain: -inf\n",
      "[LightGBM] [Warning] No further splits with positive gain, best gain: -inf\n",
      "[LightGBM] [Warning] No further splits with positive gain, best gain: -inf\n",
      "[LightGBM] [Warning] No further splits with positive gain, best gain: -inf\n",
      "[LightGBM] [Warning] No further splits with positive gain, best gain: -inf\n",
      "[LightGBM] [Warning] No further splits with positive gain, best gain: -inf\n",
      "[LightGBM] [Warning] No further splits with positive gain, best gain: -inf\n",
      "[LightGBM] [Warning] No further splits with positive gain, best gain: -inf\n",
      "[LightGBM] [Warning] No further splits with positive gain, best gain: -inf\n",
      "[LightGBM] [Warning] No further splits with positive gain, best gain: -inf\n",
      "[LightGBM] [Warning] No further splits with positive gain, best gain: -inf\n",
      "[LightGBM] [Warning] No further splits with positive gain, best gain: -inf\n",
      "[LightGBM] [Warning] No further splits with positive gain, best gain: -inf\n",
      "[LightGBM] [Warning] No further splits with positive gain, best gain: -inf\n",
      "[LightGBM] [Warning] No further splits with positive gain, best gain: -inf\n",
      "[LightGBM] [Warning] No further splits with positive gain, best gain: -inf\n",
      "[LightGBM] [Warning] No further splits with positive gain, best gain: -inf\n",
      "[LightGBM] [Warning] No further splits with positive gain, best gain: -inf\n",
      "[LightGBM] [Warning] No further splits with positive gain, best gain: -inf\n",
      "[LightGBM] [Warning] No further splits with positive gain, best gain: -inf\n",
      "[LightGBM] [Warning] No further splits with positive gain, best gain: -inf\n",
      "[LightGBM] [Warning] No further splits with positive gain, best gain: -inf\n",
      "[LightGBM] [Warning] No further splits with positive gain, best gain: -inf\n",
      "[LightGBM] [Warning] No further splits with positive gain, best gain: -inf\n",
      "[LightGBM] [Warning] No further splits with positive gain, best gain: -inf\n",
      "[LightGBM] [Warning] No further splits with positive gain, best gain: -inf\n",
      "[LightGBM] [Warning] No further splits with positive gain, best gain: -inf\n",
      "[LightGBM] [Warning] No further splits with positive gain, best gain: -inf\n",
      "[LightGBM] [Warning] No further splits with positive gain, best gain: -inf\n",
      "[LightGBM] [Warning] No further splits with positive gain, best gain: -inf\n",
      "[LightGBM] [Warning] No further splits with positive gain, best gain: -inf\n",
      "[LightGBM] [Warning] No further splits with positive gain, best gain: -inf\n",
      "[LightGBM] [Warning] No further splits with positive gain, best gain: -inf\n",
      "[LightGBM] [Warning] No further splits with positive gain, best gain: -inf\n",
      "[LightGBM] [Warning] No further splits with positive gain, best gain: -inf\n",
      "[LightGBM] [Warning] No further splits with positive gain, best gain: -inf\n",
      "[LightGBM] [Warning] No further splits with positive gain, best gain: -inf\n",
      "[LightGBM] [Warning] No further splits with positive gain, best gain: -inf\n",
      "[LightGBM] [Warning] No further splits with positive gain, best gain: -inf\n",
      "[LightGBM] [Warning] No further splits with positive gain, best gain: -inf\n",
      "[LightGBM] [Warning] No further splits with positive gain, best gain: -inf\n",
      "[LightGBM] [Warning] No further splits with positive gain, best gain: -inf\n",
      "[LightGBM] [Warning] No further splits with positive gain, best gain: -inf\n",
      "[LightGBM] [Warning] No further splits with positive gain, best gain: -inf\n",
      "[LightGBM] [Warning] No further splits with positive gain, best gain: -inf\n",
      "[LightGBM] [Warning] No further splits with positive gain, best gain: -inf\n",
      "[LightGBM] [Warning] No further splits with positive gain, best gain: -inf\n",
      "[LightGBM] [Warning] No further splits with positive gain, best gain: -inf\n",
      "[LightGBM] [Warning] No further splits with positive gain, best gain: -inf\n",
      "[LightGBM] [Warning] No further splits with positive gain, best gain: -inf\n",
      "[LightGBM] [Warning] No further splits with positive gain, best gain: -inf\n",
      "[LightGBM] [Warning] No further splits with positive gain, best gain: -inf\n",
      "[LightGBM] [Warning] No further splits with positive gain, best gain: -inf\n",
      "[LightGBM] [Warning] No further splits with positive gain, best gain: -inf\n",
      "[LightGBM] [Warning] No further splits with positive gain, best gain: -inf\n",
      "[LightGBM] [Warning] No further splits with positive gain, best gain: -inf\n",
      "[LightGBM] [Warning] No further splits with positive gain, best gain: -inf\n",
      "[LightGBM] [Warning] No further splits with positive gain, best gain: -inf\n",
      "[LightGBM] [Warning] No further splits with positive gain, best gain: -inf\n",
      "[LightGBM] [Warning] No further splits with positive gain, best gain: -inf\n",
      "[LightGBM] [Warning] No further splits with positive gain, best gain: -inf\n",
      "[LightGBM] [Warning] No further splits with positive gain, best gain: -inf\n",
      "[LightGBM] [Warning] No further splits with positive gain, best gain: -inf\n",
      "[LightGBM] [Warning] No further splits with positive gain, best gain: -inf\n",
      "[LightGBM] [Warning] No further splits with positive gain, best gain: -inf\n",
      "[LightGBM] [Warning] No further splits with positive gain, best gain: -inf\n",
      "[LightGBM] [Warning] No further splits with positive gain, best gain: -inf\n",
      "[LightGBM] [Warning] No further splits with positive gain, best gain: -inf\n",
      "[LightGBM] [Warning] No further splits with positive gain, best gain: -inf\n",
      "[LightGBM] [Warning] No further splits with positive gain, best gain: -inf\n",
      "[LightGBM] [Warning] No further splits with positive gain, best gain: -inf\n",
      "[LightGBM] [Warning] No further splits with positive gain, best gain: -inf\n",
      "[LightGBM] [Warning] No further splits with positive gain, best gain: -inf\n",
      "[LightGBM] [Warning] No further splits with positive gain, best gain: -inf\n",
      "[LightGBM] [Warning] No further splits with positive gain, best gain: -inf\n",
      "[LightGBM] [Warning] No further splits with positive gain, best gain: -inf\n",
      "[LightGBM] [Warning] No further splits with positive gain, best gain: -inf\n",
      "[LightGBM] [Warning] No further splits with positive gain, best gain: -inf\n",
      "[LightGBM] [Warning] No further splits with positive gain, best gain: -inf\n",
      "[LightGBM] [Warning] No further splits with positive gain, best gain: -inf\n",
      "[LightGBM] [Warning] No further splits with positive gain, best gain: -inf\n",
      "[LightGBM] [Warning] No further splits with positive gain, best gain: -inf\n",
      "[LightGBM] [Warning] No further splits with positive gain, best gain: -inf\n",
      "[LightGBM] [Warning] No further splits with positive gain, best gain: -inf\n",
      "[LightGBM] [Warning] No further splits with positive gain, best gain: -inf\n",
      "[LightGBM] [Warning] No further splits with positive gain, best gain: -inf\n",
      "[LightGBM] [Warning] No further splits with positive gain, best gain: -inf\n",
      "[LightGBM] [Warning] No further splits with positive gain, best gain: -inf\n",
      "[LightGBM] [Warning] No further splits with positive gain, best gain: -inf\n",
      "[LightGBM] [Warning] No further splits with positive gain, best gain: -inf\n",
      "[LightGBM] [Warning] No further splits with positive gain, best gain: -inf\n",
      "[LightGBM] [Warning] No further splits with positive gain, best gain: -inf\n",
      "[LightGBM] [Warning] No further splits with positive gain, best gain: -inf\n",
      "[LightGBM] [Warning] No further splits with positive gain, best gain: -inf\n",
      "[LightGBM] [Warning] No further splits with positive gain, best gain: -inf\n",
      "[LightGBM] [Warning] No further splits with positive gain, best gain: -inf\n",
      "[LightGBM] [Warning] No further splits with positive gain, best gain: -inf\n",
      "[LightGBM] [Warning] No further splits with positive gain, best gain: -inf\n",
      "[LightGBM] [Warning] No further splits with positive gain, best gain: -inf\n",
      "[LightGBM] [Warning] No further splits with positive gain, best gain: -inf\n",
      "[LightGBM] [Warning] No further splits with positive gain, best gain: -inf\n",
      "[LightGBM] [Warning] No further splits with positive gain, best gain: -inf\n",
      "[LightGBM] [Warning] No further splits with positive gain, best gain: -inf\n",
      "[LightGBM] [Warning] No further splits with positive gain, best gain: -inf\n",
      "[LightGBM] [Warning] No further splits with positive gain, best gain: -inf\n",
      "[LightGBM] [Warning] No further splits with positive gain, best gain: -inf\n",
      "[LightGBM] [Warning] No further splits with positive gain, best gain: -inf\n",
      "[LightGBM] [Warning] No further splits with positive gain, best gain: -inf\n",
      "[LightGBM] [Warning] No further splits with positive gain, best gain: -inf\n",
      "[LightGBM] [Warning] No further splits with positive gain, best gain: -inf\n",
      "[LightGBM] [Warning] No further splits with positive gain, best gain: -inf\n",
      "[LightGBM] [Warning] No further splits with positive gain, best gain: -inf\n",
      "[LightGBM] [Warning] No further splits with positive gain, best gain: -inf\n",
      "[LightGBM] [Warning] No further splits with positive gain, best gain: -inf\n",
      "[LightGBM] [Warning] No further splits with positive gain, best gain: -inf\n",
      "[LightGBM] [Warning] No further splits with positive gain, best gain: -inf\n",
      "[LightGBM] [Warning] No further splits with positive gain, best gain: -inf\n",
      "[LightGBM] [Warning] No further splits with positive gain, best gain: -inf\n",
      "[LightGBM] [Warning] No further splits with positive gain, best gain: -inf\n",
      "[LightGBM] [Warning] No further splits with positive gain, best gain: -inf\n",
      "[LightGBM] [Warning] No further splits with positive gain, best gain: -inf\n",
      "[LightGBM] [Warning] No further splits with positive gain, best gain: -inf\n",
      "[LightGBM] [Warning] No further splits with positive gain, best gain: -inf\n",
      "[LightGBM] [Warning] No further splits with positive gain, best gain: -inf\n",
      "[LightGBM] [Warning] No further splits with positive gain, best gain: -inf\n",
      "[LightGBM] [Warning] No further splits with positive gain, best gain: -inf\n",
      "[LightGBM] [Warning] No further splits with positive gain, best gain: -inf\n",
      "[LightGBM] [Warning] No further splits with positive gain, best gain: -inf\n",
      "[LightGBM] [Warning] No further splits with positive gain, best gain: -inf\n",
      "[LightGBM] [Warning] No further splits with positive gain, best gain: -inf\n",
      "[LightGBM] [Warning] No further splits with positive gain, best gain: -inf\n",
      "[LightGBM] [Warning] No further splits with positive gain, best gain: -inf\n",
      "[LightGBM] [Warning] No further splits with positive gain, best gain: -inf\n",
      "[LightGBM] [Warning] No further splits with positive gain, best gain: -inf\n",
      "[LightGBM] [Warning] No further splits with positive gain, best gain: -inf\n",
      "[LightGBM] [Warning] No further splits with positive gain, best gain: -inf\n",
      "[LightGBM] [Warning] No further splits with positive gain, best gain: -inf\n",
      "[LightGBM] [Warning] No further splits with positive gain, best gain: -inf\n",
      "[LightGBM] [Warning] No further splits with positive gain, best gain: -inf\n",
      "[LightGBM] [Warning] No further splits with positive gain, best gain: -inf\n",
      "[LightGBM] [Warning] No further splits with positive gain, best gain: -inf\n",
      "[LightGBM] [Warning] No further splits with positive gain, best gain: -inf\n",
      "[LightGBM] [Warning] No further splits with positive gain, best gain: -inf\n",
      "[LightGBM] [Warning] No further splits with positive gain, best gain: -inf\n",
      "[LightGBM] [Warning] No further splits with positive gain, best gain: -inf\n",
      "[LightGBM] [Warning] No further splits with positive gain, best gain: -inf\n",
      "[LightGBM] [Warning] No further splits with positive gain, best gain: -inf\n",
      "[LightGBM] [Warning] No further splits with positive gain, best gain: -inf\n",
      "[LightGBM] [Warning] No further splits with positive gain, best gain: -inf\n",
      "[LightGBM] [Warning] No further splits with positive gain, best gain: -inf\n",
      "[LightGBM] [Warning] No further splits with positive gain, best gain: -inf\n",
      "[LightGBM] [Warning] No further splits with positive gain, best gain: -inf\n",
      "[LightGBM] [Warning] No further splits with positive gain, best gain: -inf\n",
      "[LightGBM] [Warning] No further splits with positive gain, best gain: -inf\n",
      "[LightGBM] [Warning] No further splits with positive gain, best gain: -inf\n",
      "[LightGBM] [Warning] No further splits with positive gain, best gain: -inf\n",
      "[LightGBM] [Warning] No further splits with positive gain, best gain: -inf\n",
      "[LightGBM] [Warning] No further splits with positive gain, best gain: -inf\n",
      "[LightGBM] [Warning] No further splits with positive gain, best gain: -inf\n",
      "[LightGBM] [Warning] No further splits with positive gain, best gain: -inf\n",
      "[LightGBM] [Warning] No further splits with positive gain, best gain: -inf\n",
      "[LightGBM] [Warning] No further splits with positive gain, best gain: -inf\n",
      "[LightGBM] [Warning] No further splits with positive gain, best gain: -inf\n",
      "[LightGBM] [Warning] No further splits with positive gain, best gain: -inf\n",
      "[LightGBM] [Warning] No further splits with positive gain, best gain: -inf\n",
      "[LightGBM] [Warning] No further splits with positive gain, best gain: -inf\n",
      "[LightGBM] [Warning] No further splits with positive gain, best gain: -inf\n",
      "[LightGBM] [Warning] No further splits with positive gain, best gain: -inf\n",
      "[LightGBM] [Warning] No further splits with positive gain, best gain: -inf\n",
      "[LightGBM] [Warning] No further splits with positive gain, best gain: -inf\n",
      "[LightGBM] [Warning] No further splits with positive gain, best gain: -inf\n",
      "[LightGBM] [Warning] No further splits with positive gain, best gain: -inf\n",
      "[LightGBM] [Warning] No further splits with positive gain, best gain: -inf\n",
      "[LightGBM] [Warning] No further splits with positive gain, best gain: -inf\n",
      "[LightGBM] [Warning] No further splits with positive gain, best gain: -inf\n",
      "[LightGBM] [Warning] No further splits with positive gain, best gain: -inf\n",
      "[LightGBM] [Warning] No further splits with positive gain, best gain: -inf\n",
      "[LightGBM] [Warning] No further splits with positive gain, best gain: -inf\n",
      "[LightGBM] [Warning] No further splits with positive gain, best gain: -inf\n",
      "[LightGBM] [Warning] No further splits with positive gain, best gain: -inf\n",
      "[LightGBM] [Warning] No further splits with positive gain, best gain: -inf\n",
      "[LightGBM] [Warning] No further splits with positive gain, best gain: -inf\n",
      "[LightGBM] [Warning] No further splits with positive gain, best gain: -inf\n",
      "[LightGBM] [Warning] No further splits with positive gain, best gain: -inf\n",
      "[LightGBM] [Warning] No further splits with positive gain, best gain: -inf\n",
      "[LightGBM] [Warning] No further splits with positive gain, best gain: -inf\n",
      "[LightGBM] [Warning] No further splits with positive gain, best gain: -inf\n",
      "[LightGBM] [Warning] No further splits with positive gain, best gain: -inf\n",
      "[LightGBM] [Warning] No further splits with positive gain, best gain: -inf\n",
      "[LightGBM] [Warning] No further splits with positive gain, best gain: -inf\n",
      "[LightGBM] [Warning] No further splits with positive gain, best gain: -inf\n",
      "[LightGBM] [Warning] No further splits with positive gain, best gain: -inf\n",
      "[LightGBM] [Warning] No further splits with positive gain, best gain: -inf\n",
      "[LightGBM] [Warning] No further splits with positive gain, best gain: -inf\n",
      "[LightGBM] [Warning] No further splits with positive gain, best gain: -inf\n",
      "[LightGBM] [Warning] No further splits with positive gain, best gain: -inf\n",
      "[LightGBM] [Warning] No further splits with positive gain, best gain: -inf\n",
      "[LightGBM] [Warning] No further splits with positive gain, best gain: -inf\n",
      "[LightGBM] [Warning] No further splits with positive gain, best gain: -inf\n",
      "[LightGBM] [Warning] No further splits with positive gain, best gain: -inf\n",
      "[LightGBM] [Warning] No further splits with positive gain, best gain: -inf\n",
      "[LightGBM] [Warning] No further splits with positive gain, best gain: -inf\n",
      "[LightGBM] [Warning] No further splits with positive gain, best gain: -inf\n",
      "[LightGBM] [Warning] No further splits with positive gain, best gain: -inf\n",
      "[LightGBM] [Warning] No further splits with positive gain, best gain: -inf\n",
      "[LightGBM] [Warning] No further splits with positive gain, best gain: -inf\n",
      "[LightGBM] [Warning] No further splits with positive gain, best gain: -inf\n",
      "[LightGBM] [Warning] No further splits with positive gain, best gain: -inf\n",
      "[LightGBM] [Warning] No further splits with positive gain, best gain: -inf\n",
      "[LightGBM] [Warning] No further splits with positive gain, best gain: -inf\n",
      "[LightGBM] [Warning] No further splits with positive gain, best gain: -inf\n",
      "[LightGBM] [Warning] No further splits with positive gain, best gain: -inf\n",
      "[LightGBM] [Warning] No further splits with positive gain, best gain: -inf\n",
      "[LightGBM] [Warning] No further splits with positive gain, best gain: -inf\n",
      "[LightGBM] [Warning] No further splits with positive gain, best gain: -inf\n",
      "[LightGBM] [Warning] No further splits with positive gain, best gain: -inf\n",
      "[LightGBM] [Warning] No further splits with positive gain, best gain: -inf\n",
      "[LightGBM] [Warning] No further splits with positive gain, best gain: -inf\n",
      "[LightGBM] [Warning] No further splits with positive gain, best gain: -inf\n",
      "[LightGBM] [Warning] No further splits with positive gain, best gain: -inf\n",
      "[LightGBM] [Warning] No further splits with positive gain, best gain: -inf\n",
      "[LightGBM] [Warning] No further splits with positive gain, best gain: -inf\n",
      "[LightGBM] [Warning] No further splits with positive gain, best gain: -inf\n",
      "[LightGBM] [Warning] No further splits with positive gain, best gain: -inf\n",
      "[LightGBM] [Warning] No further splits with positive gain, best gain: -inf\n",
      "[LightGBM] [Warning] No further splits with positive gain, best gain: -inf\n",
      "[LightGBM] [Warning] No further splits with positive gain, best gain: -inf\n",
      "[LightGBM] [Warning] No further splits with positive gain, best gain: -inf\n",
      "[LightGBM] [Warning] No further splits with positive gain, best gain: -inf\n",
      "[LightGBM] [Warning] No further splits with positive gain, best gain: -inf\n",
      "[LightGBM] [Warning] No further splits with positive gain, best gain: -inf\n",
      "[LightGBM] [Warning] No further splits with positive gain, best gain: -inf\n",
      "[LightGBM] [Warning] No further splits with positive gain, best gain: -inf\n",
      "[LightGBM] [Warning] No further splits with positive gain, best gain: -inf\n",
      "[LightGBM] [Warning] No further splits with positive gain, best gain: -inf\n",
      "[LightGBM] [Warning] No further splits with positive gain, best gain: -inf\n",
      "[LightGBM] [Warning] No further splits with positive gain, best gain: -inf\n",
      "[LightGBM] [Warning] No further splits with positive gain, best gain: -inf\n",
      "[LightGBM] [Warning] No further splits with positive gain, best gain: -inf\n",
      "[LightGBM] [Warning] No further splits with positive gain, best gain: -inf\n",
      "[LightGBM] [Warning] No further splits with positive gain, best gain: -inf\n",
      "[LightGBM] [Warning] No further splits with positive gain, best gain: -inf\n",
      "[LightGBM] [Warning] No further splits with positive gain, best gain: -inf\n",
      "[LightGBM] [Warning] No further splits with positive gain, best gain: -inf\n",
      "[LightGBM] [Warning] No further splits with positive gain, best gain: -inf\n",
      "[LightGBM] [Warning] No further splits with positive gain, best gain: -inf\n",
      "[LightGBM] [Warning] No further splits with positive gain, best gain: -inf\n",
      "[LightGBM] [Warning] No further splits with positive gain, best gain: -inf\n",
      "[LightGBM] [Warning] No further splits with positive gain, best gain: -inf\n",
      "[LightGBM] [Warning] No further splits with positive gain, best gain: -inf\n",
      "[LightGBM] [Warning] No further splits with positive gain, best gain: -inf\n",
      "[LightGBM] [Warning] No further splits with positive gain, best gain: -inf\n",
      "[LightGBM] [Warning] No further splits with positive gain, best gain: -inf\n",
      "[LightGBM] [Warning] No further splits with positive gain, best gain: -inf\n",
      "[LightGBM] [Warning] No further splits with positive gain, best gain: -inf\n",
      "[LightGBM] [Warning] No further splits with positive gain, best gain: -inf\n",
      "[LightGBM] [Warning] No further splits with positive gain, best gain: -inf\n",
      "[LightGBM] [Warning] No further splits with positive gain, best gain: -inf\n",
      "[LightGBM] [Warning] No further splits with positive gain, best gain: -inf\n",
      "[LightGBM] [Warning] No further splits with positive gain, best gain: -inf\n",
      "[LightGBM] [Warning] No further splits with positive gain, best gain: -inf\n",
      "[LightGBM] [Warning] No further splits with positive gain, best gain: -inf\n",
      "[LightGBM] [Warning] No further splits with positive gain, best gain: -inf\n",
      "[LightGBM] [Warning] No further splits with positive gain, best gain: -inf\n",
      "[LightGBM] [Warning] No further splits with positive gain, best gain: -inf\n",
      "[LightGBM] [Warning] No further splits with positive gain, best gain: -inf\n",
      "[LightGBM] [Warning] No further splits with positive gain, best gain: -inf\n",
      "[LightGBM] [Warning] No further splits with positive gain, best gain: -inf\n",
      "[LightGBM] [Warning] No further splits with positive gain, best gain: -inf\n",
      "[LightGBM] [Warning] No further splits with positive gain, best gain: -inf\n",
      "[LightGBM] [Warning] No further splits with positive gain, best gain: -inf\n",
      "[LightGBM] [Warning] No further splits with positive gain, best gain: -inf\n",
      "[LightGBM] [Warning] No further splits with positive gain, best gain: -inf\n",
      "[LightGBM] [Warning] No further splits with positive gain, best gain: -inf\n",
      "[LightGBM] [Warning] No further splits with positive gain, best gain: -inf\n",
      "[LightGBM] [Warning] No further splits with positive gain, best gain: -inf\n",
      "[LightGBM] [Warning] No further splits with positive gain, best gain: -inf\n",
      "[LightGBM] [Warning] No further splits with positive gain, best gain: -inf\n",
      "[LightGBM] [Warning] No further splits with positive gain, best gain: -inf\n",
      "[LightGBM] [Warning] No further splits with positive gain, best gain: -inf\n",
      "[LightGBM] [Warning] No further splits with positive gain, best gain: -inf\n",
      "[LightGBM] [Warning] No further splits with positive gain, best gain: -inf\n",
      "[LightGBM] [Warning] No further splits with positive gain, best gain: -inf\n",
      "[LightGBM] [Warning] No further splits with positive gain, best gain: -inf\n",
      "[LightGBM] [Warning] No further splits with positive gain, best gain: -inf\n",
      "[LightGBM] [Warning] No further splits with positive gain, best gain: -inf\n",
      "[LightGBM] [Warning] No further splits with positive gain, best gain: -inf\n",
      "[LightGBM] [Warning] No further splits with positive gain, best gain: -inf\n",
      "[LightGBM] [Warning] No further splits with positive gain, best gain: -inf\n",
      "[LightGBM] [Warning] No further splits with positive gain, best gain: -inf\n",
      "[LightGBM] [Warning] No further splits with positive gain, best gain: -inf\n",
      "[LightGBM] [Warning] No further splits with positive gain, best gain: -inf\n",
      "[LightGBM] [Warning] No further splits with positive gain, best gain: -inf\n",
      "[LightGBM] [Warning] No further splits with positive gain, best gain: -inf\n",
      "[LightGBM] [Warning] No further splits with positive gain, best gain: -inf\n"
     ]
    },
    {
     "data": {
      "text/html": [
       "<pre style=\"white-space:pre;overflow-x:auto;line-height:normal;font-family:Menlo,'DejaVu Sans Mono',consolas,'Courier New',monospace\">Model: lgbmRegressor\n",
       "</pre>\n"
      ],
      "text/plain": [
       "Model: lgbmRegressor\n"
      ]
     },
     "metadata": {},
     "output_type": "display_data"
    },
    {
     "data": {
      "text/html": [
       "<pre style=\"white-space:pre;overflow-x:auto;line-height:normal;font-family:Menlo,'DejaVu Sans Mono',consolas,'Courier New',monospace\">Mean Squared Error: <span style=\"color: #008080; text-decoration-color: #008080; font-weight: bold\">18759642.98263837</span>\n",
       "</pre>\n"
      ],
      "text/plain": [
       "Mean Squared Error: \u001b[1;36m18759642.98263837\u001b[0m\n"
      ]
     },
     "metadata": {},
     "output_type": "display_data"
    },
    {
     "data": {
      "text/html": [
       "<pre style=\"white-space:pre;overflow-x:auto;line-height:normal;font-family:Menlo,'DejaVu Sans Mono',consolas,'Courier New',monospace\">Mean Absolute Error: <span style=\"color: #008080; text-decoration-color: #008080; font-weight: bold\">2546.328595980066</span>\n",
       "</pre>\n"
      ],
      "text/plain": [
       "Mean Absolute Error: \u001b[1;36m2546.328595980066\u001b[0m\n"
      ]
     },
     "metadata": {},
     "output_type": "display_data"
    },
    {
     "data": {
      "text/html": [
       "<pre style=\"white-space:pre;overflow-x:auto;line-height:normal;font-family:Menlo,'DejaVu Sans Mono',consolas,'Courier New',monospace\">r2 score: <span style=\"color: #008080; text-decoration-color: #008080; font-weight: bold\">0.8791639532099338</span>\n",
       "</pre>\n"
      ],
      "text/plain": [
       "r2 score: \u001b[1;36m0.8791639532099338\u001b[0m\n"
      ]
     },
     "metadata": {},
     "output_type": "display_data"
    },
    {
     "data": {
      "text/html": [
       "<pre style=\"white-space:pre;overflow-x:auto;line-height:normal;font-family:Menlo,'DejaVu Sans Mono',consolas,'Courier New',monospace\">lgbmRegressor.pkl\n",
       "</pre>\n"
      ],
      "text/plain": [
       "lgbmRegressor.pkl\n"
      ]
     },
     "metadata": {},
     "output_type": "display_data"
    }
   ],
   "source": [
    "from sklearn.ensemble import StackingRegressor, VotingRegressor\n",
    "\n",
    "\n",
    "lgbm_r_best_params = {\n",
    "    \"boosting_type\": \"gbdt\",\n",
    "    \"num_leaves\": 34,\n",
    "    \"max_depth\": 15,\n",
    "    \"learning_rate\": 0.010704531622389239,\n",
    "    \"n_estimators\": 600,\n",
    "    \"subsample\": 0.7473064747491451,\n",
    "    \"colsample_bytree\": 0.6897083044869945,\n",
    "    \"reg_alpha\": 0.0008853899877183763,\n",
    "    \"reg_lambda\": 0.00022280132969950255,\n",
    "    \"min_child_samples\": 74,\n",
    "}\n",
    "\n",
    "catboost_params = {\n",
    "    \"iterations\": 400,\n",
    "    \"learning_rate\": 0.01431995298948914,\n",
    "    \"depth\": 4,\n",
    "    \"l2_leaf_reg\": 1.6098925842242227,\n",
    "    \"bagging_temperature\": 0.4944015913612306,\n",
    "    \"border_count\": 209,\n",
    "    \"random_strength\": 0.1533092449089928,\n",
    "}\n",
    "\n",
    "xgb_params = {\n",
    "    \"learning_rate\": 0.02320542296870936,\n",
    "    \"max_depth\": 2,\n",
    "    \"min_child_weight\": 4,\n",
    "    \"n_estimators\": 325,\n",
    "    \"subsample\": 0.7696763482800417,\n",
    "    \"colsample_bytree\": 0.6624305100711059,\n",
    "    \"gamma\": 1.0734011514931848e-08,\n",
    "    \"reg_alpha\": 1.0811494165849225,\n",
    "    \"reg_lambda\": 1.2373677652130754e-07,\n",
    "}\n",
    "\n",
    "# Initialise the models using the best parameters found above\n",
    "xgr_optunaed = XGBRegressor(**xgb_params)\n",
    "cbr_hp_tuned = CatBoostRegressor(**catboost_params)\n",
    "lgb_hp = LGBMRegressor(**lgbm_r_best_params)\n",
    "\n",
    "# fit the best models to the data and store the models\n",
    "\n",
    "best_models = [\n",
    "    (\"XGBRegressor\", xgr_optunaed),\n",
    "    (\"CatBoostRegressor\", cbr_hp_tuned),\n",
    "    (\"lgbmRegressor\", lgb_hp),\n",
    "]\n",
    "\n",
    "for name, model in best_models:\n",
    "    model_name, model = fit_and_predict(\n",
    "        X_train, X_test, y_train, y_test, model, name, best_models_results_dict\n",
    "    )\n",
    "    filename = model_name + \".pkl\"\n",
    "    print(filename)\n",
    "    joblib.dump(model, filename)"
   ]
  },
  {
   "cell_type": "code",
   "execution_count": 35,
   "metadata": {},
   "outputs": [
    {
     "data": {
      "text/html": [
       "<pre style=\"white-space:pre;overflow-x:auto;line-height:normal;font-family:Menlo,'DejaVu Sans Mono',consolas,'Courier New',monospace\"></pre>\n"
      ],
      "text/plain": []
     },
     "metadata": {},
     "output_type": "display_data"
    },
    {
     "data": {
      "text/plain": [
       "\n",
       "\u001b[1m{\u001b[0m\n",
       "    \u001b[32m'XGBRegressor'\u001b[0m: \u001b[1;36m0.8824298933794165\u001b[0m,\n",
       "    \u001b[32m'CatBoostRegressor'\u001b[0m: \u001b[1;36m0.8799532474056627\u001b[0m,\n",
       "    \u001b[32m'lgbmRegressor'\u001b[0m: \u001b[1;36m0.8791639532099338\u001b[0m\n",
       "\u001b[1m}\u001b[0m"
      ]
     },
     "execution_count": 35,
     "metadata": {},
     "output_type": "execute_result"
    }
   ],
   "source": [
    "best_models_results_dict"
   ]
  },
  {
   "cell_type": "markdown",
   "metadata": {},
   "source": [
    "- Best is XGB Regressor"
   ]
  },
  {
   "cell_type": "markdown",
   "metadata": {},
   "source": [
    "### Create ensemble of the best models to compare to the best model \n",
    "- is it better?"
   ]
  },
  {
   "cell_type": "code",
   "execution_count": 36,
   "metadata": {},
   "outputs": [
    {
     "name": "stdout",
     "output_type": "stream",
     "text": [
      "0:\tlearn: 11874.8374633\ttotal: 620us\tremaining: 248ms\n",
      "1:\tlearn: 11737.2022435\ttotal: 1.25ms\tremaining: 250ms\n",
      "2:\tlearn: 11604.4683017\ttotal: 1.59ms\tremaining: 211ms\n",
      "3:\tlearn: 11471.5000708\ttotal: 1.86ms\tremaining: 184ms\n",
      "4:\tlearn: 11343.1159921\ttotal: 2.17ms\tremaining: 172ms\n",
      "5:\tlearn: 11217.8297348\ttotal: 2.42ms\tremaining: 159ms\n",
      "6:\tlearn: 11093.7636672\ttotal: 2.63ms\tremaining: 148ms\n",
      "7:\tlearn: 10969.3116154\ttotal: 2.85ms\tremaining: 140ms\n",
      "8:\tlearn: 10846.1077512\ttotal: 3.17ms\tremaining: 138ms\n",
      "9:\tlearn: 10725.8128409\ttotal: 3.46ms\tremaining: 135ms\n",
      "10:\tlearn: 10608.5913768\ttotal: 3.73ms\tremaining: 132ms\n",
      "11:\tlearn: 10491.7136430\ttotal: 3.96ms\tremaining: 128ms\n",
      "12:\tlearn: 10378.9722953\ttotal: 4.2ms\tremaining: 125ms\n",
      "13:\tlearn: 10265.6425799\ttotal: 4.38ms\tremaining: 121ms\n",
      "14:\tlearn: 10153.5976052\ttotal: 4.61ms\tremaining: 118ms\n",
      "15:\tlearn: 10044.5705605\ttotal: 4.8ms\tremaining: 115ms\n",
      "16:\tlearn: 9938.4919778\ttotal: 5.02ms\tremaining: 113ms\n",
      "17:\tlearn: 9831.9689276\ttotal: 5.19ms\tremaining: 110ms\n",
      "18:\tlearn: 9727.8526009\ttotal: 5.36ms\tremaining: 107ms\n",
      "19:\tlearn: 9626.9597192\ttotal: 5.52ms\tremaining: 105ms\n",
      "20:\tlearn: 9528.0018033\ttotal: 5.69ms\tremaining: 103ms\n",
      "21:\tlearn: 9428.4898322\ttotal: 5.91ms\tremaining: 101ms\n",
      "22:\tlearn: 9333.1033831\ttotal: 6.07ms\tremaining: 99.5ms\n",
      "23:\tlearn: 9237.3532503\ttotal: 6.25ms\tremaining: 97.9ms\n",
      "24:\tlearn: 9144.5790291\ttotal: 6.42ms\tremaining: 96.4ms\n",
      "25:\tlearn: 9054.0332812\ttotal: 6.61ms\tremaining: 95.1ms\n",
      "26:\tlearn: 8965.2953490\ttotal: 6.77ms\tremaining: 93.5ms\n",
      "27:\tlearn: 8875.5810712\ttotal: 6.95ms\tremaining: 92.3ms\n",
      "28:\tlearn: 8787.6856274\ttotal: 7.11ms\tremaining: 91ms\n",
      "29:\tlearn: 8702.4940868\ttotal: 7.31ms\tremaining: 90.2ms\n",
      "30:\tlearn: 8617.8627220\ttotal: 7.46ms\tremaining: 88.8ms\n",
      "31:\tlearn: 8534.3145357\ttotal: 7.61ms\tremaining: 87.6ms\n",
      "32:\tlearn: 8454.2116178\ttotal: 7.78ms\tremaining: 86.5ms\n",
      "33:\tlearn: 8373.4246918\ttotal: 8.1ms\tremaining: 87.2ms\n",
      "34:\tlearn: 8295.1622049\ttotal: 8.29ms\tremaining: 86.5ms\n",
      "35:\tlearn: 8216.1191014\ttotal: 8.5ms\tremaining: 85.9ms\n",
      "36:\tlearn: 8139.5497601\ttotal: 8.67ms\tremaining: 85ms\n",
      "37:\tlearn: 8064.4676046\ttotal: 8.85ms\tremaining: 84.3ms\n",
      "38:\tlearn: 7991.4571705\ttotal: 9.06ms\tremaining: 83.9ms\n",
      "39:\tlearn: 7918.6209598\ttotal: 9.23ms\tremaining: 83.1ms\n",
      "40:\tlearn: 7846.3204736\ttotal: 9.41ms\tremaining: 82.4ms\n",
      "41:\tlearn: 7776.5759535\ttotal: 9.59ms\tremaining: 81.7ms\n",
      "42:\tlearn: 7708.0926118\ttotal: 9.79ms\tremaining: 81.3ms\n",
      "43:\tlearn: 7642.3289556\ttotal: 9.97ms\tremaining: 80.7ms\n",
      "44:\tlearn: 7577.8926067\ttotal: 10.1ms\tremaining: 79.9ms\n",
      "45:\tlearn: 7514.1643334\ttotal: 10.3ms\tremaining: 79.1ms\n",
      "46:\tlearn: 7452.5588561\ttotal: 10.5ms\tremaining: 78.9ms\n",
      "47:\tlearn: 7391.6285471\ttotal: 10.7ms\tremaining: 78.1ms\n",
      "48:\tlearn: 7329.4613843\ttotal: 10.8ms\tremaining: 77.5ms\n",
      "49:\tlearn: 7268.5714742\ttotal: 11ms\tremaining: 77ms\n",
      "50:\tlearn: 7208.9748598\ttotal: 11.2ms\tremaining: 76.5ms\n",
      "51:\tlearn: 7152.3991215\ttotal: 11.4ms\tremaining: 76ms\n",
      "52:\tlearn: 7095.2218899\ttotal: 11.5ms\tremaining: 75.4ms\n",
      "53:\tlearn: 7039.2380791\ttotal: 11.7ms\tremaining: 74.9ms\n",
      "54:\tlearn: 6984.1823397\ttotal: 11.9ms\tremaining: 74.5ms\n",
      "55:\tlearn: 6931.1041293\ttotal: 12.1ms\tremaining: 74.1ms\n",
      "56:\tlearn: 6879.0971901\ttotal: 12.2ms\tremaining: 73.7ms\n",
      "57:\tlearn: 6828.4552572\ttotal: 12.4ms\tremaining: 73ms\n",
      "58:\tlearn: 6777.7049638\ttotal: 12.5ms\tremaining: 72.5ms\n",
      "59:\tlearn: 6728.9610046\ttotal: 12.7ms\tremaining: 72.2ms\n",
      "60:\tlearn: 6680.8951771\ttotal: 12.9ms\tremaining: 71.7ms\n",
      "61:\tlearn: 6632.6130040\ttotal: 13.1ms\tremaining: 71.2ms\n",
      "62:\tlearn: 6584.9943104\ttotal: 13.2ms\tremaining: 70.8ms\n",
      "63:\tlearn: 6537.8411057\ttotal: 13.4ms\tremaining: 70.3ms\n",
      "64:\tlearn: 6492.6773131\ttotal: 13.6ms\tremaining: 70ms\n",
      "65:\tlearn: 6447.8963247\ttotal: 13.8ms\tremaining: 69.6ms\n",
      "66:\tlearn: 6404.2675148\ttotal: 13.9ms\tremaining: 69.2ms\n",
      "67:\tlearn: 6362.7488933\ttotal: 14.1ms\tremaining: 68.7ms\n",
      "68:\tlearn: 6321.4088416\ttotal: 14.3ms\tremaining: 68.4ms\n",
      "69:\tlearn: 6281.3505022\ttotal: 14.4ms\tremaining: 68ms\n",
      "70:\tlearn: 6240.8783127\ttotal: 14.6ms\tremaining: 67.6ms\n",
      "71:\tlearn: 6201.9935004\ttotal: 14.7ms\tremaining: 67.1ms\n",
      "72:\tlearn: 6164.0968456\ttotal: 14.9ms\tremaining: 66.8ms\n",
      "73:\tlearn: 6126.6644625\ttotal: 15.1ms\tremaining: 66.5ms\n",
      "74:\tlearn: 6089.1282180\ttotal: 15.2ms\tremaining: 66.1ms\n",
      "75:\tlearn: 6051.9695411\ttotal: 15.4ms\tremaining: 65.7ms\n",
      "76:\tlearn: 6017.4432423\ttotal: 15.5ms\tremaining: 65.2ms\n",
      "77:\tlearn: 5981.4808375\ttotal: 15.7ms\tremaining: 64.8ms\n",
      "78:\tlearn: 5949.2497946\ttotal: 15.9ms\tremaining: 64.5ms\n",
      "79:\tlearn: 5916.2377417\ttotal: 16ms\tremaining: 64.1ms\n",
      "80:\tlearn: 5882.6838608\ttotal: 16.2ms\tremaining: 63.8ms\n",
      "81:\tlearn: 5850.9852022\ttotal: 16.3ms\tremaining: 63.4ms\n",
      "82:\tlearn: 5818.7421148\ttotal: 16.5ms\tremaining: 63.1ms\n",
      "83:\tlearn: 5787.3369274\ttotal: 16.7ms\tremaining: 62.8ms\n",
      "84:\tlearn: 5757.4384629\ttotal: 16.9ms\tremaining: 62.5ms\n",
      "85:\tlearn: 5728.7224312\ttotal: 17ms\tremaining: 62.2ms\n",
      "86:\tlearn: 5700.0039935\ttotal: 17.2ms\tremaining: 61.9ms\n",
      "87:\tlearn: 5670.7679596\ttotal: 17.4ms\tremaining: 61.6ms\n",
      "88:\tlearn: 5643.0341499\ttotal: 17.6ms\tremaining: 61.4ms\n",
      "89:\tlearn: 5616.2787029\ttotal: 17.7ms\tremaining: 61.1ms\n",
      "90:\tlearn: 5589.6045507\ttotal: 17.9ms\tremaining: 60.8ms\n",
      "91:\tlearn: 5563.8961598\ttotal: 18.1ms\tremaining: 60.6ms\n",
      "92:\tlearn: 5538.6984237\ttotal: 18.3ms\tremaining: 60.3ms\n",
      "93:\tlearn: 5513.3771853\ttotal: 18.4ms\tremaining: 60ms\n",
      "94:\tlearn: 5489.6045160\ttotal: 18.7ms\tremaining: 59.9ms\n",
      "95:\tlearn: 5466.5084937\ttotal: 18.8ms\tremaining: 59.5ms\n",
      "96:\tlearn: 5444.1197674\ttotal: 19ms\tremaining: 59.2ms\n",
      "97:\tlearn: 5421.3618218\ttotal: 19.1ms\tremaining: 58.9ms\n",
      "98:\tlearn: 5398.8991824\ttotal: 19.3ms\tremaining: 58.7ms\n",
      "99:\tlearn: 5376.9500830\ttotal: 19.5ms\tremaining: 58.4ms\n",
      "100:\tlearn: 5356.2788572\ttotal: 19.6ms\tremaining: 58.1ms\n",
      "101:\tlearn: 5335.5665570\ttotal: 19.8ms\tremaining: 57.9ms\n",
      "102:\tlearn: 5315.5687917\ttotal: 20ms\tremaining: 57.7ms\n",
      "103:\tlearn: 5295.9751670\ttotal: 20.2ms\tremaining: 57.4ms\n",
      "104:\tlearn: 5276.4801245\ttotal: 20.4ms\tremaining: 57.3ms\n",
      "105:\tlearn: 5256.9669491\ttotal: 20.5ms\tremaining: 57ms\n",
      "106:\tlearn: 5238.6053009\ttotal: 20.7ms\tremaining: 56.7ms\n",
      "107:\tlearn: 5221.0987434\ttotal: 20.9ms\tremaining: 56.5ms\n",
      "108:\tlearn: 5203.5668495\ttotal: 21ms\tremaining: 56.2ms\n",
      "109:\tlearn: 5185.7106630\ttotal: 21.2ms\tremaining: 55.9ms\n",
      "110:\tlearn: 5168.9258525\ttotal: 21.4ms\tremaining: 55.7ms\n",
      "111:\tlearn: 5151.6132618\ttotal: 21.6ms\tremaining: 55.5ms\n",
      "112:\tlearn: 5136.0252965\ttotal: 21.7ms\tremaining: 55.2ms\n",
      "113:\tlearn: 5120.0739360\ttotal: 21.9ms\tremaining: 55ms\n",
      "114:\tlearn: 5103.9664236\ttotal: 22.1ms\tremaining: 54.7ms\n",
      "115:\tlearn: 5088.8666733\ttotal: 22.3ms\tremaining: 54.5ms\n",
      "116:\tlearn: 5073.6954968\ttotal: 22.4ms\tremaining: 54.2ms\n",
      "117:\tlearn: 5059.0465837\ttotal: 22.6ms\tremaining: 53.9ms\n",
      "118:\tlearn: 5044.1882918\ttotal: 22.7ms\tremaining: 53.7ms\n",
      "119:\tlearn: 5030.6045209\ttotal: 22.9ms\tremaining: 53.5ms\n",
      "120:\tlearn: 5017.0957765\ttotal: 23.1ms\tremaining: 53.2ms\n",
      "121:\tlearn: 5003.1507476\ttotal: 23.3ms\tremaining: 53ms\n",
      "122:\tlearn: 4989.6116400\ttotal: 23.4ms\tremaining: 52.8ms\n",
      "123:\tlearn: 4976.5687798\ttotal: 23.6ms\tremaining: 52.6ms\n",
      "124:\tlearn: 4963.8856403\ttotal: 23.8ms\tremaining: 52.3ms\n",
      "125:\tlearn: 4951.2198670\ttotal: 24ms\tremaining: 52.1ms\n",
      "126:\tlearn: 4939.5108831\ttotal: 24.2ms\tremaining: 51.9ms\n",
      "127:\tlearn: 4927.5597504\ttotal: 24.3ms\tremaining: 51.7ms\n",
      "128:\tlearn: 4916.6479826\ttotal: 24.5ms\tremaining: 51.5ms\n",
      "129:\tlearn: 4905.6053002\ttotal: 24.7ms\tremaining: 51.2ms\n",
      "130:\tlearn: 4894.4291700\ttotal: 24.8ms\tremaining: 51ms\n",
      "131:\tlearn: 4883.4007988\ttotal: 25ms\tremaining: 50.8ms\n",
      "132:\tlearn: 4872.9717432\ttotal: 25.2ms\tremaining: 50.6ms\n",
      "133:\tlearn: 4862.3999998\ttotal: 25.4ms\tremaining: 50.4ms\n",
      "134:\tlearn: 4852.4298978\ttotal: 25.6ms\tremaining: 50.2ms\n",
      "135:\tlearn: 4842.3439067\ttotal: 25.7ms\tremaining: 50ms\n",
      "136:\tlearn: 4832.5616887\ttotal: 25.9ms\tremaining: 49.7ms\n",
      "137:\tlearn: 4822.9052209\ttotal: 26.1ms\tremaining: 49.5ms\n",
      "138:\tlearn: 4813.4965626\ttotal: 26.3ms\tremaining: 49.3ms\n",
      "139:\tlearn: 4804.5316410\ttotal: 26.5ms\tremaining: 49.2ms\n",
      "140:\tlearn: 4795.5864743\ttotal: 26.7ms\tremaining: 49ms\n",
      "141:\tlearn: 4787.0595908\ttotal: 26.8ms\tremaining: 48.8ms\n",
      "142:\tlearn: 4778.6815194\ttotal: 27ms\tremaining: 48.6ms\n",
      "143:\tlearn: 4769.7856640\ttotal: 27.2ms\tremaining: 48.4ms\n",
      "144:\tlearn: 4761.2426608\ttotal: 27.4ms\tremaining: 48.2ms\n",
      "145:\tlearn: 4753.2987838\ttotal: 27.6ms\tremaining: 48ms\n",
      "146:\tlearn: 4745.7641256\ttotal: 27.8ms\tremaining: 47.8ms\n",
      "147:\tlearn: 4737.9742266\ttotal: 27.9ms\tremaining: 47.6ms\n",
      "148:\tlearn: 4730.4527984\ttotal: 28.1ms\tremaining: 47.3ms\n",
      "149:\tlearn: 4723.3257470\ttotal: 28.3ms\tremaining: 47.1ms\n",
      "150:\tlearn: 4715.9430076\ttotal: 28.5ms\tremaining: 46.9ms\n",
      "151:\tlearn: 4709.1022142\ttotal: 28.6ms\tremaining: 46.7ms\n",
      "152:\tlearn: 4702.4732580\ttotal: 28.8ms\tremaining: 46.5ms\n",
      "153:\tlearn: 4696.2388447\ttotal: 29ms\tremaining: 46.3ms\n",
      "154:\tlearn: 4689.6817729\ttotal: 29.2ms\tremaining: 46.1ms\n",
      "155:\tlearn: 4683.3406944\ttotal: 29.4ms\tremaining: 45.9ms\n",
      "156:\tlearn: 4676.9137257\ttotal: 29.6ms\tremaining: 45.7ms\n",
      "157:\tlearn: 4670.5298662\ttotal: 29.7ms\tremaining: 45.5ms\n",
      "158:\tlearn: 4664.7228655\ttotal: 29.9ms\tremaining: 45.3ms\n",
      "159:\tlearn: 4658.5057922\ttotal: 30.1ms\tremaining: 45.1ms\n",
      "160:\tlearn: 4652.8115364\ttotal: 30.3ms\tremaining: 44.9ms\n",
      "161:\tlearn: 4646.4366092\ttotal: 30.5ms\tremaining: 44.7ms\n",
      "162:\tlearn: 4640.5188315\ttotal: 30.7ms\tremaining: 44.6ms\n",
      "163:\tlearn: 4634.7681909\ttotal: 30.8ms\tremaining: 44.4ms\n",
      "164:\tlearn: 4628.9331152\ttotal: 31ms\tremaining: 44.2ms\n",
      "165:\tlearn: 4623.8719630\ttotal: 31.2ms\tremaining: 43.9ms\n",
      "166:\tlearn: 4618.2122148\ttotal: 31.3ms\tremaining: 43.7ms\n",
      "167:\tlearn: 4613.0857211\ttotal: 31.5ms\tremaining: 43.5ms\n",
      "168:\tlearn: 4607.8355119\ttotal: 31.7ms\tremaining: 43.4ms\n",
      "169:\tlearn: 4603.0331460\ttotal: 31.9ms\tremaining: 43.1ms\n",
      "170:\tlearn: 4598.3532305\ttotal: 32.1ms\tremaining: 42.9ms\n",
      "171:\tlearn: 4593.6297662\ttotal: 32.2ms\tremaining: 42.7ms\n",
      "172:\tlearn: 4589.1033561\ttotal: 32.4ms\tremaining: 42.5ms\n",
      "173:\tlearn: 4584.2924844\ttotal: 32.6ms\tremaining: 42.4ms\n",
      "174:\tlearn: 4579.7419521\ttotal: 32.8ms\tremaining: 42.1ms\n",
      "175:\tlearn: 4575.3994926\ttotal: 32.9ms\tremaining: 41.9ms\n",
      "176:\tlearn: 4570.8894425\ttotal: 33.1ms\tremaining: 41.7ms\n",
      "177:\tlearn: 4566.3667345\ttotal: 33.3ms\tremaining: 41.5ms\n",
      "178:\tlearn: 4561.9322078\ttotal: 33.5ms\tremaining: 41.3ms\n",
      "179:\tlearn: 4557.6286572\ttotal: 33.6ms\tremaining: 41.1ms\n",
      "180:\tlearn: 4553.5787451\ttotal: 33.8ms\tremaining: 40.9ms\n",
      "181:\tlearn: 4549.5758362\ttotal: 34ms\tremaining: 40.7ms\n",
      "182:\tlearn: 4545.8242678\ttotal: 34.1ms\tremaining: 40.5ms\n",
      "183:\tlearn: 4541.5597676\ttotal: 34.3ms\tremaining: 40.3ms\n",
      "184:\tlearn: 4538.0397309\ttotal: 34.5ms\tremaining: 40.1ms\n",
      "185:\tlearn: 4533.8087275\ttotal: 34.7ms\tremaining: 39.9ms\n",
      "186:\tlearn: 4530.3411224\ttotal: 34.8ms\tremaining: 39.7ms\n",
      "187:\tlearn: 4526.4073426\ttotal: 35ms\tremaining: 39.5ms\n",
      "188:\tlearn: 4522.6663521\ttotal: 35.2ms\tremaining: 39.3ms\n",
      "189:\tlearn: 4519.4235904\ttotal: 35.4ms\tremaining: 39.1ms\n",
      "190:\tlearn: 4516.0218251\ttotal: 35.6ms\tremaining: 38.9ms\n",
      "191:\tlearn: 4512.4567392\ttotal: 35.7ms\tremaining: 38.7ms\n",
      "192:\tlearn: 4508.8410275\ttotal: 35.9ms\tremaining: 38.5ms\n",
      "193:\tlearn: 4505.4872729\ttotal: 36.1ms\tremaining: 38.4ms\n",
      "194:\tlearn: 4502.4261947\ttotal: 36.3ms\tremaining: 38.2ms\n",
      "195:\tlearn: 4499.3163500\ttotal: 36.5ms\tremaining: 37.9ms\n",
      "196:\tlearn: 4495.8554389\ttotal: 36.6ms\tremaining: 37.8ms\n",
      "197:\tlearn: 4492.7328724\ttotal: 36.8ms\tremaining: 37.6ms\n",
      "198:\tlearn: 4489.6763806\ttotal: 37ms\tremaining: 37.4ms\n",
      "199:\tlearn: 4486.8069501\ttotal: 37.2ms\tremaining: 37.2ms\n",
      "200:\tlearn: 4483.7644308\ttotal: 37.3ms\tremaining: 36.9ms\n",
      "201:\tlearn: 4481.1805835\ttotal: 37.5ms\tremaining: 36.7ms\n",
      "202:\tlearn: 4478.4259460\ttotal: 37.7ms\tremaining: 36.5ms\n",
      "203:\tlearn: 4475.5147165\ttotal: 37.8ms\tremaining: 36.3ms\n",
      "204:\tlearn: 4472.6762539\ttotal: 38ms\tremaining: 36.1ms\n",
      "205:\tlearn: 4470.1011802\ttotal: 38.1ms\tremaining: 35.9ms\n",
      "206:\tlearn: 4467.5653332\ttotal: 38.3ms\tremaining: 35.7ms\n",
      "207:\tlearn: 4464.9272012\ttotal: 38.5ms\tremaining: 35.5ms\n",
      "208:\tlearn: 4462.3161222\ttotal: 38.6ms\tremaining: 35.3ms\n",
      "209:\tlearn: 4459.5544634\ttotal: 38.8ms\tremaining: 35.1ms\n",
      "210:\tlearn: 4457.0951867\ttotal: 38.9ms\tremaining: 34.9ms\n",
      "211:\tlearn: 4454.5872260\ttotal: 39.1ms\tremaining: 34.7ms\n",
      "212:\tlearn: 4452.5155009\ttotal: 39.3ms\tremaining: 34.5ms\n",
      "213:\tlearn: 4450.0966811\ttotal: 39.5ms\tremaining: 34.3ms\n",
      "214:\tlearn: 4447.6874574\ttotal: 39.7ms\tremaining: 34.1ms\n",
      "215:\tlearn: 4445.3330391\ttotal: 39.9ms\tremaining: 34ms\n",
      "216:\tlearn: 4443.1514696\ttotal: 40ms\tremaining: 33.8ms\n",
      "217:\tlearn: 4441.0047830\ttotal: 40.2ms\tremaining: 33.6ms\n",
      "218:\tlearn: 4438.6666155\ttotal: 40.4ms\tremaining: 33.4ms\n",
      "219:\tlearn: 4436.5405779\ttotal: 40.6ms\tremaining: 33.3ms\n",
      "220:\tlearn: 4434.7140991\ttotal: 40.8ms\tremaining: 33.1ms\n",
      "221:\tlearn: 4432.7519010\ttotal: 41ms\tremaining: 32.9ms\n",
      "222:\tlearn: 4430.5240535\ttotal: 41.2ms\tremaining: 32.7ms\n",
      "223:\tlearn: 4428.3381825\ttotal: 41.4ms\tremaining: 32.5ms\n",
      "224:\tlearn: 4426.3224060\ttotal: 41.5ms\tremaining: 32.3ms\n",
      "225:\tlearn: 4424.3530242\ttotal: 41.7ms\tremaining: 32.1ms\n",
      "226:\tlearn: 4422.3501269\ttotal: 41.9ms\tremaining: 31.9ms\n",
      "227:\tlearn: 4420.6458503\ttotal: 42ms\tremaining: 31.7ms\n",
      "228:\tlearn: 4418.7072629\ttotal: 42.2ms\tremaining: 31.5ms\n",
      "229:\tlearn: 4417.0809184\ttotal: 42.4ms\tremaining: 31.3ms\n",
      "230:\tlearn: 4415.3898268\ttotal: 42.6ms\tremaining: 31.1ms\n",
      "231:\tlearn: 4413.5571969\ttotal: 42.7ms\tremaining: 30.9ms\n",
      "232:\tlearn: 4411.4178880\ttotal: 42.9ms\tremaining: 30.7ms\n",
      "233:\tlearn: 4409.6407410\ttotal: 43.1ms\tremaining: 30.6ms\n",
      "234:\tlearn: 4407.6475015\ttotal: 43.3ms\tremaining: 30.4ms\n",
      "235:\tlearn: 4405.4794325\ttotal: 43.4ms\tremaining: 30.2ms\n",
      "236:\tlearn: 4403.3137531\ttotal: 43.6ms\tremaining: 30ms\n",
      "237:\tlearn: 4401.4977227\ttotal: 43.8ms\tremaining: 29.8ms\n",
      "238:\tlearn: 4399.7955060\ttotal: 43.9ms\tremaining: 29.6ms\n",
      "239:\tlearn: 4398.1968141\ttotal: 44.1ms\tremaining: 29.4ms\n",
      "240:\tlearn: 4396.5001746\ttotal: 44.3ms\tremaining: 29.2ms\n",
      "241:\tlearn: 4394.3929914\ttotal: 44.5ms\tremaining: 29ms\n",
      "242:\tlearn: 4392.7711936\ttotal: 44.6ms\tremaining: 28.8ms\n",
      "243:\tlearn: 4391.1546733\ttotal: 44.8ms\tremaining: 28.6ms\n",
      "244:\tlearn: 4389.5234646\ttotal: 45ms\tremaining: 28.5ms\n",
      "245:\tlearn: 4387.6045627\ttotal: 45.2ms\tremaining: 28.3ms\n",
      "246:\tlearn: 4385.8986669\ttotal: 45.3ms\tremaining: 28.1ms\n",
      "247:\tlearn: 4384.1452636\ttotal: 45.5ms\tremaining: 27.9ms\n",
      "248:\tlearn: 4382.5921930\ttotal: 45.7ms\tremaining: 27.7ms\n",
      "249:\tlearn: 4381.0427514\ttotal: 45.8ms\tremaining: 27.5ms\n",
      "250:\tlearn: 4379.4702539\ttotal: 46ms\tremaining: 27.3ms\n",
      "251:\tlearn: 4378.1184584\ttotal: 46.2ms\tremaining: 27.1ms\n",
      "252:\tlearn: 4376.4585986\ttotal: 46.3ms\tremaining: 26.9ms\n",
      "253:\tlearn: 4374.6548214\ttotal: 46.5ms\tremaining: 26.7ms\n",
      "254:\tlearn: 4373.4040736\ttotal: 46.6ms\tremaining: 26.5ms\n",
      "255:\tlearn: 4371.8948663\ttotal: 46.8ms\tremaining: 26.3ms\n",
      "256:\tlearn: 4370.4171073\ttotal: 47ms\tremaining: 26.1ms\n",
      "257:\tlearn: 4368.9980454\ttotal: 47.1ms\tremaining: 25.9ms\n",
      "258:\tlearn: 4367.6423111\ttotal: 47.3ms\tremaining: 25.7ms\n",
      "259:\tlearn: 4366.2639541\ttotal: 47.5ms\tremaining: 25.6ms\n",
      "260:\tlearn: 4365.0692733\ttotal: 47.7ms\tremaining: 25.4ms\n",
      "261:\tlearn: 4363.8847188\ttotal: 47.8ms\tremaining: 25.2ms\n",
      "262:\tlearn: 4362.6347288\ttotal: 48ms\tremaining: 25ms\n",
      "263:\tlearn: 4361.4196999\ttotal: 48.2ms\tremaining: 24.8ms\n",
      "264:\tlearn: 4360.4169719\ttotal: 48.4ms\tremaining: 24.6ms\n",
      "265:\tlearn: 4359.1365987\ttotal: 48.5ms\tremaining: 24.5ms\n",
      "266:\tlearn: 4357.5840419\ttotal: 48.7ms\tremaining: 24.3ms\n",
      "267:\tlearn: 4356.2006248\ttotal: 48.9ms\tremaining: 24.1ms\n",
      "268:\tlearn: 4355.1659110\ttotal: 49.1ms\tremaining: 23.9ms\n",
      "269:\tlearn: 4353.6828067\ttotal: 49.2ms\tremaining: 23.7ms\n",
      "270:\tlearn: 4352.4401164\ttotal: 49.4ms\tremaining: 23.5ms\n",
      "271:\tlearn: 4351.2222814\ttotal: 49.6ms\tremaining: 23.3ms\n",
      "272:\tlearn: 4350.0202692\ttotal: 49.7ms\tremaining: 23.1ms\n",
      "273:\tlearn: 4348.7497419\ttotal: 49.9ms\tremaining: 23ms\n",
      "274:\tlearn: 4345.8790768\ttotal: 50.1ms\tremaining: 22.8ms\n",
      "275:\tlearn: 4344.6970969\ttotal: 50.2ms\tremaining: 22.6ms\n",
      "276:\tlearn: 4343.6201763\ttotal: 50.4ms\tremaining: 22.4ms\n",
      "277:\tlearn: 4342.4132556\ttotal: 50.5ms\tremaining: 22.2ms\n",
      "278:\tlearn: 4341.3741097\ttotal: 50.7ms\tremaining: 22ms\n",
      "279:\tlearn: 4340.4082638\ttotal: 50.8ms\tremaining: 21.8ms\n",
      "280:\tlearn: 4338.8714670\ttotal: 51ms\tremaining: 21.6ms\n",
      "281:\tlearn: 4337.6421928\ttotal: 51.2ms\tremaining: 21.4ms\n",
      "282:\tlearn: 4336.3951691\ttotal: 51.4ms\tremaining: 21.2ms\n",
      "283:\tlearn: 4335.2524718\ttotal: 51.5ms\tremaining: 21ms\n",
      "284:\tlearn: 4334.1952924\ttotal: 51.7ms\tremaining: 20.9ms\n",
      "285:\tlearn: 4332.8861286\ttotal: 51.9ms\tremaining: 20.7ms\n",
      "286:\tlearn: 4331.4038953\ttotal: 52ms\tremaining: 20.5ms\n",
      "287:\tlearn: 4329.9341634\ttotal: 52.2ms\tremaining: 20.3ms\n",
      "288:\tlearn: 4328.7239707\ttotal: 52.4ms\tremaining: 20.1ms\n",
      "289:\tlearn: 4327.8165451\ttotal: 52.5ms\tremaining: 19.9ms\n",
      "290:\tlearn: 4326.6558872\ttotal: 52.7ms\tremaining: 19.7ms\n",
      "291:\tlearn: 4325.5878443\ttotal: 53.2ms\tremaining: 19.7ms\n",
      "292:\tlearn: 4324.6195810\ttotal: 53.6ms\tremaining: 19.6ms\n",
      "293:\tlearn: 4323.5060332\ttotal: 53.8ms\tremaining: 19.4ms\n",
      "294:\tlearn: 4322.5417746\ttotal: 53.9ms\tremaining: 19.2ms\n",
      "295:\tlearn: 4321.5927577\ttotal: 54.3ms\tremaining: 19.1ms\n",
      "296:\tlearn: 4320.7933023\ttotal: 54.5ms\tremaining: 18.9ms\n",
      "297:\tlearn: 4319.6983410\ttotal: 54.7ms\tremaining: 18.7ms\n",
      "298:\tlearn: 4318.6218047\ttotal: 55ms\tremaining: 18.6ms\n",
      "299:\tlearn: 4317.5841810\ttotal: 55.2ms\tremaining: 18.4ms\n",
      "300:\tlearn: 4316.5171891\ttotal: 55.4ms\tremaining: 18.2ms\n",
      "301:\tlearn: 4315.7811576\ttotal: 55.5ms\tremaining: 18ms\n",
      "302:\tlearn: 4314.3606003\ttotal: 55.7ms\tremaining: 17.8ms\n",
      "303:\tlearn: 4313.1730115\ttotal: 55.9ms\tremaining: 17.6ms\n",
      "304:\tlearn: 4312.4146246\ttotal: 56ms\tremaining: 17.5ms\n",
      "305:\tlearn: 4311.4381314\ttotal: 56.2ms\tremaining: 17.3ms\n",
      "306:\tlearn: 4310.7323152\ttotal: 56.4ms\tremaining: 17.1ms\n",
      "307:\tlearn: 4309.9112148\ttotal: 56.5ms\tremaining: 16.9ms\n",
      "308:\tlearn: 4309.1190046\ttotal: 56.7ms\tremaining: 16.7ms\n",
      "309:\tlearn: 4308.0265765\ttotal: 57.2ms\tremaining: 16.6ms\n",
      "310:\tlearn: 4307.1182723\ttotal: 61.6ms\tremaining: 17.6ms\n",
      "311:\tlearn: 4306.3368943\ttotal: 62.6ms\tremaining: 17.7ms\n",
      "312:\tlearn: 4304.8053136\ttotal: 63.4ms\tremaining: 17.6ms\n",
      "313:\tlearn: 4303.8562153\ttotal: 73.7ms\tremaining: 20.2ms\n",
      "314:\tlearn: 4303.0535487\ttotal: 75.2ms\tremaining: 20.3ms\n",
      "315:\tlearn: 4301.4165471\ttotal: 76.5ms\tremaining: 20.3ms\n",
      "316:\tlearn: 4300.3075583\ttotal: 76.7ms\tremaining: 20.1ms\n",
      "317:\tlearn: 4299.3154950\ttotal: 76.9ms\tremaining: 19.8ms\n",
      "318:\tlearn: 4298.4509030\ttotal: 77.1ms\tremaining: 19.6ms\n",
      "319:\tlearn: 4297.5685588\ttotal: 77.3ms\tremaining: 19.3ms\n",
      "320:\tlearn: 4296.0428112\ttotal: 77.5ms\tremaining: 19.1ms\n",
      "321:\tlearn: 4294.9883045\ttotal: 77.7ms\tremaining: 18.8ms\n",
      "322:\tlearn: 4294.0011828\ttotal: 77.9ms\tremaining: 18.6ms\n",
      "323:\tlearn: 4291.3829160\ttotal: 78.3ms\tremaining: 18.4ms\n",
      "324:\tlearn: 4289.9726304\ttotal: 82.3ms\tremaining: 19ms\n",
      "325:\tlearn: 4289.1710353\ttotal: 82.5ms\tremaining: 18.7ms\n",
      "326:\tlearn: 4288.3281072\ttotal: 99.8ms\tremaining: 22.3ms\n",
      "327:\tlearn: 4285.7701192\ttotal: 100ms\tremaining: 22ms\n",
      "328:\tlearn: 4285.0292322\ttotal: 100ms\tremaining: 21.6ms\n",
      "329:\tlearn: 4284.3413501\ttotal: 101ms\tremaining: 21.3ms\n",
      "330:\tlearn: 4283.5341979\ttotal: 101ms\tremaining: 21ms\n",
      "331:\tlearn: 4282.1221361\ttotal: 101ms\tremaining: 20.7ms\n",
      "332:\tlearn: 4280.9998827\ttotal: 101ms\tremaining: 20.3ms\n",
      "333:\tlearn: 4279.9631512\ttotal: 101ms\tremaining: 20ms\n",
      "334:\tlearn: 4279.1577725\ttotal: 101ms\tremaining: 19.7ms\n",
      "335:\tlearn: 4278.5256253\ttotal: 102ms\tremaining: 19.4ms\n",
      "336:\tlearn: 4277.9451332\ttotal: 102ms\tremaining: 19ms\n",
      "337:\tlearn: 4277.0611812\ttotal: 102ms\tremaining: 18.7ms\n",
      "338:\tlearn: 4275.7469415\ttotal: 102ms\tremaining: 18.4ms\n",
      "339:\tlearn: 4274.8812266\ttotal: 102ms\tremaining: 18.1ms\n",
      "340:\tlearn: 4274.1926883\ttotal: 103ms\tremaining: 17.7ms\n",
      "341:\tlearn: 4273.5589398\ttotal: 103ms\tremaining: 17.4ms\n",
      "342:\tlearn: 4272.7396770\ttotal: 103ms\tremaining: 17.1ms\n",
      "343:\tlearn: 4271.8070341\ttotal: 103ms\tremaining: 16.8ms\n",
      "344:\tlearn: 4271.0866579\ttotal: 103ms\tremaining: 16.5ms\n",
      "345:\tlearn: 4270.3857464\ttotal: 103ms\tremaining: 16.1ms\n",
      "346:\tlearn: 4269.3417330\ttotal: 104ms\tremaining: 15.8ms\n",
      "347:\tlearn: 4268.6664649\ttotal: 104ms\tremaining: 15.5ms\n",
      "348:\tlearn: 4268.0901112\ttotal: 104ms\tremaining: 15.2ms\n",
      "349:\tlearn: 4267.4422258\ttotal: 104ms\tremaining: 14.9ms\n",
      "350:\tlearn: 4266.8650951\ttotal: 104ms\tremaining: 14.6ms\n",
      "351:\tlearn: 4266.1187027\ttotal: 105ms\tremaining: 14.3ms\n",
      "352:\tlearn: 4265.3816931\ttotal: 105ms\tremaining: 13.9ms\n",
      "353:\tlearn: 4264.3498312\ttotal: 109ms\tremaining: 14.2ms\n",
      "354:\tlearn: 4263.9057855\ttotal: 109ms\tremaining: 13.9ms\n",
      "355:\tlearn: 4263.2191925\ttotal: 109ms\tremaining: 13.5ms\n",
      "356:\tlearn: 4262.6208070\ttotal: 110ms\tremaining: 13.2ms\n",
      "357:\tlearn: 4262.1011080\ttotal: 110ms\tremaining: 12.9ms\n",
      "358:\tlearn: 4260.9046059\ttotal: 110ms\tremaining: 12.6ms\n",
      "359:\tlearn: 4260.1540071\ttotal: 111ms\tremaining: 12.3ms\n",
      "360:\tlearn: 4259.2479295\ttotal: 111ms\tremaining: 12ms\n",
      "361:\tlearn: 4258.5191954\ttotal: 111ms\tremaining: 11.6ms\n",
      "362:\tlearn: 4257.8047725\ttotal: 111ms\tremaining: 11.3ms\n",
      "363:\tlearn: 4257.0958997\ttotal: 112ms\tremaining: 11ms\n",
      "364:\tlearn: 4256.3073532\ttotal: 112ms\tremaining: 10.7ms\n",
      "365:\tlearn: 4255.6599011\ttotal: 112ms\tremaining: 10.4ms\n",
      "366:\tlearn: 4254.2436005\ttotal: 112ms\tremaining: 10.1ms\n",
      "367:\tlearn: 4253.3706131\ttotal: 112ms\tremaining: 9.77ms\n",
      "368:\tlearn: 4252.0060285\ttotal: 113ms\tremaining: 9.46ms\n",
      "369:\tlearn: 4250.9952367\ttotal: 113ms\tremaining: 9.14ms\n",
      "370:\tlearn: 4250.3691887\ttotal: 113ms\tremaining: 8.83ms\n",
      "371:\tlearn: 4249.1993671\ttotal: 113ms\tremaining: 8.51ms\n",
      "372:\tlearn: 4248.4269182\ttotal: 113ms\tremaining: 8.2ms\n",
      "373:\tlearn: 4247.1273086\ttotal: 113ms\tremaining: 7.88ms\n",
      "374:\tlearn: 4246.4873840\ttotal: 114ms\tremaining: 7.57ms\n",
      "375:\tlearn: 4245.7158175\ttotal: 114ms\tremaining: 7.26ms\n",
      "376:\tlearn: 4244.8981512\ttotal: 114ms\tremaining: 6.95ms\n",
      "377:\tlearn: 4244.3915683\ttotal: 114ms\tremaining: 6.64ms\n",
      "378:\tlearn: 4243.7440055\ttotal: 114ms\tremaining: 6.33ms\n",
      "379:\tlearn: 4243.0197172\ttotal: 114ms\tremaining: 6.02ms\n",
      "380:\tlearn: 4241.8045659\ttotal: 115ms\tremaining: 5.71ms\n",
      "381:\tlearn: 4241.4661662\ttotal: 115ms\tremaining: 5.41ms\n",
      "382:\tlearn: 4239.1302301\ttotal: 115ms\tremaining: 5.1ms\n",
      "383:\tlearn: 4237.8962491\ttotal: 115ms\tremaining: 4.79ms\n",
      "384:\tlearn: 4237.3275045\ttotal: 115ms\tremaining: 4.49ms\n",
      "385:\tlearn: 4236.7592085\ttotal: 115ms\tremaining: 4.19ms\n",
      "386:\tlearn: 4236.1562872\ttotal: 116ms\tremaining: 3.88ms\n",
      "387:\tlearn: 4235.3190959\ttotal: 116ms\tremaining: 3.58ms\n",
      "388:\tlearn: 4234.4882209\ttotal: 116ms\tremaining: 3.28ms\n",
      "389:\tlearn: 4233.8079363\ttotal: 116ms\tremaining: 2.98ms\n",
      "390:\tlearn: 4233.2011210\ttotal: 116ms\tremaining: 2.68ms\n",
      "391:\tlearn: 4232.3224476\ttotal: 116ms\tremaining: 2.38ms\n",
      "392:\tlearn: 4231.4857087\ttotal: 117ms\tremaining: 2.08ms\n",
      "393:\tlearn: 4230.8162934\ttotal: 117ms\tremaining: 1.78ms\n",
      "394:\tlearn: 4229.7901586\ttotal: 117ms\tremaining: 1.48ms\n",
      "395:\tlearn: 4228.7192545\ttotal: 117ms\tremaining: 1.18ms\n",
      "396:\tlearn: 4227.1334491\ttotal: 117ms\tremaining: 886us\n",
      "397:\tlearn: 4226.4934639\ttotal: 118ms\tremaining: 591us\n",
      "398:\tlearn: 4225.3003556\ttotal: 118ms\tremaining: 295us\n",
      "399:\tlearn: 4224.7587272\ttotal: 118ms\tremaining: 0us\n",
      "0:\tlearn: 11906.9114064\ttotal: 210us\tremaining: 84.1ms\n",
      "1:\tlearn: 11769.2381995\ttotal: 372us\tremaining: 74.2ms\n",
      "2:\tlearn: 11636.9599586\ttotal: 541us\tremaining: 71.6ms\n",
      "3:\tlearn: 11504.4965811\ttotal: 712us\tremaining: 70.6ms\n",
      "4:\tlearn: 11376.5007700\ttotal: 883us\tremaining: 69.8ms\n",
      "5:\tlearn: 11247.2669755\ttotal: 1.05ms\tremaining: 68.7ms\n",
      "6:\tlearn: 11123.2864938\ttotal: 1.2ms\tremaining: 67.5ms\n",
      "7:\tlearn: 10998.2590181\ttotal: 1.37ms\tremaining: 67.3ms\n",
      "8:\tlearn: 10875.0737433\ttotal: 1.53ms\tremaining: 66.5ms\n",
      "9:\tlearn: 10754.5209841\ttotal: 1.69ms\tremaining: 66.1ms\n",
      "10:\tlearn: 10635.6087217\ttotal: 1.84ms\tremaining: 65ms\n",
      "11:\tlearn: 10518.5448101\ttotal: 1.99ms\tremaining: 64.5ms\n",
      "12:\tlearn: 10403.6572413\ttotal: 2.14ms\tremaining: 63.6ms\n",
      "13:\tlearn: 10289.9352359\ttotal: 2.28ms\tremaining: 62.9ms\n",
      "14:\tlearn: 10178.1473004\ttotal: 2.44ms\tremaining: 62.6ms\n",
      "15:\tlearn: 10070.0501010\ttotal: 2.58ms\tremaining: 61.9ms\n",
      "16:\tlearn: 9964.3953895\ttotal: 2.71ms\tremaining: 61.1ms\n",
      "17:\tlearn: 9857.5401660\ttotal: 2.86ms\tremaining: 60.7ms\n",
      "18:\tlearn: 9753.5360422\ttotal: 3.01ms\tremaining: 60.4ms\n",
      "19:\tlearn: 9651.0550731\ttotal: 3.21ms\tremaining: 61ms\n",
      "20:\tlearn: 9552.5000618\ttotal: 3.37ms\tremaining: 60.9ms\n",
      "21:\tlearn: 9454.8064382\ttotal: 3.53ms\tremaining: 60.6ms\n",
      "22:\tlearn: 9359.3189386\ttotal: 3.67ms\tremaining: 60.2ms\n",
      "23:\tlearn: 9263.0748360\ttotal: 3.84ms\tremaining: 60.1ms\n",
      "24:\tlearn: 9170.5428898\ttotal: 3.98ms\tremaining: 59.7ms\n",
      "25:\tlearn: 9079.5878643\ttotal: 4.14ms\tremaining: 59.5ms\n",
      "26:\tlearn: 8990.7525001\ttotal: 4.26ms\tremaining: 58.9ms\n",
      "27:\tlearn: 8900.5978218\ttotal: 4.41ms\tremaining: 58.5ms\n",
      "28:\tlearn: 8812.9182907\ttotal: 4.57ms\tremaining: 58.4ms\n",
      "29:\tlearn: 8727.8327017\ttotal: 4.74ms\tremaining: 58.4ms\n",
      "30:\tlearn: 8642.3947674\ttotal: 4.9ms\tremaining: 58.3ms\n",
      "31:\tlearn: 8559.3389176\ttotal: 5.05ms\tremaining: 58.1ms\n",
      "32:\tlearn: 8478.5465102\ttotal: 5.21ms\tremaining: 57.9ms\n",
      "33:\tlearn: 8396.8818716\ttotal: 5.4ms\tremaining: 58.2ms\n",
      "34:\tlearn: 8318.4814923\ttotal: 5.56ms\tremaining: 58ms\n",
      "35:\tlearn: 8238.8546845\ttotal: 5.69ms\tremaining: 57.5ms\n",
      "36:\tlearn: 8161.5336430\ttotal: 5.82ms\tremaining: 57.1ms\n",
      "37:\tlearn: 8085.3759144\ttotal: 5.97ms\tremaining: 56.8ms\n",
      "38:\tlearn: 8011.4635247\ttotal: 6.12ms\tremaining: 56.6ms\n",
      "39:\tlearn: 7937.7991529\ttotal: 6.25ms\tremaining: 56.3ms\n",
      "40:\tlearn: 7865.7712788\ttotal: 6.41ms\tremaining: 56.1ms\n",
      "41:\tlearn: 7794.6680451\ttotal: 6.58ms\tremaining: 56.1ms\n",
      "42:\tlearn: 7727.4858662\ttotal: 6.77ms\tremaining: 56.2ms\n",
      "43:\tlearn: 7660.2033940\ttotal: 6.93ms\tremaining: 56.1ms\n",
      "44:\tlearn: 7595.0590029\ttotal: 7.06ms\tremaining: 55.7ms\n",
      "45:\tlearn: 7530.5776288\ttotal: 7.18ms\tremaining: 55.3ms\n",
      "46:\tlearn: 7468.1267025\ttotal: 7.33ms\tremaining: 55.1ms\n",
      "47:\tlearn: 7405.2213073\ttotal: 7.48ms\tremaining: 54.9ms\n",
      "48:\tlearn: 7342.7901287\ttotal: 7.64ms\tremaining: 54.7ms\n",
      "49:\tlearn: 7281.9200524\ttotal: 7.79ms\tremaining: 54.5ms\n",
      "50:\tlearn: 7221.6770113\ttotal: 7.93ms\tremaining: 54.3ms\n",
      "51:\tlearn: 7164.2151571\ttotal: 8.1ms\tremaining: 54.2ms\n",
      "52:\tlearn: 7106.9421964\ttotal: 8.25ms\tremaining: 54ms\n",
      "53:\tlearn: 7049.1941715\ttotal: 8.42ms\tremaining: 53.9ms\n",
      "54:\tlearn: 6993.2459340\ttotal: 8.6ms\tremaining: 53.9ms\n",
      "55:\tlearn: 6938.9336562\ttotal: 8.74ms\tremaining: 53.7ms\n",
      "56:\tlearn: 6884.6384859\ttotal: 8.87ms\tremaining: 53.4ms\n",
      "57:\tlearn: 6831.3877412\ttotal: 9ms\tremaining: 53.1ms\n",
      "58:\tlearn: 6779.6801881\ttotal: 9.15ms\tremaining: 52.9ms\n",
      "59:\tlearn: 6729.7702389\ttotal: 9.31ms\tremaining: 52.8ms\n",
      "60:\tlearn: 6679.8034191\ttotal: 9.45ms\tremaining: 52.5ms\n",
      "61:\tlearn: 6630.4472960\ttotal: 9.61ms\tremaining: 52.4ms\n",
      "62:\tlearn: 6581.8729710\ttotal: 9.75ms\tremaining: 52.2ms\n",
      "63:\tlearn: 6533.8009010\ttotal: 9.9ms\tremaining: 52ms\n",
      "64:\tlearn: 6488.6657855\ttotal: 10ms\tremaining: 51.7ms\n",
      "65:\tlearn: 6442.4347282\ttotal: 10.2ms\tremaining: 51.5ms\n",
      "66:\tlearn: 6398.0870131\ttotal: 10.4ms\tremaining: 51.5ms\n",
      "67:\tlearn: 6355.6007009\ttotal: 10.5ms\tremaining: 51.3ms\n",
      "68:\tlearn: 6314.1758536\ttotal: 10.7ms\tremaining: 51.2ms\n",
      "69:\tlearn: 6273.3067368\ttotal: 10.9ms\tremaining: 51.2ms\n",
      "70:\tlearn: 6232.6083791\ttotal: 11ms\tremaining: 51ms\n",
      "71:\tlearn: 6192.4340488\ttotal: 11.2ms\tremaining: 50.8ms\n",
      "72:\tlearn: 6152.8804748\ttotal: 11.3ms\tremaining: 50.7ms\n",
      "73:\tlearn: 6113.6963413\ttotal: 11.5ms\tremaining: 50.5ms\n",
      "74:\tlearn: 6074.5339088\ttotal: 11.6ms\tremaining: 50.4ms\n",
      "75:\tlearn: 6039.0361136\ttotal: 11.8ms\tremaining: 50.2ms\n",
      "76:\tlearn: 6003.9230131\ttotal: 11.9ms\tremaining: 50.1ms\n",
      "77:\tlearn: 5968.0147138\ttotal: 12.1ms\tremaining: 49.9ms\n",
      "78:\tlearn: 5933.3591474\ttotal: 12.2ms\tremaining: 49.8ms\n",
      "79:\tlearn: 5898.2955232\ttotal: 12.4ms\tremaining: 49.7ms\n",
      "80:\tlearn: 5864.2540536\ttotal: 12.6ms\tremaining: 49.5ms\n",
      "81:\tlearn: 5832.1789786\ttotal: 12.7ms\tremaining: 49.4ms\n",
      "82:\tlearn: 5799.6991418\ttotal: 12.9ms\tremaining: 49.2ms\n",
      "83:\tlearn: 5767.4972417\ttotal: 13ms\tremaining: 49.1ms\n",
      "84:\tlearn: 5736.4287352\ttotal: 13.2ms\tremaining: 49ms\n",
      "85:\tlearn: 5707.5477540\ttotal: 13.4ms\tremaining: 49ms\n",
      "86:\tlearn: 5677.4089434\ttotal: 13.6ms\tremaining: 49ms\n",
      "87:\tlearn: 5648.8590300\ttotal: 13.8ms\tremaining: 48.8ms\n",
      "88:\tlearn: 5620.2289505\ttotal: 13.9ms\tremaining: 48.6ms\n",
      "89:\tlearn: 5592.7250026\ttotal: 14.1ms\tremaining: 48.4ms\n",
      "90:\tlearn: 5565.1392477\ttotal: 14.2ms\tremaining: 48.2ms\n",
      "91:\tlearn: 5538.4347462\ttotal: 14.4ms\tremaining: 48.1ms\n",
      "92:\tlearn: 5512.3470284\ttotal: 14.5ms\tremaining: 47.9ms\n",
      "93:\tlearn: 5487.8928245\ttotal: 14.7ms\tremaining: 47.7ms\n",
      "94:\tlearn: 5463.0382949\ttotal: 14.8ms\tremaining: 47.6ms\n",
      "95:\tlearn: 5438.5969394\ttotal: 15ms\tremaining: 47.4ms\n",
      "96:\tlearn: 5415.0002814\ttotal: 15.1ms\tremaining: 47.2ms\n",
      "97:\tlearn: 5392.8033354\ttotal: 15.3ms\tremaining: 47.1ms\n",
      "98:\tlearn: 5369.3726719\ttotal: 15.4ms\tremaining: 46.9ms\n",
      "99:\tlearn: 5346.5382088\ttotal: 15.6ms\tremaining: 46.8ms\n",
      "100:\tlearn: 5324.4371851\ttotal: 15.8ms\tremaining: 46.7ms\n",
      "101:\tlearn: 5302.7252659\ttotal: 15.9ms\tremaining: 46.6ms\n",
      "102:\tlearn: 5281.6677845\ttotal: 16.1ms\tremaining: 46.4ms\n",
      "103:\tlearn: 5261.0791586\ttotal: 16.3ms\tremaining: 46.4ms\n",
      "104:\tlearn: 5241.0101085\ttotal: 16.4ms\tremaining: 46.2ms\n",
      "105:\tlearn: 5221.2919641\ttotal: 16.6ms\tremaining: 46ms\n",
      "106:\tlearn: 5202.0625400\ttotal: 16.7ms\tremaining: 45.8ms\n",
      "107:\tlearn: 5183.0619868\ttotal: 16.9ms\tremaining: 45.6ms\n",
      "108:\tlearn: 5164.3684595\ttotal: 17.1ms\tremaining: 45.6ms\n",
      "109:\tlearn: 5145.9373491\ttotal: 17.2ms\tremaining: 45.4ms\n",
      "110:\tlearn: 5128.1213353\ttotal: 17.4ms\tremaining: 45.2ms\n",
      "111:\tlearn: 5110.9529404\ttotal: 17.5ms\tremaining: 45.1ms\n",
      "112:\tlearn: 5094.2071182\ttotal: 17.7ms\tremaining: 44.9ms\n",
      "113:\tlearn: 5077.9410382\ttotal: 17.9ms\tremaining: 44.8ms\n",
      "114:\tlearn: 5062.6237692\ttotal: 18ms\tremaining: 44.6ms\n",
      "115:\tlearn: 5045.9660502\ttotal: 18.2ms\tremaining: 44.5ms\n",
      "116:\tlearn: 5030.4976047\ttotal: 18.3ms\tremaining: 44.3ms\n",
      "117:\tlearn: 5015.8452684\ttotal: 18.5ms\tremaining: 44.2ms\n",
      "118:\tlearn: 5000.8665154\ttotal: 18.6ms\tremaining: 44ms\n",
      "119:\tlearn: 4986.3847839\ttotal: 18.8ms\tremaining: 43.9ms\n",
      "120:\tlearn: 4972.3451424\ttotal: 18.9ms\tremaining: 43.7ms\n",
      "121:\tlearn: 4958.0131260\ttotal: 19.1ms\tremaining: 43.5ms\n",
      "122:\tlearn: 4944.6325081\ttotal: 19.2ms\tremaining: 43.4ms\n",
      "123:\tlearn: 4931.1472046\ttotal: 19.4ms\tremaining: 43.2ms\n",
      "124:\tlearn: 4918.6049602\ttotal: 19.6ms\tremaining: 43ms\n",
      "125:\tlearn: 4906.2284366\ttotal: 19.7ms\tremaining: 42.9ms\n",
      "126:\tlearn: 4894.0366820\ttotal: 19.9ms\tremaining: 42.7ms\n",
      "127:\tlearn: 4881.9894980\ttotal: 20ms\tremaining: 42.6ms\n",
      "128:\tlearn: 4870.5980193\ttotal: 20.2ms\tremaining: 42.4ms\n",
      "129:\tlearn: 4858.3146189\ttotal: 20.3ms\tremaining: 42.3ms\n",
      "130:\tlearn: 4846.6384195\ttotal: 20.5ms\tremaining: 42.1ms\n",
      "131:\tlearn: 4834.8988366\ttotal: 20.7ms\tremaining: 42ms\n",
      "132:\tlearn: 4823.3414527\ttotal: 20.8ms\tremaining: 41.8ms\n",
      "133:\tlearn: 4812.3838149\ttotal: 21ms\tremaining: 41.7ms\n",
      "134:\tlearn: 4801.9526091\ttotal: 21.2ms\tremaining: 41.5ms\n",
      "135:\tlearn: 4791.2112536\ttotal: 21.3ms\tremaining: 41.3ms\n",
      "136:\tlearn: 4780.5634778\ttotal: 21.4ms\tremaining: 41.2ms\n",
      "137:\tlearn: 4770.5753875\ttotal: 21.6ms\tremaining: 41ms\n",
      "138:\tlearn: 4760.8785321\ttotal: 21.8ms\tremaining: 40.8ms\n",
      "139:\tlearn: 4751.4485761\ttotal: 21.9ms\tremaining: 40.7ms\n",
      "140:\tlearn: 4742.0546454\ttotal: 22ms\tremaining: 40.5ms\n",
      "141:\tlearn: 4733.1685006\ttotal: 22.2ms\tremaining: 40.4ms\n",
      "142:\tlearn: 4724.6027143\ttotal: 22.4ms\tremaining: 40.2ms\n",
      "143:\tlearn: 4715.4019708\ttotal: 22.6ms\tremaining: 40.1ms\n",
      "144:\tlearn: 4706.7638714\ttotal: 22.7ms\tremaining: 39.9ms\n",
      "145:\tlearn: 4697.8482191\ttotal: 22.9ms\tremaining: 39.8ms\n",
      "146:\tlearn: 4689.1035212\ttotal: 23ms\tremaining: 39.6ms\n",
      "147:\tlearn: 4680.7042217\ttotal: 23.2ms\tremaining: 39.5ms\n",
      "148:\tlearn: 4672.7692178\ttotal: 23.3ms\tremaining: 39.3ms\n",
      "149:\tlearn: 4664.6975348\ttotal: 23.5ms\tremaining: 39.1ms\n",
      "150:\tlearn: 4657.0817009\ttotal: 23.6ms\tremaining: 39ms\n",
      "151:\tlearn: 4649.5659489\ttotal: 23.8ms\tremaining: 38.8ms\n",
      "152:\tlearn: 4642.4074011\ttotal: 24ms\tremaining: 38.7ms\n",
      "153:\tlearn: 4634.8445715\ttotal: 24.1ms\tremaining: 38.6ms\n",
      "154:\tlearn: 4627.6518804\ttotal: 24.3ms\tremaining: 38.4ms\n",
      "155:\tlearn: 4620.6674793\ttotal: 24.4ms\tremaining: 38.2ms\n",
      "156:\tlearn: 4613.8080972\ttotal: 24.6ms\tremaining: 38.1ms\n",
      "157:\tlearn: 4607.3440380\ttotal: 24.8ms\tremaining: 37.9ms\n",
      "158:\tlearn: 4600.8184910\ttotal: 24.9ms\tremaining: 37.7ms\n",
      "159:\tlearn: 4594.8450133\ttotal: 25ms\tremaining: 37.6ms\n",
      "160:\tlearn: 4588.3555623\ttotal: 25.2ms\tremaining: 37.4ms\n",
      "161:\tlearn: 4581.9319715\ttotal: 25.3ms\tremaining: 37.2ms\n",
      "162:\tlearn: 4576.2649081\ttotal: 25.5ms\tremaining: 37ms\n",
      "163:\tlearn: 4569.6626052\ttotal: 25.6ms\tremaining: 36.9ms\n",
      "164:\tlearn: 4563.7870712\ttotal: 25.8ms\tremaining: 36.7ms\n",
      "165:\tlearn: 4557.8894128\ttotal: 26ms\tremaining: 36.6ms\n",
      "166:\tlearn: 4552.3307448\ttotal: 26.1ms\tremaining: 36.5ms\n",
      "167:\tlearn: 4546.7975272\ttotal: 26.3ms\tremaining: 36.3ms\n",
      "168:\tlearn: 4541.2130642\ttotal: 26.4ms\tremaining: 36.1ms\n",
      "169:\tlearn: 4534.8443990\ttotal: 26.6ms\tremaining: 36ms\n",
      "170:\tlearn: 4529.2125781\ttotal: 26.7ms\tremaining: 35.8ms\n",
      "171:\tlearn: 4524.0797756\ttotal: 26.9ms\tremaining: 35.7ms\n",
      "172:\tlearn: 4519.0676896\ttotal: 27.1ms\tremaining: 35.5ms\n",
      "173:\tlearn: 4514.2280975\ttotal: 27.2ms\tremaining: 35.4ms\n",
      "174:\tlearn: 4509.6473519\ttotal: 27.6ms\tremaining: 35.5ms\n",
      "175:\tlearn: 4503.8487804\ttotal: 27.8ms\tremaining: 35.4ms\n",
      "176:\tlearn: 4498.6808686\ttotal: 28.1ms\tremaining: 35.4ms\n",
      "177:\tlearn: 4494.1608456\ttotal: 28.2ms\tremaining: 35.2ms\n",
      "178:\tlearn: 4489.9068282\ttotal: 28.4ms\tremaining: 35ms\n",
      "179:\tlearn: 4485.8550848\ttotal: 28.5ms\tremaining: 34.9ms\n",
      "180:\tlearn: 4481.3976917\ttotal: 28.7ms\tremaining: 34.7ms\n",
      "181:\tlearn: 4477.0510906\ttotal: 28.8ms\tremaining: 34.5ms\n",
      "182:\tlearn: 4472.8392084\ttotal: 29ms\tremaining: 34.4ms\n",
      "183:\tlearn: 4468.8522548\ttotal: 29.2ms\tremaining: 34.3ms\n",
      "184:\tlearn: 4464.4183100\ttotal: 29.3ms\tremaining: 34.1ms\n",
      "185:\tlearn: 4459.9616952\ttotal: 29.5ms\tremaining: 33.9ms\n",
      "186:\tlearn: 4455.8650441\ttotal: 29.7ms\tremaining: 33.8ms\n",
      "187:\tlearn: 4451.6212058\ttotal: 29.8ms\tremaining: 33.6ms\n",
      "188:\tlearn: 4447.1242437\ttotal: 30ms\tremaining: 33.5ms\n",
      "189:\tlearn: 4443.2403665\ttotal: 30.2ms\tremaining: 33.3ms\n",
      "190:\tlearn: 4439.2305879\ttotal: 30.3ms\tremaining: 33.2ms\n",
      "191:\tlearn: 4435.4043832\ttotal: 30.5ms\tremaining: 33.1ms\n",
      "192:\tlearn: 4432.0035216\ttotal: 30.7ms\tremaining: 32.9ms\n",
      "193:\tlearn: 4428.9646413\ttotal: 30.8ms\tremaining: 32.8ms\n",
      "194:\tlearn: 4425.3295338\ttotal: 31ms\tremaining: 32.6ms\n",
      "195:\tlearn: 4422.0356694\ttotal: 31.2ms\tremaining: 32.5ms\n",
      "196:\tlearn: 4418.5374666\ttotal: 31.3ms\tremaining: 32.3ms\n",
      "197:\tlearn: 4415.1587955\ttotal: 31.5ms\tremaining: 32.1ms\n",
      "198:\tlearn: 4411.9275619\ttotal: 31.6ms\tremaining: 32ms\n",
      "199:\tlearn: 4408.6887250\ttotal: 31.8ms\tremaining: 31.8ms\n",
      "200:\tlearn: 4405.0989464\ttotal: 32.1ms\tremaining: 31.7ms\n",
      "201:\tlearn: 4402.1689176\ttotal: 32.2ms\tremaining: 31.6ms\n",
      "202:\tlearn: 4399.0972847\ttotal: 32.4ms\tremaining: 31.5ms\n",
      "203:\tlearn: 4395.7888764\ttotal: 32.6ms\tremaining: 31.3ms\n",
      "204:\tlearn: 4393.0428722\ttotal: 32.7ms\tremaining: 31.1ms\n",
      "205:\tlearn: 4389.8608695\ttotal: 32.9ms\tremaining: 31ms\n",
      "206:\tlearn: 4387.3060801\ttotal: 33.1ms\tremaining: 30.8ms\n",
      "207:\tlearn: 4384.0904066\ttotal: 33.2ms\tremaining: 30.7ms\n",
      "208:\tlearn: 4380.5840074\ttotal: 33.4ms\tremaining: 30.5ms\n",
      "209:\tlearn: 4377.7827504\ttotal: 33.5ms\tremaining: 30.3ms\n",
      "210:\tlearn: 4374.9018047\ttotal: 33.7ms\tremaining: 30.2ms\n",
      "211:\tlearn: 4372.5612550\ttotal: 33.8ms\tremaining: 30ms\n",
      "212:\tlearn: 4369.3890650\ttotal: 34ms\tremaining: 29.8ms\n",
      "213:\tlearn: 4366.2581818\ttotal: 34.1ms\tremaining: 29.6ms\n",
      "214:\tlearn: 4363.9436143\ttotal: 34.3ms\tremaining: 29.5ms\n",
      "215:\tlearn: 4361.4140542\ttotal: 34.4ms\tremaining: 29.3ms\n",
      "216:\tlearn: 4359.0674735\ttotal: 34.6ms\tremaining: 29.1ms\n",
      "217:\tlearn: 4356.8204790\ttotal: 34.7ms\tremaining: 29ms\n",
      "218:\tlearn: 4354.3473094\ttotal: 34.9ms\tremaining: 28.8ms\n",
      "219:\tlearn: 4351.8264262\ttotal: 35.1ms\tremaining: 28.7ms\n",
      "220:\tlearn: 4349.6290029\ttotal: 35.2ms\tremaining: 28.5ms\n",
      "221:\tlearn: 4347.4272893\ttotal: 35.4ms\tremaining: 28.4ms\n",
      "222:\tlearn: 4345.3040634\ttotal: 35.5ms\tremaining: 28.2ms\n",
      "223:\tlearn: 4342.8385485\ttotal: 35.7ms\tremaining: 28ms\n",
      "224:\tlearn: 4340.7950508\ttotal: 35.8ms\tremaining: 27.9ms\n",
      "225:\tlearn: 4339.0906145\ttotal: 36ms\tremaining: 27.7ms\n",
      "226:\tlearn: 4336.9258906\ttotal: 36.1ms\tremaining: 27.5ms\n",
      "227:\tlearn: 4334.8594520\ttotal: 36.2ms\tremaining: 27.3ms\n",
      "228:\tlearn: 4332.6464129\ttotal: 36.4ms\tremaining: 27.2ms\n",
      "229:\tlearn: 4330.8755976\ttotal: 36.6ms\tremaining: 27ms\n",
      "230:\tlearn: 4328.9164140\ttotal: 36.7ms\tremaining: 26.9ms\n",
      "231:\tlearn: 4327.4406813\ttotal: 36.9ms\tremaining: 26.7ms\n",
      "232:\tlearn: 4325.2294184\ttotal: 37.1ms\tremaining: 26.6ms\n",
      "233:\tlearn: 4323.2154287\ttotal: 37.2ms\tremaining: 26.4ms\n",
      "234:\tlearn: 4320.8591618\ttotal: 37.4ms\tremaining: 26.3ms\n",
      "235:\tlearn: 4318.9111445\ttotal: 37.6ms\tremaining: 26.1ms\n",
      "236:\tlearn: 4317.0814689\ttotal: 37.7ms\tremaining: 25.9ms\n",
      "237:\tlearn: 4315.0314893\ttotal: 37.9ms\tremaining: 25.8ms\n",
      "238:\tlearn: 4313.2627342\ttotal: 38ms\tremaining: 25.6ms\n",
      "239:\tlearn: 4311.2331131\ttotal: 38.2ms\tremaining: 25.5ms\n",
      "240:\tlearn: 4309.3273405\ttotal: 38.4ms\tremaining: 25.3ms\n",
      "241:\tlearn: 4307.6224821\ttotal: 38.5ms\tremaining: 25.2ms\n",
      "242:\tlearn: 4305.6715514\ttotal: 38.7ms\tremaining: 25ms\n",
      "243:\tlearn: 4304.1195999\ttotal: 38.8ms\tremaining: 24.8ms\n",
      "244:\tlearn: 4301.9159256\ttotal: 39ms\tremaining: 24.7ms\n",
      "245:\tlearn: 4300.2865866\ttotal: 39.2ms\tremaining: 24.5ms\n",
      "246:\tlearn: 4298.2840846\ttotal: 39.4ms\tremaining: 24.4ms\n",
      "247:\tlearn: 4296.4648659\ttotal: 39.5ms\tremaining: 24.2ms\n",
      "248:\tlearn: 4294.0961523\ttotal: 39.7ms\tremaining: 24.1ms\n",
      "249:\tlearn: 4292.4718784\ttotal: 39.8ms\tremaining: 23.9ms\n",
      "250:\tlearn: 4290.8163197\ttotal: 39.9ms\tremaining: 23.7ms\n",
      "251:\tlearn: 4289.2831073\ttotal: 40.1ms\tremaining: 23.5ms\n",
      "252:\tlearn: 4287.6479304\ttotal: 40.2ms\tremaining: 23.4ms\n",
      "253:\tlearn: 4285.8715970\ttotal: 40.4ms\tremaining: 23.2ms\n",
      "254:\tlearn: 4284.3130640\ttotal: 40.6ms\tremaining: 23.1ms\n",
      "255:\tlearn: 4282.7654010\ttotal: 40.7ms\tremaining: 22.9ms\n",
      "256:\tlearn: 4281.2992927\ttotal: 40.9ms\tremaining: 22.8ms\n",
      "257:\tlearn: 4279.8060627\ttotal: 41.1ms\tremaining: 22.6ms\n",
      "258:\tlearn: 4278.2585683\ttotal: 41.2ms\tremaining: 22.4ms\n",
      "259:\tlearn: 4276.6332833\ttotal: 41.4ms\tremaining: 22.3ms\n",
      "260:\tlearn: 4275.2823419\ttotal: 41.6ms\tremaining: 22.1ms\n",
      "261:\tlearn: 4273.7760311\ttotal: 41.7ms\tremaining: 22ms\n",
      "262:\tlearn: 4272.3739853\ttotal: 41.9ms\tremaining: 21.8ms\n",
      "263:\tlearn: 4269.9435440\ttotal: 42ms\tremaining: 21.7ms\n",
      "264:\tlearn: 4268.6074810\ttotal: 42.2ms\tremaining: 21.5ms\n",
      "265:\tlearn: 4267.1344151\ttotal: 42.4ms\tremaining: 21.3ms\n",
      "266:\tlearn: 4265.3004374\ttotal: 42.5ms\tremaining: 21.2ms\n",
      "267:\tlearn: 4263.7795165\ttotal: 42.7ms\tremaining: 21ms\n",
      "268:\tlearn: 4262.2118008\ttotal: 42.8ms\tremaining: 20.8ms\n",
      "269:\tlearn: 4260.8500391\ttotal: 43ms\tremaining: 20.7ms\n",
      "270:\tlearn: 4259.1356060\ttotal: 43.2ms\tremaining: 20.6ms\n",
      "271:\tlearn: 4257.9006935\ttotal: 43.4ms\tremaining: 20.4ms\n",
      "272:\tlearn: 4256.6953299\ttotal: 43.6ms\tremaining: 20.3ms\n",
      "273:\tlearn: 4255.0495754\ttotal: 43.7ms\tremaining: 20.1ms\n",
      "274:\tlearn: 4253.7505111\ttotal: 43.9ms\tremaining: 19.9ms\n",
      "275:\tlearn: 4252.6950166\ttotal: 44ms\tremaining: 19.8ms\n",
      "276:\tlearn: 4251.4558618\ttotal: 44.1ms\tremaining: 19.6ms\n",
      "277:\tlearn: 4250.3447233\ttotal: 44.3ms\tremaining: 19.4ms\n",
      "278:\tlearn: 4248.4953319\ttotal: 44.6ms\tremaining: 19.3ms\n",
      "279:\tlearn: 4247.2701094\ttotal: 44.8ms\tremaining: 19.2ms\n",
      "280:\tlearn: 4246.1127853\ttotal: 44.9ms\tremaining: 19ms\n",
      "281:\tlearn: 4244.6954961\ttotal: 45.1ms\tremaining: 18.9ms\n",
      "282:\tlearn: 4243.4841557\ttotal: 45.3ms\tremaining: 18.7ms\n",
      "283:\tlearn: 4242.1185465\ttotal: 45.4ms\tremaining: 18.6ms\n",
      "284:\tlearn: 4240.8227058\ttotal: 45.6ms\tremaining: 18.4ms\n",
      "285:\tlearn: 4239.5548989\ttotal: 45.7ms\tremaining: 18.2ms\n",
      "286:\tlearn: 4238.3392477\ttotal: 45.9ms\tremaining: 18.1ms\n",
      "287:\tlearn: 4237.0080309\ttotal: 46.1ms\tremaining: 17.9ms\n",
      "288:\tlearn: 4236.0669143\ttotal: 46.3ms\tremaining: 17.8ms\n",
      "289:\tlearn: 4234.8227465\ttotal: 46.4ms\tremaining: 17.6ms\n",
      "290:\tlearn: 4233.7835964\ttotal: 46.6ms\tremaining: 17.4ms\n",
      "291:\tlearn: 4232.4348425\ttotal: 46.7ms\tremaining: 17.3ms\n",
      "292:\tlearn: 4231.5913139\ttotal: 46.9ms\tremaining: 17.1ms\n",
      "293:\tlearn: 4230.2326652\ttotal: 47ms\tremaining: 17ms\n",
      "294:\tlearn: 4229.1894653\ttotal: 47.2ms\tremaining: 16.8ms\n",
      "295:\tlearn: 4227.9036467\ttotal: 47.4ms\tremaining: 16.6ms\n",
      "296:\tlearn: 4226.8524436\ttotal: 47.6ms\tremaining: 16.5ms\n",
      "297:\tlearn: 4225.6325542\ttotal: 47.7ms\tremaining: 16.3ms\n",
      "298:\tlearn: 4224.3940243\ttotal: 47.9ms\tremaining: 16.2ms\n",
      "299:\tlearn: 4222.8596932\ttotal: 48ms\tremaining: 16ms\n",
      "300:\tlearn: 4221.8441271\ttotal: 48.2ms\tremaining: 15.9ms\n",
      "301:\tlearn: 4220.2278880\ttotal: 48.3ms\tremaining: 15.7ms\n",
      "302:\tlearn: 4218.1313489\ttotal: 48.5ms\tremaining: 15.5ms\n",
      "303:\tlearn: 4217.1904996\ttotal: 48.6ms\tremaining: 15.4ms\n",
      "304:\tlearn: 4216.1584267\ttotal: 48.8ms\tremaining: 15.2ms\n",
      "305:\tlearn: 4215.0372626\ttotal: 48.9ms\tremaining: 15ms\n",
      "306:\tlearn: 4213.9662470\ttotal: 49.1ms\tremaining: 14.9ms\n",
      "307:\tlearn: 4213.1392720\ttotal: 49.3ms\tremaining: 14.7ms\n",
      "308:\tlearn: 4211.3521275\ttotal: 49.7ms\tremaining: 14.6ms\n",
      "309:\tlearn: 4210.0951095\ttotal: 49.8ms\tremaining: 14.5ms\n",
      "310:\tlearn: 4209.0365197\ttotal: 50ms\tremaining: 14.3ms\n",
      "311:\tlearn: 4208.0960927\ttotal: 50.1ms\tremaining: 14.1ms\n",
      "312:\tlearn: 4206.4435358\ttotal: 50.8ms\tremaining: 14.1ms\n",
      "313:\tlearn: 4205.3314828\ttotal: 51.1ms\tremaining: 14ms\n",
      "314:\tlearn: 4204.2077790\ttotal: 51.4ms\tremaining: 13.9ms\n",
      "315:\tlearn: 4203.1510687\ttotal: 51.5ms\tremaining: 13.7ms\n",
      "316:\tlearn: 4202.4438316\ttotal: 51.7ms\tremaining: 13.5ms\n",
      "317:\tlearn: 4201.6195675\ttotal: 51.9ms\tremaining: 13.4ms\n",
      "318:\tlearn: 4200.5775924\ttotal: 52.3ms\tremaining: 13.3ms\n",
      "319:\tlearn: 4199.5358780\ttotal: 52.7ms\tremaining: 13.2ms\n",
      "320:\tlearn: 4198.7815696\ttotal: 53.1ms\tremaining: 13.1ms\n",
      "321:\tlearn: 4197.4100437\ttotal: 53.3ms\tremaining: 12.9ms\n",
      "322:\tlearn: 4195.9682343\ttotal: 53.4ms\tremaining: 12.7ms\n",
      "323:\tlearn: 4194.0628905\ttotal: 53.6ms\tremaining: 12.6ms\n",
      "324:\tlearn: 4192.6592338\ttotal: 53.8ms\tremaining: 12.4ms\n",
      "325:\tlearn: 4191.6000068\ttotal: 53.9ms\tremaining: 12.2ms\n",
      "326:\tlearn: 4190.0626285\ttotal: 54.1ms\tremaining: 12.1ms\n",
      "327:\tlearn: 4189.1352989\ttotal: 54.2ms\tremaining: 11.9ms\n",
      "328:\tlearn: 4187.9391328\ttotal: 54.4ms\tremaining: 11.7ms\n",
      "329:\tlearn: 4186.3420698\ttotal: 54.5ms\tremaining: 11.6ms\n",
      "330:\tlearn: 4185.3523739\ttotal: 54.6ms\tremaining: 11.4ms\n",
      "331:\tlearn: 4184.4995199\ttotal: 54.8ms\tremaining: 11.2ms\n",
      "332:\tlearn: 4183.3570805\ttotal: 54.9ms\tremaining: 11.1ms\n",
      "333:\tlearn: 4182.4222935\ttotal: 55.1ms\tremaining: 10.9ms\n",
      "334:\tlearn: 4181.1355858\ttotal: 55.2ms\tremaining: 10.7ms\n",
      "335:\tlearn: 4180.1692784\ttotal: 55.4ms\tremaining: 10.6ms\n",
      "336:\tlearn: 4179.2513991\ttotal: 55.6ms\tremaining: 10.4ms\n",
      "337:\tlearn: 4178.2222993\ttotal: 55.7ms\tremaining: 10.2ms\n",
      "338:\tlearn: 4176.2462957\ttotal: 55.8ms\tremaining: 10ms\n",
      "339:\tlearn: 4175.1255124\ttotal: 56ms\tremaining: 9.88ms\n",
      "340:\tlearn: 4174.4052153\ttotal: 56.1ms\tremaining: 9.71ms\n",
      "341:\tlearn: 4173.4614620\ttotal: 56.3ms\tremaining: 9.55ms\n",
      "342:\tlearn: 4172.6494420\ttotal: 56.5ms\tremaining: 9.38ms\n",
      "343:\tlearn: 4171.9986583\ttotal: 56.6ms\tremaining: 9.22ms\n",
      "344:\tlearn: 4170.9736864\ttotal: 56.8ms\tremaining: 9.06ms\n",
      "345:\tlearn: 4170.2351983\ttotal: 57ms\tremaining: 8.89ms\n",
      "346:\tlearn: 4169.1629702\ttotal: 57.2ms\tremaining: 8.73ms\n",
      "347:\tlearn: 4168.5398648\ttotal: 57.5ms\tremaining: 8.59ms\n",
      "348:\tlearn: 4166.7400054\ttotal: 57.7ms\tremaining: 8.44ms\n",
      "349:\tlearn: 4166.2556354\ttotal: 58ms\tremaining: 8.28ms\n",
      "350:\tlearn: 4165.5258522\ttotal: 58.1ms\tremaining: 8.12ms\n",
      "351:\tlearn: 4163.7650387\ttotal: 58.4ms\tremaining: 7.96ms\n",
      "352:\tlearn: 4162.6903653\ttotal: 58.5ms\tremaining: 7.79ms\n",
      "353:\tlearn: 4161.5573350\ttotal: 58.7ms\tremaining: 7.63ms\n",
      "354:\tlearn: 4160.5215694\ttotal: 58.8ms\tremaining: 7.46ms\n",
      "355:\tlearn: 4159.5461993\ttotal: 59ms\tremaining: 7.29ms\n",
      "356:\tlearn: 4158.4925001\ttotal: 59.1ms\tremaining: 7.12ms\n",
      "357:\tlearn: 4157.7953896\ttotal: 59.3ms\tremaining: 6.95ms\n",
      "358:\tlearn: 4156.9948512\ttotal: 59.4ms\tremaining: 6.79ms\n",
      "359:\tlearn: 4156.0880174\ttotal: 59.6ms\tremaining: 6.62ms\n",
      "360:\tlearn: 4154.5358648\ttotal: 59.9ms\tremaining: 6.47ms\n",
      "361:\tlearn: 4153.8848717\ttotal: 60.1ms\tremaining: 6.3ms\n",
      "362:\tlearn: 4153.1289023\ttotal: 60.2ms\tremaining: 6.14ms\n",
      "363:\tlearn: 4151.8325731\ttotal: 60.4ms\tremaining: 5.97ms\n",
      "364:\tlearn: 4150.9439981\ttotal: 60.6ms\tremaining: 5.81ms\n",
      "365:\tlearn: 4150.1894460\ttotal: 60.7ms\tremaining: 5.64ms\n",
      "366:\tlearn: 4148.9190480\ttotal: 60.9ms\tremaining: 5.48ms\n",
      "367:\tlearn: 4147.8725207\ttotal: 61.1ms\tremaining: 5.31ms\n",
      "368:\tlearn: 4146.6145682\ttotal: 61.3ms\tremaining: 5.15ms\n",
      "369:\tlearn: 4145.6053653\ttotal: 61.4ms\tremaining: 4.98ms\n",
      "370:\tlearn: 4144.6710300\ttotal: 61.7ms\tremaining: 4.82ms\n",
      "371:\tlearn: 4144.0590681\ttotal: 61.9ms\tremaining: 4.66ms\n",
      "372:\tlearn: 4143.0908611\ttotal: 62.1ms\tremaining: 4.5ms\n",
      "373:\tlearn: 4141.4397471\ttotal: 62.2ms\tremaining: 4.33ms\n",
      "374:\tlearn: 4140.5133688\ttotal: 62.4ms\tremaining: 4.16ms\n",
      "375:\tlearn: 4139.7895427\ttotal: 62.6ms\tremaining: 3.99ms\n",
      "376:\tlearn: 4139.1348395\ttotal: 62.7ms\tremaining: 3.83ms\n",
      "377:\tlearn: 4138.1623045\ttotal: 62.9ms\tremaining: 3.66ms\n",
      "378:\tlearn: 4137.0961990\ttotal: 63ms\tremaining: 3.49ms\n",
      "379:\tlearn: 4136.4115952\ttotal: 63.2ms\tremaining: 3.33ms\n",
      "380:\tlearn: 4135.2000098\ttotal: 63.4ms\tremaining: 3.16ms\n",
      "381:\tlearn: 4134.6353256\ttotal: 63.5ms\tremaining: 2.99ms\n",
      "382:\tlearn: 4134.0433843\ttotal: 63.7ms\tremaining: 2.83ms\n",
      "383:\tlearn: 4133.0943203\ttotal: 63.8ms\tremaining: 2.66ms\n",
      "384:\tlearn: 4132.4309922\ttotal: 64ms\tremaining: 2.49ms\n",
      "385:\tlearn: 4130.8852277\ttotal: 64.1ms\tremaining: 2.33ms\n",
      "386:\tlearn: 4130.2399218\ttotal: 64.3ms\tremaining: 2.16ms\n",
      "387:\tlearn: 4129.7316276\ttotal: 64.4ms\tremaining: 1.99ms\n",
      "388:\tlearn: 4128.8272458\ttotal: 64.6ms\tremaining: 1.82ms\n",
      "389:\tlearn: 4127.3477893\ttotal: 64.7ms\tremaining: 1.66ms\n",
      "390:\tlearn: 4126.2602289\ttotal: 64.8ms\tremaining: 1.49ms\n",
      "391:\tlearn: 4125.2938035\ttotal: 65ms\tremaining: 1.33ms\n",
      "392:\tlearn: 4124.3103595\ttotal: 65.1ms\tremaining: 1.16ms\n",
      "393:\tlearn: 4123.4434642\ttotal: 65.3ms\tremaining: 994us\n",
      "394:\tlearn: 4122.5679370\ttotal: 65.4ms\tremaining: 828us\n",
      "395:\tlearn: 4121.0316444\ttotal: 65.6ms\tremaining: 662us\n",
      "396:\tlearn: 4119.5438408\ttotal: 65.7ms\tremaining: 496us\n",
      "397:\tlearn: 4118.6236939\ttotal: 65.8ms\tremaining: 330us\n",
      "398:\tlearn: 4117.9391076\ttotal: 66ms\tremaining: 165us\n",
      "399:\tlearn: 4116.4287454\ttotal: 66.2ms\tremaining: 0us\n",
      "0:\tlearn: 11677.7711266\ttotal: 208us\tremaining: 83ms\n",
      "1:\tlearn: 11546.3053604\ttotal: 382us\tremaining: 76.1ms\n",
      "2:\tlearn: 11420.4578931\ttotal: 561us\tremaining: 74.4ms\n",
      "3:\tlearn: 11293.5554816\ttotal: 726us\tremaining: 72ms\n",
      "4:\tlearn: 11171.7670712\ttotal: 980us\tremaining: 77.4ms\n",
      "5:\tlearn: 11052.7287951\ttotal: 1.24ms\tremaining: 81.3ms\n",
      "6:\tlearn: 10935.3943157\ttotal: 1.42ms\tremaining: 79.5ms\n",
      "7:\tlearn: 10816.0012674\ttotal: 1.58ms\tremaining: 77.6ms\n",
      "8:\tlearn: 10698.7502027\ttotal: 1.73ms\tremaining: 75.2ms\n",
      "9:\tlearn: 10584.5123160\ttotal: 1.91ms\tremaining: 74.6ms\n",
      "10:\tlearn: 10473.3812119\ttotal: 2.07ms\tremaining: 73.1ms\n",
      "11:\tlearn: 10361.8465326\ttotal: 2.24ms\tremaining: 72.4ms\n",
      "12:\tlearn: 10253.3176395\ttotal: 2.44ms\tremaining: 72.6ms\n",
      "13:\tlearn: 10145.3546794\ttotal: 2.56ms\tremaining: 70.7ms\n",
      "14:\tlearn: 10041.8067524\ttotal: 2.71ms\tremaining: 69.5ms\n",
      "15:\tlearn: 9937.3525232\ttotal: 2.86ms\tremaining: 68.7ms\n",
      "16:\tlearn: 9836.8095127\ttotal: 3.01ms\tremaining: 67.8ms\n",
      "17:\tlearn: 9735.4096136\ttotal: 3.17ms\tremaining: 67.2ms\n",
      "18:\tlearn: 9636.7606883\ttotal: 3.33ms\tremaining: 66.7ms\n",
      "19:\tlearn: 9539.3733685\ttotal: 3.46ms\tremaining: 65.7ms\n",
      "20:\tlearn: 9445.4697943\ttotal: 3.6ms\tremaining: 65ms\n",
      "21:\tlearn: 9353.6441822\ttotal: 3.75ms\tremaining: 64.5ms\n",
      "22:\tlearn: 9263.2573611\ttotal: 3.88ms\tremaining: 63.7ms\n",
      "23:\tlearn: 9172.4155638\ttotal: 4.06ms\tremaining: 63.6ms\n",
      "24:\tlearn: 9084.5645678\ttotal: 4.22ms\tremaining: 63.4ms\n",
      "25:\tlearn: 8998.6877441\ttotal: 4.39ms\tremaining: 63.1ms\n",
      "26:\tlearn: 8915.1016397\ttotal: 4.54ms\tremaining: 62.8ms\n",
      "27:\tlearn: 8829.8842480\ttotal: 4.69ms\tremaining: 62.3ms\n",
      "28:\tlearn: 8746.3526936\ttotal: 4.86ms\tremaining: 62.2ms\n",
      "29:\tlearn: 8665.3472316\ttotal: 5ms\tremaining: 61.7ms\n",
      "30:\tlearn: 8585.4456325\ttotal: 5.14ms\tremaining: 61.2ms\n",
      "31:\tlearn: 8506.4201120\ttotal: 5.3ms\tremaining: 60.9ms\n",
      "32:\tlearn: 8431.3207846\ttotal: 5.43ms\tremaining: 60.4ms\n",
      "33:\tlearn: 8356.4322731\ttotal: 5.56ms\tremaining: 59.8ms\n",
      "34:\tlearn: 8283.5328808\ttotal: 5.7ms\tremaining: 59.5ms\n",
      "35:\tlearn: 8209.0172117\ttotal: 5.86ms\tremaining: 59.3ms\n",
      "36:\tlearn: 8136.8074625\ttotal: 6.02ms\tremaining: 59.1ms\n",
      "37:\tlearn: 8066.5445251\ttotal: 6.2ms\tremaining: 59ms\n",
      "38:\tlearn: 7997.0158077\ttotal: 6.33ms\tremaining: 58.6ms\n",
      "39:\tlearn: 7927.4302311\ttotal: 6.47ms\tremaining: 58.3ms\n",
      "40:\tlearn: 7861.3284183\ttotal: 6.64ms\tremaining: 58.1ms\n",
      "41:\tlearn: 7795.2096947\ttotal: 6.8ms\tremaining: 58ms\n",
      "42:\tlearn: 7731.4934616\ttotal: 6.93ms\tremaining: 57.6ms\n",
      "43:\tlearn: 7668.2631931\ttotal: 7.14ms\tremaining: 57.8ms\n",
      "44:\tlearn: 7607.1152809\ttotal: 7.3ms\tremaining: 57.6ms\n",
      "45:\tlearn: 7545.8944640\ttotal: 7.44ms\tremaining: 57.3ms\n",
      "46:\tlearn: 7487.6473265\ttotal: 7.59ms\tremaining: 57ms\n",
      "47:\tlearn: 7430.0830726\ttotal: 7.75ms\tremaining: 56.8ms\n",
      "48:\tlearn: 7371.3566930\ttotal: 7.89ms\tremaining: 56.5ms\n",
      "49:\tlearn: 7314.4694140\ttotal: 8.03ms\tremaining: 56.2ms\n",
      "50:\tlearn: 7258.6262463\ttotal: 8.19ms\tremaining: 56.1ms\n",
      "51:\tlearn: 7205.7170808\ttotal: 8.37ms\tremaining: 56ms\n",
      "52:\tlearn: 7152.2691650\ttotal: 8.5ms\tremaining: 55.7ms\n",
      "53:\tlearn: 7099.8504664\ttotal: 8.65ms\tremaining: 55.5ms\n",
      "54:\tlearn: 7047.6367945\ttotal: 8.82ms\tremaining: 55.3ms\n",
      "55:\tlearn: 6997.4140085\ttotal: 8.97ms\tremaining: 55.1ms\n",
      "56:\tlearn: 6947.4861728\ttotal: 9.16ms\tremaining: 55.1ms\n",
      "57:\tlearn: 6899.5859018\ttotal: 9.31ms\tremaining: 54.9ms\n",
      "58:\tlearn: 6851.4416975\ttotal: 9.48ms\tremaining: 54.8ms\n",
      "59:\tlearn: 6805.6016348\ttotal: 9.61ms\tremaining: 54.5ms\n",
      "60:\tlearn: 6759.9778249\ttotal: 9.73ms\tremaining: 54.1ms\n",
      "61:\tlearn: 6715.0245154\ttotal: 9.88ms\tremaining: 53.9ms\n",
      "62:\tlearn: 6671.5021738\ttotal: 10.1ms\tremaining: 53.8ms\n",
      "63:\tlearn: 6628.2295270\ttotal: 10.2ms\tremaining: 53.7ms\n",
      "64:\tlearn: 6586.3884825\ttotal: 10.4ms\tremaining: 53.7ms\n",
      "65:\tlearn: 6544.2077545\ttotal: 10.6ms\tremaining: 53.4ms\n",
      "66:\tlearn: 6502.4034644\ttotal: 10.7ms\tremaining: 53.3ms\n",
      "67:\tlearn: 6463.0672703\ttotal: 10.9ms\tremaining: 53.2ms\n",
      "68:\tlearn: 6424.3287824\ttotal: 11.1ms\tremaining: 53ms\n",
      "69:\tlearn: 6386.2357069\ttotal: 11.2ms\tremaining: 52.8ms\n",
      "70:\tlearn: 6347.9072009\ttotal: 11.4ms\tremaining: 52.7ms\n",
      "71:\tlearn: 6311.5487745\ttotal: 11.6ms\tremaining: 52.6ms\n",
      "72:\tlearn: 6275.1928681\ttotal: 11.7ms\tremaining: 52.5ms\n",
      "73:\tlearn: 6238.9392604\ttotal: 11.9ms\tremaining: 52.2ms\n",
      "74:\tlearn: 6203.3498399\ttotal: 12ms\tremaining: 52.1ms\n",
      "75:\tlearn: 6171.1024605\ttotal: 12.2ms\tremaining: 51.9ms\n",
      "76:\tlearn: 6138.2842467\ttotal: 12.3ms\tremaining: 51.7ms\n",
      "77:\tlearn: 6104.2954035\ttotal: 12.5ms\tremaining: 51.7ms\n",
      "78:\tlearn: 6072.7641976\ttotal: 12.7ms\tremaining: 51.5ms\n",
      "79:\tlearn: 6041.5511663\ttotal: 12.8ms\tremaining: 51.2ms\n",
      "80:\tlearn: 6010.2050803\ttotal: 12.9ms\tremaining: 51ms\n",
      "81:\tlearn: 5980.1657758\ttotal: 13.1ms\tremaining: 50.8ms\n",
      "82:\tlearn: 5949.9232792\ttotal: 13.3ms\tremaining: 50.7ms\n",
      "83:\tlearn: 5920.4827077\ttotal: 13.4ms\tremaining: 50.5ms\n",
      "84:\tlearn: 5892.5604211\ttotal: 13.6ms\tremaining: 50.5ms\n",
      "85:\tlearn: 5865.3812236\ttotal: 13.8ms\tremaining: 50.3ms\n",
      "86:\tlearn: 5837.9718800\ttotal: 13.9ms\tremaining: 50.1ms\n",
      "87:\tlearn: 5811.6614554\ttotal: 14.1ms\tremaining: 49.9ms\n",
      "88:\tlearn: 5785.3652898\ttotal: 14.2ms\tremaining: 49.7ms\n",
      "89:\tlearn: 5759.7894889\ttotal: 14.4ms\tremaining: 49.6ms\n",
      "90:\tlearn: 5735.0346842\ttotal: 14.6ms\tremaining: 49.4ms\n",
      "91:\tlearn: 5710.1800629\ttotal: 14.7ms\tremaining: 49.3ms\n",
      "92:\tlearn: 5686.4541767\ttotal: 14.9ms\tremaining: 49.1ms\n",
      "93:\tlearn: 5663.8897034\ttotal: 15ms\tremaining: 49ms\n",
      "94:\tlearn: 5641.2211939\ttotal: 15.2ms\tremaining: 48.8ms\n",
      "95:\tlearn: 5618.8781228\ttotal: 15.4ms\tremaining: 48.8ms\n",
      "96:\tlearn: 5597.8034262\ttotal: 15.6ms\tremaining: 48.6ms\n",
      "97:\tlearn: 5576.1434340\ttotal: 15.7ms\tremaining: 48.5ms\n",
      "98:\tlearn: 5555.0182539\ttotal: 15.9ms\tremaining: 48.3ms\n",
      "99:\tlearn: 5534.1586834\ttotal: 16ms\tremaining: 48.1ms\n",
      "100:\tlearn: 5514.4010839\ttotal: 16.2ms\tremaining: 48ms\n",
      "101:\tlearn: 5495.0519580\ttotal: 16.4ms\tremaining: 47.9ms\n",
      "102:\tlearn: 5475.6244020\ttotal: 16.6ms\tremaining: 47.8ms\n",
      "103:\tlearn: 5456.9817685\ttotal: 16.8ms\tremaining: 47.8ms\n",
      "104:\tlearn: 5438.6082592\ttotal: 17.1ms\tremaining: 47.9ms\n",
      "105:\tlearn: 5420.5525386\ttotal: 17.3ms\tremaining: 47.9ms\n",
      "106:\tlearn: 5403.1346539\ttotal: 17.4ms\tremaining: 47.7ms\n",
      "107:\tlearn: 5386.0224802\ttotal: 17.6ms\tremaining: 47.5ms\n",
      "108:\tlearn: 5369.4852785\ttotal: 17.7ms\tremaining: 47.4ms\n",
      "109:\tlearn: 5352.1665343\ttotal: 18ms\tremaining: 47.4ms\n",
      "110:\tlearn: 5335.9828508\ttotal: 18.1ms\tremaining: 47.2ms\n",
      "111:\tlearn: 5320.6776210\ttotal: 18.3ms\tremaining: 47.1ms\n",
      "112:\tlearn: 5305.6375771\ttotal: 18.5ms\tremaining: 47ms\n",
      "113:\tlearn: 5290.5986185\ttotal: 18.7ms\tremaining: 46.9ms\n",
      "114:\tlearn: 5275.2725061\ttotal: 18.8ms\tremaining: 46.6ms\n",
      "115:\tlearn: 5261.1150577\ttotal: 19ms\tremaining: 46.5ms\n",
      "116:\tlearn: 5247.0359335\ttotal: 19.1ms\tremaining: 46.3ms\n",
      "117:\tlearn: 5232.9937571\ttotal: 19.3ms\tremaining: 46.1ms\n",
      "118:\tlearn: 5219.4169294\ttotal: 19.4ms\tremaining: 45.9ms\n",
      "119:\tlearn: 5205.9675572\ttotal: 19.6ms\tremaining: 45.8ms\n",
      "120:\tlearn: 5192.4051346\ttotal: 19.8ms\tremaining: 45.6ms\n",
      "121:\tlearn: 5179.9784669\ttotal: 19.9ms\tremaining: 45.4ms\n",
      "122:\tlearn: 5166.9529501\ttotal: 20.2ms\tremaining: 45.5ms\n",
      "123:\tlearn: 5154.7524966\ttotal: 20.4ms\tremaining: 45.5ms\n",
      "124:\tlearn: 5143.2710382\ttotal: 20.6ms\tremaining: 45.3ms\n",
      "125:\tlearn: 5132.2409576\ttotal: 20.7ms\tremaining: 45.1ms\n",
      "126:\tlearn: 5121.1465357\ttotal: 20.9ms\tremaining: 45ms\n",
      "127:\tlearn: 5110.1400118\ttotal: 21.1ms\tremaining: 44.9ms\n",
      "128:\tlearn: 5099.5972041\ttotal: 21.3ms\tremaining: 44.8ms\n",
      "129:\tlearn: 5087.9766048\ttotal: 21.4ms\tremaining: 44.5ms\n",
      "130:\tlearn: 5077.1836002\ttotal: 21.6ms\tremaining: 44.3ms\n",
      "131:\tlearn: 5066.2103953\ttotal: 21.7ms\tremaining: 44.1ms\n",
      "132:\tlearn: 5055.7533621\ttotal: 21.9ms\tremaining: 43.9ms\n",
      "133:\tlearn: 5045.9288713\ttotal: 22ms\tremaining: 43.8ms\n",
      "134:\tlearn: 5035.9555595\ttotal: 22.2ms\tremaining: 43.6ms\n",
      "135:\tlearn: 5026.9345956\ttotal: 22.4ms\tremaining: 43.5ms\n",
      "136:\tlearn: 5017.6182647\ttotal: 22.6ms\tremaining: 43.3ms\n",
      "137:\tlearn: 5008.2770894\ttotal: 22.7ms\tremaining: 43.1ms\n",
      "138:\tlearn: 4999.2297870\ttotal: 22.9ms\tremaining: 42.9ms\n",
      "139:\tlearn: 4990.6824088\ttotal: 23ms\tremaining: 42.8ms\n",
      "140:\tlearn: 4982.2847292\ttotal: 23.2ms\tremaining: 42.6ms\n",
      "141:\tlearn: 4974.1872242\ttotal: 23.3ms\tremaining: 42.4ms\n",
      "142:\tlearn: 4966.1712066\ttotal: 23.5ms\tremaining: 42.2ms\n",
      "143:\tlearn: 4957.6890937\ttotal: 23.6ms\tremaining: 42ms\n",
      "144:\tlearn: 4949.9634956\ttotal: 23.8ms\tremaining: 41.8ms\n",
      "145:\tlearn: 4942.3832045\ttotal: 23.9ms\tremaining: 41.6ms\n",
      "146:\tlearn: 4934.3146403\ttotal: 24.1ms\tremaining: 41.4ms\n",
      "147:\tlearn: 4926.2955201\ttotal: 24.2ms\tremaining: 41.3ms\n",
      "148:\tlearn: 4918.4430302\ttotal: 25.2ms\tremaining: 42.5ms\n",
      "149:\tlearn: 4911.6788513\ttotal: 25.4ms\tremaining: 42.4ms\n",
      "150:\tlearn: 4904.6649234\ttotal: 25.6ms\tremaining: 42.1ms\n",
      "151:\tlearn: 4897.8648143\ttotal: 25.7ms\tremaining: 41.9ms\n",
      "152:\tlearn: 4890.9936173\ttotal: 25.9ms\tremaining: 41.8ms\n",
      "153:\tlearn: 4883.9726563\ttotal: 26ms\tremaining: 41.6ms\n",
      "154:\tlearn: 4877.5926169\ttotal: 26.2ms\tremaining: 41.4ms\n",
      "155:\tlearn: 4871.3215566\ttotal: 26.4ms\tremaining: 41.3ms\n",
      "156:\tlearn: 4865.2354927\ttotal: 26.6ms\tremaining: 41.1ms\n",
      "157:\tlearn: 4858.8108483\ttotal: 26.7ms\tremaining: 41ms\n",
      "158:\tlearn: 4852.5091746\ttotal: 26.9ms\tremaining: 40.8ms\n",
      "159:\tlearn: 4846.7472900\ttotal: 27.1ms\tremaining: 40.6ms\n",
      "160:\tlearn: 4841.0670048\ttotal: 27.3ms\tremaining: 40.5ms\n",
      "161:\tlearn: 4835.7620099\ttotal: 27.4ms\tremaining: 40.3ms\n",
      "162:\tlearn: 4831.2235144\ttotal: 27.6ms\tremaining: 40.1ms\n",
      "163:\tlearn: 4825.8225546\ttotal: 27.7ms\tremaining: 39.9ms\n",
      "164:\tlearn: 4819.9181649\ttotal: 27.9ms\tremaining: 39.7ms\n",
      "165:\tlearn: 4815.3501737\ttotal: 28.1ms\tremaining: 39.6ms\n",
      "166:\tlearn: 4810.1428505\ttotal: 28.2ms\tremaining: 39.4ms\n",
      "167:\tlearn: 4804.8967188\ttotal: 28.4ms\tremaining: 39.2ms\n",
      "168:\tlearn: 4800.2826212\ttotal: 28.6ms\tremaining: 39ms\n",
      "169:\tlearn: 4795.3031291\ttotal: 28.7ms\tremaining: 38.9ms\n",
      "170:\tlearn: 4790.1635268\ttotal: 28.8ms\tremaining: 38.6ms\n",
      "171:\tlearn: 4785.6350433\ttotal: 29ms\tremaining: 38.5ms\n",
      "172:\tlearn: 4780.9879428\ttotal: 29.1ms\tremaining: 38.2ms\n",
      "173:\tlearn: 4776.0019275\ttotal: 29.4ms\tremaining: 38.2ms\n",
      "174:\tlearn: 4771.3966913\ttotal: 29.5ms\tremaining: 38ms\n",
      "175:\tlearn: 4766.9849432\ttotal: 29.7ms\tremaining: 37.8ms\n",
      "176:\tlearn: 4762.4624261\ttotal: 29.9ms\tremaining: 37.6ms\n",
      "177:\tlearn: 4759.0777804\ttotal: 30.1ms\tremaining: 37.5ms\n",
      "178:\tlearn: 4754.6341617\ttotal: 30.3ms\tremaining: 37.4ms\n",
      "179:\tlearn: 4750.6582887\ttotal: 30.5ms\tremaining: 37.3ms\n",
      "180:\tlearn: 4746.3081594\ttotal: 30.7ms\tremaining: 37.1ms\n",
      "181:\tlearn: 4742.3405233\ttotal: 31.1ms\tremaining: 37.3ms\n",
      "182:\tlearn: 4738.5468928\ttotal: 31.3ms\tremaining: 37.1ms\n",
      "183:\tlearn: 4734.2951897\ttotal: 31.5ms\tremaining: 37ms\n",
      "184:\tlearn: 4730.2985856\ttotal: 31.8ms\tremaining: 36.9ms\n",
      "185:\tlearn: 4726.4847089\ttotal: 32.1ms\tremaining: 36.9ms\n",
      "186:\tlearn: 4722.6750850\ttotal: 32.6ms\tremaining: 37.1ms\n",
      "187:\tlearn: 4718.7342630\ttotal: 32.8ms\tremaining: 37ms\n",
      "188:\tlearn: 4715.4069583\ttotal: 33ms\tremaining: 36.8ms\n",
      "189:\tlearn: 4712.0222042\ttotal: 33.1ms\tremaining: 36.6ms\n",
      "190:\tlearn: 4708.4068493\ttotal: 33.3ms\tremaining: 36.4ms\n",
      "191:\tlearn: 4704.7707543\ttotal: 33.6ms\tremaining: 36.4ms\n",
      "192:\tlearn: 4701.5947241\ttotal: 33.8ms\tremaining: 36.3ms\n",
      "193:\tlearn: 4698.2431679\ttotal: 34ms\tremaining: 36.1ms\n",
      "194:\tlearn: 4695.3527736\ttotal: 34.2ms\tremaining: 36ms\n",
      "195:\tlearn: 4692.0127788\ttotal: 34.4ms\tremaining: 35.8ms\n",
      "196:\tlearn: 4688.4609309\ttotal: 34.5ms\tremaining: 35.6ms\n",
      "197:\tlearn: 4685.5159463\ttotal: 34.7ms\tremaining: 35.4ms\n",
      "198:\tlearn: 4682.5875752\ttotal: 34.9ms\tremaining: 35.2ms\n",
      "199:\tlearn: 4679.5656764\ttotal: 35ms\tremaining: 35ms\n",
      "200:\tlearn: 4676.8768549\ttotal: 35.2ms\tremaining: 34.9ms\n",
      "201:\tlearn: 4674.3617735\ttotal: 35.4ms\tremaining: 34.7ms\n",
      "202:\tlearn: 4671.8455628\ttotal: 35.5ms\tremaining: 34.5ms\n",
      "203:\tlearn: 4668.9029466\ttotal: 35.7ms\tremaining: 34.3ms\n",
      "204:\tlearn: 4666.3884876\ttotal: 35.9ms\tremaining: 34.1ms\n",
      "205:\tlearn: 4663.6024636\ttotal: 36ms\tremaining: 33.9ms\n",
      "206:\tlearn: 4661.4336462\ttotal: 36.1ms\tremaining: 33.7ms\n",
      "207:\tlearn: 4658.8851325\ttotal: 36.3ms\tremaining: 33.5ms\n",
      "208:\tlearn: 4656.2473573\ttotal: 36.4ms\tremaining: 33.3ms\n",
      "209:\tlearn: 4653.6189623\ttotal: 36.6ms\tremaining: 33.1ms\n",
      "210:\tlearn: 4651.3260855\ttotal: 36.8ms\tremaining: 32.9ms\n",
      "211:\tlearn: 4648.9256519\ttotal: 36.9ms\tremaining: 32.7ms\n",
      "212:\tlearn: 4646.3231980\ttotal: 37.1ms\tremaining: 32.6ms\n",
      "213:\tlearn: 4643.9714984\ttotal: 37.2ms\tremaining: 32.4ms\n",
      "214:\tlearn: 4642.0496444\ttotal: 37.4ms\tremaining: 32.2ms\n",
      "215:\tlearn: 4639.7638899\ttotal: 37.5ms\tremaining: 32ms\n",
      "216:\tlearn: 4637.4694663\ttotal: 37.7ms\tremaining: 31.8ms\n",
      "217:\tlearn: 4635.3473007\ttotal: 37.9ms\tremaining: 31.6ms\n",
      "218:\tlearn: 4633.0399009\ttotal: 38ms\tremaining: 31.4ms\n",
      "219:\tlearn: 4631.1695880\ttotal: 38.2ms\tremaining: 31.2ms\n",
      "220:\tlearn: 4629.4952494\ttotal: 38.4ms\tremaining: 31.1ms\n",
      "221:\tlearn: 4627.1705530\ttotal: 38.6ms\tremaining: 30.9ms\n",
      "222:\tlearn: 4624.6946030\ttotal: 38.7ms\tremaining: 30.7ms\n",
      "223:\tlearn: 4622.7682812\ttotal: 38.9ms\tremaining: 30.6ms\n",
      "224:\tlearn: 4620.1495054\ttotal: 39.1ms\tremaining: 30.4ms\n",
      "225:\tlearn: 4617.5494829\ttotal: 39.2ms\tremaining: 30.2ms\n",
      "226:\tlearn: 4615.1217991\ttotal: 39.4ms\tremaining: 30ms\n",
      "227:\tlearn: 4612.9950582\ttotal: 39.5ms\tremaining: 29.8ms\n",
      "228:\tlearn: 4610.8971383\ttotal: 39.7ms\tremaining: 29.6ms\n",
      "229:\tlearn: 4608.8053734\ttotal: 39.9ms\tremaining: 29.5ms\n",
      "230:\tlearn: 4607.0234562\ttotal: 40ms\tremaining: 29.3ms\n",
      "231:\tlearn: 4605.0490987\ttotal: 40.2ms\tremaining: 29.1ms\n",
      "232:\tlearn: 4603.1511303\ttotal: 40.4ms\tremaining: 29ms\n",
      "233:\tlearn: 4601.7480864\ttotal: 40.6ms\tremaining: 28.8ms\n",
      "234:\tlearn: 4599.8133264\ttotal: 40.8ms\tremaining: 28.6ms\n",
      "235:\tlearn: 4597.6816522\ttotal: 40.9ms\tremaining: 28.5ms\n",
      "236:\tlearn: 4595.5722748\ttotal: 41.1ms\tremaining: 28.3ms\n",
      "237:\tlearn: 4593.8781296\ttotal: 41.3ms\tremaining: 28.1ms\n",
      "238:\tlearn: 4592.1220790\ttotal: 41.6ms\tremaining: 28ms\n",
      "239:\tlearn: 4590.0575347\ttotal: 41.7ms\tremaining: 27.8ms\n",
      "240:\tlearn: 4588.2718208\ttotal: 41.9ms\tremaining: 27.6ms\n",
      "241:\tlearn: 4586.5839965\ttotal: 42ms\tremaining: 27.4ms\n",
      "242:\tlearn: 4585.0016246\ttotal: 42.3ms\tremaining: 27.3ms\n",
      "243:\tlearn: 4583.3072822\ttotal: 42.5ms\tremaining: 27.2ms\n",
      "244:\tlearn: 4581.6730651\ttotal: 42.7ms\tremaining: 27ms\n",
      "245:\tlearn: 4579.4858150\ttotal: 42.9ms\tremaining: 26.9ms\n",
      "246:\tlearn: 4577.5384214\ttotal: 43ms\tremaining: 26.7ms\n",
      "247:\tlearn: 4575.1842935\ttotal: 43.2ms\tremaining: 26.5ms\n",
      "248:\tlearn: 4571.9228626\ttotal: 43.4ms\tremaining: 26.3ms\n",
      "249:\tlearn: 4570.1451295\ttotal: 43.6ms\tremaining: 26.2ms\n",
      "250:\tlearn: 4568.1618869\ttotal: 43.8ms\tremaining: 26ms\n",
      "251:\tlearn: 4566.2877754\ttotal: 43.9ms\tremaining: 25.8ms\n",
      "252:\tlearn: 4564.4267719\ttotal: 44.1ms\tremaining: 25.6ms\n",
      "253:\tlearn: 4562.5824444\ttotal: 44.2ms\tremaining: 25.4ms\n",
      "254:\tlearn: 4561.0910786\ttotal: 44.4ms\tremaining: 25.3ms\n",
      "255:\tlearn: 4559.2165287\ttotal: 44.6ms\tremaining: 25.1ms\n",
      "256:\tlearn: 4557.3091584\ttotal: 44.7ms\tremaining: 24.9ms\n",
      "257:\tlearn: 4555.7285876\ttotal: 44.9ms\tremaining: 24.7ms\n",
      "258:\tlearn: 4553.5488533\ttotal: 45ms\tremaining: 24.5ms\n",
      "259:\tlearn: 4551.9725914\ttotal: 45.2ms\tremaining: 24.4ms\n",
      "260:\tlearn: 4549.9659919\ttotal: 45.4ms\tremaining: 24.2ms\n",
      "261:\tlearn: 4548.0506701\ttotal: 45.5ms\tremaining: 24ms\n",
      "262:\tlearn: 4546.0193671\ttotal: 45.7ms\tremaining: 23.8ms\n",
      "263:\tlearn: 4542.9196785\ttotal: 45.9ms\tremaining: 23.6ms\n",
      "264:\tlearn: 4541.4676552\ttotal: 46ms\tremaining: 23.4ms\n",
      "265:\tlearn: 4539.9949532\ttotal: 46.2ms\tremaining: 23.3ms\n",
      "266:\tlearn: 4537.8425917\ttotal: 46.3ms\tremaining: 23.1ms\n",
      "267:\tlearn: 4536.0252031\ttotal: 46.5ms\tremaining: 22.9ms\n",
      "268:\tlearn: 4534.5601361\ttotal: 46.8ms\tremaining: 22.8ms\n",
      "269:\tlearn: 4533.3188267\ttotal: 46.9ms\tremaining: 22.6ms\n",
      "270:\tlearn: 4531.5442816\ttotal: 47.1ms\tremaining: 22.4ms\n",
      "271:\tlearn: 4529.8053292\ttotal: 47.3ms\tremaining: 22.2ms\n",
      "272:\tlearn: 4528.3070135\ttotal: 47.5ms\tremaining: 22.1ms\n",
      "273:\tlearn: 4526.7209892\ttotal: 47.7ms\tremaining: 21.9ms\n",
      "274:\tlearn: 4524.7386381\ttotal: 47.9ms\tremaining: 21.8ms\n",
      "275:\tlearn: 4523.3080659\ttotal: 48ms\tremaining: 21.6ms\n",
      "276:\tlearn: 4521.9919469\ttotal: 48.2ms\tremaining: 21.4ms\n",
      "277:\tlearn: 4520.1639203\ttotal: 48.3ms\tremaining: 21.2ms\n",
      "278:\tlearn: 4518.8556443\ttotal: 48.5ms\tremaining: 21ms\n",
      "279:\tlearn: 4517.2517017\ttotal: 48.6ms\tremaining: 20.8ms\n",
      "280:\tlearn: 4514.2675341\ttotal: 48.8ms\tremaining: 20.7ms\n",
      "281:\tlearn: 4512.6761997\ttotal: 49ms\tremaining: 20.5ms\n",
      "282:\tlearn: 4511.3590588\ttotal: 49.1ms\tremaining: 20.3ms\n",
      "283:\tlearn: 4509.9449371\ttotal: 49.3ms\tremaining: 20.1ms\n",
      "284:\tlearn: 4508.6481161\ttotal: 49.5ms\tremaining: 20ms\n",
      "285:\tlearn: 4506.9826692\ttotal: 49.6ms\tremaining: 19.8ms\n",
      "286:\tlearn: 4505.4582265\ttotal: 49.8ms\tremaining: 19.6ms\n",
      "287:\tlearn: 4504.1192818\ttotal: 49.9ms\tremaining: 19.4ms\n",
      "288:\tlearn: 4502.8905245\ttotal: 50.1ms\tremaining: 19.2ms\n",
      "289:\tlearn: 4501.3287596\ttotal: 50.2ms\tremaining: 19ms\n",
      "290:\tlearn: 4499.5932144\ttotal: 50.5ms\tremaining: 18.9ms\n",
      "291:\tlearn: 4498.2645459\ttotal: 50.6ms\tremaining: 18.7ms\n",
      "292:\tlearn: 4497.0311080\ttotal: 50.8ms\tremaining: 18.5ms\n",
      "293:\tlearn: 4494.6108546\ttotal: 50.9ms\tremaining: 18.4ms\n",
      "294:\tlearn: 4493.5800757\ttotal: 51.1ms\tremaining: 18.2ms\n",
      "295:\tlearn: 4492.2486025\ttotal: 51.3ms\tremaining: 18ms\n",
      "296:\tlearn: 4490.3130017\ttotal: 51.4ms\tremaining: 17.8ms\n",
      "297:\tlearn: 4488.9011931\ttotal: 51.6ms\tremaining: 17.6ms\n",
      "298:\tlearn: 4487.7708728\ttotal: 51.7ms\tremaining: 17.5ms\n",
      "299:\tlearn: 4486.3726616\ttotal: 51.9ms\tremaining: 17.3ms\n",
      "300:\tlearn: 4485.1863218\ttotal: 52.1ms\tremaining: 17.1ms\n",
      "301:\tlearn: 4484.0079240\ttotal: 52.3ms\tremaining: 17ms\n",
      "302:\tlearn: 4482.2917135\ttotal: 52.5ms\tremaining: 16.8ms\n",
      "303:\tlearn: 4481.3094939\ttotal: 52.7ms\tremaining: 16.6ms\n",
      "304:\tlearn: 4480.2580872\ttotal: 52.9ms\tremaining: 16.5ms\n",
      "305:\tlearn: 4478.5419691\ttotal: 53.1ms\tremaining: 16.3ms\n",
      "306:\tlearn: 4476.9227467\ttotal: 53.3ms\tremaining: 16.1ms\n",
      "307:\tlearn: 4475.6922706\ttotal: 53.4ms\tremaining: 16ms\n",
      "308:\tlearn: 4474.5650633\ttotal: 53.6ms\tremaining: 15.8ms\n",
      "309:\tlearn: 4473.4718924\ttotal: 53.7ms\tremaining: 15.6ms\n",
      "310:\tlearn: 4472.5194341\ttotal: 53.9ms\tremaining: 15.4ms\n",
      "311:\tlearn: 4471.1353018\ttotal: 54.1ms\tremaining: 15.3ms\n",
      "312:\tlearn: 4469.7771813\ttotal: 54.4ms\tremaining: 15.1ms\n",
      "313:\tlearn: 4468.4163723\ttotal: 54.5ms\tremaining: 14.9ms\n",
      "314:\tlearn: 4467.4930822\ttotal: 54.7ms\tremaining: 14.7ms\n",
      "315:\tlearn: 4466.2003544\ttotal: 54.8ms\tremaining: 14.6ms\n",
      "316:\tlearn: 4464.8185030\ttotal: 54.9ms\tremaining: 14.4ms\n",
      "317:\tlearn: 4463.6082614\ttotal: 55.1ms\tremaining: 14.2ms\n",
      "318:\tlearn: 4462.4793005\ttotal: 55.3ms\tremaining: 14ms\n",
      "319:\tlearn: 4461.3347384\ttotal: 55.5ms\tremaining: 13.9ms\n",
      "320:\tlearn: 4460.4037786\ttotal: 55.7ms\tremaining: 13.7ms\n",
      "321:\tlearn: 4458.4878704\ttotal: 55.8ms\tremaining: 13.5ms\n",
      "322:\tlearn: 4457.5623315\ttotal: 56ms\tremaining: 13.3ms\n",
      "323:\tlearn: 4454.8368993\ttotal: 56.2ms\tremaining: 13.2ms\n",
      "324:\tlearn: 4453.7124666\ttotal: 56.3ms\tremaining: 13ms\n",
      "325:\tlearn: 4452.9954870\ttotal: 56.5ms\tremaining: 12.8ms\n",
      "326:\tlearn: 4451.9645852\ttotal: 56.7ms\tremaining: 12.7ms\n",
      "327:\tlearn: 4450.1023406\ttotal: 56.8ms\tremaining: 12.5ms\n",
      "328:\tlearn: 4448.6902475\ttotal: 57ms\tremaining: 12.3ms\n",
      "329:\tlearn: 4447.4395440\ttotal: 57.2ms\tremaining: 12.1ms\n",
      "330:\tlearn: 4446.1465211\ttotal: 57.4ms\tremaining: 12ms\n",
      "331:\tlearn: 4444.9496786\ttotal: 57.5ms\tremaining: 11.8ms\n",
      "332:\tlearn: 4443.4353658\ttotal: 57.6ms\tremaining: 11.6ms\n",
      "333:\tlearn: 4441.6576174\ttotal: 57.8ms\tremaining: 11.4ms\n",
      "334:\tlearn: 4440.6273618\ttotal: 58ms\tremaining: 11.3ms\n",
      "335:\tlearn: 4439.1013785\ttotal: 58.3ms\tremaining: 11.1ms\n",
      "336:\tlearn: 4438.0756694\ttotal: 58.5ms\tremaining: 10.9ms\n",
      "337:\tlearn: 4437.2932635\ttotal: 58.8ms\tremaining: 10.8ms\n",
      "338:\tlearn: 4435.9184098\ttotal: 59ms\tremaining: 10.6ms\n",
      "339:\tlearn: 4434.1977620\ttotal: 59.2ms\tremaining: 10.4ms\n",
      "340:\tlearn: 4433.3643963\ttotal: 59.4ms\tremaining: 10.3ms\n",
      "341:\tlearn: 4432.2212482\ttotal: 59.5ms\tremaining: 10.1ms\n",
      "342:\tlearn: 4431.2927806\ttotal: 59.8ms\tremaining: 9.93ms\n",
      "343:\tlearn: 4429.7764589\ttotal: 60ms\tremaining: 9.76ms\n",
      "344:\tlearn: 4429.0436194\ttotal: 60.1ms\tremaining: 9.59ms\n",
      "345:\tlearn: 4427.9631455\ttotal: 60.4ms\tremaining: 9.43ms\n",
      "346:\tlearn: 4426.7547143\ttotal: 60.6ms\tremaining: 9.25ms\n",
      "347:\tlearn: 4425.8247991\ttotal: 60.8ms\tremaining: 9.09ms\n",
      "348:\tlearn: 4425.0773059\ttotal: 61.1ms\tremaining: 8.93ms\n",
      "349:\tlearn: 4423.6391348\ttotal: 61.3ms\tremaining: 8.76ms\n",
      "350:\tlearn: 4423.0175547\ttotal: 61.5ms\tremaining: 8.59ms\n",
      "351:\tlearn: 4420.4565735\ttotal: 61.7ms\tremaining: 8.42ms\n",
      "352:\tlearn: 4419.4454229\ttotal: 61.9ms\tremaining: 8.24ms\n",
      "353:\tlearn: 4418.8775726\ttotal: 62.1ms\tremaining: 8.06ms\n",
      "354:\tlearn: 4417.8288295\ttotal: 62.2ms\tremaining: 7.89ms\n",
      "355:\tlearn: 4416.6421096\ttotal: 62.4ms\tremaining: 7.71ms\n",
      "356:\tlearn: 4416.1233444\ttotal: 62.5ms\tremaining: 7.53ms\n",
      "357:\tlearn: 4415.1652672\ttotal: 62.7ms\tremaining: 7.36ms\n",
      "358:\tlearn: 4413.8319806\ttotal: 62.9ms\tremaining: 7.18ms\n",
      "359:\tlearn: 4412.6719541\ttotal: 63.1ms\tremaining: 7.01ms\n",
      "360:\tlearn: 4411.7664862\ttotal: 63.3ms\tremaining: 6.83ms\n",
      "361:\tlearn: 4410.7205373\ttotal: 63.4ms\tremaining: 6.66ms\n",
      "362:\tlearn: 4409.4218720\ttotal: 63.6ms\tremaining: 6.48ms\n",
      "363:\tlearn: 4408.2178310\ttotal: 63.8ms\tremaining: 6.31ms\n",
      "364:\tlearn: 4406.9629456\ttotal: 64ms\tremaining: 6.14ms\n",
      "365:\tlearn: 4405.4837389\ttotal: 64.2ms\tremaining: 5.96ms\n",
      "366:\tlearn: 4404.5593326\ttotal: 64.3ms\tremaining: 5.78ms\n",
      "367:\tlearn: 4403.3896484\ttotal: 64.5ms\tremaining: 5.61ms\n",
      "368:\tlearn: 4402.4407396\ttotal: 64.7ms\tremaining: 5.43ms\n",
      "369:\tlearn: 4401.5977628\ttotal: 64.9ms\tremaining: 5.26ms\n",
      "370:\tlearn: 4400.7126971\ttotal: 65ms\tremaining: 5.08ms\n",
      "371:\tlearn: 4399.1580067\ttotal: 65.2ms\tremaining: 4.91ms\n",
      "372:\tlearn: 4398.1562482\ttotal: 65.4ms\tremaining: 4.73ms\n",
      "373:\tlearn: 4397.5106122\ttotal: 65.5ms\tremaining: 4.56ms\n",
      "374:\tlearn: 4395.9837846\ttotal: 65.7ms\tremaining: 4.38ms\n",
      "375:\tlearn: 4395.1290138\ttotal: 65.8ms\tremaining: 4.2ms\n",
      "376:\tlearn: 4393.9061498\ttotal: 66ms\tremaining: 4.03ms\n",
      "377:\tlearn: 4392.9878921\ttotal: 66.2ms\tremaining: 3.85ms\n",
      "378:\tlearn: 4392.1871743\ttotal: 66.3ms\tremaining: 3.67ms\n",
      "379:\tlearn: 4391.2260376\ttotal: 66.5ms\tremaining: 3.5ms\n",
      "380:\tlearn: 4390.7020001\ttotal: 66.7ms\tremaining: 3.33ms\n",
      "381:\tlearn: 4389.7596006\ttotal: 66.9ms\tremaining: 3.15ms\n",
      "382:\tlearn: 4388.4952511\ttotal: 67ms\tremaining: 2.97ms\n",
      "383:\tlearn: 4387.8228151\ttotal: 67.2ms\tremaining: 2.8ms\n",
      "384:\tlearn: 4386.3981779\ttotal: 67.3ms\tremaining: 2.62ms\n",
      "385:\tlearn: 4385.5142332\ttotal: 67.6ms\tremaining: 2.45ms\n",
      "386:\tlearn: 4384.2531342\ttotal: 67.7ms\tremaining: 2.27ms\n",
      "387:\tlearn: 4382.9893604\ttotal: 67.9ms\tremaining: 2.1ms\n",
      "388:\tlearn: 4381.5216963\ttotal: 68.1ms\tremaining: 1.92ms\n",
      "389:\tlearn: 4379.9135845\ttotal: 68.2ms\tremaining: 1.75ms\n",
      "390:\tlearn: 4379.2617833\ttotal: 68.4ms\tremaining: 1.57ms\n",
      "391:\tlearn: 4378.5768920\ttotal: 68.6ms\tremaining: 1.4ms\n",
      "392:\tlearn: 4377.6593847\ttotal: 68.8ms\tremaining: 1.23ms\n",
      "393:\tlearn: 4376.2214929\ttotal: 69ms\tremaining: 1.05ms\n",
      "394:\tlearn: 4375.4532636\ttotal: 69.2ms\tremaining: 875us\n",
      "395:\tlearn: 4374.4652221\ttotal: 69.3ms\tremaining: 700us\n",
      "396:\tlearn: 4372.9983603\ttotal: 69.5ms\tremaining: 524us\n",
      "397:\tlearn: 4372.2070310\ttotal: 69.7ms\tremaining: 350us\n",
      "398:\tlearn: 4370.8496868\ttotal: 69.8ms\tremaining: 175us\n",
      "399:\tlearn: 4369.9142618\ttotal: 70ms\tremaining: 0us\n",
      "0:\tlearn: 12020.2627329\ttotal: 189us\tremaining: 75.5ms\n",
      "1:\tlearn: 11880.9867001\ttotal: 386us\tremaining: 77ms\n",
      "2:\tlearn: 11747.1262173\ttotal: 605us\tremaining: 80.1ms\n",
      "3:\tlearn: 11612.1327578\ttotal: 824us\tremaining: 81.6ms\n",
      "4:\tlearn: 11482.5159088\ttotal: 1ms\tremaining: 79.3ms\n",
      "5:\tlearn: 11355.4622892\ttotal: 1.25ms\tremaining: 81.8ms\n",
      "6:\tlearn: 11230.4120384\ttotal: 1.38ms\tremaining: 77.5ms\n",
      "7:\tlearn: 11103.8268360\ttotal: 1.57ms\tremaining: 76.9ms\n",
      "8:\tlearn: 10982.4058030\ttotal: 1.71ms\tremaining: 74.3ms\n",
      "9:\tlearn: 10860.3430609\ttotal: 1.85ms\tremaining: 72.3ms\n",
      "10:\tlearn: 10739.8657447\ttotal: 2ms\tremaining: 70.9ms\n",
      "11:\tlearn: 10621.2877684\ttotal: 2.17ms\tremaining: 70.2ms\n",
      "12:\tlearn: 10505.0635293\ttotal: 2.39ms\tremaining: 71.1ms\n",
      "13:\tlearn: 10390.4053851\ttotal: 2.55ms\tremaining: 70.4ms\n",
      "14:\tlearn: 10279.7106576\ttotal: 2.82ms\tremaining: 72.3ms\n",
      "15:\tlearn: 10169.0985526\ttotal: 2.97ms\tremaining: 71.3ms\n",
      "16:\tlearn: 10061.5005606\ttotal: 3.12ms\tremaining: 70.3ms\n",
      "17:\tlearn: 9953.3201013\ttotal: 3.31ms\tremaining: 70.4ms\n",
      "18:\tlearn: 9848.6333554\ttotal: 3.68ms\tremaining: 73.9ms\n",
      "19:\tlearn: 9746.1633889\ttotal: 3.83ms\tremaining: 72.8ms\n",
      "20:\tlearn: 9645.9380285\ttotal: 3.96ms\tremaining: 71.4ms\n",
      "21:\tlearn: 9547.5138120\ttotal: 4.16ms\tremaining: 71.4ms\n",
      "22:\tlearn: 9448.8727948\ttotal: 4.32ms\tremaining: 70.7ms\n",
      "23:\tlearn: 9351.7388637\ttotal: 4.5ms\tremaining: 70.4ms\n",
      "24:\tlearn: 9257.3936514\ttotal: 4.68ms\tremaining: 70.2ms\n",
      "25:\tlearn: 9165.5524653\ttotal: 4.83ms\tremaining: 69.5ms\n",
      "26:\tlearn: 9074.8771873\ttotal: 5.03ms\tremaining: 69.5ms\n",
      "27:\tlearn: 8983.8281450\ttotal: 5.21ms\tremaining: 69.3ms\n",
      "28:\tlearn: 8894.5194393\ttotal: 5.38ms\tremaining: 68.8ms\n",
      "29:\tlearn: 8807.6575468\ttotal: 5.54ms\tremaining: 68.3ms\n",
      "30:\tlearn: 8721.9218991\ttotal: 5.72ms\tremaining: 68.1ms\n",
      "31:\tlearn: 8637.1500851\ttotal: 5.86ms\tremaining: 67.4ms\n",
      "32:\tlearn: 8555.3899888\ttotal: 6.01ms\tremaining: 66.9ms\n",
      "33:\tlearn: 8474.0536465\ttotal: 6.17ms\tremaining: 66.5ms\n",
      "34:\tlearn: 8394.2222489\ttotal: 6.35ms\tremaining: 66.2ms\n",
      "35:\tlearn: 8314.3537011\ttotal: 6.54ms\tremaining: 66.1ms\n",
      "36:\tlearn: 8236.0700396\ttotal: 6.66ms\tremaining: 65.4ms\n",
      "37:\tlearn: 8160.0466157\ttotal: 6.91ms\tremaining: 65.9ms\n",
      "38:\tlearn: 8084.9968192\ttotal: 7.05ms\tremaining: 65.3ms\n",
      "39:\tlearn: 8010.0655153\ttotal: 7.21ms\tremaining: 64.8ms\n",
      "40:\tlearn: 7936.6050486\ttotal: 7.41ms\tremaining: 64.9ms\n",
      "41:\tlearn: 7865.4313854\ttotal: 7.58ms\tremaining: 64.6ms\n",
      "42:\tlearn: 7795.6289519\ttotal: 7.79ms\tremaining: 64.7ms\n",
      "43:\tlearn: 7728.6127467\ttotal: 8ms\tremaining: 64.7ms\n",
      "44:\tlearn: 7663.0949886\ttotal: 8.2ms\tremaining: 64.7ms\n",
      "45:\tlearn: 7597.3706623\ttotal: 8.49ms\tremaining: 65.3ms\n",
      "46:\tlearn: 7534.5048650\ttotal: 8.71ms\tremaining: 65.4ms\n",
      "47:\tlearn: 7472.2185209\ttotal: 8.87ms\tremaining: 65.1ms\n",
      "48:\tlearn: 7407.9292803\ttotal: 9.06ms\tremaining: 64.9ms\n",
      "49:\tlearn: 7345.7180015\ttotal: 9.19ms\tremaining: 64.3ms\n",
      "50:\tlearn: 7284.2536111\ttotal: 9.43ms\tremaining: 64.5ms\n",
      "51:\tlearn: 7224.4320149\ttotal: 9.6ms\tremaining: 64.3ms\n",
      "52:\tlearn: 7166.7643875\ttotal: 9.77ms\tremaining: 64ms\n",
      "53:\tlearn: 7109.2540564\ttotal: 9.94ms\tremaining: 63.7ms\n",
      "54:\tlearn: 7052.7243472\ttotal: 10.1ms\tremaining: 63.3ms\n",
      "55:\tlearn: 6998.2536964\ttotal: 10.3ms\tremaining: 63.1ms\n",
      "56:\tlearn: 6944.7020071\ttotal: 10.5ms\tremaining: 63.3ms\n",
      "57:\tlearn: 6892.7569327\ttotal: 10.7ms\tremaining: 62.9ms\n",
      "58:\tlearn: 6840.5691416\ttotal: 10.8ms\tremaining: 62.5ms\n",
      "59:\tlearn: 6789.1564564\ttotal: 11ms\tremaining: 62.2ms\n",
      "60:\tlearn: 6740.4592258\ttotal: 11.1ms\tremaining: 61.7ms\n",
      "61:\tlearn: 6690.8983528\ttotal: 11.3ms\tremaining: 61.6ms\n",
      "62:\tlearn: 6643.1883030\ttotal: 11.4ms\tremaining: 61.1ms\n",
      "63:\tlearn: 6596.0552578\ttotal: 11.6ms\tremaining: 60.8ms\n",
      "64:\tlearn: 6550.4491200\ttotal: 11.8ms\tremaining: 60.8ms\n",
      "65:\tlearn: 6505.3922691\ttotal: 12ms\tremaining: 60.7ms\n",
      "66:\tlearn: 6459.9745069\ttotal: 12.2ms\tremaining: 60.7ms\n",
      "67:\tlearn: 6417.1954877\ttotal: 12.4ms\tremaining: 60.6ms\n",
      "68:\tlearn: 6373.4940444\ttotal: 12.6ms\tremaining: 60.3ms\n",
      "69:\tlearn: 6331.8352729\ttotal: 12.8ms\tremaining: 60.2ms\n",
      "70:\tlearn: 6290.1339582\ttotal: 12.9ms\tremaining: 59.8ms\n",
      "71:\tlearn: 6249.5028273\ttotal: 13.2ms\tremaining: 60.1ms\n",
      "72:\tlearn: 6210.0518566\ttotal: 13.4ms\tremaining: 59.9ms\n",
      "73:\tlearn: 6170.3924450\ttotal: 13.5ms\tremaining: 59.7ms\n",
      "74:\tlearn: 6131.7736036\ttotal: 13.7ms\tremaining: 59.3ms\n",
      "75:\tlearn: 6096.1418529\ttotal: 13.9ms\tremaining: 59.1ms\n",
      "76:\tlearn: 6060.4494322\ttotal: 14ms\tremaining: 58.8ms\n",
      "77:\tlearn: 6023.7964004\ttotal: 14.2ms\tremaining: 58.6ms\n",
      "78:\tlearn: 5988.8599006\ttotal: 14.3ms\tremaining: 58.3ms\n",
      "79:\tlearn: 5954.2403530\ttotal: 14.5ms\tremaining: 58ms\n",
      "80:\tlearn: 5920.1848355\ttotal: 14.7ms\tremaining: 57.8ms\n",
      "81:\tlearn: 5887.5497502\ttotal: 14.8ms\tremaining: 57.5ms\n",
      "82:\tlearn: 5854.6177531\ttotal: 15ms\tremaining: 57.2ms\n",
      "83:\tlearn: 5821.9387761\ttotal: 15.2ms\tremaining: 57.1ms\n",
      "84:\tlearn: 5792.3433350\ttotal: 15.4ms\tremaining: 56.9ms\n",
      "85:\tlearn: 5762.7638929\ttotal: 15.5ms\tremaining: 56.7ms\n",
      "86:\tlearn: 5732.9375277\ttotal: 15.7ms\tremaining: 56.5ms\n",
      "87:\tlearn: 5703.3008324\ttotal: 16ms\tremaining: 56.6ms\n",
      "88:\tlearn: 5674.3846592\ttotal: 16.2ms\tremaining: 56.5ms\n",
      "89:\tlearn: 5646.5088371\ttotal: 16.3ms\tremaining: 56.2ms\n",
      "90:\tlearn: 5619.1253547\ttotal: 16.5ms\tremaining: 56ms\n",
      "91:\tlearn: 5592.4180898\ttotal: 16.7ms\tremaining: 55.9ms\n",
      "92:\tlearn: 5566.9675446\ttotal: 17ms\tremaining: 56.1ms\n",
      "93:\tlearn: 5541.9951012\ttotal: 17.2ms\tremaining: 56ms\n",
      "94:\tlearn: 5517.0826361\ttotal: 17.4ms\tremaining: 55.9ms\n",
      "95:\tlearn: 5493.0382131\ttotal: 17.6ms\tremaining: 55.7ms\n",
      "96:\tlearn: 5469.1249984\ttotal: 17.7ms\tremaining: 55.4ms\n",
      "97:\tlearn: 5445.3238461\ttotal: 18ms\tremaining: 55.4ms\n",
      "98:\tlearn: 5421.9201881\ttotal: 18.1ms\tremaining: 55.2ms\n",
      "99:\tlearn: 5399.2638755\ttotal: 18.3ms\tremaining: 54.9ms\n",
      "100:\tlearn: 5377.2525167\ttotal: 18.5ms\tremaining: 54.7ms\n",
      "101:\tlearn: 5355.9287973\ttotal: 18.6ms\tremaining: 54.5ms\n",
      "102:\tlearn: 5334.6730626\ttotal: 18.8ms\tremaining: 54.2ms\n",
      "103:\tlearn: 5313.8194135\ttotal: 19ms\tremaining: 53.9ms\n",
      "104:\tlearn: 5292.8538677\ttotal: 19.1ms\tremaining: 53.7ms\n",
      "105:\tlearn: 5272.4200791\ttotal: 19.3ms\tremaining: 53.4ms\n",
      "106:\tlearn: 5253.1760569\ttotal: 19.4ms\tremaining: 53.2ms\n",
      "107:\tlearn: 5233.0055355\ttotal: 19.6ms\tremaining: 52.9ms\n",
      "108:\tlearn: 5214.4499720\ttotal: 19.7ms\tremaining: 52.6ms\n",
      "109:\tlearn: 5194.9598481\ttotal: 19.9ms\tremaining: 52.4ms\n",
      "110:\tlearn: 5177.6874790\ttotal: 20ms\tremaining: 52.2ms\n",
      "111:\tlearn: 5159.9746806\ttotal: 20.2ms\tremaining: 52ms\n",
      "112:\tlearn: 5143.3890633\ttotal: 20.4ms\tremaining: 51.8ms\n",
      "113:\tlearn: 5127.0669987\ttotal: 20.6ms\tremaining: 51.6ms\n",
      "114:\tlearn: 5110.5728206\ttotal: 20.7ms\tremaining: 51.3ms\n",
      "115:\tlearn: 5094.2970714\ttotal: 20.9ms\tremaining: 51.1ms\n",
      "116:\tlearn: 5078.1497188\ttotal: 21.1ms\tremaining: 51ms\n",
      "117:\tlearn: 5062.6141258\ttotal: 21.3ms\tremaining: 50.9ms\n",
      "118:\tlearn: 5046.9959835\ttotal: 21.4ms\tremaining: 50.6ms\n",
      "119:\tlearn: 5032.0971246\ttotal: 21.6ms\tremaining: 50.4ms\n",
      "120:\tlearn: 5017.4305664\ttotal: 21.8ms\tremaining: 50.3ms\n",
      "121:\tlearn: 5003.3156932\ttotal: 22ms\tremaining: 50.2ms\n",
      "122:\tlearn: 4989.1262402\ttotal: 22.2ms\tremaining: 49.9ms\n",
      "123:\tlearn: 4975.5233800\ttotal: 22.4ms\tremaining: 49.9ms\n",
      "124:\tlearn: 4961.6586929\ttotal: 22.7ms\tremaining: 50ms\n",
      "125:\tlearn: 4949.2217590\ttotal: 22.9ms\tremaining: 49.7ms\n",
      "126:\tlearn: 4936.7631747\ttotal: 23ms\tremaining: 49.5ms\n",
      "127:\tlearn: 4924.2693612\ttotal: 23.3ms\tremaining: 49.5ms\n",
      "128:\tlearn: 4912.2874567\ttotal: 23.5ms\tremaining: 49.4ms\n",
      "129:\tlearn: 4900.1182855\ttotal: 23.7ms\tremaining: 49.3ms\n",
      "130:\tlearn: 4888.1126320\ttotal: 23.9ms\tremaining: 49.1ms\n",
      "131:\tlearn: 4875.6933884\ttotal: 24.1ms\tremaining: 48.9ms\n",
      "132:\tlearn: 4863.7145746\ttotal: 24.3ms\tremaining: 48.7ms\n",
      "133:\tlearn: 4852.2730334\ttotal: 24.4ms\tremaining: 48.5ms\n",
      "134:\tlearn: 4841.4354065\ttotal: 24.6ms\tremaining: 48.2ms\n",
      "135:\tlearn: 4830.3219663\ttotal: 24.7ms\tremaining: 48ms\n",
      "136:\tlearn: 4819.9234322\ttotal: 24.9ms\tremaining: 47.8ms\n",
      "137:\tlearn: 4809.7863152\ttotal: 25.1ms\tremaining: 47.7ms\n",
      "138:\tlearn: 4800.0419010\ttotal: 25.3ms\tremaining: 47.6ms\n",
      "139:\tlearn: 4790.1696947\ttotal: 25.5ms\tremaining: 47.4ms\n",
      "140:\tlearn: 4780.4633621\ttotal: 25.7ms\tremaining: 47.3ms\n",
      "141:\tlearn: 4771.2454563\ttotal: 25.9ms\tremaining: 47.1ms\n",
      "142:\tlearn: 4761.1976612\ttotal: 26.1ms\tremaining: 46.9ms\n",
      "143:\tlearn: 4751.8357657\ttotal: 26.3ms\tremaining: 46.7ms\n",
      "144:\tlearn: 4743.0195498\ttotal: 26.5ms\tremaining: 46.7ms\n",
      "145:\tlearn: 4734.1013322\ttotal: 26.7ms\tremaining: 46.5ms\n",
      "146:\tlearn: 4725.8522264\ttotal: 27.1ms\tremaining: 46.6ms\n",
      "147:\tlearn: 4716.8989056\ttotal: 27.3ms\tremaining: 46.5ms\n",
      "148:\tlearn: 4708.6203107\ttotal: 27.5ms\tremaining: 46.3ms\n",
      "149:\tlearn: 4700.6679072\ttotal: 27.6ms\tremaining: 46.1ms\n",
      "150:\tlearn: 4692.6612749\ttotal: 27.8ms\tremaining: 45.9ms\n",
      "151:\tlearn: 4684.8216484\ttotal: 28ms\tremaining: 45.6ms\n",
      "152:\tlearn: 4676.9777117\ttotal: 28.1ms\tremaining: 45.4ms\n",
      "153:\tlearn: 4670.0753081\ttotal: 28.2ms\tremaining: 45.1ms\n",
      "154:\tlearn: 4662.8752040\ttotal: 28.4ms\tremaining: 44.9ms\n",
      "155:\tlearn: 4654.8995179\ttotal: 28.6ms\tremaining: 44.7ms\n",
      "156:\tlearn: 4648.0376802\ttotal: 28.8ms\tremaining: 44.5ms\n",
      "157:\tlearn: 4640.7938147\ttotal: 29ms\tremaining: 44.3ms\n",
      "158:\tlearn: 4634.5440354\ttotal: 29.1ms\tremaining: 44.2ms\n",
      "159:\tlearn: 4627.6943875\ttotal: 29.3ms\tremaining: 43.9ms\n",
      "160:\tlearn: 4621.3792728\ttotal: 29.5ms\tremaining: 43.8ms\n",
      "161:\tlearn: 4615.4208637\ttotal: 29.7ms\tremaining: 43.6ms\n",
      "162:\tlearn: 4609.3025176\ttotal: 29.8ms\tremaining: 43.4ms\n",
      "163:\tlearn: 4602.7942492\ttotal: 30ms\tremaining: 43.2ms\n",
      "164:\tlearn: 4596.3088080\ttotal: 30.2ms\tremaining: 43ms\n",
      "165:\tlearn: 4590.4168165\ttotal: 30.4ms\tremaining: 42.9ms\n",
      "166:\tlearn: 4584.1336100\ttotal: 30.6ms\tremaining: 42.6ms\n",
      "167:\tlearn: 4578.0869853\ttotal: 30.7ms\tremaining: 42.4ms\n",
      "168:\tlearn: 4572.3863021\ttotal: 31ms\tremaining: 42.4ms\n",
      "169:\tlearn: 4566.5820114\ttotal: 31.6ms\tremaining: 42.8ms\n",
      "170:\tlearn: 4560.7542437\ttotal: 31.8ms\tremaining: 42.6ms\n",
      "171:\tlearn: 4555.9345026\ttotal: 32ms\tremaining: 42.4ms\n",
      "172:\tlearn: 4549.8838163\ttotal: 32.2ms\tremaining: 42.2ms\n",
      "173:\tlearn: 4544.6855334\ttotal: 32.3ms\tremaining: 41.9ms\n",
      "174:\tlearn: 4539.5799957\ttotal: 32.6ms\tremaining: 41.9ms\n",
      "175:\tlearn: 4534.5173140\ttotal: 32.8ms\tremaining: 41.8ms\n",
      "176:\tlearn: 4529.5577205\ttotal: 33ms\tremaining: 41.6ms\n",
      "177:\tlearn: 4524.3834116\ttotal: 33.2ms\tremaining: 41.4ms\n",
      "178:\tlearn: 4519.9135938\ttotal: 33.3ms\tremaining: 41.2ms\n",
      "179:\tlearn: 4515.1089088\ttotal: 33.5ms\tremaining: 41ms\n",
      "180:\tlearn: 4510.5456935\ttotal: 33.8ms\tremaining: 40.9ms\n",
      "181:\tlearn: 4505.7954902\ttotal: 33.9ms\tremaining: 40.7ms\n",
      "182:\tlearn: 4501.2182057\ttotal: 34.1ms\tremaining: 40.4ms\n",
      "183:\tlearn: 4495.9870463\ttotal: 34.3ms\tremaining: 40.3ms\n",
      "184:\tlearn: 4491.5833300\ttotal: 34.6ms\tremaining: 40.2ms\n",
      "185:\tlearn: 4487.4969518\ttotal: 34.7ms\tremaining: 40ms\n",
      "186:\tlearn: 4483.4776857\ttotal: 34.9ms\tremaining: 39.8ms\n",
      "187:\tlearn: 4479.2077499\ttotal: 35.1ms\tremaining: 39.6ms\n",
      "188:\tlearn: 4475.4464278\ttotal: 35.2ms\tremaining: 39.4ms\n",
      "189:\tlearn: 4471.4814175\ttotal: 35.4ms\tremaining: 39.2ms\n",
      "190:\tlearn: 4467.6959369\ttotal: 35.6ms\tremaining: 38.9ms\n",
      "191:\tlearn: 4463.7108155\ttotal: 35.7ms\tremaining: 38.7ms\n",
      "192:\tlearn: 4460.3152628\ttotal: 36ms\tremaining: 38.6ms\n",
      "193:\tlearn: 4456.1889615\ttotal: 36.1ms\tremaining: 38.4ms\n",
      "194:\tlearn: 4451.9415732\ttotal: 36.6ms\tremaining: 38.4ms\n",
      "195:\tlearn: 4447.3528139\ttotal: 36.8ms\tremaining: 38.3ms\n",
      "196:\tlearn: 4443.8137853\ttotal: 37ms\tremaining: 38.1ms\n",
      "197:\tlearn: 4439.9637495\ttotal: 37.2ms\tremaining: 37.9ms\n",
      "198:\tlearn: 4436.5740346\ttotal: 37.4ms\tremaining: 37.8ms\n",
      "199:\tlearn: 4433.1447291\ttotal: 37.6ms\tremaining: 37.6ms\n",
      "200:\tlearn: 4428.8798601\ttotal: 37.9ms\tremaining: 37.5ms\n",
      "201:\tlearn: 4425.4304058\ttotal: 38.1ms\tremaining: 37.4ms\n",
      "202:\tlearn: 4422.7905434\ttotal: 38.3ms\tremaining: 37.2ms\n",
      "203:\tlearn: 4420.0097756\ttotal: 38.5ms\tremaining: 37ms\n",
      "204:\tlearn: 4417.2117955\ttotal: 38.6ms\tremaining: 36.8ms\n",
      "205:\tlearn: 4414.1472714\ttotal: 38.9ms\tremaining: 36.7ms\n",
      "206:\tlearn: 4411.3662389\ttotal: 39.1ms\tremaining: 36.5ms\n",
      "207:\tlearn: 4408.0485119\ttotal: 39.3ms\tremaining: 36.3ms\n",
      "208:\tlearn: 4404.9149917\ttotal: 39.5ms\tremaining: 36.1ms\n",
      "209:\tlearn: 4401.0622952\ttotal: 39.8ms\tremaining: 36ms\n",
      "210:\tlearn: 4398.6816958\ttotal: 39.9ms\tremaining: 35.8ms\n",
      "211:\tlearn: 4395.2159249\ttotal: 40.1ms\tremaining: 35.5ms\n",
      "212:\tlearn: 4392.2336095\ttotal: 40.2ms\tremaining: 35.3ms\n",
      "213:\tlearn: 4390.3547434\ttotal: 40.4ms\tremaining: 35.1ms\n",
      "214:\tlearn: 4387.4226525\ttotal: 40.6ms\tremaining: 34.9ms\n",
      "215:\tlearn: 4384.7781994\ttotal: 40.8ms\tremaining: 34.7ms\n",
      "216:\tlearn: 4382.3408381\ttotal: 41.1ms\tremaining: 34.6ms\n",
      "217:\tlearn: 4379.6797275\ttotal: 41.2ms\tremaining: 34.4ms\n",
      "218:\tlearn: 4377.3383829\ttotal: 41.4ms\tremaining: 34.2ms\n",
      "219:\tlearn: 4374.3867549\ttotal: 41.6ms\tremaining: 34ms\n",
      "220:\tlearn: 4371.3597690\ttotal: 41.8ms\tremaining: 33.8ms\n",
      "221:\tlearn: 4368.8605616\ttotal: 42ms\tremaining: 33.7ms\n",
      "222:\tlearn: 4366.4653901\ttotal: 42.2ms\tremaining: 33.5ms\n",
      "223:\tlearn: 4363.5484270\ttotal: 42.4ms\tremaining: 33.3ms\n",
      "224:\tlearn: 4361.1316832\ttotal: 42.6ms\tremaining: 33.1ms\n",
      "225:\tlearn: 4358.9387594\ttotal: 42.8ms\tremaining: 32.9ms\n",
      "226:\tlearn: 4356.5516727\ttotal: 42.9ms\tremaining: 32.7ms\n",
      "227:\tlearn: 4354.3529849\ttotal: 43.1ms\tremaining: 32.5ms\n",
      "228:\tlearn: 4351.8588426\ttotal: 43.3ms\tremaining: 32.3ms\n",
      "229:\tlearn: 4348.8619502\ttotal: 43.4ms\tremaining: 32.1ms\n",
      "230:\tlearn: 4346.5886018\ttotal: 43.6ms\tremaining: 31.9ms\n",
      "231:\tlearn: 4344.5452911\ttotal: 43.8ms\tremaining: 31.7ms\n",
      "232:\tlearn: 4342.2501815\ttotal: 44ms\tremaining: 31.5ms\n",
      "233:\tlearn: 4339.7674386\ttotal: 44.2ms\tremaining: 31.3ms\n",
      "234:\tlearn: 4337.8934637\ttotal: 44.4ms\tremaining: 31.2ms\n",
      "235:\tlearn: 4335.0999089\ttotal: 44.6ms\tremaining: 31ms\n",
      "236:\tlearn: 4333.3376159\ttotal: 44.9ms\tremaining: 30.9ms\n",
      "237:\tlearn: 4331.4466261\ttotal: 45.1ms\tremaining: 30.7ms\n",
      "238:\tlearn: 4329.4309966\ttotal: 45.2ms\tremaining: 30.5ms\n",
      "239:\tlearn: 4327.9361872\ttotal: 45.4ms\tremaining: 30.3ms\n",
      "240:\tlearn: 4326.2220591\ttotal: 45.8ms\tremaining: 30.2ms\n",
      "241:\tlearn: 4323.9605849\ttotal: 46.1ms\tremaining: 30.1ms\n",
      "242:\tlearn: 4322.0779891\ttotal: 46.2ms\tremaining: 29.9ms\n",
      "243:\tlearn: 4318.6695537\ttotal: 46.4ms\tremaining: 29.7ms\n",
      "244:\tlearn: 4317.0043164\ttotal: 46.8ms\tremaining: 29.6ms\n",
      "245:\tlearn: 4315.3558371\ttotal: 47.1ms\tremaining: 29.5ms\n",
      "246:\tlearn: 4313.5355316\ttotal: 47.3ms\tremaining: 29.3ms\n",
      "247:\tlearn: 4311.7130311\ttotal: 47.5ms\tremaining: 29.1ms\n",
      "248:\tlearn: 4309.7972524\ttotal: 47.6ms\tremaining: 28.9ms\n",
      "249:\tlearn: 4308.1545532\ttotal: 47.8ms\tremaining: 28.7ms\n",
      "250:\tlearn: 4306.5540694\ttotal: 48ms\tremaining: 28.5ms\n",
      "251:\tlearn: 4304.9177687\ttotal: 48.3ms\tremaining: 28.4ms\n",
      "252:\tlearn: 4303.3152451\ttotal: 48.4ms\tremaining: 28.1ms\n",
      "253:\tlearn: 4301.9876637\ttotal: 48.6ms\tremaining: 27.9ms\n",
      "254:\tlearn: 4300.0248506\ttotal: 48.8ms\tremaining: 27.7ms\n",
      "255:\tlearn: 4298.5083173\ttotal: 48.9ms\tremaining: 27.5ms\n",
      "256:\tlearn: 4296.9456564\ttotal: 49.1ms\tremaining: 27.3ms\n",
      "257:\tlearn: 4295.3059915\ttotal: 49.3ms\tremaining: 27.1ms\n",
      "258:\tlearn: 4292.0609623\ttotal: 49.6ms\tremaining: 27ms\n",
      "259:\tlearn: 4290.7219605\ttotal: 49.8ms\tremaining: 26.8ms\n",
      "260:\tlearn: 4288.9990900\ttotal: 49.9ms\tremaining: 26.6ms\n",
      "261:\tlearn: 4287.4418960\ttotal: 50.2ms\tremaining: 26.5ms\n",
      "262:\tlearn: 4285.7394559\ttotal: 50.5ms\tremaining: 26.3ms\n",
      "263:\tlearn: 4284.4593424\ttotal: 50.7ms\tremaining: 26.1ms\n",
      "264:\tlearn: 4283.1618175\ttotal: 50.9ms\tremaining: 25.9ms\n",
      "265:\tlearn: 4281.6565078\ttotal: 51ms\tremaining: 25.7ms\n",
      "266:\tlearn: 4280.2942014\ttotal: 51.2ms\tremaining: 25.5ms\n",
      "267:\tlearn: 4278.7008790\ttotal: 51.4ms\tremaining: 25.3ms\n",
      "268:\tlearn: 4277.0204505\ttotal: 51.6ms\tremaining: 25.1ms\n",
      "269:\tlearn: 4275.6142753\ttotal: 51.8ms\tremaining: 24.9ms\n",
      "270:\tlearn: 4274.3685453\ttotal: 52ms\tremaining: 24.8ms\n",
      "271:\tlearn: 4273.0738586\ttotal: 52.1ms\tremaining: 24.5ms\n",
      "272:\tlearn: 4271.7288000\ttotal: 52.3ms\tremaining: 24.3ms\n",
      "273:\tlearn: 4270.4760097\ttotal: 52.4ms\tremaining: 24.1ms\n",
      "274:\tlearn: 4269.1803596\ttotal: 52.6ms\tremaining: 23.9ms\n",
      "275:\tlearn: 4267.8223921\ttotal: 52.8ms\tremaining: 23.7ms\n",
      "276:\tlearn: 4266.6261622\ttotal: 53ms\tremaining: 23.5ms\n",
      "277:\tlearn: 4264.9231600\ttotal: 53.3ms\tremaining: 23.4ms\n",
      "278:\tlearn: 4263.6208506\ttotal: 53.6ms\tremaining: 23.3ms\n",
      "279:\tlearn: 4262.2854204\ttotal: 53.8ms\tremaining: 23ms\n",
      "280:\tlearn: 4260.4350604\ttotal: 54ms\tremaining: 22.9ms\n",
      "281:\tlearn: 4257.5052309\ttotal: 54.2ms\tremaining: 22.7ms\n",
      "282:\tlearn: 4256.1304821\ttotal: 54.4ms\tremaining: 22.5ms\n",
      "283:\tlearn: 4254.7728320\ttotal: 54.7ms\tremaining: 22.3ms\n",
      "284:\tlearn: 4253.4974324\ttotal: 54.9ms\tremaining: 22.1ms\n",
      "285:\tlearn: 4252.1865980\ttotal: 55.1ms\tremaining: 22ms\n",
      "286:\tlearn: 4250.7382471\ttotal: 55.2ms\tremaining: 21.8ms\n",
      "287:\tlearn: 4249.1430984\ttotal: 55.4ms\tremaining: 21.6ms\n",
      "288:\tlearn: 4247.5308596\ttotal: 55.6ms\tremaining: 21.3ms\n",
      "289:\tlearn: 4246.4229410\ttotal: 55.7ms\tremaining: 21.1ms\n",
      "290:\tlearn: 4244.9443748\ttotal: 55.9ms\tremaining: 20.9ms\n",
      "291:\tlearn: 4243.4710051\ttotal: 56.1ms\tremaining: 20.7ms\n",
      "292:\tlearn: 4241.9903924\ttotal: 56.3ms\tremaining: 20.6ms\n",
      "293:\tlearn: 4238.9268986\ttotal: 56.5ms\tremaining: 20.4ms\n",
      "294:\tlearn: 4237.8183185\ttotal: 56.6ms\tremaining: 20.2ms\n",
      "295:\tlearn: 4236.6175494\ttotal: 56.8ms\tremaining: 19.9ms\n",
      "296:\tlearn: 4235.5194718\ttotal: 57ms\tremaining: 19.8ms\n",
      "297:\tlearn: 4234.4357685\ttotal: 57.1ms\tremaining: 19.6ms\n",
      "298:\tlearn: 4233.0103657\ttotal: 57.3ms\tremaining: 19.4ms\n",
      "299:\tlearn: 4231.6509324\ttotal: 57.5ms\tremaining: 19.2ms\n",
      "300:\tlearn: 4230.2014959\ttotal: 57.7ms\tremaining: 19ms\n",
      "301:\tlearn: 4228.1330334\ttotal: 57.9ms\tremaining: 18.8ms\n",
      "302:\tlearn: 4226.8472841\ttotal: 58ms\tremaining: 18.6ms\n",
      "303:\tlearn: 4225.5451479\ttotal: 58.4ms\tremaining: 18.5ms\n",
      "304:\tlearn: 4224.4036622\ttotal: 58.6ms\tremaining: 18.3ms\n",
      "305:\tlearn: 4223.2366362\ttotal: 58.8ms\tremaining: 18.1ms\n",
      "306:\tlearn: 4222.0712517\ttotal: 58.9ms\tremaining: 17.9ms\n",
      "307:\tlearn: 4220.5382515\ttotal: 59.2ms\tremaining: 17.7ms\n",
      "308:\tlearn: 4219.4564356\ttotal: 59.3ms\tremaining: 17.5ms\n",
      "309:\tlearn: 4217.7406273\ttotal: 59.5ms\tremaining: 17.3ms\n",
      "310:\tlearn: 4216.2536367\ttotal: 59.6ms\tremaining: 17.1ms\n",
      "311:\tlearn: 4214.5600835\ttotal: 59.8ms\tremaining: 16.9ms\n",
      "312:\tlearn: 4213.0525618\ttotal: 60ms\tremaining: 16.7ms\n",
      "313:\tlearn: 4211.9526799\ttotal: 60.2ms\tremaining: 16.5ms\n",
      "314:\tlearn: 4210.5989875\ttotal: 60.4ms\tremaining: 16.3ms\n",
      "315:\tlearn: 4209.4087175\ttotal: 60.5ms\tremaining: 16.1ms\n",
      "316:\tlearn: 4206.6800204\ttotal: 60.8ms\tremaining: 15.9ms\n",
      "317:\tlearn: 4205.8059711\ttotal: 61ms\tremaining: 15.7ms\n",
      "318:\tlearn: 4204.4217320\ttotal: 61.2ms\tremaining: 15.5ms\n",
      "319:\tlearn: 4203.7332785\ttotal: 61.4ms\tremaining: 15.4ms\n",
      "320:\tlearn: 4202.1948909\ttotal: 61.6ms\tremaining: 15.2ms\n",
      "321:\tlearn: 4200.6112894\ttotal: 61.8ms\tremaining: 15ms\n",
      "322:\tlearn: 4199.5964737\ttotal: 61.9ms\tremaining: 14.8ms\n",
      "323:\tlearn: 4196.7577516\ttotal: 62.1ms\tremaining: 14.6ms\n",
      "324:\tlearn: 4195.8077653\ttotal: 62.3ms\tremaining: 14.4ms\n",
      "325:\tlearn: 4194.8095641\ttotal: 62.5ms\tremaining: 14.2ms\n",
      "326:\tlearn: 4194.0476329\ttotal: 62.6ms\tremaining: 14ms\n",
      "327:\tlearn: 4191.2820461\ttotal: 62.8ms\tremaining: 13.8ms\n",
      "328:\tlearn: 4190.2751822\ttotal: 63ms\tremaining: 13.6ms\n",
      "329:\tlearn: 4188.9490203\ttotal: 63.2ms\tremaining: 13.4ms\n",
      "330:\tlearn: 4187.3660347\ttotal: 63.3ms\tremaining: 13.2ms\n",
      "331:\tlearn: 4186.4972851\ttotal: 63.5ms\tremaining: 13ms\n",
      "332:\tlearn: 4185.3546556\ttotal: 63.7ms\tremaining: 12.8ms\n",
      "333:\tlearn: 4184.1464612\ttotal: 63.9ms\tremaining: 12.6ms\n",
      "334:\tlearn: 4183.1423164\ttotal: 64.1ms\tremaining: 12.4ms\n",
      "335:\tlearn: 4181.5464064\ttotal: 64.3ms\tremaining: 12.3ms\n",
      "336:\tlearn: 4180.5987465\ttotal: 64.5ms\tremaining: 12.1ms\n",
      "337:\tlearn: 4179.5618393\ttotal: 64.7ms\tremaining: 11.9ms\n",
      "338:\tlearn: 4178.3819933\ttotal: 64.8ms\tremaining: 11.7ms\n",
      "339:\tlearn: 4176.8837436\ttotal: 65ms\tremaining: 11.5ms\n",
      "340:\tlearn: 4175.6777161\ttotal: 65.2ms\tremaining: 11.3ms\n",
      "341:\tlearn: 4174.6914942\ttotal: 65.5ms\tremaining: 11.1ms\n",
      "342:\tlearn: 4173.8394586\ttotal: 65.7ms\tremaining: 10.9ms\n",
      "343:\tlearn: 4172.3063153\ttotal: 65.8ms\tremaining: 10.7ms\n",
      "344:\tlearn: 4171.3057672\ttotal: 66ms\tremaining: 10.5ms\n",
      "345:\tlearn: 4170.3483556\ttotal: 66.1ms\tremaining: 10.3ms\n",
      "346:\tlearn: 4169.5186897\ttotal: 66.3ms\tremaining: 10.1ms\n",
      "347:\tlearn: 4168.3838050\ttotal: 66.5ms\tremaining: 9.93ms\n",
      "348:\tlearn: 4167.4333942\ttotal: 66.6ms\tremaining: 9.74ms\n",
      "349:\tlearn: 4165.6627397\ttotal: 66.8ms\tremaining: 9.55ms\n",
      "350:\tlearn: 4164.1495337\ttotal: 67ms\tremaining: 9.35ms\n",
      "351:\tlearn: 4163.1114871\ttotal: 67.2ms\tremaining: 9.16ms\n",
      "352:\tlearn: 4162.5188490\ttotal: 67.4ms\tremaining: 8.97ms\n",
      "353:\tlearn: 4161.3534166\ttotal: 67.5ms\tremaining: 8.77ms\n",
      "354:\tlearn: 4160.5214211\ttotal: 67.7ms\tremaining: 8.59ms\n",
      "355:\tlearn: 4159.3212974\ttotal: 67.9ms\tremaining: 8.39ms\n",
      "356:\tlearn: 4158.4996789\ttotal: 68.1ms\tremaining: 8.2ms\n",
      "357:\tlearn: 4157.4783604\ttotal: 68.2ms\tremaining: 8ms\n",
      "358:\tlearn: 4156.3657925\ttotal: 68.4ms\tremaining: 7.81ms\n",
      "359:\tlearn: 4153.7495904\ttotal: 68.5ms\tremaining: 7.61ms\n",
      "360:\tlearn: 4152.4501248\ttotal: 68.7ms\tremaining: 7.42ms\n",
      "361:\tlearn: 4151.8669835\ttotal: 68.9ms\tremaining: 7.23ms\n",
      "362:\tlearn: 4150.9600118\ttotal: 69.1ms\tremaining: 7.04ms\n",
      "363:\tlearn: 4149.0836396\ttotal: 69.2ms\tremaining: 6.85ms\n",
      "364:\tlearn: 4147.5874560\ttotal: 69.4ms\tremaining: 6.66ms\n",
      "365:\tlearn: 4146.5068579\ttotal: 69.6ms\tremaining: 6.46ms\n",
      "366:\tlearn: 4145.6611373\ttotal: 69.8ms\tremaining: 6.28ms\n",
      "367:\tlearn: 4144.8692620\ttotal: 70ms\tremaining: 6.08ms\n",
      "368:\tlearn: 4143.7269795\ttotal: 70.1ms\tremaining: 5.89ms\n",
      "369:\tlearn: 4143.0171634\ttotal: 70.3ms\tremaining: 5.7ms\n",
      "370:\tlearn: 4141.6682600\ttotal: 71.3ms\tremaining: 5.57ms\n",
      "371:\tlearn: 4140.5050922\ttotal: 71.4ms\tremaining: 5.38ms\n",
      "372:\tlearn: 4139.5153150\ttotal: 71.6ms\tremaining: 5.18ms\n",
      "373:\tlearn: 4138.4752613\ttotal: 71.8ms\tremaining: 4.99ms\n",
      "374:\tlearn: 4137.6638502\ttotal: 71.9ms\tremaining: 4.79ms\n",
      "375:\tlearn: 4136.7290622\ttotal: 72.1ms\tremaining: 4.6ms\n",
      "376:\tlearn: 4135.7948370\ttotal: 72.2ms\tremaining: 4.41ms\n",
      "377:\tlearn: 4135.2433933\ttotal: 72.4ms\tremaining: 4.21ms\n",
      "378:\tlearn: 4134.1287202\ttotal: 72.5ms\tremaining: 4.02ms\n",
      "379:\tlearn: 4132.7441416\ttotal: 72.7ms\tremaining: 3.82ms\n",
      "380:\tlearn: 4131.5896564\ttotal: 73.5ms\tremaining: 3.66ms\n",
      "381:\tlearn: 4130.5383226\ttotal: 73.7ms\tremaining: 3.47ms\n",
      "382:\tlearn: 4129.3353670\ttotal: 73.8ms\tremaining: 3.27ms\n",
      "383:\tlearn: 4127.8834874\ttotal: 73.9ms\tremaining: 3.08ms\n",
      "384:\tlearn: 4127.2325264\ttotal: 74.2ms\tremaining: 2.89ms\n",
      "385:\tlearn: 4126.3303208\ttotal: 74.4ms\tremaining: 2.7ms\n",
      "386:\tlearn: 4125.2514172\ttotal: 74.5ms\tremaining: 2.5ms\n",
      "387:\tlearn: 4124.2558954\ttotal: 74.7ms\tremaining: 2.31ms\n",
      "388:\tlearn: 4122.9283663\ttotal: 74.8ms\tremaining: 2.12ms\n",
      "389:\tlearn: 4121.8988857\ttotal: 75ms\tremaining: 1.92ms\n",
      "390:\tlearn: 4121.3241036\ttotal: 75.1ms\tremaining: 1.73ms\n",
      "391:\tlearn: 4120.3951741\ttotal: 75.3ms\tremaining: 1.54ms\n",
      "392:\tlearn: 4119.3363945\ttotal: 75.4ms\tremaining: 1.34ms\n",
      "393:\tlearn: 4118.5370379\ttotal: 75.6ms\tremaining: 1.15ms\n",
      "394:\tlearn: 4117.6943944\ttotal: 75.8ms\tremaining: 959us\n",
      "395:\tlearn: 4116.5215547\ttotal: 76.1ms\tremaining: 768us\n",
      "396:\tlearn: 4115.5921731\ttotal: 76.3ms\tremaining: 576us\n",
      "397:\tlearn: 4114.3211087\ttotal: 76.6ms\tremaining: 384us\n",
      "398:\tlearn: 4113.3184454\ttotal: 76.8ms\tremaining: 192us\n",
      "399:\tlearn: 4112.1750454\ttotal: 76.9ms\tremaining: 0us\n",
      "0:\tlearn: 11959.2237469\ttotal: 243us\tremaining: 97.1ms\n",
      "1:\tlearn: 11819.5486461\ttotal: 388us\tremaining: 77.3ms\n",
      "2:\tlearn: 11685.5886201\ttotal: 553us\tremaining: 73.3ms\n",
      "3:\tlearn: 11550.7208740\ttotal: 730us\tremaining: 72.3ms\n",
      "4:\tlearn: 11420.9336912\ttotal: 882us\tremaining: 69.7ms\n",
      "5:\tlearn: 11293.9328783\ttotal: 1.05ms\tremaining: 69.3ms\n",
      "6:\tlearn: 11168.4979511\ttotal: 1.21ms\tremaining: 67.7ms\n",
      "7:\tlearn: 11041.0655478\ttotal: 1.37ms\tremaining: 67.1ms\n",
      "8:\tlearn: 10916.0545765\ttotal: 1.56ms\tremaining: 67.7ms\n",
      "9:\tlearn: 10793.5636847\ttotal: 1.7ms\tremaining: 66.5ms\n",
      "10:\tlearn: 10675.1426877\ttotal: 1.88ms\tremaining: 66.4ms\n",
      "11:\tlearn: 10556.2990845\ttotal: 2.05ms\tremaining: 66.4ms\n",
      "12:\tlearn: 10439.3205836\ttotal: 2.19ms\tremaining: 65.3ms\n",
      "13:\tlearn: 10324.0694700\ttotal: 2.36ms\tremaining: 65.1ms\n",
      "14:\tlearn: 10212.2020839\ttotal: 2.54ms\tremaining: 65.2ms\n",
      "15:\tlearn: 10101.3592660\ttotal: 2.71ms\tremaining: 65.1ms\n",
      "16:\tlearn: 9993.8786754\ttotal: 2.9ms\tremaining: 65.3ms\n",
      "17:\tlearn: 9884.8561449\ttotal: 3.08ms\tremaining: 65.3ms\n",
      "18:\tlearn: 9779.5904212\ttotal: 3.24ms\tremaining: 64.9ms\n",
      "19:\tlearn: 9677.1934845\ttotal: 3.44ms\tremaining: 65.4ms\n",
      "20:\tlearn: 9576.2080097\ttotal: 3.64ms\tremaining: 65.7ms\n",
      "21:\tlearn: 9473.9219361\ttotal: 3.86ms\tremaining: 66.4ms\n",
      "22:\tlearn: 9377.2046642\ttotal: 4.3ms\tremaining: 70.6ms\n",
      "23:\tlearn: 9279.4266960\ttotal: 4.6ms\tremaining: 72.1ms\n",
      "24:\tlearn: 9185.1790062\ttotal: 4.76ms\tremaining: 71.4ms\n",
      "25:\tlearn: 9092.8598570\ttotal: 4.92ms\tremaining: 70.7ms\n",
      "26:\tlearn: 9002.4264127\ttotal: 5.09ms\tremaining: 70.4ms\n",
      "27:\tlearn: 8910.1961926\ttotal: 5.29ms\tremaining: 70.2ms\n",
      "28:\tlearn: 8820.3030717\ttotal: 5.51ms\tremaining: 70.5ms\n",
      "29:\tlearn: 8735.4470165\ttotal: 5.94ms\tremaining: 73.3ms\n",
      "30:\tlearn: 8647.7949381\ttotal: 6.29ms\tremaining: 74.9ms\n",
      "31:\tlearn: 8561.6144518\ttotal: 6.88ms\tremaining: 79.1ms\n",
      "32:\tlearn: 8476.7323171\ttotal: 7.06ms\tremaining: 78.5ms\n",
      "33:\tlearn: 8392.8605478\ttotal: 7.25ms\tremaining: 78ms\n",
      "34:\tlearn: 8313.4808349\ttotal: 7.47ms\tremaining: 78ms\n",
      "35:\tlearn: 8232.5276852\ttotal: 7.63ms\tremaining: 77.2ms\n",
      "36:\tlearn: 8154.2582127\ttotal: 7.82ms\tremaining: 76.7ms\n",
      "37:\tlearn: 8077.1678468\ttotal: 8ms\tremaining: 76.2ms\n",
      "38:\tlearn: 8001.9892236\ttotal: 8.19ms\tremaining: 75.8ms\n",
      "39:\tlearn: 7926.1383936\ttotal: 8.35ms\tremaining: 75.1ms\n",
      "40:\tlearn: 7851.9074806\ttotal: 8.52ms\tremaining: 74.6ms\n",
      "41:\tlearn: 7779.7752070\ttotal: 8.68ms\tremaining: 74ms\n",
      "42:\tlearn: 7708.6330292\ttotal: 8.83ms\tremaining: 73.3ms\n",
      "43:\tlearn: 7639.3077076\ttotal: 9.02ms\tremaining: 73ms\n",
      "44:\tlearn: 7572.7810933\ttotal: 9.19ms\tremaining: 72.5ms\n",
      "45:\tlearn: 7504.6510215\ttotal: 9.38ms\tremaining: 72.2ms\n",
      "46:\tlearn: 7441.4215821\ttotal: 9.53ms\tremaining: 71.6ms\n",
      "47:\tlearn: 7377.2085667\ttotal: 9.69ms\tremaining: 71ms\n",
      "48:\tlearn: 7313.2088211\ttotal: 9.86ms\tremaining: 70.6ms\n",
      "49:\tlearn: 7250.4185717\ttotal: 10ms\tremaining: 70.1ms\n",
      "50:\tlearn: 7189.0636472\ttotal: 10.2ms\tremaining: 69.8ms\n",
      "51:\tlearn: 7131.7965995\ttotal: 10.4ms\tremaining: 69.7ms\n",
      "52:\tlearn: 7072.4736565\ttotal: 10.7ms\tremaining: 69.9ms\n",
      "53:\tlearn: 7014.3658226\ttotal: 10.9ms\tremaining: 69.5ms\n",
      "54:\tlearn: 6957.3001716\ttotal: 11.1ms\tremaining: 69.6ms\n",
      "55:\tlearn: 6901.4757843\ttotal: 11.2ms\tremaining: 69.1ms\n",
      "56:\tlearn: 6847.4352191\ttotal: 11.4ms\tremaining: 68.7ms\n",
      "57:\tlearn: 6794.9163798\ttotal: 11.6ms\tremaining: 68.2ms\n",
      "58:\tlearn: 6740.9060809\ttotal: 11.7ms\tremaining: 67.8ms\n",
      "59:\tlearn: 6689.8982603\ttotal: 11.9ms\tremaining: 67.3ms\n",
      "60:\tlearn: 6639.2928429\ttotal: 12ms\tremaining: 66.7ms\n",
      "61:\tlearn: 6589.4669557\ttotal: 12.1ms\tremaining: 66.2ms\n",
      "62:\tlearn: 6539.4920144\ttotal: 12.3ms\tremaining: 65.8ms\n",
      "63:\tlearn: 6491.2421989\ttotal: 12.5ms\tremaining: 65.6ms\n",
      "64:\tlearn: 6445.2143833\ttotal: 12.7ms\tremaining: 65.3ms\n",
      "65:\tlearn: 6398.8504738\ttotal: 12.9ms\tremaining: 65.1ms\n",
      "66:\tlearn: 6353.1502798\ttotal: 13ms\tremaining: 64.8ms\n",
      "67:\tlearn: 6310.7592720\ttotal: 13.2ms\tremaining: 64.5ms\n",
      "68:\tlearn: 6268.3331426\ttotal: 13.4ms\tremaining: 64.1ms\n",
      "69:\tlearn: 6225.6933255\ttotal: 13.6ms\tremaining: 63.9ms\n",
      "70:\tlearn: 6183.4250589\ttotal: 13.7ms\tremaining: 63.6ms\n",
      "71:\tlearn: 6142.7296862\ttotal: 13.9ms\tremaining: 63.4ms\n",
      "72:\tlearn: 6102.8046860\ttotal: 14.1ms\tremaining: 63.2ms\n",
      "73:\tlearn: 6063.3433537\ttotal: 14.3ms\tremaining: 62.8ms\n",
      "74:\tlearn: 6024.4621480\ttotal: 14.4ms\tremaining: 62.5ms\n",
      "75:\tlearn: 5985.5254638\ttotal: 14.6ms\tremaining: 62.3ms\n",
      "76:\tlearn: 5947.8051400\ttotal: 14.8ms\tremaining: 62.1ms\n",
      "77:\tlearn: 5910.3883224\ttotal: 14.9ms\tremaining: 61.7ms\n",
      "78:\tlearn: 5875.8752706\ttotal: 15.1ms\tremaining: 61.4ms\n",
      "79:\tlearn: 5840.4373749\ttotal: 15.3ms\tremaining: 61.1ms\n",
      "80:\tlearn: 5806.0777984\ttotal: 15.5ms\tremaining: 60.9ms\n",
      "81:\tlearn: 5772.0762498\ttotal: 15.6ms\tremaining: 60.6ms\n",
      "82:\tlearn: 5738.4505572\ttotal: 15.9ms\tremaining: 60.7ms\n",
      "83:\tlearn: 5705.6792236\ttotal: 16ms\tremaining: 60.4ms\n",
      "84:\tlearn: 5675.5501953\ttotal: 16.2ms\tremaining: 60.1ms\n",
      "85:\tlearn: 5645.1970602\ttotal: 16.4ms\tremaining: 59.8ms\n",
      "86:\tlearn: 5614.0369830\ttotal: 16.5ms\tremaining: 59.5ms\n",
      "87:\tlearn: 5582.9793079\ttotal: 16.7ms\tremaining: 59.1ms\n",
      "88:\tlearn: 5553.7039757\ttotal: 16.9ms\tremaining: 59ms\n",
      "89:\tlearn: 5525.3735127\ttotal: 17.1ms\tremaining: 58.8ms\n",
      "90:\tlearn: 5497.3632356\ttotal: 17.2ms\tremaining: 58.5ms\n",
      "91:\tlearn: 5469.6409794\ttotal: 17.4ms\tremaining: 58.2ms\n",
      "92:\tlearn: 5443.2152842\ttotal: 17.6ms\tremaining: 57.9ms\n",
      "93:\tlearn: 5417.3235755\ttotal: 17.7ms\tremaining: 57.7ms\n",
      "94:\tlearn: 5392.0498836\ttotal: 17.9ms\tremaining: 57.6ms\n",
      "95:\tlearn: 5367.5925786\ttotal: 18.2ms\tremaining: 57.6ms\n",
      "96:\tlearn: 5343.6745074\ttotal: 18.3ms\tremaining: 57.3ms\n",
      "97:\tlearn: 5319.4472759\ttotal: 18.6ms\tremaining: 57.3ms\n",
      "98:\tlearn: 5295.5037211\ttotal: 18.8ms\tremaining: 57ms\n",
      "99:\tlearn: 5271.7846361\ttotal: 19ms\tremaining: 56.9ms\n",
      "100:\tlearn: 5249.1954040\ttotal: 19.2ms\tremaining: 56.7ms\n",
      "101:\tlearn: 5227.6350615\ttotal: 19.3ms\tremaining: 56.5ms\n",
      "102:\tlearn: 5205.9021530\ttotal: 19.5ms\tremaining: 56.2ms\n",
      "103:\tlearn: 5184.7139122\ttotal: 19.7ms\tremaining: 56ms\n",
      "104:\tlearn: 5164.2807249\ttotal: 19.8ms\tremaining: 55.7ms\n",
      "105:\tlearn: 5143.7097819\ttotal: 20ms\tremaining: 55.5ms\n",
      "106:\tlearn: 5124.2090980\ttotal: 20.1ms\tremaining: 55.1ms\n",
      "107:\tlearn: 5104.2404940\ttotal: 20.3ms\tremaining: 54.9ms\n",
      "108:\tlearn: 5085.1187532\ttotal: 20.5ms\tremaining: 54.7ms\n",
      "109:\tlearn: 5065.8131471\ttotal: 20.7ms\tremaining: 54.6ms\n",
      "110:\tlearn: 5047.7181852\ttotal: 20.8ms\tremaining: 54.2ms\n",
      "111:\tlearn: 5029.5919873\ttotal: 21ms\tremaining: 54ms\n",
      "112:\tlearn: 5012.7017150\ttotal: 21.1ms\tremaining: 53.7ms\n",
      "113:\tlearn: 4995.7286728\ttotal: 21.4ms\tremaining: 53.6ms\n",
      "114:\tlearn: 4978.5318370\ttotal: 21.5ms\tremaining: 53.3ms\n",
      "115:\tlearn: 4961.4260005\ttotal: 21.7ms\tremaining: 53ms\n",
      "116:\tlearn: 4945.5634321\ttotal: 21.8ms\tremaining: 52.8ms\n",
      "117:\tlearn: 4929.6339607\ttotal: 22ms\tremaining: 52.6ms\n",
      "118:\tlearn: 4913.6300816\ttotal: 22.2ms\tremaining: 52.3ms\n",
      "119:\tlearn: 4898.2289449\ttotal: 22.3ms\tremaining: 52ms\n",
      "120:\tlearn: 4883.8686071\ttotal: 22.5ms\tremaining: 51.8ms\n",
      "121:\tlearn: 4869.4713644\ttotal: 22.6ms\tremaining: 51.6ms\n",
      "122:\tlearn: 4855.0906498\ttotal: 22.8ms\tremaining: 51.4ms\n",
      "123:\tlearn: 4841.6555552\ttotal: 23ms\tremaining: 51.3ms\n",
      "124:\tlearn: 4827.9430964\ttotal: 23.2ms\tremaining: 51.1ms\n",
      "125:\tlearn: 4815.2722225\ttotal: 23.3ms\tremaining: 50.8ms\n",
      "126:\tlearn: 4802.3217853\ttotal: 23.5ms\tremaining: 50.6ms\n",
      "127:\tlearn: 4789.7524535\ttotal: 23.7ms\tremaining: 50.5ms\n",
      "128:\tlearn: 4777.7211302\ttotal: 24ms\tremaining: 50.3ms\n",
      "129:\tlearn: 4766.0111471\ttotal: 24.1ms\tremaining: 50.1ms\n",
      "130:\tlearn: 4754.0238425\ttotal: 24.3ms\tremaining: 49.8ms\n",
      "131:\tlearn: 4742.5303071\ttotal: 24.5ms\tremaining: 49.7ms\n",
      "132:\tlearn: 4731.2898113\ttotal: 24.7ms\tremaining: 49.6ms\n",
      "133:\tlearn: 4720.4002118\ttotal: 24.9ms\tremaining: 49.4ms\n",
      "134:\tlearn: 4709.7116697\ttotal: 25ms\tremaining: 49.2ms\n",
      "135:\tlearn: 4698.9946636\ttotal: 25.2ms\tremaining: 48.9ms\n",
      "136:\tlearn: 4689.1472086\ttotal: 25.3ms\tremaining: 48.7ms\n",
      "137:\tlearn: 4678.2418718\ttotal: 25.5ms\tremaining: 48.4ms\n",
      "138:\tlearn: 4667.8982680\ttotal: 25.7ms\tremaining: 48.2ms\n",
      "139:\tlearn: 4658.2174097\ttotal: 25.9ms\tremaining: 48.1ms\n",
      "140:\tlearn: 4648.6355485\ttotal: 26ms\tremaining: 47.8ms\n",
      "141:\tlearn: 4639.1020223\ttotal: 26.1ms\tremaining: 47.5ms\n",
      "142:\tlearn: 4630.1506471\ttotal: 26.3ms\tremaining: 47.3ms\n",
      "143:\tlearn: 4620.8854795\ttotal: 26.5ms\tremaining: 47.2ms\n",
      "144:\tlearn: 4612.1595281\ttotal: 26.7ms\tremaining: 46.9ms\n",
      "145:\tlearn: 4603.6742499\ttotal: 26.8ms\tremaining: 46.7ms\n",
      "146:\tlearn: 4595.0946537\ttotal: 27ms\tremaining: 46.5ms\n",
      "147:\tlearn: 4586.3436926\ttotal: 27.2ms\tremaining: 46.3ms\n",
      "148:\tlearn: 4577.9621537\ttotal: 27.3ms\tremaining: 46ms\n",
      "149:\tlearn: 4570.0666685\ttotal: 27.5ms\tremaining: 45.9ms\n",
      "150:\tlearn: 4562.3268693\ttotal: 27.7ms\tremaining: 45.7ms\n",
      "151:\tlearn: 4554.7667028\ttotal: 27.9ms\tremaining: 45.5ms\n",
      "152:\tlearn: 4547.4231973\ttotal: 28.1ms\tremaining: 45.3ms\n",
      "153:\tlearn: 4539.8423750\ttotal: 28.2ms\tremaining: 45.1ms\n",
      "154:\tlearn: 4532.7560075\ttotal: 28.4ms\tremaining: 44.8ms\n",
      "155:\tlearn: 4525.5002365\ttotal: 28.5ms\tremaining: 44.6ms\n",
      "156:\tlearn: 4518.0858951\ttotal: 28.7ms\tremaining: 44.4ms\n",
      "157:\tlearn: 4511.4816627\ttotal: 28.9ms\tremaining: 44.2ms\n",
      "158:\tlearn: 4504.6139640\ttotal: 29ms\tremaining: 44ms\n",
      "159:\tlearn: 4498.3783987\ttotal: 29.2ms\tremaining: 43.8ms\n",
      "160:\tlearn: 4492.0661896\ttotal: 29.5ms\tremaining: 43.8ms\n",
      "161:\tlearn: 4485.7347993\ttotal: 29.7ms\tremaining: 43.6ms\n",
      "162:\tlearn: 4479.8143876\ttotal: 29.8ms\tremaining: 43.4ms\n",
      "163:\tlearn: 4473.6125139\ttotal: 30ms\tremaining: 43.2ms\n",
      "164:\tlearn: 4467.5265983\ttotal: 30.2ms\tremaining: 43ms\n",
      "165:\tlearn: 4461.9247945\ttotal: 30.4ms\tremaining: 42.8ms\n",
      "166:\tlearn: 4455.9537073\ttotal: 30.5ms\tremaining: 42.6ms\n",
      "167:\tlearn: 4450.2133515\ttotal: 30.7ms\tremaining: 42.4ms\n",
      "168:\tlearn: 4444.5610661\ttotal: 31ms\tremaining: 42.3ms\n",
      "169:\tlearn: 4439.2823975\ttotal: 31.2ms\tremaining: 42.2ms\n",
      "170:\tlearn: 4433.6724623\ttotal: 31.4ms\tremaining: 42ms\n",
      "171:\tlearn: 4428.1912909\ttotal: 31.5ms\tremaining: 41.8ms\n",
      "172:\tlearn: 4423.0565669\ttotal: 31.7ms\tremaining: 41.7ms\n",
      "173:\tlearn: 4418.0924143\ttotal: 31.9ms\tremaining: 41.4ms\n",
      "174:\tlearn: 4413.1160046\ttotal: 32.1ms\tremaining: 41.3ms\n",
      "175:\tlearn: 4407.5775095\ttotal: 32.3ms\tremaining: 41.1ms\n",
      "176:\tlearn: 4402.6026031\ttotal: 32.4ms\tremaining: 40.9ms\n",
      "177:\tlearn: 4397.7108051\ttotal: 32.6ms\tremaining: 40.6ms\n",
      "178:\tlearn: 4393.0079098\ttotal: 32.8ms\tremaining: 40.5ms\n",
      "179:\tlearn: 4388.3794574\ttotal: 32.9ms\tremaining: 40.2ms\n",
      "180:\tlearn: 4383.8995458\ttotal: 33.1ms\tremaining: 40ms\n",
      "181:\tlearn: 4379.5164820\ttotal: 33.2ms\tremaining: 39.8ms\n",
      "182:\tlearn: 4374.8679268\ttotal: 33.4ms\tremaining: 39.6ms\n",
      "183:\tlearn: 4370.3350520\ttotal: 33.5ms\tremaining: 39.3ms\n",
      "184:\tlearn: 4366.4140939\ttotal: 33.7ms\tremaining: 39.1ms\n",
      "185:\tlearn: 4362.4844945\ttotal: 33.8ms\tremaining: 38.9ms\n",
      "186:\tlearn: 4359.1207436\ttotal: 34ms\tremaining: 38.7ms\n",
      "187:\tlearn: 4355.3427001\ttotal: 34.2ms\tremaining: 38.5ms\n",
      "188:\tlearn: 4351.2410668\ttotal: 34.3ms\tremaining: 38.3ms\n",
      "189:\tlearn: 4347.5809440\ttotal: 34.6ms\tremaining: 38.2ms\n",
      "190:\tlearn: 4343.7450256\ttotal: 34.8ms\tremaining: 38ms\n",
      "191:\tlearn: 4339.3573480\ttotal: 34.9ms\tremaining: 37.8ms\n",
      "192:\tlearn: 4335.5593119\ttotal: 35.1ms\tremaining: 37.6ms\n",
      "193:\tlearn: 4332.0829399\ttotal: 35.2ms\tremaining: 37.4ms\n",
      "194:\tlearn: 4328.8776901\ttotal: 35.4ms\tremaining: 37.2ms\n",
      "195:\tlearn: 4325.2396612\ttotal: 35.5ms\tremaining: 37ms\n",
      "196:\tlearn: 4321.8795863\ttotal: 35.7ms\tremaining: 36.8ms\n",
      "197:\tlearn: 4318.2175878\ttotal: 35.9ms\tremaining: 36.6ms\n",
      "198:\tlearn: 4314.6521893\ttotal: 36.1ms\tremaining: 36.5ms\n",
      "199:\tlearn: 4311.2123133\ttotal: 36.3ms\tremaining: 36.3ms\n",
      "200:\tlearn: 4308.1801846\ttotal: 36.4ms\tremaining: 36.1ms\n",
      "201:\tlearn: 4304.7489395\ttotal: 36.6ms\tremaining: 35.9ms\n",
      "202:\tlearn: 4301.6274269\ttotal: 36.8ms\tremaining: 35.7ms\n",
      "203:\tlearn: 4298.4132780\ttotal: 37ms\tremaining: 35.5ms\n",
      "204:\tlearn: 4295.4239014\ttotal: 37.1ms\tremaining: 35.3ms\n",
      "205:\tlearn: 4292.4423000\ttotal: 37.3ms\tremaining: 35.1ms\n",
      "206:\tlearn: 4288.7826358\ttotal: 37.4ms\tremaining: 34.9ms\n",
      "207:\tlearn: 4285.5752510\ttotal: 37.5ms\tremaining: 34.6ms\n",
      "208:\tlearn: 4282.4934397\ttotal: 37.7ms\tremaining: 34.4ms\n",
      "209:\tlearn: 4279.8657130\ttotal: 37.9ms\tremaining: 34.3ms\n",
      "210:\tlearn: 4277.0998452\ttotal: 38.1ms\tremaining: 34.1ms\n",
      "211:\tlearn: 4274.2848010\ttotal: 38.3ms\tremaining: 33.9ms\n",
      "212:\tlearn: 4271.4619953\ttotal: 38.5ms\tremaining: 33.8ms\n",
      "213:\tlearn: 4269.0006049\ttotal: 38.6ms\tremaining: 33.5ms\n",
      "214:\tlearn: 4265.8593122\ttotal: 38.7ms\tremaining: 33.3ms\n",
      "215:\tlearn: 4263.3549528\ttotal: 38.9ms\tremaining: 33.1ms\n",
      "216:\tlearn: 4260.7262098\ttotal: 39.1ms\tremaining: 32.9ms\n",
      "217:\tlearn: 4258.2479693\ttotal: 39.2ms\tremaining: 32.8ms\n",
      "218:\tlearn: 4256.0980380\ttotal: 39.4ms\tremaining: 32.6ms\n",
      "219:\tlearn: 4253.9571244\ttotal: 39.6ms\tremaining: 32.4ms\n",
      "220:\tlearn: 4251.7613447\ttotal: 39.9ms\tremaining: 32.3ms\n",
      "221:\tlearn: 4249.2534837\ttotal: 40ms\tremaining: 32.1ms\n",
      "222:\tlearn: 4247.1280573\ttotal: 40.2ms\tremaining: 31.9ms\n",
      "223:\tlearn: 4244.9700330\ttotal: 40.4ms\tremaining: 31.7ms\n",
      "224:\tlearn: 4242.3560998\ttotal: 40.5ms\tremaining: 31.5ms\n",
      "225:\tlearn: 4240.3217029\ttotal: 40.7ms\tremaining: 31.3ms\n",
      "226:\tlearn: 4237.9183602\ttotal: 40.9ms\tremaining: 31.1ms\n",
      "227:\tlearn: 4235.7298363\ttotal: 41ms\tremaining: 31ms\n",
      "228:\tlearn: 4233.4127699\ttotal: 41.2ms\tremaining: 30.7ms\n",
      "229:\tlearn: 4231.2888588\ttotal: 41.3ms\tremaining: 30.6ms\n",
      "230:\tlearn: 4228.6206182\ttotal: 41.6ms\tremaining: 30.4ms\n",
      "231:\tlearn: 4226.2281003\ttotal: 41.8ms\tremaining: 30.3ms\n",
      "232:\tlearn: 4224.4469855\ttotal: 42ms\tremaining: 30.1ms\n",
      "233:\tlearn: 4222.4864279\ttotal: 42.3ms\tremaining: 30ms\n",
      "234:\tlearn: 4220.2397659\ttotal: 42.5ms\tremaining: 29.8ms\n",
      "235:\tlearn: 4218.3662393\ttotal: 42.6ms\tremaining: 29.6ms\n",
      "236:\tlearn: 4216.0266059\ttotal: 42.8ms\tremaining: 29.4ms\n",
      "237:\tlearn: 4213.9263077\ttotal: 42.9ms\tremaining: 29.2ms\n",
      "238:\tlearn: 4211.8190992\ttotal: 43.1ms\tremaining: 29ms\n",
      "239:\tlearn: 4209.8570790\ttotal: 43.3ms\tremaining: 28.9ms\n",
      "240:\tlearn: 4207.9249156\ttotal: 43.5ms\tremaining: 28.7ms\n",
      "241:\tlearn: 4206.1059726\ttotal: 43.7ms\tremaining: 28.5ms\n",
      "242:\tlearn: 4204.3069446\ttotal: 43.8ms\tremaining: 28.3ms\n",
      "243:\tlearn: 4202.1215173\ttotal: 44ms\tremaining: 28.1ms\n",
      "244:\tlearn: 4200.3364419\ttotal: 44.2ms\tremaining: 28ms\n",
      "245:\tlearn: 4198.7388978\ttotal: 44.3ms\tremaining: 27.8ms\n",
      "246:\tlearn: 4196.9372031\ttotal: 44.5ms\tremaining: 27.6ms\n",
      "247:\tlearn: 4194.9761245\ttotal: 44.7ms\tremaining: 27.4ms\n",
      "248:\tlearn: 4193.2185081\ttotal: 44.9ms\tremaining: 27.2ms\n",
      "249:\tlearn: 4191.7421237\ttotal: 45ms\tremaining: 27ms\n",
      "250:\tlearn: 4190.4075514\ttotal: 45.2ms\tremaining: 26.8ms\n",
      "251:\tlearn: 4188.8317591\ttotal: 45.4ms\tremaining: 26.7ms\n",
      "252:\tlearn: 4187.2378549\ttotal: 45.6ms\tremaining: 26.5ms\n",
      "253:\tlearn: 4185.4368612\ttotal: 45.9ms\tremaining: 26.4ms\n",
      "254:\tlearn: 4183.7908993\ttotal: 46.1ms\tremaining: 26.2ms\n",
      "255:\tlearn: 4181.8012984\ttotal: 46.2ms\tremaining: 26ms\n",
      "256:\tlearn: 4180.1770332\ttotal: 46.4ms\tremaining: 25.8ms\n",
      "257:\tlearn: 4178.8064154\ttotal: 46.6ms\tremaining: 25.7ms\n",
      "258:\tlearn: 4176.9918634\ttotal: 46.8ms\tremaining: 25.5ms\n",
      "259:\tlearn: 4175.6131960\ttotal: 46.9ms\tremaining: 25.3ms\n",
      "260:\tlearn: 4174.2107956\ttotal: 47.1ms\tremaining: 25.1ms\n",
      "261:\tlearn: 4173.2843617\ttotal: 47.3ms\tremaining: 24.9ms\n",
      "262:\tlearn: 4171.7516366\ttotal: 47.5ms\tremaining: 24.7ms\n",
      "263:\tlearn: 4170.2065708\ttotal: 47.6ms\tremaining: 24.5ms\n",
      "264:\tlearn: 4168.8743735\ttotal: 47.8ms\tremaining: 24.4ms\n",
      "265:\tlearn: 4167.1753098\ttotal: 48ms\tremaining: 24.2ms\n",
      "266:\tlearn: 4165.5788863\ttotal: 48.2ms\tremaining: 24ms\n",
      "267:\tlearn: 4163.9835901\ttotal: 48.4ms\tremaining: 23.8ms\n",
      "268:\tlearn: 4162.5804635\ttotal: 48.5ms\tremaining: 23.6ms\n",
      "269:\tlearn: 4160.9032480\ttotal: 48.7ms\tremaining: 23.4ms\n",
      "270:\tlearn: 4159.4850761\ttotal: 48.9ms\tremaining: 23.3ms\n",
      "271:\tlearn: 4158.4066885\ttotal: 49ms\tremaining: 23.1ms\n",
      "272:\tlearn: 4157.0200850\ttotal: 49.2ms\tremaining: 22.9ms\n",
      "273:\tlearn: 4155.5654816\ttotal: 49.4ms\tremaining: 22.7ms\n",
      "274:\tlearn: 4154.0553513\ttotal: 49.5ms\tremaining: 22.5ms\n",
      "275:\tlearn: 4153.0530531\ttotal: 49.7ms\tremaining: 22.3ms\n",
      "276:\tlearn: 4151.6073011\ttotal: 49.9ms\tremaining: 22.2ms\n",
      "277:\tlearn: 4150.2321320\ttotal: 50.1ms\tremaining: 22ms\n",
      "278:\tlearn: 4148.7945068\ttotal: 50.2ms\tremaining: 21.8ms\n",
      "279:\tlearn: 4147.4507651\ttotal: 50.4ms\tremaining: 21.6ms\n",
      "280:\tlearn: 4145.8318709\ttotal: 50.6ms\tremaining: 21.4ms\n",
      "281:\tlearn: 4144.1895365\ttotal: 50.7ms\tremaining: 21.2ms\n",
      "282:\tlearn: 4142.7374034\ttotal: 50.9ms\tremaining: 21.1ms\n",
      "283:\tlearn: 4141.0760236\ttotal: 51.1ms\tremaining: 20.9ms\n",
      "284:\tlearn: 4139.5563887\ttotal: 51.3ms\tremaining: 20.7ms\n",
      "285:\tlearn: 4138.4307580\ttotal: 51.5ms\tremaining: 20.5ms\n",
      "286:\tlearn: 4137.0044611\ttotal: 51.7ms\tremaining: 20.4ms\n",
      "287:\tlearn: 4135.5402325\ttotal: 52ms\tremaining: 20.2ms\n",
      "288:\tlearn: 4134.0170716\ttotal: 52.3ms\tremaining: 20.1ms\n",
      "289:\tlearn: 4132.4700430\ttotal: 52.4ms\tremaining: 19.9ms\n",
      "290:\tlearn: 4131.5575898\ttotal: 52.6ms\tremaining: 19.7ms\n",
      "291:\tlearn: 4130.4569679\ttotal: 52.8ms\tremaining: 19.5ms\n",
      "292:\tlearn: 4129.0374030\ttotal: 53ms\tremaining: 19.3ms\n",
      "293:\tlearn: 4127.7453617\ttotal: 53.1ms\tremaining: 19.1ms\n",
      "294:\tlearn: 4126.2438799\ttotal: 53.2ms\tremaining: 18.9ms\n",
      "295:\tlearn: 4124.9554868\ttotal: 53.4ms\tremaining: 18.8ms\n",
      "296:\tlearn: 4123.8558410\ttotal: 53.6ms\tremaining: 18.6ms\n",
      "297:\tlearn: 4122.8898695\ttotal: 53.8ms\tremaining: 18.4ms\n",
      "298:\tlearn: 4121.4264039\ttotal: 53.9ms\tremaining: 18.2ms\n",
      "299:\tlearn: 4120.2418815\ttotal: 54.1ms\tremaining: 18ms\n",
      "300:\tlearn: 4118.8173154\ttotal: 54.2ms\tremaining: 17.8ms\n",
      "301:\tlearn: 4117.5125704\ttotal: 54.5ms\tremaining: 17.7ms\n",
      "302:\tlearn: 4116.0379162\ttotal: 54.7ms\tremaining: 17.5ms\n",
      "303:\tlearn: 4115.0566643\ttotal: 55ms\tremaining: 17.4ms\n",
      "304:\tlearn: 4113.8894377\ttotal: 55.2ms\tremaining: 17.2ms\n",
      "305:\tlearn: 4112.2081624\ttotal: 55.3ms\tremaining: 17ms\n",
      "306:\tlearn: 4111.0088446\ttotal: 55.8ms\tremaining: 16.9ms\n",
      "307:\tlearn: 4110.0418201\ttotal: 56.2ms\tremaining: 16.8ms\n",
      "308:\tlearn: 4108.7616397\ttotal: 56.3ms\tremaining: 16.6ms\n",
      "309:\tlearn: 4107.4064900\ttotal: 56.5ms\tremaining: 16.4ms\n",
      "310:\tlearn: 4106.2261875\ttotal: 56.8ms\tremaining: 16.2ms\n",
      "311:\tlearn: 4104.8628847\ttotal: 57.4ms\tremaining: 16.2ms\n",
      "312:\tlearn: 4103.6872991\ttotal: 57.7ms\tremaining: 16ms\n",
      "313:\tlearn: 4102.3887247\ttotal: 57.9ms\tremaining: 15.9ms\n",
      "314:\tlearn: 4100.6568557\ttotal: 58ms\tremaining: 15.7ms\n",
      "315:\tlearn: 4099.6624972\ttotal: 58.2ms\tremaining: 15.5ms\n",
      "316:\tlearn: 4098.7672894\ttotal: 58.3ms\tremaining: 15.3ms\n",
      "317:\tlearn: 4097.9703251\ttotal: 58.5ms\tremaining: 15.1ms\n",
      "318:\tlearn: 4096.4542685\ttotal: 58.7ms\tremaining: 14.9ms\n",
      "319:\tlearn: 4095.1838277\ttotal: 58.8ms\tremaining: 14.7ms\n",
      "320:\tlearn: 4094.1409105\ttotal: 59ms\tremaining: 14.5ms\n",
      "321:\tlearn: 4092.8383166\ttotal: 59.1ms\tremaining: 14.3ms\n",
      "322:\tlearn: 4091.4798285\ttotal: 59.4ms\tremaining: 14.2ms\n",
      "323:\tlearn: 4090.6809350\ttotal: 59.5ms\tremaining: 14ms\n",
      "324:\tlearn: 4089.3870773\ttotal: 59.7ms\tremaining: 13.8ms\n",
      "325:\tlearn: 4088.2470187\ttotal: 59.8ms\tremaining: 13.6ms\n",
      "326:\tlearn: 4087.4958021\ttotal: 60ms\tremaining: 13.4ms\n",
      "327:\tlearn: 4086.3308752\ttotal: 60.2ms\tremaining: 13.2ms\n",
      "328:\tlearn: 4085.1447218\ttotal: 60.4ms\tremaining: 13ms\n",
      "329:\tlearn: 4083.9777582\ttotal: 60.6ms\tremaining: 12.8ms\n",
      "330:\tlearn: 4083.1797060\ttotal: 60.7ms\tremaining: 12.7ms\n",
      "331:\tlearn: 4081.8458313\ttotal: 60.9ms\tremaining: 12.5ms\n",
      "332:\tlearn: 4080.7641392\ttotal: 61ms\tremaining: 12.3ms\n",
      "333:\tlearn: 4079.2060467\ttotal: 61.3ms\tremaining: 12.1ms\n",
      "334:\tlearn: 4078.3675913\ttotal: 61.5ms\tremaining: 11.9ms\n",
      "335:\tlearn: 4077.1649206\ttotal: 61.7ms\tremaining: 11.8ms\n",
      "336:\tlearn: 4076.3235084\ttotal: 61.9ms\tremaining: 11.6ms\n",
      "337:\tlearn: 4075.4269736\ttotal: 62ms\tremaining: 11.4ms\n",
      "338:\tlearn: 4074.2421128\ttotal: 62.2ms\tremaining: 11.2ms\n",
      "339:\tlearn: 4073.0638162\ttotal: 62.4ms\tremaining: 11ms\n",
      "340:\tlearn: 4071.5883028\ttotal: 62.7ms\tremaining: 10.8ms\n",
      "341:\tlearn: 4070.8193734\ttotal: 62.8ms\tremaining: 10.7ms\n",
      "342:\tlearn: 4069.2430899\ttotal: 63ms\tremaining: 10.5ms\n",
      "343:\tlearn: 4068.2938496\ttotal: 63.1ms\tremaining: 10.3ms\n",
      "344:\tlearn: 4066.9175382\ttotal: 63.3ms\tremaining: 10.1ms\n",
      "345:\tlearn: 4066.0350208\ttotal: 63.5ms\tremaining: 9.91ms\n",
      "346:\tlearn: 4064.8064862\ttotal: 63.6ms\tremaining: 9.72ms\n",
      "347:\tlearn: 4063.7341403\ttotal: 63.9ms\tremaining: 9.54ms\n",
      "348:\tlearn: 4062.6812768\ttotal: 64ms\tremaining: 9.35ms\n",
      "349:\tlearn: 4062.1766130\ttotal: 64.1ms\tremaining: 9.16ms\n",
      "350:\tlearn: 4061.2301747\ttotal: 64.3ms\tremaining: 8.98ms\n",
      "351:\tlearn: 4060.7699122\ttotal: 64.5ms\tremaining: 8.8ms\n",
      "352:\tlearn: 4059.8953265\ttotal: 64.7ms\tremaining: 8.61ms\n",
      "353:\tlearn: 4059.0517967\ttotal: 64.8ms\tremaining: 8.42ms\n",
      "354:\tlearn: 4058.0224437\ttotal: 65ms\tremaining: 8.23ms\n",
      "355:\tlearn: 4057.1617721\ttotal: 65.2ms\tremaining: 8.05ms\n",
      "356:\tlearn: 4056.3003692\ttotal: 65.4ms\tremaining: 7.88ms\n",
      "357:\tlearn: 4055.5983801\ttotal: 65.6ms\tremaining: 7.69ms\n",
      "358:\tlearn: 4054.9460831\ttotal: 65.8ms\tremaining: 7.51ms\n",
      "359:\tlearn: 4053.9702900\ttotal: 66ms\tremaining: 7.33ms\n",
      "360:\tlearn: 4052.0274843\ttotal: 66.2ms\tremaining: 7.15ms\n",
      "361:\tlearn: 4050.4745979\ttotal: 66.4ms\tremaining: 6.96ms\n",
      "362:\tlearn: 4049.5860043\ttotal: 66.6ms\tremaining: 6.79ms\n",
      "363:\tlearn: 4048.5951752\ttotal: 66.8ms\tremaining: 6.61ms\n",
      "364:\tlearn: 4047.7841068\ttotal: 67.1ms\tremaining: 6.43ms\n",
      "365:\tlearn: 4046.8935196\ttotal: 67.3ms\tremaining: 6.25ms\n",
      "366:\tlearn: 4045.2356406\ttotal: 67.4ms\tremaining: 6.06ms\n",
      "367:\tlearn: 4044.4772193\ttotal: 67.6ms\tremaining: 5.88ms\n",
      "368:\tlearn: 4043.1132472\ttotal: 67.7ms\tremaining: 5.69ms\n",
      "369:\tlearn: 4042.1508353\ttotal: 67.9ms\tremaining: 5.51ms\n",
      "370:\tlearn: 4041.2711649\ttotal: 68.2ms\tremaining: 5.33ms\n",
      "371:\tlearn: 4039.9122973\ttotal: 68.4ms\tremaining: 5.14ms\n",
      "372:\tlearn: 4039.1323635\ttotal: 68.5ms\tremaining: 4.96ms\n",
      "373:\tlearn: 4038.2006849\ttotal: 68.7ms\tremaining: 4.77ms\n",
      "374:\tlearn: 4037.2398493\ttotal: 68.9ms\tremaining: 4.59ms\n",
      "375:\tlearn: 4036.5856200\ttotal: 69ms\tremaining: 4.4ms\n",
      "376:\tlearn: 4035.4274810\ttotal: 69.2ms\tremaining: 4.22ms\n",
      "377:\tlearn: 4034.7297208\ttotal: 69.4ms\tremaining: 4.04ms\n",
      "378:\tlearn: 4034.0940668\ttotal: 69.6ms\tremaining: 3.86ms\n",
      "379:\tlearn: 4033.0458314\ttotal: 69.8ms\tremaining: 3.67ms\n",
      "380:\tlearn: 4032.2034490\ttotal: 70ms\tremaining: 3.49ms\n",
      "381:\tlearn: 4031.2974517\ttotal: 70.3ms\tremaining: 3.31ms\n",
      "382:\tlearn: 4030.4475351\ttotal: 70.5ms\tremaining: 3.13ms\n",
      "383:\tlearn: 4029.6512607\ttotal: 70.7ms\tremaining: 2.94ms\n",
      "384:\tlearn: 4028.8038147\ttotal: 70.8ms\tremaining: 2.76ms\n",
      "385:\tlearn: 4028.0287243\ttotal: 71.1ms\tremaining: 2.58ms\n",
      "386:\tlearn: 4027.2689770\ttotal: 71.3ms\tremaining: 2.39ms\n",
      "387:\tlearn: 4026.2182099\ttotal: 71.4ms\tremaining: 2.21ms\n",
      "388:\tlearn: 4025.1401318\ttotal: 71.6ms\tremaining: 2.02ms\n",
      "389:\tlearn: 4024.4648214\ttotal: 71.8ms\tremaining: 1.84ms\n",
      "390:\tlearn: 4023.3152937\ttotal: 72ms\tremaining: 1.66ms\n",
      "391:\tlearn: 4021.7545175\ttotal: 72.1ms\tremaining: 1.47ms\n",
      "392:\tlearn: 4021.0933579\ttotal: 72.4ms\tremaining: 1.29ms\n",
      "393:\tlearn: 4020.3229065\ttotal: 72.6ms\tremaining: 1.1ms\n",
      "394:\tlearn: 4018.6301000\ttotal: 72.9ms\tremaining: 922us\n",
      "395:\tlearn: 4017.5209211\ttotal: 73ms\tremaining: 737us\n",
      "396:\tlearn: 4017.0143021\ttotal: 73.4ms\tremaining: 554us\n",
      "397:\tlearn: 4016.1183207\ttotal: 73.5ms\tremaining: 369us\n",
      "398:\tlearn: 4015.6361880\ttotal: 73.7ms\tremaining: 184us\n",
      "399:\tlearn: 4014.9853729\ttotal: 73.9ms\tremaining: 0us\n",
      "0:\tlearn: 11809.4030388\ttotal: 255us\tremaining: 102ms\n",
      "1:\tlearn: 11673.1398175\ttotal: 395us\tremaining: 78.7ms\n",
      "2:\tlearn: 11542.1466920\ttotal: 612us\tremaining: 81.1ms\n",
      "3:\tlearn: 11410.5364371\ttotal: 780us\tremaining: 77.3ms\n",
      "4:\tlearn: 11284.1741461\ttotal: 914us\tremaining: 72.2ms\n",
      "5:\tlearn: 11159.4794436\ttotal: 1.05ms\tremaining: 69ms\n",
      "6:\tlearn: 11037.6046527\ttotal: 1.25ms\tremaining: 70.5ms\n",
      "7:\tlearn: 10914.3173099\ttotal: 1.39ms\tremaining: 68.3ms\n",
      "8:\tlearn: 10792.5289398\ttotal: 1.56ms\tremaining: 67.7ms\n",
      "9:\tlearn: 10673.6129850\ttotal: 1.7ms\tremaining: 66.4ms\n",
      "10:\tlearn: 10557.6242382\ttotal: 1.84ms\tremaining: 65.1ms\n",
      "11:\tlearn: 10441.8725124\ttotal: 1.99ms\tremaining: 64.2ms\n",
      "12:\tlearn: 10330.4521258\ttotal: 2.17ms\tremaining: 64.5ms\n",
      "13:\tlearn: 10218.9011702\ttotal: 2.31ms\tremaining: 63.6ms\n",
      "14:\tlearn: 10110.4325783\ttotal: 2.46ms\tremaining: 63.3ms\n",
      "15:\tlearn: 10003.1474822\ttotal: 2.64ms\tremaining: 63.4ms\n",
      "16:\tlearn: 9898.1268211\ttotal: 2.81ms\tremaining: 63.2ms\n",
      "17:\tlearn: 9793.1188612\ttotal: 2.96ms\tremaining: 62.9ms\n",
      "18:\tlearn: 9689.9242665\ttotal: 3.24ms\tremaining: 65ms\n",
      "19:\tlearn: 9590.0437972\ttotal: 3.39ms\tremaining: 64.4ms\n",
      "20:\tlearn: 9492.4892400\ttotal: 3.55ms\tremaining: 64ms\n",
      "21:\tlearn: 9396.0446998\ttotal: 3.69ms\tremaining: 63.5ms\n",
      "22:\tlearn: 9301.9390736\ttotal: 3.82ms\tremaining: 62.7ms\n",
      "23:\tlearn: 9206.9358252\ttotal: 3.99ms\tremaining: 62.5ms\n",
      "24:\tlearn: 9114.8326093\ttotal: 4.15ms\tremaining: 62.2ms\n",
      "25:\tlearn: 9025.3676545\ttotal: 4.3ms\tremaining: 61.8ms\n",
      "26:\tlearn: 8937.4552069\ttotal: 4.44ms\tremaining: 61.3ms\n",
      "27:\tlearn: 8848.7151969\ttotal: 4.59ms\tremaining: 61.1ms\n",
      "28:\tlearn: 8762.0292181\ttotal: 4.79ms\tremaining: 61.3ms\n",
      "29:\tlearn: 8677.5696367\ttotal: 4.97ms\tremaining: 61.3ms\n",
      "30:\tlearn: 8593.8143721\ttotal: 5.12ms\tremaining: 61ms\n",
      "31:\tlearn: 8511.2530075\ttotal: 5.3ms\tremaining: 61ms\n",
      "32:\tlearn: 8431.4540085\ttotal: 5.57ms\tremaining: 61.9ms\n",
      "33:\tlearn: 8350.8572012\ttotal: 5.73ms\tremaining: 61.6ms\n",
      "34:\tlearn: 8273.9786373\ttotal: 5.86ms\tremaining: 61.2ms\n",
      "35:\tlearn: 8196.0890251\ttotal: 6ms\tremaining: 60.7ms\n",
      "36:\tlearn: 8120.6664661\ttotal: 6.15ms\tremaining: 60.3ms\n",
      "37:\tlearn: 8045.9491388\ttotal: 6.3ms\tremaining: 60.1ms\n",
      "38:\tlearn: 7973.4914540\ttotal: 6.49ms\tremaining: 60.1ms\n",
      "39:\tlearn: 7900.8796178\ttotal: 6.71ms\tremaining: 60.4ms\n",
      "40:\tlearn: 7830.9806609\ttotal: 6.93ms\tremaining: 60.7ms\n",
      "41:\tlearn: 7760.3907954\ttotal: 7.11ms\tremaining: 60.6ms\n",
      "42:\tlearn: 7692.8221952\ttotal: 7.33ms\tremaining: 60.9ms\n",
      "43:\tlearn: 7626.7977855\ttotal: 7.47ms\tremaining: 60.5ms\n",
      "44:\tlearn: 7562.7282067\ttotal: 7.64ms\tremaining: 60.3ms\n",
      "45:\tlearn: 7499.7357412\ttotal: 7.81ms\tremaining: 60.1ms\n",
      "46:\tlearn: 7438.5534595\ttotal: 7.99ms\tremaining: 60ms\n",
      "47:\tlearn: 7376.7103235\ttotal: 8.27ms\tremaining: 60.6ms\n",
      "48:\tlearn: 7315.1958385\ttotal: 8.53ms\tremaining: 61.1ms\n",
      "49:\tlearn: 7254.8587015\ttotal: 8.71ms\tremaining: 60.9ms\n",
      "50:\tlearn: 7195.8958632\ttotal: 8.87ms\tremaining: 60.7ms\n",
      "51:\tlearn: 7139.5980181\ttotal: 9.09ms\tremaining: 60.8ms\n",
      "52:\tlearn: 7083.7116132\ttotal: 9.24ms\tremaining: 60.5ms\n",
      "53:\tlearn: 7029.2127324\ttotal: 9.48ms\tremaining: 60.7ms\n",
      "54:\tlearn: 6974.0950566\ttotal: 9.62ms\tremaining: 60.4ms\n",
      "55:\tlearn: 6921.2317189\ttotal: 9.76ms\tremaining: 60ms\n",
      "56:\tlearn: 6869.1129794\ttotal: 9.93ms\tremaining: 59.7ms\n",
      "57:\tlearn: 6818.5770642\ttotal: 10.1ms\tremaining: 59.8ms\n",
      "58:\tlearn: 6767.9149946\ttotal: 10.4ms\tremaining: 59.9ms\n",
      "59:\tlearn: 6718.7875234\ttotal: 10.5ms\tremaining: 59.5ms\n",
      "60:\tlearn: 6670.5480149\ttotal: 10.6ms\tremaining: 59.1ms\n",
      "61:\tlearn: 6623.2531161\ttotal: 10.8ms\tremaining: 58.9ms\n",
      "62:\tlearn: 6576.4400635\ttotal: 11ms\tremaining: 58.8ms\n",
      "63:\tlearn: 6529.8648734\ttotal: 11.2ms\tremaining: 58.6ms\n",
      "64:\tlearn: 6485.9337732\ttotal: 11.3ms\tremaining: 58.3ms\n",
      "65:\tlearn: 6441.9205481\ttotal: 11.6ms\tremaining: 58.7ms\n",
      "66:\tlearn: 6398.4915299\ttotal: 11.7ms\tremaining: 58.3ms\n",
      "67:\tlearn: 6356.9815683\ttotal: 11.9ms\tremaining: 58.1ms\n",
      "68:\tlearn: 6314.9923812\ttotal: 12.1ms\tremaining: 57.9ms\n",
      "69:\tlearn: 6274.7030598\ttotal: 12.2ms\tremaining: 57.7ms\n",
      "70:\tlearn: 6234.0999219\ttotal: 12.4ms\tremaining: 57.6ms\n",
      "71:\tlearn: 6195.0757417\ttotal: 12.7ms\tremaining: 57.7ms\n",
      "72:\tlearn: 6155.7974681\ttotal: 12.9ms\tremaining: 57.7ms\n",
      "73:\tlearn: 6117.7856488\ttotal: 13ms\tremaining: 57.4ms\n",
      "74:\tlearn: 6079.8098544\ttotal: 13.2ms\tremaining: 57.2ms\n",
      "75:\tlearn: 6045.1219704\ttotal: 13.4ms\tremaining: 57.1ms\n",
      "76:\tlearn: 6010.5719811\ttotal: 13.6ms\tremaining: 57.1ms\n",
      "77:\tlearn: 5976.6118845\ttotal: 13.8ms\tremaining: 56.9ms\n",
      "78:\tlearn: 5943.0373294\ttotal: 14ms\tremaining: 56.8ms\n",
      "79:\tlearn: 5910.4277983\ttotal: 14.1ms\tremaining: 56.5ms\n",
      "80:\tlearn: 5877.6031737\ttotal: 14.3ms\tremaining: 56.5ms\n",
      "81:\tlearn: 5845.5008666\ttotal: 14.5ms\tremaining: 56.2ms\n",
      "82:\tlearn: 5813.3597241\ttotal: 14.7ms\tremaining: 56.1ms\n",
      "83:\tlearn: 5782.7853542\ttotal: 14.9ms\tremaining: 55.9ms\n",
      "84:\tlearn: 5752.8522166\ttotal: 15.1ms\tremaining: 55.8ms\n",
      "85:\tlearn: 5724.2551241\ttotal: 15.3ms\tremaining: 55.8ms\n",
      "86:\tlearn: 5695.6998471\ttotal: 15.5ms\tremaining: 55.6ms\n",
      "87:\tlearn: 5667.2846128\ttotal: 15.6ms\tremaining: 55.4ms\n",
      "88:\tlearn: 5639.8405599\ttotal: 15.9ms\tremaining: 55.4ms\n",
      "89:\tlearn: 5613.4013836\ttotal: 16.9ms\tremaining: 58.3ms\n",
      "90:\tlearn: 5587.0958309\ttotal: 17.1ms\tremaining: 58ms\n",
      "91:\tlearn: 5561.7203132\ttotal: 17.2ms\tremaining: 57.7ms\n",
      "92:\tlearn: 5536.4177266\ttotal: 17.4ms\tremaining: 57.4ms\n",
      "93:\tlearn: 5511.4130811\ttotal: 17.5ms\tremaining: 57.1ms\n",
      "94:\tlearn: 5487.1767231\ttotal: 17.7ms\tremaining: 56.8ms\n",
      "95:\tlearn: 5464.0974402\ttotal: 17.9ms\tremaining: 56.8ms\n",
      "96:\tlearn: 5441.1030936\ttotal: 18.1ms\tremaining: 56.6ms\n",
      "97:\tlearn: 5419.0285627\ttotal: 18.3ms\tremaining: 56.5ms\n",
      "98:\tlearn: 5396.6382909\ttotal: 18.5ms\tremaining: 56.4ms\n",
      "99:\tlearn: 5374.7830706\ttotal: 18.7ms\tremaining: 56.2ms\n",
      "100:\tlearn: 5353.6168126\ttotal: 19ms\tremaining: 56.1ms\n",
      "101:\tlearn: 5333.1244199\ttotal: 19.1ms\tremaining: 55.9ms\n",
      "102:\tlearn: 5312.4533546\ttotal: 19.3ms\tremaining: 55.7ms\n",
      "103:\tlearn: 5292.5249917\ttotal: 19.5ms\tremaining: 55.4ms\n",
      "104:\tlearn: 5272.7624112\ttotal: 19.7ms\tremaining: 55.2ms\n",
      "105:\tlearn: 5254.0649087\ttotal: 19.8ms\tremaining: 54.9ms\n",
      "106:\tlearn: 5235.3567801\ttotal: 20ms\tremaining: 54.7ms\n",
      "107:\tlearn: 5217.5736798\ttotal: 20.1ms\tremaining: 54.5ms\n",
      "108:\tlearn: 5199.8975146\ttotal: 20.4ms\tremaining: 54.6ms\n",
      "109:\tlearn: 5181.6482427\ttotal: 20.6ms\tremaining: 54.3ms\n",
      "110:\tlearn: 5164.4224612\ttotal: 20.8ms\tremaining: 54.3ms\n",
      "111:\tlearn: 5147.0549402\ttotal: 21.1ms\tremaining: 54.1ms\n",
      "112:\tlearn: 5131.3043359\ttotal: 21.3ms\tremaining: 54ms\n",
      "113:\tlearn: 5115.6670983\ttotal: 21.4ms\tremaining: 53.7ms\n",
      "114:\tlearn: 5099.6481787\ttotal: 21.6ms\tremaining: 53.5ms\n",
      "115:\tlearn: 5084.9290933\ttotal: 21.7ms\tremaining: 53.2ms\n",
      "116:\tlearn: 5069.6275862\ttotal: 21.9ms\tremaining: 53ms\n",
      "117:\tlearn: 5054.6121222\ttotal: 22.1ms\tremaining: 52.8ms\n",
      "118:\tlearn: 5039.7878366\ttotal: 22.3ms\tremaining: 52.7ms\n",
      "119:\tlearn: 5025.1321713\ttotal: 22.5ms\tremaining: 52.5ms\n",
      "120:\tlearn: 5011.7030903\ttotal: 22.6ms\tremaining: 52.2ms\n",
      "121:\tlearn: 4998.2964219\ttotal: 22.8ms\tremaining: 52ms\n",
      "122:\tlearn: 4984.2350872\ttotal: 23ms\tremaining: 51.8ms\n",
      "123:\tlearn: 4970.9311152\ttotal: 23.1ms\tremaining: 51.5ms\n",
      "124:\tlearn: 4958.0998265\ttotal: 23.6ms\tremaining: 51.9ms\n",
      "125:\tlearn: 4946.3227368\ttotal: 23.7ms\tremaining: 51.6ms\n",
      "126:\tlearn: 4934.4164267\ttotal: 23.9ms\tremaining: 51.4ms\n",
      "127:\tlearn: 4921.9964872\ttotal: 24.1ms\tremaining: 51.2ms\n",
      "128:\tlearn: 4910.5944852\ttotal: 24.3ms\tremaining: 50.9ms\n",
      "129:\tlearn: 4899.1194469\ttotal: 24.4ms\tremaining: 50.7ms\n",
      "130:\tlearn: 4888.0926631\ttotal: 24.5ms\tremaining: 50.4ms\n",
      "131:\tlearn: 4877.6962264\ttotal: 24.7ms\tremaining: 50.2ms\n",
      "132:\tlearn: 4867.0294883\ttotal: 24.9ms\tremaining: 50ms\n",
      "133:\tlearn: 4856.0492103\ttotal: 25.1ms\tremaining: 49.8ms\n",
      "134:\tlearn: 4845.9319290\ttotal: 25.2ms\tremaining: 49.5ms\n",
      "135:\tlearn: 4835.8496732\ttotal: 25.4ms\tremaining: 49.3ms\n",
      "136:\tlearn: 4825.6563679\ttotal: 25.5ms\tremaining: 49ms\n",
      "137:\tlearn: 4816.5836866\ttotal: 25.8ms\tremaining: 48.9ms\n",
      "138:\tlearn: 4807.1159969\ttotal: 25.9ms\tremaining: 48.7ms\n",
      "139:\tlearn: 4797.5622149\ttotal: 26.2ms\tremaining: 48.6ms\n",
      "140:\tlearn: 4789.1059736\ttotal: 26.3ms\tremaining: 48.3ms\n",
      "141:\tlearn: 4781.2510407\ttotal: 26.5ms\tremaining: 48.1ms\n",
      "142:\tlearn: 4772.9096783\ttotal: 26.6ms\tremaining: 47.8ms\n",
      "143:\tlearn: 4764.4342317\ttotal: 26.8ms\tremaining: 47.6ms\n",
      "144:\tlearn: 4756.2049130\ttotal: 27ms\tremaining: 47.4ms\n",
      "145:\tlearn: 4748.2928665\ttotal: 27.1ms\tremaining: 47.2ms\n",
      "146:\tlearn: 4740.4506058\ttotal: 27.3ms\tremaining: 46.9ms\n",
      "147:\tlearn: 4732.7801588\ttotal: 27.4ms\tremaining: 46.7ms\n",
      "148:\tlearn: 4725.3240415\ttotal: 27.6ms\tremaining: 46.5ms\n",
      "149:\tlearn: 4718.4097749\ttotal: 27.8ms\tremaining: 46.3ms\n",
      "150:\tlearn: 4711.1611060\ttotal: 27.9ms\tremaining: 46ms\n",
      "151:\tlearn: 4704.0542454\ttotal: 28.1ms\tremaining: 45.8ms\n",
      "152:\tlearn: 4697.2395857\ttotal: 28.3ms\tremaining: 45.6ms\n",
      "153:\tlearn: 4690.0147141\ttotal: 28.4ms\tremaining: 45.4ms\n",
      "154:\tlearn: 4683.1576649\ttotal: 28.6ms\tremaining: 45.2ms\n",
      "155:\tlearn: 4676.4201348\ttotal: 28.8ms\tremaining: 45ms\n",
      "156:\tlearn: 4669.9443185\ttotal: 28.9ms\tremaining: 44.8ms\n",
      "157:\tlearn: 4663.4458188\ttotal: 29.1ms\tremaining: 44.5ms\n",
      "158:\tlearn: 4657.0957422\ttotal: 29.3ms\tremaining: 44.4ms\n",
      "159:\tlearn: 4651.1858792\ttotal: 29.5ms\tremaining: 44.2ms\n",
      "160:\tlearn: 4645.5690691\ttotal: 29.6ms\tremaining: 44ms\n",
      "161:\tlearn: 4639.6690082\ttotal: 29.8ms\tremaining: 43.8ms\n",
      "162:\tlearn: 4634.5375495\ttotal: 30ms\tremaining: 43.6ms\n",
      "163:\tlearn: 4629.0953863\ttotal: 30.2ms\tremaining: 43.5ms\n",
      "164:\tlearn: 4623.6703251\ttotal: 30.4ms\tremaining: 43.2ms\n",
      "165:\tlearn: 4618.3164590\ttotal: 30.5ms\tremaining: 43ms\n",
      "166:\tlearn: 4613.0362490\ttotal: 30.6ms\tremaining: 42.8ms\n",
      "167:\tlearn: 4607.7700721\ttotal: 30.9ms\tremaining: 42.7ms\n",
      "168:\tlearn: 4602.7810265\ttotal: 31.1ms\tremaining: 42.5ms\n",
      "169:\tlearn: 4597.3045591\ttotal: 31.2ms\tremaining: 42.3ms\n",
      "170:\tlearn: 4592.3648364\ttotal: 31.4ms\tremaining: 42.1ms\n",
      "171:\tlearn: 4588.0542919\ttotal: 31.5ms\tremaining: 41.8ms\n",
      "172:\tlearn: 4583.0909353\ttotal: 31.7ms\tremaining: 41.6ms\n",
      "173:\tlearn: 4577.7813056\ttotal: 31.9ms\tremaining: 41.4ms\n",
      "174:\tlearn: 4573.4022842\ttotal: 32.1ms\tremaining: 41.2ms\n",
      "175:\tlearn: 4569.0160523\ttotal: 32.2ms\tremaining: 41ms\n",
      "176:\tlearn: 4564.4609771\ttotal: 32.4ms\tremaining: 40.8ms\n",
      "177:\tlearn: 4559.9513670\ttotal: 32.6ms\tremaining: 40.7ms\n",
      "178:\tlearn: 4555.5622185\ttotal: 32.8ms\tremaining: 40.5ms\n",
      "179:\tlearn: 4551.3258715\ttotal: 33ms\tremaining: 40.3ms\n",
      "180:\tlearn: 4547.2669532\ttotal: 33.1ms\tremaining: 40.1ms\n",
      "181:\tlearn: 4542.8643650\ttotal: 33.3ms\tremaining: 39.9ms\n",
      "182:\tlearn: 4539.1464734\ttotal: 33.5ms\tremaining: 39.7ms\n",
      "183:\tlearn: 4534.7744882\ttotal: 33.7ms\tremaining: 39.5ms\n",
      "184:\tlearn: 4531.0922276\ttotal: 33.9ms\tremaining: 39.3ms\n",
      "185:\tlearn: 4527.6956359\ttotal: 34ms\tremaining: 39.2ms\n",
      "186:\tlearn: 4524.6721808\ttotal: 34.2ms\tremaining: 38.9ms\n",
      "187:\tlearn: 4520.8704884\ttotal: 34.4ms\tremaining: 38.8ms\n",
      "188:\tlearn: 4516.6427277\ttotal: 34.6ms\tremaining: 38.6ms\n",
      "189:\tlearn: 4512.9232363\ttotal: 34.7ms\tremaining: 38.4ms\n",
      "190:\tlearn: 4509.4648867\ttotal: 34.9ms\tremaining: 38.2ms\n",
      "191:\tlearn: 4506.1645642\ttotal: 35ms\tremaining: 38ms\n",
      "192:\tlearn: 4503.0205930\ttotal: 35.2ms\tremaining: 37.8ms\n",
      "193:\tlearn: 4499.6335263\ttotal: 35.4ms\tremaining: 37.6ms\n",
      "194:\tlearn: 4496.4088100\ttotal: 35.6ms\tremaining: 37.4ms\n",
      "195:\tlearn: 4493.2362171\ttotal: 35.8ms\tremaining: 37.2ms\n",
      "196:\tlearn: 4489.9727020\ttotal: 36ms\tremaining: 37ms\n",
      "197:\tlearn: 4487.2579022\ttotal: 36.2ms\tremaining: 36.9ms\n",
      "198:\tlearn: 4484.3272071\ttotal: 36.4ms\tremaining: 36.7ms\n",
      "199:\tlearn: 4481.1664021\ttotal: 36.6ms\tremaining: 36.6ms\n",
      "200:\tlearn: 4478.4259198\ttotal: 36.8ms\tremaining: 36.5ms\n",
      "201:\tlearn: 4475.7881573\ttotal: 37.1ms\tremaining: 36.4ms\n",
      "202:\tlearn: 4472.9871669\ttotal: 37.3ms\tremaining: 36.2ms\n",
      "203:\tlearn: 4470.3023297\ttotal: 37.4ms\tremaining: 36ms\n",
      "204:\tlearn: 4468.0583828\ttotal: 37.6ms\tremaining: 35.8ms\n",
      "205:\tlearn: 4465.2437109\ttotal: 37.8ms\tremaining: 35.6ms\n",
      "206:\tlearn: 4462.7470283\ttotal: 37.9ms\tremaining: 35.4ms\n",
      "207:\tlearn: 4460.1111725\ttotal: 38.2ms\tremaining: 35.2ms\n",
      "208:\tlearn: 4457.9064001\ttotal: 38.4ms\tremaining: 35.1ms\n",
      "209:\tlearn: 4454.9647532\ttotal: 38.5ms\tremaining: 34.9ms\n",
      "210:\tlearn: 4452.0859957\ttotal: 38.7ms\tremaining: 34.6ms\n",
      "211:\tlearn: 4449.6382285\ttotal: 38.8ms\tremaining: 34.4ms\n",
      "212:\tlearn: 4446.8187091\ttotal: 39ms\tremaining: 34.2ms\n",
      "213:\tlearn: 4444.0076897\ttotal: 39.2ms\tremaining: 34ms\n",
      "214:\tlearn: 4441.4313475\ttotal: 39.4ms\tremaining: 33.9ms\n",
      "215:\tlearn: 4438.6136320\ttotal: 39.6ms\tremaining: 33.7ms\n",
      "216:\tlearn: 4436.5408645\ttotal: 39.7ms\tremaining: 33.5ms\n",
      "217:\tlearn: 4433.8215741\ttotal: 39.9ms\tremaining: 33.3ms\n",
      "218:\tlearn: 4431.1229235\ttotal: 40ms\tremaining: 33.1ms\n",
      "219:\tlearn: 4428.1902041\ttotal: 40.2ms\tremaining: 32.9ms\n",
      "220:\tlearn: 4425.5785444\ttotal: 40.3ms\tremaining: 32.7ms\n",
      "221:\tlearn: 4423.3400791\ttotal: 40.5ms\tremaining: 32.5ms\n",
      "222:\tlearn: 4421.1635851\ttotal: 40.7ms\tremaining: 32.3ms\n",
      "223:\tlearn: 4418.3856984\ttotal: 40.8ms\tremaining: 32.1ms\n",
      "224:\tlearn: 4416.1987219\ttotal: 41ms\tremaining: 31.9ms\n",
      "225:\tlearn: 4413.9829832\ttotal: 41.2ms\tremaining: 31.8ms\n",
      "226:\tlearn: 4411.2860608\ttotal: 41.5ms\tremaining: 31.6ms\n",
      "227:\tlearn: 4409.2211424\ttotal: 41.7ms\tremaining: 31.4ms\n",
      "228:\tlearn: 4407.4214856\ttotal: 41.8ms\tremaining: 31.2ms\n",
      "229:\tlearn: 4405.2786838\ttotal: 42ms\tremaining: 31ms\n",
      "230:\tlearn: 4403.3794509\ttotal: 42.1ms\tremaining: 30.8ms\n",
      "231:\tlearn: 4401.0706458\ttotal: 42.3ms\tremaining: 30.6ms\n",
      "232:\tlearn: 4398.4584318\ttotal: 42.5ms\tremaining: 30.5ms\n",
      "233:\tlearn: 4396.1020696\ttotal: 42.6ms\tremaining: 30.2ms\n",
      "234:\tlearn: 4394.7500475\ttotal: 42.8ms\tremaining: 30ms\n",
      "235:\tlearn: 4393.1363050\ttotal: 43ms\tremaining: 29.9ms\n",
      "236:\tlearn: 4391.1516679\ttotal: 43.2ms\tremaining: 29.7ms\n",
      "237:\tlearn: 4389.5362562\ttotal: 43.3ms\tremaining: 29.5ms\n",
      "238:\tlearn: 4387.7499442\ttotal: 43.6ms\tremaining: 29.4ms\n",
      "239:\tlearn: 4385.7544707\ttotal: 43.7ms\tremaining: 29.2ms\n",
      "240:\tlearn: 4384.2935168\ttotal: 43.9ms\tremaining: 29ms\n",
      "241:\tlearn: 4381.8599645\ttotal: 44.1ms\tremaining: 28.8ms\n",
      "242:\tlearn: 4380.2342421\ttotal: 44.3ms\tremaining: 28.6ms\n",
      "243:\tlearn: 4378.5404621\ttotal: 44.4ms\tremaining: 28.4ms\n",
      "244:\tlearn: 4376.5832215\ttotal: 44.6ms\tremaining: 28.2ms\n",
      "245:\tlearn: 4373.8985062\ttotal: 44.8ms\tremaining: 28ms\n",
      "246:\tlearn: 4372.1485371\ttotal: 44.9ms\tremaining: 27.8ms\n",
      "247:\tlearn: 4370.5855897\ttotal: 45ms\tremaining: 27.6ms\n",
      "248:\tlearn: 4368.8366904\ttotal: 45.2ms\tremaining: 27.4ms\n",
      "249:\tlearn: 4366.9754027\ttotal: 45.3ms\tremaining: 27.2ms\n",
      "250:\tlearn: 4365.1611490\ttotal: 45.5ms\tremaining: 27ms\n",
      "251:\tlearn: 4363.4084776\ttotal: 45.7ms\tremaining: 26.8ms\n",
      "252:\tlearn: 4362.1258976\ttotal: 45.8ms\tremaining: 26.6ms\n",
      "253:\tlearn: 4360.5525979\ttotal: 46ms\tremaining: 26.4ms\n",
      "254:\tlearn: 4358.8442340\ttotal: 46.1ms\tremaining: 26.2ms\n",
      "255:\tlearn: 4357.4492882\ttotal: 46.3ms\tremaining: 26ms\n",
      "256:\tlearn: 4356.1757509\ttotal: 46.5ms\tremaining: 25.9ms\n",
      "257:\tlearn: 4355.2183976\ttotal: 46.7ms\tremaining: 25.7ms\n",
      "258:\tlearn: 4352.5151440\ttotal: 46.8ms\tremaining: 25.5ms\n",
      "259:\tlearn: 4351.2879364\ttotal: 47ms\tremaining: 25.3ms\n",
      "260:\tlearn: 4349.3546620\ttotal: 47.3ms\tremaining: 25.2ms\n",
      "261:\tlearn: 4348.1602516\ttotal: 47.4ms\tremaining: 25ms\n",
      "262:\tlearn: 4347.0197853\ttotal: 47.6ms\tremaining: 24.8ms\n",
      "263:\tlearn: 4343.9080991\ttotal: 47.8ms\tremaining: 24.6ms\n",
      "264:\tlearn: 4342.3054315\ttotal: 48ms\tremaining: 24.5ms\n",
      "265:\tlearn: 4341.1886307\ttotal: 48.2ms\tremaining: 24.3ms\n",
      "266:\tlearn: 4339.5097800\ttotal: 48.4ms\tremaining: 24.1ms\n",
      "267:\tlearn: 4337.9536591\ttotal: 48.5ms\tremaining: 23.9ms\n",
      "268:\tlearn: 4334.9156362\ttotal: 48.7ms\tremaining: 23.7ms\n",
      "269:\tlearn: 4333.1154139\ttotal: 48.8ms\tremaining: 23.5ms\n",
      "270:\tlearn: 4331.7263274\ttotal: 49.1ms\tremaining: 23.4ms\n",
      "271:\tlearn: 4330.2842050\ttotal: 50.1ms\tremaining: 23.6ms\n",
      "272:\tlearn: 4328.4604943\ttotal: 50.3ms\tremaining: 23.4ms\n",
      "273:\tlearn: 4327.1367763\ttotal: 50.4ms\tremaining: 23.2ms\n",
      "274:\tlearn: 4325.8535839\ttotal: 50.6ms\tremaining: 23ms\n",
      "275:\tlearn: 4324.1416782\ttotal: 50.7ms\tremaining: 22.8ms\n",
      "276:\tlearn: 4323.0106923\ttotal: 50.9ms\tremaining: 22.6ms\n",
      "277:\tlearn: 4321.4824070\ttotal: 51ms\tremaining: 22.4ms\n",
      "278:\tlearn: 4320.3672580\ttotal: 51.1ms\tremaining: 22.2ms\n",
      "279:\tlearn: 4319.2690675\ttotal: 51.3ms\tremaining: 22ms\n",
      "280:\tlearn: 4316.8820366\ttotal: 51.5ms\tremaining: 21.8ms\n",
      "281:\tlearn: 4315.4518321\ttotal: 51.6ms\tremaining: 21.6ms\n",
      "282:\tlearn: 4314.4090652\ttotal: 51.8ms\tremaining: 21.4ms\n",
      "283:\tlearn: 4313.1054285\ttotal: 52.1ms\tremaining: 21.3ms\n",
      "284:\tlearn: 4311.8992938\ttotal: 52.3ms\tremaining: 21.1ms\n",
      "285:\tlearn: 4311.1137855\ttotal: 52.5ms\tremaining: 20.9ms\n",
      "286:\tlearn: 4308.7212613\ttotal: 52.9ms\tremaining: 20.8ms\n",
      "287:\tlearn: 4307.4822650\ttotal: 53.1ms\tremaining: 20.6ms\n",
      "288:\tlearn: 4306.5080401\ttotal: 53.5ms\tremaining: 20.5ms\n",
      "289:\tlearn: 4305.3536418\ttotal: 53.7ms\tremaining: 20.4ms\n",
      "290:\tlearn: 4304.0235829\ttotal: 53.8ms\tremaining: 20.2ms\n",
      "291:\tlearn: 4303.0039538\ttotal: 54ms\tremaining: 20ms\n",
      "292:\tlearn: 4301.7310167\ttotal: 54.3ms\tremaining: 19.8ms\n",
      "293:\tlearn: 4298.9087092\ttotal: 54.4ms\tremaining: 19.6ms\n",
      "294:\tlearn: 4298.0424367\ttotal: 54.6ms\tremaining: 19.4ms\n",
      "295:\tlearn: 4296.3720485\ttotal: 54.9ms\tremaining: 19.3ms\n",
      "296:\tlearn: 4295.1334582\ttotal: 55.1ms\tremaining: 19.1ms\n",
      "297:\tlearn: 4293.9268610\ttotal: 55.3ms\tremaining: 18.9ms\n",
      "298:\tlearn: 4292.7086267\ttotal: 55.5ms\tremaining: 18.7ms\n",
      "299:\tlearn: 4290.8999312\ttotal: 55.6ms\tremaining: 18.5ms\n",
      "300:\tlearn: 4289.8704639\ttotal: 55.8ms\tremaining: 18.3ms\n",
      "301:\tlearn: 4287.6306884\ttotal: 55.9ms\tremaining: 18.1ms\n",
      "302:\tlearn: 4285.4419999\ttotal: 56.1ms\tremaining: 18ms\n",
      "303:\tlearn: 4283.4039373\ttotal: 56.3ms\tremaining: 17.8ms\n",
      "304:\tlearn: 4282.3409361\ttotal: 56.4ms\tremaining: 17.6ms\n",
      "305:\tlearn: 4281.1135271\ttotal: 56.6ms\tremaining: 17.4ms\n",
      "306:\tlearn: 4279.5043061\ttotal: 56.7ms\tremaining: 17.2ms\n",
      "307:\tlearn: 4278.3029482\ttotal: 56.9ms\tremaining: 17ms\n",
      "308:\tlearn: 4276.8052375\ttotal: 57.1ms\tremaining: 16.8ms\n",
      "309:\tlearn: 4275.9910042\ttotal: 57.2ms\tremaining: 16.6ms\n",
      "310:\tlearn: 4274.2564584\ttotal: 57.3ms\tremaining: 16.4ms\n",
      "311:\tlearn: 4273.3015500\ttotal: 57.5ms\tremaining: 16.2ms\n",
      "312:\tlearn: 4271.9994811\ttotal: 57.7ms\tremaining: 16ms\n",
      "313:\tlearn: 4270.7850059\ttotal: 57.8ms\tremaining: 15.8ms\n",
      "314:\tlearn: 4270.0765253\ttotal: 58ms\tremaining: 15.6ms\n",
      "315:\tlearn: 4268.7556492\ttotal: 58.2ms\tremaining: 15.5ms\n",
      "316:\tlearn: 4267.2953514\ttotal: 58.4ms\tremaining: 15.3ms\n",
      "317:\tlearn: 4265.8266999\ttotal: 58.6ms\tremaining: 15.1ms\n",
      "318:\tlearn: 4264.1314411\ttotal: 58.7ms\tremaining: 14.9ms\n",
      "319:\tlearn: 4263.4665312\ttotal: 58.9ms\tremaining: 14.7ms\n",
      "320:\tlearn: 4262.0465329\ttotal: 59.1ms\tremaining: 14.5ms\n",
      "321:\tlearn: 4260.7064935\ttotal: 59.3ms\tremaining: 14.4ms\n",
      "322:\tlearn: 4259.6529693\ttotal: 59.4ms\tremaining: 14.2ms\n",
      "323:\tlearn: 4257.6336887\ttotal: 59.7ms\tremaining: 14ms\n",
      "324:\tlearn: 4256.4342901\ttotal: 59.8ms\tremaining: 13.8ms\n",
      "325:\tlearn: 4255.4991699\ttotal: 60ms\tremaining: 13.6ms\n",
      "326:\tlearn: 4254.7719104\ttotal: 60.2ms\tremaining: 13.4ms\n",
      "327:\tlearn: 4253.7895669\ttotal: 60.4ms\tremaining: 13.3ms\n",
      "328:\tlearn: 4252.9657062\ttotal: 60.6ms\tremaining: 13.1ms\n",
      "329:\tlearn: 4251.7572521\ttotal: 60.7ms\tremaining: 12.9ms\n",
      "330:\tlearn: 4250.4410617\ttotal: 60.9ms\tremaining: 12.7ms\n",
      "331:\tlearn: 4248.9448861\ttotal: 61ms\tremaining: 12.5ms\n",
      "332:\tlearn: 4247.5232385\ttotal: 61.2ms\tremaining: 12.3ms\n",
      "333:\tlearn: 4246.8411751\ttotal: 61.3ms\tremaining: 12.1ms\n",
      "334:\tlearn: 4245.5938903\ttotal: 61.5ms\tremaining: 11.9ms\n",
      "335:\tlearn: 4244.4225472\ttotal: 61.6ms\tremaining: 11.7ms\n",
      "336:\tlearn: 4243.5466652\ttotal: 61.8ms\tremaining: 11.5ms\n",
      "337:\tlearn: 4242.7321678\ttotal: 61.9ms\tremaining: 11.4ms\n",
      "338:\tlearn: 4240.7819441\ttotal: 62.1ms\tremaining: 11.2ms\n",
      "339:\tlearn: 4239.4099227\ttotal: 62.3ms\tremaining: 11ms\n",
      "340:\tlearn: 4237.6678675\ttotal: 62.5ms\tremaining: 10.8ms\n",
      "341:\tlearn: 4236.8074168\ttotal: 62.7ms\tremaining: 10.6ms\n",
      "342:\tlearn: 4236.3137076\ttotal: 62.9ms\tremaining: 10.5ms\n",
      "343:\tlearn: 4234.6838183\ttotal: 63.1ms\tremaining: 10.3ms\n",
      "344:\tlearn: 4233.2957618\ttotal: 63.2ms\tremaining: 10.1ms\n",
      "345:\tlearn: 4232.3937736\ttotal: 63.4ms\tremaining: 9.89ms\n",
      "346:\tlearn: 4231.5571773\ttotal: 63.6ms\tremaining: 9.71ms\n",
      "347:\tlearn: 4230.4970408\ttotal: 63.9ms\tremaining: 9.54ms\n",
      "348:\tlearn: 4229.0623470\ttotal: 64ms\tremaining: 9.36ms\n",
      "349:\tlearn: 4227.7020828\ttotal: 64.2ms\tremaining: 9.18ms\n",
      "350:\tlearn: 4226.0702904\ttotal: 64.4ms\tremaining: 8.99ms\n",
      "351:\tlearn: 4225.2940850\ttotal: 64.5ms\tremaining: 8.8ms\n",
      "352:\tlearn: 4224.4649520\ttotal: 64.7ms\tremaining: 8.62ms\n",
      "353:\tlearn: 4223.7195810\ttotal: 64.9ms\tremaining: 8.43ms\n",
      "354:\tlearn: 4222.9136330\ttotal: 65ms\tremaining: 8.24ms\n",
      "355:\tlearn: 4222.2314715\ttotal: 65.2ms\tremaining: 8.06ms\n",
      "356:\tlearn: 4221.7425067\ttotal: 65.3ms\tremaining: 7.87ms\n",
      "357:\tlearn: 4221.1887395\ttotal: 65.5ms\tremaining: 7.68ms\n",
      "358:\tlearn: 4220.5130907\ttotal: 65.6ms\tremaining: 7.5ms\n",
      "359:\tlearn: 4219.0477469\ttotal: 65.9ms\tremaining: 7.32ms\n",
      "360:\tlearn: 4218.2594462\ttotal: 66ms\tremaining: 7.13ms\n",
      "361:\tlearn: 4217.6238656\ttotal: 66.2ms\tremaining: 6.95ms\n",
      "362:\tlearn: 4216.3457797\ttotal: 66.4ms\tremaining: 6.77ms\n",
      "363:\tlearn: 4215.1837199\ttotal: 66.5ms\tremaining: 6.58ms\n",
      "364:\tlearn: 4213.8290100\ttotal: 66.7ms\tremaining: 6.39ms\n",
      "365:\tlearn: 4212.6828194\ttotal: 66.8ms\tremaining: 6.21ms\n",
      "366:\tlearn: 4211.4052777\ttotal: 67ms\tremaining: 6.02ms\n",
      "367:\tlearn: 4208.7269458\ttotal: 67.1ms\tremaining: 5.83ms\n",
      "368:\tlearn: 4207.5671693\ttotal: 67.3ms\tremaining: 5.66ms\n",
      "369:\tlearn: 4206.7165689\ttotal: 67.5ms\tremaining: 5.47ms\n",
      "370:\tlearn: 4204.8861226\ttotal: 67.7ms\tremaining: 5.29ms\n",
      "371:\tlearn: 4203.5925654\ttotal: 67.9ms\tremaining: 5.11ms\n",
      "372:\tlearn: 4202.3067604\ttotal: 68.1ms\tremaining: 4.93ms\n",
      "373:\tlearn: 4200.9479396\ttotal: 68.2ms\tremaining: 4.74ms\n",
      "374:\tlearn: 4199.9267884\ttotal: 68.4ms\tremaining: 4.56ms\n",
      "375:\tlearn: 4199.0557495\ttotal: 68.6ms\tremaining: 4.38ms\n",
      "376:\tlearn: 4198.0041381\ttotal: 68.7ms\tremaining: 4.19ms\n",
      "377:\tlearn: 4197.4930006\ttotal: 68.9ms\tremaining: 4.01ms\n",
      "378:\tlearn: 4197.0231948\ttotal: 69.2ms\tremaining: 3.83ms\n",
      "379:\tlearn: 4195.7389217\ttotal: 69.4ms\tremaining: 3.65ms\n",
      "380:\tlearn: 4194.2991571\ttotal: 69.6ms\tremaining: 3.47ms\n",
      "381:\tlearn: 4193.5183401\ttotal: 69.8ms\tremaining: 3.29ms\n",
      "382:\tlearn: 4192.6535275\ttotal: 69.9ms\tremaining: 3.1ms\n",
      "383:\tlearn: 4191.4255075\ttotal: 70.1ms\tremaining: 2.92ms\n",
      "384:\tlearn: 4189.9119310\ttotal: 70.2ms\tremaining: 2.74ms\n",
      "385:\tlearn: 4188.8437444\ttotal: 70.4ms\tremaining: 2.55ms\n",
      "386:\tlearn: 4187.9410595\ttotal: 70.6ms\tremaining: 2.37ms\n",
      "387:\tlearn: 4186.3166569\ttotal: 70.7ms\tremaining: 2.19ms\n",
      "388:\tlearn: 4185.2770546\ttotal: 70.9ms\tremaining: 2ms\n",
      "389:\tlearn: 4184.4958743\ttotal: 71.1ms\tremaining: 1.82ms\n",
      "390:\tlearn: 4183.4286865\ttotal: 71.3ms\tremaining: 1.64ms\n",
      "391:\tlearn: 4182.6740293\ttotal: 71.4ms\tremaining: 1.46ms\n",
      "392:\tlearn: 4181.7194375\ttotal: 71.8ms\tremaining: 1.28ms\n",
      "393:\tlearn: 4180.9803001\ttotal: 71.9ms\tremaining: 1.09ms\n",
      "394:\tlearn: 4179.6036639\ttotal: 72.1ms\tremaining: 912us\n",
      "395:\tlearn: 4178.5511774\ttotal: 72.2ms\tremaining: 729us\n",
      "396:\tlearn: 4177.8203727\ttotal: 72.4ms\tremaining: 547us\n",
      "397:\tlearn: 4176.2335510\ttotal: 72.6ms\tremaining: 364us\n",
      "398:\tlearn: 4174.9623656\ttotal: 72.8ms\tremaining: 182us\n",
      "399:\tlearn: 4174.2237572\ttotal: 73ms\tremaining: 0us\n"
     ]
    },
    {
     "data": {
      "text/html": [
       "<pre style=\"white-space:pre;overflow-x:auto;line-height:normal;font-family:Menlo,'DejaVu Sans Mono',consolas,'Courier New',monospace\"><span style=\"color: #008080; text-decoration-color: #008080; font-weight: bold\">0.876279648087973</span>\n",
       "</pre>\n"
      ],
      "text/plain": [
       "\u001b[1;36m0.876279648087973\u001b[0m\n"
      ]
     },
     "metadata": {},
     "output_type": "display_data"
    }
   ],
   "source": [
    "xgr_optunaed = XGBRegressor(**xgb_params)\n",
    "cbr_hp_tuned = CatBoostRegressor(**catboost_params)\n",
    "lgb_hp = LGBMRegressor(**lgbm_r_best_params)\n",
    "stack_ensemble = StackingRegressor(\n",
    "    estimators=[(\"XGBR\", cbr_hp_tuned)], final_estimator=xgr_optunaed\n",
    ")\n",
    "stack_ensemble.fit(X_train, y_train)\n",
    "stack_preds = stack_ensemble.predict(X_test)\n",
    "r2s = r2_score(y_test, stack_preds)\n",
    "best_models_results_dict[\"Stack ensemble\"] = r2s\n",
    "print(r2s)"
   ]
  },
  {
   "cell_type": "code",
   "execution_count": 37,
   "metadata": {},
   "outputs": [
    {
     "data": {
      "text/html": [
       "<pre style=\"white-space:pre;overflow-x:auto;line-height:normal;font-family:Menlo,'DejaVu Sans Mono',consolas,'Courier New',monospace\"></pre>\n"
      ],
      "text/plain": []
     },
     "metadata": {},
     "output_type": "display_data"
    },
    {
     "data": {
      "text/plain": [
       "\n",
       "\u001b[1m{\u001b[0m\n",
       "    \u001b[32m'XGBRegressor'\u001b[0m: \u001b[1;36m0.8824298933794165\u001b[0m,\n",
       "    \u001b[32m'CatBoostRegressor'\u001b[0m: \u001b[1;36m0.8799532474056627\u001b[0m,\n",
       "    \u001b[32m'lgbmRegressor'\u001b[0m: \u001b[1;36m0.8791639532099338\u001b[0m,\n",
       "    \u001b[32m'Stack ensemble'\u001b[0m: \u001b[1;36m0.876279648087973\u001b[0m\n",
       "\u001b[1m}\u001b[0m"
      ]
     },
     "execution_count": 37,
     "metadata": {},
     "output_type": "execute_result"
    }
   ],
   "source": [
    "best_models_results_dict"
   ]
  },
  {
   "cell_type": "markdown",
   "metadata": {},
   "source": [
    "## The Best model: XGB Regressor with hyperparameters tuned using optuna"
   ]
  },
  {
   "cell_type": "code",
   "execution_count": 38,
   "metadata": {},
   "outputs": [],
   "source": [
    "final_model = joblib.load(\"XGBRegressor.pkl\")"
   ]
  },
  {
   "cell_type": "markdown",
   "metadata": {},
   "source": [
    "## Making some sample predicitons \n",
    "- to see how the different features effect the price and to demonstrate how this could be used in real life for a customer signing up for insurance"
   ]
  },
  {
   "cell_type": "code",
   "execution_count": 39,
   "metadata": {},
   "outputs": [
    {
     "data": {
      "application/vnd.jupyter.widget-view+json": {
       "model_id": "02a4b32d115a40ed8cd0ed7694297576",
       "version_major": 2,
       "version_minor": 0
      },
      "text/plain": [
       "interactive(children=(FloatSlider(value=35.0, description='Age', min=18.0, step=1.0), Dropdown(description='Se…"
      ]
     },
     "metadata": {},
     "output_type": "display_data"
    },
    {
     "data": {
      "text/html": [
       "<pre style=\"white-space:pre;overflow-x:auto;line-height:normal;font-family:Menlo,'DejaVu Sans Mono',consolas,'Courier New',monospace\"></pre>\n"
      ],
      "text/plain": []
     },
     "metadata": {},
     "output_type": "display_data"
    },
    {
     "data": {
      "text/plain": [
       "\u001b[1m<\u001b[0m\u001b[1;95mfunction\u001b[0m\u001b[39m make_prediction at \u001b[0m\u001b[1;36m0x172088b80\u001b[0m\u001b[1m>\u001b[0m"
      ]
     },
     "execution_count": 39,
     "metadata": {},
     "output_type": "execute_result"
    }
   ],
   "source": [
    "# Load the saved ColumnTransformer, MinMaxScaler, and model using joblib\n",
    "column_transformer = joblib.load(\"col_transformer.pkl\")\n",
    "minmax_scaler = joblib.load(\"minmax_scaler.pkl\")\n",
    "model = joblib.load(\"XGBRegressor.pkl\")\n",
    "\n",
    "\n",
    "def make_prediction(age, sex, bmi, children, smoker, region):\n",
    "    \"\"\"\n",
    "    Make a prediction for a single persons information\n",
    "\n",
    "    Args:\n",
    "        age (int): age\n",
    "        sex (str): male or female\n",
    "        bmi (float): _describmi valueption_\n",
    "        children (int): number of children\n",
    "        smoker (str): yes or no\n",
    "        region (str): persons region\n",
    "    \"\"\"\n",
    "    # BMI category needs to be assigned based on the BMI entered\n",
    "    if bmi < 18.5:\n",
    "        bmi_category = \"Underweight\"\n",
    "    elif bmi > 18.5 and bmi < 24.9:\n",
    "        bmi_category = \"Normal weight\"\n",
    "    elif bmi > 24.9 and bmi < 29.9:\n",
    "        bmi_category = \"Overweight\"\n",
    "    elif bmi > 30:\n",
    "        bmi_category = \"Obesity\"\n",
    "\n",
    "    # Create the data in the same way the model it was trained (pandas dataframe)\n",
    "    new_data = pd.DataFrame(\n",
    "        [\n",
    "            {\n",
    "                \"age\": age,\n",
    "                \"sex\": sex,\n",
    "                \"bmi\": bmi,\n",
    "                \"children\": children,\n",
    "                \"smoker\": smoker,\n",
    "                \"region\": region,\n",
    "                \"bmi_category\": bmi_category,\n",
    "            }\n",
    "        ]\n",
    "    )\n",
    "\n",
    "    # Process the data in the same way it was for trainin the model\n",
    "    new_data_transformed = column_transformer.transform(new_data)\n",
    "    new_data_transformed = minmax_scaler.transform(new_data_transformed)\n",
    "    predicted_price = model.predict(new_data_transformed)\n",
    "\n",
    "    print(\"Predicted Insurance cost: {}\".format(predicted_price))\n",
    "\n",
    "\n",
    "# Create the widgets to input the data\n",
    "age_slider = widgets.FloatSlider(min=18, max=100, step=1, value=35, description=\"Age\")\n",
    "bmi_slider = widgets.FloatSlider(\n",
    "    min=15, max=40, step=0.1, value=27.5, description=\"BMI\"\n",
    ")\n",
    "children_slider = widgets.IntSlider(\n",
    "    min=0, max=10, step=1, value=2, description=\"Children\"\n",
    ")\n",
    "smoker_dropdown = widgets.Dropdown(\n",
    "    options=[\"yes\", \"no\"], value=\"yes\", description=\"Smoker\"\n",
    ")\n",
    "region_dropdown = widgets.Dropdown(\n",
    "    options=[\"southeast\", \"southwest\", \"northeast\", \"northwest\"],\n",
    "    value=\"southeast\",\n",
    "    description=\"Region\",\n",
    ")\n",
    "sex_dropdown = widgets.Dropdown(\n",
    "    options=[\"male\", \"female\"], value=\"female\", description=\"Sex\"\n",
    ")\n",
    "\n",
    "interact(\n",
    "    make_prediction,\n",
    "    age=age_slider,\n",
    "    sex=sex_dropdown,\n",
    "    bmi=bmi_slider,\n",
    "    children=children_slider,\n",
    "    smoker=smoker_dropdown,\n",
    "    region=region_dropdown,\n",
    ")"
   ]
  },
  {
   "cell_type": "markdown",
   "metadata": {},
   "source": [
    "## Results and findings"
   ]
  },
  {
   "cell_type": "markdown",
   "metadata": {},
   "source": []
  },
  {
   "cell_type": "markdown",
   "metadata": {},
   "source": []
  }
 ],
 "metadata": {
  "kernelspec": {
   "display_name": ".venv",
   "language": "python",
   "name": "python3"
  },
  "language_info": {
   "codemirror_mode": {
    "name": "ipython",
    "version": 3
   },
   "file_extension": ".py",
   "mimetype": "text/x-python",
   "name": "python",
   "nbconvert_exporter": "python",
   "pygments_lexer": "ipython3",
   "version": "3.12.4"
  }
 },
 "nbformat": 4,
 "nbformat_minor": 2
}
