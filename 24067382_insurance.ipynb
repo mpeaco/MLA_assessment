{
 "cells": [
  {
   "cell_type": "markdown",
   "metadata": {},
   "source": [
    "# Medical Cost Personal Dataset \n",
    "\n",
    "## Task\n",
    "\n",
    "**The Requirements for this assessment:**\n",
    "\n",
    "- based on the given dataset, identify stakeholders/audiences who could benefit from your study. Setup your goals together with relevant research questions and choose appropriate machine learning methods to achieve your goal. \n",
    "\n",
    "- Deliver your findings to your stakeholders/ audiences with critical insights.\n",
    "\n",
    "\n",
    "**For each dataset:** \n",
    "\n",
    "- follow machine learning pipeline, after EDA and Preprocessing, select, train,apply, evaluate and present at least two models using different machine learning techniques.\n",
    "\n",
    "- Describe and justify the selection of any appropriate hyper-parameters for each model. Compare the performances of the models. Along with the code cells (preferably with comments), you should use the appropriate markdown cells in the notebook to describe and justify your work.\n",
    "\n",
    "- Novelty: Explore and innovate new method(s) that cannot be found in literature.\n",
    "\n",
    "Based on your explorations across the three <span style=\"color: red; font-weight: bold;font-size: 12pt; text-decoration: underline\"> ??</span> projects, reflect on the insights gained throughout\n",
    "your learning journey. \n",
    "\n",
    "Consider how each dataset and the comparison of the three challenged\n",
    "your understanding and forced you to think critically about data analysis, feature extraction, and\n",
    "model performance. \n",
    "\n",
    "What new skills or concepts did you master that you previously found difficult\n",
    "or confusing? \n",
    "\n",
    "Reflect on how this learning experience has deepened your knowledge, not just\n",
    "technically, but also in terms of how you approach problem-solving. Think about how this process\n",
    "has influenced your behaviour, perhaps making you more detail-oriented, patient, or the balance\n",
    "between exploration and exploitation."
   ]
  },
  {
   "cell_type": "markdown",
   "metadata": {},
   "source": [
    "## What are the aims of this?\n",
    "\n",
    "**The Requirements for this assessment:** \n",
    "\n",
    "    based on the given dataset, identify stakeholders/audiences who could benefit from your study. Setup your goals together with relevant research questions and choose appropriate machine learning methods to achieve your goal. Deliver your findings to your stakeholders/ audiences with critical insights.\n",
    "\n",
    "- Predicting the charges that a patient may be expected to pay based upon 6 factors\n",
    "    - Sex\n",
    "    - Age\n",
    "    - BMI\n",
    "    - Children\n",
    "    - Smoker\n",
    "    - Region\n",
    "\n",
    "\n",
    "### For each dataset\n",
    "\n",
    "- Follow machine learning pipeline\n",
    "    - EDA\n",
    "    - Preprocessing\n",
    "    - Select\n",
    "    - Train (2 models)\n",
    "    - Apply \n",
    "    - Evaluate\n",
    "    - Present \n",
    "\n",
    "- Describe and justify the selection of any appropriate hyper-parameters for each model\n",
    "- Compare the performance of both models\n",
    "- Explore and innovate new methods that cannot be found in literature\n"
   ]
  },
  {
   "cell_type": "markdown",
   "metadata": {},
   "source": [
    "## Stakeholders\n",
    "- An insurance company that is creating a dynamic price plan that gives an accurate charge, \n",
    "\n",
    "    depending on certain factors that are asertained during the application\n",
    "\n",
    "## Goals\n",
    "- To be able to give certain factors and get a price based on these\n",
    "\n",
    "## Research Questions\n",
    "- What is the biggest impact on charge out of the variables given and why?\n",
    "\n",
    "- *Is there a difference between bmi when it comes to men and women?*\n",
    "\n",
    "BMI categories are the same for both men and women:\n",
    "- Underweight: BMI < 18.5\n",
    "- Normal weight: BMI 18.5 - 24.9\n",
    "- Overweight: BMI 25 - 29.9\n",
    "- Obesity: BMI 30 and above\n",
    "\n",
    "Is there a way to encode these based on these categories?"
   ]
  },
  {
   "cell_type": "markdown",
   "metadata": {},
   "source": [
    "## Imports\n"
   ]
  },
  {
   "cell_type": "code",
   "execution_count": 1,
   "metadata": {},
   "outputs": [],
   "source": [
    "import os\n",
    "import numpy as np\n",
    "import pandas as pd\n",
    "import matplotlib.pyplot as plt\n",
    "import IPython.display as ipd\n",
    "import seaborn as sns\n",
    "\n",
    "%matplotlib inline\n",
    "import plotly.express as px\n",
    "from rich import pretty, print\n",
    "\n",
    "pretty.install()"
   ]
  },
  {
   "cell_type": "code",
   "execution_count": 2,
   "metadata": {},
   "outputs": [],
   "source": [
    "colours = sns.color_palette(\"Set3\")"
   ]
  },
  {
   "cell_type": "markdown",
   "metadata": {},
   "source": [
    "## Load the dataset"
   ]
  },
  {
   "cell_type": "code",
   "execution_count": 3,
   "metadata": {},
   "outputs": [
    {
     "data": {
      "text/html": [
       "<pre style=\"white-space:pre;overflow-x:auto;line-height:normal;font-family:Menlo,'DejaVu Sans Mono',consolas,'Courier New',monospace\"></pre>\n"
      ],
      "text/plain": []
     },
     "metadata": {},
     "output_type": "display_data"
    },
    {
     "data": {
      "text/html": [
       "<div>\n",
       "<style scoped>\n",
       "    .dataframe tbody tr th:only-of-type {\n",
       "        vertical-align: middle;\n",
       "    }\n",
       "\n",
       "    .dataframe tbody tr th {\n",
       "        vertical-align: top;\n",
       "    }\n",
       "\n",
       "    .dataframe thead th {\n",
       "        text-align: right;\n",
       "    }\n",
       "</style>\n",
       "<table border=\"1\" class=\"dataframe\">\n",
       "  <thead>\n",
       "    <tr style=\"text-align: right;\">\n",
       "      <th></th>\n",
       "      <th>age</th>\n",
       "      <th>sex</th>\n",
       "      <th>bmi</th>\n",
       "      <th>children</th>\n",
       "      <th>smoker</th>\n",
       "      <th>region</th>\n",
       "      <th>charges</th>\n",
       "    </tr>\n",
       "  </thead>\n",
       "  <tbody>\n",
       "    <tr>\n",
       "      <th>0</th>\n",
       "      <td>19.0</td>\n",
       "      <td>female</td>\n",
       "      <td>27.900</td>\n",
       "      <td>0</td>\n",
       "      <td>yes</td>\n",
       "      <td>southwest</td>\n",
       "      <td>16884.92400</td>\n",
       "    </tr>\n",
       "    <tr>\n",
       "      <th>1</th>\n",
       "      <td>18.0</td>\n",
       "      <td>male</td>\n",
       "      <td>33.770</td>\n",
       "      <td>1</td>\n",
       "      <td>no</td>\n",
       "      <td>southeast</td>\n",
       "      <td>1725.55230</td>\n",
       "    </tr>\n",
       "    <tr>\n",
       "      <th>2</th>\n",
       "      <td>28.0</td>\n",
       "      <td>male</td>\n",
       "      <td>33.000</td>\n",
       "      <td>3</td>\n",
       "      <td>no</td>\n",
       "      <td>southeast</td>\n",
       "      <td>4449.46200</td>\n",
       "    </tr>\n",
       "    <tr>\n",
       "      <th>3</th>\n",
       "      <td>33.0</td>\n",
       "      <td>male</td>\n",
       "      <td>22.705</td>\n",
       "      <td>0</td>\n",
       "      <td>no</td>\n",
       "      <td>northwest</td>\n",
       "      <td>21984.47061</td>\n",
       "    </tr>\n",
       "    <tr>\n",
       "      <th>4</th>\n",
       "      <td>32.0</td>\n",
       "      <td>male</td>\n",
       "      <td>28.880</td>\n",
       "      <td>0</td>\n",
       "      <td>no</td>\n",
       "      <td>northwest</td>\n",
       "      <td>3866.85520</td>\n",
       "    </tr>\n",
       "    <tr>\n",
       "      <th>5</th>\n",
       "      <td>NaN</td>\n",
       "      <td>female</td>\n",
       "      <td>25.740</td>\n",
       "      <td>0</td>\n",
       "      <td>no</td>\n",
       "      <td>southeast</td>\n",
       "      <td>3756.62160</td>\n",
       "    </tr>\n",
       "  </tbody>\n",
       "</table>\n",
       "</div>"
      ],
      "text/plain": [
       "\n",
       "    age     sex     bmi  children smoker     region      charges\n",
       "\u001b[1;36m0\u001b[0m  \u001b[1;36m19.0\u001b[0m  female  \u001b[1;36m27.900\u001b[0m         \u001b[1;36m0\u001b[0m    yes  southwest  \u001b[1;36m16884.92400\u001b[0m\n",
       "\u001b[1;36m1\u001b[0m  \u001b[1;36m18.0\u001b[0m    male  \u001b[1;36m33.770\u001b[0m         \u001b[1;36m1\u001b[0m     no  southeast   \u001b[1;36m1725.55230\u001b[0m\n",
       "\u001b[1;36m2\u001b[0m  \u001b[1;36m28.0\u001b[0m    male  \u001b[1;36m33.000\u001b[0m         \u001b[1;36m3\u001b[0m     no  southeast   \u001b[1;36m4449.46200\u001b[0m\n",
       "\u001b[1;36m3\u001b[0m  \u001b[1;36m33.0\u001b[0m    male  \u001b[1;36m22.705\u001b[0m         \u001b[1;36m0\u001b[0m     no  northwest  \u001b[1;36m21984.47061\u001b[0m\n",
       "\u001b[1;36m4\u001b[0m  \u001b[1;36m32.0\u001b[0m    male  \u001b[1;36m28.880\u001b[0m         \u001b[1;36m0\u001b[0m     no  northwest   \u001b[1;36m3866.85520\u001b[0m\n",
       "\u001b[1;36m5\u001b[0m   NaN  female  \u001b[1;36m25.740\u001b[0m         \u001b[1;36m0\u001b[0m     no  southeast   \u001b[1;36m3756.62160\u001b[0m"
      ]
     },
     "execution_count": 3,
     "metadata": {},
     "output_type": "execute_result"
    }
   ],
   "source": [
    "data_filepath = \"./Data/insurance-adapted.csv\"\n",
    "dataframe = pd.read_csv(data_filepath)\n",
    "dataframe.head(6)"
   ]
  },
  {
   "cell_type": "code",
   "execution_count": 4,
   "metadata": {},
   "outputs": [
    {
     "name": "stdout",
     "output_type": "stream",
     "text": [
      "<class 'pandas.core.frame.DataFrame'>\n",
      "RangeIndex: 1338 entries, 0 to 1337\n",
      "Data columns (total 7 columns):\n",
      " #   Column    Non-Null Count  Dtype  \n",
      "---  ------    --------------  -----  \n",
      " 0   age       1318 non-null   float64\n",
      " 1   sex       1338 non-null   object \n",
      " 2   bmi       1338 non-null   float64\n",
      " 3   children  1338 non-null   int64  \n",
      " 4   smoker    1338 non-null   object \n",
      " 5   region    1338 non-null   object \n",
      " 6   charges   1338 non-null   float64\n",
      "dtypes: float64(3), int64(1), object(3)\n",
      "memory usage: 73.3+ KB\n"
     ]
    }
   ],
   "source": [
    "dataframe.info()"
   ]
  },
  {
   "cell_type": "code",
   "execution_count": 5,
   "metadata": {},
   "outputs": [
    {
     "name": "stderr",
     "output_type": "stream",
     "text": [
      "/var/folders/xh/fvvnghrs13n5sqcsmprbn_c80000gn/T/ipykernel_94415/4074888093.py:2: UserWarning: Ignoring `palette` because no `hue` variable has been assigned.\n",
      "  sns.histplot(data=dataframe, x=\"charges\", palette=colours, bins=30, kde=True)\n"
     ]
    },
    {
     "data": {
      "text/html": [
       "<pre style=\"white-space:pre;overflow-x:auto;line-height:normal;font-family:Menlo,'DejaVu Sans Mono',consolas,'Courier New',monospace\"></pre>\n"
      ],
      "text/plain": []
     },
     "metadata": {},
     "output_type": "display_data"
    },
    {
     "data": {
      "image/png": "[encoded data removed]",
      "text/plain": [
       "\u001b[1m<\u001b[0m\u001b[1;95mFigure\u001b[0m\u001b[39m size 160\u001b[0m\u001b[1;36m0x600\u001b[0m\u001b[39m with \u001b[0m\u001b[1;36m1\u001b[0m\u001b[39m Axes\u001b[0m\u001b[1m>\u001b[0m"
      ]
     },
     "metadata": {},
     "output_type": "display_data"
    }
   ],
   "source": [
    "plt.figure(figsize=(16, 6))\n",
    "sns.histplot(data=dataframe, x=\"charges\", palette=colours, bins=30, kde=True)\n",
    "plt.title(\"Distribution of Target variable 'charges'\")\n",
    "plt.show()"
   ]
  },
  {
   "cell_type": "code",
   "execution_count": 6,
   "metadata": {},
   "outputs": [
    {
     "data": {
      "text/html": [
       "<pre style=\"white-space:pre;overflow-x:auto;line-height:normal;font-family:Menlo,'DejaVu Sans Mono',consolas,'Courier New',monospace\">age         <span style=\"color: #008080; text-decoration-color: #008080; font-weight: bold\">20</span>\n",
       "sex          <span style=\"color: #008080; text-decoration-color: #008080; font-weight: bold\">0</span>\n",
       "bmi          <span style=\"color: #008080; text-decoration-color: #008080; font-weight: bold\">0</span>\n",
       "children     <span style=\"color: #008080; text-decoration-color: #008080; font-weight: bold\">0</span>\n",
       "smoker       <span style=\"color: #008080; text-decoration-color: #008080; font-weight: bold\">0</span>\n",
       "region       <span style=\"color: #008080; text-decoration-color: #008080; font-weight: bold\">0</span>\n",
       "charges      <span style=\"color: #008080; text-decoration-color: #008080; font-weight: bold\">0</span>\n",
       "dtype: int64\n",
       "</pre>\n"
      ],
      "text/plain": [
       "age         \u001b[1;36m20\u001b[0m\n",
       "sex          \u001b[1;36m0\u001b[0m\n",
       "bmi          \u001b[1;36m0\u001b[0m\n",
       "children     \u001b[1;36m0\u001b[0m\n",
       "smoker       \u001b[1;36m0\u001b[0m\n",
       "region       \u001b[1;36m0\u001b[0m\n",
       "charges      \u001b[1;36m0\u001b[0m\n",
       "dtype: int64\n"
      ]
     },
     "metadata": {},
     "output_type": "display_data"
    }
   ],
   "source": [
    "null_vals = dataframe.isnull().sum()\n",
    "print(null_vals)"
   ]
  },
  {
   "cell_type": "code",
   "execution_count": 7,
   "metadata": {},
   "outputs": [
    {
     "data": {
      "text/html": [
       "<pre style=\"white-space:pre;overflow-x:auto;line-height:normal;font-family:Menlo,'DejaVu Sans Mono',consolas,'Courier New',monospace\">age         <span style=\"color: #008080; text-decoration-color: #008080; font-weight: bold\">20</span>\n",
       "sex          <span style=\"color: #008080; text-decoration-color: #008080; font-weight: bold\">0</span>\n",
       "bmi          <span style=\"color: #008080; text-decoration-color: #008080; font-weight: bold\">0</span>\n",
       "children     <span style=\"color: #008080; text-decoration-color: #008080; font-weight: bold\">0</span>\n",
       "smoker       <span style=\"color: #008080; text-decoration-color: #008080; font-weight: bold\">0</span>\n",
       "region       <span style=\"color: #008080; text-decoration-color: #008080; font-weight: bold\">0</span>\n",
       "charges      <span style=\"color: #008080; text-decoration-color: #008080; font-weight: bold\">0</span>\n",
       "dtype: int64\n",
       "</pre>\n"
      ],
      "text/plain": [
       "age         \u001b[1;36m20\u001b[0m\n",
       "sex          \u001b[1;36m0\u001b[0m\n",
       "bmi          \u001b[1;36m0\u001b[0m\n",
       "children     \u001b[1;36m0\u001b[0m\n",
       "smoker       \u001b[1;36m0\u001b[0m\n",
       "region       \u001b[1;36m0\u001b[0m\n",
       "charges      \u001b[1;36m0\u001b[0m\n",
       "dtype: int64\n"
      ]
     },
     "metadata": {},
     "output_type": "display_data"
    }
   ],
   "source": [
    "na_vals = dataframe.isna().sum()\n",
    "print(na_vals)"
   ]
  },
  {
   "cell_type": "code",
   "execution_count": 8,
   "metadata": {},
   "outputs": [
    {
     "data": {
      "text/html": [
       "<pre style=\"white-space:pre;overflow-x:auto;line-height:normal;font-family:Menlo,'DejaVu Sans Mono',consolas,'Courier New',monospace\"></pre>\n"
      ],
      "text/plain": []
     },
     "metadata": {},
     "output_type": "display_data"
    },
    {
     "data": {
      "image/png": "[encoded data removed]",
      "text/plain": [
       "\u001b[1m<\u001b[0m\u001b[1;95mFigure\u001b[0m\u001b[39m size 250\u001b[0m\u001b[1;36m0x1000\u001b[0m\u001b[39m with \u001b[0m\u001b[1;36m2\u001b[0m\u001b[39m Axes\u001b[0m\u001b[1m>\u001b[0m"
      ]
     },
     "metadata": {},
     "output_type": "display_data"
    }
   ],
   "source": [
    "import missingno as msno\n",
    "\n",
    "msno.matrix(dataframe, color=colours[0])\n",
    "plt.title(\"Missing Data Matrix\")\n",
    "plt.axis()\n",
    "plt.show()"
   ]
  },
  {
   "cell_type": "markdown",
   "metadata": {},
   "source": [
    "## Missing data:\n",
    "\n",
    "- 20 values missing in the age feature, how are we going to handle this?"
   ]
  },
  {
   "cell_type": "code",
   "execution_count": 9,
   "metadata": {},
   "outputs": [
    {
     "data": {
      "text/html": [
       "<pre style=\"white-space:pre;overflow-x:auto;line-height:normal;font-family:Menlo,'DejaVu Sans Mono',consolas,'Courier New',monospace\"></pre>\n"
      ],
      "text/plain": []
     },
     "metadata": {},
     "output_type": "display_data"
    },
    {
     "data": {
      "text/html": [
       "<div>\n",
       "<style scoped>\n",
       "    .dataframe tbody tr th:only-of-type {\n",
       "        vertical-align: middle;\n",
       "    }\n",
       "\n",
       "    .dataframe tbody tr th {\n",
       "        vertical-align: top;\n",
       "    }\n",
       "\n",
       "    .dataframe thead th {\n",
       "        text-align: right;\n",
       "    }\n",
       "</style>\n",
       "<table border=\"1\" class=\"dataframe\">\n",
       "  <thead>\n",
       "    <tr style=\"text-align: right;\">\n",
       "      <th></th>\n",
       "      <th>age</th>\n",
       "      <th>bmi</th>\n",
       "      <th>children</th>\n",
       "      <th>charges</th>\n",
       "    </tr>\n",
       "  </thead>\n",
       "  <tbody>\n",
       "    <tr>\n",
       "      <th>count</th>\n",
       "      <td>1318.000000</td>\n",
       "      <td>1338.000000</td>\n",
       "      <td>1338.000000</td>\n",
       "      <td>1338.000000</td>\n",
       "    </tr>\n",
       "    <tr>\n",
       "      <th>mean</th>\n",
       "      <td>39.216237</td>\n",
       "      <td>30.663397</td>\n",
       "      <td>1.094918</td>\n",
       "      <td>13270.422265</td>\n",
       "    </tr>\n",
       "    <tr>\n",
       "      <th>std</th>\n",
       "      <td>14.083151</td>\n",
       "      <td>6.098187</td>\n",
       "      <td>1.205493</td>\n",
       "      <td>12110.011237</td>\n",
       "    </tr>\n",
       "    <tr>\n",
       "      <th>min</th>\n",
       "      <td>18.000000</td>\n",
       "      <td>15.960000</td>\n",
       "      <td>0.000000</td>\n",
       "      <td>1121.873900</td>\n",
       "    </tr>\n",
       "    <tr>\n",
       "      <th>25%</th>\n",
       "      <td>26.000000</td>\n",
       "      <td>26.296250</td>\n",
       "      <td>0.000000</td>\n",
       "      <td>4740.287150</td>\n",
       "    </tr>\n",
       "    <tr>\n",
       "      <th>50%</th>\n",
       "      <td>39.000000</td>\n",
       "      <td>30.400000</td>\n",
       "      <td>1.000000</td>\n",
       "      <td>9382.033000</td>\n",
       "    </tr>\n",
       "    <tr>\n",
       "      <th>75%</th>\n",
       "      <td>51.000000</td>\n",
       "      <td>34.693750</td>\n",
       "      <td>2.000000</td>\n",
       "      <td>16639.912515</td>\n",
       "    </tr>\n",
       "    <tr>\n",
       "      <th>max</th>\n",
       "      <td>64.000000</td>\n",
       "      <td>53.130000</td>\n",
       "      <td>5.000000</td>\n",
       "      <td>63770.428010</td>\n",
       "    </tr>\n",
       "  </tbody>\n",
       "</table>\n",
       "</div>"
      ],
      "text/plain": [
       "\n",
       "               age          bmi     children       charges\n",
       "count  \u001b[1;36m1318.000000\u001b[0m  \u001b[1;36m1338.000000\u001b[0m  \u001b[1;36m1338.000000\u001b[0m   \u001b[1;36m1338.000000\u001b[0m\n",
       "mean     \u001b[1;36m39.216237\u001b[0m    \u001b[1;36m30.663397\u001b[0m     \u001b[1;36m1.094918\u001b[0m  \u001b[1;36m13270.422265\u001b[0m\n",
       "std      \u001b[1;36m14.083151\u001b[0m     \u001b[1;36m6.098187\u001b[0m     \u001b[1;36m1.205493\u001b[0m  \u001b[1;36m12110.011237\u001b[0m\n",
       "min      \u001b[1;36m18.000000\u001b[0m    \u001b[1;36m15.960000\u001b[0m     \u001b[1;36m0.000000\u001b[0m   \u001b[1;36m1121.873900\u001b[0m\n",
       "\u001b[1;36m25\u001b[0m%      \u001b[1;36m26.000000\u001b[0m    \u001b[1;36m26.296250\u001b[0m     \u001b[1;36m0.000000\u001b[0m   \u001b[1;36m4740.287150\u001b[0m\n",
       "\u001b[1;36m50\u001b[0m%      \u001b[1;36m39.000000\u001b[0m    \u001b[1;36m30.400000\u001b[0m     \u001b[1;36m1.000000\u001b[0m   \u001b[1;36m9382.033000\u001b[0m\n",
       "\u001b[1;36m75\u001b[0m%      \u001b[1;36m51.000000\u001b[0m    \u001b[1;36m34.693750\u001b[0m     \u001b[1;36m2.000000\u001b[0m  \u001b[1;36m16639.912515\u001b[0m\n",
       "max      \u001b[1;36m64.000000\u001b[0m    \u001b[1;36m53.130000\u001b[0m     \u001b[1;36m5.000000\u001b[0m  \u001b[1;36m63770.428010\u001b[0m"
      ]
     },
     "execution_count": 9,
     "metadata": {},
     "output_type": "execute_result"
    }
   ],
   "source": [
    "dataframe.describe()"
   ]
  },
  {
   "cell_type": "markdown",
   "metadata": {},
   "source": [
    "## Distribution of numeric features"
   ]
  },
  {
   "cell_type": "code",
   "execution_count": 10,
   "metadata": {},
   "outputs": [
    {
     "data": {
      "text/html": [
       "<pre style=\"white-space:pre;overflow-x:auto;line-height:normal;font-family:Menlo,'DejaVu Sans Mono',consolas,'Courier New',monospace\"></pre>\n"
      ],
      "text/plain": []
     },
     "metadata": {},
     "output_type": "display_data"
    },
    {
     "data": {
      "image/png": "[encoded data removed]",
      "text/plain": [
       "\u001b[1m<\u001b[0m\u001b[1;95mFigure\u001b[0m\u001b[39m size 150\u001b[0m\u001b[1;36m0x1000\u001b[0m\u001b[39m with \u001b[0m\u001b[1;36m4\u001b[0m\u001b[39m Axes\u001b[0m\u001b[1m>\u001b[0m"
      ]
     },
     "metadata": {},
     "output_type": "display_data"
    }
   ],
   "source": [
    "numeric_cols = dataframe.select_dtypes(include=\"number\").columns\n",
    "\n",
    "num_cols = len(numeric_cols)\n",
    "nrows = (num_cols + 2) // 3\n",
    "\n",
    "\n",
    "plt.figure(figsize=(15, 5 * nrows))\n",
    "for i, col in enumerate(numeric_cols):\n",
    "    plt.subplot(nrows, 3, i + 1)\n",
    "    sns.histplot(dataframe[col], color=colours[i], bins=10, kde=True)\n",
    "    plt.title(col)\n",
    "\n",
    "plt.tight_layout()\n",
    "plt.suptitle(\"Histogram Distribution of Numeric Features\", fontsize=16, y=1.002)\n",
    "plt.show()"
   ]
  },
  {
   "cell_type": "markdown",
   "metadata": {},
   "source": [
    "## Object columns\n",
    "\n",
    "Visualise using countplots"
   ]
  },
  {
   "cell_type": "code",
   "execution_count": 11,
   "metadata": {},
   "outputs": [
    {
     "data": {
      "text/html": [
       "<pre style=\"white-space:pre;overflow-x:auto;line-height:normal;font-family:Menlo,'DejaVu Sans Mono',consolas,'Courier New',monospace\"></pre>\n"
      ],
      "text/plain": []
     },
     "metadata": {},
     "output_type": "display_data"
    },
    {
     "data": {
      "image/png": "[encoded data removed]",
      "text/plain": [
       "\u001b[1m<\u001b[0m\u001b[1;95mFigure\u001b[0m\u001b[39m size 150\u001b[0m\u001b[1;36m0x500\u001b[0m\u001b[39m with \u001b[0m\u001b[1;36m3\u001b[0m\u001b[39m Axes\u001b[0m\u001b[1m>\u001b[0m"
      ]
     },
     "metadata": {},
     "output_type": "display_data"
    }
   ],
   "source": [
    "object_cols = dataframe.select_dtypes(include=\"object\").columns\n",
    "\n",
    "num_cols = len(object_cols)\n",
    "nrows = (num_cols + 2) // 3\n",
    "\n",
    "\n",
    "colours = sns.color_palette(\"Set3\", num_cols)\n",
    "\n",
    "plt.figure(figsize=(15, 5 * nrows))\n",
    "for i, col in enumerate(object_cols):\n",
    "    plt.subplot(nrows, 3, i + 1)\n",
    "    sns.countplot(x=dataframe[col], color=colours[i])\n",
    "    plt.title(col)\n",
    "\n",
    "plt.tight_layout()\n",
    "plt.suptitle(\"Histogram Distribution of Object Features\", fontsize=16, y=1.002)\n",
    "plt.show()"
   ]
  },
  {
   "cell_type": "markdown",
   "metadata": {},
   "source": [
    "## Any outliers?\n"
   ]
  },
  {
   "cell_type": "code",
   "execution_count": 12,
   "metadata": {},
   "outputs": [
    {
     "data": {
      "text/html": [
       "<pre style=\"white-space:pre;overflow-x:auto;line-height:normal;font-family:Menlo,'DejaVu Sans Mono',consolas,'Courier New',monospace\"></pre>\n"
      ],
      "text/plain": []
     },
     "metadata": {},
     "output_type": "display_data"
    },
    {
     "data": {
      "image/png": "[encoded data removed]",
      "text/plain": [
       "\u001b[1m<\u001b[0m\u001b[1;95mFigure\u001b[0m\u001b[39m size 150\u001b[0m\u001b[1;36m0x1000\u001b[0m\u001b[39m with \u001b[0m\u001b[1;36m4\u001b[0m\u001b[39m Axes\u001b[0m\u001b[1m>\u001b[0m"
      ]
     },
     "metadata": {},
     "output_type": "display_data"
    }
   ],
   "source": [
    "numeric_cols = dataframe.select_dtypes(include=\"number\").columns\n",
    "\n",
    "num_cols = len(numeric_cols)\n",
    "nrows = (num_cols + 2) // 3\n",
    "colours = sns.color_palette(\"Set3\", num_cols)\n",
    "\n",
    "plt.figure(figsize=(15, 5 * nrows))\n",
    "for i, col in enumerate(numeric_cols):\n",
    "    plt.subplot(nrows, 3, i + 1)  # Create subplot\n",
    "    sns.boxplot(x=dataframe[col], color=colours[i])\n",
    "    plt.title(f\"Outliers in {col}\")\n",
    "    plt.xlabel(col)\n",
    "\n",
    "plt.suptitle(\"Outliers in Numeric Data\", fontsize=16, y=1.002)\n",
    "plt.tight_layout()\n",
    "plt.show()"
   ]
  },
  {
   "cell_type": "markdown",
   "metadata": {},
   "source": [
    "## Correlation of features"
   ]
  },
  {
   "cell_type": "code",
   "execution_count": 13,
   "metadata": {},
   "outputs": [
    {
     "data": {
      "text/html": [
       "<pre style=\"white-space:pre;overflow-x:auto;line-height:normal;font-family:Menlo,'DejaVu Sans Mono',consolas,'Courier New',monospace\"></pre>\n"
      ],
      "text/plain": []
     },
     "metadata": {},
     "output_type": "display_data"
    },
    {
     "data": {
      "image/png": "[encoded data removed]",
      "text/plain": [
       "\u001b[1m<\u001b[0m\u001b[1;95mFigure\u001b[0m\u001b[39m size 120\u001b[0m\u001b[1;36m0x1200\u001b[0m\u001b[39m with \u001b[0m\u001b[1;36m2\u001b[0m\u001b[39m Axes\u001b[0m\u001b[1m>\u001b[0m"
      ]
     },
     "metadata": {},
     "output_type": "display_data"
    }
   ],
   "source": [
    "plt.figure(figsize=(12, 12))\n",
    "corr = dataframe.corr(numeric_only=True)\n",
    "ax = sns.heatmap(\n",
    "    corr,\n",
    "    vmin=-1,\n",
    "    vmax=1,\n",
    "    square=True,\n",
    "    linewidths=0.5,\n",
    "    cbar_kws={\"shrink\": 0.4},\n",
    "    cmap=\"BrBG\",\n",
    ")\n",
    "ax.set(xlabel=\"\", ylabel=\"\")\n",
    "plt.title(\"Correlation of Numerical Features\", fontsize=16)\n",
    "plt.show()"
   ]
  },
  {
   "cell_type": "markdown",
   "metadata": {},
   "source": [
    "## Preprocessing"
   ]
  },
  {
   "cell_type": "markdown",
   "metadata": {},
   "source": [
    "### Deal with missing values\n",
    "\n",
    "- As the age is an important factor as shown in the correlation matrix, and the dataset is small the rows cannot just be dropped\n",
    "- The best way to impute the values could be though working out what the age for these rows should be based on other data "
   ]
  },
  {
   "cell_type": "code",
   "execution_count": 14,
   "metadata": {},
   "outputs": [
    {
     "data": {
      "text/html": [
       "<pre style=\"white-space:pre;overflow-x:auto;line-height:normal;font-family:Menlo,'DejaVu Sans Mono',consolas,'Courier New',monospace\">      age     sex     bmi  children smoker     region      charges\n",
       "<span style=\"color: #008080; text-decoration-color: #008080; font-weight: bold\">5</span>     NaN  female  <span style=\"color: #008080; text-decoration-color: #008080; font-weight: bold\">25.740</span>         <span style=\"color: #008080; text-decoration-color: #008080; font-weight: bold\">0</span>     no  southeast   <span style=\"color: #008080; text-decoration-color: #008080; font-weight: bold\">3756.62160</span>\n",
       "<span style=\"color: #008080; text-decoration-color: #008080; font-weight: bold\">37</span>    NaN    male  <span style=\"color: #008080; text-decoration-color: #008080; font-weight: bold\">20.800</span>         <span style=\"color: #008080; text-decoration-color: #008080; font-weight: bold\">0</span>     no  southwest   <span style=\"color: #008080; text-decoration-color: #008080; font-weight: bold\">2302.30000</span>\n",
       "<span style=\"color: #008080; text-decoration-color: #008080; font-weight: bold\">135</span>   NaN  female  <span style=\"color: #008080; text-decoration-color: #008080; font-weight: bold\">28.050</span>         <span style=\"color: #008080; text-decoration-color: #008080; font-weight: bold\">0</span>     no  southeast   <span style=\"color: #008080; text-decoration-color: #008080; font-weight: bold\">2155.68150</span>\n",
       "<span style=\"color: #008080; text-decoration-color: #008080; font-weight: bold\">190</span>   NaN    male  <span style=\"color: #008080; text-decoration-color: #008080; font-weight: bold\">31.570</span>         <span style=\"color: #008080; text-decoration-color: #008080; font-weight: bold\">0</span>     no  southeast  <span style=\"color: #008080; text-decoration-color: #008080; font-weight: bold\">12557.60530</span>\n",
       "<span style=\"color: #008080; text-decoration-color: #008080; font-weight: bold\">264</span>   NaN  female  <span style=\"color: #008080; text-decoration-color: #008080; font-weight: bold\">38.060</span>         <span style=\"color: #008080; text-decoration-color: #008080; font-weight: bold\">3</span>     no  southeast  <span style=\"color: #008080; text-decoration-color: #008080; font-weight: bold\">20462.99766</span>\n",
       "<span style=\"color: #008080; text-decoration-color: #008080; font-weight: bold\">265</span>   NaN    male  <span style=\"color: #008080; text-decoration-color: #008080; font-weight: bold\">42.350</span>         <span style=\"color: #008080; text-decoration-color: #008080; font-weight: bold\">3</span>    yes  southeast  <span style=\"color: #008080; text-decoration-color: #008080; font-weight: bold\">46151.12450</span>\n",
       "<span style=\"color: #008080; text-decoration-color: #008080; font-weight: bold\">407</span>   NaN  female  <span style=\"color: #008080; text-decoration-color: #008080; font-weight: bold\">23.600</span>         <span style=\"color: #008080; text-decoration-color: #008080; font-weight: bold\">1</span>     no  southwest   <span style=\"color: #008080; text-decoration-color: #008080; font-weight: bold\">8539.67100</span>\n",
       "<span style=\"color: #008080; text-decoration-color: #008080; font-weight: bold\">409</span>   NaN    male  <span style=\"color: #008080; text-decoration-color: #008080; font-weight: bold\">30.030</span>         <span style=\"color: #008080; text-decoration-color: #008080; font-weight: bold\">1</span>     no  southeast   <span style=\"color: #008080; text-decoration-color: #008080; font-weight: bold\">4074.45370</span>\n",
       "<span style=\"color: #008080; text-decoration-color: #008080; font-weight: bold\">482</span>   NaN  female  <span style=\"color: #008080; text-decoration-color: #008080; font-weight: bold\">31.350</span>         <span style=\"color: #008080; text-decoration-color: #008080; font-weight: bold\">0</span>     no  southeast   <span style=\"color: #008080; text-decoration-color: #008080; font-weight: bold\">1622.18850</span>\n",
       "<span style=\"color: #008080; text-decoration-color: #008080; font-weight: bold\">496</span>   NaN  female  <span style=\"color: #008080; text-decoration-color: #008080; font-weight: bold\">23.600</span>         <span style=\"color: #008080; text-decoration-color: #008080; font-weight: bold\">2</span>     no  southwest   <span style=\"color: #008080; text-decoration-color: #008080; font-weight: bold\">4931.64700</span>\n",
       "<span style=\"color: #008080; text-decoration-color: #008080; font-weight: bold\">549</span>   NaN  female  <span style=\"color: #008080; text-decoration-color: #008080; font-weight: bold\">46.200</span>         <span style=\"color: #008080; text-decoration-color: #008080; font-weight: bold\">0</span>    yes  southeast  <span style=\"color: #008080; text-decoration-color: #008080; font-weight: bold\">45863.20500</span>\n",
       "<span style=\"color: #008080; text-decoration-color: #008080; font-weight: bold\">551</span>   NaN  female  <span style=\"color: #008080; text-decoration-color: #008080; font-weight: bold\">28.930</span>         <span style=\"color: #008080; text-decoration-color: #008080; font-weight: bold\">0</span>     no  southeast   <span style=\"color: #008080; text-decoration-color: #008080; font-weight: bold\">3972.92470</span>\n",
       "<span style=\"color: #008080; text-decoration-color: #008080; font-weight: bold\">674</span>   NaN  female  <span style=\"color: #008080; text-decoration-color: #008080; font-weight: bold\">43.890</span>         <span style=\"color: #008080; text-decoration-color: #008080; font-weight: bold\">2</span>    yes  southeast  <span style=\"color: #008080; text-decoration-color: #008080; font-weight: bold\">46200.98510</span>\n",
       "<span style=\"color: #008080; text-decoration-color: #008080; font-weight: bold\">777</span>   NaN    male  <span style=\"color: #008080; text-decoration-color: #008080; font-weight: bold\">39.805</span>         <span style=\"color: #008080; text-decoration-color: #008080; font-weight: bold\">0</span>     no  northeast   <span style=\"color: #008080; text-decoration-color: #008080; font-weight: bold\">7448.40395</span>\n",
       "<span style=\"color: #008080; text-decoration-color: #008080; font-weight: bold\">895</span>   NaN  female  <span style=\"color: #008080; text-decoration-color: #008080; font-weight: bold\">44.000</span>         <span style=\"color: #008080; text-decoration-color: #008080; font-weight: bold\">0</span>     no  southwest  <span style=\"color: #008080; text-decoration-color: #008080; font-weight: bold\">13063.88300</span>\n",
       "<span style=\"color: #008080; text-decoration-color: #008080; font-weight: bold\">988</span>   NaN    male  <span style=\"color: #008080; text-decoration-color: #008080; font-weight: bold\">34.675</span>         <span style=\"color: #008080; text-decoration-color: #008080; font-weight: bold\">0</span>     no  northeast   <span style=\"color: #008080; text-decoration-color: #008080; font-weight: bold\">4518.82625</span>\n",
       "<span style=\"color: #008080; text-decoration-color: #008080; font-weight: bold\">1066</span>  NaN    male  <span style=\"color: #008080; text-decoration-color: #008080; font-weight: bold\">37.290</span>         <span style=\"color: #008080; text-decoration-color: #008080; font-weight: bold\">2</span>     no  southeast   <span style=\"color: #008080; text-decoration-color: #008080; font-weight: bold\">8978.18510</span>\n",
       "<span style=\"color: #008080; text-decoration-color: #008080; font-weight: bold\">1153</span>  NaN  female  <span style=\"color: #008080; text-decoration-color: #008080; font-weight: bold\">35.815</span>         <span style=\"color: #008080; text-decoration-color: #008080; font-weight: bold\">1</span>     no  northwest   <span style=\"color: #008080; text-decoration-color: #008080; font-weight: bold\">5630.45785</span>\n",
       "<span style=\"color: #008080; text-decoration-color: #008080; font-weight: bold\">1249</span>  NaN    male  <span style=\"color: #008080; text-decoration-color: #008080; font-weight: bold\">33.630</span>         <span style=\"color: #008080; text-decoration-color: #008080; font-weight: bold\">1</span>    yes  northeast  <span style=\"color: #008080; text-decoration-color: #008080; font-weight: bold\">37607.52770</span>\n",
       "<span style=\"color: #008080; text-decoration-color: #008080; font-weight: bold\">1324</span>  NaN    male  <span style=\"color: #008080; text-decoration-color: #008080; font-weight: bold\">25.935</span>         <span style=\"color: #008080; text-decoration-color: #008080; font-weight: bold\">1</span>     no  northwest   <span style=\"color: #008080; text-decoration-color: #008080; font-weight: bold\">4239.89265</span>\n",
       "</pre>\n"
      ],
      "text/plain": [
       "      age     sex     bmi  children smoker     region      charges\n",
       "\u001b[1;36m5\u001b[0m     NaN  female  \u001b[1;36m25.740\u001b[0m         \u001b[1;36m0\u001b[0m     no  southeast   \u001b[1;36m3756.62160\u001b[0m\n",
       "\u001b[1;36m37\u001b[0m    NaN    male  \u001b[1;36m20.800\u001b[0m         \u001b[1;36m0\u001b[0m     no  southwest   \u001b[1;36m2302.30000\u001b[0m\n",
       "\u001b[1;36m135\u001b[0m   NaN  female  \u001b[1;36m28.050\u001b[0m         \u001b[1;36m0\u001b[0m     no  southeast   \u001b[1;36m2155.68150\u001b[0m\n",
       "\u001b[1;36m190\u001b[0m   NaN    male  \u001b[1;36m31.570\u001b[0m         \u001b[1;36m0\u001b[0m     no  southeast  \u001b[1;36m12557.60530\u001b[0m\n",
       "\u001b[1;36m264\u001b[0m   NaN  female  \u001b[1;36m38.060\u001b[0m         \u001b[1;36m3\u001b[0m     no  southeast  \u001b[1;36m20462.99766\u001b[0m\n",
       "\u001b[1;36m265\u001b[0m   NaN    male  \u001b[1;36m42.350\u001b[0m         \u001b[1;36m3\u001b[0m    yes  southeast  \u001b[1;36m46151.12450\u001b[0m\n",
       "\u001b[1;36m407\u001b[0m   NaN  female  \u001b[1;36m23.600\u001b[0m         \u001b[1;36m1\u001b[0m     no  southwest   \u001b[1;36m8539.67100\u001b[0m\n",
       "\u001b[1;36m409\u001b[0m   NaN    male  \u001b[1;36m30.030\u001b[0m         \u001b[1;36m1\u001b[0m     no  southeast   \u001b[1;36m4074.45370\u001b[0m\n",
       "\u001b[1;36m482\u001b[0m   NaN  female  \u001b[1;36m31.350\u001b[0m         \u001b[1;36m0\u001b[0m     no  southeast   \u001b[1;36m1622.18850\u001b[0m\n",
       "\u001b[1;36m496\u001b[0m   NaN  female  \u001b[1;36m23.600\u001b[0m         \u001b[1;36m2\u001b[0m     no  southwest   \u001b[1;36m4931.64700\u001b[0m\n",
       "\u001b[1;36m549\u001b[0m   NaN  female  \u001b[1;36m46.200\u001b[0m         \u001b[1;36m0\u001b[0m    yes  southeast  \u001b[1;36m45863.20500\u001b[0m\n",
       "\u001b[1;36m551\u001b[0m   NaN  female  \u001b[1;36m28.930\u001b[0m         \u001b[1;36m0\u001b[0m     no  southeast   \u001b[1;36m3972.92470\u001b[0m\n",
       "\u001b[1;36m674\u001b[0m   NaN  female  \u001b[1;36m43.890\u001b[0m         \u001b[1;36m2\u001b[0m    yes  southeast  \u001b[1;36m46200.98510\u001b[0m\n",
       "\u001b[1;36m777\u001b[0m   NaN    male  \u001b[1;36m39.805\u001b[0m         \u001b[1;36m0\u001b[0m     no  northeast   \u001b[1;36m7448.40395\u001b[0m\n",
       "\u001b[1;36m895\u001b[0m   NaN  female  \u001b[1;36m44.000\u001b[0m         \u001b[1;36m0\u001b[0m     no  southwest  \u001b[1;36m13063.88300\u001b[0m\n",
       "\u001b[1;36m988\u001b[0m   NaN    male  \u001b[1;36m34.675\u001b[0m         \u001b[1;36m0\u001b[0m     no  northeast   \u001b[1;36m4518.82625\u001b[0m\n",
       "\u001b[1;36m1066\u001b[0m  NaN    male  \u001b[1;36m37.290\u001b[0m         \u001b[1;36m2\u001b[0m     no  southeast   \u001b[1;36m8978.18510\u001b[0m\n",
       "\u001b[1;36m1153\u001b[0m  NaN  female  \u001b[1;36m35.815\u001b[0m         \u001b[1;36m1\u001b[0m     no  northwest   \u001b[1;36m5630.45785\u001b[0m\n",
       "\u001b[1;36m1249\u001b[0m  NaN    male  \u001b[1;36m33.630\u001b[0m         \u001b[1;36m1\u001b[0m    yes  northeast  \u001b[1;36m37607.52770\u001b[0m\n",
       "\u001b[1;36m1324\u001b[0m  NaN    male  \u001b[1;36m25.935\u001b[0m         \u001b[1;36m1\u001b[0m     no  northwest   \u001b[1;36m4239.89265\u001b[0m\n"
      ]
     },
     "metadata": {},
     "output_type": "display_data"
    }
   ],
   "source": [
    "missing_age_rows = dataframe[dataframe[\"age\"].isnull()]\n",
    "print(missing_age_rows)"
   ]
  },
  {
   "cell_type": "code",
   "execution_count": 15,
   "metadata": {},
   "outputs": [
    {
     "data": {
      "text/html": [
       "<pre style=\"white-space:pre;overflow-x:auto;line-height:normal;font-family:Menlo,'DejaVu Sans Mono',consolas,'Courier New',monospace\">Empty DataFrame\n",
       "Columns: <span style=\"font-weight: bold\">[</span>age, sex, bmi, children, smoker, region, charges<span style=\"font-weight: bold\">]</span>\n",
       "Index: <span style=\"font-weight: bold\">[]</span>\n",
       "</pre>\n"
      ],
      "text/plain": [
       "Empty DataFrame\n",
       "Columns: \u001b[1m[\u001b[0mage, sex, bmi, children, smoker, region, charges\u001b[1m]\u001b[0m\n",
       "Index: \u001b[1m[\u001b[0m\u001b[1m]\u001b[0m\n"
      ]
     },
     "metadata": {},
     "output_type": "display_data"
    }
   ],
   "source": [
    "from sklearn.impute import KNNImputer\n",
    "\n",
    "imputer = KNNImputer(n_neighbors=5)\n",
    "dataframe[[\"age\"]] = imputer.fit_transform(dataframe[[\"age\"]])\n",
    "\n",
    "# Check to make sure there are no missing values now after imputing the ages\n",
    "missing_age_rows = dataframe[dataframe[\"age\"].isnull()]\n",
    "print(missing_age_rows)"
   ]
  },
  {
   "cell_type": "code",
   "execution_count": 16,
   "metadata": {},
   "outputs": [
    {
     "data": {
      "text/html": [
       "<pre style=\"white-space:pre;overflow-x:auto;line-height:normal;font-family:Menlo,'DejaVu Sans Mono',consolas,'Courier New',monospace\"></pre>\n"
      ],
      "text/plain": []
     },
     "metadata": {},
     "output_type": "display_data"
    },
    {
     "data": {
      "text/html": [
       "<div>\n",
       "<style scoped>\n",
       "    .dataframe tbody tr th:only-of-type {\n",
       "        vertical-align: middle;\n",
       "    }\n",
       "\n",
       "    .dataframe tbody tr th {\n",
       "        vertical-align: top;\n",
       "    }\n",
       "\n",
       "    .dataframe thead th {\n",
       "        text-align: right;\n",
       "    }\n",
       "</style>\n",
       "<table border=\"1\" class=\"dataframe\">\n",
       "  <thead>\n",
       "    <tr style=\"text-align: right;\">\n",
       "      <th></th>\n",
       "      <th>age</th>\n",
       "      <th>sex</th>\n",
       "      <th>bmi</th>\n",
       "      <th>children</th>\n",
       "      <th>smoker</th>\n",
       "      <th>region</th>\n",
       "      <th>charges</th>\n",
       "    </tr>\n",
       "  </thead>\n",
       "  <tbody>\n",
       "    <tr>\n",
       "      <th>0</th>\n",
       "      <td>19.000000</td>\n",
       "      <td>female</td>\n",
       "      <td>27.900</td>\n",
       "      <td>0</td>\n",
       "      <td>yes</td>\n",
       "      <td>southwest</td>\n",
       "      <td>16884.92400</td>\n",
       "    </tr>\n",
       "    <tr>\n",
       "      <th>1</th>\n",
       "      <td>18.000000</td>\n",
       "      <td>male</td>\n",
       "      <td>33.770</td>\n",
       "      <td>1</td>\n",
       "      <td>no</td>\n",
       "      <td>southeast</td>\n",
       "      <td>1725.55230</td>\n",
       "    </tr>\n",
       "    <tr>\n",
       "      <th>2</th>\n",
       "      <td>28.000000</td>\n",
       "      <td>male</td>\n",
       "      <td>33.000</td>\n",
       "      <td>3</td>\n",
       "      <td>no</td>\n",
       "      <td>southeast</td>\n",
       "      <td>4449.46200</td>\n",
       "    </tr>\n",
       "    <tr>\n",
       "      <th>3</th>\n",
       "      <td>33.000000</td>\n",
       "      <td>male</td>\n",
       "      <td>22.705</td>\n",
       "      <td>0</td>\n",
       "      <td>no</td>\n",
       "      <td>northwest</td>\n",
       "      <td>21984.47061</td>\n",
       "    </tr>\n",
       "    <tr>\n",
       "      <th>4</th>\n",
       "      <td>32.000000</td>\n",
       "      <td>male</td>\n",
       "      <td>28.880</td>\n",
       "      <td>0</td>\n",
       "      <td>no</td>\n",
       "      <td>northwest</td>\n",
       "      <td>3866.85520</td>\n",
       "    </tr>\n",
       "    <tr>\n",
       "      <th>5</th>\n",
       "      <td>39.216237</td>\n",
       "      <td>female</td>\n",
       "      <td>25.740</td>\n",
       "      <td>0</td>\n",
       "      <td>no</td>\n",
       "      <td>southeast</td>\n",
       "      <td>3756.62160</td>\n",
       "    </tr>\n",
       "  </tbody>\n",
       "</table>\n",
       "</div>"
      ],
      "text/plain": [
       "\n",
       "         age     sex     bmi  children smoker     region      charges\n",
       "\u001b[1;36m0\u001b[0m  \u001b[1;36m19.000000\u001b[0m  female  \u001b[1;36m27.900\u001b[0m         \u001b[1;36m0\u001b[0m    yes  southwest  \u001b[1;36m16884.92400\u001b[0m\n",
       "\u001b[1;36m1\u001b[0m  \u001b[1;36m18.000000\u001b[0m    male  \u001b[1;36m33.770\u001b[0m         \u001b[1;36m1\u001b[0m     no  southeast   \u001b[1;36m1725.55230\u001b[0m\n",
       "\u001b[1;36m2\u001b[0m  \u001b[1;36m28.000000\u001b[0m    male  \u001b[1;36m33.000\u001b[0m         \u001b[1;36m3\u001b[0m     no  southeast   \u001b[1;36m4449.46200\u001b[0m\n",
       "\u001b[1;36m3\u001b[0m  \u001b[1;36m33.000000\u001b[0m    male  \u001b[1;36m22.705\u001b[0m         \u001b[1;36m0\u001b[0m     no  northwest  \u001b[1;36m21984.47061\u001b[0m\n",
       "\u001b[1;36m4\u001b[0m  \u001b[1;36m32.000000\u001b[0m    male  \u001b[1;36m28.880\u001b[0m         \u001b[1;36m0\u001b[0m     no  northwest   \u001b[1;36m3866.85520\u001b[0m\n",
       "\u001b[1;36m5\u001b[0m  \u001b[1;36m39.216237\u001b[0m  female  \u001b[1;36m25.740\u001b[0m         \u001b[1;36m0\u001b[0m     no  southeast   \u001b[1;36m3756.62160\u001b[0m"
      ]
     },
     "execution_count": 16,
     "metadata": {},
     "output_type": "execute_result"
    }
   ],
   "source": [
    "dataframe.head(6)"
   ]
  },
  {
   "cell_type": "markdown",
   "metadata": {},
   "source": [
    "### Encode the categorical variables"
   ]
  },
  {
   "cell_type": "markdown",
   "metadata": {},
   "source": [
    "#### Feature engineering\n",
    "\n",
    "#!Will Try this after initial basleine with original data\n",
    "\n",
    "- Create column for bmi category \n",
    "\n",
    "BMI categories:\n",
    "\n",
    "- Underweight: BMI < 18.5\n",
    "- Normal weight: BMI 18.5 - 24.9\n",
    "- Overweight: BMI 25 - 29.9\n",
    "- Obesity: BMI 30 and above"
   ]
  },
  {
   "cell_type": "code",
   "execution_count": 17,
   "metadata": {},
   "outputs": [
    {
     "data": {
      "text/html": [
       "<pre style=\"white-space:pre;overflow-x:auto;line-height:normal;font-family:Menlo,'DejaVu Sans Mono',consolas,'Courier New',monospace\"></pre>\n"
      ],
      "text/plain": []
     },
     "metadata": {},
     "output_type": "display_data"
    },
    {
     "data": {
      "text/html": [
       "<div>\n",
       "<style scoped>\n",
       "    .dataframe tbody tr th:only-of-type {\n",
       "        vertical-align: middle;\n",
       "    }\n",
       "\n",
       "    .dataframe tbody tr th {\n",
       "        vertical-align: top;\n",
       "    }\n",
       "\n",
       "    .dataframe thead th {\n",
       "        text-align: right;\n",
       "    }\n",
       "</style>\n",
       "<table border=\"1\" class=\"dataframe\">\n",
       "  <thead>\n",
       "    <tr style=\"text-align: right;\">\n",
       "      <th></th>\n",
       "      <th>age</th>\n",
       "      <th>sex</th>\n",
       "      <th>bmi</th>\n",
       "      <th>children</th>\n",
       "      <th>smoker</th>\n",
       "      <th>region</th>\n",
       "      <th>charges</th>\n",
       "      <th>bmi_category</th>\n",
       "    </tr>\n",
       "  </thead>\n",
       "  <tbody>\n",
       "    <tr>\n",
       "      <th>0</th>\n",
       "      <td>19.0</td>\n",
       "      <td>female</td>\n",
       "      <td>27.900</td>\n",
       "      <td>0</td>\n",
       "      <td>yes</td>\n",
       "      <td>southwest</td>\n",
       "      <td>16884.92400</td>\n",
       "      <td>Overweight</td>\n",
       "    </tr>\n",
       "    <tr>\n",
       "      <th>1</th>\n",
       "      <td>18.0</td>\n",
       "      <td>male</td>\n",
       "      <td>33.770</td>\n",
       "      <td>1</td>\n",
       "      <td>no</td>\n",
       "      <td>southeast</td>\n",
       "      <td>1725.55230</td>\n",
       "      <td>Obesity</td>\n",
       "    </tr>\n",
       "    <tr>\n",
       "      <th>2</th>\n",
       "      <td>28.0</td>\n",
       "      <td>male</td>\n",
       "      <td>33.000</td>\n",
       "      <td>3</td>\n",
       "      <td>no</td>\n",
       "      <td>southeast</td>\n",
       "      <td>4449.46200</td>\n",
       "      <td>Obesity</td>\n",
       "    </tr>\n",
       "    <tr>\n",
       "      <th>3</th>\n",
       "      <td>33.0</td>\n",
       "      <td>male</td>\n",
       "      <td>22.705</td>\n",
       "      <td>0</td>\n",
       "      <td>no</td>\n",
       "      <td>northwest</td>\n",
       "      <td>21984.47061</td>\n",
       "      <td>Normal weight</td>\n",
       "    </tr>\n",
       "    <tr>\n",
       "      <th>4</th>\n",
       "      <td>32.0</td>\n",
       "      <td>male</td>\n",
       "      <td>28.880</td>\n",
       "      <td>0</td>\n",
       "      <td>no</td>\n",
       "      <td>northwest</td>\n",
       "      <td>3866.85520</td>\n",
       "      <td>Overweight</td>\n",
       "    </tr>\n",
       "  </tbody>\n",
       "</table>\n",
       "</div>"
      ],
      "text/plain": [
       "\n",
       "    age     sex     bmi  children smoker     region      charges  \\\n",
       "\u001b[1;36m0\u001b[0m  \u001b[1;36m19.0\u001b[0m  female  \u001b[1;36m27.900\u001b[0m         \u001b[1;36m0\u001b[0m    yes  southwest  \u001b[1;36m16884.92400\u001b[0m   \n",
       "\u001b[1;36m1\u001b[0m  \u001b[1;36m18.0\u001b[0m    male  \u001b[1;36m33.770\u001b[0m         \u001b[1;36m1\u001b[0m     no  southeast   \u001b[1;36m1725.55230\u001b[0m   \n",
       "\u001b[1;36m2\u001b[0m  \u001b[1;36m28.0\u001b[0m    male  \u001b[1;36m33.000\u001b[0m         \u001b[1;36m3\u001b[0m     no  southeast   \u001b[1;36m4449.46200\u001b[0m   \n",
       "\u001b[1;36m3\u001b[0m  \u001b[1;36m33.0\u001b[0m    male  \u001b[1;36m22.705\u001b[0m         \u001b[1;36m0\u001b[0m     no  northwest  \u001b[1;36m21984.47061\u001b[0m   \n",
       "\u001b[1;36m4\u001b[0m  \u001b[1;36m32.0\u001b[0m    male  \u001b[1;36m28.880\u001b[0m         \u001b[1;36m0\u001b[0m     no  northwest   \u001b[1;36m3866.85520\u001b[0m   \n",
       "\n",
       "    bmi_category  \n",
       "\u001b[1;36m0\u001b[0m     Overweight  \n",
       "\u001b[1;36m1\u001b[0m        Obesity  \n",
       "\u001b[1;36m2\u001b[0m        Obesity  \n",
       "\u001b[1;36m3\u001b[0m  Normal weight  \n",
       "\u001b[1;36m4\u001b[0m     Overweight  "
      ]
     },
     "execution_count": 17,
     "metadata": {},
     "output_type": "execute_result"
    }
   ],
   "source": [
    "# Define BMI categories\n",
    "bins = [0, 18.5, 24.9, 29.9, float(\"inf\")]  # Define the edges of the bins\n",
    "labels = [\n",
    "    \"Underweight\",\n",
    "    \"Normal weight\",\n",
    "    \"Overweight\",\n",
    "    \"Obesity\",\n",
    "]  # Labels for each range\n",
    "\n",
    "# Create a new 'bmi_category' column based on the defined ranges\n",
    "dataframe[\"bmi_category\"] = pd.cut(dataframe[\"bmi\"], bins=bins, labels=labels)\n",
    "\n",
    "dataframe.head()"
   ]
  },
  {
   "cell_type": "code",
   "execution_count": 18,
   "metadata": {},
   "outputs": [
    {
     "name": "stdout",
     "output_type": "stream",
     "text": [
      "<class 'pandas.core.frame.DataFrame'>\n",
      "RangeIndex: 1338 entries, 0 to 1337\n",
      "Data columns (total 8 columns):\n",
      " #   Column        Non-Null Count  Dtype   \n",
      "---  ------        --------------  -----   \n",
      " 0   age           1338 non-null   float64 \n",
      " 1   sex           1338 non-null   object  \n",
      " 2   bmi           1338 non-null   float64 \n",
      " 3   children      1338 non-null   int64   \n",
      " 4   smoker        1338 non-null   object  \n",
      " 5   region        1338 non-null   object  \n",
      " 6   charges       1338 non-null   float64 \n",
      " 7   bmi_category  1338 non-null   category\n",
      "dtypes: category(1), float64(3), int64(1), object(3)\n",
      "memory usage: 74.8+ KB\n"
     ]
    }
   ],
   "source": [
    "dataframe.info()"
   ]
  },
  {
   "cell_type": "code",
   "execution_count": 19,
   "metadata": {},
   "outputs": [
    {
     "data": {
      "text/html": [
       "<pre style=\"white-space:pre;overflow-x:auto;line-height:normal;font-family:Menlo,'DejaVu Sans Mono',consolas,'Courier New',monospace\"><span style=\"color: #800080; text-decoration-color: #800080; font-weight: bold\">Index</span><span style=\"font-weight: bold\">([</span><span style=\"color: #008000; text-decoration-color: #008000\">'sex'</span>, <span style=\"color: #008000; text-decoration-color: #008000\">'smoker'</span>, <span style=\"color: #008000; text-decoration-color: #008000\">'region'</span>, <span style=\"color: #008000; text-decoration-color: #008000\">'bmi_category'</span><span style=\"font-weight: bold\">]</span>, <span style=\"color: #808000; text-decoration-color: #808000\">dtype</span>=<span style=\"color: #008000; text-decoration-color: #008000\">'object'</span><span style=\"font-weight: bold\">)</span>\n",
       "</pre>\n"
      ],
      "text/plain": [
       "\u001b[1;35mIndex\u001b[0m\u001b[1m(\u001b[0m\u001b[1m[\u001b[0m\u001b[32m'sex'\u001b[0m, \u001b[32m'smoker'\u001b[0m, \u001b[32m'region'\u001b[0m, \u001b[32m'bmi_category'\u001b[0m\u001b[1m]\u001b[0m, \u001b[33mdtype\u001b[0m=\u001b[32m'object'\u001b[0m\u001b[1m)\u001b[0m\n"
      ]
     },
     "metadata": {},
     "output_type": "display_data"
    },
    {
     "data": {
      "text/html": [
       "<pre style=\"white-space:pre;overflow-x:auto;line-height:normal;font-family:Menlo,'DejaVu Sans Mono',consolas,'Courier New',monospace\"></pre>\n"
      ],
      "text/plain": []
     },
     "metadata": {},
     "output_type": "display_data"
    },
    {
     "data": {
      "text/html": [
       "<div>\n",
       "<style scoped>\n",
       "    .dataframe tbody tr th:only-of-type {\n",
       "        vertical-align: middle;\n",
       "    }\n",
       "\n",
       "    .dataframe tbody tr th {\n",
       "        vertical-align: top;\n",
       "    }\n",
       "\n",
       "    .dataframe thead th {\n",
       "        text-align: right;\n",
       "    }\n",
       "</style>\n",
       "<table border=\"1\" class=\"dataframe\">\n",
       "  <thead>\n",
       "    <tr style=\"text-align: right;\">\n",
       "      <th></th>\n",
       "      <th>cat__sex_female</th>\n",
       "      <th>cat__sex_male</th>\n",
       "      <th>cat__smoker_no</th>\n",
       "      <th>cat__smoker_yes</th>\n",
       "      <th>cat__region_northeast</th>\n",
       "      <th>cat__region_northwest</th>\n",
       "      <th>cat__region_southeast</th>\n",
       "      <th>cat__region_southwest</th>\n",
       "      <th>cat__bmi_category_Normal weight</th>\n",
       "      <th>cat__bmi_category_Obesity</th>\n",
       "      <th>cat__bmi_category_Overweight</th>\n",
       "      <th>cat__bmi_category_Underweight</th>\n",
       "      <th>remainder__age</th>\n",
       "      <th>remainder__bmi</th>\n",
       "      <th>remainder__children</th>\n",
       "      <th>remainder__charges</th>\n",
       "    </tr>\n",
       "  </thead>\n",
       "  <tbody>\n",
       "    <tr>\n",
       "      <th>0</th>\n",
       "      <td>1.0</td>\n",
       "      <td>0.0</td>\n",
       "      <td>0.0</td>\n",
       "      <td>1.0</td>\n",
       "      <td>0.0</td>\n",
       "      <td>0.0</td>\n",
       "      <td>0.0</td>\n",
       "      <td>1.0</td>\n",
       "      <td>0.0</td>\n",
       "      <td>0.0</td>\n",
       "      <td>1.0</td>\n",
       "      <td>0.0</td>\n",
       "      <td>19.0</td>\n",
       "      <td>27.900</td>\n",
       "      <td>0.0</td>\n",
       "      <td>16884.92400</td>\n",
       "    </tr>\n",
       "    <tr>\n",
       "      <th>1</th>\n",
       "      <td>0.0</td>\n",
       "      <td>1.0</td>\n",
       "      <td>1.0</td>\n",
       "      <td>0.0</td>\n",
       "      <td>0.0</td>\n",
       "      <td>0.0</td>\n",
       "      <td>1.0</td>\n",
       "      <td>0.0</td>\n",
       "      <td>0.0</td>\n",
       "      <td>1.0</td>\n",
       "      <td>0.0</td>\n",
       "      <td>0.0</td>\n",
       "      <td>18.0</td>\n",
       "      <td>33.770</td>\n",
       "      <td>1.0</td>\n",
       "      <td>1725.55230</td>\n",
       "    </tr>\n",
       "    <tr>\n",
       "      <th>2</th>\n",
       "      <td>0.0</td>\n",
       "      <td>1.0</td>\n",
       "      <td>1.0</td>\n",
       "      <td>0.0</td>\n",
       "      <td>0.0</td>\n",
       "      <td>0.0</td>\n",
       "      <td>1.0</td>\n",
       "      <td>0.0</td>\n",
       "      <td>0.0</td>\n",
       "      <td>1.0</td>\n",
       "      <td>0.0</td>\n",
       "      <td>0.0</td>\n",
       "      <td>28.0</td>\n",
       "      <td>33.000</td>\n",
       "      <td>3.0</td>\n",
       "      <td>4449.46200</td>\n",
       "    </tr>\n",
       "    <tr>\n",
       "      <th>3</th>\n",
       "      <td>0.0</td>\n",
       "      <td>1.0</td>\n",
       "      <td>1.0</td>\n",
       "      <td>0.0</td>\n",
       "      <td>0.0</td>\n",
       "      <td>1.0</td>\n",
       "      <td>0.0</td>\n",
       "      <td>0.0</td>\n",
       "      <td>1.0</td>\n",
       "      <td>0.0</td>\n",
       "      <td>0.0</td>\n",
       "      <td>0.0</td>\n",
       "      <td>33.0</td>\n",
       "      <td>22.705</td>\n",
       "      <td>0.0</td>\n",
       "      <td>21984.47061</td>\n",
       "    </tr>\n",
       "    <tr>\n",
       "      <th>4</th>\n",
       "      <td>0.0</td>\n",
       "      <td>1.0</td>\n",
       "      <td>1.0</td>\n",
       "      <td>0.0</td>\n",
       "      <td>0.0</td>\n",
       "      <td>1.0</td>\n",
       "      <td>0.0</td>\n",
       "      <td>0.0</td>\n",
       "      <td>0.0</td>\n",
       "      <td>0.0</td>\n",
       "      <td>1.0</td>\n",
       "      <td>0.0</td>\n",
       "      <td>32.0</td>\n",
       "      <td>28.880</td>\n",
       "      <td>0.0</td>\n",
       "      <td>3866.85520</td>\n",
       "    </tr>\n",
       "  </tbody>\n",
       "</table>\n",
       "</div>"
      ],
      "text/plain": [
       "\n",
       "   cat__sex_female  cat__sex_male  cat__smoker_no  cat__smoker_yes  \\\n",
       "\u001b[1;36m0\u001b[0m              \u001b[1;36m1.0\u001b[0m            \u001b[1;36m0.0\u001b[0m             \u001b[1;36m0.0\u001b[0m              \u001b[1;36m1.0\u001b[0m   \n",
       "\u001b[1;36m1\u001b[0m              \u001b[1;36m0.0\u001b[0m            \u001b[1;36m1.0\u001b[0m             \u001b[1;36m1.0\u001b[0m              \u001b[1;36m0.0\u001b[0m   \n",
       "\u001b[1;36m2\u001b[0m              \u001b[1;36m0.0\u001b[0m            \u001b[1;36m1.0\u001b[0m             \u001b[1;36m1.0\u001b[0m              \u001b[1;36m0.0\u001b[0m   \n",
       "\u001b[1;36m3\u001b[0m              \u001b[1;36m0.0\u001b[0m            \u001b[1;36m1.0\u001b[0m             \u001b[1;36m1.0\u001b[0m              \u001b[1;36m0.0\u001b[0m   \n",
       "\u001b[1;36m4\u001b[0m              \u001b[1;36m0.0\u001b[0m            \u001b[1;36m1.0\u001b[0m             \u001b[1;36m1.0\u001b[0m              \u001b[1;36m0.0\u001b[0m   \n",
       "\n",
       "   cat__region_northeast  cat__region_northwest  cat__region_southeast  \\\n",
       "\u001b[1;36m0\u001b[0m                    \u001b[1;36m0.0\u001b[0m                    \u001b[1;36m0.0\u001b[0m                    \u001b[1;36m0.0\u001b[0m   \n",
       "\u001b[1;36m1\u001b[0m                    \u001b[1;36m0.0\u001b[0m                    \u001b[1;36m0.0\u001b[0m                    \u001b[1;36m1.0\u001b[0m   \n",
       "\u001b[1;36m2\u001b[0m                    \u001b[1;36m0.0\u001b[0m                    \u001b[1;36m0.0\u001b[0m                    \u001b[1;36m1.0\u001b[0m   \n",
       "\u001b[1;36m3\u001b[0m                    \u001b[1;36m0.0\u001b[0m                    \u001b[1;36m1.0\u001b[0m                    \u001b[1;36m0.0\u001b[0m   \n",
       "\u001b[1;36m4\u001b[0m                    \u001b[1;36m0.0\u001b[0m                    \u001b[1;36m1.0\u001b[0m                    \u001b[1;36m0.0\u001b[0m   \n",
       "\n",
       "   cat__region_southwest  cat__bmi_category_Normal weight  \\\n",
       "\u001b[1;36m0\u001b[0m                    \u001b[1;36m1.0\u001b[0m                              \u001b[1;36m0.0\u001b[0m   \n",
       "\u001b[1;36m1\u001b[0m                    \u001b[1;36m0.0\u001b[0m                              \u001b[1;36m0.0\u001b[0m   \n",
       "\u001b[1;36m2\u001b[0m                    \u001b[1;36m0.0\u001b[0m                              \u001b[1;36m0.0\u001b[0m   \n",
       "\u001b[1;36m3\u001b[0m                    \u001b[1;36m0.0\u001b[0m                              \u001b[1;36m1.0\u001b[0m   \n",
       "\u001b[1;36m4\u001b[0m                    \u001b[1;36m0.0\u001b[0m                              \u001b[1;36m0.0\u001b[0m   \n",
       "\n",
       "   cat__bmi_category_Obesity  cat__bmi_category_Overweight  \\\n",
       "\u001b[1;36m0\u001b[0m                        \u001b[1;36m0.0\u001b[0m                           \u001b[1;36m1.0\u001b[0m   \n",
       "\u001b[1;36m1\u001b[0m                        \u001b[1;36m1.0\u001b[0m                           \u001b[1;36m0.0\u001b[0m   \n",
       "\u001b[1;36m2\u001b[0m                        \u001b[1;36m1.0\u001b[0m                           \u001b[1;36m0.0\u001b[0m   \n",
       "\u001b[1;36m3\u001b[0m                        \u001b[1;36m0.0\u001b[0m                           \u001b[1;36m0.0\u001b[0m   \n",
       "\u001b[1;36m4\u001b[0m                        \u001b[1;36m0.0\u001b[0m                           \u001b[1;36m1.0\u001b[0m   \n",
       "\n",
       "   cat__bmi_category_Underweight  remainder__age  remainder__bmi  \\\n",
       "\u001b[1;36m0\u001b[0m                            \u001b[1;36m0.0\u001b[0m            \u001b[1;36m19.0\u001b[0m          \u001b[1;36m27.900\u001b[0m   \n",
       "\u001b[1;36m1\u001b[0m                            \u001b[1;36m0.0\u001b[0m            \u001b[1;36m18.0\u001b[0m          \u001b[1;36m33.770\u001b[0m   \n",
       "\u001b[1;36m2\u001b[0m                            \u001b[1;36m0.0\u001b[0m            \u001b[1;36m28.0\u001b[0m          \u001b[1;36m33.000\u001b[0m   \n",
       "\u001b[1;36m3\u001b[0m                            \u001b[1;36m0.0\u001b[0m            \u001b[1;36m33.0\u001b[0m          \u001b[1;36m22.705\u001b[0m   \n",
       "\u001b[1;36m4\u001b[0m                            \u001b[1;36m0.0\u001b[0m            \u001b[1;36m32.0\u001b[0m          \u001b[1;36m28.880\u001b[0m   \n",
       "\n",
       "   remainder__children  remainder__charges  \n",
       "\u001b[1;36m0\u001b[0m                  \u001b[1;36m0.0\u001b[0m         \u001b[1;36m16884.92400\u001b[0m  \n",
       "\u001b[1;36m1\u001b[0m                  \u001b[1;36m1.0\u001b[0m          \u001b[1;36m1725.55230\u001b[0m  \n",
       "\u001b[1;36m2\u001b[0m                  \u001b[1;36m3.0\u001b[0m          \u001b[1;36m4449.46200\u001b[0m  \n",
       "\u001b[1;36m3\u001b[0m                  \u001b[1;36m0.0\u001b[0m         \u001b[1;36m21984.47061\u001b[0m  \n",
       "\u001b[1;36m4\u001b[0m                  \u001b[1;36m0.0\u001b[0m          \u001b[1;36m3866.85520\u001b[0m  "
      ]
     },
     "execution_count": 19,
     "metadata": {},
     "output_type": "execute_result"
    }
   ],
   "source": [
    "from sklearn.preprocessing import OneHotEncoder\n",
    "from sklearn.compose import ColumnTransformer\n",
    "from sklearn.pipeline import Pipeline\n",
    "\n",
    "object_cols = dataframe.select_dtypes(include=\"object\").columns\n",
    "category_cols = dataframe.select_dtypes(include=\"category\").columns\n",
    "object_cols = object_cols.append(category_cols)\n",
    "\n",
    "print(object_cols)\n",
    "\n",
    "preprocessor = ColumnTransformer(\n",
    "    transformers=[\n",
    "        (\n",
    "            \"cat\",\n",
    "            OneHotEncoder(),\n",
    "            object_cols,\n",
    "        )  # One-hot encoding for categorical columns\n",
    "    ],\n",
    "    remainder=\"passthrough\",\n",
    ")\n",
    "\n",
    "encoded_df = preprocessor.fit_transform(dataframe)\n",
    "encoded_df = pd.DataFrame(encoded_df, columns=preprocessor.get_feature_names_out())\n",
    "encoded_df.head()"
   ]
  },
  {
   "cell_type": "markdown",
   "metadata": {},
   "source": [
    "### Create Training and test datasets"
   ]
  },
  {
   "cell_type": "markdown",
   "metadata": {},
   "source": [
    "## Traing and testing models"
   ]
  },
  {
   "cell_type": "markdown",
   "metadata": {},
   "source": [
    "## Split the data"
   ]
  },
  {
   "cell_type": "code",
   "execution_count": 20,
   "metadata": {},
   "outputs": [],
   "source": [
    "from sklearn.linear_model import LinearRegression\n",
    "from sklearn.model_selection import train_test_split\n",
    "from sklearn.metrics import mean_squared_error\n",
    "from sklearn.preprocessing import StandardScaler, MinMaxScaler\n",
    "\n",
    "# Separate features (X) and target (y)\n",
    "X = encoded_df.drop(columns=[\"remainder__charges\"])\n",
    "y = encoded_df[\"remainder__charges\"]\n",
    "\n",
    "# Split the data into training and testing sets\n",
    "X_train, X_test, y_train, y_test = train_test_split(\n",
    "    X, y, test_size=0.2, random_state=42\n",
    ")\n",
    "\n",
    "# scale the data\n",
    "s_Scaler = StandardScaler()\n",
    "m_mScaler = MinMaxScaler()\n",
    "\n",
    "X_train = m_mScaler.fit_transform(X_train)\n",
    "X_test = m_mScaler.fit_transform(X_test)"
   ]
  },
  {
   "cell_type": "markdown",
   "metadata": {},
   "source": [
    "## Training function\n"
   ]
  },
  {
   "cell_type": "code",
   "execution_count": 21,
   "metadata": {},
   "outputs": [],
   "source": [
    "# Create a function to fit and train models and show the predictions\n",
    "from sklearn.metrics import r2_score, mean_absolute_error, root_mean_squared_error\n",
    "\n",
    "\n",
    "def fit_and_predict(X_train, X_test, y_train, y_test, model):\n",
    "    model = model\n",
    "    model.fit(X_train, y_train)\n",
    "    predictions = model.predict(X_test)\n",
    "    mse = mean_squared_error(y_test, predictions)\n",
    "    r2s = r2_score(y_test, predictions)\n",
    "    mae = mean_absolute_error(y_test, predictions)\n",
    "    print(\"Model: {}\".format(model.__class__))\n",
    "    print(f\"Mean Squared Error: {mse}\")\n",
    "    print(f\"Mean Absolute Error: {mae}\")\n",
    "    print(f\"r2 score: {r2s}\")\n",
    "    return predictions, r2s, model"
   ]
  },
  {
   "cell_type": "markdown",
   "metadata": {},
   "source": [
    "### Example of a model"
   ]
  },
  {
   "cell_type": "code",
   "execution_count": 22,
   "metadata": {},
   "outputs": [
    {
     "data": {
      "text/html": [
       "<pre style=\"white-space:pre;overflow-x:auto;line-height:normal;font-family:Menlo,'DejaVu Sans Mono',consolas,'Courier New',monospace\">Model: <span style=\"font-weight: bold\">&lt;</span><span style=\"color: #ff00ff; text-decoration-color: #ff00ff; font-weight: bold\">class</span><span style=\"color: #000000; text-decoration-color: #000000\"> </span><span style=\"color: #008000; text-decoration-color: #008000\">'sklearn.linear_model._base.LinearRegression'</span><span style=\"font-weight: bold\">&gt;</span>\n",
       "</pre>\n"
      ],
      "text/plain": [
       "Model: \u001b[1m<\u001b[0m\u001b[1;95mclass\u001b[0m\u001b[39m \u001b[0m\u001b[32m'sklearn.linear_model._base.LinearRegression'\u001b[0m\u001b[1m>\u001b[0m\n"
      ]
     },
     "metadata": {},
     "output_type": "display_data"
    },
    {
     "data": {
      "text/html": [
       "<pre style=\"white-space:pre;overflow-x:auto;line-height:normal;font-family:Menlo,'DejaVu Sans Mono',consolas,'Courier New',monospace\">Mean Squared Error: <span style=\"color: #008080; text-decoration-color: #008080; font-weight: bold\">33979925.387922026</span>\n",
       "</pre>\n"
      ],
      "text/plain": [
       "Mean Squared Error: \u001b[1;36m33979925.387922026\u001b[0m\n"
      ]
     },
     "metadata": {},
     "output_type": "display_data"
    },
    {
     "data": {
      "text/html": [
       "<pre style=\"white-space:pre;overflow-x:auto;line-height:normal;font-family:Menlo,'DejaVu Sans Mono',consolas,'Courier New',monospace\">Mean Absolute Error: <span style=\"color: #008080; text-decoration-color: #008080; font-weight: bold\">4297.854583018657</span>\n",
       "</pre>\n"
      ],
      "text/plain": [
       "Mean Absolute Error: \u001b[1;36m4297.854583018657\u001b[0m\n"
      ]
     },
     "metadata": {},
     "output_type": "display_data"
    },
    {
     "data": {
      "text/html": [
       "<pre style=\"white-space:pre;overflow-x:auto;line-height:normal;font-family:Menlo,'DejaVu Sans Mono',consolas,'Courier New',monospace\">r2 score: <span style=\"color: #008080; text-decoration-color: #008080; font-weight: bold\">0.7811259063992894</span>\n",
       "</pre>\n"
      ],
      "text/plain": [
       "r2 score: \u001b[1;36m0.7811259063992894\u001b[0m\n"
      ]
     },
     "metadata": {},
     "output_type": "display_data"
    }
   ],
   "source": [
    "preds, mse, trained_model_1 = fit_and_predict(\n",
    "    X_train=X_train,\n",
    "    X_test=X_test,\n",
    "    y_train=y_train,\n",
    "    y_test=y_test,\n",
    "    model=LinearRegression(),\n",
    ")"
   ]
  },
  {
   "cell_type": "code",
   "execution_count": 23,
   "metadata": {},
   "outputs": [
    {
     "data": {
      "text/html": [
       "<pre style=\"white-space:pre;overflow-x:auto;line-height:normal;font-family:Menlo,'DejaVu Sans Mono',consolas,'Courier New',monospace\"></pre>\n"
      ],
      "text/plain": []
     },
     "metadata": {},
     "output_type": "display_data"
    },
    {
     "data": {
      "text/plain": [
       "\u001b[32m\"plt.figure\u001b[0m\u001b[32m(\u001b[0m\u001b[32mfigsize\u001b[0m\u001b[32m=\u001b[0m\u001b[32m(\u001b[0m\u001b[32m8, 6\u001b[0m\u001b[32m)\u001b[0m\u001b[32m)\u001b[0m\u001b[32m\\nsns.scatterplot\u001b[0m\u001b[32m(\u001b[0m\u001b[32mx\u001b[0m\u001b[32m=\u001b[0m\u001b[32my_test\u001b[0m\u001b[32m, \u001b[0m\u001b[32my\u001b[0m\u001b[32m=\u001b[0m\u001b[32mpreds\u001b[0m\u001b[32m)\u001b[0m\u001b[32m\\nplt.plot\u001b[0m\u001b[32m(\u001b[0m\u001b[32m[\u001b[0m\u001b[32my_test.min\u001b[0m\u001b[32m(\u001b[0m\u001b[32m)\u001b[0m\u001b[32m, y_test.max\u001b[0m\u001b[32m(\u001b[0m\u001b[32m)\u001b[0m\u001b[32m]\u001b[0m\u001b[32m, \u001b[0m\u001b[32m[\u001b[0m\u001b[32my_test.min\u001b[0m\u001b[32m(\u001b[0m\u001b[32m)\u001b[0m\u001b[32m, y_test.max\u001b[0m\u001b[32m(\u001b[0m\u001b[32m)\u001b[0m\u001b[32m]\u001b[0m\u001b[32m, \u001b[0m\u001b[32mcolor\u001b[0m\u001b[32m='red', \u001b[0m\u001b[32mlinestyle\u001b[0m\u001b[32m='--'\u001b[0m\u001b[32m)\u001b[0m\u001b[32m  # Line of perfect prediction\\nplt.xlabel\u001b[0m\u001b[32m(\u001b[0m\u001b[32m'Actual Values'\u001b[0m\u001b[32m)\u001b[0m\u001b[32m\\nplt.ylabel\u001b[0m\u001b[32m(\u001b[0m\u001b[32m'Predicted Values'\u001b[0m\u001b[32m)\u001b[0m\u001b[32m\\nplt.title\u001b[0m\u001b[32m(\u001b[0m\u001b[32m'Actual vs Predicted'\u001b[0m\u001b[32m)\u001b[0m\u001b[32m\\nplt.show\u001b[0m\u001b[32m(\u001b[0m\u001b[32m)\u001b[0m\u001b[32m\"\u001b[0m"
      ]
     },
     "execution_count": 23,
     "metadata": {},
     "output_type": "execute_result"
    }
   ],
   "source": [
    "\"\"\"plt.figure(figsize=(8, 6))\n",
    "sns.scatterplot(x=y_test, y=preds)\n",
    "plt.plot([y_test.min(), y_test.max()], [y_test.min(), y_test.max()], color='red', linestyle='--')  # Line of perfect prediction\n",
    "plt.xlabel('Actual Values')\n",
    "plt.ylabel('Predicted Values')\n",
    "plt.title('Actual vs Predicted')\n",
    "plt.show()\"\"\""
   ]
  },
  {
   "cell_type": "markdown",
   "metadata": {},
   "source": [
    "## Trying different models without hyperparameter tuning"
   ]
  },
  {
   "cell_type": "code",
   "execution_count": 24,
   "metadata": {},
   "outputs": [],
   "source": [
    "from xgboost import XGBRegressor\n",
    "from lightgbm import LGBMRegressor"
   ]
  },
  {
   "cell_type": "code",
   "execution_count": null,
   "metadata": {},
   "outputs": [
    {
     "data": {
      "text/html": [
       "<pre style=\"white-space:pre;overflow-x:auto;line-height:normal;font-family:Menlo,'DejaVu Sans Mono',consolas,'Courier New',monospace\">Model: <span style=\"font-weight: bold\">&lt;</span><span style=\"color: #ff00ff; text-decoration-color: #ff00ff; font-weight: bold\">class</span><span style=\"color: #000000; text-decoration-color: #000000\"> </span><span style=\"color: #008000; text-decoration-color: #008000\">'sklearn.linear_model._base.LinearRegression'</span><span style=\"font-weight: bold\">&gt;</span>\n",
       "</pre>\n"
      ],
      "text/plain": [
       "Model: \u001b[1m<\u001b[0m\u001b[1;95mclass\u001b[0m\u001b[39m \u001b[0m\u001b[32m'sklearn.linear_model._base.LinearRegression'\u001b[0m\u001b[1m>\u001b[0m\n"
      ]
     },
     "metadata": {},
     "output_type": "display_data"
    },
    {
     "data": {
      "text/html": [
       "<pre style=\"white-space:pre;overflow-x:auto;line-height:normal;font-family:Menlo,'DejaVu Sans Mono',consolas,'Courier New',monospace\">Mean Squared Error: <span style=\"color: #008080; text-decoration-color: #008080; font-weight: bold\">33979925.387922026</span>\n",
       "</pre>\n"
      ],
      "text/plain": [
       "Mean Squared Error: \u001b[1;36m33979925.387922026\u001b[0m\n"
      ]
     },
     "metadata": {},
     "output_type": "display_data"
    },
    {
     "data": {
      "text/html": [
       "<pre style=\"white-space:pre;overflow-x:auto;line-height:normal;font-family:Menlo,'DejaVu Sans Mono',consolas,'Courier New',monospace\">Mean Absolute Error: <span style=\"color: #008080; text-decoration-color: #008080; font-weight: bold\">4297.854583018657</span>\n",
       "</pre>\n"
      ],
      "text/plain": [
       "Mean Absolute Error: \u001b[1;36m4297.854583018657\u001b[0m\n"
      ]
     },
     "metadata": {},
     "output_type": "display_data"
    },
    {
     "data": {
      "text/html": [
       "<pre style=\"white-space:pre;overflow-x:auto;line-height:normal;font-family:Menlo,'DejaVu Sans Mono',consolas,'Courier New',monospace\">r2 score: <span style=\"color: #008080; text-decoration-color: #008080; font-weight: bold\">0.7811259063992894</span>\n",
       "</pre>\n"
      ],
      "text/plain": [
       "r2 score: \u001b[1;36m0.7811259063992894\u001b[0m\n"
      ]
     },
     "metadata": {},
     "output_type": "display_data"
    },
    {
     "data": {
      "text/html": [
       "<pre style=\"white-space:pre;overflow-x:auto;line-height:normal;font-family:Menlo,'DejaVu Sans Mono',consolas,'Courier New',monospace\">Model: <span style=\"font-weight: bold\">&lt;</span><span style=\"color: #ff00ff; text-decoration-color: #ff00ff; font-weight: bold\">class</span><span style=\"color: #000000; text-decoration-color: #000000\"> </span><span style=\"color: #008000; text-decoration-color: #008000\">'sklearn.ensemble._forest.RandomForestRegressor'</span><span style=\"font-weight: bold\">&gt;</span>\n",
       "</pre>\n"
      ],
      "text/plain": [
       "Model: \u001b[1m<\u001b[0m\u001b[1;95mclass\u001b[0m\u001b[39m \u001b[0m\u001b[32m'sklearn.ensemble._forest.RandomForestRegressor'\u001b[0m\u001b[1m>\u001b[0m\n"
      ]
     },
     "metadata": {},
     "output_type": "display_data"
    },
    {
     "data": {
      "text/html": [
       "<pre style=\"white-space:pre;overflow-x:auto;line-height:normal;font-family:Menlo,'DejaVu Sans Mono',consolas,'Courier New',monospace\">Mean Squared Error: <span style=\"color: #008080; text-decoration-color: #008080; font-weight: bold\">21183918.048057593</span>\n",
       "</pre>\n"
      ],
      "text/plain": [
       "Mean Squared Error: \u001b[1;36m21183918.048057593\u001b[0m\n"
      ]
     },
     "metadata": {},
     "output_type": "display_data"
    },
    {
     "data": {
      "text/html": [
       "<pre style=\"white-space:pre;overflow-x:auto;line-height:normal;font-family:Menlo,'DejaVu Sans Mono',consolas,'Courier New',monospace\">Mean Absolute Error: <span style=\"color: #008080; text-decoration-color: #008080; font-weight: bold\">2603.170119402547</span>\n",
       "</pre>\n"
      ],
      "text/plain": [
       "Mean Absolute Error: \u001b[1;36m2603.170119402547\u001b[0m\n"
      ]
     },
     "metadata": {},
     "output_type": "display_data"
    },
    {
     "data": {
      "text/html": [
       "<pre style=\"white-space:pre;overflow-x:auto;line-height:normal;font-family:Menlo,'DejaVu Sans Mono',consolas,'Courier New',monospace\">r2 score: <span style=\"color: #008080; text-decoration-color: #008080; font-weight: bold\">0.8635485272922818</span>\n",
       "</pre>\n"
      ],
      "text/plain": [
       "r2 score: \u001b[1;36m0.8635485272922818\u001b[0m\n"
      ]
     },
     "metadata": {},
     "output_type": "display_data"
    },
    {
     "data": {
      "text/html": [
       "<pre style=\"white-space:pre;overflow-x:auto;line-height:normal;font-family:Menlo,'DejaVu Sans Mono',consolas,'Courier New',monospace\">Model: <span style=\"font-weight: bold\">&lt;</span><span style=\"color: #ff00ff; text-decoration-color: #ff00ff; font-weight: bold\">class</span><span style=\"color: #000000; text-decoration-color: #000000\"> </span><span style=\"color: #008000; text-decoration-color: #008000\">'sklearn.tree._classes.DecisionTreeRegressor'</span><span style=\"font-weight: bold\">&gt;</span>\n",
       "</pre>\n"
      ],
      "text/plain": [
       "Model: \u001b[1m<\u001b[0m\u001b[1;95mclass\u001b[0m\u001b[39m \u001b[0m\u001b[32m'sklearn.tree._classes.DecisionTreeRegressor'\u001b[0m\u001b[1m>\u001b[0m\n"
      ]
     },
     "metadata": {},
     "output_type": "display_data"
    },
    {
     "data": {
      "text/html": [
       "<pre style=\"white-space:pre;overflow-x:auto;line-height:normal;font-family:Menlo,'DejaVu Sans Mono',consolas,'Courier New',monospace\">Mean Squared Error: <span style=\"color: #008080; text-decoration-color: #008080; font-weight: bold\">19997201.444017548</span>\n",
       "</pre>\n"
      ],
      "text/plain": [
       "Mean Squared Error: \u001b[1;36m19997201.444017548\u001b[0m\n"
      ]
     },
     "metadata": {},
     "output_type": "display_data"
    },
    {
     "data": {
      "text/html": [
       "<pre style=\"white-space:pre;overflow-x:auto;line-height:normal;font-family:Menlo,'DejaVu Sans Mono',consolas,'Courier New',monospace\">Mean Absolute Error: <span style=\"color: #008080; text-decoration-color: #008080; font-weight: bold\">1873.2556318059703</span>\n",
       "</pre>\n"
      ],
      "text/plain": [
       "Mean Absolute Error: \u001b[1;36m1873.2556318059703\u001b[0m\n"
      ]
     },
     "metadata": {},
     "output_type": "display_data"
    },
    {
     "data": {
      "text/html": [
       "<pre style=\"white-space:pre;overflow-x:auto;line-height:normal;font-family:Menlo,'DejaVu Sans Mono',consolas,'Courier New',monospace\">r2 score: <span style=\"color: #008080; text-decoration-color: #008080; font-weight: bold\">0.8711924970216122</span>\n",
       "</pre>\n"
      ],
      "text/plain": [
       "r2 score: \u001b[1;36m0.8711924970216122\u001b[0m\n"
      ]
     },
     "metadata": {},
     "output_type": "display_data"
    },
    {
     "data": {
      "text/html": [
       "<pre style=\"white-space:pre;overflow-x:auto;line-height:normal;font-family:Menlo,'DejaVu Sans Mono',consolas,'Courier New',monospace\">Model: <span style=\"font-weight: bold\">&lt;</span><span style=\"color: #ff00ff; text-decoration-color: #ff00ff; font-weight: bold\">class</span><span style=\"color: #000000; text-decoration-color: #000000\"> </span><span style=\"color: #008000; text-decoration-color: #008000\">'xgboost.sklearn.XGBRegressor'</span><span style=\"font-weight: bold\">&gt;</span>\n",
       "</pre>\n"
      ],
      "text/plain": [
       "Model: \u001b[1m<\u001b[0m\u001b[1;95mclass\u001b[0m\u001b[39m \u001b[0m\u001b[32m'xgboost.sklearn.XGBRegressor'\u001b[0m\u001b[1m>\u001b[0m\n"
      ]
     },
     "metadata": {},
     "output_type": "display_data"
    },
    {
     "data": {
      "text/html": [
       "<pre style=\"white-space:pre;overflow-x:auto;line-height:normal;font-family:Menlo,'DejaVu Sans Mono',consolas,'Courier New',monospace\">Mean Squared Error: <span style=\"color: #008080; text-decoration-color: #008080; font-weight: bold\">18954263.89245019</span>\n",
       "</pre>\n"
      ],
      "text/plain": [
       "Mean Squared Error: \u001b[1;36m18954263.89245019\u001b[0m\n"
      ]
     },
     "metadata": {},
     "output_type": "display_data"
    },
    {
     "data": {
      "text/html": [
       "<pre style=\"white-space:pre;overflow-x:auto;line-height:normal;font-family:Menlo,'DejaVu Sans Mono',consolas,'Courier New',monospace\">Mean Absolute Error: <span style=\"color: #008080; text-decoration-color: #008080; font-weight: bold\">2622.391396009853</span>\n",
       "</pre>\n"
      ],
      "text/plain": [
       "Mean Absolute Error: \u001b[1;36m2622.391396009853\u001b[0m\n"
      ]
     },
     "metadata": {},
     "output_type": "display_data"
    },
    {
     "data": {
      "text/html": [
       "<pre style=\"white-space:pre;overflow-x:auto;line-height:normal;font-family:Menlo,'DejaVu Sans Mono',consolas,'Courier New',monospace\">r2 score: <span style=\"color: #008080; text-decoration-color: #008080; font-weight: bold\">0.8779103461244412</span>\n",
       "</pre>\n"
      ],
      "text/plain": [
       "r2 score: \u001b[1;36m0.8779103461244412\u001b[0m\n"
      ]
     },
     "metadata": {},
     "output_type": "display_data"
    },
    {
     "data": {
      "text/html": [
       "<pre style=\"white-space:pre;overflow-x:auto;line-height:normal;font-family:Menlo,'DejaVu Sans Mono',consolas,'Courier New',monospace\">Model: <span style=\"font-weight: bold\">&lt;</span><span style=\"color: #ff00ff; text-decoration-color: #ff00ff; font-weight: bold\">class</span><span style=\"color: #000000; text-decoration-color: #000000\"> </span><span style=\"color: #008000; text-decoration-color: #008000\">'xgboost.sklearn.XGBRegressor'</span><span style=\"font-weight: bold\">&gt;</span>\n",
       "</pre>\n"
      ],
      "text/plain": [
       "Model: \u001b[1m<\u001b[0m\u001b[1;95mclass\u001b[0m\u001b[39m \u001b[0m\u001b[32m'xgboost.sklearn.XGBRegressor'\u001b[0m\u001b[1m>\u001b[0m\n"
      ]
     },
     "metadata": {},
     "output_type": "display_data"
    },
    {
     "data": {
      "text/html": [
       "<pre style=\"white-space:pre;overflow-x:auto;line-height:normal;font-family:Menlo,'DejaVu Sans Mono',consolas,'Courier New',monospace\">Mean Squared Error: <span style=\"color: #008080; text-decoration-color: #008080; font-weight: bold\">18137512.024078004</span>\n",
       "</pre>\n"
      ],
      "text/plain": [
       "Mean Squared Error: \u001b[1;36m18137512.024078004\u001b[0m\n"
      ]
     },
     "metadata": {},
     "output_type": "display_data"
    },
    {
     "data": {
      "text/html": [
       "<pre style=\"white-space:pre;overflow-x:auto;line-height:normal;font-family:Menlo,'DejaVu Sans Mono',consolas,'Courier New',monospace\">Mean Absolute Error: <span style=\"color: #008080; text-decoration-color: #008080; font-weight: bold\">2417.43280283413</span>\n",
       "</pre>\n"
      ],
      "text/plain": [
       "Mean Absolute Error: \u001b[1;36m2417.43280283413\u001b[0m\n"
      ]
     },
     "metadata": {},
     "output_type": "display_data"
    },
    {
     "data": {
      "text/html": [
       "<pre style=\"white-space:pre;overflow-x:auto;line-height:normal;font-family:Menlo,'DejaVu Sans Mono',consolas,'Courier New',monospace\">r2 score: <span style=\"color: #008080; text-decoration-color: #008080; font-weight: bold\">0.8831712707099375</span>\n",
       "</pre>\n"
      ],
      "text/plain": [
       "r2 score: \u001b[1;36m0.8831712707099375\u001b[0m\n"
      ]
     },
     "metadata": {},
     "output_type": "display_data"
    },
    {
     "name": "stdout",
     "output_type": "stream",
     "text": [
      "Learning rate set to 0.041383\n",
      "0:\tlearn: 11661.8006203\ttotal: 473us\tremaining: 473ms\n",
      "100:\tlearn: 4267.6928606\ttotal: 41.9ms\tremaining: 373ms\n",
      "200:\tlearn: 3934.9658291\ttotal: 79.2ms\tremaining: 315ms\n",
      "300:\tlearn: 3739.5458362\ttotal: 115ms\tremaining: 268ms\n",
      "400:\tlearn: 3537.9254508\ttotal: 152ms\tremaining: 227ms\n",
      "500:\tlearn: 3375.2870325\ttotal: 189ms\tremaining: 188ms\n",
      "600:\tlearn: 3228.4310990\ttotal: 228ms\tremaining: 152ms\n",
      "700:\tlearn: 3091.5087649\ttotal: 264ms\tremaining: 113ms\n",
      "800:\tlearn: 2970.2992474\ttotal: 301ms\tremaining: 74.9ms\n",
      "900:\tlearn: 2836.5268383\ttotal: 339ms\tremaining: 37.2ms\n",
      "999:\tlearn: 2713.1101791\ttotal: 378ms\tremaining: 0us\n"
     ]
    },
    {
     "data": {
      "text/html": [
       "<pre style=\"white-space:pre;overflow-x:auto;line-height:normal;font-family:Menlo,'DejaVu Sans Mono',consolas,'Courier New',monospace\">Model: <span style=\"font-weight: bold\">&lt;</span><span style=\"color: #ff00ff; text-decoration-color: #ff00ff; font-weight: bold\">class</span><span style=\"color: #000000; text-decoration-color: #000000\"> </span><span style=\"color: #008000; text-decoration-color: #008000\">'catboost.core.CatBoostRegressor'</span><span style=\"font-weight: bold\">&gt;</span>\n",
       "</pre>\n"
      ],
      "text/plain": [
       "Model: \u001b[1m<\u001b[0m\u001b[1;95mclass\u001b[0m\u001b[39m \u001b[0m\u001b[32m'catboost.core.CatBoostRegressor'\u001b[0m\u001b[1m>\u001b[0m\n"
      ]
     },
     "metadata": {},
     "output_type": "display_data"
    },
    {
     "data": {
      "text/html": [
       "<pre style=\"white-space:pre;overflow-x:auto;line-height:normal;font-family:Menlo,'DejaVu Sans Mono',consolas,'Courier New',monospace\">Mean Squared Error: <span style=\"color: #008080; text-decoration-color: #008080; font-weight: bold\">21392004.894500893</span>\n",
       "</pre>\n"
      ],
      "text/plain": [
       "Mean Squared Error: \u001b[1;36m21392004.894500893\u001b[0m\n"
      ]
     },
     "metadata": {},
     "output_type": "display_data"
    },
    {
     "data": {
      "text/html": [
       "<pre style=\"white-space:pre;overflow-x:auto;line-height:normal;font-family:Menlo,'DejaVu Sans Mono',consolas,'Courier New',monospace\">Mean Absolute Error: <span style=\"color: #008080; text-decoration-color: #008080; font-weight: bold\">2608.319888045272</span>\n",
       "</pre>\n"
      ],
      "text/plain": [
       "Mean Absolute Error: \u001b[1;36m2608.319888045272\u001b[0m\n"
      ]
     },
     "metadata": {},
     "output_type": "display_data"
    },
    {
     "data": {
      "text/html": [
       "<pre style=\"white-space:pre;overflow-x:auto;line-height:normal;font-family:Menlo,'DejaVu Sans Mono',consolas,'Courier New',monospace\">r2 score: <span style=\"color: #008080; text-decoration-color: #008080; font-weight: bold\">0.8622081823861186</span>\n",
       "</pre>\n"
      ],
      "text/plain": [
       "r2 score: \u001b[1;36m0.8622081823861186\u001b[0m\n"
      ]
     },
     "metadata": {},
     "output_type": "display_data"
    },
    {
     "name": "stdout",
     "output_type": "stream",
     "text": [
      "[LightGBM] [Info] Auto-choosing row-wise multi-threading, the overhead of testing was 0.000236 seconds.\n",
      "You can set `force_row_wise=true` to remove the overhead.\n",
      "And if memory is not enough, you can set `force_col_wise=true`.\n",
      "[LightGBM] [Info] Total Bins 331\n",
      "[LightGBM] [Info] Number of data points in the train set: 1070, number of used features: 14\n",
      "[LightGBM] [Info] Start training from score 13346.089733\n"
     ]
    },
    {
     "data": {
      "text/html": [
       "<pre style=\"white-space:pre;overflow-x:auto;line-height:normal;font-family:Menlo,'DejaVu Sans Mono',consolas,'Courier New',monospace\">Model: <span style=\"font-weight: bold\">&lt;</span><span style=\"color: #ff00ff; text-decoration-color: #ff00ff; font-weight: bold\">class</span><span style=\"color: #000000; text-decoration-color: #000000\"> </span><span style=\"color: #008000; text-decoration-color: #008000\">'lightgbm.sklearn.LGBMRegressor'</span><span style=\"font-weight: bold\">&gt;</span>\n",
       "</pre>\n"
      ],
      "text/plain": [
       "Model: \u001b[1m<\u001b[0m\u001b[1;95mclass\u001b[0m\u001b[39m \u001b[0m\u001b[32m'lightgbm.sklearn.LGBMRegressor'\u001b[0m\u001b[1m>\u001b[0m\n"
      ]
     },
     "metadata": {},
     "output_type": "display_data"
    },
    {
     "data": {
      "text/html": [
       "<pre style=\"white-space:pre;overflow-x:auto;line-height:normal;font-family:Menlo,'DejaVu Sans Mono',consolas,'Courier New',monospace\">Mean Squared Error: <span style=\"color: #008080; text-decoration-color: #008080; font-weight: bold\">20205774.025244117</span>\n",
       "</pre>\n"
      ],
      "text/plain": [
       "Mean Squared Error: \u001b[1;36m20205774.025244117\u001b[0m\n"
      ]
     },
     "metadata": {},
     "output_type": "display_data"
    },
    {
     "data": {
      "text/html": [
       "<pre style=\"white-space:pre;overflow-x:auto;line-height:normal;font-family:Menlo,'DejaVu Sans Mono',consolas,'Courier New',monospace\">Mean Absolute Error: <span style=\"color: #008080; text-decoration-color: #008080; font-weight: bold\">2579.672817617155</span>\n",
       "</pre>\n"
      ],
      "text/plain": [
       "Mean Absolute Error: \u001b[1;36m2579.672817617155\u001b[0m\n"
      ]
     },
     "metadata": {},
     "output_type": "display_data"
    },
    {
     "data": {
      "text/html": [
       "<pre style=\"white-space:pre;overflow-x:auto;line-height:normal;font-family:Menlo,'DejaVu Sans Mono',consolas,'Courier New',monospace\">r2 score: <span style=\"color: #008080; text-decoration-color: #008080; font-weight: bold\">0.8698490233634224</span>\n",
       "</pre>\n"
      ],
      "text/plain": [
       "r2 score: \u001b[1;36m0.8698490233634224\u001b[0m\n"
      ]
     },
     "metadata": {},
     "output_type": "display_data"
    },
    {
     "data": {
      "text/html": [
       "<pre style=\"white-space:pre;overflow-x:auto;line-height:normal;font-family:Menlo,'DejaVu Sans Mono',consolas,'Courier New',monospace\">\n",
       "Model Results: \n",
       "</pre>\n"
      ],
      "text/plain": [
       "\n",
       "Model Results: \n"
      ]
     },
     "metadata": {},
     "output_type": "display_data"
    },
    {
     "data": {
      "text/html": [
       "<pre style=\"white-space:pre;overflow-x:auto;line-height:normal;font-family:Menlo,'DejaVu Sans Mono',consolas,'Courier New',monospace\"><span style=\"font-weight: bold\">{</span>\n",
       "    <span style=\"color: #008000; text-decoration-color: #008000\">\"&lt;class 'xgboost.sklearn.XGBRegressor'&gt;\"</span><span style=\"color: #000000; text-decoration-color: #000000\">: </span><span style=\"color: #008080; text-decoration-color: #008080; font-weight: bold\">0.8831712707099375</span><span style=\"color: #000000; text-decoration-color: #000000\">,</span>\n",
       "<span style=\"color: #000000; text-decoration-color: #000000\">    </span><span style=\"color: #008000; text-decoration-color: #008000\">\"&lt;class 'sklearn.tree._classes.DecisionTreeRegressor'&gt;\"</span><span style=\"color: #000000; text-decoration-color: #000000\">: </span><span style=\"color: #008080; text-decoration-color: #008080; font-weight: bold\">0.8711924970216122</span><span style=\"color: #000000; text-decoration-color: #000000\">,</span>\n",
       "<span style=\"color: #000000; text-decoration-color: #000000\">    </span><span style=\"color: #008000; text-decoration-color: #008000\">\"&lt;class 'lightgbm.sklearn.LGBMRegressor'&gt;\"</span><span style=\"color: #000000; text-decoration-color: #000000\">: </span><span style=\"color: #008080; text-decoration-color: #008080; font-weight: bold\">0.8698490233634224</span><span style=\"color: #000000; text-decoration-color: #000000\">,</span>\n",
       "<span style=\"color: #000000; text-decoration-color: #000000\">    </span><span style=\"color: #008000; text-decoration-color: #008000\">\"&lt;class 'sklearn.ensemble._forest.RandomForestRegressor'&gt;\"</span><span style=\"color: #000000; text-decoration-color: #000000\">: </span><span style=\"color: #008080; text-decoration-color: #008080; font-weight: bold\">0.8635485272922818</span><span style=\"color: #000000; text-decoration-color: #000000\">,</span>\n",
       "<span style=\"color: #000000; text-decoration-color: #000000\">    </span><span style=\"color: #008000; text-decoration-color: #008000\">\"&lt;class 'catboost.core.CatBoostRegressor'&gt;\"</span><span style=\"color: #000000; text-decoration-color: #000000\">: </span><span style=\"color: #008080; text-decoration-color: #008080; font-weight: bold\">0.8622081823861186</span><span style=\"color: #000000; text-decoration-color: #000000\">,</span>\n",
       "<span style=\"color: #000000; text-decoration-color: #000000\">    </span><span style=\"color: #008000; text-decoration-color: #008000\">\"&lt;class 'sklearn.linear_model._base.LinearRegression'&gt;\"</span>: <span style=\"color: #008080; text-decoration-color: #008080; font-weight: bold\">0.7811259063992894</span>\n",
       "<span style=\"font-weight: bold\">}</span>\n",
       "\n",
       "\n",
       "</pre>\n"
      ],
      "text/plain": [
       "\u001b[1m{\u001b[0m\n",
       "    \u001b[32m\"\u001b[0m\u001b[32m<\u001b[0m\u001b[32mclass\u001b[0m\u001b[32m 'xgboost.sklearn.XGBRegressor'>\"\u001b[0m\u001b[39m: \u001b[0m\u001b[1;36m0.8831712707099375\u001b[0m\u001b[39m,\u001b[0m\n",
       "\u001b[39m    \u001b[0m\u001b[32m\"<class 'sklearn.tree._classes.DecisionTreeRegressor'>\"\u001b[0m\u001b[39m: \u001b[0m\u001b[1;36m0.8711924970216122\u001b[0m\u001b[39m,\u001b[0m\n",
       "\u001b[39m    \u001b[0m\u001b[32m\"<class 'lightgbm.sklearn.LGBMRegressor'>\"\u001b[0m\u001b[39m: \u001b[0m\u001b[1;36m0.8698490233634224\u001b[0m\u001b[39m,\u001b[0m\n",
       "\u001b[39m    \u001b[0m\u001b[32m\"<class 'sklearn.ensemble._forest.RandomForestRegressor'>\"\u001b[0m\u001b[39m: \u001b[0m\u001b[1;36m0.8635485272922818\u001b[0m\u001b[39m,\u001b[0m\n",
       "\u001b[39m    \u001b[0m\u001b[32m\"<class 'catboost.core.CatBoostRegressor'>\"\u001b[0m\u001b[39m: \u001b[0m\u001b[1;36m0.8622081823861186\u001b[0m\u001b[39m,\u001b[0m\n",
       "\u001b[39m    \u001b[0m\u001b[32m\"<class 'sklearn.linear_model._base.LinearRegression'\u001b[0m\u001b[32m>\u001b[0m\u001b[32m\"\u001b[0m: \u001b[1;36m0.7811259063992894\u001b[0m\n",
       "\u001b[1m}\u001b[0m\n",
       "\n",
       "\n"
      ]
     },
     "metadata": {},
     "output_type": "display_data"
    }
   ],
   "source": [
    "from sklearn.ensemble import RandomForestRegressor\n",
    "from sklearn.tree import DecisionTreeRegressor\n",
    "from catboost import CatBoostRegressor\n",
    "\n",
    "results_dict = {}\n",
    "\n",
    "\n",
    "# Have hyperparameter tuned\n",
    "dtr = DecisionTreeRegressor(\n",
    "    criterion=\"absolute_error\",\n",
    "    max_depth=5,\n",
    "    max_features=None,\n",
    "    max_leaf_nodes=None,\n",
    "    min_samples_leaf=5,\n",
    "    min_samples_split=2,\n",
    ")\n",
    "xgr = XGBRegressor(\n",
    "    colsample_bytree=1.0,\n",
    "    learning_rate=0.01,\n",
    "    max_depth=3,\n",
    "    min_child_weight=5,\n",
    "    n_estimators=300,\n",
    "    subsample=0.8,\n",
    ")\n",
    "xgr_optunaed = XGBRegressor(\n",
    "    learning_rate=0.02320542296870936,\n",
    "    max_depth=2,\n",
    "    min_child_weight=4,\n",
    "    n_estimators=325,\n",
    "    subsample=0.7696763482800417,\n",
    "    colsample_bytree=0.6624305100711059,\n",
    "    gamma=1.0734011514931848e-08,\n",
    "    reg_alpha=1.0811494165849225,\n",
    "    reg_lambda=1.2373677652130754e-07,\n",
    ")\n",
    "\n",
    "# Need to hyperparameter tune\n",
    "lr = LinearRegression()\n",
    "rfr = RandomForestRegressor()\n",
    "lgb = LGBMRegressor()\n",
    "cbr = CatBoostRegressor(loss_function=\"RMSE\", verbose=100)\n",
    "\n",
    "models = [lr, rfr, dtr, xgr, xgr_optunaed, cbr, lgb]\n",
    "\n",
    "for mod in models:\n",
    "    preds, r2_result, mod_t = fit_and_predict(X_train, X_test, y_train, y_test, mod)\n",
    "    results_dict[str(mod_t.__class__)] = r2_result\n",
    "\n",
    "# Sort the results so the best is first (based on r2 score)\n",
    "results_dict = dict(\n",
    "    sorted(results_dict.items(), key=lambda item: item[1], reverse=True)\n",
    ")\n",
    "print(\"Model Results: \")\n",
    "print(results_dict, \"\\n\")"
   ]
  },
  {
   "cell_type": "markdown",
   "metadata": {},
   "source": [
    "## Hyperparameter Tuning"
   ]
  },
  {
   "cell_type": "markdown",
   "metadata": {},
   "source": [
    "### XGBoost Gridsearch CV"
   ]
  },
  {
   "cell_type": "code",
   "execution_count": 26,
   "metadata": {},
   "outputs": [
    {
     "data": {
      "text/html": [
       "<pre style=\"white-space:pre;overflow-x:auto;line-height:normal;font-family:Menlo,'DejaVu Sans Mono',consolas,'Courier New',monospace\"></pre>\n"
      ],
      "text/plain": []
     },
     "metadata": {},
     "output_type": "display_data"
    },
    {
     "data": {
      "text/plain": [
       "\u001b[32m'\\nparam_grid = \u001b[0m\u001b[32m{\u001b[0m\u001b[32m\\n    \\'n_estimators\\': \u001b[0m\u001b[32m[\u001b[0m\u001b[32m100, 200, 300\u001b[0m\u001b[32m]\u001b[0m\u001b[32m,\\n    \\'learning_rate\\': \u001b[0m\u001b[32m[\u001b[0m\u001b[32m0.01, 0.1, 0.2\u001b[0m\u001b[32m]\u001b[0m\u001b[32m,\\n    \\'max_depth\\': \u001b[0m\u001b[32m[\u001b[0m\u001b[32m3, 4, 5\u001b[0m\u001b[32m]\u001b[0m\u001b[32m,\\n    \\'min_child_weight\\': \u001b[0m\u001b[32m[\u001b[0m\u001b[32m1, 3, 5\u001b[0m\u001b[32m]\u001b[0m\u001b[32m,\\n    \\'subsample\\': \u001b[0m\u001b[32m[\u001b[0m\u001b[32m0.8, 0.9, 1.0\u001b[0m\u001b[32m]\u001b[0m\u001b[32m,\\n    \\'colsample_bytree\\': \u001b[0m\u001b[32m[\u001b[0m\u001b[32m0.8, 0.9, 1.0\u001b[0m\u001b[32m]\u001b[0m\u001b[32m\\n\u001b[0m\u001b[32m}\u001b[0m\u001b[32m\\n \\n# Create an XGBoost model\\nxgb_model = XGBRegressor\u001b[0m\u001b[32m(\u001b[0m\u001b[32m)\u001b[0m\u001b[32m\\n \\n# Perform GridSearchCV\\ngrid_search = GridSearchCV\u001b[0m\u001b[32m(\u001b[0m\u001b[32mxgb_model, param_grid, \u001b[0m\u001b[32mcv\u001b[0m\u001b[32m=\u001b[0m\u001b[32m5\u001b[0m\u001b[32m, \u001b[0m\u001b[32mscoring\u001b[0m\u001b[32m=\\'r2\\'\u001b[0m\u001b[32m)\u001b[0m\u001b[32m\\ngrid_search.fit\u001b[0m\u001b[32m(\u001b[0m\u001b[32mX_train, y_train\u001b[0m\u001b[32m)\u001b[0m\u001b[32m\\n \\n# Get the best hyperparameters\\nbest_params = grid_search.best_params_\\n \\n# Fit the model with the best hyperparameters on the entire dataset\\nbest_model = grid_search.best_estimator_\\nbest_model.fit\u001b[0m\u001b[32m(\u001b[0m\u001b[32mX_train, y_train\u001b[0m\u001b[32m)\u001b[0m\u001b[32m\\n \\n# Evaluate the best model on the test set\\nr2 = best_model.score\u001b[0m\u001b[32m(\u001b[0m\u001b[32mX_test, y_test\u001b[0m\u001b[32m)\u001b[0m\u001b[32m\\nprint\u001b[0m\u001b[32m(\u001b[0m\u001b[32mf\"Best Hyperparameters: \u001b[0m\u001b[32m{\u001b[0m\u001b[32mbest_params\u001b[0m\u001b[32m}\u001b[0m\u001b[32m\"\u001b[0m\u001b[32m)\u001b[0m\u001b[32m\\nprint\u001b[0m\u001b[32m(\u001b[0m\u001b[32mf\"Accuracy on test set: \u001b[0m\u001b[32m{\u001b[0m\u001b[32mr2:.2f\u001b[0m\u001b[32m}\u001b[0m\u001b[32m\"\u001b[0m\u001b[32m)\u001b[0m\u001b[32m'\u001b[0m"
      ]
     },
     "execution_count": 26,
     "metadata": {},
     "output_type": "execute_result"
    }
   ],
   "source": [
    "from sklearn.model_selection import GridSearchCV\n",
    "\n",
    "\"\"\"\n",
    "param_grid = {\n",
    "    'n_estimators': [100, 200, 300],\n",
    "    'learning_rate': [0.01, 0.1, 0.2],\n",
    "    'max_depth': [3, 4, 5],\n",
    "    'min_child_weight': [1, 3, 5],\n",
    "    'subsample': [0.8, 0.9, 1.0],\n",
    "    'colsample_bytree': [0.8, 0.9, 1.0]\n",
    "}\n",
    " \n",
    "# Create an XGBoost model\n",
    "xgb_model = XGBRegressor()\n",
    " \n",
    "# Perform GridSearchCV\n",
    "grid_search = GridSearchCV(xgb_model, param_grid, cv=5, scoring='r2')\n",
    "grid_search.fit(X_train, y_train)\n",
    " \n",
    "# Get the best hyperparameters\n",
    "best_params = grid_search.best_params_\n",
    " \n",
    "# Fit the model with the best hyperparameters on the entire dataset\n",
    "best_model = grid_search.best_estimator_\n",
    "best_model.fit(X_train, y_train)\n",
    " \n",
    "# Evaluate the best model on the test set\n",
    "r2 = best_model.score(X_test, y_test)\n",
    "print(f\"Best Hyperparameters: {best_params}\")\n",
    "print(f\"Accuracy on test set: {r2:.2f}\")\"\"\""
   ]
  },
  {
   "cell_type": "markdown",
   "metadata": {},
   "source": [
    "### XGB regressor gave a good r2 score after hyperparameter tuning, can it be better?\n",
    "\n",
    "- Previous score: 0.8779103461244412\n",
    "- Optuna tuned: 0.8831712707099375\n",
    "\n",
    "Yes! A small increase!"
   ]
  },
  {
   "cell_type": "markdown",
   "metadata": {},
   "source": [
    "### Hyperparameter tuning with optuna "
   ]
  },
  {
   "cell_type": "code",
   "execution_count": null,
   "metadata": {},
   "outputs": [
    {
     "name": "stderr",
     "output_type": "stream",
     "text": [
      "[I 2024-11-20 18:45:02,945] A new study created in RDB with name: XGBR_study\n",
      "/var/folders/xh/fvvnghrs13n5sqcsmprbn_c80000gn/T/ipykernel_94415/2153949471.py:7: FutureWarning: suggest_loguniform has been deprecated in v3.0.0. This feature will be removed in v6.0.0. See https://github.com/optuna/optuna/releases/tag/v3.0.0. Use suggest_float(..., log=True) instead.\n",
      "  'learning_rate': trial.suggest_loguniform('learning_rate', 0.005, 0.05),\n",
      "/var/folders/xh/fvvnghrs13n5sqcsmprbn_c80000gn/T/ipykernel_94415/2153949471.py:11: FutureWarning: suggest_uniform has been deprecated in v3.0.0. This feature will be removed in v6.0.0. See https://github.com/optuna/optuna/releases/tag/v3.0.0. Use suggest_float instead.\n",
      "  'subsample': trial.suggest_uniform('subsample', 0.5, 1.0),\n",
      "/var/folders/xh/fvvnghrs13n5sqcsmprbn_c80000gn/T/ipykernel_94415/2153949471.py:12: FutureWarning: suggest_uniform has been deprecated in v3.0.0. This feature will be removed in v6.0.0. See https://github.com/optuna/optuna/releases/tag/v3.0.0. Use suggest_float instead.\n",
      "  'colsample_bytree': trial.suggest_uniform('colsample_bytree', 0.6, 1.0),\n",
      "/var/folders/xh/fvvnghrs13n5sqcsmprbn_c80000gn/T/ipykernel_94415/2153949471.py:13: FutureWarning: suggest_loguniform has been deprecated in v3.0.0. This feature will be removed in v6.0.0. See https://github.com/optuna/optuna/releases/tag/v3.0.0. Use suggest_float(..., log=True) instead.\n",
      "  'gamma': trial.suggest_loguniform('gamma', 1e-8, 1.0),\n",
      "/var/folders/xh/fvvnghrs13n5sqcsmprbn_c80000gn/T/ipykernel_94415/2153949471.py:14: FutureWarning: suggest_loguniform has been deprecated in v3.0.0. This feature will be removed in v6.0.0. See https://github.com/optuna/optuna/releases/tag/v3.0.0. Use suggest_float(..., log=True) instead.\n",
      "  'reg_alpha': trial.suggest_loguniform('reg_alpha', 1e-8, 10.0),\n",
      "/var/folders/xh/fvvnghrs13n5sqcsmprbn_c80000gn/T/ipykernel_94415/2153949471.py:15: FutureWarning: suggest_loguniform has been deprecated in v3.0.0. This feature will be removed in v6.0.0. See https://github.com/optuna/optuna/releases/tag/v3.0.0. Use suggest_float(..., log=True) instead.\n",
      "  'reg_lambda': trial.suggest_loguniform('reg_lambda', 1e-8, 10.0)\n",
      "[I 2024-11-20 18:45:04,070] Trial 0 finished with value: 0.8334028664913103 and parameters: {'learning_rate': 0.017884842057099316, 'max_depth': 5, 'min_child_weight': 4, 'n_estimators': 373, 'subsample': 0.8232043636970547, 'colsample_bytree': 0.7877234340436994, 'gamma': 1.4216242163003046e-07, 'reg_alpha': 0.00015371280935780877, 'reg_lambda': 1.7048262332553375e-07}. Best is trial 0 with value: 0.8334028664913103.\n",
      "/var/folders/xh/fvvnghrs13n5sqcsmprbn_c80000gn/T/ipykernel_94415/2153949471.py:7: FutureWarning: suggest_loguniform has been deprecated in v3.0.0. This feature will be removed in v6.0.0. See https://github.com/optuna/optuna/releases/tag/v3.0.0. Use suggest_float(..., log=True) instead.\n",
      "  'learning_rate': trial.suggest_loguniform('learning_rate', 0.005, 0.05),\n",
      "/var/folders/xh/fvvnghrs13n5sqcsmprbn_c80000gn/T/ipykernel_94415/2153949471.py:11: FutureWarning: suggest_uniform has been deprecated in v3.0.0. This feature will be removed in v6.0.0. See https://github.com/optuna/optuna/releases/tag/v3.0.0. Use suggest_float instead.\n",
      "  'subsample': trial.suggest_uniform('subsample', 0.5, 1.0),\n",
      "/var/folders/xh/fvvnghrs13n5sqcsmprbn_c80000gn/T/ipykernel_94415/2153949471.py:12: FutureWarning: suggest_uniform has been deprecated in v3.0.0. This feature will be removed in v6.0.0. See https://github.com/optuna/optuna/releases/tag/v3.0.0. Use suggest_float instead.\n",
      "  'colsample_bytree': trial.suggest_uniform('colsample_bytree', 0.6, 1.0),\n",
      "/var/folders/xh/fvvnghrs13n5sqcsmprbn_c80000gn/T/ipykernel_94415/2153949471.py:13: FutureWarning: suggest_loguniform has been deprecated in v3.0.0. This feature will be removed in v6.0.0. See https://github.com/optuna/optuna/releases/tag/v3.0.0. Use suggest_float(..., log=True) instead.\n",
      "  'gamma': trial.suggest_loguniform('gamma', 1e-8, 1.0),\n",
      "/var/folders/xh/fvvnghrs13n5sqcsmprbn_c80000gn/T/ipykernel_94415/2153949471.py:14: FutureWarning: suggest_loguniform has been deprecated in v3.0.0. This feature will be removed in v6.0.0. See https://github.com/optuna/optuna/releases/tag/v3.0.0. Use suggest_float(..., log=True) instead.\n",
      "  'reg_alpha': trial.suggest_loguniform('reg_alpha', 1e-8, 10.0),\n",
      "/var/folders/xh/fvvnghrs13n5sqcsmprbn_c80000gn/T/ipykernel_94415/2153949471.py:15: FutureWarning: suggest_loguniform has been deprecated in v3.0.0. This feature will be removed in v6.0.0. See https://github.com/optuna/optuna/releases/tag/v3.0.0. Use suggest_float(..., log=True) instead.\n",
      "  'reg_lambda': trial.suggest_loguniform('reg_lambda', 1e-8, 10.0)\n",
      "[I 2024-11-20 18:45:05,119] Trial 1 finished with value: 0.8384168738258256 and parameters: {'learning_rate': 0.01664446442471922, 'max_depth': 5, 'min_child_weight': 7, 'n_estimators': 351, 'subsample': 0.8964328602659105, 'colsample_bytree': 0.835457324309089, 'gamma': 0.0006559179235571936, 'reg_alpha': 1.7802899714310807e-08, 'reg_lambda': 0.0008000093250559179}. Best is trial 1 with value: 0.8384168738258256.\n",
      "/var/folders/xh/fvvnghrs13n5sqcsmprbn_c80000gn/T/ipykernel_94415/2153949471.py:7: FutureWarning: suggest_loguniform has been deprecated in v3.0.0. This feature will be removed in v6.0.0. See https://github.com/optuna/optuna/releases/tag/v3.0.0. Use suggest_float(..., log=True) instead.\n",
      "  'learning_rate': trial.suggest_loguniform('learning_rate', 0.005, 0.05),\n",
      "/var/folders/xh/fvvnghrs13n5sqcsmprbn_c80000gn/T/ipykernel_94415/2153949471.py:11: FutureWarning: suggest_uniform has been deprecated in v3.0.0. This feature will be removed in v6.0.0. See https://github.com/optuna/optuna/releases/tag/v3.0.0. Use suggest_float instead.\n",
      "  'subsample': trial.suggest_uniform('subsample', 0.5, 1.0),\n",
      "/var/folders/xh/fvvnghrs13n5sqcsmprbn_c80000gn/T/ipykernel_94415/2153949471.py:12: FutureWarning: suggest_uniform has been deprecated in v3.0.0. This feature will be removed in v6.0.0. See https://github.com/optuna/optuna/releases/tag/v3.0.0. Use suggest_float instead.\n",
      "  'colsample_bytree': trial.suggest_uniform('colsample_bytree', 0.6, 1.0),\n",
      "/var/folders/xh/fvvnghrs13n5sqcsmprbn_c80000gn/T/ipykernel_94415/2153949471.py:13: FutureWarning: suggest_loguniform has been deprecated in v3.0.0. This feature will be removed in v6.0.0. See https://github.com/optuna/optuna/releases/tag/v3.0.0. Use suggest_float(..., log=True) instead.\n",
      "  'gamma': trial.suggest_loguniform('gamma', 1e-8, 1.0),\n",
      "/var/folders/xh/fvvnghrs13n5sqcsmprbn_c80000gn/T/ipykernel_94415/2153949471.py:14: FutureWarning: suggest_loguniform has been deprecated in v3.0.0. This feature will be removed in v6.0.0. See https://github.com/optuna/optuna/releases/tag/v3.0.0. Use suggest_float(..., log=True) instead.\n",
      "  'reg_alpha': trial.suggest_loguniform('reg_alpha', 1e-8, 10.0),\n",
      "/var/folders/xh/fvvnghrs13n5sqcsmprbn_c80000gn/T/ipykernel_94415/2153949471.py:15: FutureWarning: suggest_loguniform has been deprecated in v3.0.0. This feature will be removed in v6.0.0. See https://github.com/optuna/optuna/releases/tag/v3.0.0. Use suggest_float(..., log=True) instead.\n",
      "  'reg_lambda': trial.suggest_loguniform('reg_lambda', 1e-8, 10.0)\n",
      "[I 2024-11-20 18:45:05,392] Trial 2 finished with value: 0.8448996056688647 and parameters: {'learning_rate': 0.02226807222071071, 'max_depth': 3, 'min_child_weight': 1, 'n_estimators': 125, 'subsample': 0.6305488610660173, 'colsample_bytree': 0.7188336095651966, 'gamma': 0.0007272533838768823, 'reg_alpha': 6.194660452033815e-08, 'reg_lambda': 7.489330757778814e-07}. Best is trial 2 with value: 0.8448996056688647.\n",
      "/var/folders/xh/fvvnghrs13n5sqcsmprbn_c80000gn/T/ipykernel_94415/2153949471.py:7: FutureWarning: suggest_loguniform has been deprecated in v3.0.0. This feature will be removed in v6.0.0. See https://github.com/optuna/optuna/releases/tag/v3.0.0. Use suggest_float(..., log=True) instead.\n",
      "  'learning_rate': trial.suggest_loguniform('learning_rate', 0.005, 0.05),\n",
      "/var/folders/xh/fvvnghrs13n5sqcsmprbn_c80000gn/T/ipykernel_94415/2153949471.py:11: FutureWarning: suggest_uniform has been deprecated in v3.0.0. This feature will be removed in v6.0.0. See https://github.com/optuna/optuna/releases/tag/v3.0.0. Use suggest_float instead.\n",
      "  'subsample': trial.suggest_uniform('subsample', 0.5, 1.0),\n",
      "/var/folders/xh/fvvnghrs13n5sqcsmprbn_c80000gn/T/ipykernel_94415/2153949471.py:12: FutureWarning: suggest_uniform has been deprecated in v3.0.0. This feature will be removed in v6.0.0. See https://github.com/optuna/optuna/releases/tag/v3.0.0. Use suggest_float instead.\n",
      "  'colsample_bytree': trial.suggest_uniform('colsample_bytree', 0.6, 1.0),\n",
      "/var/folders/xh/fvvnghrs13n5sqcsmprbn_c80000gn/T/ipykernel_94415/2153949471.py:13: FutureWarning: suggest_loguniform has been deprecated in v3.0.0. This feature will be removed in v6.0.0. See https://github.com/optuna/optuna/releases/tag/v3.0.0. Use suggest_float(..., log=True) instead.\n",
      "  'gamma': trial.suggest_loguniform('gamma', 1e-8, 1.0),\n",
      "/var/folders/xh/fvvnghrs13n5sqcsmprbn_c80000gn/T/ipykernel_94415/2153949471.py:14: FutureWarning: suggest_loguniform has been deprecated in v3.0.0. This feature will be removed in v6.0.0. See https://github.com/optuna/optuna/releases/tag/v3.0.0. Use suggest_float(..., log=True) instead.\n",
      "  'reg_alpha': trial.suggest_loguniform('reg_alpha', 1e-8, 10.0),\n",
      "/var/folders/xh/fvvnghrs13n5sqcsmprbn_c80000gn/T/ipykernel_94415/2153949471.py:15: FutureWarning: suggest_loguniform has been deprecated in v3.0.0. This feature will be removed in v6.0.0. See https://github.com/optuna/optuna/releases/tag/v3.0.0. Use suggest_float(..., log=True) instead.\n",
      "  'reg_lambda': trial.suggest_loguniform('reg_lambda', 1e-8, 10.0)\n",
      "[I 2024-11-20 18:45:05,890] Trial 3 finished with value: 0.7989386734909237 and parameters: {'learning_rate': 0.005434686954292478, 'max_depth': 2, 'min_child_weight': 2, 'n_estimators': 358, 'subsample': 0.7558942860981805, 'colsample_bytree': 0.6428365382904907, 'gamma': 4.835246091352214e-07, 'reg_alpha': 0.1362440898293701, 'reg_lambda': 0.12315048607496541}. Best is trial 2 with value: 0.8448996056688647.\n",
      "/var/folders/xh/fvvnghrs13n5sqcsmprbn_c80000gn/T/ipykernel_94415/2153949471.py:7: FutureWarning: suggest_loguniform has been deprecated in v3.0.0. This feature will be removed in v6.0.0. See https://github.com/optuna/optuna/releases/tag/v3.0.0. Use suggest_float(..., log=True) instead.\n",
      "  'learning_rate': trial.suggest_loguniform('learning_rate', 0.005, 0.05),\n",
      "/var/folders/xh/fvvnghrs13n5sqcsmprbn_c80000gn/T/ipykernel_94415/2153949471.py:11: FutureWarning: suggest_uniform has been deprecated in v3.0.0. This feature will be removed in v6.0.0. See https://github.com/optuna/optuna/releases/tag/v3.0.0. Use suggest_float instead.\n",
      "  'subsample': trial.suggest_uniform('subsample', 0.5, 1.0),\n",
      "/var/folders/xh/fvvnghrs13n5sqcsmprbn_c80000gn/T/ipykernel_94415/2153949471.py:12: FutureWarning: suggest_uniform has been deprecated in v3.0.0. This feature will be removed in v6.0.0. See https://github.com/optuna/optuna/releases/tag/v3.0.0. Use suggest_float instead.\n",
      "  'colsample_bytree': trial.suggest_uniform('colsample_bytree', 0.6, 1.0),\n",
      "/var/folders/xh/fvvnghrs13n5sqcsmprbn_c80000gn/T/ipykernel_94415/2153949471.py:13: FutureWarning: suggest_loguniform has been deprecated in v3.0.0. This feature will be removed in v6.0.0. See https://github.com/optuna/optuna/releases/tag/v3.0.0. Use suggest_float(..., log=True) instead.\n",
      "  'gamma': trial.suggest_loguniform('gamma', 1e-8, 1.0),\n",
      "/var/folders/xh/fvvnghrs13n5sqcsmprbn_c80000gn/T/ipykernel_94415/2153949471.py:14: FutureWarning: suggest_loguniform has been deprecated in v3.0.0. This feature will be removed in v6.0.0. See https://github.com/optuna/optuna/releases/tag/v3.0.0. Use suggest_float(..., log=True) instead.\n",
      "  'reg_alpha': trial.suggest_loguniform('reg_alpha', 1e-8, 10.0),\n",
      "/var/folders/xh/fvvnghrs13n5sqcsmprbn_c80000gn/T/ipykernel_94415/2153949471.py:15: FutureWarning: suggest_loguniform has been deprecated in v3.0.0. This feature will be removed in v6.0.0. See https://github.com/optuna/optuna/releases/tag/v3.0.0. Use suggest_float(..., log=True) instead.\n",
      "  'reg_lambda': trial.suggest_loguniform('reg_lambda', 1e-8, 10.0)\n",
      "[I 2024-11-20 18:45:06,220] Trial 4 finished with value: 0.5882034097849013 and parameters: {'learning_rate': 0.006647347794142019, 'max_depth': 5, 'min_child_weight': 10, 'n_estimators': 105, 'subsample': 0.6151437175514414, 'colsample_bytree': 0.7032626875465994, 'gamma': 4.400328950496949e-05, 'reg_alpha': 0.0008973943274972793, 'reg_lambda': 0.14734350842471394}. Best is trial 2 with value: 0.8448996056688647.\n",
      "/var/folders/xh/fvvnghrs13n5sqcsmprbn_c80000gn/T/ipykernel_94415/2153949471.py:7: FutureWarning: suggest_loguniform has been deprecated in v3.0.0. This feature will be removed in v6.0.0. See https://github.com/optuna/optuna/releases/tag/v3.0.0. Use suggest_float(..., log=True) instead.\n",
      "  'learning_rate': trial.suggest_loguniform('learning_rate', 0.005, 0.05),\n",
      "/var/folders/xh/fvvnghrs13n5sqcsmprbn_c80000gn/T/ipykernel_94415/2153949471.py:11: FutureWarning: suggest_uniform has been deprecated in v3.0.0. This feature will be removed in v6.0.0. See https://github.com/optuna/optuna/releases/tag/v3.0.0. Use suggest_float instead.\n",
      "  'subsample': trial.suggest_uniform('subsample', 0.5, 1.0),\n",
      "/var/folders/xh/fvvnghrs13n5sqcsmprbn_c80000gn/T/ipykernel_94415/2153949471.py:12: FutureWarning: suggest_uniform has been deprecated in v3.0.0. This feature will be removed in v6.0.0. See https://github.com/optuna/optuna/releases/tag/v3.0.0. Use suggest_float instead.\n",
      "  'colsample_bytree': trial.suggest_uniform('colsample_bytree', 0.6, 1.0),\n",
      "/var/folders/xh/fvvnghrs13n5sqcsmprbn_c80000gn/T/ipykernel_94415/2153949471.py:13: FutureWarning: suggest_loguniform has been deprecated in v3.0.0. This feature will be removed in v6.0.0. See https://github.com/optuna/optuna/releases/tag/v3.0.0. Use suggest_float(..., log=True) instead.\n",
      "  'gamma': trial.suggest_loguniform('gamma', 1e-8, 1.0),\n",
      "/var/folders/xh/fvvnghrs13n5sqcsmprbn_c80000gn/T/ipykernel_94415/2153949471.py:14: FutureWarning: suggest_loguniform has been deprecated in v3.0.0. This feature will be removed in v6.0.0. See https://github.com/optuna/optuna/releases/tag/v3.0.0. Use suggest_float(..., log=True) instead.\n",
      "  'reg_alpha': trial.suggest_loguniform('reg_alpha', 1e-8, 10.0),\n",
      "/var/folders/xh/fvvnghrs13n5sqcsmprbn_c80000gn/T/ipykernel_94415/2153949471.py:15: FutureWarning: suggest_loguniform has been deprecated in v3.0.0. This feature will be removed in v6.0.0. See https://github.com/optuna/optuna/releases/tag/v3.0.0. Use suggest_float(..., log=True) instead.\n",
      "  'reg_lambda': trial.suggest_loguniform('reg_lambda', 1e-8, 10.0)\n",
      "[I 2024-11-20 18:45:06,907] Trial 5 finished with value: 0.8420380489470928 and parameters: {'learning_rate': 0.00895161250926444, 'max_depth': 4, 'min_child_weight': 10, 'n_estimators': 255, 'subsample': 0.8778388680679571, 'colsample_bytree': 0.9173582340937443, 'gamma': 3.1395186701701333e-06, 'reg_alpha': 0.0006765018412221901, 'reg_lambda': 0.008972299899653025}. Best is trial 2 with value: 0.8448996056688647.\n",
      "/var/folders/xh/fvvnghrs13n5sqcsmprbn_c80000gn/T/ipykernel_94415/2153949471.py:7: FutureWarning: suggest_loguniform has been deprecated in v3.0.0. This feature will be removed in v6.0.0. See https://github.com/optuna/optuna/releases/tag/v3.0.0. Use suggest_float(..., log=True) instead.\n",
      "  'learning_rate': trial.suggest_loguniform('learning_rate', 0.005, 0.05),\n",
      "/var/folders/xh/fvvnghrs13n5sqcsmprbn_c80000gn/T/ipykernel_94415/2153949471.py:11: FutureWarning: suggest_uniform has been deprecated in v3.0.0. This feature will be removed in v6.0.0. See https://github.com/optuna/optuna/releases/tag/v3.0.0. Use suggest_float instead.\n",
      "  'subsample': trial.suggest_uniform('subsample', 0.5, 1.0),\n",
      "/var/folders/xh/fvvnghrs13n5sqcsmprbn_c80000gn/T/ipykernel_94415/2153949471.py:12: FutureWarning: suggest_uniform has been deprecated in v3.0.0. This feature will be removed in v6.0.0. See https://github.com/optuna/optuna/releases/tag/v3.0.0. Use suggest_float instead.\n",
      "  'colsample_bytree': trial.suggest_uniform('colsample_bytree', 0.6, 1.0),\n",
      "/var/folders/xh/fvvnghrs13n5sqcsmprbn_c80000gn/T/ipykernel_94415/2153949471.py:13: FutureWarning: suggest_loguniform has been deprecated in v3.0.0. This feature will be removed in v6.0.0. See https://github.com/optuna/optuna/releases/tag/v3.0.0. Use suggest_float(..., log=True) instead.\n",
      "  'gamma': trial.suggest_loguniform('gamma', 1e-8, 1.0),\n",
      "/var/folders/xh/fvvnghrs13n5sqcsmprbn_c80000gn/T/ipykernel_94415/2153949471.py:14: FutureWarning: suggest_loguniform has been deprecated in v3.0.0. This feature will be removed in v6.0.0. See https://github.com/optuna/optuna/releases/tag/v3.0.0. Use suggest_float(..., log=True) instead.\n",
      "  'reg_alpha': trial.suggest_loguniform('reg_alpha', 1e-8, 10.0),\n",
      "/var/folders/xh/fvvnghrs13n5sqcsmprbn_c80000gn/T/ipykernel_94415/2153949471.py:15: FutureWarning: suggest_loguniform has been deprecated in v3.0.0. This feature will be removed in v6.0.0. See https://github.com/optuna/optuna/releases/tag/v3.0.0. Use suggest_float(..., log=True) instead.\n",
      "  'reg_lambda': trial.suggest_loguniform('reg_lambda', 1e-8, 10.0)\n",
      "[I 2024-11-20 18:45:07,746] Trial 6 finished with value: 0.8486923685878077 and parameters: {'learning_rate': 0.008850637883633971, 'max_depth': 3, 'min_child_weight': 4, 'n_estimators': 428, 'subsample': 0.7608688071162334, 'colsample_bytree': 0.6853232762223829, 'gamma': 1.542661399703865e-08, 'reg_alpha': 5.9143581793750014e-08, 'reg_lambda': 6.653862057365564}. Best is trial 6 with value: 0.8486923685878077.\n",
      "/var/folders/xh/fvvnghrs13n5sqcsmprbn_c80000gn/T/ipykernel_94415/2153949471.py:7: FutureWarning: suggest_loguniform has been deprecated in v3.0.0. This feature will be removed in v6.0.0. See https://github.com/optuna/optuna/releases/tag/v3.0.0. Use suggest_float(..., log=True) instead.\n",
      "  'learning_rate': trial.suggest_loguniform('learning_rate', 0.005, 0.05),\n",
      "/var/folders/xh/fvvnghrs13n5sqcsmprbn_c80000gn/T/ipykernel_94415/2153949471.py:11: FutureWarning: suggest_uniform has been deprecated in v3.0.0. This feature will be removed in v6.0.0. See https://github.com/optuna/optuna/releases/tag/v3.0.0. Use suggest_float instead.\n",
      "  'subsample': trial.suggest_uniform('subsample', 0.5, 1.0),\n",
      "/var/folders/xh/fvvnghrs13n5sqcsmprbn_c80000gn/T/ipykernel_94415/2153949471.py:12: FutureWarning: suggest_uniform has been deprecated in v3.0.0. This feature will be removed in v6.0.0. See https://github.com/optuna/optuna/releases/tag/v3.0.0. Use suggest_float instead.\n",
      "  'colsample_bytree': trial.suggest_uniform('colsample_bytree', 0.6, 1.0),\n",
      "/var/folders/xh/fvvnghrs13n5sqcsmprbn_c80000gn/T/ipykernel_94415/2153949471.py:13: FutureWarning: suggest_loguniform has been deprecated in v3.0.0. This feature will be removed in v6.0.0. See https://github.com/optuna/optuna/releases/tag/v3.0.0. Use suggest_float(..., log=True) instead.\n",
      "  'gamma': trial.suggest_loguniform('gamma', 1e-8, 1.0),\n",
      "/var/folders/xh/fvvnghrs13n5sqcsmprbn_c80000gn/T/ipykernel_94415/2153949471.py:14: FutureWarning: suggest_loguniform has been deprecated in v3.0.0. This feature will be removed in v6.0.0. See https://github.com/optuna/optuna/releases/tag/v3.0.0. Use suggest_float(..., log=True) instead.\n",
      "  'reg_alpha': trial.suggest_loguniform('reg_alpha', 1e-8, 10.0),\n",
      "/var/folders/xh/fvvnghrs13n5sqcsmprbn_c80000gn/T/ipykernel_94415/2153949471.py:15: FutureWarning: suggest_loguniform has been deprecated in v3.0.0. This feature will be removed in v6.0.0. See https://github.com/optuna/optuna/releases/tag/v3.0.0. Use suggest_float(..., log=True) instead.\n",
      "  'reg_lambda': trial.suggest_loguniform('reg_lambda', 1e-8, 10.0)\n",
      "[I 2024-11-20 18:45:08,226] Trial 7 finished with value: 0.844955514166846 and parameters: {'learning_rate': 0.03046806493440414, 'max_depth': 4, 'min_child_weight': 8, 'n_estimators': 197, 'subsample': 0.9946403415473205, 'colsample_bytree': 0.7203850782214023, 'gamma': 0.0073629851212427926, 'reg_alpha': 1.2924622645071803e-07, 'reg_lambda': 9.324533639353758e-05}. Best is trial 6 with value: 0.8486923685878077.\n",
      "/var/folders/xh/fvvnghrs13n5sqcsmprbn_c80000gn/T/ipykernel_94415/2153949471.py:7: FutureWarning: suggest_loguniform has been deprecated in v3.0.0. This feature will be removed in v6.0.0. See https://github.com/optuna/optuna/releases/tag/v3.0.0. Use suggest_float(..., log=True) instead.\n",
      "  'learning_rate': trial.suggest_loguniform('learning_rate', 0.005, 0.05),\n",
      "/var/folders/xh/fvvnghrs13n5sqcsmprbn_c80000gn/T/ipykernel_94415/2153949471.py:11: FutureWarning: suggest_uniform has been deprecated in v3.0.0. This feature will be removed in v6.0.0. See https://github.com/optuna/optuna/releases/tag/v3.0.0. Use suggest_float instead.\n",
      "  'subsample': trial.suggest_uniform('subsample', 0.5, 1.0),\n",
      "/var/folders/xh/fvvnghrs13n5sqcsmprbn_c80000gn/T/ipykernel_94415/2153949471.py:12: FutureWarning: suggest_uniform has been deprecated in v3.0.0. This feature will be removed in v6.0.0. See https://github.com/optuna/optuna/releases/tag/v3.0.0. Use suggest_float instead.\n",
      "  'colsample_bytree': trial.suggest_uniform('colsample_bytree', 0.6, 1.0),\n",
      "/var/folders/xh/fvvnghrs13n5sqcsmprbn_c80000gn/T/ipykernel_94415/2153949471.py:13: FutureWarning: suggest_loguniform has been deprecated in v3.0.0. This feature will be removed in v6.0.0. See https://github.com/optuna/optuna/releases/tag/v3.0.0. Use suggest_float(..., log=True) instead.\n",
      "  'gamma': trial.suggest_loguniform('gamma', 1e-8, 1.0),\n",
      "/var/folders/xh/fvvnghrs13n5sqcsmprbn_c80000gn/T/ipykernel_94415/2153949471.py:14: FutureWarning: suggest_loguniform has been deprecated in v3.0.0. This feature will be removed in v6.0.0. See https://github.com/optuna/optuna/releases/tag/v3.0.0. Use suggest_float(..., log=True) instead.\n",
      "  'reg_alpha': trial.suggest_loguniform('reg_alpha', 1e-8, 10.0),\n",
      "/var/folders/xh/fvvnghrs13n5sqcsmprbn_c80000gn/T/ipykernel_94415/2153949471.py:15: FutureWarning: suggest_loguniform has been deprecated in v3.0.0. This feature will be removed in v6.0.0. See https://github.com/optuna/optuna/releases/tag/v3.0.0. Use suggest_float(..., log=True) instead.\n",
      "  'reg_lambda': trial.suggest_loguniform('reg_lambda', 1e-8, 10.0)\n",
      "[I 2024-11-20 18:45:10,064] Trial 8 finished with value: 0.8383722182388759 and parameters: {'learning_rate': 0.005822989013463386, 'max_depth': 6, 'min_child_weight': 6, 'n_estimators': 488, 'subsample': 0.8399277339242108, 'colsample_bytree': 0.8629768921968062, 'gamma': 1.2519340067740448e-07, 'reg_alpha': 2.772599357293803, 'reg_lambda': 0.06587686687810357}. Best is trial 6 with value: 0.8486923685878077.\n",
      "/var/folders/xh/fvvnghrs13n5sqcsmprbn_c80000gn/T/ipykernel_94415/2153949471.py:7: FutureWarning: suggest_loguniform has been deprecated in v3.0.0. This feature will be removed in v6.0.0. See https://github.com/optuna/optuna/releases/tag/v3.0.0. Use suggest_float(..., log=True) instead.\n",
      "  'learning_rate': trial.suggest_loguniform('learning_rate', 0.005, 0.05),\n",
      "/var/folders/xh/fvvnghrs13n5sqcsmprbn_c80000gn/T/ipykernel_94415/2153949471.py:11: FutureWarning: suggest_uniform has been deprecated in v3.0.0. This feature will be removed in v6.0.0. See https://github.com/optuna/optuna/releases/tag/v3.0.0. Use suggest_float instead.\n",
      "  'subsample': trial.suggest_uniform('subsample', 0.5, 1.0),\n",
      "/var/folders/xh/fvvnghrs13n5sqcsmprbn_c80000gn/T/ipykernel_94415/2153949471.py:12: FutureWarning: suggest_uniform has been deprecated in v3.0.0. This feature will be removed in v6.0.0. See https://github.com/optuna/optuna/releases/tag/v3.0.0. Use suggest_float instead.\n",
      "  'colsample_bytree': trial.suggest_uniform('colsample_bytree', 0.6, 1.0),\n",
      "/var/folders/xh/fvvnghrs13n5sqcsmprbn_c80000gn/T/ipykernel_94415/2153949471.py:13: FutureWarning: suggest_loguniform has been deprecated in v3.0.0. This feature will be removed in v6.0.0. See https://github.com/optuna/optuna/releases/tag/v3.0.0. Use suggest_float(..., log=True) instead.\n",
      "  'gamma': trial.suggest_loguniform('gamma', 1e-8, 1.0),\n",
      "/var/folders/xh/fvvnghrs13n5sqcsmprbn_c80000gn/T/ipykernel_94415/2153949471.py:14: FutureWarning: suggest_loguniform has been deprecated in v3.0.0. This feature will be removed in v6.0.0. See https://github.com/optuna/optuna/releases/tag/v3.0.0. Use suggest_float(..., log=True) instead.\n",
      "  'reg_alpha': trial.suggest_loguniform('reg_alpha', 1e-8, 10.0),\n",
      "/var/folders/xh/fvvnghrs13n5sqcsmprbn_c80000gn/T/ipykernel_94415/2153949471.py:15: FutureWarning: suggest_loguniform has been deprecated in v3.0.0. This feature will be removed in v6.0.0. See https://github.com/optuna/optuna/releases/tag/v3.0.0. Use suggest_float(..., log=True) instead.\n",
      "  'reg_lambda': trial.suggest_loguniform('reg_lambda', 1e-8, 10.0)\n",
      "[I 2024-11-20 18:45:11,658] Trial 9 finished with value: 0.8289640284635263 and parameters: {'learning_rate': 0.020577754317140002, 'max_depth': 6, 'min_child_weight': 10, 'n_estimators': 465, 'subsample': 0.9179646850279469, 'colsample_bytree': 0.8777377268856685, 'gamma': 8.088697237243528e-07, 'reg_alpha': 0.07538843773499052, 'reg_lambda': 0.01912416157675491}. Best is trial 6 with value: 0.8486923685878077.\n",
      "/var/folders/xh/fvvnghrs13n5sqcsmprbn_c80000gn/T/ipykernel_94415/2153949471.py:7: FutureWarning: suggest_loguniform has been deprecated in v3.0.0. This feature will be removed in v6.0.0. See https://github.com/optuna/optuna/releases/tag/v3.0.0. Use suggest_float(..., log=True) instead.\n",
      "  'learning_rate': trial.suggest_loguniform('learning_rate', 0.005, 0.05),\n",
      "/var/folders/xh/fvvnghrs13n5sqcsmprbn_c80000gn/T/ipykernel_94415/2153949471.py:11: FutureWarning: suggest_uniform has been deprecated in v3.0.0. This feature will be removed in v6.0.0. See https://github.com/optuna/optuna/releases/tag/v3.0.0. Use suggest_float instead.\n",
      "  'subsample': trial.suggest_uniform('subsample', 0.5, 1.0),\n",
      "/var/folders/xh/fvvnghrs13n5sqcsmprbn_c80000gn/T/ipykernel_94415/2153949471.py:12: FutureWarning: suggest_uniform has been deprecated in v3.0.0. This feature will be removed in v6.0.0. See https://github.com/optuna/optuna/releases/tag/v3.0.0. Use suggest_float instead.\n",
      "  'colsample_bytree': trial.suggest_uniform('colsample_bytree', 0.6, 1.0),\n",
      "/var/folders/xh/fvvnghrs13n5sqcsmprbn_c80000gn/T/ipykernel_94415/2153949471.py:13: FutureWarning: suggest_loguniform has been deprecated in v3.0.0. This feature will be removed in v6.0.0. See https://github.com/optuna/optuna/releases/tag/v3.0.0. Use suggest_float(..., log=True) instead.\n",
      "  'gamma': trial.suggest_loguniform('gamma', 1e-8, 1.0),\n",
      "/var/folders/xh/fvvnghrs13n5sqcsmprbn_c80000gn/T/ipykernel_94415/2153949471.py:14: FutureWarning: suggest_loguniform has been deprecated in v3.0.0. This feature will be removed in v6.0.0. See https://github.com/optuna/optuna/releases/tag/v3.0.0. Use suggest_float(..., log=True) instead.\n",
      "  'reg_alpha': trial.suggest_loguniform('reg_alpha', 1e-8, 10.0),\n",
      "/var/folders/xh/fvvnghrs13n5sqcsmprbn_c80000gn/T/ipykernel_94415/2153949471.py:15: FutureWarning: suggest_loguniform has been deprecated in v3.0.0. This feature will be removed in v6.0.0. See https://github.com/optuna/optuna/releases/tag/v3.0.0. Use suggest_float(..., log=True) instead.\n",
      "  'reg_lambda': trial.suggest_loguniform('reg_lambda', 1e-8, 10.0)\n",
      "[I 2024-11-20 18:45:12,290] Trial 10 finished with value: 0.8481675938281907 and parameters: {'learning_rate': 0.04931880440257726, 'max_depth': 2, 'min_child_weight': 4, 'n_estimators': 415, 'subsample': 0.5349377679248617, 'colsample_bytree': 0.609148299906167, 'gamma': 1.0566996892714465e-08, 'reg_alpha': 1.4162216404053298e-05, 'reg_lambda': 3.716420014361122}. Best is trial 6 with value: 0.8486923685878077.\n",
      "/var/folders/xh/fvvnghrs13n5sqcsmprbn_c80000gn/T/ipykernel_94415/2153949471.py:7: FutureWarning: suggest_loguniform has been deprecated in v3.0.0. This feature will be removed in v6.0.0. See https://github.com/optuna/optuna/releases/tag/v3.0.0. Use suggest_float(..., log=True) instead.\n",
      "  'learning_rate': trial.suggest_loguniform('learning_rate', 0.005, 0.05),\n",
      "/var/folders/xh/fvvnghrs13n5sqcsmprbn_c80000gn/T/ipykernel_94415/2153949471.py:11: FutureWarning: suggest_uniform has been deprecated in v3.0.0. This feature will be removed in v6.0.0. See https://github.com/optuna/optuna/releases/tag/v3.0.0. Use suggest_float instead.\n",
      "  'subsample': trial.suggest_uniform('subsample', 0.5, 1.0),\n",
      "/var/folders/xh/fvvnghrs13n5sqcsmprbn_c80000gn/T/ipykernel_94415/2153949471.py:12: FutureWarning: suggest_uniform has been deprecated in v3.0.0. This feature will be removed in v6.0.0. See https://github.com/optuna/optuna/releases/tag/v3.0.0. Use suggest_float instead.\n",
      "  'colsample_bytree': trial.suggest_uniform('colsample_bytree', 0.6, 1.0),\n",
      "/var/folders/xh/fvvnghrs13n5sqcsmprbn_c80000gn/T/ipykernel_94415/2153949471.py:13: FutureWarning: suggest_loguniform has been deprecated in v3.0.0. This feature will be removed in v6.0.0. See https://github.com/optuna/optuna/releases/tag/v3.0.0. Use suggest_float(..., log=True) instead.\n",
      "  'gamma': trial.suggest_loguniform('gamma', 1e-8, 1.0),\n",
      "/var/folders/xh/fvvnghrs13n5sqcsmprbn_c80000gn/T/ipykernel_94415/2153949471.py:14: FutureWarning: suggest_loguniform has been deprecated in v3.0.0. This feature will be removed in v6.0.0. See https://github.com/optuna/optuna/releases/tag/v3.0.0. Use suggest_float(..., log=True) instead.\n",
      "  'reg_alpha': trial.suggest_loguniform('reg_alpha', 1e-8, 10.0),\n",
      "/var/folders/xh/fvvnghrs13n5sqcsmprbn_c80000gn/T/ipykernel_94415/2153949471.py:15: FutureWarning: suggest_loguniform has been deprecated in v3.0.0. This feature will be removed in v6.0.0. See https://github.com/optuna/optuna/releases/tag/v3.0.0. Use suggest_float(..., log=True) instead.\n",
      "  'reg_lambda': trial.suggest_loguniform('reg_lambda', 1e-8, 10.0)\n",
      "[I 2024-11-20 18:45:12,901] Trial 11 finished with value: 0.850443673252526 and parameters: {'learning_rate': 0.0426057695998063, 'max_depth': 2, 'min_child_weight': 4, 'n_estimators': 414, 'subsample': 0.5384019966367815, 'colsample_bytree': 0.6045864802632697, 'gamma': 1.0065441852980622e-08, 'reg_alpha': 3.2092564557666182e-06, 'reg_lambda': 5.478766698935379}. Best is trial 11 with value: 0.850443673252526.\n",
      "/var/folders/xh/fvvnghrs13n5sqcsmprbn_c80000gn/T/ipykernel_94415/2153949471.py:7: FutureWarning: suggest_loguniform has been deprecated in v3.0.0. This feature will be removed in v6.0.0. See https://github.com/optuna/optuna/releases/tag/v3.0.0. Use suggest_float(..., log=True) instead.\n",
      "  'learning_rate': trial.suggest_loguniform('learning_rate', 0.005, 0.05),\n",
      "/var/folders/xh/fvvnghrs13n5sqcsmprbn_c80000gn/T/ipykernel_94415/2153949471.py:11: FutureWarning: suggest_uniform has been deprecated in v3.0.0. This feature will be removed in v6.0.0. See https://github.com/optuna/optuna/releases/tag/v3.0.0. Use suggest_float instead.\n",
      "  'subsample': trial.suggest_uniform('subsample', 0.5, 1.0),\n",
      "/var/folders/xh/fvvnghrs13n5sqcsmprbn_c80000gn/T/ipykernel_94415/2153949471.py:12: FutureWarning: suggest_uniform has been deprecated in v3.0.0. This feature will be removed in v6.0.0. See https://github.com/optuna/optuna/releases/tag/v3.0.0. Use suggest_float instead.\n",
      "  'colsample_bytree': trial.suggest_uniform('colsample_bytree', 0.6, 1.0),\n",
      "/var/folders/xh/fvvnghrs13n5sqcsmprbn_c80000gn/T/ipykernel_94415/2153949471.py:13: FutureWarning: suggest_loguniform has been deprecated in v3.0.0. This feature will be removed in v6.0.0. See https://github.com/optuna/optuna/releases/tag/v3.0.0. Use suggest_float(..., log=True) instead.\n",
      "  'gamma': trial.suggest_loguniform('gamma', 1e-8, 1.0),\n",
      "/var/folders/xh/fvvnghrs13n5sqcsmprbn_c80000gn/T/ipykernel_94415/2153949471.py:14: FutureWarning: suggest_loguniform has been deprecated in v3.0.0. This feature will be removed in v6.0.0. See https://github.com/optuna/optuna/releases/tag/v3.0.0. Use suggest_float(..., log=True) instead.\n",
      "  'reg_alpha': trial.suggest_loguniform('reg_alpha', 1e-8, 10.0),\n",
      "/var/folders/xh/fvvnghrs13n5sqcsmprbn_c80000gn/T/ipykernel_94415/2153949471.py:15: FutureWarning: suggest_loguniform has been deprecated in v3.0.0. This feature will be removed in v6.0.0. See https://github.com/optuna/optuna/releases/tag/v3.0.0. Use suggest_float(..., log=True) instead.\n",
      "  'reg_lambda': trial.suggest_loguniform('reg_lambda', 1e-8, 10.0)\n",
      "[I 2024-11-20 18:45:13,692] Trial 12 finished with value: 0.8500173541686092 and parameters: {'learning_rate': 0.010283327220213414, 'max_depth': 3, 'min_child_weight': 4, 'n_estimators': 426, 'subsample': 0.6876036775829999, 'colsample_bytree': 0.6544132768614614, 'gamma': 0.30236733081671324, 'reg_alpha': 1.0329006231416204e-06, 'reg_lambda': 8.248218346628912}. Best is trial 11 with value: 0.850443673252526.\n",
      "/var/folders/xh/fvvnghrs13n5sqcsmprbn_c80000gn/T/ipykernel_94415/2153949471.py:7: FutureWarning: suggest_loguniform has been deprecated in v3.0.0. This feature will be removed in v6.0.0. See https://github.com/optuna/optuna/releases/tag/v3.0.0. Use suggest_float(..., log=True) instead.\n",
      "  'learning_rate': trial.suggest_loguniform('learning_rate', 0.005, 0.05),\n",
      "/var/folders/xh/fvvnghrs13n5sqcsmprbn_c80000gn/T/ipykernel_94415/2153949471.py:11: FutureWarning: suggest_uniform has been deprecated in v3.0.0. This feature will be removed in v6.0.0. See https://github.com/optuna/optuna/releases/tag/v3.0.0. Use suggest_float instead.\n",
      "  'subsample': trial.suggest_uniform('subsample', 0.5, 1.0),\n",
      "/var/folders/xh/fvvnghrs13n5sqcsmprbn_c80000gn/T/ipykernel_94415/2153949471.py:12: FutureWarning: suggest_uniform has been deprecated in v3.0.0. This feature will be removed in v6.0.0. See https://github.com/optuna/optuna/releases/tag/v3.0.0. Use suggest_float instead.\n",
      "  'colsample_bytree': trial.suggest_uniform('colsample_bytree', 0.6, 1.0),\n",
      "/var/folders/xh/fvvnghrs13n5sqcsmprbn_c80000gn/T/ipykernel_94415/2153949471.py:13: FutureWarning: suggest_loguniform has been deprecated in v3.0.0. This feature will be removed in v6.0.0. See https://github.com/optuna/optuna/releases/tag/v3.0.0. Use suggest_float(..., log=True) instead.\n",
      "  'gamma': trial.suggest_loguniform('gamma', 1e-8, 1.0),\n",
      "/var/folders/xh/fvvnghrs13n5sqcsmprbn_c80000gn/T/ipykernel_94415/2153949471.py:14: FutureWarning: suggest_loguniform has been deprecated in v3.0.0. This feature will be removed in v6.0.0. See https://github.com/optuna/optuna/releases/tag/v3.0.0. Use suggest_float(..., log=True) instead.\n",
      "  'reg_alpha': trial.suggest_loguniform('reg_alpha', 1e-8, 10.0),\n",
      "/var/folders/xh/fvvnghrs13n5sqcsmprbn_c80000gn/T/ipykernel_94415/2153949471.py:15: FutureWarning: suggest_loguniform has been deprecated in v3.0.0. This feature will be removed in v6.0.0. See https://github.com/optuna/optuna/releases/tag/v3.0.0. Use suggest_float(..., log=True) instead.\n",
      "  'reg_lambda': trial.suggest_loguniform('reg_lambda', 1e-8, 10.0)\n",
      "[I 2024-11-20 18:45:14,274] Trial 13 finished with value: 0.8500798662554722 and parameters: {'learning_rate': 0.010830776543708703, 'max_depth': 3, 'min_child_weight': 3, 'n_estimators': 302, 'subsample': 0.5004611531866745, 'colsample_bytree': 0.9851945845654035, 'gamma': 0.1470364126513936, 'reg_alpha': 2.5876322236289407e-06, 'reg_lambda': 2.07174400007701}. Best is trial 11 with value: 0.850443673252526.\n",
      "/var/folders/xh/fvvnghrs13n5sqcsmprbn_c80000gn/T/ipykernel_94415/2153949471.py:7: FutureWarning: suggest_loguniform has been deprecated in v3.0.0. This feature will be removed in v6.0.0. See https://github.com/optuna/optuna/releases/tag/v3.0.0. Use suggest_float(..., log=True) instead.\n",
      "  'learning_rate': trial.suggest_loguniform('learning_rate', 0.005, 0.05),\n",
      "/var/folders/xh/fvvnghrs13n5sqcsmprbn_c80000gn/T/ipykernel_94415/2153949471.py:11: FutureWarning: suggest_uniform has been deprecated in v3.0.0. This feature will be removed in v6.0.0. See https://github.com/optuna/optuna/releases/tag/v3.0.0. Use suggest_float instead.\n",
      "  'subsample': trial.suggest_uniform('subsample', 0.5, 1.0),\n",
      "/var/folders/xh/fvvnghrs13n5sqcsmprbn_c80000gn/T/ipykernel_94415/2153949471.py:12: FutureWarning: suggest_uniform has been deprecated in v3.0.0. This feature will be removed in v6.0.0. See https://github.com/optuna/optuna/releases/tag/v3.0.0. Use suggest_float instead.\n",
      "  'colsample_bytree': trial.suggest_uniform('colsample_bytree', 0.6, 1.0),\n",
      "/var/folders/xh/fvvnghrs13n5sqcsmprbn_c80000gn/T/ipykernel_94415/2153949471.py:13: FutureWarning: suggest_loguniform has been deprecated in v3.0.0. This feature will be removed in v6.0.0. See https://github.com/optuna/optuna/releases/tag/v3.0.0. Use suggest_float(..., log=True) instead.\n",
      "  'gamma': trial.suggest_loguniform('gamma', 1e-8, 1.0),\n",
      "/var/folders/xh/fvvnghrs13n5sqcsmprbn_c80000gn/T/ipykernel_94415/2153949471.py:14: FutureWarning: suggest_loguniform has been deprecated in v3.0.0. This feature will be removed in v6.0.0. See https://github.com/optuna/optuna/releases/tag/v3.0.0. Use suggest_float(..., log=True) instead.\n",
      "  'reg_alpha': trial.suggest_loguniform('reg_alpha', 1e-8, 10.0),\n",
      "/var/folders/xh/fvvnghrs13n5sqcsmprbn_c80000gn/T/ipykernel_94415/2153949471.py:15: FutureWarning: suggest_loguniform has been deprecated in v3.0.0. This feature will be removed in v6.0.0. See https://github.com/optuna/optuna/releases/tag/v3.0.0. Use suggest_float(..., log=True) instead.\n",
      "  'reg_lambda': trial.suggest_loguniform('reg_lambda', 1e-8, 10.0)\n",
      "[I 2024-11-20 18:45:14,689] Trial 14 finished with value: 0.8462877595333044 and parameters: {'learning_rate': 0.012127703368529304, 'max_depth': 2, 'min_child_weight': 2, 'n_estimators': 293, 'subsample': 0.5348249332766514, 'colsample_bytree': 0.9997376014007179, 'gamma': 0.616815116900256, 'reg_alpha': 4.941228143357333e-06, 'reg_lambda': 7.264931671052091e-06}. Best is trial 11 with value: 0.850443673252526.\n",
      "/var/folders/xh/fvvnghrs13n5sqcsmprbn_c80000gn/T/ipykernel_94415/2153949471.py:7: FutureWarning: suggest_loguniform has been deprecated in v3.0.0. This feature will be removed in v6.0.0. See https://github.com/optuna/optuna/releases/tag/v3.0.0. Use suggest_float(..., log=True) instead.\n",
      "  'learning_rate': trial.suggest_loguniform('learning_rate', 0.005, 0.05),\n",
      "/var/folders/xh/fvvnghrs13n5sqcsmprbn_c80000gn/T/ipykernel_94415/2153949471.py:11: FutureWarning: suggest_uniform has been deprecated in v3.0.0. This feature will be removed in v6.0.0. See https://github.com/optuna/optuna/releases/tag/v3.0.0. Use suggest_float instead.\n",
      "  'subsample': trial.suggest_uniform('subsample', 0.5, 1.0),\n",
      "/var/folders/xh/fvvnghrs13n5sqcsmprbn_c80000gn/T/ipykernel_94415/2153949471.py:12: FutureWarning: suggest_uniform has been deprecated in v3.0.0. This feature will be removed in v6.0.0. See https://github.com/optuna/optuna/releases/tag/v3.0.0. Use suggest_float instead.\n",
      "  'colsample_bytree': trial.suggest_uniform('colsample_bytree', 0.6, 1.0),\n",
      "/var/folders/xh/fvvnghrs13n5sqcsmprbn_c80000gn/T/ipykernel_94415/2153949471.py:13: FutureWarning: suggest_loguniform has been deprecated in v3.0.0. This feature will be removed in v6.0.0. See https://github.com/optuna/optuna/releases/tag/v3.0.0. Use suggest_float(..., log=True) instead.\n",
      "  'gamma': trial.suggest_loguniform('gamma', 1e-8, 1.0),\n",
      "/var/folders/xh/fvvnghrs13n5sqcsmprbn_c80000gn/T/ipykernel_94415/2153949471.py:14: FutureWarning: suggest_loguniform has been deprecated in v3.0.0. This feature will be removed in v6.0.0. See https://github.com/optuna/optuna/releases/tag/v3.0.0. Use suggest_float(..., log=True) instead.\n",
      "  'reg_alpha': trial.suggest_loguniform('reg_alpha', 1e-8, 10.0),\n",
      "/var/folders/xh/fvvnghrs13n5sqcsmprbn_c80000gn/T/ipykernel_94415/2153949471.py:15: FutureWarning: suggest_loguniform has been deprecated in v3.0.0. This feature will be removed in v6.0.0. See https://github.com/optuna/optuna/releases/tag/v3.0.0. Use suggest_float(..., log=True) instead.\n",
      "  'reg_lambda': trial.suggest_loguniform('reg_lambda', 1e-8, 10.0)\n",
      "[I 2024-11-20 18:45:15,145] Trial 15 finished with value: 0.8403494029446548 and parameters: {'learning_rate': 0.04900745848791781, 'max_depth': 3, 'min_child_weight': 3, 'n_estimators': 237, 'subsample': 0.5870017322682441, 'colsample_bytree': 0.982553428960633, 'gamma': 0.030917155757466844, 'reg_alpha': 4.359981522305321e-05, 'reg_lambda': 0.6956074914611793}. Best is trial 11 with value: 0.850443673252526.\n",
      "/var/folders/xh/fvvnghrs13n5sqcsmprbn_c80000gn/T/ipykernel_94415/2153949471.py:7: FutureWarning: suggest_loguniform has been deprecated in v3.0.0. This feature will be removed in v6.0.0. See https://github.com/optuna/optuna/releases/tag/v3.0.0. Use suggest_float(..., log=True) instead.\n",
      "  'learning_rate': trial.suggest_loguniform('learning_rate', 0.005, 0.05),\n",
      "/var/folders/xh/fvvnghrs13n5sqcsmprbn_c80000gn/T/ipykernel_94415/2153949471.py:11: FutureWarning: suggest_uniform has been deprecated in v3.0.0. This feature will be removed in v6.0.0. See https://github.com/optuna/optuna/releases/tag/v3.0.0. Use suggest_float instead.\n",
      "  'subsample': trial.suggest_uniform('subsample', 0.5, 1.0),\n",
      "/var/folders/xh/fvvnghrs13n5sqcsmprbn_c80000gn/T/ipykernel_94415/2153949471.py:12: FutureWarning: suggest_uniform has been deprecated in v3.0.0. This feature will be removed in v6.0.0. See https://github.com/optuna/optuna/releases/tag/v3.0.0. Use suggest_float instead.\n",
      "  'colsample_bytree': trial.suggest_uniform('colsample_bytree', 0.6, 1.0),\n",
      "/var/folders/xh/fvvnghrs13n5sqcsmprbn_c80000gn/T/ipykernel_94415/2153949471.py:13: FutureWarning: suggest_loguniform has been deprecated in v3.0.0. This feature will be removed in v6.0.0. See https://github.com/optuna/optuna/releases/tag/v3.0.0. Use suggest_float(..., log=True) instead.\n",
      "  'gamma': trial.suggest_loguniform('gamma', 1e-8, 1.0),\n",
      "/var/folders/xh/fvvnghrs13n5sqcsmprbn_c80000gn/T/ipykernel_94415/2153949471.py:14: FutureWarning: suggest_loguniform has been deprecated in v3.0.0. This feature will be removed in v6.0.0. See https://github.com/optuna/optuna/releases/tag/v3.0.0. Use suggest_float(..., log=True) instead.\n",
      "  'reg_alpha': trial.suggest_loguniform('reg_alpha', 1e-8, 10.0),\n",
      "/var/folders/xh/fvvnghrs13n5sqcsmprbn_c80000gn/T/ipykernel_94415/2153949471.py:15: FutureWarning: suggest_loguniform has been deprecated in v3.0.0. This feature will be removed in v6.0.0. See https://github.com/optuna/optuna/releases/tag/v3.0.0. Use suggest_float(..., log=True) instead.\n",
      "  'reg_lambda': trial.suggest_loguniform('reg_lambda', 1e-8, 10.0)\n",
      "[I 2024-11-20 18:45:15,588] Trial 16 finished with value: 0.851551292242363 and parameters: {'learning_rate': 0.0277068847905895, 'max_depth': 2, 'min_child_weight': 6, 'n_estimators': 315, 'subsample': 0.5066107713266094, 'colsample_bytree': 0.937148253345433, 'gamma': 1.8636498956886244e-05, 'reg_alpha': 1.2322630696284182e-06, 'reg_lambda': 1.4615174201030639e-08}. Best is trial 16 with value: 0.851551292242363.\n",
      "/var/folders/xh/fvvnghrs13n5sqcsmprbn_c80000gn/T/ipykernel_94415/2153949471.py:7: FutureWarning: suggest_loguniform has been deprecated in v3.0.0. This feature will be removed in v6.0.0. See https://github.com/optuna/optuna/releases/tag/v3.0.0. Use suggest_float(..., log=True) instead.\n",
      "  'learning_rate': trial.suggest_loguniform('learning_rate', 0.005, 0.05),\n",
      "/var/folders/xh/fvvnghrs13n5sqcsmprbn_c80000gn/T/ipykernel_94415/2153949471.py:11: FutureWarning: suggest_uniform has been deprecated in v3.0.0. This feature will be removed in v6.0.0. See https://github.com/optuna/optuna/releases/tag/v3.0.0. Use suggest_float instead.\n",
      "  'subsample': trial.suggest_uniform('subsample', 0.5, 1.0),\n",
      "/var/folders/xh/fvvnghrs13n5sqcsmprbn_c80000gn/T/ipykernel_94415/2153949471.py:12: FutureWarning: suggest_uniform has been deprecated in v3.0.0. This feature will be removed in v6.0.0. See https://github.com/optuna/optuna/releases/tag/v3.0.0. Use suggest_float instead.\n",
      "  'colsample_bytree': trial.suggest_uniform('colsample_bytree', 0.6, 1.0),\n",
      "/var/folders/xh/fvvnghrs13n5sqcsmprbn_c80000gn/T/ipykernel_94415/2153949471.py:13: FutureWarning: suggest_loguniform has been deprecated in v3.0.0. This feature will be removed in v6.0.0. See https://github.com/optuna/optuna/releases/tag/v3.0.0. Use suggest_float(..., log=True) instead.\n",
      "  'gamma': trial.suggest_loguniform('gamma', 1e-8, 1.0),\n",
      "/var/folders/xh/fvvnghrs13n5sqcsmprbn_c80000gn/T/ipykernel_94415/2153949471.py:14: FutureWarning: suggest_loguniform has been deprecated in v3.0.0. This feature will be removed in v6.0.0. See https://github.com/optuna/optuna/releases/tag/v3.0.0. Use suggest_float(..., log=True) instead.\n",
      "  'reg_alpha': trial.suggest_loguniform('reg_alpha', 1e-8, 10.0),\n",
      "/var/folders/xh/fvvnghrs13n5sqcsmprbn_c80000gn/T/ipykernel_94415/2153949471.py:15: FutureWarning: suggest_loguniform has been deprecated in v3.0.0. This feature will be removed in v6.0.0. See https://github.com/optuna/optuna/releases/tag/v3.0.0. Use suggest_float(..., log=True) instead.\n",
      "  'reg_lambda': trial.suggest_loguniform('reg_lambda', 1e-8, 10.0)\n",
      "[I 2024-11-20 18:45:16,040] Trial 17 finished with value: 0.8520495945018602 and parameters: {'learning_rate': 0.033037107196650914, 'max_depth': 2, 'min_child_weight': 7, 'n_estimators': 321, 'subsample': 0.6692919299874811, 'colsample_bytree': 0.7542158492861543, 'gamma': 2.0097975790671407e-05, 'reg_alpha': 7.471848243242864e-07, 'reg_lambda': 4.301335790538302e-08}. Best is trial 17 with value: 0.8520495945018602.\n",
      "/var/folders/xh/fvvnghrs13n5sqcsmprbn_c80000gn/T/ipykernel_94415/2153949471.py:7: FutureWarning: suggest_loguniform has been deprecated in v3.0.0. This feature will be removed in v6.0.0. See https://github.com/optuna/optuna/releases/tag/v3.0.0. Use suggest_float(..., log=True) instead.\n",
      "  'learning_rate': trial.suggest_loguniform('learning_rate', 0.005, 0.05),\n",
      "/var/folders/xh/fvvnghrs13n5sqcsmprbn_c80000gn/T/ipykernel_94415/2153949471.py:11: FutureWarning: suggest_uniform has been deprecated in v3.0.0. This feature will be removed in v6.0.0. See https://github.com/optuna/optuna/releases/tag/v3.0.0. Use suggest_float instead.\n",
      "  'subsample': trial.suggest_uniform('subsample', 0.5, 1.0),\n",
      "/var/folders/xh/fvvnghrs13n5sqcsmprbn_c80000gn/T/ipykernel_94415/2153949471.py:12: FutureWarning: suggest_uniform has been deprecated in v3.0.0. This feature will be removed in v6.0.0. See https://github.com/optuna/optuna/releases/tag/v3.0.0. Use suggest_float instead.\n",
      "  'colsample_bytree': trial.suggest_uniform('colsample_bytree', 0.6, 1.0),\n",
      "/var/folders/xh/fvvnghrs13n5sqcsmprbn_c80000gn/T/ipykernel_94415/2153949471.py:13: FutureWarning: suggest_loguniform has been deprecated in v3.0.0. This feature will be removed in v6.0.0. See https://github.com/optuna/optuna/releases/tag/v3.0.0. Use suggest_float(..., log=True) instead.\n",
      "  'gamma': trial.suggest_loguniform('gamma', 1e-8, 1.0),\n",
      "/var/folders/xh/fvvnghrs13n5sqcsmprbn_c80000gn/T/ipykernel_94415/2153949471.py:14: FutureWarning: suggest_loguniform has been deprecated in v3.0.0. This feature will be removed in v6.0.0. See https://github.com/optuna/optuna/releases/tag/v3.0.0. Use suggest_float(..., log=True) instead.\n",
      "  'reg_alpha': trial.suggest_loguniform('reg_alpha', 1e-8, 10.0),\n",
      "/var/folders/xh/fvvnghrs13n5sqcsmprbn_c80000gn/T/ipykernel_94415/2153949471.py:15: FutureWarning: suggest_loguniform has been deprecated in v3.0.0. This feature will be removed in v6.0.0. See https://github.com/optuna/optuna/releases/tag/v3.0.0. Use suggest_float(..., log=True) instead.\n",
      "  'reg_lambda': trial.suggest_loguniform('reg_lambda', 1e-8, 10.0)\n",
      "[I 2024-11-20 18:45:16,472] Trial 18 finished with value: 0.8518073432558492 and parameters: {'learning_rate': 0.031196315091183518, 'max_depth': 2, 'min_child_weight': 8, 'n_estimators': 307, 'subsample': 0.6849285524225697, 'colsample_bytree': 0.7939805608679605, 'gamma': 2.0361923492465293e-05, 'reg_alpha': 4.109371150444779e-07, 'reg_lambda': 1.4291692812995032e-08}. Best is trial 17 with value: 0.8520495945018602.\n",
      "/var/folders/xh/fvvnghrs13n5sqcsmprbn_c80000gn/T/ipykernel_94415/2153949471.py:7: FutureWarning: suggest_loguniform has been deprecated in v3.0.0. This feature will be removed in v6.0.0. See https://github.com/optuna/optuna/releases/tag/v3.0.0. Use suggest_float(..., log=True) instead.\n",
      "  'learning_rate': trial.suggest_loguniform('learning_rate', 0.005, 0.05),\n",
      "/var/folders/xh/fvvnghrs13n5sqcsmprbn_c80000gn/T/ipykernel_94415/2153949471.py:11: FutureWarning: suggest_uniform has been deprecated in v3.0.0. This feature will be removed in v6.0.0. See https://github.com/optuna/optuna/releases/tag/v3.0.0. Use suggest_float instead.\n",
      "  'subsample': trial.suggest_uniform('subsample', 0.5, 1.0),\n",
      "/var/folders/xh/fvvnghrs13n5sqcsmprbn_c80000gn/T/ipykernel_94415/2153949471.py:12: FutureWarning: suggest_uniform has been deprecated in v3.0.0. This feature will be removed in v6.0.0. See https://github.com/optuna/optuna/releases/tag/v3.0.0. Use suggest_float instead.\n",
      "  'colsample_bytree': trial.suggest_uniform('colsample_bytree', 0.6, 1.0),\n",
      "/var/folders/xh/fvvnghrs13n5sqcsmprbn_c80000gn/T/ipykernel_94415/2153949471.py:13: FutureWarning: suggest_loguniform has been deprecated in v3.0.0. This feature will be removed in v6.0.0. See https://github.com/optuna/optuna/releases/tag/v3.0.0. Use suggest_float(..., log=True) instead.\n",
      "  'gamma': trial.suggest_loguniform('gamma', 1e-8, 1.0),\n",
      "/var/folders/xh/fvvnghrs13n5sqcsmprbn_c80000gn/T/ipykernel_94415/2153949471.py:14: FutureWarning: suggest_loguniform has been deprecated in v3.0.0. This feature will be removed in v6.0.0. See https://github.com/optuna/optuna/releases/tag/v3.0.0. Use suggest_float(..., log=True) instead.\n",
      "  'reg_alpha': trial.suggest_loguniform('reg_alpha', 1e-8, 10.0),\n",
      "/var/folders/xh/fvvnghrs13n5sqcsmprbn_c80000gn/T/ipykernel_94415/2153949471.py:15: FutureWarning: suggest_loguniform has been deprecated in v3.0.0. This feature will be removed in v6.0.0. See https://github.com/optuna/optuna/releases/tag/v3.0.0. Use suggest_float(..., log=True) instead.\n",
      "  'reg_lambda': trial.suggest_loguniform('reg_lambda', 1e-8, 10.0)\n",
      "[I 2024-11-20 18:45:16,953] Trial 19 finished with value: 0.8464925115047232 and parameters: {'learning_rate': 0.03210285674167764, 'max_depth': 4, 'min_child_weight': 8, 'n_estimators': 176, 'subsample': 0.6864772428113669, 'colsample_bytree': 0.8003447598938779, 'gamma': 0.00043411403787833175, 'reg_alpha': 0.008046761585687599, 'reg_lambda': 1.5423921139548818e-08}. Best is trial 17 with value: 0.8520495945018602.\n",
      "/var/folders/xh/fvvnghrs13n5sqcsmprbn_c80000gn/T/ipykernel_94415/2153949471.py:7: FutureWarning: suggest_loguniform has been deprecated in v3.0.0. This feature will be removed in v6.0.0. See https://github.com/optuna/optuna/releases/tag/v3.0.0. Use suggest_float(..., log=True) instead.\n",
      "  'learning_rate': trial.suggest_loguniform('learning_rate', 0.005, 0.05),\n",
      "/var/folders/xh/fvvnghrs13n5sqcsmprbn_c80000gn/T/ipykernel_94415/2153949471.py:11: FutureWarning: suggest_uniform has been deprecated in v3.0.0. This feature will be removed in v6.0.0. See https://github.com/optuna/optuna/releases/tag/v3.0.0. Use suggest_float instead.\n",
      "  'subsample': trial.suggest_uniform('subsample', 0.5, 1.0),\n",
      "/var/folders/xh/fvvnghrs13n5sqcsmprbn_c80000gn/T/ipykernel_94415/2153949471.py:12: FutureWarning: suggest_uniform has been deprecated in v3.0.0. This feature will be removed in v6.0.0. See https://github.com/optuna/optuna/releases/tag/v3.0.0. Use suggest_float instead.\n",
      "  'colsample_bytree': trial.suggest_uniform('colsample_bytree', 0.6, 1.0),\n",
      "/var/folders/xh/fvvnghrs13n5sqcsmprbn_c80000gn/T/ipykernel_94415/2153949471.py:13: FutureWarning: suggest_loguniform has been deprecated in v3.0.0. This feature will be removed in v6.0.0. See https://github.com/optuna/optuna/releases/tag/v3.0.0. Use suggest_float(..., log=True) instead.\n",
      "  'gamma': trial.suggest_loguniform('gamma', 1e-8, 1.0),\n",
      "/var/folders/xh/fvvnghrs13n5sqcsmprbn_c80000gn/T/ipykernel_94415/2153949471.py:14: FutureWarning: suggest_loguniform has been deprecated in v3.0.0. This feature will be removed in v6.0.0. See https://github.com/optuna/optuna/releases/tag/v3.0.0. Use suggest_float(..., log=True) instead.\n",
      "  'reg_alpha': trial.suggest_loguniform('reg_alpha', 1e-8, 10.0),\n",
      "/var/folders/xh/fvvnghrs13n5sqcsmprbn_c80000gn/T/ipykernel_94415/2153949471.py:15: FutureWarning: suggest_loguniform has been deprecated in v3.0.0. This feature will be removed in v6.0.0. See https://github.com/optuna/optuna/releases/tag/v3.0.0. Use suggest_float(..., log=True) instead.\n",
      "  'reg_lambda': trial.suggest_loguniform('reg_lambda', 1e-8, 10.0)\n",
      "[I 2024-11-20 18:45:17,365] Trial 20 finished with value: 0.8525740529463316 and parameters: {'learning_rate': 0.03499989111953998, 'max_depth': 2, 'min_child_weight': 8, 'n_estimators': 249, 'subsample': 0.6649498682352059, 'colsample_bytree': 0.768536171092188, 'gamma': 5.193200591857362e-06, 'reg_alpha': 4.372768415668378e-07, 'reg_lambda': 3.1081779751021996e-07}. Best is trial 20 with value: 0.8525740529463316.\n",
      "/var/folders/xh/fvvnghrs13n5sqcsmprbn_c80000gn/T/ipykernel_94415/2153949471.py:7: FutureWarning: suggest_loguniform has been deprecated in v3.0.0. This feature will be removed in v6.0.0. See https://github.com/optuna/optuna/releases/tag/v3.0.0. Use suggest_float(..., log=True) instead.\n",
      "  'learning_rate': trial.suggest_loguniform('learning_rate', 0.005, 0.05),\n",
      "/var/folders/xh/fvvnghrs13n5sqcsmprbn_c80000gn/T/ipykernel_94415/2153949471.py:11: FutureWarning: suggest_uniform has been deprecated in v3.0.0. This feature will be removed in v6.0.0. See https://github.com/optuna/optuna/releases/tag/v3.0.0. Use suggest_float instead.\n",
      "  'subsample': trial.suggest_uniform('subsample', 0.5, 1.0),\n",
      "/var/folders/xh/fvvnghrs13n5sqcsmprbn_c80000gn/T/ipykernel_94415/2153949471.py:12: FutureWarning: suggest_uniform has been deprecated in v3.0.0. This feature will be removed in v6.0.0. See https://github.com/optuna/optuna/releases/tag/v3.0.0. Use suggest_float instead.\n",
      "  'colsample_bytree': trial.suggest_uniform('colsample_bytree', 0.6, 1.0),\n",
      "/var/folders/xh/fvvnghrs13n5sqcsmprbn_c80000gn/T/ipykernel_94415/2153949471.py:13: FutureWarning: suggest_loguniform has been deprecated in v3.0.0. This feature will be removed in v6.0.0. See https://github.com/optuna/optuna/releases/tag/v3.0.0. Use suggest_float(..., log=True) instead.\n",
      "  'gamma': trial.suggest_loguniform('gamma', 1e-8, 1.0),\n",
      "/var/folders/xh/fvvnghrs13n5sqcsmprbn_c80000gn/T/ipykernel_94415/2153949471.py:14: FutureWarning: suggest_loguniform has been deprecated in v3.0.0. This feature will be removed in v6.0.0. See https://github.com/optuna/optuna/releases/tag/v3.0.0. Use suggest_float(..., log=True) instead.\n",
      "  'reg_alpha': trial.suggest_loguniform('reg_alpha', 1e-8, 10.0),\n",
      "/var/folders/xh/fvvnghrs13n5sqcsmprbn_c80000gn/T/ipykernel_94415/2153949471.py:15: FutureWarning: suggest_loguniform has been deprecated in v3.0.0. This feature will be removed in v6.0.0. See https://github.com/optuna/optuna/releases/tag/v3.0.0. Use suggest_float(..., log=True) instead.\n",
      "  'reg_lambda': trial.suggest_loguniform('reg_lambda', 1e-8, 10.0)\n",
      "[I 2024-11-20 18:45:17,727] Trial 21 finished with value: 0.8524046302977363 and parameters: {'learning_rate': 0.03500039719562096, 'max_depth': 2, 'min_child_weight': 8, 'n_estimators': 249, 'subsample': 0.6821229091289247, 'colsample_bytree': 0.7628762220364647, 'gamma': 7.662179400592821e-06, 'reg_alpha': 1.756402210211884e-07, 'reg_lambda': 2.1161028664742932e-07}. Best is trial 20 with value: 0.8525740529463316.\n",
      "/var/folders/xh/fvvnghrs13n5sqcsmprbn_c80000gn/T/ipykernel_94415/2153949471.py:7: FutureWarning: suggest_loguniform has been deprecated in v3.0.0. This feature will be removed in v6.0.0. See https://github.com/optuna/optuna/releases/tag/v3.0.0. Use suggest_float(..., log=True) instead.\n",
      "  'learning_rate': trial.suggest_loguniform('learning_rate', 0.005, 0.05),\n",
      "/var/folders/xh/fvvnghrs13n5sqcsmprbn_c80000gn/T/ipykernel_94415/2153949471.py:11: FutureWarning: suggest_uniform has been deprecated in v3.0.0. This feature will be removed in v6.0.0. See https://github.com/optuna/optuna/releases/tag/v3.0.0. Use suggest_float instead.\n",
      "  'subsample': trial.suggest_uniform('subsample', 0.5, 1.0),\n",
      "/var/folders/xh/fvvnghrs13n5sqcsmprbn_c80000gn/T/ipykernel_94415/2153949471.py:12: FutureWarning: suggest_uniform has been deprecated in v3.0.0. This feature will be removed in v6.0.0. See https://github.com/optuna/optuna/releases/tag/v3.0.0. Use suggest_float instead.\n",
      "  'colsample_bytree': trial.suggest_uniform('colsample_bytree', 0.6, 1.0),\n",
      "/var/folders/xh/fvvnghrs13n5sqcsmprbn_c80000gn/T/ipykernel_94415/2153949471.py:13: FutureWarning: suggest_loguniform has been deprecated in v3.0.0. This feature will be removed in v6.0.0. See https://github.com/optuna/optuna/releases/tag/v3.0.0. Use suggest_float(..., log=True) instead.\n",
      "  'gamma': trial.suggest_loguniform('gamma', 1e-8, 1.0),\n",
      "/var/folders/xh/fvvnghrs13n5sqcsmprbn_c80000gn/T/ipykernel_94415/2153949471.py:14: FutureWarning: suggest_loguniform has been deprecated in v3.0.0. This feature will be removed in v6.0.0. See https://github.com/optuna/optuna/releases/tag/v3.0.0. Use suggest_float(..., log=True) instead.\n",
      "  'reg_alpha': trial.suggest_loguniform('reg_alpha', 1e-8, 10.0),\n",
      "/var/folders/xh/fvvnghrs13n5sqcsmprbn_c80000gn/T/ipykernel_94415/2153949471.py:15: FutureWarning: suggest_loguniform has been deprecated in v3.0.0. This feature will be removed in v6.0.0. See https://github.com/optuna/optuna/releases/tag/v3.0.0. Use suggest_float(..., log=True) instead.\n",
      "  'reg_lambda': trial.suggest_loguniform('reg_lambda', 1e-8, 10.0)\n",
      "[I 2024-11-20 18:45:18,092] Trial 22 finished with value: 0.8522006064241395 and parameters: {'learning_rate': 0.03832034752721486, 'max_depth': 2, 'min_child_weight': 9, 'n_estimators': 252, 'subsample': 0.7161993270660894, 'colsample_bytree': 0.762390154773462, 'gamma': 5.3890386848088145e-06, 'reg_alpha': 1.1244644794814794e-08, 'reg_lambda': 1.0845734660616924e-06}. Best is trial 20 with value: 0.8525740529463316.\n",
      "/var/folders/xh/fvvnghrs13n5sqcsmprbn_c80000gn/T/ipykernel_94415/2153949471.py:7: FutureWarning: suggest_loguniform has been deprecated in v3.0.0. This feature will be removed in v6.0.0. See https://github.com/optuna/optuna/releases/tag/v3.0.0. Use suggest_float(..., log=True) instead.\n",
      "  'learning_rate': trial.suggest_loguniform('learning_rate', 0.005, 0.05),\n",
      "/var/folders/xh/fvvnghrs13n5sqcsmprbn_c80000gn/T/ipykernel_94415/2153949471.py:11: FutureWarning: suggest_uniform has been deprecated in v3.0.0. This feature will be removed in v6.0.0. See https://github.com/optuna/optuna/releases/tag/v3.0.0. Use suggest_float instead.\n",
      "  'subsample': trial.suggest_uniform('subsample', 0.5, 1.0),\n",
      "/var/folders/xh/fvvnghrs13n5sqcsmprbn_c80000gn/T/ipykernel_94415/2153949471.py:12: FutureWarning: suggest_uniform has been deprecated in v3.0.0. This feature will be removed in v6.0.0. See https://github.com/optuna/optuna/releases/tag/v3.0.0. Use suggest_float instead.\n",
      "  'colsample_bytree': trial.suggest_uniform('colsample_bytree', 0.6, 1.0),\n",
      "/var/folders/xh/fvvnghrs13n5sqcsmprbn_c80000gn/T/ipykernel_94415/2153949471.py:13: FutureWarning: suggest_loguniform has been deprecated in v3.0.0. This feature will be removed in v6.0.0. See https://github.com/optuna/optuna/releases/tag/v3.0.0. Use suggest_float(..., log=True) instead.\n",
      "  'gamma': trial.suggest_loguniform('gamma', 1e-8, 1.0),\n",
      "/var/folders/xh/fvvnghrs13n5sqcsmprbn_c80000gn/T/ipykernel_94415/2153949471.py:14: FutureWarning: suggest_loguniform has been deprecated in v3.0.0. This feature will be removed in v6.0.0. See https://github.com/optuna/optuna/releases/tag/v3.0.0. Use suggest_float(..., log=True) instead.\n",
      "  'reg_alpha': trial.suggest_loguniform('reg_alpha', 1e-8, 10.0),\n",
      "/var/folders/xh/fvvnghrs13n5sqcsmprbn_c80000gn/T/ipykernel_94415/2153949471.py:15: FutureWarning: suggest_loguniform has been deprecated in v3.0.0. This feature will be removed in v6.0.0. See https://github.com/optuna/optuna/releases/tag/v3.0.0. Use suggest_float(..., log=True) instead.\n",
      "  'reg_lambda': trial.suggest_loguniform('reg_lambda', 1e-8, 10.0)\n",
      "[I 2024-11-20 18:45:18,615] Trial 23 finished with value: 0.848166208831707 and parameters: {'learning_rate': 0.03823857522652154, 'max_depth': 3, 'min_child_weight': 9, 'n_estimators': 231, 'subsample': 0.7308907366219336, 'colsample_bytree': 0.7545670749672043, 'gamma': 1.703531241794914e-06, 'reg_alpha': 1.054764657649306e-08, 'reg_lambda': 6.094167895841514e-06}. Best is trial 20 with value: 0.8525740529463316.\n",
      "/var/folders/xh/fvvnghrs13n5sqcsmprbn_c80000gn/T/ipykernel_94415/2153949471.py:7: FutureWarning: suggest_loguniform has been deprecated in v3.0.0. This feature will be removed in v6.0.0. See https://github.com/optuna/optuna/releases/tag/v3.0.0. Use suggest_float(..., log=True) instead.\n",
      "  'learning_rate': trial.suggest_loguniform('learning_rate', 0.005, 0.05),\n",
      "/var/folders/xh/fvvnghrs13n5sqcsmprbn_c80000gn/T/ipykernel_94415/2153949471.py:11: FutureWarning: suggest_uniform has been deprecated in v3.0.0. This feature will be removed in v6.0.0. See https://github.com/optuna/optuna/releases/tag/v3.0.0. Use suggest_float instead.\n",
      "  'subsample': trial.suggest_uniform('subsample', 0.5, 1.0),\n",
      "/var/folders/xh/fvvnghrs13n5sqcsmprbn_c80000gn/T/ipykernel_94415/2153949471.py:12: FutureWarning: suggest_uniform has been deprecated in v3.0.0. This feature will be removed in v6.0.0. See https://github.com/optuna/optuna/releases/tag/v3.0.0. Use suggest_float instead.\n",
      "  'colsample_bytree': trial.suggest_uniform('colsample_bytree', 0.6, 1.0),\n",
      "/var/folders/xh/fvvnghrs13n5sqcsmprbn_c80000gn/T/ipykernel_94415/2153949471.py:13: FutureWarning: suggest_loguniform has been deprecated in v3.0.0. This feature will be removed in v6.0.0. See https://github.com/optuna/optuna/releases/tag/v3.0.0. Use suggest_float(..., log=True) instead.\n",
      "  'gamma': trial.suggest_loguniform('gamma', 1e-8, 1.0),\n",
      "/var/folders/xh/fvvnghrs13n5sqcsmprbn_c80000gn/T/ipykernel_94415/2153949471.py:14: FutureWarning: suggest_loguniform has been deprecated in v3.0.0. This feature will be removed in v6.0.0. See https://github.com/optuna/optuna/releases/tag/v3.0.0. Use suggest_float(..., log=True) instead.\n",
      "  'reg_alpha': trial.suggest_loguniform('reg_alpha', 1e-8, 10.0),\n",
      "/var/folders/xh/fvvnghrs13n5sqcsmprbn_c80000gn/T/ipykernel_94415/2153949471.py:15: FutureWarning: suggest_loguniform has been deprecated in v3.0.0. This feature will be removed in v6.0.0. See https://github.com/optuna/optuna/releases/tag/v3.0.0. Use suggest_float(..., log=True) instead.\n",
      "  'reg_lambda': trial.suggest_loguniform('reg_lambda', 1e-8, 10.0)\n",
      "[I 2024-11-20 18:45:19,013] Trial 24 finished with value: 0.8526797543538441 and parameters: {'learning_rate': 0.023705850445804425, 'max_depth': 2, 'min_child_weight': 9, 'n_estimators': 267, 'subsample': 0.7936371954778152, 'colsample_bytree': 0.7575326033408473, 'gamma': 4.893488349380198e-06, 'reg_alpha': 1.565707778444722e-07, 'reg_lambda': 4.5788645961321654e-07}. Best is trial 24 with value: 0.8526797543538441.\n",
      "/var/folders/xh/fvvnghrs13n5sqcsmprbn_c80000gn/T/ipykernel_94415/2153949471.py:7: FutureWarning: suggest_loguniform has been deprecated in v3.0.0. This feature will be removed in v6.0.0. See https://github.com/optuna/optuna/releases/tag/v3.0.0. Use suggest_float(..., log=True) instead.\n",
      "  'learning_rate': trial.suggest_loguniform('learning_rate', 0.005, 0.05),\n",
      "/var/folders/xh/fvvnghrs13n5sqcsmprbn_c80000gn/T/ipykernel_94415/2153949471.py:11: FutureWarning: suggest_uniform has been deprecated in v3.0.0. This feature will be removed in v6.0.0. See https://github.com/optuna/optuna/releases/tag/v3.0.0. Use suggest_float instead.\n",
      "  'subsample': trial.suggest_uniform('subsample', 0.5, 1.0),\n",
      "/var/folders/xh/fvvnghrs13n5sqcsmprbn_c80000gn/T/ipykernel_94415/2153949471.py:12: FutureWarning: suggest_uniform has been deprecated in v3.0.0. This feature will be removed in v6.0.0. See https://github.com/optuna/optuna/releases/tag/v3.0.0. Use suggest_float instead.\n",
      "  'colsample_bytree': trial.suggest_uniform('colsample_bytree', 0.6, 1.0),\n",
      "/var/folders/xh/fvvnghrs13n5sqcsmprbn_c80000gn/T/ipykernel_94415/2153949471.py:13: FutureWarning: suggest_loguniform has been deprecated in v3.0.0. This feature will be removed in v6.0.0. See https://github.com/optuna/optuna/releases/tag/v3.0.0. Use suggest_float(..., log=True) instead.\n",
      "  'gamma': trial.suggest_loguniform('gamma', 1e-8, 1.0),\n",
      "/var/folders/xh/fvvnghrs13n5sqcsmprbn_c80000gn/T/ipykernel_94415/2153949471.py:14: FutureWarning: suggest_loguniform has been deprecated in v3.0.0. This feature will be removed in v6.0.0. See https://github.com/optuna/optuna/releases/tag/v3.0.0. Use suggest_float(..., log=True) instead.\n",
      "  'reg_alpha': trial.suggest_loguniform('reg_alpha', 1e-8, 10.0),\n",
      "/var/folders/xh/fvvnghrs13n5sqcsmprbn_c80000gn/T/ipykernel_94415/2153949471.py:15: FutureWarning: suggest_loguniform has been deprecated in v3.0.0. This feature will be removed in v6.0.0. See https://github.com/optuna/optuna/releases/tag/v3.0.0. Use suggest_float(..., log=True) instead.\n",
      "  'reg_lambda': trial.suggest_loguniform('reg_lambda', 1e-8, 10.0)\n",
      "[I 2024-11-20 18:45:19,411] Trial 25 finished with value: 0.8520362306743706 and parameters: {'learning_rate': 0.02362330194238279, 'max_depth': 3, 'min_child_weight': 9, 'n_estimators': 189, 'subsample': 0.788662765902457, 'colsample_bytree': 0.8525547425939599, 'gamma': 0.00014914944993715134, 'reg_alpha': 1.742159128749144e-07, 'reg_lambda': 8.970773070279011e-06}. Best is trial 24 with value: 0.8526797543538441.\n",
      "/var/folders/xh/fvvnghrs13n5sqcsmprbn_c80000gn/T/ipykernel_94415/2153949471.py:7: FutureWarning: suggest_loguniform has been deprecated in v3.0.0. This feature will be removed in v6.0.0. See https://github.com/optuna/optuna/releases/tag/v3.0.0. Use suggest_float(..., log=True) instead.\n",
      "  'learning_rate': trial.suggest_loguniform('learning_rate', 0.005, 0.05),\n",
      "/var/folders/xh/fvvnghrs13n5sqcsmprbn_c80000gn/T/ipykernel_94415/2153949471.py:11: FutureWarning: suggest_uniform has been deprecated in v3.0.0. This feature will be removed in v6.0.0. See https://github.com/optuna/optuna/releases/tag/v3.0.0. Use suggest_float instead.\n",
      "  'subsample': trial.suggest_uniform('subsample', 0.5, 1.0),\n",
      "/var/folders/xh/fvvnghrs13n5sqcsmprbn_c80000gn/T/ipykernel_94415/2153949471.py:12: FutureWarning: suggest_uniform has been deprecated in v3.0.0. This feature will be removed in v6.0.0. See https://github.com/optuna/optuna/releases/tag/v3.0.0. Use suggest_float instead.\n",
      "  'colsample_bytree': trial.suggest_uniform('colsample_bytree', 0.6, 1.0),\n",
      "/var/folders/xh/fvvnghrs13n5sqcsmprbn_c80000gn/T/ipykernel_94415/2153949471.py:13: FutureWarning: suggest_loguniform has been deprecated in v3.0.0. This feature will be removed in v6.0.0. See https://github.com/optuna/optuna/releases/tag/v3.0.0. Use suggest_float(..., log=True) instead.\n",
      "  'gamma': trial.suggest_loguniform('gamma', 1e-8, 1.0),\n",
      "/var/folders/xh/fvvnghrs13n5sqcsmprbn_c80000gn/T/ipykernel_94415/2153949471.py:14: FutureWarning: suggest_loguniform has been deprecated in v3.0.0. This feature will be removed in v6.0.0. See https://github.com/optuna/optuna/releases/tag/v3.0.0. Use suggest_float(..., log=True) instead.\n",
      "  'reg_alpha': trial.suggest_loguniform('reg_alpha', 1e-8, 10.0),\n",
      "/var/folders/xh/fvvnghrs13n5sqcsmprbn_c80000gn/T/ipykernel_94415/2153949471.py:15: FutureWarning: suggest_loguniform has been deprecated in v3.0.0. This feature will be removed in v6.0.0. See https://github.com/optuna/optuna/releases/tag/v3.0.0. Use suggest_float(..., log=True) instead.\n",
      "  'reg_lambda': trial.suggest_loguniform('reg_lambda', 1e-8, 10.0)\n",
      "[I 2024-11-20 18:45:19,818] Trial 26 finished with value: 0.8469059041525524 and parameters: {'learning_rate': 0.013802288969913644, 'max_depth': 2, 'min_child_weight': 7, 'n_estimators': 272, 'subsample': 0.636204258472181, 'colsample_bytree': 0.8220719547024745, 'gamma': 4.7210520472980495e-06, 'reg_alpha': 2.436446632235047e-05, 'reg_lambda': 2.2758884286969534e-07}. Best is trial 24 with value: 0.8526797543538441.\n",
      "/var/folders/xh/fvvnghrs13n5sqcsmprbn_c80000gn/T/ipykernel_94415/2153949471.py:7: FutureWarning: suggest_loguniform has been deprecated in v3.0.0. This feature will be removed in v6.0.0. See https://github.com/optuna/optuna/releases/tag/v3.0.0. Use suggest_float(..., log=True) instead.\n",
      "  'learning_rate': trial.suggest_loguniform('learning_rate', 0.005, 0.05),\n",
      "/var/folders/xh/fvvnghrs13n5sqcsmprbn_c80000gn/T/ipykernel_94415/2153949471.py:11: FutureWarning: suggest_uniform has been deprecated in v3.0.0. This feature will be removed in v6.0.0. See https://github.com/optuna/optuna/releases/tag/v3.0.0. Use suggest_float instead.\n",
      "  'subsample': trial.suggest_uniform('subsample', 0.5, 1.0),\n",
      "/var/folders/xh/fvvnghrs13n5sqcsmprbn_c80000gn/T/ipykernel_94415/2153949471.py:12: FutureWarning: suggest_uniform has been deprecated in v3.0.0. This feature will be removed in v6.0.0. See https://github.com/optuna/optuna/releases/tag/v3.0.0. Use suggest_float instead.\n",
      "  'colsample_bytree': trial.suggest_uniform('colsample_bytree', 0.6, 1.0),\n",
      "/var/folders/xh/fvvnghrs13n5sqcsmprbn_c80000gn/T/ipykernel_94415/2153949471.py:13: FutureWarning: suggest_loguniform has been deprecated in v3.0.0. This feature will be removed in v6.0.0. See https://github.com/optuna/optuna/releases/tag/v3.0.0. Use suggest_float(..., log=True) instead.\n",
      "  'gamma': trial.suggest_loguniform('gamma', 1e-8, 1.0),\n",
      "/var/folders/xh/fvvnghrs13n5sqcsmprbn_c80000gn/T/ipykernel_94415/2153949471.py:14: FutureWarning: suggest_loguniform has been deprecated in v3.0.0. This feature will be removed in v6.0.0. See https://github.com/optuna/optuna/releases/tag/v3.0.0. Use suggest_float(..., log=True) instead.\n",
      "  'reg_alpha': trial.suggest_loguniform('reg_alpha', 1e-8, 10.0),\n",
      "/var/folders/xh/fvvnghrs13n5sqcsmprbn_c80000gn/T/ipykernel_94415/2153949471.py:15: FutureWarning: suggest_loguniform has been deprecated in v3.0.0. This feature will be removed in v6.0.0. See https://github.com/optuna/optuna/releases/tag/v3.0.0. Use suggest_float(..., log=True) instead.\n",
      "  'reg_lambda': trial.suggest_loguniform('reg_lambda', 1e-8, 10.0)\n",
      "[I 2024-11-20 18:45:20,374] Trial 27 finished with value: 0.8472763903043145 and parameters: {'learning_rate': 0.024951232078056773, 'max_depth': 4, 'min_child_weight': 8, 'n_estimators': 219, 'subsample': 0.8105726402076037, 'colsample_bytree': 0.7573260553557079, 'gamma': 2.0491763782240972e-07, 'reg_alpha': 2.2669488464507582e-07, 'reg_lambda': 6.787251044241559e-05}. Best is trial 24 with value: 0.8526797543538441.\n",
      "/var/folders/xh/fvvnghrs13n5sqcsmprbn_c80000gn/T/ipykernel_94415/2153949471.py:7: FutureWarning: suggest_loguniform has been deprecated in v3.0.0. This feature will be removed in v6.0.0. See https://github.com/optuna/optuna/releases/tag/v3.0.0. Use suggest_float(..., log=True) instead.\n",
      "  'learning_rate': trial.suggest_loguniform('learning_rate', 0.005, 0.05),\n",
      "/var/folders/xh/fvvnghrs13n5sqcsmprbn_c80000gn/T/ipykernel_94415/2153949471.py:11: FutureWarning: suggest_uniform has been deprecated in v3.0.0. This feature will be removed in v6.0.0. See https://github.com/optuna/optuna/releases/tag/v3.0.0. Use suggest_float instead.\n",
      "  'subsample': trial.suggest_uniform('subsample', 0.5, 1.0),\n",
      "/var/folders/xh/fvvnghrs13n5sqcsmprbn_c80000gn/T/ipykernel_94415/2153949471.py:12: FutureWarning: suggest_uniform has been deprecated in v3.0.0. This feature will be removed in v6.0.0. See https://github.com/optuna/optuna/releases/tag/v3.0.0. Use suggest_float instead.\n",
      "  'colsample_bytree': trial.suggest_uniform('colsample_bytree', 0.6, 1.0),\n",
      "/var/folders/xh/fvvnghrs13n5sqcsmprbn_c80000gn/T/ipykernel_94415/2153949471.py:13: FutureWarning: suggest_loguniform has been deprecated in v3.0.0. This feature will be removed in v6.0.0. See https://github.com/optuna/optuna/releases/tag/v3.0.0. Use suggest_float(..., log=True) instead.\n",
      "  'gamma': trial.suggest_loguniform('gamma', 1e-8, 1.0),\n",
      "/var/folders/xh/fvvnghrs13n5sqcsmprbn_c80000gn/T/ipykernel_94415/2153949471.py:14: FutureWarning: suggest_loguniform has been deprecated in v3.0.0. This feature will be removed in v6.0.0. See https://github.com/optuna/optuna/releases/tag/v3.0.0. Use suggest_float(..., log=True) instead.\n",
      "  'reg_alpha': trial.suggest_loguniform('reg_alpha', 1e-8, 10.0),\n",
      "/var/folders/xh/fvvnghrs13n5sqcsmprbn_c80000gn/T/ipykernel_94415/2153949471.py:15: FutureWarning: suggest_loguniform has been deprecated in v3.0.0. This feature will be removed in v6.0.0. See https://github.com/optuna/optuna/releases/tag/v3.0.0. Use suggest_float(..., log=True) instead.\n",
      "  'reg_lambda': trial.suggest_loguniform('reg_lambda', 1e-8, 10.0)\n",
      "[I 2024-11-20 18:45:20,619] Trial 28 finished with value: 0.8425589480531516 and parameters: {'learning_rate': 0.02045785594610541, 'max_depth': 2, 'min_child_weight': 9, 'n_estimators': 157, 'subsample': 0.587025957883023, 'colsample_bytree': 0.6738929710296, 'gamma': 0.0001242269590972591, 'reg_alpha': 0.0001426149689554787, 'reg_lambda': 1.449015710362039e-06}. Best is trial 24 with value: 0.8526797543538441.\n",
      "/var/folders/xh/fvvnghrs13n5sqcsmprbn_c80000gn/T/ipykernel_94415/2153949471.py:7: FutureWarning: suggest_loguniform has been deprecated in v3.0.0. This feature will be removed in v6.0.0. See https://github.com/optuna/optuna/releases/tag/v3.0.0. Use suggest_float(..., log=True) instead.\n",
      "  'learning_rate': trial.suggest_loguniform('learning_rate', 0.005, 0.05),\n",
      "/var/folders/xh/fvvnghrs13n5sqcsmprbn_c80000gn/T/ipykernel_94415/2153949471.py:11: FutureWarning: suggest_uniform has been deprecated in v3.0.0. This feature will be removed in v6.0.0. See https://github.com/optuna/optuna/releases/tag/v3.0.0. Use suggest_float instead.\n",
      "  'subsample': trial.suggest_uniform('subsample', 0.5, 1.0),\n",
      "/var/folders/xh/fvvnghrs13n5sqcsmprbn_c80000gn/T/ipykernel_94415/2153949471.py:12: FutureWarning: suggest_uniform has been deprecated in v3.0.0. This feature will be removed in v6.0.0. See https://github.com/optuna/optuna/releases/tag/v3.0.0. Use suggest_float instead.\n",
      "  'colsample_bytree': trial.suggest_uniform('colsample_bytree', 0.6, 1.0),\n",
      "/var/folders/xh/fvvnghrs13n5sqcsmprbn_c80000gn/T/ipykernel_94415/2153949471.py:13: FutureWarning: suggest_loguniform has been deprecated in v3.0.0. This feature will be removed in v6.0.0. See https://github.com/optuna/optuna/releases/tag/v3.0.0. Use suggest_float(..., log=True) instead.\n",
      "  'gamma': trial.suggest_loguniform('gamma', 1e-8, 1.0),\n",
      "/var/folders/xh/fvvnghrs13n5sqcsmprbn_c80000gn/T/ipykernel_94415/2153949471.py:14: FutureWarning: suggest_loguniform has been deprecated in v3.0.0. This feature will be removed in v6.0.0. See https://github.com/optuna/optuna/releases/tag/v3.0.0. Use suggest_float(..., log=True) instead.\n",
      "  'reg_alpha': trial.suggest_loguniform('reg_alpha', 1e-8, 10.0),\n",
      "/var/folders/xh/fvvnghrs13n5sqcsmprbn_c80000gn/T/ipykernel_94415/2153949471.py:15: FutureWarning: suggest_loguniform has been deprecated in v3.0.0. This feature will be removed in v6.0.0. See https://github.com/optuna/optuna/releases/tag/v3.0.0. Use suggest_float(..., log=True) instead.\n",
      "  'reg_lambda': trial.suggest_loguniform('reg_lambda', 1e-8, 10.0)\n",
      "[I 2024-11-20 18:45:21,147] Trial 29 finished with value: 0.8515137925049269 and parameters: {'learning_rate': 0.018638605332301602, 'max_depth': 3, 'min_child_weight': 6, 'n_estimators': 278, 'subsample': 0.7843746686939792, 'colsample_bytree': 0.8078801495807305, 'gamma': 0.0026717203177427378, 'reg_alpha': 0.00013336086587662676, 'reg_lambda': 1.1972693171869103e-07}. Best is trial 24 with value: 0.8526797543538441.\n",
      "/var/folders/xh/fvvnghrs13n5sqcsmprbn_c80000gn/T/ipykernel_94415/2153949471.py:7: FutureWarning: suggest_loguniform has been deprecated in v3.0.0. This feature will be removed in v6.0.0. See https://github.com/optuna/optuna/releases/tag/v3.0.0. Use suggest_float(..., log=True) instead.\n",
      "  'learning_rate': trial.suggest_loguniform('learning_rate', 0.005, 0.05),\n",
      "/var/folders/xh/fvvnghrs13n5sqcsmprbn_c80000gn/T/ipykernel_94415/2153949471.py:11: FutureWarning: suggest_uniform has been deprecated in v3.0.0. This feature will be removed in v6.0.0. See https://github.com/optuna/optuna/releases/tag/v3.0.0. Use suggest_float instead.\n",
      "  'subsample': trial.suggest_uniform('subsample', 0.5, 1.0),\n",
      "/var/folders/xh/fvvnghrs13n5sqcsmprbn_c80000gn/T/ipykernel_94415/2153949471.py:12: FutureWarning: suggest_uniform has been deprecated in v3.0.0. This feature will be removed in v6.0.0. See https://github.com/optuna/optuna/releases/tag/v3.0.0. Use suggest_float instead.\n",
      "  'colsample_bytree': trial.suggest_uniform('colsample_bytree', 0.6, 1.0),\n",
      "/var/folders/xh/fvvnghrs13n5sqcsmprbn_c80000gn/T/ipykernel_94415/2153949471.py:13: FutureWarning: suggest_loguniform has been deprecated in v3.0.0. This feature will be removed in v6.0.0. See https://github.com/optuna/optuna/releases/tag/v3.0.0. Use suggest_float(..., log=True) instead.\n",
      "  'gamma': trial.suggest_loguniform('gamma', 1e-8, 1.0),\n",
      "/var/folders/xh/fvvnghrs13n5sqcsmprbn_c80000gn/T/ipykernel_94415/2153949471.py:14: FutureWarning: suggest_loguniform has been deprecated in v3.0.0. This feature will be removed in v6.0.0. See https://github.com/optuna/optuna/releases/tag/v3.0.0. Use suggest_float(..., log=True) instead.\n",
      "  'reg_alpha': trial.suggest_loguniform('reg_alpha', 1e-8, 10.0),\n",
      "/var/folders/xh/fvvnghrs13n5sqcsmprbn_c80000gn/T/ipykernel_94415/2153949471.py:15: FutureWarning: suggest_loguniform has been deprecated in v3.0.0. This feature will be removed in v6.0.0. See https://github.com/optuna/optuna/releases/tag/v3.0.0. Use suggest_float(..., log=True) instead.\n",
      "  'reg_lambda': trial.suggest_loguniform('reg_lambda', 1e-8, 10.0)\n",
      "[I 2024-11-20 18:45:21,469] Trial 30 finished with value: 0.8523320893482732 and parameters: {'learning_rate': 0.0385738680882129, 'max_depth': 2, 'min_child_weight': 5, 'n_estimators': 213, 'subsample': 0.8436731623250615, 'colsample_bytree': 0.7748521990820317, 'gamma': 5.593237534198682e-08, 'reg_alpha': 9.31810977407946e-06, 'reg_lambda': 2.0822463871814265e-07}. Best is trial 24 with value: 0.8526797543538441.\n",
      "/var/folders/xh/fvvnghrs13n5sqcsmprbn_c80000gn/T/ipykernel_94415/2153949471.py:7: FutureWarning: suggest_loguniform has been deprecated in v3.0.0. This feature will be removed in v6.0.0. See https://github.com/optuna/optuna/releases/tag/v3.0.0. Use suggest_float(..., log=True) instead.\n",
      "  'learning_rate': trial.suggest_loguniform('learning_rate', 0.005, 0.05),\n",
      "/var/folders/xh/fvvnghrs13n5sqcsmprbn_c80000gn/T/ipykernel_94415/2153949471.py:11: FutureWarning: suggest_uniform has been deprecated in v3.0.0. This feature will be removed in v6.0.0. See https://github.com/optuna/optuna/releases/tag/v3.0.0. Use suggest_float instead.\n",
      "  'subsample': trial.suggest_uniform('subsample', 0.5, 1.0),\n",
      "/var/folders/xh/fvvnghrs13n5sqcsmprbn_c80000gn/T/ipykernel_94415/2153949471.py:12: FutureWarning: suggest_uniform has been deprecated in v3.0.0. This feature will be removed in v6.0.0. See https://github.com/optuna/optuna/releases/tag/v3.0.0. Use suggest_float instead.\n",
      "  'colsample_bytree': trial.suggest_uniform('colsample_bytree', 0.6, 1.0),\n",
      "/var/folders/xh/fvvnghrs13n5sqcsmprbn_c80000gn/T/ipykernel_94415/2153949471.py:13: FutureWarning: suggest_loguniform has been deprecated in v3.0.0. This feature will be removed in v6.0.0. See https://github.com/optuna/optuna/releases/tag/v3.0.0. Use suggest_float(..., log=True) instead.\n",
      "  'gamma': trial.suggest_loguniform('gamma', 1e-8, 1.0),\n",
      "/var/folders/xh/fvvnghrs13n5sqcsmprbn_c80000gn/T/ipykernel_94415/2153949471.py:14: FutureWarning: suggest_loguniform has been deprecated in v3.0.0. This feature will be removed in v6.0.0. See https://github.com/optuna/optuna/releases/tag/v3.0.0. Use suggest_float(..., log=True) instead.\n",
      "  'reg_alpha': trial.suggest_loguniform('reg_alpha', 1e-8, 10.0),\n",
      "/var/folders/xh/fvvnghrs13n5sqcsmprbn_c80000gn/T/ipykernel_94415/2153949471.py:15: FutureWarning: suggest_loguniform has been deprecated in v3.0.0. This feature will be removed in v6.0.0. See https://github.com/optuna/optuna/releases/tag/v3.0.0. Use suggest_float(..., log=True) instead.\n",
      "  'reg_lambda': trial.suggest_loguniform('reg_lambda', 1e-8, 10.0)\n",
      "[I 2024-11-20 18:45:21,786] Trial 31 finished with value: 0.8525089240352618 and parameters: {'learning_rate': 0.038197584263744803, 'max_depth': 2, 'min_child_weight': 5, 'n_estimators': 212, 'subsample': 0.8609119108355834, 'colsample_bytree': 0.7753171153245446, 'gamma': 7.972162117862627e-08, 'reg_alpha': 1.1221350279951015e-05, 'reg_lambda': 1.7793216741300348e-07}. Best is trial 24 with value: 0.8526797543538441.\n",
      "/var/folders/xh/fvvnghrs13n5sqcsmprbn_c80000gn/T/ipykernel_94415/2153949471.py:7: FutureWarning: suggest_loguniform has been deprecated in v3.0.0. This feature will be removed in v6.0.0. See https://github.com/optuna/optuna/releases/tag/v3.0.0. Use suggest_float(..., log=True) instead.\n",
      "  'learning_rate': trial.suggest_loguniform('learning_rate', 0.005, 0.05),\n",
      "/var/folders/xh/fvvnghrs13n5sqcsmprbn_c80000gn/T/ipykernel_94415/2153949471.py:11: FutureWarning: suggest_uniform has been deprecated in v3.0.0. This feature will be removed in v6.0.0. See https://github.com/optuna/optuna/releases/tag/v3.0.0. Use suggest_float instead.\n",
      "  'subsample': trial.suggest_uniform('subsample', 0.5, 1.0),\n",
      "/var/folders/xh/fvvnghrs13n5sqcsmprbn_c80000gn/T/ipykernel_94415/2153949471.py:12: FutureWarning: suggest_uniform has been deprecated in v3.0.0. This feature will be removed in v6.0.0. See https://github.com/optuna/optuna/releases/tag/v3.0.0. Use suggest_float instead.\n",
      "  'colsample_bytree': trial.suggest_uniform('colsample_bytree', 0.6, 1.0),\n",
      "/var/folders/xh/fvvnghrs13n5sqcsmprbn_c80000gn/T/ipykernel_94415/2153949471.py:13: FutureWarning: suggest_loguniform has been deprecated in v3.0.0. This feature will be removed in v6.0.0. See https://github.com/optuna/optuna/releases/tag/v3.0.0. Use suggest_float(..., log=True) instead.\n",
      "  'gamma': trial.suggest_loguniform('gamma', 1e-8, 1.0),\n",
      "/var/folders/xh/fvvnghrs13n5sqcsmprbn_c80000gn/T/ipykernel_94415/2153949471.py:14: FutureWarning: suggest_loguniform has been deprecated in v3.0.0. This feature will be removed in v6.0.0. See https://github.com/optuna/optuna/releases/tag/v3.0.0. Use suggest_float(..., log=True) instead.\n",
      "  'reg_alpha': trial.suggest_loguniform('reg_alpha', 1e-8, 10.0),\n",
      "/var/folders/xh/fvvnghrs13n5sqcsmprbn_c80000gn/T/ipykernel_94415/2153949471.py:15: FutureWarning: suggest_loguniform has been deprecated in v3.0.0. This feature will be removed in v6.0.0. See https://github.com/optuna/optuna/releases/tag/v3.0.0. Use suggest_float(..., log=True) instead.\n",
      "  'reg_lambda': trial.suggest_loguniform('reg_lambda', 1e-8, 10.0)\n",
      "[I 2024-11-20 18:45:22,041] Trial 32 finished with value: 0.8481991886100015 and parameters: {'learning_rate': 0.027576928261955635, 'max_depth': 2, 'min_child_weight': 7, 'n_estimators': 154, 'subsample': 0.9551569599079702, 'colsample_bytree': 0.7317308600504302, 'gamma': 7.278176226516487e-07, 'reg_alpha': 6.577432702890457e-08, 'reg_lambda': 8.323613233398957e-08}. Best is trial 24 with value: 0.8526797543538441.\n",
      "/var/folders/xh/fvvnghrs13n5sqcsmprbn_c80000gn/T/ipykernel_94415/2153949471.py:7: FutureWarning: suggest_loguniform has been deprecated in v3.0.0. This feature will be removed in v6.0.0. See https://github.com/optuna/optuna/releases/tag/v3.0.0. Use suggest_float(..., log=True) instead.\n",
      "  'learning_rate': trial.suggest_loguniform('learning_rate', 0.005, 0.05),\n",
      "/var/folders/xh/fvvnghrs13n5sqcsmprbn_c80000gn/T/ipykernel_94415/2153949471.py:11: FutureWarning: suggest_uniform has been deprecated in v3.0.0. This feature will be removed in v6.0.0. See https://github.com/optuna/optuna/releases/tag/v3.0.0. Use suggest_float instead.\n",
      "  'subsample': trial.suggest_uniform('subsample', 0.5, 1.0),\n",
      "/var/folders/xh/fvvnghrs13n5sqcsmprbn_c80000gn/T/ipykernel_94415/2153949471.py:12: FutureWarning: suggest_uniform has been deprecated in v3.0.0. This feature will be removed in v6.0.0. See https://github.com/optuna/optuna/releases/tag/v3.0.0. Use suggest_float instead.\n",
      "  'colsample_bytree': trial.suggest_uniform('colsample_bytree', 0.6, 1.0),\n",
      "/var/folders/xh/fvvnghrs13n5sqcsmprbn_c80000gn/T/ipykernel_94415/2153949471.py:13: FutureWarning: suggest_loguniform has been deprecated in v3.0.0. This feature will be removed in v6.0.0. See https://github.com/optuna/optuna/releases/tag/v3.0.0. Use suggest_float(..., log=True) instead.\n",
      "  'gamma': trial.suggest_loguniform('gamma', 1e-8, 1.0),\n",
      "/var/folders/xh/fvvnghrs13n5sqcsmprbn_c80000gn/T/ipykernel_94415/2153949471.py:14: FutureWarning: suggest_loguniform has been deprecated in v3.0.0. This feature will be removed in v6.0.0. See https://github.com/optuna/optuna/releases/tag/v3.0.0. Use suggest_float(..., log=True) instead.\n",
      "  'reg_alpha': trial.suggest_loguniform('reg_alpha', 1e-8, 10.0),\n",
      "/var/folders/xh/fvvnghrs13n5sqcsmprbn_c80000gn/T/ipykernel_94415/2153949471.py:15: FutureWarning: suggest_loguniform has been deprecated in v3.0.0. This feature will be removed in v6.0.0. See https://github.com/optuna/optuna/releases/tag/v3.0.0. Use suggest_float(..., log=True) instead.\n",
      "  'reg_lambda': trial.suggest_loguniform('reg_lambda', 1e-8, 10.0)\n",
      "[I 2024-11-20 18:45:22,433] Trial 33 finished with value: 0.8512432641558819 and parameters: {'learning_rate': 0.04261025435815738, 'max_depth': 2, 'min_child_weight': 5, 'n_estimators': 261, 'subsample': 0.8683855090988609, 'colsample_bytree': 0.8282987608976584, 'gamma': 8.148678223486457e-06, 'reg_alpha': 4.034509130381823e-08, 'reg_lambda': 4.96994342270801e-07}. Best is trial 24 with value: 0.8526797543538441.\n",
      "/var/folders/xh/fvvnghrs13n5sqcsmprbn_c80000gn/T/ipykernel_94415/2153949471.py:7: FutureWarning: suggest_loguniform has been deprecated in v3.0.0. This feature will be removed in v6.0.0. See https://github.com/optuna/optuna/releases/tag/v3.0.0. Use suggest_float(..., log=True) instead.\n",
      "  'learning_rate': trial.suggest_loguniform('learning_rate', 0.005, 0.05),\n",
      "/var/folders/xh/fvvnghrs13n5sqcsmprbn_c80000gn/T/ipykernel_94415/2153949471.py:11: FutureWarning: suggest_uniform has been deprecated in v3.0.0. This feature will be removed in v6.0.0. See https://github.com/optuna/optuna/releases/tag/v3.0.0. Use suggest_float instead.\n",
      "  'subsample': trial.suggest_uniform('subsample', 0.5, 1.0),\n",
      "/var/folders/xh/fvvnghrs13n5sqcsmprbn_c80000gn/T/ipykernel_94415/2153949471.py:12: FutureWarning: suggest_uniform has been deprecated in v3.0.0. This feature will be removed in v6.0.0. See https://github.com/optuna/optuna/releases/tag/v3.0.0. Use suggest_float instead.\n",
      "  'colsample_bytree': trial.suggest_uniform('colsample_bytree', 0.6, 1.0),\n",
      "/var/folders/xh/fvvnghrs13n5sqcsmprbn_c80000gn/T/ipykernel_94415/2153949471.py:13: FutureWarning: suggest_loguniform has been deprecated in v3.0.0. This feature will be removed in v6.0.0. See https://github.com/optuna/optuna/releases/tag/v3.0.0. Use suggest_float(..., log=True) instead.\n",
      "  'gamma': trial.suggest_loguniform('gamma', 1e-8, 1.0),\n",
      "/var/folders/xh/fvvnghrs13n5sqcsmprbn_c80000gn/T/ipykernel_94415/2153949471.py:14: FutureWarning: suggest_loguniform has been deprecated in v3.0.0. This feature will be removed in v6.0.0. See https://github.com/optuna/optuna/releases/tag/v3.0.0. Use suggest_float(..., log=True) instead.\n",
      "  'reg_alpha': trial.suggest_loguniform('reg_alpha', 1e-8, 10.0),\n",
      "/var/folders/xh/fvvnghrs13n5sqcsmprbn_c80000gn/T/ipykernel_94415/2153949471.py:15: FutureWarning: suggest_loguniform has been deprecated in v3.0.0. This feature will be removed in v6.0.0. See https://github.com/optuna/optuna/releases/tag/v3.0.0. Use suggest_float(..., log=True) instead.\n",
      "  'reg_lambda': trial.suggest_loguniform('reg_lambda', 1e-8, 10.0)\n",
      "[I 2024-11-20 18:45:23,067] Trial 34 finished with value: 0.8525402151355413 and parameters: {'learning_rate': 0.015558537133073227, 'max_depth': 3, 'min_child_weight': 7, 'n_estimators': 340, 'subsample': 0.721835516084389, 'colsample_bytree': 0.7285972806922564, 'gamma': 1.965830528100391e-07, 'reg_alpha': 4.570823679846016e-07, 'reg_lambda': 2.175730071922325e-06}. Best is trial 24 with value: 0.8526797543538441.\n",
      "/var/folders/xh/fvvnghrs13n5sqcsmprbn_c80000gn/T/ipykernel_94415/2153949471.py:7: FutureWarning: suggest_loguniform has been deprecated in v3.0.0. This feature will be removed in v6.0.0. See https://github.com/optuna/optuna/releases/tag/v3.0.0. Use suggest_float(..., log=True) instead.\n",
      "  'learning_rate': trial.suggest_loguniform('learning_rate', 0.005, 0.05),\n",
      "/var/folders/xh/fvvnghrs13n5sqcsmprbn_c80000gn/T/ipykernel_94415/2153949471.py:11: FutureWarning: suggest_uniform has been deprecated in v3.0.0. This feature will be removed in v6.0.0. See https://github.com/optuna/optuna/releases/tag/v3.0.0. Use suggest_float instead.\n",
      "  'subsample': trial.suggest_uniform('subsample', 0.5, 1.0),\n",
      "/var/folders/xh/fvvnghrs13n5sqcsmprbn_c80000gn/T/ipykernel_94415/2153949471.py:12: FutureWarning: suggest_uniform has been deprecated in v3.0.0. This feature will be removed in v6.0.0. See https://github.com/optuna/optuna/releases/tag/v3.0.0. Use suggest_float instead.\n",
      "  'colsample_bytree': trial.suggest_uniform('colsample_bytree', 0.6, 1.0),\n",
      "/var/folders/xh/fvvnghrs13n5sqcsmprbn_c80000gn/T/ipykernel_94415/2153949471.py:13: FutureWarning: suggest_loguniform has been deprecated in v3.0.0. This feature will be removed in v6.0.0. See https://github.com/optuna/optuna/releases/tag/v3.0.0. Use suggest_float(..., log=True) instead.\n",
      "  'gamma': trial.suggest_loguniform('gamma', 1e-8, 1.0),\n",
      "/var/folders/xh/fvvnghrs13n5sqcsmprbn_c80000gn/T/ipykernel_94415/2153949471.py:14: FutureWarning: suggest_loguniform has been deprecated in v3.0.0. This feature will be removed in v6.0.0. See https://github.com/optuna/optuna/releases/tag/v3.0.0. Use suggest_float(..., log=True) instead.\n",
      "  'reg_alpha': trial.suggest_loguniform('reg_alpha', 1e-8, 10.0),\n",
      "/var/folders/xh/fvvnghrs13n5sqcsmprbn_c80000gn/T/ipykernel_94415/2153949471.py:15: FutureWarning: suggest_loguniform has been deprecated in v3.0.0. This feature will be removed in v6.0.0. See https://github.com/optuna/optuna/releases/tag/v3.0.0. Use suggest_float(..., log=True) instead.\n",
      "  'reg_lambda': trial.suggest_loguniform('reg_lambda', 1e-8, 10.0)\n",
      "[I 2024-11-20 18:45:23,776] Trial 35 finished with value: 0.8518455577352211 and parameters: {'learning_rate': 0.015619325671412658, 'max_depth': 3, 'min_child_weight': 7, 'n_estimators': 389, 'subsample': 0.7260414866396971, 'colsample_bytree': 0.7284243364271238, 'gamma': 4.7764021816159146e-08, 'reg_alpha': 7.858472684062812e-07, 'reg_lambda': 2.704070444704117e-06}. Best is trial 24 with value: 0.8526797543538441.\n",
      "/var/folders/xh/fvvnghrs13n5sqcsmprbn_c80000gn/T/ipykernel_94415/2153949471.py:7: FutureWarning: suggest_loguniform has been deprecated in v3.0.0. This feature will be removed in v6.0.0. See https://github.com/optuna/optuna/releases/tag/v3.0.0. Use suggest_float(..., log=True) instead.\n",
      "  'learning_rate': trial.suggest_loguniform('learning_rate', 0.005, 0.05),\n",
      "/var/folders/xh/fvvnghrs13n5sqcsmprbn_c80000gn/T/ipykernel_94415/2153949471.py:11: FutureWarning: suggest_uniform has been deprecated in v3.0.0. This feature will be removed in v6.0.0. See https://github.com/optuna/optuna/releases/tag/v3.0.0. Use suggest_float instead.\n",
      "  'subsample': trial.suggest_uniform('subsample', 0.5, 1.0),\n",
      "/var/folders/xh/fvvnghrs13n5sqcsmprbn_c80000gn/T/ipykernel_94415/2153949471.py:12: FutureWarning: suggest_uniform has been deprecated in v3.0.0. This feature will be removed in v6.0.0. See https://github.com/optuna/optuna/releases/tag/v3.0.0. Use suggest_float instead.\n",
      "  'colsample_bytree': trial.suggest_uniform('colsample_bytree', 0.6, 1.0),\n",
      "/var/folders/xh/fvvnghrs13n5sqcsmprbn_c80000gn/T/ipykernel_94415/2153949471.py:13: FutureWarning: suggest_loguniform has been deprecated in v3.0.0. This feature will be removed in v6.0.0. See https://github.com/optuna/optuna/releases/tag/v3.0.0. Use suggest_float(..., log=True) instead.\n",
      "  'gamma': trial.suggest_loguniform('gamma', 1e-8, 1.0),\n",
      "/var/folders/xh/fvvnghrs13n5sqcsmprbn_c80000gn/T/ipykernel_94415/2153949471.py:14: FutureWarning: suggest_loguniform has been deprecated in v3.0.0. This feature will be removed in v6.0.0. See https://github.com/optuna/optuna/releases/tag/v3.0.0. Use suggest_float(..., log=True) instead.\n",
      "  'reg_alpha': trial.suggest_loguniform('reg_alpha', 1e-8, 10.0),\n",
      "/var/folders/xh/fvvnghrs13n5sqcsmprbn_c80000gn/T/ipykernel_94415/2153949471.py:15: FutureWarning: suggest_loguniform has been deprecated in v3.0.0. This feature will be removed in v6.0.0. See https://github.com/optuna/optuna/releases/tag/v3.0.0. Use suggest_float(..., log=True) instead.\n",
      "  'reg_lambda': trial.suggest_loguniform('reg_lambda', 1e-8, 10.0)\n",
      "[I 2024-11-20 18:45:24,445] Trial 36 finished with value: 0.8516531247812339 and parameters: {'learning_rate': 0.016345539416979016, 'max_depth': 3, 'min_child_weight': 5, 'n_estimators': 337, 'subsample': 0.8081751900575, 'colsample_bytree': 0.7025468751476562, 'gamma': 4.0612821526248766e-07, 'reg_alpha': 3.969549306602282e-05, 'reg_lambda': 3.7961884437433655e-05}. Best is trial 24 with value: 0.8526797543538441.\n",
      "/var/folders/xh/fvvnghrs13n5sqcsmprbn_c80000gn/T/ipykernel_94415/2153949471.py:7: FutureWarning: suggest_loguniform has been deprecated in v3.0.0. This feature will be removed in v6.0.0. See https://github.com/optuna/optuna/releases/tag/v3.0.0. Use suggest_float(..., log=True) instead.\n",
      "  'learning_rate': trial.suggest_loguniform('learning_rate', 0.005, 0.05),\n",
      "/var/folders/xh/fvvnghrs13n5sqcsmprbn_c80000gn/T/ipykernel_94415/2153949471.py:11: FutureWarning: suggest_uniform has been deprecated in v3.0.0. This feature will be removed in v6.0.0. See https://github.com/optuna/optuna/releases/tag/v3.0.0. Use suggest_float instead.\n",
      "  'subsample': trial.suggest_uniform('subsample', 0.5, 1.0),\n",
      "/var/folders/xh/fvvnghrs13n5sqcsmprbn_c80000gn/T/ipykernel_94415/2153949471.py:12: FutureWarning: suggest_uniform has been deprecated in v3.0.0. This feature will be removed in v6.0.0. See https://github.com/optuna/optuna/releases/tag/v3.0.0. Use suggest_float instead.\n",
      "  'colsample_bytree': trial.suggest_uniform('colsample_bytree', 0.6, 1.0),\n",
      "/var/folders/xh/fvvnghrs13n5sqcsmprbn_c80000gn/T/ipykernel_94415/2153949471.py:13: FutureWarning: suggest_loguniform has been deprecated in v3.0.0. This feature will be removed in v6.0.0. See https://github.com/optuna/optuna/releases/tag/v3.0.0. Use suggest_float(..., log=True) instead.\n",
      "  'gamma': trial.suggest_loguniform('gamma', 1e-8, 1.0),\n",
      "/var/folders/xh/fvvnghrs13n5sqcsmprbn_c80000gn/T/ipykernel_94415/2153949471.py:14: FutureWarning: suggest_loguniform has been deprecated in v3.0.0. This feature will be removed in v6.0.0. See https://github.com/optuna/optuna/releases/tag/v3.0.0. Use suggest_float(..., log=True) instead.\n",
      "  'reg_alpha': trial.suggest_loguniform('reg_alpha', 1e-8, 10.0),\n",
      "/var/folders/xh/fvvnghrs13n5sqcsmprbn_c80000gn/T/ipykernel_94415/2153949471.py:15: FutureWarning: suggest_loguniform has been deprecated in v3.0.0. This feature will be removed in v6.0.0. See https://github.com/optuna/optuna/releases/tag/v3.0.0. Use suggest_float(..., log=True) instead.\n",
      "  'reg_lambda': trial.suggest_loguniform('reg_lambda', 1e-8, 10.0)\n",
      "[I 2024-11-20 18:45:25,261] Trial 37 finished with value: 0.8383407055323144 and parameters: {'learning_rate': 0.0272168598107155, 'max_depth': 4, 'min_child_weight': 6, 'n_estimators': 342, 'subsample': 0.7610113016962352, 'colsample_bytree': 0.7816625097075794, 'gamma': 4.511676879656789e-08, 'reg_alpha': 2.7745785644005075e-06, 'reg_lambda': 0.000687834793971067}. Best is trial 24 with value: 0.8526797543538441.\n",
      "/var/folders/xh/fvvnghrs13n5sqcsmprbn_c80000gn/T/ipykernel_94415/2153949471.py:7: FutureWarning: suggest_loguniform has been deprecated in v3.0.0. This feature will be removed in v6.0.0. See https://github.com/optuna/optuna/releases/tag/v3.0.0. Use suggest_float(..., log=True) instead.\n",
      "  'learning_rate': trial.suggest_loguniform('learning_rate', 0.005, 0.05),\n",
      "/var/folders/xh/fvvnghrs13n5sqcsmprbn_c80000gn/T/ipykernel_94415/2153949471.py:11: FutureWarning: suggest_uniform has been deprecated in v3.0.0. This feature will be removed in v6.0.0. See https://github.com/optuna/optuna/releases/tag/v3.0.0. Use suggest_float instead.\n",
      "  'subsample': trial.suggest_uniform('subsample', 0.5, 1.0),\n",
      "/var/folders/xh/fvvnghrs13n5sqcsmprbn_c80000gn/T/ipykernel_94415/2153949471.py:12: FutureWarning: suggest_uniform has been deprecated in v3.0.0. This feature will be removed in v6.0.0. See https://github.com/optuna/optuna/releases/tag/v3.0.0. Use suggest_float instead.\n",
      "  'colsample_bytree': trial.suggest_uniform('colsample_bytree', 0.6, 1.0),\n",
      "/var/folders/xh/fvvnghrs13n5sqcsmprbn_c80000gn/T/ipykernel_94415/2153949471.py:13: FutureWarning: suggest_loguniform has been deprecated in v3.0.0. This feature will be removed in v6.0.0. See https://github.com/optuna/optuna/releases/tag/v3.0.0. Use suggest_float(..., log=True) instead.\n",
      "  'gamma': trial.suggest_loguniform('gamma', 1e-8, 1.0),\n",
      "/var/folders/xh/fvvnghrs13n5sqcsmprbn_c80000gn/T/ipykernel_94415/2153949471.py:14: FutureWarning: suggest_loguniform has been deprecated in v3.0.0. This feature will be removed in v6.0.0. See https://github.com/optuna/optuna/releases/tag/v3.0.0. Use suggest_float(..., log=True) instead.\n",
      "  'reg_alpha': trial.suggest_loguniform('reg_alpha', 1e-8, 10.0),\n",
      "/var/folders/xh/fvvnghrs13n5sqcsmprbn_c80000gn/T/ipykernel_94415/2153949471.py:15: FutureWarning: suggest_loguniform has been deprecated in v3.0.0. This feature will be removed in v6.0.0. See https://github.com/optuna/optuna/releases/tag/v3.0.0. Use suggest_float(..., log=True) instead.\n",
      "  'reg_lambda': trial.suggest_loguniform('reg_lambda', 1e-8, 10.0)\n",
      "[I 2024-11-20 18:45:25,965] Trial 38 finished with value: 0.851782526842037 and parameters: {'learning_rate': 0.01394666154858629, 'max_depth': 3, 'min_child_weight': 10, 'n_estimators': 375, 'subsample': 0.9134547076180164, 'colsample_bytree': 0.7364116302813837, 'gamma': 1.8987878926421506e-06, 'reg_alpha': 2.7442465807567066e-08, 'reg_lambda': 2.0529581526804863e-05}. Best is trial 24 with value: 0.8526797543538441.\n",
      "/var/folders/xh/fvvnghrs13n5sqcsmprbn_c80000gn/T/ipykernel_94415/2153949471.py:7: FutureWarning: suggest_loguniform has been deprecated in v3.0.0. This feature will be removed in v6.0.0. See https://github.com/optuna/optuna/releases/tag/v3.0.0. Use suggest_float(..., log=True) instead.\n",
      "  'learning_rate': trial.suggest_loguniform('learning_rate', 0.005, 0.05),\n",
      "/var/folders/xh/fvvnghrs13n5sqcsmprbn_c80000gn/T/ipykernel_94415/2153949471.py:11: FutureWarning: suggest_uniform has been deprecated in v3.0.0. This feature will be removed in v6.0.0. See https://github.com/optuna/optuna/releases/tag/v3.0.0. Use suggest_float instead.\n",
      "  'subsample': trial.suggest_uniform('subsample', 0.5, 1.0),\n",
      "/var/folders/xh/fvvnghrs13n5sqcsmprbn_c80000gn/T/ipykernel_94415/2153949471.py:12: FutureWarning: suggest_uniform has been deprecated in v3.0.0. This feature will be removed in v6.0.0. See https://github.com/optuna/optuna/releases/tag/v3.0.0. Use suggest_float instead.\n",
      "  'colsample_bytree': trial.suggest_uniform('colsample_bytree', 0.6, 1.0),\n",
      "/var/folders/xh/fvvnghrs13n5sqcsmprbn_c80000gn/T/ipykernel_94415/2153949471.py:13: FutureWarning: suggest_loguniform has been deprecated in v3.0.0. This feature will be removed in v6.0.0. See https://github.com/optuna/optuna/releases/tag/v3.0.0. Use suggest_float(..., log=True) instead.\n",
      "  'gamma': trial.suggest_loguniform('gamma', 1e-8, 1.0),\n",
      "/var/folders/xh/fvvnghrs13n5sqcsmprbn_c80000gn/T/ipykernel_94415/2153949471.py:14: FutureWarning: suggest_loguniform has been deprecated in v3.0.0. This feature will be removed in v6.0.0. See https://github.com/optuna/optuna/releases/tag/v3.0.0. Use suggest_float(..., log=True) instead.\n",
      "  'reg_alpha': trial.suggest_loguniform('reg_alpha', 1e-8, 10.0),\n",
      "/var/folders/xh/fvvnghrs13n5sqcsmprbn_c80000gn/T/ipykernel_94415/2153949471.py:15: FutureWarning: suggest_loguniform has been deprecated in v3.0.0. This feature will be removed in v6.0.0. See https://github.com/optuna/optuna/releases/tag/v3.0.0. Use suggest_float(..., log=True) instead.\n",
      "  'reg_lambda': trial.suggest_loguniform('reg_lambda', 1e-8, 10.0)\n",
      "[I 2024-11-20 18:45:26,348] Trial 39 finished with value: 0.8272908746791714 and parameters: {'learning_rate': 0.018507789734235326, 'max_depth': 5, 'min_child_weight': 9, 'n_estimators': 115, 'subsample': 0.8629885520504421, 'colsample_bytree': 0.6960407737714097, 'gamma': 1.7984546704640627e-07, 'reg_alpha': 0.002030150472102129, 'reg_lambda': 0.0002663445549565341}. Best is trial 24 with value: 0.8526797543538441.\n",
      "/var/folders/xh/fvvnghrs13n5sqcsmprbn_c80000gn/T/ipykernel_94415/2153949471.py:7: FutureWarning: suggest_loguniform has been deprecated in v3.0.0. This feature will be removed in v6.0.0. See https://github.com/optuna/optuna/releases/tag/v3.0.0. Use suggest_float(..., log=True) instead.\n",
      "  'learning_rate': trial.suggest_loguniform('learning_rate', 0.005, 0.05),\n",
      "/var/folders/xh/fvvnghrs13n5sqcsmprbn_c80000gn/T/ipykernel_94415/2153949471.py:11: FutureWarning: suggest_uniform has been deprecated in v3.0.0. This feature will be removed in v6.0.0. See https://github.com/optuna/optuna/releases/tag/v3.0.0. Use suggest_float instead.\n",
      "  'subsample': trial.suggest_uniform('subsample', 0.5, 1.0),\n",
      "/var/folders/xh/fvvnghrs13n5sqcsmprbn_c80000gn/T/ipykernel_94415/2153949471.py:12: FutureWarning: suggest_uniform has been deprecated in v3.0.0. This feature will be removed in v6.0.0. See https://github.com/optuna/optuna/releases/tag/v3.0.0. Use suggest_float instead.\n",
      "  'colsample_bytree': trial.suggest_uniform('colsample_bytree', 0.6, 1.0),\n",
      "/var/folders/xh/fvvnghrs13n5sqcsmprbn_c80000gn/T/ipykernel_94415/2153949471.py:13: FutureWarning: suggest_loguniform has been deprecated in v3.0.0. This feature will be removed in v6.0.0. See https://github.com/optuna/optuna/releases/tag/v3.0.0. Use suggest_float(..., log=True) instead.\n",
      "  'gamma': trial.suggest_loguniform('gamma', 1e-8, 1.0),\n",
      "/var/folders/xh/fvvnghrs13n5sqcsmprbn_c80000gn/T/ipykernel_94415/2153949471.py:14: FutureWarning: suggest_loguniform has been deprecated in v3.0.0. This feature will be removed in v6.0.0. See https://github.com/optuna/optuna/releases/tag/v3.0.0. Use suggest_float(..., log=True) instead.\n",
      "  'reg_alpha': trial.suggest_loguniform('reg_alpha', 1e-8, 10.0),\n",
      "/var/folders/xh/fvvnghrs13n5sqcsmprbn_c80000gn/T/ipykernel_94415/2153949471.py:15: FutureWarning: suggest_loguniform has been deprecated in v3.0.0. This feature will be removed in v6.0.0. See https://github.com/optuna/optuna/releases/tag/v3.0.0. Use suggest_float(..., log=True) instead.\n",
      "  'reg_lambda': trial.suggest_loguniform('reg_lambda', 1e-8, 10.0)\n",
      "[I 2024-11-20 18:45:26,891] Trial 40 finished with value: 0.8518600056457926 and parameters: {'learning_rate': 0.021328847363414092, 'max_depth': 3, 'min_child_weight': 7, 'n_estimators': 277, 'subsample': 0.6447538302504985, 'colsample_bytree': 0.6612673370067584, 'gamma': 1.160457016030732e-06, 'reg_alpha': 5.9772558452353305e-06, 'reg_lambda': 4.02120762633311e-08}. Best is trial 24 with value: 0.8526797543538441.\n",
      "/var/folders/xh/fvvnghrs13n5sqcsmprbn_c80000gn/T/ipykernel_94415/2153949471.py:7: FutureWarning: suggest_loguniform has been deprecated in v3.0.0. This feature will be removed in v6.0.0. See https://github.com/optuna/optuna/releases/tag/v3.0.0. Use suggest_float(..., log=True) instead.\n",
      "  'learning_rate': trial.suggest_loguniform('learning_rate', 0.005, 0.05),\n",
      "/var/folders/xh/fvvnghrs13n5sqcsmprbn_c80000gn/T/ipykernel_94415/2153949471.py:11: FutureWarning: suggest_uniform has been deprecated in v3.0.0. This feature will be removed in v6.0.0. See https://github.com/optuna/optuna/releases/tag/v3.0.0. Use suggest_float instead.\n",
      "  'subsample': trial.suggest_uniform('subsample', 0.5, 1.0),\n",
      "/var/folders/xh/fvvnghrs13n5sqcsmprbn_c80000gn/T/ipykernel_94415/2153949471.py:12: FutureWarning: suggest_uniform has been deprecated in v3.0.0. This feature will be removed in v6.0.0. See https://github.com/optuna/optuna/releases/tag/v3.0.0. Use suggest_float instead.\n",
      "  'colsample_bytree': trial.suggest_uniform('colsample_bytree', 0.6, 1.0),\n",
      "/var/folders/xh/fvvnghrs13n5sqcsmprbn_c80000gn/T/ipykernel_94415/2153949471.py:13: FutureWarning: suggest_loguniform has been deprecated in v3.0.0. This feature will be removed in v6.0.0. See https://github.com/optuna/optuna/releases/tag/v3.0.0. Use suggest_float(..., log=True) instead.\n",
      "  'gamma': trial.suggest_loguniform('gamma', 1e-8, 1.0),\n",
      "/var/folders/xh/fvvnghrs13n5sqcsmprbn_c80000gn/T/ipykernel_94415/2153949471.py:14: FutureWarning: suggest_loguniform has been deprecated in v3.0.0. This feature will be removed in v6.0.0. See https://github.com/optuna/optuna/releases/tag/v3.0.0. Use suggest_float(..., log=True) instead.\n",
      "  'reg_alpha': trial.suggest_loguniform('reg_alpha', 1e-8, 10.0),\n",
      "/var/folders/xh/fvvnghrs13n5sqcsmprbn_c80000gn/T/ipykernel_94415/2153949471.py:15: FutureWarning: suggest_loguniform has been deprecated in v3.0.0. This feature will be removed in v6.0.0. See https://github.com/optuna/optuna/releases/tag/v3.0.0. Use suggest_float(..., log=True) instead.\n",
      "  'reg_lambda': trial.suggest_loguniform('reg_lambda', 1e-8, 10.0)\n",
      "[I 2024-11-20 18:45:27,252] Trial 41 finished with value: 0.8530459514491904 and parameters: {'learning_rate': 0.03455758105995407, 'max_depth': 2, 'min_child_weight': 8, 'n_estimators': 240, 'subsample': 0.7114841909067261, 'colsample_bytree': 0.7745881347153389, 'gamma': 3.896183784253244e-05, 'reg_alpha': 1.2965542957936085e-07, 'reg_lambda': 5.094859878221357e-07}. Best is trial 41 with value: 0.8530459514491904.\n",
      "/var/folders/xh/fvvnghrs13n5sqcsmprbn_c80000gn/T/ipykernel_94415/2153949471.py:7: FutureWarning: suggest_loguniform has been deprecated in v3.0.0. This feature will be removed in v6.0.0. See https://github.com/optuna/optuna/releases/tag/v3.0.0. Use suggest_float(..., log=True) instead.\n",
      "  'learning_rate': trial.suggest_loguniform('learning_rate', 0.005, 0.05),\n",
      "/var/folders/xh/fvvnghrs13n5sqcsmprbn_c80000gn/T/ipykernel_94415/2153949471.py:11: FutureWarning: suggest_uniform has been deprecated in v3.0.0. This feature will be removed in v6.0.0. See https://github.com/optuna/optuna/releases/tag/v3.0.0. Use suggest_float instead.\n",
      "  'subsample': trial.suggest_uniform('subsample', 0.5, 1.0),\n",
      "/var/folders/xh/fvvnghrs13n5sqcsmprbn_c80000gn/T/ipykernel_94415/2153949471.py:12: FutureWarning: suggest_uniform has been deprecated in v3.0.0. This feature will be removed in v6.0.0. See https://github.com/optuna/optuna/releases/tag/v3.0.0. Use suggest_float instead.\n",
      "  'colsample_bytree': trial.suggest_uniform('colsample_bytree', 0.6, 1.0),\n",
      "/var/folders/xh/fvvnghrs13n5sqcsmprbn_c80000gn/T/ipykernel_94415/2153949471.py:13: FutureWarning: suggest_loguniform has been deprecated in v3.0.0. This feature will be removed in v6.0.0. See https://github.com/optuna/optuna/releases/tag/v3.0.0. Use suggest_float(..., log=True) instead.\n",
      "  'gamma': trial.suggest_loguniform('gamma', 1e-8, 1.0),\n",
      "/var/folders/xh/fvvnghrs13n5sqcsmprbn_c80000gn/T/ipykernel_94415/2153949471.py:14: FutureWarning: suggest_loguniform has been deprecated in v3.0.0. This feature will be removed in v6.0.0. See https://github.com/optuna/optuna/releases/tag/v3.0.0. Use suggest_float(..., log=True) instead.\n",
      "  'reg_alpha': trial.suggest_loguniform('reg_alpha', 1e-8, 10.0),\n",
      "/var/folders/xh/fvvnghrs13n5sqcsmprbn_c80000gn/T/ipykernel_94415/2153949471.py:15: FutureWarning: suggest_loguniform has been deprecated in v3.0.0. This feature will be removed in v6.0.0. See https://github.com/optuna/optuna/releases/tag/v3.0.0. Use suggest_float(..., log=True) instead.\n",
      "  'reg_lambda': trial.suggest_loguniform('reg_lambda', 1e-8, 10.0)\n",
      "[I 2024-11-20 18:45:27,585] Trial 42 finished with value: 0.850631145905723 and parameters: {'learning_rate': 0.043882820082887415, 'max_depth': 2, 'min_child_weight': 8, 'n_estimators': 216, 'subsample': 0.7095718826660993, 'colsample_bytree': 0.8104955822218262, 'gamma': 5.930056629133578e-05, 'reg_alpha': 7.047097700990362e-08, 'reg_lambda': 6.645381440414178e-07}. Best is trial 41 with value: 0.8530459514491904.\n",
      "/var/folders/xh/fvvnghrs13n5sqcsmprbn_c80000gn/T/ipykernel_94415/2153949471.py:7: FutureWarning: suggest_loguniform has been deprecated in v3.0.0. This feature will be removed in v6.0.0. See https://github.com/optuna/optuna/releases/tag/v3.0.0. Use suggest_float(..., log=True) instead.\n",
      "  'learning_rate': trial.suggest_loguniform('learning_rate', 0.005, 0.05),\n",
      "/var/folders/xh/fvvnghrs13n5sqcsmprbn_c80000gn/T/ipykernel_94415/2153949471.py:11: FutureWarning: suggest_uniform has been deprecated in v3.0.0. This feature will be removed in v6.0.0. See https://github.com/optuna/optuna/releases/tag/v3.0.0. Use suggest_float instead.\n",
      "  'subsample': trial.suggest_uniform('subsample', 0.5, 1.0),\n",
      "/var/folders/xh/fvvnghrs13n5sqcsmprbn_c80000gn/T/ipykernel_94415/2153949471.py:12: FutureWarning: suggest_uniform has been deprecated in v3.0.0. This feature will be removed in v6.0.0. See https://github.com/optuna/optuna/releases/tag/v3.0.0. Use suggest_float instead.\n",
      "  'colsample_bytree': trial.suggest_uniform('colsample_bytree', 0.6, 1.0),\n",
      "/var/folders/xh/fvvnghrs13n5sqcsmprbn_c80000gn/T/ipykernel_94415/2153949471.py:13: FutureWarning: suggest_loguniform has been deprecated in v3.0.0. This feature will be removed in v6.0.0. See https://github.com/optuna/optuna/releases/tag/v3.0.0. Use suggest_float(..., log=True) instead.\n",
      "  'gamma': trial.suggest_loguniform('gamma', 1e-8, 1.0),\n",
      "/var/folders/xh/fvvnghrs13n5sqcsmprbn_c80000gn/T/ipykernel_94415/2153949471.py:14: FutureWarning: suggest_loguniform has been deprecated in v3.0.0. This feature will be removed in v6.0.0. See https://github.com/optuna/optuna/releases/tag/v3.0.0. Use suggest_float(..., log=True) instead.\n",
      "  'reg_alpha': trial.suggest_loguniform('reg_alpha', 1e-8, 10.0),\n",
      "/var/folders/xh/fvvnghrs13n5sqcsmprbn_c80000gn/T/ipykernel_94415/2153949471.py:15: FutureWarning: suggest_loguniform has been deprecated in v3.0.0. This feature will be removed in v6.0.0. See https://github.com/optuna/optuna/releases/tag/v3.0.0. Use suggest_float(..., log=True) instead.\n",
      "  'reg_lambda': trial.suggest_loguniform('reg_lambda', 1e-8, 10.0)\n",
      "[I 2024-11-20 18:45:28,007] Trial 43 finished with value: 0.8523899690684771 and parameters: {'learning_rate': 0.03553533498926773, 'max_depth': 2, 'min_child_weight': 7, 'n_estimators': 291, 'subsample': 0.7557777152436383, 'colsample_bytree': 0.7850708638338696, 'gamma': 0.0003886766798110456, 'reg_alpha': 3.534190454597256e-07, 'reg_lambda': 2.6763718178264048e-06}. Best is trial 41 with value: 0.8530459514491904.\n",
      "/var/folders/xh/fvvnghrs13n5sqcsmprbn_c80000gn/T/ipykernel_94415/2153949471.py:7: FutureWarning: suggest_loguniform has been deprecated in v3.0.0. This feature will be removed in v6.0.0. See https://github.com/optuna/optuna/releases/tag/v3.0.0. Use suggest_float(..., log=True) instead.\n",
      "  'learning_rate': trial.suggest_loguniform('learning_rate', 0.005, 0.05),\n",
      "/var/folders/xh/fvvnghrs13n5sqcsmprbn_c80000gn/T/ipykernel_94415/2153949471.py:11: FutureWarning: suggest_uniform has been deprecated in v3.0.0. This feature will be removed in v6.0.0. See https://github.com/optuna/optuna/releases/tag/v3.0.0. Use suggest_float instead.\n",
      "  'subsample': trial.suggest_uniform('subsample', 0.5, 1.0),\n",
      "/var/folders/xh/fvvnghrs13n5sqcsmprbn_c80000gn/T/ipykernel_94415/2153949471.py:12: FutureWarning: suggest_uniform has been deprecated in v3.0.0. This feature will be removed in v6.0.0. See https://github.com/optuna/optuna/releases/tag/v3.0.0. Use suggest_float instead.\n",
      "  'colsample_bytree': trial.suggest_uniform('colsample_bytree', 0.6, 1.0),\n",
      "/var/folders/xh/fvvnghrs13n5sqcsmprbn_c80000gn/T/ipykernel_94415/2153949471.py:13: FutureWarning: suggest_loguniform has been deprecated in v3.0.0. This feature will be removed in v6.0.0. See https://github.com/optuna/optuna/releases/tag/v3.0.0. Use suggest_float(..., log=True) instead.\n",
      "  'gamma': trial.suggest_loguniform('gamma', 1e-8, 1.0),\n",
      "/var/folders/xh/fvvnghrs13n5sqcsmprbn_c80000gn/T/ipykernel_94415/2153949471.py:14: FutureWarning: suggest_loguniform has been deprecated in v3.0.0. This feature will be removed in v6.0.0. See https://github.com/optuna/optuna/releases/tag/v3.0.0. Use suggest_float(..., log=True) instead.\n",
      "  'reg_alpha': trial.suggest_loguniform('reg_alpha', 1e-8, 10.0),\n",
      "/var/folders/xh/fvvnghrs13n5sqcsmprbn_c80000gn/T/ipykernel_94415/2153949471.py:15: FutureWarning: suggest_loguniform has been deprecated in v3.0.0. This feature will be removed in v6.0.0. See https://github.com/optuna/optuna/releases/tag/v3.0.0. Use suggest_float(..., log=True) instead.\n",
      "  'reg_lambda': trial.suggest_loguniform('reg_lambda', 1e-8, 10.0)\n",
      "[I 2024-11-20 18:45:28,337] Trial 44 finished with value: 0.8505034893141866 and parameters: {'learning_rate': 0.024503806298006293, 'max_depth': 2, 'min_child_weight': 9, 'n_estimators': 189, 'subsample': 0.7790246966461004, 'colsample_bytree': 0.7386379294542416, 'gamma': 2.694687019530166e-07, 'reg_alpha': 1.5354828831710903e-06, 'reg_lambda': 5.6150111547865737e-08}. Best is trial 41 with value: 0.8530459514491904.\n",
      "/var/folders/xh/fvvnghrs13n5sqcsmprbn_c80000gn/T/ipykernel_94415/2153949471.py:7: FutureWarning: suggest_loguniform has been deprecated in v3.0.0. This feature will be removed in v6.0.0. See https://github.com/optuna/optuna/releases/tag/v3.0.0. Use suggest_float(..., log=True) instead.\n",
      "  'learning_rate': trial.suggest_loguniform('learning_rate', 0.005, 0.05),\n",
      "/var/folders/xh/fvvnghrs13n5sqcsmprbn_c80000gn/T/ipykernel_94415/2153949471.py:11: FutureWarning: suggest_uniform has been deprecated in v3.0.0. This feature will be removed in v6.0.0. See https://github.com/optuna/optuna/releases/tag/v3.0.0. Use suggest_float instead.\n",
      "  'subsample': trial.suggest_uniform('subsample', 0.5, 1.0),\n",
      "/var/folders/xh/fvvnghrs13n5sqcsmprbn_c80000gn/T/ipykernel_94415/2153949471.py:12: FutureWarning: suggest_uniform has been deprecated in v3.0.0. This feature will be removed in v6.0.0. See https://github.com/optuna/optuna/releases/tag/v3.0.0. Use suggest_float instead.\n",
      "  'colsample_bytree': trial.suggest_uniform('colsample_bytree', 0.6, 1.0),\n",
      "/var/folders/xh/fvvnghrs13n5sqcsmprbn_c80000gn/T/ipykernel_94415/2153949471.py:13: FutureWarning: suggest_loguniform has been deprecated in v3.0.0. This feature will be removed in v6.0.0. See https://github.com/optuna/optuna/releases/tag/v3.0.0. Use suggest_float(..., log=True) instead.\n",
      "  'gamma': trial.suggest_loguniform('gamma', 1e-8, 1.0),\n",
      "/var/folders/xh/fvvnghrs13n5sqcsmprbn_c80000gn/T/ipykernel_94415/2153949471.py:14: FutureWarning: suggest_loguniform has been deprecated in v3.0.0. This feature will be removed in v6.0.0. See https://github.com/optuna/optuna/releases/tag/v3.0.0. Use suggest_float(..., log=True) instead.\n",
      "  'reg_alpha': trial.suggest_loguniform('reg_alpha', 1e-8, 10.0),\n",
      "/var/folders/xh/fvvnghrs13n5sqcsmprbn_c80000gn/T/ipykernel_94415/2153949471.py:15: FutureWarning: suggest_loguniform has been deprecated in v3.0.0. This feature will be removed in v6.0.0. See https://github.com/optuna/optuna/releases/tag/v3.0.0. Use suggest_float(..., log=True) instead.\n",
      "  'reg_lambda': trial.suggest_loguniform('reg_lambda', 1e-8, 10.0)\n",
      "[I 2024-11-20 18:45:28,749] Trial 45 finished with value: 0.8525012218355613 and parameters: {'learning_rate': 0.029125980303773277, 'max_depth': 2, 'min_child_weight': 8, 'n_estimators': 238, 'subsample': 0.83241943900209, 'colsample_bytree': 0.7106027470782944, 'gamma': 2.930685459636158e-08, 'reg_alpha': 4.5204872223409883e-07, 'reg_lambda': 4.475068236760833e-07}. Best is trial 41 with value: 0.8530459514491904.\n",
      "/var/folders/xh/fvvnghrs13n5sqcsmprbn_c80000gn/T/ipykernel_94415/2153949471.py:7: FutureWarning: suggest_loguniform has been deprecated in v3.0.0. This feature will be removed in v6.0.0. See https://github.com/optuna/optuna/releases/tag/v3.0.0. Use suggest_float(..., log=True) instead.\n",
      "  'learning_rate': trial.suggest_loguniform('learning_rate', 0.005, 0.05),\n",
      "/var/folders/xh/fvvnghrs13n5sqcsmprbn_c80000gn/T/ipykernel_94415/2153949471.py:11: FutureWarning: suggest_uniform has been deprecated in v3.0.0. This feature will be removed in v6.0.0. See https://github.com/optuna/optuna/releases/tag/v3.0.0. Use suggest_float instead.\n",
      "  'subsample': trial.suggest_uniform('subsample', 0.5, 1.0),\n",
      "/var/folders/xh/fvvnghrs13n5sqcsmprbn_c80000gn/T/ipykernel_94415/2153949471.py:12: FutureWarning: suggest_uniform has been deprecated in v3.0.0. This feature will be removed in v6.0.0. See https://github.com/optuna/optuna/releases/tag/v3.0.0. Use suggest_float instead.\n",
      "  'colsample_bytree': trial.suggest_uniform('colsample_bytree', 0.6, 1.0),\n",
      "/var/folders/xh/fvvnghrs13n5sqcsmprbn_c80000gn/T/ipykernel_94415/2153949471.py:13: FutureWarning: suggest_loguniform has been deprecated in v3.0.0. This feature will be removed in v6.0.0. See https://github.com/optuna/optuna/releases/tag/v3.0.0. Use suggest_float(..., log=True) instead.\n",
      "  'gamma': trial.suggest_loguniform('gamma', 1e-8, 1.0),\n",
      "/var/folders/xh/fvvnghrs13n5sqcsmprbn_c80000gn/T/ipykernel_94415/2153949471.py:14: FutureWarning: suggest_loguniform has been deprecated in v3.0.0. This feature will be removed in v6.0.0. See https://github.com/optuna/optuna/releases/tag/v3.0.0. Use suggest_float(..., log=True) instead.\n",
      "  'reg_alpha': trial.suggest_loguniform('reg_alpha', 1e-8, 10.0),\n",
      "/var/folders/xh/fvvnghrs13n5sqcsmprbn_c80000gn/T/ipykernel_94415/2153949471.py:15: FutureWarning: suggest_loguniform has been deprecated in v3.0.0. This feature will be removed in v6.0.0. See https://github.com/optuna/optuna/releases/tag/v3.0.0. Use suggest_float(..., log=True) instead.\n",
      "  'reg_lambda': trial.suggest_loguniform('reg_lambda', 1e-8, 10.0)\n",
      "[I 2024-11-20 18:45:29,423] Trial 46 finished with value: 0.8393769188095285 and parameters: {'learning_rate': 0.045294509504573664, 'max_depth': 3, 'min_child_weight': 10, 'n_estimators': 363, 'subsample': 0.6557091725578923, 'colsample_bytree': 0.7742892240463753, 'gamma': 1.1763368986151134e-07, 'reg_alpha': 1.2067592356486364e-07, 'reg_lambda': 2.2746125591410277e-06}. Best is trial 41 with value: 0.8530459514491904.\n",
      "/var/folders/xh/fvvnghrs13n5sqcsmprbn_c80000gn/T/ipykernel_94415/2153949471.py:7: FutureWarning: suggest_loguniform has been deprecated in v3.0.0. This feature will be removed in v6.0.0. See https://github.com/optuna/optuna/releases/tag/v3.0.0. Use suggest_float(..., log=True) instead.\n",
      "  'learning_rate': trial.suggest_loguniform('learning_rate', 0.005, 0.05),\n",
      "/var/folders/xh/fvvnghrs13n5sqcsmprbn_c80000gn/T/ipykernel_94415/2153949471.py:11: FutureWarning: suggest_uniform has been deprecated in v3.0.0. This feature will be removed in v6.0.0. See https://github.com/optuna/optuna/releases/tag/v3.0.0. Use suggest_float instead.\n",
      "  'subsample': trial.suggest_uniform('subsample', 0.5, 1.0),\n",
      "/var/folders/xh/fvvnghrs13n5sqcsmprbn_c80000gn/T/ipykernel_94415/2153949471.py:12: FutureWarning: suggest_uniform has been deprecated in v3.0.0. This feature will be removed in v6.0.0. See https://github.com/optuna/optuna/releases/tag/v3.0.0. Use suggest_float instead.\n",
      "  'colsample_bytree': trial.suggest_uniform('colsample_bytree', 0.6, 1.0),\n",
      "/var/folders/xh/fvvnghrs13n5sqcsmprbn_c80000gn/T/ipykernel_94415/2153949471.py:13: FutureWarning: suggest_loguniform has been deprecated in v3.0.0. This feature will be removed in v6.0.0. See https://github.com/optuna/optuna/releases/tag/v3.0.0. Use suggest_float(..., log=True) instead.\n",
      "  'gamma': trial.suggest_loguniform('gamma', 1e-8, 1.0),\n",
      "/var/folders/xh/fvvnghrs13n5sqcsmprbn_c80000gn/T/ipykernel_94415/2153949471.py:14: FutureWarning: suggest_loguniform has been deprecated in v3.0.0. This feature will be removed in v6.0.0. See https://github.com/optuna/optuna/releases/tag/v3.0.0. Use suggest_float(..., log=True) instead.\n",
      "  'reg_alpha': trial.suggest_loguniform('reg_alpha', 1e-8, 10.0),\n",
      "/var/folders/xh/fvvnghrs13n5sqcsmprbn_c80000gn/T/ipykernel_94415/2153949471.py:15: FutureWarning: suggest_loguniform has been deprecated in v3.0.0. This feature will be removed in v6.0.0. See https://github.com/optuna/optuna/releases/tag/v3.0.0. Use suggest_float(..., log=True) instead.\n",
      "  'reg_lambda': trial.suggest_loguniform('reg_lambda', 1e-8, 10.0)\n",
      "[I 2024-11-20 18:45:29,889] Trial 47 finished with value: 0.8503101020835757 and parameters: {'learning_rate': 0.03578013886481178, 'max_depth': 2, 'min_child_weight': 6, 'n_estimators': 330, 'subsample': 0.6022697973360421, 'colsample_bytree': 0.8522829320627606, 'gamma': 1.2880704299685235e-05, 'reg_alpha': 7.374538965113277, 'reg_lambda': 2.0261004202772036e-05}. Best is trial 41 with value: 0.8530459514491904.\n",
      "/var/folders/xh/fvvnghrs13n5sqcsmprbn_c80000gn/T/ipykernel_94415/2153949471.py:7: FutureWarning: suggest_loguniform has been deprecated in v3.0.0. This feature will be removed in v6.0.0. See https://github.com/optuna/optuna/releases/tag/v3.0.0. Use suggest_float(..., log=True) instead.\n",
      "  'learning_rate': trial.suggest_loguniform('learning_rate', 0.005, 0.05),\n",
      "/var/folders/xh/fvvnghrs13n5sqcsmprbn_c80000gn/T/ipykernel_94415/2153949471.py:11: FutureWarning: suggest_uniform has been deprecated in v3.0.0. This feature will be removed in v6.0.0. See https://github.com/optuna/optuna/releases/tag/v3.0.0. Use suggest_float instead.\n",
      "  'subsample': trial.suggest_uniform('subsample', 0.5, 1.0),\n",
      "/var/folders/xh/fvvnghrs13n5sqcsmprbn_c80000gn/T/ipykernel_94415/2153949471.py:12: FutureWarning: suggest_uniform has been deprecated in v3.0.0. This feature will be removed in v6.0.0. See https://github.com/optuna/optuna/releases/tag/v3.0.0. Use suggest_float instead.\n",
      "  'colsample_bytree': trial.suggest_uniform('colsample_bytree', 0.6, 1.0),\n",
      "/var/folders/xh/fvvnghrs13n5sqcsmprbn_c80000gn/T/ipykernel_94415/2153949471.py:13: FutureWarning: suggest_loguniform has been deprecated in v3.0.0. This feature will be removed in v6.0.0. See https://github.com/optuna/optuna/releases/tag/v3.0.0. Use suggest_float(..., log=True) instead.\n",
      "  'gamma': trial.suggest_loguniform('gamma', 1e-8, 1.0),\n",
      "/var/folders/xh/fvvnghrs13n5sqcsmprbn_c80000gn/T/ipykernel_94415/2153949471.py:14: FutureWarning: suggest_loguniform has been deprecated in v3.0.0. This feature will be removed in v6.0.0. See https://github.com/optuna/optuna/releases/tag/v3.0.0. Use suggest_float(..., log=True) instead.\n",
      "  'reg_alpha': trial.suggest_loguniform('reg_alpha', 1e-8, 10.0),\n",
      "/var/folders/xh/fvvnghrs13n5sqcsmprbn_c80000gn/T/ipykernel_94415/2153949471.py:15: FutureWarning: suggest_loguniform has been deprecated in v3.0.0. This feature will be removed in v6.0.0. See https://github.com/optuna/optuna/releases/tag/v3.0.0. Use suggest_float(..., log=True) instead.\n",
      "  'reg_lambda': trial.suggest_loguniform('reg_lambda', 1e-8, 10.0)\n",
      "[I 2024-11-20 18:45:30,283] Trial 48 finished with value: 0.7817471777412145 and parameters: {'learning_rate': 0.008675706023294885, 'max_depth': 4, 'min_child_weight': 5, 'n_estimators': 153, 'subsample': 0.8929316602512232, 'colsample_bytree': 0.7438299185171682, 'gamma': 5.704811809583558e-05, 'reg_alpha': 3.850659362806061e-08, 'reg_lambda': 0.0030776299007003994}. Best is trial 41 with value: 0.8530459514491904.\n",
      "/var/folders/xh/fvvnghrs13n5sqcsmprbn_c80000gn/T/ipykernel_94415/2153949471.py:7: FutureWarning: suggest_loguniform has been deprecated in v3.0.0. This feature will be removed in v6.0.0. See https://github.com/optuna/optuna/releases/tag/v3.0.0. Use suggest_float(..., log=True) instead.\n",
      "  'learning_rate': trial.suggest_loguniform('learning_rate', 0.005, 0.05),\n",
      "/var/folders/xh/fvvnghrs13n5sqcsmprbn_c80000gn/T/ipykernel_94415/2153949471.py:11: FutureWarning: suggest_uniform has been deprecated in v3.0.0. This feature will be removed in v6.0.0. See https://github.com/optuna/optuna/releases/tag/v3.0.0. Use suggest_float instead.\n",
      "  'subsample': trial.suggest_uniform('subsample', 0.5, 1.0),\n",
      "/var/folders/xh/fvvnghrs13n5sqcsmprbn_c80000gn/T/ipykernel_94415/2153949471.py:12: FutureWarning: suggest_uniform has been deprecated in v3.0.0. This feature will be removed in v6.0.0. See https://github.com/optuna/optuna/releases/tag/v3.0.0. Use suggest_float instead.\n",
      "  'colsample_bytree': trial.suggest_uniform('colsample_bytree', 0.6, 1.0),\n",
      "/var/folders/xh/fvvnghrs13n5sqcsmprbn_c80000gn/T/ipykernel_94415/2153949471.py:13: FutureWarning: suggest_loguniform has been deprecated in v3.0.0. This feature will be removed in v6.0.0. See https://github.com/optuna/optuna/releases/tag/v3.0.0. Use suggest_float(..., log=True) instead.\n",
      "  'gamma': trial.suggest_loguniform('gamma', 1e-8, 1.0),\n",
      "/var/folders/xh/fvvnghrs13n5sqcsmprbn_c80000gn/T/ipykernel_94415/2153949471.py:14: FutureWarning: suggest_loguniform has been deprecated in v3.0.0. This feature will be removed in v6.0.0. See https://github.com/optuna/optuna/releases/tag/v3.0.0. Use suggest_float(..., log=True) instead.\n",
      "  'reg_alpha': trial.suggest_loguniform('reg_alpha', 1e-8, 10.0),\n",
      "/var/folders/xh/fvvnghrs13n5sqcsmprbn_c80000gn/T/ipykernel_94415/2153949471.py:15: FutureWarning: suggest_loguniform has been deprecated in v3.0.0. This feature will be removed in v6.0.0. See https://github.com/optuna/optuna/releases/tag/v3.0.0. Use suggest_float(..., log=True) instead.\n",
      "  'reg_lambda': trial.suggest_loguniform('reg_lambda', 1e-8, 10.0)\n",
      "[I 2024-11-20 18:45:30,600] Trial 49 finished with value: 0.8521766986975607 and parameters: {'learning_rate': 0.026036157190219088, 'max_depth': 2, 'min_child_weight': 8, 'n_estimators': 202, 'subsample': 0.7429166894101934, 'colsample_bytree': 0.71843334027759, 'gamma': 2.713578480868489e-06, 'reg_alpha': 1.2858890419576787e-05, 'reg_lambda': 3.811895486304611e-07}. Best is trial 41 with value: 0.8530459514491904.\n"
     ]
    },
    {
     "data": {
      "text/html": [
       "<pre style=\"white-space:pre;overflow-x:auto;line-height:normal;font-family:Menlo,'DejaVu Sans Mono',consolas,'Courier New',monospace\"><span style=\"font-weight: bold\">{</span>\n",
       "    <span style=\"color: #008000; text-decoration-color: #008000\">'learning_rate'</span>: <span style=\"color: #008080; text-decoration-color: #008080; font-weight: bold\">0.03455758105995407</span>,\n",
       "    <span style=\"color: #008000; text-decoration-color: #008000\">'max_depth'</span>: <span style=\"color: #008080; text-decoration-color: #008080; font-weight: bold\">2</span>,\n",
       "    <span style=\"color: #008000; text-decoration-color: #008000\">'min_child_weight'</span>: <span style=\"color: #008080; text-decoration-color: #008080; font-weight: bold\">8</span>,\n",
       "    <span style=\"color: #008000; text-decoration-color: #008000\">'n_estimators'</span>: <span style=\"color: #008080; text-decoration-color: #008080; font-weight: bold\">240</span>,\n",
       "    <span style=\"color: #008000; text-decoration-color: #008000\">'subsample'</span>: <span style=\"color: #008080; text-decoration-color: #008080; font-weight: bold\">0.7114841909067261</span>,\n",
       "    <span style=\"color: #008000; text-decoration-color: #008000\">'colsample_bytree'</span>: <span style=\"color: #008080; text-decoration-color: #008080; font-weight: bold\">0.7745881347153389</span>,\n",
       "    <span style=\"color: #008000; text-decoration-color: #008000\">'gamma'</span>: <span style=\"color: #008080; text-decoration-color: #008080; font-weight: bold\">3.896183784253244e-05</span>,\n",
       "    <span style=\"color: #008000; text-decoration-color: #008000\">'reg_alpha'</span>: <span style=\"color: #008080; text-decoration-color: #008080; font-weight: bold\">1.2965542957936085e-07</span>,\n",
       "    <span style=\"color: #008000; text-decoration-color: #008000\">'reg_lambda'</span>: <span style=\"color: #008080; text-decoration-color: #008080; font-weight: bold\">5.094859878221357e-07</span>\n",
       "<span style=\"font-weight: bold\">}</span>\n",
       "</pre>\n"
      ],
      "text/plain": [
       "\u001b[1m{\u001b[0m\n",
       "    \u001b[32m'learning_rate'\u001b[0m: \u001b[1;36m0.03455758105995407\u001b[0m,\n",
       "    \u001b[32m'max_depth'\u001b[0m: \u001b[1;36m2\u001b[0m,\n",
       "    \u001b[32m'min_child_weight'\u001b[0m: \u001b[1;36m8\u001b[0m,\n",
       "    \u001b[32m'n_estimators'\u001b[0m: \u001b[1;36m240\u001b[0m,\n",
       "    \u001b[32m'subsample'\u001b[0m: \u001b[1;36m0.7114841909067261\u001b[0m,\n",
       "    \u001b[32m'colsample_bytree'\u001b[0m: \u001b[1;36m0.7745881347153389\u001b[0m,\n",
       "    \u001b[32m'gamma'\u001b[0m: \u001b[1;36m3.896183784253244e-05\u001b[0m,\n",
       "    \u001b[32m'reg_alpha'\u001b[0m: \u001b[1;36m1.2965542957936085e-07\u001b[0m,\n",
       "    \u001b[32m'reg_lambda'\u001b[0m: \u001b[1;36m5.094859878221357e-07\u001b[0m\n",
       "\u001b[1m}\u001b[0m\n"
      ]
     },
     "metadata": {},
     "output_type": "display_data"
    },
    {
     "data": {
      "text/html": [
       "<pre style=\"white-space:pre;overflow-x:auto;line-height:normal;font-family:Menlo,'DejaVu Sans Mono',consolas,'Courier New',monospace\"><span style=\"color: #800080; text-decoration-color: #800080; font-weight: bold\">FrozenTrial</span><span style=\"font-weight: bold\">(</span><span style=\"color: #808000; text-decoration-color: #808000\">number</span>=<span style=\"color: #008080; text-decoration-color: #008080; font-weight: bold\">41</span>, <span style=\"color: #808000; text-decoration-color: #808000\">state</span>=<span style=\"color: #008080; text-decoration-color: #008080; font-weight: bold\">1</span>, <span style=\"color: #808000; text-decoration-color: #808000\">values</span>=<span style=\"font-weight: bold\">[</span><span style=\"color: #008080; text-decoration-color: #008080; font-weight: bold\">0.8530459514491904</span><span style=\"font-weight: bold\">]</span>, <span style=\"color: #808000; text-decoration-color: #808000\">datetime_start</span>=<span style=\"color: #800080; text-decoration-color: #800080; font-weight: bold\">datetime</span><span style=\"color: #800080; text-decoration-color: #800080; font-weight: bold\">.datetime</span><span style=\"font-weight: bold\">(</span><span style=\"color: #008080; text-decoration-color: #008080; font-weight: bold\">2024</span>, <span style=\"color: #008080; text-decoration-color: #008080; font-weight: bold\">11</span>, <span style=\"color: #008080; text-decoration-color: #008080; font-weight: bold\">20</span>, <span style=\"color: #008080; text-decoration-color: #008080; font-weight: bold\">18</span>, <span style=\"color: #008080; text-decoration-color: #008080; font-weight: bold\">45</span>,\n",
       "<span style=\"color: #008080; text-decoration-color: #008080; font-weight: bold\">26</span>, <span style=\"color: #008080; text-decoration-color: #008080; font-weight: bold\">894623</span><span style=\"font-weight: bold\">)</span>, <span style=\"color: #808000; text-decoration-color: #808000\">datetime_complete</span>=<span style=\"color: #800080; text-decoration-color: #800080; font-weight: bold\">datetime</span><span style=\"color: #800080; text-decoration-color: #800080; font-weight: bold\">.datetime</span><span style=\"font-weight: bold\">(</span><span style=\"color: #008080; text-decoration-color: #008080; font-weight: bold\">2024</span>, <span style=\"color: #008080; text-decoration-color: #008080; font-weight: bold\">11</span>, <span style=\"color: #008080; text-decoration-color: #008080; font-weight: bold\">20</span>, <span style=\"color: #008080; text-decoration-color: #008080; font-weight: bold\">18</span>, <span style=\"color: #008080; text-decoration-color: #008080; font-weight: bold\">45</span>, <span style=\"color: #008080; text-decoration-color: #008080; font-weight: bold\">27</span>, <span style=\"color: #008080; text-decoration-color: #008080; font-weight: bold\">248920</span><span style=\"font-weight: bold\">)</span>, <span style=\"color: #808000; text-decoration-color: #808000\">params</span>=<span style=\"font-weight: bold\">{</span><span style=\"color: #008000; text-decoration-color: #008000\">'learning_rate'</span>: \n",
       "<span style=\"color: #008080; text-decoration-color: #008080; font-weight: bold\">0.03455758105995407</span>, <span style=\"color: #008000; text-decoration-color: #008000\">'max_depth'</span>: <span style=\"color: #008080; text-decoration-color: #008080; font-weight: bold\">2</span>, <span style=\"color: #008000; text-decoration-color: #008000\">'min_child_weight'</span>: <span style=\"color: #008080; text-decoration-color: #008080; font-weight: bold\">8</span>, <span style=\"color: #008000; text-decoration-color: #008000\">'n_estimators'</span>: <span style=\"color: #008080; text-decoration-color: #008080; font-weight: bold\">240</span>, <span style=\"color: #008000; text-decoration-color: #008000\">'subsample'</span>: <span style=\"color: #008080; text-decoration-color: #008080; font-weight: bold\">0.7114841909067261</span>, \n",
       "<span style=\"color: #008000; text-decoration-color: #008000\">'colsample_bytree'</span>: <span style=\"color: #008080; text-decoration-color: #008080; font-weight: bold\">0.7745881347153389</span>, <span style=\"color: #008000; text-decoration-color: #008000\">'gamma'</span>: <span style=\"color: #008080; text-decoration-color: #008080; font-weight: bold\">3.896183784253244e-05</span>, <span style=\"color: #008000; text-decoration-color: #008000\">'reg_alpha'</span>: <span style=\"color: #008080; text-decoration-color: #008080; font-weight: bold\">1.2965542957936085e-07</span>, \n",
       "<span style=\"color: #008000; text-decoration-color: #008000\">'reg_lambda'</span>: <span style=\"color: #008080; text-decoration-color: #008080; font-weight: bold\">5.094859878221357e-07</span><span style=\"font-weight: bold\">}</span>, <span style=\"color: #808000; text-decoration-color: #808000\">user_attrs</span>=<span style=\"font-weight: bold\">{}</span>, <span style=\"color: #808000; text-decoration-color: #808000\">system_attrs</span>=<span style=\"font-weight: bold\">{}</span>, <span style=\"color: #808000; text-decoration-color: #808000\">intermediate_values</span>=<span style=\"font-weight: bold\">{}</span>, \n",
       "<span style=\"color: #808000; text-decoration-color: #808000\">distributions</span>=<span style=\"font-weight: bold\">{</span><span style=\"color: #008000; text-decoration-color: #008000\">'learning_rate'</span>: <span style=\"color: #800080; text-decoration-color: #800080; font-weight: bold\">FloatDistribution</span><span style=\"font-weight: bold\">(</span><span style=\"color: #808000; text-decoration-color: #808000\">high</span>=<span style=\"color: #008080; text-decoration-color: #008080; font-weight: bold\">0.05</span>, <span style=\"color: #808000; text-decoration-color: #808000\">log</span>=<span style=\"color: #00ff00; text-decoration-color: #00ff00; font-style: italic\">True</span>, <span style=\"color: #808000; text-decoration-color: #808000\">low</span>=<span style=\"color: #008080; text-decoration-color: #008080; font-weight: bold\">0.005</span>, <span style=\"color: #808000; text-decoration-color: #808000\">step</span>=<span style=\"color: #800080; text-decoration-color: #800080; font-style: italic\">None</span><span style=\"font-weight: bold\">)</span>, <span style=\"color: #008000; text-decoration-color: #008000\">'max_depth'</span>: \n",
       "<span style=\"color: #800080; text-decoration-color: #800080; font-weight: bold\">IntDistribution</span><span style=\"font-weight: bold\">(</span><span style=\"color: #808000; text-decoration-color: #808000\">high</span>=<span style=\"color: #008080; text-decoration-color: #008080; font-weight: bold\">6</span>, <span style=\"color: #808000; text-decoration-color: #808000\">log</span>=<span style=\"color: #ff0000; text-decoration-color: #ff0000; font-style: italic\">False</span>, <span style=\"color: #808000; text-decoration-color: #808000\">low</span>=<span style=\"color: #008080; text-decoration-color: #008080; font-weight: bold\">2</span>, <span style=\"color: #808000; text-decoration-color: #808000\">step</span>=<span style=\"color: #008080; text-decoration-color: #008080; font-weight: bold\">1</span><span style=\"font-weight: bold\">)</span>, <span style=\"color: #008000; text-decoration-color: #008000\">'min_child_weight'</span>: <span style=\"color: #800080; text-decoration-color: #800080; font-weight: bold\">IntDistribution</span><span style=\"font-weight: bold\">(</span><span style=\"color: #808000; text-decoration-color: #808000\">high</span>=<span style=\"color: #008080; text-decoration-color: #008080; font-weight: bold\">10</span>, <span style=\"color: #808000; text-decoration-color: #808000\">log</span>=<span style=\"color: #ff0000; text-decoration-color: #ff0000; font-style: italic\">False</span>, <span style=\"color: #808000; text-decoration-color: #808000\">low</span>=<span style=\"color: #008080; text-decoration-color: #008080; font-weight: bold\">1</span>, \n",
       "<span style=\"color: #808000; text-decoration-color: #808000\">step</span>=<span style=\"color: #008080; text-decoration-color: #008080; font-weight: bold\">1</span><span style=\"font-weight: bold\">)</span>, <span style=\"color: #008000; text-decoration-color: #008000\">'n_estimators'</span>: <span style=\"color: #800080; text-decoration-color: #800080; font-weight: bold\">IntDistribution</span><span style=\"font-weight: bold\">(</span><span style=\"color: #808000; text-decoration-color: #808000\">high</span>=<span style=\"color: #008080; text-decoration-color: #008080; font-weight: bold\">500</span>, <span style=\"color: #808000; text-decoration-color: #808000\">log</span>=<span style=\"color: #ff0000; text-decoration-color: #ff0000; font-style: italic\">False</span>, <span style=\"color: #808000; text-decoration-color: #808000\">low</span>=<span style=\"color: #008080; text-decoration-color: #008080; font-weight: bold\">100</span>, <span style=\"color: #808000; text-decoration-color: #808000\">step</span>=<span style=\"color: #008080; text-decoration-color: #008080; font-weight: bold\">1</span><span style=\"font-weight: bold\">)</span>, <span style=\"color: #008000; text-decoration-color: #008000\">'subsample'</span>: \n",
       "<span style=\"color: #800080; text-decoration-color: #800080; font-weight: bold\">FloatDistribution</span><span style=\"font-weight: bold\">(</span><span style=\"color: #808000; text-decoration-color: #808000\">high</span>=<span style=\"color: #008080; text-decoration-color: #008080; font-weight: bold\">1.0</span>, <span style=\"color: #808000; text-decoration-color: #808000\">log</span>=<span style=\"color: #ff0000; text-decoration-color: #ff0000; font-style: italic\">False</span>, <span style=\"color: #808000; text-decoration-color: #808000\">low</span>=<span style=\"color: #008080; text-decoration-color: #008080; font-weight: bold\">0.5</span>, <span style=\"color: #808000; text-decoration-color: #808000\">step</span>=<span style=\"color: #800080; text-decoration-color: #800080; font-style: italic\">None</span><span style=\"font-weight: bold\">)</span>, <span style=\"color: #008000; text-decoration-color: #008000\">'colsample_bytree'</span>: <span style=\"color: #800080; text-decoration-color: #800080; font-weight: bold\">FloatDistribution</span><span style=\"font-weight: bold\">(</span><span style=\"color: #808000; text-decoration-color: #808000\">high</span>=<span style=\"color: #008080; text-decoration-color: #008080; font-weight: bold\">1.0</span>, \n",
       "<span style=\"color: #808000; text-decoration-color: #808000\">log</span>=<span style=\"color: #ff0000; text-decoration-color: #ff0000; font-style: italic\">False</span>, <span style=\"color: #808000; text-decoration-color: #808000\">low</span>=<span style=\"color: #008080; text-decoration-color: #008080; font-weight: bold\">0.6</span>, <span style=\"color: #808000; text-decoration-color: #808000\">step</span>=<span style=\"color: #800080; text-decoration-color: #800080; font-style: italic\">None</span><span style=\"font-weight: bold\">)</span>, <span style=\"color: #008000; text-decoration-color: #008000\">'gamma'</span>: <span style=\"color: #800080; text-decoration-color: #800080; font-weight: bold\">FloatDistribution</span><span style=\"font-weight: bold\">(</span><span style=\"color: #808000; text-decoration-color: #808000\">high</span>=<span style=\"color: #008080; text-decoration-color: #008080; font-weight: bold\">1.0</span>, <span style=\"color: #808000; text-decoration-color: #808000\">log</span>=<span style=\"color: #00ff00; text-decoration-color: #00ff00; font-style: italic\">True</span>, <span style=\"color: #808000; text-decoration-color: #808000\">low</span>=<span style=\"color: #008080; text-decoration-color: #008080; font-weight: bold\">1e-08</span>, <span style=\"color: #808000; text-decoration-color: #808000\">step</span>=<span style=\"color: #800080; text-decoration-color: #800080; font-style: italic\">None</span><span style=\"font-weight: bold\">)</span>, <span style=\"color: #008000; text-decoration-color: #008000\">'reg_alpha'</span>: \n",
       "<span style=\"color: #800080; text-decoration-color: #800080; font-weight: bold\">FloatDistribution</span><span style=\"font-weight: bold\">(</span><span style=\"color: #808000; text-decoration-color: #808000\">high</span>=<span style=\"color: #008080; text-decoration-color: #008080; font-weight: bold\">10.0</span>, <span style=\"color: #808000; text-decoration-color: #808000\">log</span>=<span style=\"color: #00ff00; text-decoration-color: #00ff00; font-style: italic\">True</span>, <span style=\"color: #808000; text-decoration-color: #808000\">low</span>=<span style=\"color: #008080; text-decoration-color: #008080; font-weight: bold\">1e-08</span>, <span style=\"color: #808000; text-decoration-color: #808000\">step</span>=<span style=\"color: #800080; text-decoration-color: #800080; font-style: italic\">None</span><span style=\"font-weight: bold\">)</span>, <span style=\"color: #008000; text-decoration-color: #008000\">'reg_lambda'</span>: <span style=\"color: #800080; text-decoration-color: #800080; font-weight: bold\">FloatDistribution</span><span style=\"font-weight: bold\">(</span><span style=\"color: #808000; text-decoration-color: #808000\">high</span>=<span style=\"color: #008080; text-decoration-color: #008080; font-weight: bold\">10.0</span>, <span style=\"color: #808000; text-decoration-color: #808000\">log</span>=<span style=\"color: #00ff00; text-decoration-color: #00ff00; font-style: italic\">True</span>, \n",
       "<span style=\"color: #808000; text-decoration-color: #808000\">low</span>=<span style=\"color: #008080; text-decoration-color: #008080; font-weight: bold\">1e-08</span>, <span style=\"color: #808000; text-decoration-color: #808000\">step</span>=<span style=\"color: #800080; text-decoration-color: #800080; font-style: italic\">None</span><span style=\"font-weight: bold\">)}</span>, <span style=\"color: #808000; text-decoration-color: #808000\">trial_id</span>=<span style=\"color: #008080; text-decoration-color: #008080; font-weight: bold\">42</span>, <span style=\"color: #808000; text-decoration-color: #808000\">value</span>=<span style=\"color: #800080; text-decoration-color: #800080; font-style: italic\">None</span><span style=\"font-weight: bold\">)</span>\n",
       "</pre>\n"
      ],
      "text/plain": [
       "\u001b[1;35mFrozenTrial\u001b[0m\u001b[1m(\u001b[0m\u001b[33mnumber\u001b[0m=\u001b[1;36m41\u001b[0m, \u001b[33mstate\u001b[0m=\u001b[1;36m1\u001b[0m, \u001b[33mvalues\u001b[0m=\u001b[1m[\u001b[0m\u001b[1;36m0.8530459514491904\u001b[0m\u001b[1m]\u001b[0m, \u001b[33mdatetime_start\u001b[0m=\u001b[1;35mdatetime\u001b[0m\u001b[1;35m.datetime\u001b[0m\u001b[1m(\u001b[0m\u001b[1;36m2024\u001b[0m, \u001b[1;36m11\u001b[0m, \u001b[1;36m20\u001b[0m, \u001b[1;36m18\u001b[0m, \u001b[1;36m45\u001b[0m,\n",
       "\u001b[1;36m26\u001b[0m, \u001b[1;36m894623\u001b[0m\u001b[1m)\u001b[0m, \u001b[33mdatetime_complete\u001b[0m=\u001b[1;35mdatetime\u001b[0m\u001b[1;35m.datetime\u001b[0m\u001b[1m(\u001b[0m\u001b[1;36m2024\u001b[0m, \u001b[1;36m11\u001b[0m, \u001b[1;36m20\u001b[0m, \u001b[1;36m18\u001b[0m, \u001b[1;36m45\u001b[0m, \u001b[1;36m27\u001b[0m, \u001b[1;36m248920\u001b[0m\u001b[1m)\u001b[0m, \u001b[33mparams\u001b[0m=\u001b[1m{\u001b[0m\u001b[32m'learning_rate'\u001b[0m: \n",
       "\u001b[1;36m0.03455758105995407\u001b[0m, \u001b[32m'max_depth'\u001b[0m: \u001b[1;36m2\u001b[0m, \u001b[32m'min_child_weight'\u001b[0m: \u001b[1;36m8\u001b[0m, \u001b[32m'n_estimators'\u001b[0m: \u001b[1;36m240\u001b[0m, \u001b[32m'subsample'\u001b[0m: \u001b[1;36m0.7114841909067261\u001b[0m, \n",
       "\u001b[32m'colsample_bytree'\u001b[0m: \u001b[1;36m0.7745881347153389\u001b[0m, \u001b[32m'gamma'\u001b[0m: \u001b[1;36m3.896183784253244e-05\u001b[0m, \u001b[32m'reg_alpha'\u001b[0m: \u001b[1;36m1.2965542957936085e-07\u001b[0m, \n",
       "\u001b[32m'reg_lambda'\u001b[0m: \u001b[1;36m5.094859878221357e-07\u001b[0m\u001b[1m}\u001b[0m, \u001b[33muser_attrs\u001b[0m=\u001b[1m{\u001b[0m\u001b[1m}\u001b[0m, \u001b[33msystem_attrs\u001b[0m=\u001b[1m{\u001b[0m\u001b[1m}\u001b[0m, \u001b[33mintermediate_values\u001b[0m=\u001b[1m{\u001b[0m\u001b[1m}\u001b[0m, \n",
       "\u001b[33mdistributions\u001b[0m=\u001b[1m{\u001b[0m\u001b[32m'learning_rate'\u001b[0m: \u001b[1;35mFloatDistribution\u001b[0m\u001b[1m(\u001b[0m\u001b[33mhigh\u001b[0m=\u001b[1;36m0\u001b[0m\u001b[1;36m.05\u001b[0m, \u001b[33mlog\u001b[0m=\u001b[3;92mTrue\u001b[0m, \u001b[33mlow\u001b[0m=\u001b[1;36m0\u001b[0m\u001b[1;36m.005\u001b[0m, \u001b[33mstep\u001b[0m=\u001b[3;35mNone\u001b[0m\u001b[1m)\u001b[0m, \u001b[32m'max_depth'\u001b[0m: \n",
       "\u001b[1;35mIntDistribution\u001b[0m\u001b[1m(\u001b[0m\u001b[33mhigh\u001b[0m=\u001b[1;36m6\u001b[0m, \u001b[33mlog\u001b[0m=\u001b[3;91mFalse\u001b[0m, \u001b[33mlow\u001b[0m=\u001b[1;36m2\u001b[0m, \u001b[33mstep\u001b[0m=\u001b[1;36m1\u001b[0m\u001b[1m)\u001b[0m, \u001b[32m'min_child_weight'\u001b[0m: \u001b[1;35mIntDistribution\u001b[0m\u001b[1m(\u001b[0m\u001b[33mhigh\u001b[0m=\u001b[1;36m10\u001b[0m, \u001b[33mlog\u001b[0m=\u001b[3;91mFalse\u001b[0m, \u001b[33mlow\u001b[0m=\u001b[1;36m1\u001b[0m, \n",
       "\u001b[33mstep\u001b[0m=\u001b[1;36m1\u001b[0m\u001b[1m)\u001b[0m, \u001b[32m'n_estimators'\u001b[0m: \u001b[1;35mIntDistribution\u001b[0m\u001b[1m(\u001b[0m\u001b[33mhigh\u001b[0m=\u001b[1;36m500\u001b[0m, \u001b[33mlog\u001b[0m=\u001b[3;91mFalse\u001b[0m, \u001b[33mlow\u001b[0m=\u001b[1;36m100\u001b[0m, \u001b[33mstep\u001b[0m=\u001b[1;36m1\u001b[0m\u001b[1m)\u001b[0m, \u001b[32m'subsample'\u001b[0m: \n",
       "\u001b[1;35mFloatDistribution\u001b[0m\u001b[1m(\u001b[0m\u001b[33mhigh\u001b[0m=\u001b[1;36m1\u001b[0m\u001b[1;36m.0\u001b[0m, \u001b[33mlog\u001b[0m=\u001b[3;91mFalse\u001b[0m, \u001b[33mlow\u001b[0m=\u001b[1;36m0\u001b[0m\u001b[1;36m.5\u001b[0m, \u001b[33mstep\u001b[0m=\u001b[3;35mNone\u001b[0m\u001b[1m)\u001b[0m, \u001b[32m'colsample_bytree'\u001b[0m: \u001b[1;35mFloatDistribution\u001b[0m\u001b[1m(\u001b[0m\u001b[33mhigh\u001b[0m=\u001b[1;36m1\u001b[0m\u001b[1;36m.0\u001b[0m, \n",
       "\u001b[33mlog\u001b[0m=\u001b[3;91mFalse\u001b[0m, \u001b[33mlow\u001b[0m=\u001b[1;36m0\u001b[0m\u001b[1;36m.6\u001b[0m, \u001b[33mstep\u001b[0m=\u001b[3;35mNone\u001b[0m\u001b[1m)\u001b[0m, \u001b[32m'gamma'\u001b[0m: \u001b[1;35mFloatDistribution\u001b[0m\u001b[1m(\u001b[0m\u001b[33mhigh\u001b[0m=\u001b[1;36m1\u001b[0m\u001b[1;36m.0\u001b[0m, \u001b[33mlog\u001b[0m=\u001b[3;92mTrue\u001b[0m, \u001b[33mlow\u001b[0m=\u001b[1;36m1e\u001b[0m\u001b[1;36m-08\u001b[0m, \u001b[33mstep\u001b[0m=\u001b[3;35mNone\u001b[0m\u001b[1m)\u001b[0m, \u001b[32m'reg_alpha'\u001b[0m: \n",
       "\u001b[1;35mFloatDistribution\u001b[0m\u001b[1m(\u001b[0m\u001b[33mhigh\u001b[0m=\u001b[1;36m10\u001b[0m\u001b[1;36m.0\u001b[0m, \u001b[33mlog\u001b[0m=\u001b[3;92mTrue\u001b[0m, \u001b[33mlow\u001b[0m=\u001b[1;36m1e\u001b[0m\u001b[1;36m-08\u001b[0m, \u001b[33mstep\u001b[0m=\u001b[3;35mNone\u001b[0m\u001b[1m)\u001b[0m, \u001b[32m'reg_lambda'\u001b[0m: \u001b[1;35mFloatDistribution\u001b[0m\u001b[1m(\u001b[0m\u001b[33mhigh\u001b[0m=\u001b[1;36m10\u001b[0m\u001b[1;36m.0\u001b[0m, \u001b[33mlog\u001b[0m=\u001b[3;92mTrue\u001b[0m, \n",
       "\u001b[33mlow\u001b[0m=\u001b[1;36m1e\u001b[0m\u001b[1;36m-08\u001b[0m, \u001b[33mstep\u001b[0m=\u001b[3;35mNone\u001b[0m\u001b[1m)\u001b[0m\u001b[1m}\u001b[0m, \u001b[33mtrial_id\u001b[0m=\u001b[1;36m42\u001b[0m, \u001b[33mvalue\u001b[0m=\u001b[3;35mNone\u001b[0m\u001b[1m)\u001b[0m\n"
      ]
     },
     "metadata": {},
     "output_type": "display_data"
    }
   ],
   "source": [
    "import optuna\n",
    "from sklearn.model_selection import cross_val_score\n",
    "\n",
    "\n",
    "def objective(trial):\n",
    "\n",
    "    params = {\n",
    "        \"learning_rate\": trial.suggest_loguniform(\"learning_rate\", 0.005, 0.05),\n",
    "        \"max_depth\": trial.suggest_int(\"max_depth\", 2, 6),\n",
    "        \"min_child_weight\": trial.suggest_int(\"min_child_weight\", 1, 10),\n",
    "        \"n_estimators\": trial.suggest_int(\"n_estimators\", 100, 500),\n",
    "        \"subsample\": trial.suggest_uniform(\"subsample\", 0.5, 1.0),\n",
    "        \"colsample_bytree\": trial.suggest_uniform(\"colsample_bytree\", 0.6, 1.0),\n",
    "        \"gamma\": trial.suggest_loguniform(\"gamma\", 1e-8, 1.0),\n",
    "        \"reg_alpha\": trial.suggest_loguniform(\"reg_alpha\", 1e-8, 10.0),\n",
    "        \"reg_lambda\": trial.suggest_loguniform(\"reg_lambda\", 1e-8, 10.0),\n",
    "    }\n",
    "\n",
    "    model = XGBRegressor(**params)\n",
    "    score = cross_val_score(model, X_train, y_train, cv=3, scoring=\"r2\")\n",
    "    return score.mean()\n",
    "\n",
    "\n",
    "# Run the optimization\n",
    "study = optuna.create_study(\n",
    "    direction=\"maximize\", storage=\"sqlite:///XGBR_study.db\", study_name=\"XGBR_study\"\n",
    ")  # Create thw  study and save to a db\n",
    "study.optimize(objective, n_trials=50)\n",
    "\n",
    "# Best parameters\n",
    "print(study.best_params)\n",
    "print(study.best_trial)"
   ]
  },
  {
   "cell_type": "markdown",
   "metadata": {},
   "source": [
    "Best Hyperparameters: {'colsample_bytree': 1.0, 'learning_rate': 0.01, 'max_depth': 3, 'min_child_weight': 5, \n",
    "'n_estimators': 300, 'subsample': 0.8}"
   ]
  },
  {
   "cell_type": "markdown",
   "metadata": {},
   "source": [
    "### Decision tree regressor Gridsearch CV"
   ]
  },
  {
   "cell_type": "code",
   "execution_count": null,
   "metadata": {},
   "outputs": [],
   "source": [
    "\"\"\"param_grid = {\n",
    "    'max_depth': [None, 5, 10, 20, 30],\n",
    "    'min_samples_split': [2, 5, 10, 20],\n",
    "    'min_samples_leaf': [1, 5, 10, 20],\n",
    "    'max_features': [None, 'sqrt', 'log2'],\n",
    "    'max_leaf_nodes': [None, 10, 20, 50],\n",
    "    'criterion': ['squared_error', 'friedman_mse', 'absolute_error']\n",
    "}\n",
    "# Create an XGBoost model\n",
    "dtr_model = DecisionTreeRegressor()\n",
    " \n",
    "# Perform GridSearchCV\n",
    "grid_search = GridSearchCV(dtr_model, param_grid, cv=5, scoring='r2')\n",
    "grid_search.fit(X_train, y_train)\n",
    " \n",
    "# Get the best hyperparameters\n",
    "best_params = grid_search.best_params_\n",
    " \n",
    "# Fit the model with the best hyperparameters on the entire dataset\n",
    "best_model = grid_search.best_estimator_\n",
    "best_model.fit(X_train, y_train)\n",
    " \n",
    "# Evaluate the best model on the test set\n",
    "r2 = best_model.score(X_test, y_test)\n",
    "print(f\"Best Hyperparameters: {best_params}\")\n",
    "print(f\"R2 on test set: {r2:.2f}\")\"\"\""
   ]
  },
  {
   "cell_type": "markdown",
   "metadata": {},
   "source": [
    "### LGBMRegressor Gridsearch CV"
   ]
  },
  {
   "cell_type": "code",
   "execution_count": null,
   "metadata": {},
   "outputs": [],
   "source": [
    "\"\"\"param_grid = {\n",
    "    'n_estimators': [100, 200, 500, 1000],\n",
    "    'learning_rate': [0.01, 0.05, 0.1, 0.2],\n",
    "    'max_depth': [3, 5, 7, 10, -1],\n",
    "    'num_leaves': [15, 31, 63, 127],\n",
    "    'min_child_samples': [10, 20, 50, 100],\n",
    "    'min_child_weight': [1e-5, 1e-3, 1e-2, 0.1],\n",
    "    'subsample': [0.6, 0.8, 1.0],\n",
    "    'colsample_bytree': [0.6, 0.8, 1.0],\n",
    "    'reg_alpha': [0, 0.1, 1, 10],\n",
    "    'reg_lambda': [0, 0.1, 1, 10],\n",
    "}\n",
    " \n",
    "# Create an XGBoost model\n",
    "lgb_model = LGBMRegressor()\n",
    " \n",
    "# Perform GridSearchCV\n",
    "grid_search = GridSearchCV(lgb_model, param_grid, cv=5, scoring='r2')\n",
    "grid_search.fit(X_train, y_train)\n",
    " \n",
    "# Get the best hyperparameters\n",
    "best_params = grid_search.best_params_\n",
    " \n",
    "# Fit the model with the best hyperparameters on the entire dataset\n",
    "best_model = grid_search.best_estimator_\n",
    "best_model.fit(X_train, y_train)\n",
    " \n",
    "# Evaluate the best model on the test set\n",
    "r2 = best_model.score(X_test, y_test)\n",
    "print(f\"Best Hyperparameters: {best_params}\")\n",
    "print(f\"Accuracy on test set: {r2:.2f}\")\"\"\""
   ]
  },
  {
   "cell_type": "code",
   "execution_count": null,
   "metadata": {},
   "outputs": [],
   "source": []
  },
  {
   "cell_type": "code",
   "execution_count": null,
   "metadata": {},
   "outputs": [],
   "source": []
  }
 ],
 "metadata": {
  "kernelspec": {
   "display_name": ".venv",
   "language": "python",
   "name": "python3"
  },
  "language_info": {
   "codemirror_mode": {
    "name": "ipython",
    "version": 3
   },
   "file_extension": ".py",
   "mimetype": "text/x-python",
   "name": "python",
   "nbconvert_exporter": "python",
   "pygments_lexer": "ipython3",
   "version": "3.12.4"
  }
 },
 "nbformat": 4,
 "nbformat_minor": 2
}
